{
 "cells": [
  {
   "cell_type": "code",
   "execution_count": 4,
   "id": "ccfe785c",
   "metadata": {},
   "outputs": [],
   "source": [
    "def middle(Node):\n",
    "    if not node:\n",
    "        return node\n",
    "    else:\n",
    "        mid=head+tail/2\n",
    "        i=0\n",
    "        while(i==mid):\n",
    "            return i"
   ]
  },
  {
   "cell_type": "code",
   "execution_count": 77,
   "id": "71855e52",
   "metadata": {},
   "outputs": [],
   "source": [
    "class Node:\n",
    "    def __init__(self,data=None,next=None):\n",
    "        self.data=data\n",
    "        self.next=next\n",
    "        ## method to set the data value\n",
    "    def setData(self,data):\n",
    "            self.data=data\n",
    "            ## method to get the data value\n",
    "    def getData(self,data):\n",
    "                return self.data\n",
    "            ## method of set the next\n",
    "    def setNext(self,next):\n",
    "                self.next=next\n",
    "                ## method to get the next\n",
    "    def getNext(self):\n",
    "                return self.next\n",
    "        \n",
    "        \n",
    "        "
   ]
  },
  {
   "cell_type": "code",
   "execution_count": 78,
   "id": "17fa4195",
   "metadata": {},
   "outputs": [],
   "source": [
    "head=Node(1)\n",
    "node2=Node(2)\n",
    "node3=Node(3)\n",
    "node4=Node(4)\n",
    "node5=Node(5)\n",
    "\n",
    "\n",
    "\n",
    "head.setNext(node2)\n",
    "node2.setNext(node3)\n",
    "node3.setNext(node4)\n",
    "node4.setNext(node5)"
   ]
  },
  {
   "cell_type": "code",
   "execution_count": 79,
   "id": "ffd27a99",
   "metadata": {},
   "outputs": [],
   "source": [
    "def travers(head):\n",
    "    temp=head\n",
    "    while(temp):\n",
    "        print(temp.getData(head),end=\" \")\n",
    "        temp=temp.getNext()"
   ]
  },
  {
   "cell_type": "code",
   "execution_count": 80,
   "id": "1ff9c94a",
   "metadata": {},
   "outputs": [
    {
     "name": "stdout",
     "output_type": "stream",
     "text": [
      "1 2 3 4 5 None\n"
     ]
    }
   ],
   "source": [
    "print(travers(head))"
   ]
  },
  {
   "cell_type": "code",
   "execution_count": 81,
   "id": "8082b285",
   "metadata": {},
   "outputs": [],
   "source": [
    "def traversRec(head):\n",
    "    if not head:\n",
    "        return\n",
    "    print(head.getData(head),end=\" \")\n",
    "    traversRec(head.getNext())\n",
    "    "
   ]
  },
  {
   "cell_type": "code",
   "execution_count": 82,
   "id": "f8740855",
   "metadata": {},
   "outputs": [
    {
     "name": "stdout",
     "output_type": "stream",
     "text": [
      "1 2 3 4 5 "
     ]
    }
   ],
   "source": [
    "traversRec(head)"
   ]
  },
  {
   "cell_type": "code",
   "execution_count": 83,
   "id": "c687de4e",
   "metadata": {},
   "outputs": [],
   "source": [
    "##find the length of nodes\n",
    "def length(head):\n",
    "    temp=head\n",
    "    len=0\n",
    "    while(temp):\n",
    "        len=len+1\n",
    "        temp=temp.getNext()\n",
    "    return len"
   ]
  },
  {
   "cell_type": "code",
   "execution_count": 84,
   "id": "d177fe7e",
   "metadata": {},
   "outputs": [
    {
     "name": "stdout",
     "output_type": "stream",
     "text": [
      "5\n"
     ]
    }
   ],
   "source": [
    "print(length(head))"
   ]
  },
  {
   "cell_type": "code",
   "execution_count": 85,
   "id": "c793981f",
   "metadata": {},
   "outputs": [],
   "source": [
    "def lengthrec(head):\n",
    "    if not head:\n",
    "        return 0\n",
    "    return 1+lengthrec(head.getNext())"
   ]
  },
  {
   "cell_type": "code",
   "execution_count": 86,
   "id": "6caa07e5",
   "metadata": {},
   "outputs": [
    {
     "name": "stdout",
     "output_type": "stream",
     "text": [
      "5\n"
     ]
    }
   ],
   "source": [
    "print(lengthrec(head))\n"
   ]
  },
  {
   "cell_type": "markdown",
   "id": "e272d61e",
   "metadata": {},
   "source": [
    "## Insertion"
   ]
  },
  {
   "cell_type": "code",
   "execution_count": 87,
   "id": "049b8e64",
   "metadata": {},
   "outputs": [],
   "source": [
    "def insertion(head,data,k):\n",
    "    # if k is valid\n",
    "    if (k>length(head) or k<0):\n",
    "        print(\"its not valid place\")\n",
    "        return head\n",
    "    # create a new node for ll\n",
    "    newnode=Node(data)\n",
    "    if k==0:\n",
    "        newnode.setNext(head)\n",
    "        head=newnode\n",
    "    else:\n",
    "        prev=head\n",
    "        i=0\n",
    "        while(i<k-1):\n",
    "            prev= prev.getNext()\n",
    "            i=i+1\n",
    "        newnode.setNext(prev.getNext())\n",
    "        prev.setNext(newnode)\n",
    "        return head\n",
    "            \n",
    "    \n",
    "    "
   ]
  },
  {
   "cell_type": "code",
   "execution_count": 88,
   "id": "000a711e",
   "metadata": {},
   "outputs": [],
   "source": [
    "head = Node(1)\n",
    "node2 = Node(2)\n",
    "node3 = Node(3)\n",
    "node4 = Node(4)\n",
    "node5 = Node(5)\n"
   ]
  },
  {
   "cell_type": "code",
   "execution_count": 89,
   "id": "030d7e0a",
   "metadata": {},
   "outputs": [],
   "source": [
    "head.setNext(node2)\n",
    "node2.setNext(node3)\n",
    "node3.setNext(node4)\n",
    "node4.setNext(node5)"
   ]
  },
  {
   "cell_type": "code",
   "execution_count": 90,
   "id": "544254dc",
   "metadata": {},
   "outputs": [
    {
     "name": "stdout",
     "output_type": "stream",
     "text": [
      "1 2 3 4 5 "
     ]
    }
   ],
   "source": [
    "travers(head)"
   ]
  },
  {
   "cell_type": "code",
   "execution_count": 91,
   "id": "bb604b82",
   "metadata": {},
   "outputs": [],
   "source": [
    "head=insertion(head,8,3)"
   ]
  },
  {
   "cell_type": "code",
   "execution_count": 92,
   "id": "3ff0b036",
   "metadata": {},
   "outputs": [
    {
     "name": "stdout",
     "output_type": "stream",
     "text": [
      "1 2 3 8 4 5 "
     ]
    }
   ],
   "source": [
    "travers(head)"
   ]
  },
  {
   "cell_type": "markdown",
   "id": "de5817ad",
   "metadata": {},
   "source": [
    "## deletion"
   ]
  },
  {
   "cell_type": "code",
   "execution_count": 93,
   "id": "e01f1f5d",
   "metadata": {},
   "outputs": [],
   "source": [
    "def remove(head,k):\n",
    "    if (k>length(head) or k<0 or not head):\n",
    "        return head\n",
    "    if (k==0):\n",
    "        head=head.getNext()\n",
    "    else:\n",
    "        i=0\n",
    "        prev=head\n",
    "        while(i<k-1):\n",
    "            prev=prev.getNext()\n",
    "            i=i+1\n",
    "            prev.setNext(prev.getNext().getNext()) \n",
    "            return head"
   ]
  },
  {
   "cell_type": "code",
   "execution_count": 94,
   "id": "273951c2",
   "metadata": {},
   "outputs": [
    {
     "name": "stdout",
     "output_type": "stream",
     "text": [
      "1 2 3 8 4 5 "
     ]
    }
   ],
   "source": [
    "travers(head)\n",
    "head=remove(head,3)"
   ]
  },
  {
   "cell_type": "code",
   "execution_count": 95,
   "id": "2c40522d",
   "metadata": {},
   "outputs": [
    {
     "name": "stdout",
     "output_type": "stream",
     "text": [
      "1 2 8 4 5 "
     ]
    }
   ],
   "source": [
    "travers(head)"
   ]
  },
  {
   "cell_type": "markdown",
   "id": "fa46a208",
   "metadata": {},
   "source": [
    "## find the middle ele in the linkedlist"
   ]
  },
  {
   "cell_type": "code",
   "execution_count": 96,
   "id": "6e176aee",
   "metadata": {},
   "outputs": [],
   "source": [
    "def findmidpoint(head):\n",
    "    slow=head\n",
    "    fast=head\n",
    "    while(fast!=None and fast.getNext()!=None):\n",
    "        slow=slow.getNext()\n",
    "        fast=fast.getNext().getNext()\n",
    "        \n",
    "    return slow.getData(head)\n",
    "\n",
    "\n",
    "\n",
    "    "
   ]
  },
  {
   "cell_type": "code",
   "execution_count": 97,
   "id": "573f8669",
   "metadata": {},
   "outputs": [],
   "source": [
    "head = Node(1)\n",
    "node2 = Node(2)\n",
    "node3 = Node(3)\n",
    "node4 = Node(4)\n",
    "node5 = Node(5)\n",
    "node6 = Node(6)\n",
    "\n",
    "#Creating the linkage\n",
    "head.setNext(node2)\n",
    "node2.setNext(node3)\n",
    "node3.setNext(node4)\n",
    "node4.setNext(node5)\n",
    "node5.setNext(node6)"
   ]
  },
  {
   "cell_type": "code",
   "execution_count": 98,
   "id": "c55eae20",
   "metadata": {},
   "outputs": [
    {
     "name": "stdout",
     "output_type": "stream",
     "text": [
      "1 2 3 4 5 6 "
     ]
    }
   ],
   "source": [
    "travers(head)"
   ]
  },
  {
   "cell_type": "code",
   "execution_count": 99,
   "id": "6d144a5f",
   "metadata": {},
   "outputs": [
    {
     "name": "stdout",
     "output_type": "stream",
     "text": [
      "4\n"
     ]
    }
   ],
   "source": [
    "print(findmidpoint(head))"
   ]
  },
  {
   "cell_type": "code",
   "execution_count": 100,
   "id": "f9fde370",
   "metadata": {},
   "outputs": [],
   "source": [
    "## detect the cycle in the loop\n",
    "def iscyclepresent(head):\n",
    "    slow=head\n",
    "    fast=head\n",
    "    \n",
    "    while(fast and fast.getNext()):\n",
    "        slow=slow.getNext()\n",
    "        fast=fast.getNext().getNext()\n",
    "       \n",
    "        if fast and slow.getData(head)== fast.getData(head):\n",
    "            return True\n",
    "    return False\n",
    "        \n"
   ]
  },
  {
   "cell_type": "code",
   "execution_count": 101,
   "id": "7cbc6659",
   "metadata": {},
   "outputs": [
    {
     "name": "stdout",
     "output_type": "stream",
     "text": [
      "True\n"
     ]
    }
   ],
   "source": [
    "head = Node(1)\n",
    "node2 = Node(2)\n",
    "node3 = Node(3)\n",
    "node4 = Node(4)\n",
    "node5 = Node(5)\n",
    "node6 = Node(6)\n",
    "\n",
    "#Creating the linkage\n",
    "head.setNext(node2)\n",
    "node2.setNext(node3)\n",
    "node3.setNext(node4)\n",
    "node4.setNext(node5)\n",
    "node5.setNext(node6)\n",
    "node6.setNext(node3)\n",
    "\n",
    "\n",
    "print(iscyclepresent(head))"
   ]
  },
  {
   "cell_type": "code",
   "execution_count": 102,
   "id": "f72937d7",
   "metadata": {},
   "outputs": [],
   "source": [
    "\n",
    "## find the starting point of the loop"
   ]
  },
  {
   "cell_type": "code",
   "execution_count": 111,
   "id": "822167b3",
   "metadata": {},
   "outputs": [],
   "source": [
    "def startingpointcycle(head):\n",
    "    slow=head\n",
    "    fast=head\n",
    "    iscyclepresent=False\n",
    "    while(fast and fast.getNext()):\n",
    "        slow=slow.getNext()\n",
    "        fast=fast.getNext().getNext()\n",
    "        \n",
    "        \n",
    "        if(fast and slow.getData(head)==fast.getData(head)):\n",
    "            iscyclepresent =True\n",
    "            break\n",
    "            \n",
    "    if not iscyclepresent:\n",
    "        return None\n",
    "    temp=head\n",
    "    while(temp.getData(head)!=slow.getData(head)):\n",
    "        temp=temp.getNext()\n",
    "        slow=slow.getNext()\n",
    "        \n",
    "    return temp.getData(head)  \n",
    "        "
   ]
  },
  {
   "cell_type": "code",
   "execution_count": 112,
   "id": "ed8b400b",
   "metadata": {},
   "outputs": [
    {
     "name": "stdout",
     "output_type": "stream",
     "text": [
      "3\n"
     ]
    }
   ],
   "source": [
    "print(startingpointcycle(head))"
   ]
  },
  {
   "cell_type": "code",
   "execution_count": null,
   "id": "e8e65939",
   "metadata": {},
   "outputs": [],
   "source": []
  },
  {
   "cell_type": "code",
   "execution_count": null,
   "id": "52ba2ab3",
   "metadata": {},
   "outputs": [],
   "source": []
  }
 ],
 "metadata": {
  "kernelspec": {
   "display_name": "Python 3 (ipykernel)",
   "language": "python",
   "name": "python3"
  },
  "language_info": {
   "codemirror_mode": {
    "name": "ipython",
    "version": 3
   },
   "file_extension": ".py",
   "mimetype": "text/x-python",
   "name": "python",
   "nbconvert_exporter": "python",
   "pygments_lexer": "ipython3",
   "version": "3.11.4"
  }
 },
 "nbformat": 4,
 "nbformat_minor": 5
}
