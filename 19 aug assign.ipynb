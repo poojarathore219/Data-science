{
 "cells": [
  {
   "cell_type": "code",
   "execution_count": 1,
   "id": "dec55ea9-2d4f-490c-952d-645acce31da1",
   "metadata": {
    "tags": []
   },
   "outputs": [
    {
     "name": "stdout",
     "output_type": "stream",
     "text": [
      "10\n",
      "5\n"
     ]
    }
   ],
   "source": [
    "x=5\n",
    "y=10\n",
    "x,y=y,x\n",
    "print(x)\n",
    "print(y)"
   ]
  },
  {
   "cell_type": "code",
   "execution_count": 1,
   "id": "3e6af89e-5edd-42b9-8470-5b2840a88455",
   "metadata": {},
   "outputs": [
    {
     "name": "stdin",
     "output_type": "stream",
     "text": [
      "enter the value x 5\n",
      "enter the value y 5\n"
     ]
    },
    {
     "name": "stdout",
     "output_type": "stream",
     "text": [
      "area of rectangle= 25\n"
     ]
    }
   ],
   "source": [
    "x= int(input(\"enter the value x\"))\n",
    "y=int(input(\"enter the value y\"))\n",
    "area= x*y\n",
    "print(\"area of rectangle=\",area)"
   ]
  },
  {
   "cell_type": "code",
   "execution_count": 1,
   "id": "2a59e7f7-452e-4c40-a74d-2e216be60324",
   "metadata": {
    "jp-MarkdownHeadingCollapsed": true,
    "tags": []
   },
   "outputs": [
    {
     "name": "stdin",
     "output_type": "stream",
     "text": [
      "enter the tem in celsius 2.1\n"
     ]
    },
    {
     "name": "stdout",
     "output_type": "stream",
     "text": [
      "tem in fahrenheit: 35.78\n"
     ]
    }
   ],
   "source": [
    "celsius=float(input(\"enter the tem in celsius\"))\n",
    "fahrenheit=(1.8*celsius)+32\n",
    "print(\"tem in fahrenheit:\",fahrenheit)"
   ]
  },
  {
   "cell_type": "code",
   "execution_count": null,
   "id": "47b5a6f3-5cad-4f8f-9557-711a405270a4",
   "metadata": {},
   "outputs": [],
   "source": []
  },
  {
   "cell_type": "code",
   "execution_count": null,
   "id": "87f5fd44-c37c-4f36-b04f-a97c3d521a3d",
   "metadata": {},
   "outputs": [],
   "source": []
  },
  {
   "cell_type": "code",
   "execution_count": null,
   "id": "fb703385-405b-4f30-b008-c18567234539",
   "metadata": {},
   "outputs": [],
   "source": []
  }
 ],
 "metadata": {
  "kernelspec": {
   "display_name": "Python 3 (ipykernel)",
   "language": "python",
   "name": "python3"
  },
  "language_info": {
   "codemirror_mode": {
    "name": "ipython",
    "version": 3
   },
   "file_extension": ".py",
   "mimetype": "text/x-python",
   "name": "python",
   "nbconvert_exporter": "python",
   "pygments_lexer": "ipython3",
   "version": "3.10.8"
  }
 },
 "nbformat": 4,
 "nbformat_minor": 5
}
