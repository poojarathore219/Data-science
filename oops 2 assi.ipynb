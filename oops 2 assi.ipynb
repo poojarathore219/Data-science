{
 "cells": [
  {
   "cell_type": "code",
   "execution_count": null,
   "id": "14372ab0",
   "metadata": {},
   "outputs": [],
   "source": [
    "Constructors in Python\n",
    "1. What is a constructor in Python? Explain its purpose and usage.\n",
    "A constructor in Python is a special method used to initialize the objects of a class. It is invoked when a new instance of the class is created. The constructor is used to set the initial values of the object's attributes.\n",
    "\n",
    "2. Differentiate between a parameterless constructor and a parameterized constructor in Python.\n",
    "Parameterless Constructor: A constructor that does not take any arguments other than self. It is used for initializing default values.\n",
    "Parameterized Constructor: A constructor that takes parameters in addition to self, allowing the creation of objects with custom initial values."
   ]
  },
  {
   "cell_type": "code",
   "execution_count": 1,
   "id": "af42df2c",
   "metadata": {},
   "outputs": [],
   "source": [
    "#Q.3\n",
    "class Person:\n",
    "    def __init__(self, name, age):\n",
    "        self.name = name\n",
    "        self.age = age\n",
    "\n",
    "# Creating an object\n",
    "person1 = Person(\"John\", 25)\n"
   ]
  },
  {
   "cell_type": "code",
   "execution_count": null,
   "id": "31d1ed67",
   "metadata": {},
   "outputs": [],
   "source": [
    "4. Explain the __init__ method in Python and its role in constructors.\n",
    "The __init__ method is called when an object is instantiated. It initializes the object's attributes based on the provided arguments and prepares the object for use."
   ]
  },
  {
   "cell_type": "code",
   "execution_count": 2,
   "id": "e82483a5",
   "metadata": {},
   "outputs": [
    {
     "name": "stdout",
     "output_type": "stream",
     "text": [
      "Alice 30\n"
     ]
    }
   ],
   "source": [
    "#Q.5\n",
    "class Person:\n",
    "    def __init__(self, name, age):\n",
    "        self.name = name\n",
    "        self.age = age\n",
    "\n",
    "# Creating an object\n",
    "person1 = Person(\"Alice\", 30)\n",
    "print(person1.name, person1.age)  # Output: Alice 30\n"
   ]
  },
  {
   "cell_type": "code",
   "execution_count": 3,
   "id": "6445b44f",
   "metadata": {},
   "outputs": [],
   "source": [
    "#Q.6\n",
    "person1 = Person(\"Bob\", 40)  # Constructor is called here\n"
   ]
  },
  {
   "cell_type": "code",
   "execution_count": 4,
   "id": "5b42562c",
   "metadata": {},
   "outputs": [],
   "source": [
    "#Q.7\n",
    "class Person:\n",
    "    def __init__(self, name, age):\n",
    "        self.name = name  # self allows access to the instance variable\n",
    "        self.age = age\n",
    "\n",
    "person1 = Person(\"Charlie\", 22)\n"
   ]
  },
  {
   "cell_type": "code",
   "execution_count": 5,
   "id": "eaa3d850",
   "metadata": {},
   "outputs": [],
   "source": [
    "#Q.8\n",
    "class Person:\n",
    "    def __init__(self, name=\"Unknown\", age=0):\n",
    "        self.name = name\n",
    "        self.age = age\n",
    "\n",
    "person1 = Person()  # Uses default constructor\n"
   ]
  },
  {
   "cell_type": "code",
   "execution_count": 6,
   "id": "69a60cde",
   "metadata": {},
   "outputs": [
    {
     "name": "stdout",
     "output_type": "stream",
     "text": [
      "50\n"
     ]
    }
   ],
   "source": [
    "#Q.9\n",
    "class Rectangle:\n",
    "    def __init__(self, width, height):\n",
    "        self.width = width\n",
    "        self.height = height\n",
    "\n",
    "    def area(self):\n",
    "        return self.width * self.height\n",
    "\n",
    "rect = Rectangle(5, 10)\n",
    "print(rect.area())  # Output: 50\n"
   ]
  },
  {
   "cell_type": "code",
   "execution_count": 7,
   "id": "cd324cff",
   "metadata": {},
   "outputs": [],
   "source": [
    "#Q.10\n",
    "class Rectangle:\n",
    "    def __init__(self, width=None, height=None):\n",
    "        if width and height:\n",
    "            self.width = width\n",
    "            self.height = height\n",
    "        else:\n",
    "            self.width = 0\n",
    "            self.height = 0\n",
    "\n",
    "    def area(self):\n",
    "        return self.width * self.height\n",
    "\n",
    "rect1 = Rectangle(5, 10)\n",
    "rect2 = Rectangle()  # Calls default constructor\n"
   ]
  },
  {
   "cell_type": "code",
   "execution_count": null,
   "id": "65f03cd6",
   "metadata": {},
   "outputs": [],
   "source": [
    "#Q.11What is method overloading, and how is it related to constructors in Python?\n",
    "Method overloading allows multiple methods with the same name but different parameters. Python does not support method overloading in the traditional sense. You can achieve similar functionality by using default parameters or variable-length argument lists."
   ]
  },
  {
   "cell_type": "code",
   "execution_count": 8,
   "id": "9bca3a11",
   "metadata": {},
   "outputs": [],
   "source": [
    "#Q.12\n",
    "class Parent:\n",
    "    def __init__(self, name):\n",
    "        self.name = name\n",
    "\n",
    "class Child(Parent):\n",
    "    def __init__(self, name, age):\n",
    "        super().__init__(name)\n",
    "        self.age = age\n",
    "\n",
    "child = Child(\"Tom\", 10)\n"
   ]
  },
  {
   "cell_type": "code",
   "execution_count": 9,
   "id": "f73c99be",
   "metadata": {},
   "outputs": [
    {
     "name": "stdout",
     "output_type": "stream",
     "text": [
      "Title: Python Programming, Author: John Doe, Published Year: 2022\n"
     ]
    }
   ],
   "source": [
    "#Q.13\n",
    "class Book:\n",
    "    def __init__(self, title, author, published_year):\n",
    "        self.title = title\n",
    "        self.author = author\n",
    "        self.published_year = published_year\n",
    "\n",
    "    def display_details(self):\n",
    "        print(f\"Title: {self.title}, Author: {self.author}, Published Year: {self.published_year}\")\n",
    "\n",
    "book1 = Book(\"Python Programming\", \"John Doe\", 2022)\n",
    "book1.display_details()  # Output: Title: Python Programming, Author: John Doe, Published Year: 2022\n"
   ]
  },
  {
   "cell_type": "code",
   "execution_count": null,
   "id": "fcda296f",
   "metadata": {},
   "outputs": [],
   "source": [
    "14. Discuss the differences between constructors and regular methods in Python classes.\n",
    "Constructor: Special method (__init__) used to initialize objects.\n",
    "Regular Methods: Defined by the user to implement specific behaviors, which may not necessarily be called during object creation."
   ]
  },
  {
   "cell_type": "code",
   "execution_count": 10,
   "id": "dd9057c3",
   "metadata": {},
   "outputs": [
    {
     "name": "stdout",
     "output_type": "stream",
     "text": [
      "True\n"
     ]
    }
   ],
   "source": [
    "#Q.16\n",
    "class Singleton:\n",
    "    _instance = None\n",
    "\n",
    "    def __new__(cls):\n",
    "        if not cls._instance:\n",
    "            cls._instance = super(Singleton, cls).__new__(cls)\n",
    "        return cls._instance\n",
    "\n",
    "singleton1 = Singleton()\n",
    "singleton2 = Singleton()\n",
    "print(singleton1 is singleton2)  # Output: True\n"
   ]
  },
  {
   "cell_type": "code",
   "execution_count": 11,
   "id": "bfd11f91",
   "metadata": {},
   "outputs": [
    {
     "name": "stdout",
     "output_type": "stream",
     "text": [
      "['Math', 'Science', 'English']\n"
     ]
    }
   ],
   "source": [
    "#Q.17\n",
    "class Student:\n",
    "    def __init__(self, subjects):\n",
    "        self.subjects = subjects\n",
    "\n",
    "student = Student([\"Math\", \"Science\", \"English\"])\n",
    "print(student.subjects)  # Output: ['Math', 'Science', 'English']\n"
   ]
  },
  {
   "cell_type": "code",
   "execution_count": null,
   "id": "24ed3f18",
   "metadata": {},
   "outputs": [],
   "source": [
    "18. What is the purpose of the __del__ method in Python classes, and how does it relate to constructors?\n",
    "The __del__ method is a destructor called when an object is about to be destroyed. It allows cleanup of resources, similar to how constructors initialize resources."
   ]
  },
  {
   "cell_type": "code",
   "execution_count": 12,
   "id": "97c9c070",
   "metadata": {},
   "outputs": [],
   "source": [
    "#Q.19\n",
    "class Parent:\n",
    "    def __init__(self, name):\n",
    "        self.name = name\n",
    "\n",
    "class Child(Parent):\n",
    "    def __init__(self, name, age):\n",
    "        super().__init__(name)\n",
    "        self.age = age\n"
   ]
  },
  {
   "cell_type": "code",
   "execution_count": 13,
   "id": "8885926d",
   "metadata": {},
   "outputs": [
    {
     "name": "stdout",
     "output_type": "stream",
     "text": [
      "Make: Toyota, Model: Corolla\n"
     ]
    }
   ],
   "source": [
    "#Q.20\n",
    "class Car:\n",
    "    def __init__(self, make=\"Unknown\", model=\"Unknown\"):\n",
    "        self.make = make\n",
    "        self.model = model\n",
    "\n",
    "    def display_info(self):\n",
    "        print(f\"Make: {self.make}, Model: {self.model}\")\n",
    "\n",
    "car = Car(\"Toyota\", \"Corolla\")\n",
    "car.display_info()  # Output: Make: Toyota, Model: Corolla\n"
   ]
  },
  {
   "cell_type": "markdown",
   "id": "9b4a4119",
   "metadata": {},
   "source": [
    "### Inheritance in Python\n",
    "1. What is inheritance in Python? Explain its significance in object-oriented programming.\n",
    "Inheritance allows one class (child class) to inherit the attributes and methods of another class (parent class). It promotes code reuse and supports hierarchical class structures."
   ]
  },
  {
   "cell_type": "code",
   "execution_count": 15,
   "id": "4bc150e8",
   "metadata": {},
   "outputs": [],
   "source": [
    "#Q,2\n",
    "class Animal:\n",
    "    def speak(self):\n",
    "        print(\"Animal speaks\")\n",
    "\n",
    "class Dog(Animal):\n",
    "    pass\n"
   ]
  },
  {
   "cell_type": "code",
   "execution_count": null,
   "id": "d41b5edf",
   "metadata": {},
   "outputs": [],
   "source": [
    "class Animal:\n",
    "    def speak(self):\n",
    "        print(\"Animal speaks\")\n",
    "\n",
    "class Bird:\n",
    "    def fly(self):\n",
    "        print(\"Bird flies\")\n",
    "\n",
    "class Duck(Animal, Bird):\n",
    "    pass\n"
   ]
  },
  {
   "cell_type": "code",
   "execution_count": 16,
   "id": "c5ed08f4",
   "metadata": {},
   "outputs": [],
   "source": [
    "#Q.3\n",
    "class Vehicle:\n",
    "    def __init__(self, color, speed):\n",
    "        self.color = color\n",
    "        self.speed = speed\n",
    "\n",
    "class Car(Vehicle):\n",
    "    def __init__(self, color, speed, brand):\n",
    "        super().__init__(color, speed)\n",
    "        self.brand = brand\n",
    "\n",
    "car = Car(\"Red\", 120, \"Toyota\")\n"
   ]
  },
  {
   "cell_type": "code",
   "execution_count": 17,
   "id": "ca7b23dd",
   "metadata": {},
   "outputs": [
    {
     "name": "stdout",
     "output_type": "stream",
     "text": [
      "Dog barks\n"
     ]
    }
   ],
   "source": [
    "#Q.4\n",
    "class Animal:\n",
    "    def speak(self):\n",
    "        print(\"Animal speaks\")\n",
    "\n",
    "class Dog(Animal):\n",
    "    def speak(self):\n",
    "        print(\"Dog barks\")\n",
    "\n",
    "dog = Dog()\n",
    "dog.speak()  # Output: Dog barks\n",
    "\n"
   ]
  },
  {
   "cell_type": "code",
   "execution_count": 18,
   "id": "d6f1e799",
   "metadata": {},
   "outputs": [
    {
     "name": "stdout",
     "output_type": "stream",
     "text": [
      "Animal speaks\n",
      "Dog barks\n"
     ]
    }
   ],
   "source": [
    "#Q.5\n",
    "class Animal:\n",
    "    def speak(self):\n",
    "        print(\"Animal speaks\")\n",
    "\n",
    "class Dog(Animal):\n",
    "    def speak(self):\n",
    "        super().speak()  # Calls the parent class method\n",
    "        print(\"Dog barks\")\n",
    "\n",
    "dog = Dog()\n",
    "dog.speak()\n"
   ]
  },
  {
   "cell_type": "code",
   "execution_count": 19,
   "id": "18bbcadd",
   "metadata": {},
   "outputs": [
    {
     "name": "stdout",
     "output_type": "stream",
     "text": [
      "Animal initialized\n",
      "Dog initialized\n"
     ]
    }
   ],
   "source": [
    "#Q.6\n",
    "class Animal:\n",
    "    def __init__(self):\n",
    "        print(\"Animal initialized\")\n",
    "\n",
    "class Dog(Animal):\n",
    "    def __init__(self):\n",
    "        super().__init__()  # Calls the parent class constructor\n",
    "        print(\"Dog initialized\")\n",
    "\n",
    "dog = Dog()\n"
   ]
  },
  {
   "cell_type": "code",
   "execution_count": 20,
   "id": "af8bf6c7",
   "metadata": {},
   "outputs": [
    {
     "name": "stdout",
     "output_type": "stream",
     "text": [
      "Dog barks\n",
      "Cat meows\n"
     ]
    }
   ],
   "source": [
    "#Q.7\n",
    "class Animal:\n",
    "    def speak(self):\n",
    "        print(\"Animal speaks\")\n",
    "\n",
    "class Dog(Animal):\n",
    "    def speak(self):\n",
    "        print(\"Dog barks\")\n",
    "\n",
    "class Cat(Animal):\n",
    "    def speak(self):\n",
    "        print(\"Cat meows\")\n",
    "\n",
    "dog = Dog()\n",
    "dog.speak()  # Output: Dog barks\n",
    "\n",
    "cat = Cat()\n",
    "cat.speak()  # Output: Cat meows\n"
   ]
  },
  {
   "cell_type": "code",
   "execution_count": 21,
   "id": "972f3ff2",
   "metadata": {},
   "outputs": [
    {
     "name": "stdout",
     "output_type": "stream",
     "text": [
      "True\n"
     ]
    }
   ],
   "source": [
    "#Q.8\n",
    "animal = Dog()\n",
    "print(isinstance(animal, Dog))  # Output: True\n"
   ]
  },
  {
   "cell_type": "code",
   "execution_count": 22,
   "id": "ed1a737f",
   "metadata": {},
   "outputs": [
    {
     "name": "stdout",
     "output_type": "stream",
     "text": [
      "True\n"
     ]
    }
   ],
   "source": [
    "#Q.9\n",
    "class Animal:\n",
    "    pass\n",
    "\n",
    "class Dog(Animal):\n",
    "    pass\n",
    "\n",
    "print(issubclass(Dog, Animal))  # Output: True\n"
   ]
  },
  {
   "cell_type": "code",
   "execution_count": 23,
   "id": "f48c297e",
   "metadata": {},
   "outputs": [],
   "source": [
    "#Q.10\n",
    "class Animal:\n",
    "    def __init__(self, name):\n",
    "        self.name = name\n",
    "\n",
    "class Dog(Animal):\n",
    "    def __init__(self, name, breed):\n",
    "        super().__init__(name)\n",
    "        self.breed = breed\n"
   ]
  },
  {
   "cell_type": "code",
   "execution_count": 24,
   "id": "04b3054f",
   "metadata": {},
   "outputs": [
    {
     "name": "stdout",
     "output_type": "stream",
     "text": [
      "Circle Area: 78.53981633974483\n",
      "Rectangle Area: 24\n"
     ]
    }
   ],
   "source": [
    "#Q.11\n",
    "import math\n",
    "\n",
    "class Shape:\n",
    "    def area(self):\n",
    "        pass  # This method will be overridden in child classes\n",
    "\n",
    "class Circle(Shape):\n",
    "    def __init__(self, radius):\n",
    "        self.radius = radius\n",
    "\n",
    "    def area(self):\n",
    "        return math.pi * self.radius ** 2\n",
    "\n",
    "class Rectangle(Shape):\n",
    "    def __init__(self, width, height):\n",
    "        self.width = width\n",
    "        self.height = height\n",
    "\n",
    "    def area(self):\n",
    "        return self.width * self.height\n",
    "\n",
    "circle = Circle(5)\n",
    "rectangle = Rectangle(4, 6)\n",
    "\n",
    "print(f\"Circle Area: {circle.area()}\")  # Output: Circle Area: 78.53981633974483\n",
    "print(f\"Rectangle Area: {rectangle.area()}\")  # Output: Rectangle Area: 24\n"
   ]
  },
  {
   "cell_type": "code",
   "execution_count": 25,
   "id": "a2a50bb0",
   "metadata": {},
   "outputs": [
    {
     "name": "stdout",
     "output_type": "stream",
     "text": [
      "78.5\n"
     ]
    }
   ],
   "source": [
    "#Q.12\n",
    "from abc import ABC, abstractmethod\n",
    "\n",
    "class Shape(ABC):\n",
    "    @abstractmethod\n",
    "    def area(self):\n",
    "        pass\n",
    "\n",
    "class Circle(Shape):\n",
    "    def __init__(self, radius):\n",
    "        self.radius = radius\n",
    "\n",
    "    def area(self):\n",
    "        return 3.14 * self.radius ** 2\n",
    "\n",
    "circle = Circle(5)\n",
    "print(circle.area())  # Output: 78.5\n"
   ]
  },
  {
   "cell_type": "code",
   "execution_count": 26,
   "id": "fc5d3906",
   "metadata": {},
   "outputs": [],
   "source": [
    "#Q.13\n",
    "from typing import final\n",
    "\n",
    "class Animal:\n",
    "    @final\n",
    "    def speak(self):\n",
    "        print(\"Animal speaks\")\n",
    "\n",
    "class Dog(Animal):\n",
    "    # This will raise a TypeError if the `speak` method is overridden\n",
    "    def speak(self):\n",
    "        print(\"Dog barks\")\n"
   ]
  },
  {
   "cell_type": "code",
   "execution_count": 27,
   "id": "0b18a246",
   "metadata": {},
   "outputs": [
    {
     "name": "stdout",
     "output_type": "stream",
     "text": [
      "Manager: Alice, Department: HR, Salary: 75000\n"
     ]
    }
   ],
   "source": [
    "#Q.14\n",
    "class Employee:\n",
    "    def __init__(self, name, salary):\n",
    "        self.name = name\n",
    "        self.salary = salary\n",
    "\n",
    "class Manager(Employee):\n",
    "    def __init__(self, name, salary, department):\n",
    "        super().__init__(name, salary)\n",
    "        self.department = department\n",
    "\n",
    "manager = Manager(\"Alice\", 75000, \"HR\")\n",
    "print(f\"Manager: {manager.name}, Department: {manager.department}, Salary: {manager.salary}\")\n"
   ]
  },
  {
   "cell_type": "code",
   "execution_count": null,
   "id": "34aba77a",
   "metadata": {},
   "outputs": [],
   "source": [
    "15. Discuss the concept of method overloading in Python inheritance. How does it differ from method overriding?\n",
    "Method overloading allows multiple methods with the same name but different parameters. Python does not support method overloading directly; instead, you can use default arguments or variable-length arguments. Method overriding is when a child class provides a new implementation of a method that is already defined in the parent class.\n",
    "\n",
    "16. Explain the purpose of the __init__() method in Python inheritance and how it is utilized in child classes.\n",
    "The __init__() method initializes the object's state when an object is created. In inheritance, the child class can call the parent class's __init__() method using super() to ensure the parent class's attributes are also initialized."
   ]
  },
  {
   "cell_type": "code",
   "execution_count": 28,
   "id": "a2ac8d78",
   "metadata": {},
   "outputs": [
    {
     "name": "stdout",
     "output_type": "stream",
     "text": [
      "Eagle flies high in the sky\n",
      "Sparrow flies short distances\n"
     ]
    }
   ],
   "source": [
    "#Q.17\n",
    "class Bird:\n",
    "    def fly(self):\n",
    "        print(\"Bird flies\")\n",
    "\n",
    "class Eagle(Bird):\n",
    "    def fly(self):\n",
    "        print(\"Eagle flies high in the sky\")\n",
    "\n",
    "class Sparrow(Bird):\n",
    "    def fly(self):\n",
    "        print(\"Sparrow flies short distances\")\n",
    "\n",
    "eagle = Eagle()\n",
    "sparrow = Sparrow()\n",
    "\n",
    "eagle.fly()  # Output: Eagle flies high in the sky\n",
    "sparrow.fly()  # Output: Sparrow flies short distances\n"
   ]
  },
  {
   "cell_type": "code",
   "execution_count": null,
   "id": "d08e0c10",
   "metadata": {},
   "outputs": [],
   "source": [
    "18. What is the \"diamond problem\" in multiple inheritance, and how does Python address it?\n",
    "The \"diamond problem\" occurs in multiple inheritance when a class inherits from two classes that have a common ancestor, leading to ambiguity in method resolution order (MRO). Python uses the C3 linearization algorithm to resolve this ambiguity by defining a method resolution order."
   ]
  },
  {
   "cell_type": "code",
   "execution_count": 29,
   "id": "4c92e61a",
   "metadata": {},
   "outputs": [],
   "source": [
    "#Q.19\n",
    "class Animal:\n",
    "    pass\n",
    "\n",
    "class Dog(Animal):\n",
    "    pass\n"
   ]
  },
  {
   "cell_type": "code",
   "execution_count": null,
   "id": "207ecfd6",
   "metadata": {},
   "outputs": [],
   "source": [
    "class Engine:\n",
    "    pass\n",
    "\n",
    "class Car:\n",
    "    def __init__(self):\n",
    "        self.engine = Engine()  # \"has-a\" relationship\n"
   ]
  },
  {
   "cell_type": "code",
   "execution_count": 30,
   "id": "8439fea0",
   "metadata": {},
   "outputs": [
    {
     "name": "stdout",
     "output_type": "stream",
     "text": [
      "Name: John, Age: 20\n",
      "Student ID: S12345\n",
      "Name: Dr. Smith, Age: 45\n",
      "Department: Computer Science\n"
     ]
    }
   ],
   "source": [
    "#Q.20\n",
    "class Person:\n",
    "    def __init__(self, name, age):\n",
    "        self.name = name\n",
    "        self.age = age\n",
    "\n",
    "    def display_info(self):\n",
    "        print(f\"Name: {self.name}, Age: {self.age}\")\n",
    "\n",
    "class Student(Person):\n",
    "    def __init__(self, name, age, student_id):\n",
    "        super().__init__(name, age)\n",
    "        self.student_id = student_id\n",
    "\n",
    "    def display_info(self):\n",
    "        super().display_info()\n",
    "        print(f\"Student ID: {self.student_id}\")\n",
    "\n",
    "class Professor(Person):\n",
    "    def __init__(self, name, age, department):\n",
    "        super().__init__(name, age)\n",
    "        self.department = department\n",
    "\n",
    "    def display_info(self):\n",
    "        super().display_info()\n",
    "        print(f\"Department: {self.department}\")\n",
    "\n",
    "student = Student(\"John\", 20, \"S12345\")\n",
    "professor = Professor(\"Dr. Smith\", 45, \"Computer Science\")\n",
    "\n",
    "student.display_info()\n",
    "professor.display_info()\n"
   ]
  },
  {
   "cell_type": "markdown",
   "id": "52b409f9",
   "metadata": {},
   "source": [
    "### Encapsulation in Python\n",
    "1. Explain the concept of encapsulation in Python. What is its role in object-oriented programming?\n",
    "Encapsulation is the practice of restricting access to certain components of an object to protect its internal state. It helps in hiding the implementation details and exposes only the necessary interfaces.\n",
    "\n",
    "2. Describe the key principles of encapsulation, including access control and data hiding.\n",
    "Access Control: Controlling access to the object's attributes and methods using public, private, or protected modifiers.\n",
    "Data Hiding: Hiding the internal details and only exposing necessary data to the user."
   ]
  },
  {
   "cell_type": "code",
   "execution_count": 31,
   "id": "06ac3c06",
   "metadata": {},
   "outputs": [
    {
     "name": "stdout",
     "output_type": "stream",
     "text": [
      "John\n",
      "Alice\n"
     ]
    }
   ],
   "source": [
    "#Q.3\n",
    "class Person:\n",
    "    def __init__(self, name):\n",
    "        self.__name = name  # Private attribute\n",
    "\n",
    "    def get_name(self):\n",
    "        return self.__name  # Getter method\n",
    "\n",
    "    def set_name(self, name):\n",
    "        self.__name = name  # Setter method\n",
    "\n",
    "person = Person(\"John\")\n",
    "print(person.get_name())  # Output: John\n",
    "person.set_name(\"Alice\")\n",
    "print(person.get_name())  # Output: Alice\n"
   ]
  },
  {
   "cell_type": "code",
   "execution_count": null,
   "id": "53ed7872",
   "metadata": {},
   "outputs": [],
   "source": [
    "4. Discuss the difference between public, private, and protected access modifiers in Python.\n",
    "Public: Accessible from anywhere (e.g., object.attribute).\n",
    "Private: Accessible only within the class (e.g., __attribute).\n",
    "Protected: Intended for internal use within the class and its subclasses (e.g., _attribute)."
   ]
  },
  {
   "cell_type": "code",
   "execution_count": 32,
   "id": "97815a50",
   "metadata": {},
   "outputs": [
    {
     "name": "stdout",
     "output_type": "stream",
     "text": [
      "Alice\n",
      "Bob\n"
     ]
    }
   ],
   "source": [
    "#Q>5\n",
    "class Person:\n",
    "    def __init__(self, name):\n",
    "        self.__name = name\n",
    "\n",
    "    def get_name(self):\n",
    "        return self.__name\n",
    "\n",
    "    def set_name(self, name):\n",
    "        self.__name = name\n",
    "\n",
    "person = Person(\"Alice\")\n",
    "print(person.get_name())  # Output: Alice\n",
    "person.set_name(\"Bob\")\n",
    "print(person.get_name())  # Output: Bob\n"
   ]
  },
  {
   "cell_type": "code",
   "execution_count": 33,
   "id": "f482bd1c",
   "metadata": {},
   "outputs": [
    {
     "name": "stdout",
     "output_type": "stream",
     "text": [
      "100\n",
      "200\n"
     ]
    }
   ],
   "source": [
    "#Q.6\n",
    "class Account:\n",
    "    def __init__(self, balance):\n",
    "        self.__balance = balance\n",
    "\n",
    "    def get_balance(self):\n",
    "        return self.__balance\n",
    "\n",
    "    def set_balance(self, balance):\n",
    "        if balance >= 0:\n",
    "            self.__balance = balance\n",
    "        else:\n",
    "            print(\"Invalid balance\")\n",
    "\n",
    "account = Account(100)\n",
    "print(account.get_balance())  # Output: 100\n",
    "account.set_balance(200)\n",
    "print(account.get_balance())  # Output: 200\n"
   ]
  },
  {
   "cell_type": "code",
   "execution_count": null,
   "id": "779b8e22",
   "metadata": {},
   "outputs": [],
   "source": [
    "#Q.7\n",
    "class MyClass:\n",
    "    def __init__(self):\n",
    "        self.__private = 42\n",
    "\n",
    "obj = MyClass()\n",
    "print(obj._MyClass__private)  # Accessing private variable through name mangling\n"
   ]
  },
  {
   "cell_type": "code",
   "execution_count": null,
   "id": "2be74f95",
   "metadata": {},
   "outputs": [],
   "source": [
    "#Q.8\n",
    "class BankAccount:\n",
    "    def __init__(self, account_number, balance=0):\n",
    "        self.__account_number = account_number\n",
    "        self.__balance = balance\n",
    "\n",
    "    def deposit(self, amount):\n",
    "        if amount > 0:\n",
    "            self.__balance += amount\n",
    "\n",
    "    def withdraw(self, amount):\n",
    "        if 0 < amount <= self.__balance:\n",
    "            self.__balance -= amount\n",
    "        else:\n",
    "            print(\"Insufficient funds\")\n",
    "\n",
    "    def get_balance(self):\n",
    "        return self.__balance\n",
    "\n",
    "account = BankAccount(\"12345\", 1000)\n",
    "account.deposit(500)\n",
    "account.withdraw(200)\n",
    "print(account.get_balance())  # Output: 1300\n"
   ]
  },
  {
   "cell_type": "code",
   "execution_count": null,
   "id": "963f1386",
   "metadata": {},
   "outputs": [],
   "source": [
    "9. Discuss the advantages of encapsulation in terms of code maintainability and security.\n",
    "Encapsulation improves maintainability by keeping the internal implementation hidden from other parts of the program. It also increases security by preventing unauthorized access or modification of sensitive data.\n",
    "\n"
   ]
  },
  {
   "cell_type": "code",
   "execution_count": 34,
   "id": "f3d22b6d",
   "metadata": {},
   "outputs": [
    {
     "name": "stdout",
     "output_type": "stream",
     "text": [
      "Alice\n"
     ]
    }
   ],
   "source": [
    "#Q.10\n",
    "class Person:\n",
    "    def __init__(self, name):\n",
    "        self.__name = name  # Private attribute\n",
    "\n",
    "person = Person(\"Alice\")\n",
    "# Accessing private attribute through name mangling\n",
    "print(person._Person__name)  # Output: Alice\n"
   ]
  },
  {
   "cell_type": "code",
   "execution_count": 35,
   "id": "e6b0ed77",
   "metadata": {},
   "outputs": [
    {
     "name": "stdout",
     "output_type": "stream",
     "text": [
      "John\n",
      "S123\n",
      "Mr. Smith\n"
     ]
    }
   ],
   "source": [
    "#Q.11\n",
    "class Person:\n",
    "    def __init__(self, name, age):\n",
    "        self.__name = name\n",
    "        self.__age = age\n",
    "\n",
    "    def get_name(self):\n",
    "        return self.__name\n",
    "\n",
    "    def get_age(self):\n",
    "        return self.__age\n",
    "\n",
    "class Student(Person):\n",
    "    def __init__(self, name, age, student_id):\n",
    "        super().__init__(name, age)\n",
    "        self.__student_id = student_id\n",
    "\n",
    "    def get_student_id(self):\n",
    "        return self.__student_id\n",
    "\n",
    "class Teacher(Person):\n",
    "    def __init__(self, name, age, employee_id):\n",
    "        super().__init__(name, age)\n",
    "        self.__employee_id = employee_id\n",
    "\n",
    "    def get_employee_id(self):\n",
    "        return self.__employee_id\n",
    "\n",
    "class Course:\n",
    "    def __init__(self, course_name, teacher):\n",
    "        self.__course_name = course_name\n",
    "        self.__teacher = teacher\n",
    "\n",
    "    def get_course_name(self):\n",
    "        return self.__course_name\n",
    "\n",
    "    def get_teacher(self):\n",
    "        return self.__teacher.get_name()  # Accessing teacher's name via getter\n",
    "\n",
    "# Example usage\n",
    "student = Student(\"John\", 20, \"S123\")\n",
    "teacher = Teacher(\"Mr. Smith\", 40, \"T456\")\n",
    "course = Course(\"Python Programming\", teacher)\n",
    "\n",
    "print(student.get_name())  # Output: John\n",
    "print(student.get_student_id())  # Output: S123\n",
    "print(course.get_teacher())  # Output: Mr. Smith\n"
   ]
  },
  {
   "cell_type": "code",
   "execution_count": 36,
   "id": "9c113ce9",
   "metadata": {},
   "outputs": [
    {
     "name": "stdout",
     "output_type": "stream",
     "text": [
      "Alice\n",
      "Bob\n",
      "Name cannot be empty\n"
     ]
    }
   ],
   "source": [
    "#Q.12\n",
    "class Person:\n",
    "    def __init__(self, name):\n",
    "        self.__name = name\n",
    "\n",
    "    @property\n",
    "    def name(self):\n",
    "        return self.__name\n",
    "\n",
    "    @name.setter\n",
    "    def name(self, value):\n",
    "        if len(value) > 0:\n",
    "            self.__name = value\n",
    "        else:\n",
    "            print(\"Name cannot be empty\")\n",
    "\n",
    "person = Person(\"Alice\")\n",
    "print(person.name)  # Output: Alice\n",
    "person.name = \"Bob\"\n",
    "print(person.name)  # Output: Bob\n",
    "person.name = \"\"  # Output: Name cannot be empty\n"
   ]
  },
  {
   "cell_type": "code",
   "execution_count": 37,
   "id": "9c4e6b87",
   "metadata": {},
   "outputs": [
    {
     "name": "stdout",
     "output_type": "stream",
     "text": [
      "1500\n"
     ]
    }
   ],
   "source": [
    "#Q.13\n",
    "class BankAccount:\n",
    "    def __init__(self, balance):\n",
    "        self.__balance = balance  # Private attribute for balance\n",
    "\n",
    "    def deposit(self, amount):\n",
    "        if amount > 0:\n",
    "            self.__balance += amount  # Controlled modification through method\n",
    "\n",
    "    def get_balance(self):\n",
    "        return self.__balance  # Access through a getter method\n",
    "\n",
    "account = BankAccount(1000)\n",
    "account.deposit(500)\n",
    "print(account.get_balance())  # Output: 1500\n"
   ]
  },
  {
   "cell_type": "code",
   "execution_count": 38,
   "id": "a7010f16",
   "metadata": {},
   "outputs": [
    {
     "name": "stdout",
     "output_type": "stream",
     "text": [
      "Bonus: 5000.0\n"
     ]
    }
   ],
   "source": [
    "#Q.14\n",
    "class Employee:\n",
    "    def __init__(self, employee_id, salary):\n",
    "        self.__employee_id = employee_id\n",
    "        self.__salary = salary\n",
    "\n",
    "    def calculate_bonus(self):\n",
    "        return self.__salary * 0.1  # 10% bonus\n",
    "\n",
    "    def get_salary(self):\n",
    "        return self.__salary\n",
    "\n",
    "employee = Employee(\"E123\", 50000)\n",
    "print(f\"Bonus: {employee.calculate_bonus()}\")  # Output: Bonus: 5000.0\n"
   ]
  },
  {
   "cell_type": "code",
   "execution_count": null,
   "id": "17878d7e",
   "metadata": {},
   "outputs": [],
   "source": [
    "15. Discuss the use of accessors and mutators in encapsulation. How do they help maintain control over attribute access?\n",
    "Accessors (getter methods) and mutators (setter methods) allow controlled access to private attributes. The accessors retrieve the value of an attribute, while the mutators modify the value. By using these methods, you can add validation or other logic before modifying the attribute, maintaining control and integrity over the object's state.\n",
    "\n",
    "16. What are the potential drawbacks or disadvantages of using encapsulation in Python?\n",
    "Increased complexity: Encapsulation can introduce extra methods for getting and setting values, which can make the code more complex.\n",
    "Reduced flexibility: Direct access to object attributes is restricted, which may be inconvenient in some cases where direct manipulation is required.\n",
    "Performance overhead: The use of getter and setter methods can add slight overhead in performance."
   ]
  }
 ],
 "metadata": {
  "kernelspec": {
   "display_name": "Python 3 (ipykernel)",
   "language": "python",
   "name": "python3"
  },
  "language_info": {
   "codemirror_mode": {
    "name": "ipython",
    "version": 3
   },
   "file_extension": ".py",
   "mimetype": "text/x-python",
   "name": "python",
   "nbconvert_exporter": "python",
   "pygments_lexer": "ipython3",
   "version": "3.11.4"
  }
 },
 "nbformat": 4,
 "nbformat_minor": 5
}
