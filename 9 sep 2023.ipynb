{
 "cells": [
  {
   "cell_type": "code",
   "execution_count": 1,
   "id": "af8cedb9",
   "metadata": {},
   "outputs": [
    {
     "name": "stdout",
     "output_type": "stream",
     "text": [
      "1\n",
      "2\n",
      "3\n",
      "4\n",
      "5\n",
      "6\n"
     ]
    }
   ],
   "source": [
    "i=1\n",
    "\n",
    "while i<=10:\n",
    "    print(i)\n",
    "    \n",
    "    if i>=6:\n",
    "        break\n",
    "    i=i+1"
   ]
  },
  {
   "cell_type": "code",
   "execution_count": 2,
   "id": "362c1fa9",
   "metadata": {},
   "outputs": [
    {
     "name": "stdout",
     "output_type": "stream",
     "text": [
      "10\n",
      "20\n",
      "30\n",
      "40\n"
     ]
    }
   ],
   "source": [
    "num=[10,20,30,40,120,230]\n",
    "\n",
    "for i in num:\n",
    "    if i>100:\n",
    "        break\n",
    "    print(i)"
   ]
  },
  {
   "cell_type": "code",
   "execution_count": 3,
   "id": "bbe6bda7",
   "metadata": {},
   "outputs": [
    {
     "name": "stdout",
     "output_type": "stream",
     "text": [
      "h\n",
      "e\n",
      "l\n",
      "l\n",
      "o\n",
      "w\n",
      ",\n"
     ]
    }
   ],
   "source": [
    "s=\"hellow, pooja\"\n",
    "for i in s:\n",
    "    print(i)\n",
    "    if i==',':\n",
    "        break\n",
    "    "
   ]
  },
  {
   "cell_type": "code",
   "execution_count": 4,
   "id": "382af7e9",
   "metadata": {},
   "outputs": [
    {
     "name": "stdout",
     "output_type": "stream",
     "text": [
      "p\n",
      "w\n",
      "s\n",
      "k\n",
      "l\n",
      "l\n",
      "s\n"
     ]
    }
   ],
   "source": [
    "for letter in \"pwskills\":\n",
    "    if letter=='i':\n",
    "        continue\n",
    "    print(letter)"
   ]
  },
  {
   "cell_type": "code",
   "execution_count": 5,
   "id": "dd805989",
   "metadata": {},
   "outputs": [
    {
     "name": "stdout",
     "output_type": "stream",
     "text": [
      "0\n",
      "1\n",
      "2\n",
      "4\n"
     ]
    }
   ],
   "source": [
    "# write a program to print odd number from 1 to 10\n",
    "for i in range(5):\n",
    "    if i==3:\n",
    "        continue\n",
    "    print(i)"
   ]
  },
  {
   "cell_type": "code",
   "execution_count": 6,
   "id": "1e57bcf1",
   "metadata": {},
   "outputs": [
    {
     "name": "stdout",
     "output_type": "stream",
     "text": [
      "2\n",
      "4\n",
      "6\n",
      "8\n",
      "10\n"
     ]
    }
   ],
   "source": [
    "for i in range(1,11):\n",
    "    if i%2==0:\n",
    "        print(i)\n",
    "    else:\n",
    "            continue\n",
    "            "
   ]
  },
  {
   "cell_type": "code",
   "execution_count": 7,
   "id": "6d170e9d",
   "metadata": {},
   "outputs": [
    {
     "name": "stdout",
     "output_type": "stream",
     "text": [
      "1\n",
      "3\n",
      "5\n",
      "7\n",
      "9\n"
     ]
    }
   ],
   "source": [
    "for i in range(1,11):\n",
    "    if i%2!=0:\n",
    "        print(i)\n",
    "    else:\n",
    "            continue\n",
    "            "
   ]
  },
  {
   "cell_type": "code",
   "execution_count": 8,
   "id": "9d97ff60",
   "metadata": {},
   "outputs": [
    {
     "name": "stdout",
     "output_type": "stream",
     "text": [
      "2\n",
      "4\n",
      "6\n",
      "8\n",
      "10\n"
     ]
    }
   ],
   "source": [
    "for i in range(1,11):\n",
    "    if i%2!=0:\n",
    "        continue\n",
    "    print(i)"
   ]
  },
  {
   "cell_type": "code",
   "execution_count": 9,
   "id": "76ac01cb",
   "metadata": {},
   "outputs": [
    {
     "name": "stdout",
     "output_type": "stream",
     "text": [
      "1\n",
      "2\n",
      "3\n",
      "4\n",
      "5\n",
      "6\n",
      "7\n",
      "8\n",
      "9\n",
      "10\n"
     ]
    }
   ],
   "source": [
    "for i in range(1,11):\n",
    "    if i%2!=0:\n",
    "        pass\n",
    "    print(i)"
   ]
  },
  {
   "cell_type": "code",
   "execution_count": 10,
   "id": "cc35f4be",
   "metadata": {},
   "outputs": [],
   "source": [
    "## function\n"
   ]
  },
  {
   "cell_type": "code",
   "execution_count": 11,
   "id": "49aca3e5",
   "metadata": {},
   "outputs": [
    {
     "name": "stdout",
     "output_type": "stream",
     "text": [
      "30\n"
     ]
    }
   ],
   "source": [
    "a=10\n",
    "b=20\n",
    "print(a+b)"
   ]
  },
  {
   "cell_type": "code",
   "execution_count": 12,
   "id": "76409b7f",
   "metadata": {},
   "outputs": [],
   "source": [
    "def add(a,b):\n",
    "    return a+b"
   ]
  },
  {
   "cell_type": "code",
   "execution_count": null,
   "id": "1ef76dbf",
   "metadata": {},
   "outputs": [],
   "source": []
  },
  {
   "cell_type": "markdown",
   "id": "113381fb",
   "metadata": {},
   "source": [
    "##Create a function\n",
    "​\n",
    "def functionname(arguments):\n",
    "    # function body\n",
    "    \n",
    "    return\n",
    "-------------------------------------\n",
    "call a function\n",
    "​\n",
    "functionname()\n"
   ]
  },
  {
   "cell_type": "code",
   "execution_count": 13,
   "id": "3b20f44d",
   "metadata": {},
   "outputs": [],
   "source": [
    "def greet():\n",
    "    print(\"hello\")"
   ]
  },
  {
   "cell_type": "code",
   "execution_count": 14,
   "id": "1a99dc99",
   "metadata": {},
   "outputs": [
    {
     "name": "stdout",
     "output_type": "stream",
     "text": [
      "hello\n"
     ]
    }
   ],
   "source": [
    "greet()"
   ]
  },
  {
   "cell_type": "code",
   "execution_count": 15,
   "id": "7e3de2d1",
   "metadata": {},
   "outputs": [],
   "source": [
    "def addnum():\n",
    "    a=100\n",
    "    b=200\n",
    "    c=a+b\n",
    "    print(c)"
   ]
  },
  {
   "cell_type": "code",
   "execution_count": 16,
   "id": "a2cca82e",
   "metadata": {},
   "outputs": [
    {
     "name": "stdout",
     "output_type": "stream",
     "text": [
      "300\n"
     ]
    }
   ],
   "source": [
    "addnum()"
   ]
  },
  {
   "cell_type": "code",
   "execution_count": 17,
   "id": "f5e62fce",
   "metadata": {},
   "outputs": [
    {
     "name": "stdout",
     "output_type": "stream",
     "text": [
      "300\n"
     ]
    }
   ],
   "source": [
    "addnum()"
   ]
  },
  {
   "cell_type": "code",
   "execution_count": 18,
   "id": "280d0e95",
   "metadata": {},
   "outputs": [],
   "source": [
    "def add2num():\n",
    "    a=int(input(\"enter first no\"))\n",
    "    b=int(input(\"enter second no\"))\n",
    "    c=a+b\n",
    "    print(c)"
   ]
  },
  {
   "cell_type": "code",
   "execution_count": 19,
   "id": "ea5bf848",
   "metadata": {},
   "outputs": [
    {
     "name": "stdout",
     "output_type": "stream",
     "text": [
      "enter first no4\n",
      "enter second no4\n",
      "8\n"
     ]
    }
   ],
   "source": [
    ";\n",
    "add2num()"
   ]
  },
  {
   "cell_type": "code",
   "execution_count": 20,
   "id": "ca456ee0",
   "metadata": {},
   "outputs": [
    {
     "name": "stdout",
     "output_type": "stream",
     "text": [
      "enter first no5\n",
      "enter second no5\n",
      "10\n"
     ]
    }
   ],
   "source": [
    "add2num()"
   ]
  },
  {
   "cell_type": "code",
   "execution_count": 21,
   "id": "5c6e29c6",
   "metadata": {},
   "outputs": [],
   "source": [
    "def mul2num(x,y):\n",
    "    a=x\n",
    "    b=y\n",
    "    c=a*b\n",
    "    print(c)"
   ]
  },
  {
   "cell_type": "code",
   "execution_count": 22,
   "id": "99ae7911",
   "metadata": {},
   "outputs": [
    {
     "name": "stdout",
     "output_type": "stream",
     "text": [
      "16\n"
     ]
    }
   ],
   "source": [
    "mul2num(2,8)"
   ]
  },
  {
   "cell_type": "code",
   "execution_count": 23,
   "id": "d8006f44",
   "metadata": {},
   "outputs": [],
   "source": [
    "def intro(name,lastname):\n",
    "    print(\"hi\",name+lastname)\n",
    "    "
   ]
  },
  {
   "cell_type": "code",
   "execution_count": 24,
   "id": "6d2bb616",
   "metadata": {},
   "outputs": [
    {
     "name": "stdout",
     "output_type": "stream",
     "text": [
      "hi poojarathore\n"
     ]
    }
   ],
   "source": [
    "intro('pooja','rathore')"
   ]
  },
  {
   "cell_type": "code",
   "execution_count": 25,
   "id": "e0d3e350",
   "metadata": {},
   "outputs": [],
   "source": [
    "## convert -21 to 21"
   ]
  },
  {
   "cell_type": "code",
   "execution_count": 26,
   "id": "bea33eeb",
   "metadata": {},
   "outputs": [],
   "source": [
    "def absolute(n):\n",
    "    if n<0:\n",
    "        print(-n)\n",
    "    else:\n",
    "        print(n)"
   ]
  },
  {
   "cell_type": "code",
   "execution_count": 27,
   "id": "86dbb032",
   "metadata": {},
   "outputs": [
    {
     "name": "stdout",
     "output_type": "stream",
     "text": [
      "6\n"
     ]
    }
   ],
   "source": [
    "absolute(-6)"
   ]
  },
  {
   "cell_type": "code",
   "execution_count": 28,
   "id": "f308ac32",
   "metadata": {},
   "outputs": [],
   "source": [
    "def fullname(a,b):\n",
    "    c=a+b\n",
    "    print(c)\n",
    "    "
   ]
  },
  {
   "cell_type": "code",
   "execution_count": 29,
   "id": "bac721a8",
   "metadata": {},
   "outputs": [
    {
     "name": "stdout",
     "output_type": "stream",
     "text": [
      "advikrathore\n"
     ]
    }
   ],
   "source": [
    "x=fullname('advik','rathore')"
   ]
  },
  {
   "cell_type": "code",
   "execution_count": 30,
   "id": "32f2e0c4",
   "metadata": {},
   "outputs": [
    {
     "data": {
      "text/plain": [
       "NoneType"
      ]
     },
     "execution_count": 30,
     "metadata": {},
     "output_type": "execute_result"
    }
   ],
   "source": [
    "type(x)"
   ]
  },
  {
   "cell_type": "code",
   "execution_count": 31,
   "id": "ed43c239",
   "metadata": {},
   "outputs": [],
   "source": [
    "def fullname(a,b):\n",
    "    c=a+b\n",
    "    return(c)\n",
    "    "
   ]
  },
  {
   "cell_type": "code",
   "execution_count": 32,
   "id": "391b98ff",
   "metadata": {},
   "outputs": [],
   "source": [
    "y=fullname('advik','rathore')"
   ]
  },
  {
   "cell_type": "code",
   "execution_count": 33,
   "id": "daf2473f",
   "metadata": {},
   "outputs": [
    {
     "data": {
      "text/plain": [
       "str"
      ]
     },
     "execution_count": 33,
     "metadata": {},
     "output_type": "execute_result"
    }
   ],
   "source": [
    "type(y)"
   ]
  },
  {
   "cell_type": "code",
   "execution_count": 34,
   "id": "bfb8485a",
   "metadata": {},
   "outputs": [],
   "source": [
    "w=fullname('advik','rathore')"
   ]
  },
  {
   "cell_type": "code",
   "execution_count": 35,
   "id": "817e1590",
   "metadata": {},
   "outputs": [
    {
     "data": {
      "text/plain": [
       "str"
      ]
     },
     "execution_count": 35,
     "metadata": {},
     "output_type": "execute_result"
    }
   ],
   "source": [
    "type(w)"
   ]
  },
  {
   "cell_type": "code",
   "execution_count": 36,
   "id": "89906736",
   "metadata": {},
   "outputs": [],
   "source": [
    "def cal(a,b):\n",
    "    c=a+b\n",
    "    d=a*b\n",
    "    e=a-b\n",
    "    return c,d,e"
   ]
  },
  {
   "cell_type": "code",
   "execution_count": 37,
   "id": "ad489a66",
   "metadata": {},
   "outputs": [],
   "source": [
    "x=cal(9,5)"
   ]
  },
  {
   "cell_type": "code",
   "execution_count": 38,
   "id": "83487c6e",
   "metadata": {},
   "outputs": [
    {
     "data": {
      "text/plain": [
       "tuple"
      ]
     },
     "execution_count": 38,
     "metadata": {},
     "output_type": "execute_result"
    }
   ],
   "source": [
    "type(x)"
   ]
  },
  {
   "cell_type": "code",
   "execution_count": 39,
   "id": "b430ec7d",
   "metadata": {},
   "outputs": [],
   "source": [
    "def cal():\n",
    "    a=int(input(\"enter the first no\"))\n",
    "    b=int(input(\"enter the second no\"))\n",
    "    summ =a+b\n",
    "    subtract=a-b\n",
    "    divide=a//b\n",
    "    return summ,subtract,divide\n",
    "    \n",
    "    \n",
    "    "
   ]
  },
  {
   "cell_type": "code",
   "execution_count": 40,
   "id": "3af80589",
   "metadata": {},
   "outputs": [
    {
     "name": "stdout",
     "output_type": "stream",
     "text": [
      "enter the first no2\n",
      "enter the second no5\n"
     ]
    },
    {
     "data": {
      "text/plain": [
       "(7, -3, 0)"
      ]
     },
     "execution_count": 40,
     "metadata": {},
     "output_type": "execute_result"
    }
   ],
   "source": [
    "cal()"
   ]
  },
  {
   "cell_type": "code",
   "execution_count": 41,
   "id": "67923871",
   "metadata": {},
   "outputs": [],
   "source": [
    "def cal(a,b):\n",
    "    ope=input(\"enter a operator\")\n",
    "    if ope==\"add\":\n",
    "        return a+b\n",
    "    if ope==\"sub\":\n",
    "        return a-b\n",
    "    if ope==\"mul\":\n",
    "        return a*b\n",
    "    else:\n",
    "        return a/b\n",
    "    "
   ]
  },
  {
   "cell_type": "code",
   "execution_count": 42,
   "id": "00879246",
   "metadata": {},
   "outputs": [
    {
     "name": "stdout",
     "output_type": "stream",
     "text": [
      "enter a operatoradd\n"
     ]
    },
    {
     "data": {
      "text/plain": [
       "13"
      ]
     },
     "execution_count": 42,
     "metadata": {},
     "output_type": "execute_result"
    }
   ],
   "source": [
    "cal(6,7)"
   ]
  },
  {
   "cell_type": "markdown",
   "id": "528cd616",
   "metadata": {},
   "source": [
    "find area of circle ------ 3.14*r*r\n",
    "find area of rec ------ l*b\n",
    "find area of triangle- 1/2*b*h "
   ]
  },
  {
   "cell_type": "code",
   "execution_count": 43,
   "id": "cfb46421",
   "metadata": {},
   "outputs": [],
   "source": [
    "def area(r):\n",
    "    return 3.14*r*r"
   ]
  },
  {
   "cell_type": "code",
   "execution_count": 44,
   "id": "982ec0a3",
   "metadata": {},
   "outputs": [
    {
     "data": {
      "text/plain": [
       "28.259999999999998"
      ]
     },
     "execution_count": 44,
     "metadata": {},
     "output_type": "execute_result"
    }
   ],
   "source": [
    "area(3)"
   ]
  },
  {
   "cell_type": "code",
   "execution_count": 45,
   "id": "6a9c1202",
   "metadata": {},
   "outputs": [],
   "source": [
    "def area_rect(l,b):\n",
    "    return l*b"
   ]
  },
  {
   "cell_type": "code",
   "execution_count": 46,
   "id": "b6079cdb",
   "metadata": {},
   "outputs": [
    {
     "data": {
      "text/plain": [
       "25"
      ]
     },
     "execution_count": 46,
     "metadata": {},
     "output_type": "execute_result"
    }
   ],
   "source": [
    "area_rect(5,5)"
   ]
  },
  {
   "cell_type": "code",
   "execution_count": 47,
   "id": "62153451",
   "metadata": {},
   "outputs": [],
   "source": [
    "def area(b,h):\n",
    "    return 0.5*b*h\n"
   ]
  },
  {
   "cell_type": "code",
   "execution_count": 48,
   "id": "cbe4045a",
   "metadata": {},
   "outputs": [
    {
     "data": {
      "text/plain": [
       "3.0"
      ]
     },
     "execution_count": 48,
     "metadata": {},
     "output_type": "execute_result"
    }
   ],
   "source": [
    "area(2,3)"
   ]
  },
  {
   "cell_type": "markdown",
   "id": "c45f4813",
   "metadata": {},
   "source": [
    "1. Print the first 5 positive integers in ascending order with one number \n",
    "in each line"
   ]
  },
  {
   "cell_type": "code",
   "execution_count": 49,
   "id": "448d3f50",
   "metadata": {},
   "outputs": [],
   "source": [
    "def number():\n",
    "    for i in range(6):\n",
    "        print(i) "
   ]
  },
  {
   "cell_type": "code",
   "execution_count": 50,
   "id": "b72e9df1",
   "metadata": {},
   "outputs": [
    {
     "name": "stdout",
     "output_type": "stream",
     "text": [
      "0\n",
      "1\n",
      "2\n",
      "3\n",
      "4\n",
      "5\n"
     ]
    }
   ],
   "source": [
    "number()"
   ]
  },
  {
   "cell_type": "code",
   "execution_count": 51,
   "id": "d830eeaf",
   "metadata": {},
   "outputs": [
    {
     "name": "stdout",
     "output_type": "stream",
     "text": [
      "0\n",
      "1\n",
      "2\n",
      "3\n",
      "4\n",
      "5\n"
     ]
    }
   ],
   "source": [
    "for i in range(6):\n",
    "    print(i)\n"
   ]
  },
  {
   "cell_type": "markdown",
   "id": "12da2943",
   "metadata": {},
   "source": [
    "3. Accept an integer as input and print its square as output."
   ]
  },
  {
   "cell_type": "code",
   "execution_count": 52,
   "id": "2d6640ff",
   "metadata": {},
   "outputs": [],
   "source": [
    "def sqr():\n",
    "    a=int(input(\"enter a number\"))\n",
    "    return a*a"
   ]
  },
  {
   "cell_type": "code",
   "execution_count": 53,
   "id": "2c0a2147",
   "metadata": {},
   "outputs": [
    {
     "name": "stdout",
     "output_type": "stream",
     "text": [
      "enter a number\n"
     ]
    },
    {
     "ename": "ValueError",
     "evalue": "invalid literal for int() with base 10: ''",
     "output_type": "error",
     "traceback": [
      "\u001b[1;31m---------------------------------------------------------------------------\u001b[0m",
      "\u001b[1;31mValueError\u001b[0m                                Traceback (most recent call last)",
      "Cell \u001b[1;32mIn[53], line 1\u001b[0m\n\u001b[1;32m----> 1\u001b[0m sqr()\n",
      "Cell \u001b[1;32mIn[52], line 2\u001b[0m, in \u001b[0;36msqr\u001b[1;34m()\u001b[0m\n\u001b[0;32m      1\u001b[0m \u001b[38;5;28;01mdef\u001b[39;00m \u001b[38;5;21msqr\u001b[39m():\n\u001b[1;32m----> 2\u001b[0m     a\u001b[38;5;241m=\u001b[39m\u001b[38;5;28mint\u001b[39m(\u001b[38;5;28minput\u001b[39m(\u001b[38;5;124m\"\u001b[39m\u001b[38;5;124menter a number\u001b[39m\u001b[38;5;124m\"\u001b[39m))\n\u001b[0;32m      3\u001b[0m     \u001b[38;5;28;01mreturn\u001b[39;00m a\u001b[38;5;241m*\u001b[39ma\n",
      "\u001b[1;31mValueError\u001b[0m: invalid literal for int() with base 10: ''"
     ]
    }
   ],
   "source": [
    "sqr()"
   ]
  },
  {
   "cell_type": "code",
   "execution_count": null,
   "id": "66150c7e",
   "metadata": {},
   "outputs": [],
   "source": [
    "a=int(input(\"Enter the number\"))\n",
    "print(a*a)\n"
   ]
  },
  {
   "cell_type": "markdown",
   "id": "42af1c31",
   "metadata": {},
   "source": [
    "4.Accept two integers as input and print their sum as output."
   ]
  },
  {
   "cell_type": "code",
   "execution_count": 54,
   "id": "89f8163d",
   "metadata": {},
   "outputs": [
    {
     "name": "stdout",
     "output_type": "stream",
     "text": [
      "Enter the first number: \n"
     ]
    },
    {
     "ename": "ValueError",
     "evalue": "invalid literal for int() with base 10: ''",
     "output_type": "error",
     "traceback": [
      "\u001b[1;31m---------------------------------------------------------------------------\u001b[0m",
      "\u001b[1;31mValueError\u001b[0m                                Traceback (most recent call last)",
      "Cell \u001b[1;32mIn[54], line 1\u001b[0m\n\u001b[1;32m----> 1\u001b[0m num1 \u001b[38;5;241m=\u001b[39m \u001b[38;5;28mint\u001b[39m(\u001b[38;5;28minput\u001b[39m(\u001b[38;5;124m\"\u001b[39m\u001b[38;5;124mEnter the first number: \u001b[39m\u001b[38;5;124m\"\u001b[39m))\n\u001b[0;32m      2\u001b[0m num2 \u001b[38;5;241m=\u001b[39m \u001b[38;5;28mint\u001b[39m(\u001b[38;5;28minput\u001b[39m(\u001b[38;5;124m\"\u001b[39m\u001b[38;5;124mEnter the second number: \u001b[39m\u001b[38;5;124m\"\u001b[39m))\n\u001b[0;32m      3\u001b[0m num3\u001b[38;5;241m=\u001b[39mnum1\u001b[38;5;241m+\u001b[39mnum2\n",
      "\u001b[1;31mValueError\u001b[0m: invalid literal for int() with base 10: ''"
     ]
    }
   ],
   "source": [
    "num1 = int(input(\"Enter the first number: \"))\n",
    "num2 = int(input(\"Enter the second number: \"))\n",
    "num3=num1+num2\n",
    "print(f\"the sum of {num1} and{num2} is {num3}:\".format(num1,num2,num3))"
   ]
  },
  {
   "cell_type": "markdown",
   "id": "7a76704b",
   "metadata": {},
   "source": [
    "5. Accept two words as input and print the two words after adding a \n",
    "space between them"
   ]
  },
  {
   "cell_type": "code",
   "execution_count": 55,
   "id": "4de14835",
   "metadata": {},
   "outputs": [
    {
     "name": "stdout",
     "output_type": "stream",
     "text": [
      "enter 1st word\n",
      "enter 2st word\n",
      "   \n"
     ]
    }
   ],
   "source": [
    "a=input(\"enter 1st word\")\n",
    "b=input(\"enter 2st word\")\n",
    "print(a,\" \",b)"
   ]
  },
  {
   "cell_type": "markdown",
   "id": "9709ac47",
   "metadata": {},
   "source": [
    "create a python program that includes a user-defined function called print_even_number().\n",
    "the function should prompt the user to set a range limit before printing\n",
    "all even numbers upto that limit"
   ]
  },
  {
   "cell_type": "code",
   "execution_count": 56,
   "id": "4d8380cb",
   "metadata": {},
   "outputs": [],
   "source": [
    "def print_even_no():\n",
    "    limit1=int(input(\"enter first limit:\"))\n",
    "    limit2=int(input(\"enter second limit:\"))\n",
    "    for i in range(limit1,limit2+1):\n",
    "        \n",
    "        if i%2==0:\n",
    "            print(i)\n",
    "    \n",
    "    "
   ]
  },
  {
   "cell_type": "code",
   "execution_count": 57,
   "id": "12fef18b",
   "metadata": {},
   "outputs": [
    {
     "name": "stdout",
     "output_type": "stream",
     "text": [
      "enter first limit:2\n",
      "enter second limit:20\n",
      "2\n",
      "4\n",
      "6\n",
      "8\n",
      "10\n",
      "12\n",
      "14\n",
      "16\n",
      "18\n",
      "20\n"
     ]
    }
   ],
   "source": [
    "print_even_no()"
   ]
  },
  {
   "cell_type": "markdown",
   "id": "c4d9c4d2",
   "metadata": {},
   "source": [
    "13. Accept three positive integers as input and check if they form the \n",
    "sides of a right triangle. Print YES if they form one, and NO is they do \n",
    "not. The input will have three lines, with one integer on each line. \n",
    "The output should be a single line containing one of these two \n",
    "strings: YES or NO."
   ]
  },
  {
   "cell_type": "code",
   "execution_count": 58,
   "id": "20defe58",
   "metadata": {},
   "outputs": [],
   "source": [
    "def  checkrighttringle():\n",
    "    a = int(input('Enter the first side of triangle : '))\n",
    "    b = int(input('Enter the second side of triangle : '))\n",
    "    c = int(input('Enter the third side of triangle : '))\n",
    "    if a**2==b**2+c**2 or b**2 == c**2 + a**2 or c**2 == a**2 + b**2:  \n",
    "        print('it is a right tringle')\n",
    "    else:\n",
    "        print('it is not a right tringle')"
   ]
  },
  {
   "cell_type": "code",
   "execution_count": 59,
   "id": "936f9558",
   "metadata": {},
   "outputs": [
    {
     "name": "stdout",
     "output_type": "stream",
     "text": [
      "Enter the first side of triangle : 5\n",
      "Enter the second side of triangle : 6\n",
      "Enter the third side of triangle : 2\n",
      "it is not a right tringle\n"
     ]
    }
   ],
   "source": [
    "checkrighttringle()"
   ]
  },
  {
   "cell_type": "markdown",
   "id": "87adecf4",
   "metadata": {},
   "source": [
    "17.Accept a string as input. Your task is to determine if the input string is a valid password or not. For a \n",
    "string to be a valid password, it must satisfy all the conditions given below:\n",
    "(1) It should have at least 8 and at most 32 characters\n",
    "(2) It should start with an uppercase or lowercase letter\n",
    "(3) It should not have any of these characters: / \\ = ' \"\n",
    "(4) It should not have spaces\n",
    "It could have any character that is not mentioned in the list of characters to be avoided (points 3 and \n",
    "4). Output True if the string forms a valid password and False otherwise"
   ]
  },
  {
   "cell_type": "code",
   "execution_count": 62,
   "id": "c15a93f3",
   "metadata": {},
   "outputs": [
    {
     "ename": "SyntaxError",
     "evalue": "unterminated string literal (detected at line 10) (1675173688.py, line 10)",
     "output_type": "error",
     "traceback": [
      "\u001b[1;36m  Cell \u001b[1;32mIn[62], line 10\u001b[1;36m\u001b[0m\n\u001b[1;33m    if i!='/' and i!='\\'and i!='='\u001b[0m\n\u001b[1;37m                                 ^\u001b[0m\n\u001b[1;31mSyntaxError\u001b[0m\u001b[1;31m:\u001b[0m unterminated string literal (detected at line 10)\n"
     ]
    }
   ],
   "source": [
    "def password()\n",
    "s=input(\"enter email id\")\n",
    "if (len(s)>=8 and len(s)<=32):\n",
    "    for i in s:\n",
    "        if i[0].islower():\n",
    "            i=i+1\n",
    "            if i[0].upper():\n",
    "                i=i+1\n",
    "                if i!='/' and i!='\\'and i!='='\n",
    "                print(true)\n",
    "                else:\n",
    "                    print(\"it is not valid passw)\n",
    "            \n"
   ]
  },
  {
   "cell_type": "code",
   "execution_count": null,
   "id": "64c8ae7b",
   "metadata": {},
   "outputs": [],
   "source": []
  }
 ],
 "metadata": {
  "kernelspec": {
   "display_name": "Python 3 (ipykernel)",
   "language": "python",
   "name": "python3"
  },
  "language_info": {
   "codemirror_mode": {
    "name": "ipython",
    "version": 3
   },
   "file_extension": ".py",
   "mimetype": "text/x-python",
   "name": "python",
   "nbconvert_exporter": "python",
   "pygments_lexer": "ipython3",
   "version": "3.11.3"
  }
 },
 "nbformat": 4,
 "nbformat_minor": 5
}
