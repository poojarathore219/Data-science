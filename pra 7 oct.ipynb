{
 "cells": [
  {
   "cell_type": "markdown",
   "id": "96a3faef",
   "metadata": {},
   "source": [
    "## inheritance"
   ]
  },
  {
   "cell_type": "code",
   "execution_count": 17,
   "id": "082a735e",
   "metadata": {},
   "outputs": [],
   "source": [
    "class a:\n",
    "    def test(self):\n",
    "        print(\"this test method is a part of class\")\n",
    "         \n",
    "    def test1(self):\n",
    "        print(\"this test1 from class\")"
   ]
  },
  {
   "cell_type": "code",
   "execution_count": 18,
   "id": "571fb514",
   "metadata": {},
   "outputs": [],
   "source": [
    "obj_a =a()"
   ]
  },
  {
   "cell_type": "code",
   "execution_count": 19,
   "id": "59f0be6a",
   "metadata": {},
   "outputs": [
    {
     "name": "stdout",
     "output_type": "stream",
     "text": [
      "this test method is a part of class\n"
     ]
    }
   ],
   "source": [
    "obj_a.test()"
   ]
  },
  {
   "cell_type": "code",
   "execution_count": 20,
   "id": "b1598278",
   "metadata": {},
   "outputs": [],
   "source": [
    "class b(a):\n",
    "    pass\n",
    "     "
   ]
  },
  {
   "cell_type": "code",
   "execution_count": 21,
   "id": "ba8af274",
   "metadata": {},
   "outputs": [],
   "source": [
    "obj_b = b()"
   ]
  },
  {
   "cell_type": "code",
   "execution_count": 22,
   "id": "b117fe5b",
   "metadata": {},
   "outputs": [
    {
     "name": "stdout",
     "output_type": "stream",
     "text": [
      "this test method is a part of class\n"
     ]
    }
   ],
   "source": [
    "obj_b.test()"
   ]
  },
  {
   "cell_type": "code",
   "execution_count": 23,
   "id": "c42f5cbb",
   "metadata": {},
   "outputs": [
    {
     "name": "stdout",
     "output_type": "stream",
     "text": [
      "this test method is a part of class\n"
     ]
    }
   ],
   "source": [
    "obj_b.test1()"
   ]
  },
  {
   "cell_type": "code",
   "execution_count": 24,
   "id": "94d12735",
   "metadata": {},
   "outputs": [],
   "source": [
    "class lecture:\n",
    "    def topic(self):\n",
    "        print(\"today class we are discussing  about condept in oops\")\n",
    "        \n",
    "    def timing(self):\n",
    "            print(\"timing for todayclass is 9 Am ist\")\n",
    "            \n",
    "    def end_time(self):\n",
    "        print(\"this i will try to end class bit early\")\n",
    "        "
   ]
  },
  {
   "cell_type": "code",
   "execution_count": 33,
   "id": "e95f0ec2",
   "metadata": {},
   "outputs": [],
   "source": [
    "class student(lecture):\n",
    "    \n",
    "    def student_details(self):\n",
    "        print(\"this class will give you a student details\")"
   ]
  },
  {
   "cell_type": "code",
   "execution_count": 34,
   "id": "bdbdf1c5",
   "metadata": {},
   "outputs": [],
   "source": [
    "naval =student()"
   ]
  },
  {
   "cell_type": "code",
   "execution_count": 35,
   "id": "2f04fcb6",
   "metadata": {},
   "outputs": [
    {
     "name": "stdout",
     "output_type": "stream",
     "text": [
      "today class we are discussing  about condept in oops\n"
     ]
    }
   ],
   "source": [
    "naval.topic()"
   ]
  },
  {
   "cell_type": "code",
   "execution_count": 36,
   "id": "5ed405a2",
   "metadata": {},
   "outputs": [
    {
     "name": "stdout",
     "output_type": "stream",
     "text": [
      "timing for todayclass is 9 Am ist\n"
     ]
    }
   ],
   "source": [
    "savi =student()\n",
    "savi.timing()"
   ]
  },
  {
   "cell_type": "code",
   "execution_count": 39,
   "id": "0badfa30",
   "metadata": {},
   "outputs": [],
   "source": [
    "class teacher(student):\n",
    "    def details(self):\n",
    "             print(\"this will give u a details about teacher\")"
   ]
  },
  {
   "cell_type": "code",
   "execution_count": 40,
   "id": "03236d2e",
   "metadata": {},
   "outputs": [
    {
     "name": "stdout",
     "output_type": "stream",
     "text": [
      "timing for todayclass is 9 Am ist\n"
     ]
    }
   ],
   "source": [
    "pooja = teacher()\n",
    "pooja.timing()"
   ]
  },
  {
   "cell_type": "code",
   "execution_count": 59,
   "id": "73a09364",
   "metadata": {},
   "outputs": [],
   "source": [
    "class lecture:\n",
    "    def topic(self):\n",
    "        print(\"today class we are discussing  about condept in oops\")\n",
    "        \n",
    "    def timing(self):\n",
    "            print(\"timing for todayclass is 9 Am ist\")\n",
    "            \n",
    "    def end_time(self):\n",
    "        print(\"this i will try to end class bit early\")\n",
    "        "
   ]
  },
  {
   "cell_type": "code",
   "execution_count": 70,
   "id": "7b5d9ca5",
   "metadata": {},
   "outputs": [],
   "source": [
    "class student:\n",
    "    \n",
    "    def student_details(self):\n",
    "        print(\"this class will give you a student details\")\n",
    "        \n",
    "        def timing(self):\n",
    "            print(\"timing for fun \")\n",
    "            "
   ]
  },
  {
   "cell_type": "code",
   "execution_count": 71,
   "id": "65617b99",
   "metadata": {},
   "outputs": [],
   "source": [
    "class teacher(student,lecture):\n",
    "    def details(self):\n",
    "             print(\"this will give u a details about teacher\")"
   ]
  },
  {
   "cell_type": "code",
   "execution_count": 72,
   "id": "2be7cd5c",
   "metadata": {},
   "outputs": [],
   "source": [
    "krish =teacher()"
   ]
  },
  {
   "cell_type": "code",
   "execution_count": 73,
   "id": "638bfa0c",
   "metadata": {},
   "outputs": [
    {
     "name": "stdout",
     "output_type": "stream",
     "text": [
      "timing for todayclass is 9 Am ist\n"
     ]
    }
   ],
   "source": [
    "krish.timing()"
   ]
  },
  {
   "cell_type": "code",
   "execution_count": 74,
   "id": "ba338400",
   "metadata": {},
   "outputs": [
    {
     "name": "stdout",
     "output_type": "stream",
     "text": [
      "this class will give you a student details\n"
     ]
    }
   ],
   "source": [
    "krish.student_details()"
   ]
  },
  {
   "cell_type": "code",
   "execution_count": 69,
   "id": "f8ddc5a6",
   "metadata": {},
   "outputs": [
    {
     "name": "stdout",
     "output_type": "stream",
     "text": [
      "this will give u a details about teacher\n"
     ]
    }
   ],
   "source": [
    "krish.details()"
   ]
  },
  {
   "cell_type": "code",
   "execution_count": null,
   "id": "e83d00bf",
   "metadata": {},
   "outputs": [],
   "source": []
  }
 ],
 "metadata": {
  "kernelspec": {
   "display_name": "Python 3 (ipykernel)",
   "language": "python",
   "name": "python3"
  },
  "language_info": {
   "codemirror_mode": {
    "name": "ipython",
    "version": 3
   },
   "file_extension": ".py",
   "mimetype": "text/x-python",
   "name": "python",
   "nbconvert_exporter": "python",
   "pygments_lexer": "ipython3",
   "version": "3.11.3"
  }
 },
 "nbformat": 4,
 "nbformat_minor": 5
}
