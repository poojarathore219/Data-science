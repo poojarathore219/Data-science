{
 "cells": [
  {
   "cell_type": "code",
   "execution_count": null,
   "id": "66187799",
   "metadata": {},
   "outputs": [],
   "source": [
    "#Q.1.............."
   ]
  },
  {
   "cell_type": "code",
   "execution_count": 1,
   "id": "94792dce",
   "metadata": {},
   "outputs": [
    {
     "name": "stdout",
     "output_type": "stream",
     "text": [
      "Requirement already satisfied: flask in c:\\users\\pooja rathore\\new folder\\a\\lib\\site-packages (2.2.2)\n",
      "Requirement already satisfied: beautifulsoup4 in c:\\users\\pooja rathore\\new folder\\a\\lib\\site-packages (4.12.2)\n",
      "Requirement already satisfied: requests in c:\\users\\pooja rathore\\new folder\\a\\lib\\site-packages (2.31.0)\n",
      "Requirement already satisfied: Werkzeug>=2.2.2 in c:\\users\\pooja rathore\\new folder\\a\\lib\\site-packages (from flask) (2.2.3)\n",
      "Requirement already satisfied: Jinja2>=3.0 in c:\\users\\pooja rathore\\new folder\\a\\lib\\site-packages (from flask) (3.1.2)\n",
      "Requirement already satisfied: itsdangerous>=2.0 in c:\\users\\pooja rathore\\new folder\\a\\lib\\site-packages (from flask) (2.0.1)\n",
      "Requirement already satisfied: click>=8.0 in c:\\users\\pooja rathore\\new folder\\a\\lib\\site-packages (from flask) (8.0.4)\n",
      "Requirement already satisfied: soupsieve>1.2 in c:\\users\\pooja rathore\\new folder\\a\\lib\\site-packages (from beautifulsoup4) (2.4)\n",
      "Requirement already satisfied: charset-normalizer<4,>=2 in c:\\users\\pooja rathore\\new folder\\a\\lib\\site-packages (from requests) (2.0.4)\n",
      "Requirement already satisfied: idna<4,>=2.5 in c:\\users\\pooja rathore\\new folder\\a\\lib\\site-packages (from requests) (3.4)\n",
      "Requirement already satisfied: urllib3<3,>=1.21.1 in c:\\users\\pooja rathore\\new folder\\a\\lib\\site-packages (from requests) (1.26.16)\n",
      "Requirement already satisfied: certifi>=2017.4.17 in c:\\users\\pooja rathore\\new folder\\a\\lib\\site-packages (from requests) (2023.7.22)\n",
      "Requirement already satisfied: colorama in c:\\users\\pooja rathore\\new folder\\a\\lib\\site-packages (from click>=8.0->flask) (0.4.6)\n",
      "Requirement already satisfied: MarkupSafe>=2.0 in c:\\users\\pooja rathore\\new folder\\a\\lib\\site-packages (from Jinja2>=3.0->flask) (2.1.1)\n",
      "Note: you may need to restart the kernel to use updated packages.\n"
     ]
    }
   ],
   "source": [
    "pip install flask beautifulsoup4 requests\n"
   ]
  },
  {
   "cell_type": "code",
   "execution_count": 2,
   "id": "cf7f936d",
   "metadata": {},
   "outputs": [
    {
     "name": "stdout",
     "output_type": "stream",
     "text": [
      " * Serving Flask app '__main__'\n",
      " * Debug mode: on\n"
     ]
    },
    {
     "name": "stderr",
     "output_type": "stream",
     "text": [
      "WARNING: This is a development server. Do not use it in a production deployment. Use a production WSGI server instead.\n",
      " * Running on http://127.0.0.1:5000\n",
      "Press CTRL+C to quit\n",
      " * Restarting with watchdog (windowsapi)\n"
     ]
    },
    {
     "ename": "SystemExit",
     "evalue": "1",
     "output_type": "error",
     "traceback": [
      "An exception has occurred, use %tb to see the full traceback.\n",
      "\u001b[1;31mSystemExit\u001b[0m\u001b[1;31m:\u001b[0m 1\n"
     ]
    },
    {
     "name": "stderr",
     "output_type": "stream",
     "text": [
      "C:\\Users\\Pooja Rathore\\New folder\\A\\Lib\\site-packages\\IPython\\core\\interactiveshell.py:3513: UserWarning: To exit: use 'exit', 'quit', or Ctrl-D.\n",
      "  warn(\"To exit: use 'exit', 'quit', or Ctrl-D.\", stacklevel=1)\n"
     ]
    }
   ],
   "source": [
    "from flask import Flask, render_template\n",
    "import requests\n",
    "from bs4 import BeautifulSoup\n",
    "\n",
    "app = Flask(__name__)\n",
    "\n",
    "def scrape_youtube():\n",
    "    url = \"https://www.youtube.com/results?search_query=python+tutorial\"\n",
    "    response = requests.get(url)\n",
    "    soup = BeautifulSoup(response.text, 'html.parser')\n",
    "    titles = [title.text for title in soup.find_all('a', {'id': 'video-title'})]\n",
    "    return titles\n",
    "\n",
    "def scrape_amazon():\n",
    "    url = \"https://www.amazon.com/s?k=python+books\"\n",
    "    headers = {\"User-Agent\": \"Mozilla/5.0 (Windows NT 10.0; Win64; x64)\"}\n",
    "    response = requests.get(url, headers=headers)\n",
    "    soup = BeautifulSoup(response.text, 'html.parser')\n",
    "    products = [product.text.strip() for product in soup.find_all('span', {'class': 'a-text-normal'})]\n",
    "    return products\n",
    "\n",
    "@app.route('/')\n",
    "def index():\n",
    "    youtube_data = scrape_youtube()\n",
    "    amazon_data = scrape_amazon()\n",
    "    return render_template('index.html', youtube_data=youtube_data, amazon_data=amazon_data)\n",
    "\n",
    "if __name__ == '__main__':\n",
    "    app.run(debug=True)\n"
   ]
  },
  {
   "cell_type": "code",
   "execution_count": 4,
   "id": "5cd9a046",
   "metadata": {},
   "outputs": [],
   "source": [
    "#.Q.2...........\n"
   ]
  },
  {
   "cell_type": "code",
   "execution_count": 5,
   "id": "11c32d76",
   "metadata": {},
   "outputs": [
    {
     "name": "stdout",
     "output_type": "stream",
     "text": [
      "Requirement already satisfied: flask in c:\\users\\pooja rathore\\new folder\\a\\lib\\site-packages (2.2.2)\n",
      "Requirement already satisfied: requests in c:\\users\\pooja rathore\\new folder\\a\\lib\\site-packages (2.31.0)\n",
      "Requirement already satisfied: Werkzeug>=2.2.2 in c:\\users\\pooja rathore\\new folder\\a\\lib\\site-packages (from flask) (2.2.3)\n",
      "Requirement already satisfied: Jinja2>=3.0 in c:\\users\\pooja rathore\\new folder\\a\\lib\\site-packages (from flask) (3.1.2)\n",
      "Requirement already satisfied: itsdangerous>=2.0 in c:\\users\\pooja rathore\\new folder\\a\\lib\\site-packages (from flask) (2.0.1)\n",
      "Requirement already satisfied: click>=8.0 in c:\\users\\pooja rathore\\new folder\\a\\lib\\site-packages (from flask) (8.0.4)\n",
      "Requirement already satisfied: charset-normalizer<4,>=2 in c:\\users\\pooja rathore\\new folder\\a\\lib\\site-packages (from requests) (2.0.4)\n",
      "Requirement already satisfied: idna<4,>=2.5 in c:\\users\\pooja rathore\\new folder\\a\\lib\\site-packages (from requests) (3.4)\n",
      "Requirement already satisfied: urllib3<3,>=1.21.1 in c:\\users\\pooja rathore\\new folder\\a\\lib\\site-packages (from requests) (1.26.16)\n",
      "Requirement already satisfied: certifi>=2017.4.17 in c:\\users\\pooja rathore\\new folder\\a\\lib\\site-packages (from requests) (2023.7.22)\n",
      "Requirement already satisfied: colorama in c:\\users\\pooja rathore\\new folder\\a\\lib\\site-packages (from click>=8.0->flask) (0.4.6)\n",
      "Requirement already satisfied: MarkupSafe>=2.0 in c:\\users\\pooja rathore\\new folder\\a\\lib\\site-packages (from Jinja2>=3.0->flask) (2.1.1)\n",
      "Note: you may need to restart the kernel to use updated packages.\n"
     ]
    }
   ],
   "source": [
    "pip install flask requests\n"
   ]
  },
  {
   "cell_type": "code",
   "execution_count": 6,
   "id": "2d5febff",
   "metadata": {},
   "outputs": [
    {
     "name": "stdout",
     "output_type": "stream",
     "text": [
      " * Serving Flask app '__main__'\n",
      " * Debug mode: on\n"
     ]
    },
    {
     "name": "stderr",
     "output_type": "stream",
     "text": [
      "WARNING: This is a development server. Do not use it in a production deployment. Use a production WSGI server instead.\n",
      " * Running on http://127.0.0.1:5000\n",
      "Press CTRL+C to quit\n",
      " * Restarting with watchdog (windowsapi)\n"
     ]
    },
    {
     "ename": "SystemExit",
     "evalue": "1",
     "output_type": "error",
     "traceback": [
      "An exception has occurred, use %tb to see the full traceback.\n",
      "\u001b[1;31mSystemExit\u001b[0m\u001b[1;31m:\u001b[0m 1\n"
     ]
    }
   ],
   "source": [
    "from flask import Flask, render_template\n",
    "import requests\n",
    "\n",
    "app = Flask(__name__)\n",
    "\n",
    "def get_weather_data():\n",
    "    api_key = \"YOUR_OPENWEATHERMAP_API_KEY\"\n",
    "    city = \"London\"\n",
    "    url = f\"http://api.openweathermap.org/data/2.5/weather?q={city}&appid={api_key}\"\n",
    "    response = requests.get(url)\n",
    "    return response.json()\n",
    "\n",
    "@app.route('/')\n",
    "def index():\n",
    "    weather_data = get_weather_data()\n",
    "    return render_template('index.html', weather_data=weather_data)\n",
    "\n",
    "if __name__ == '__main__':\n",
    "    app.run(debug=True)\n"
   ]
  },
  {
   "cell_type": "code",
   "execution_count": null,
   "id": "7665b4ba",
   "metadata": {},
   "outputs": [],
   "source": [
    "#Q.3..........."
   ]
  },
  {
   "cell_type": "code",
   "execution_count": 7,
   "id": "364ecce7",
   "metadata": {},
   "outputs": [
    {
     "name": "stdout",
     "output_type": "stream",
     "text": [
      "Requirement already satisfied: flask in c:\\users\\pooja rathore\\new folder\\a\\lib\\site-packages (2.2.2)\n",
      "Collecting flask-dance\n",
      "  Obtaining dependency information for flask-dance from https://files.pythonhosted.org/packages/75/8c/4125e9f1196e5ab9675d38ff445ae4abd7085aba7551335980ac19196389/flask_dance-7.1.0-py3-none-any.whl.metadata\n",
      "  Downloading flask_dance-7.1.0-py3-none-any.whl.metadata (6.9 kB)\n",
      "Requirement already satisfied: Werkzeug>=2.2.2 in c:\\users\\pooja rathore\\new folder\\a\\lib\\site-packages (from flask) (2.2.3)\n",
      "Requirement already satisfied: Jinja2>=3.0 in c:\\users\\pooja rathore\\new folder\\a\\lib\\site-packages (from flask) (3.1.2)\n",
      "Requirement already satisfied: itsdangerous>=2.0 in c:\\users\\pooja rathore\\new folder\\a\\lib\\site-packages (from flask) (2.0.1)\n",
      "Requirement already satisfied: click>=8.0 in c:\\users\\pooja rathore\\new folder\\a\\lib\\site-packages (from flask) (8.0.4)\n",
      "Requirement already satisfied: requests>=2.0 in c:\\users\\pooja rathore\\new folder\\a\\lib\\site-packages (from flask-dance) (2.31.0)\n",
      "Collecting oauthlib>=3.2 (from flask-dance)\n",
      "  Obtaining dependency information for oauthlib>=3.2 from https://files.pythonhosted.org/packages/7e/80/cab10959dc1faead58dc8384a781dfbf93cb4d33d50988f7a69f1b7c9bbe/oauthlib-3.2.2-py3-none-any.whl.metadata\n",
      "  Downloading oauthlib-3.2.2-py3-none-any.whl.metadata (7.5 kB)\n",
      "Collecting requests-oauthlib>=1.0.0 (from flask-dance)\n",
      "  Obtaining dependency information for requests-oauthlib>=1.0.0 from https://files.pythonhosted.org/packages/3b/5d/63d4ae3b9daea098d5d6f5da83984853c1bbacd5dc826764b249fe119d24/requests_oauthlib-2.0.0-py2.py3-none-any.whl.metadata\n",
      "  Downloading requests_oauthlib-2.0.0-py2.py3-none-any.whl.metadata (11 kB)\n",
      "Collecting urlobject (from flask-dance)\n",
      "  Downloading URLObject-2.4.3.tar.gz (27 kB)\n",
      "  Preparing metadata (setup.py): started\n",
      "  Preparing metadata (setup.py): finished with status 'done'\n",
      "Requirement already satisfied: colorama in c:\\users\\pooja rathore\\new folder\\a\\lib\\site-packages (from click>=8.0->flask) (0.4.6)\n",
      "Requirement already satisfied: MarkupSafe>=2.0 in c:\\users\\pooja rathore\\new folder\\a\\lib\\site-packages (from Jinja2>=3.0->flask) (2.1.1)\n",
      "Requirement already satisfied: charset-normalizer<4,>=2 in c:\\users\\pooja rathore\\new folder\\a\\lib\\site-packages (from requests>=2.0->flask-dance) (2.0.4)\n",
      "Requirement already satisfied: idna<4,>=2.5 in c:\\users\\pooja rathore\\new folder\\a\\lib\\site-packages (from requests>=2.0->flask-dance) (3.4)\n",
      "Requirement already satisfied: urllib3<3,>=1.21.1 in c:\\users\\pooja rathore\\new folder\\a\\lib\\site-packages (from requests>=2.0->flask-dance) (1.26.16)\n",
      "Requirement already satisfied: certifi>=2017.4.17 in c:\\users\\pooja rathore\\new folder\\a\\lib\\site-packages (from requests>=2.0->flask-dance) (2023.7.22)\n",
      "Downloading flask_dance-7.1.0-py3-none-any.whl (62 kB)\n",
      "   ---------------------------------------- 0.0/62.2 kB ? eta -:--:--\n",
      "   ------ --------------------------------- 10.2/62.2 kB ? eta -:--:--\n",
      "   ------ --------------------------------- 10.2/62.2 kB ? eta -:--:--\n",
      "   ------------------- -------------------- 30.7/62.2 kB 435.7 kB/s eta 0:00:01\n",
      "   ------------------- -------------------- 30.7/62.2 kB 435.7 kB/s eta 0:00:01\n",
      "   -------------------------- ------------- 41.0/62.2 kB 178.6 kB/s eta 0:00:01\n",
      "   -------------------------- ------------- 41.0/62.2 kB 178.6 kB/s eta 0:00:01\n",
      "   ---------------------------------------  61.4/62.2 kB 192.5 kB/s eta 0:00:01\n",
      "   ---------------------------------------- 62.2/62.2 kB 184.8 kB/s eta 0:00:00\n",
      "Downloading oauthlib-3.2.2-py3-none-any.whl (151 kB)\n",
      "   ---------------------------------------- 0.0/151.7 kB ? eta -:--:--\n",
      "   ---------------------------------------- 0.0/151.7 kB ? eta -:--:--\n",
      "   ---------------------------------------- 0.0/151.7 kB ? eta -:--:--\n",
      "   -- ------------------------------------- 10.2/151.7 kB ? eta -:--:--\n",
      "   -- ------------------------------------- 10.2/151.7 kB ? eta -:--:--\n",
      "   ------- ------------------------------- 30.7/151.7 kB 262.6 kB/s eta 0:00:01\n",
      "   ------- ------------------------------- 30.7/151.7 kB 262.6 kB/s eta 0:00:01\n",
      "   ---------- ---------------------------- 41.0/151.7 kB 178.6 kB/s eta 0:00:01\n",
      "   --------------- ----------------------- 61.4/151.7 kB 233.8 kB/s eta 0:00:01\n",
      "   ------------------ -------------------- 71.7/151.7 kB 245.8 kB/s eta 0:00:01\n",
      "   ------------------ -------------------- 71.7/151.7 kB 245.8 kB/s eta 0:00:01\n",
      "   ------------------ -------------------- 71.7/151.7 kB 245.8 kB/s eta 0:00:01\n",
      "   ----------------------------------- -- 143.4/151.7 kB 315.4 kB/s eta 0:00:01\n",
      "   -------------------------------------- 151.7/151.7 kB 322.9 kB/s eta 0:00:00\n",
      "Downloading requests_oauthlib-2.0.0-py2.py3-none-any.whl (24 kB)\n",
      "Building wheels for collected packages: urlobject\n",
      "  Building wheel for urlobject (setup.py): started\n",
      "  Building wheel for urlobject (setup.py): finished with status 'done'\n",
      "  Created wheel for urlobject: filename=URLObject-2.4.3-py3-none-any.whl size=14520 sha256=2b2d31000f42587c380683ad7476d9438f243a480295b20adb45e2dc02ef0196\n",
      "  Stored in directory: c:\\users\\pooja rathore\\appdata\\local\\pip\\cache\\wheels\\63\\69\\1e\\27e9ecc1870bf9862cc2fb31933b498d6cc6a350e5569d424a\n",
      "Successfully built urlobject\n",
      "Installing collected packages: urlobject, oauthlib, requests-oauthlib, flask-dance\n",
      "Successfully installed flask-dance-7.1.0 oauthlib-3.2.2 requests-oauthlib-2.0.0 urlobject-2.4.3\n",
      "Note: you may need to restart the kernel to use updated packages.\n"
     ]
    }
   ],
   "source": [
    "pip install flask flask-dance\n"
   ]
  },
  {
   "cell_type": "code",
   "execution_count": 8,
   "id": "4e43cae5",
   "metadata": {},
   "outputs": [
    {
     "name": "stdout",
     "output_type": "stream",
     "text": [
      " * Serving Flask app '__main__'\n",
      " * Debug mode: on\n"
     ]
    },
    {
     "name": "stderr",
     "output_type": "stream",
     "text": [
      "WARNING: This is a development server. Do not use it in a production deployment. Use a production WSGI server instead.\n",
      " * Running on http://127.0.0.1:5000\n",
      "Press CTRL+C to quit\n",
      " * Restarting with watchdog (windowsapi)\n"
     ]
    },
    {
     "ename": "SystemExit",
     "evalue": "1",
     "output_type": "error",
     "traceback": [
      "An exception has occurred, use %tb to see the full traceback.\n",
      "\u001b[1;31mSystemExit\u001b[0m\u001b[1;31m:\u001b[0m 1\n"
     ]
    }
   ],
   "source": [
    "from flask import Flask, redirect, url_for\n",
    "from flask_dance.contrib.google import make_google_blueprint, google\n",
    "\n",
    "app = Flask(__name__)\n",
    "app.secret_key = 'random_secret_key'\n",
    "google_bp = make_google_blueprint(client_id='YOUR_GOOGLE_CLIENT_ID', client_secret='YOUR_GOOGLE_CLIENT_SECRET', redirect_to='google_login')\n",
    "app.register_blueprint(google_bp, url_prefix='/google_login')\n",
    "\n",
    "@app.route('/')\n",
    "def home():\n",
    "    if not google.authorized:\n",
    "        return redirect(url_for('google.login'))\n",
    "    resp = google.get('/plus/v1/people/me')\n",
    "    assert resp.ok, resp.text\n",
    "    user_info = resp.json()\n",
    "    return f'Logged in as: {user_info[\"displayName\"]}'\n",
    "\n",
    "if __name__ == '__main__':\n",
    "    app.run(debug=True)\n"
   ]
  },
  {
   "cell_type": "code",
   "execution_count": 10,
   "id": "6bfbf885",
   "metadata": {},
   "outputs": [],
   "source": [
    "#Q.4........\n",
    "\n"
   ]
  },
  {
   "cell_type": "code",
   "execution_count": 11,
   "id": "ca219702",
   "metadata": {},
   "outputs": [
    {
     "name": "stdout",
     "output_type": "stream",
     "text": [
      "Requirement already satisfied: flask in c:\\users\\pooja rathore\\new folder\\a\\lib\\site-packages (2.2.2)\n",
      "Requirement already satisfied: scikit-learn in c:\\users\\pooja rathore\\new folder\\a\\lib\\site-packages (1.3.0)\n",
      "Requirement already satisfied: pandas in c:\\users\\pooja rathore\\new folder\\a\\lib\\site-packages (1.5.3)\n",
      "Requirement already satisfied: Werkzeug>=2.2.2 in c:\\users\\pooja rathore\\new folder\\a\\lib\\site-packages (from flask) (2.2.3)\n",
      "Requirement already satisfied: Jinja2>=3.0 in c:\\users\\pooja rathore\\new folder\\a\\lib\\site-packages (from flask) (3.1.2)\n",
      "Requirement already satisfied: itsdangerous>=2.0 in c:\\users\\pooja rathore\\new folder\\a\\lib\\site-packages (from flask) (2.0.1)\n",
      "Requirement already satisfied: click>=8.0 in c:\\users\\pooja rathore\\new folder\\a\\lib\\site-packages (from flask) (8.0.4)\n",
      "Requirement already satisfied: numpy>=1.17.3 in c:\\users\\pooja rathore\\new folder\\a\\lib\\site-packages (from scikit-learn) (1.24.3)\n",
      "Requirement already satisfied: scipy>=1.5.0 in c:\\users\\pooja rathore\\new folder\\a\\lib\\site-packages (from scikit-learn) (1.10.1)\n",
      "Requirement already satisfied: joblib>=1.1.1 in c:\\users\\pooja rathore\\new folder\\a\\lib\\site-packages (from scikit-learn) (1.2.0)\n",
      "Requirement already satisfied: threadpoolctl>=2.0.0 in c:\\users\\pooja rathore\\new folder\\a\\lib\\site-packages (from scikit-learn) (2.2.0)\n",
      "Requirement already satisfied: python-dateutil>=2.8.1 in c:\\users\\pooja rathore\\new folder\\a\\lib\\site-packages (from pandas) (2.8.2)\n",
      "Requirement already satisfied: pytz>=2020.1 in c:\\users\\pooja rathore\\new folder\\a\\lib\\site-packages (from pandas) (2022.7)\n",
      "Requirement already satisfied: colorama in c:\\users\\pooja rathore\\new folder\\a\\lib\\site-packages (from click>=8.0->flask) (0.4.6)\n",
      "Requirement already satisfied: MarkupSafe>=2.0 in c:\\users\\pooja rathore\\new folder\\a\\lib\\site-packages (from Jinja2>=3.0->flask) (2.1.1)\n",
      "Requirement already satisfied: six>=1.5 in c:\\users\\pooja rathore\\new folder\\a\\lib\\site-packages (from python-dateutil>=2.8.1->pandas) (1.16.0)\n",
      "Note: you may need to restart the kernel to use updated packages.\n"
     ]
    }
   ],
   "source": [
    "pip install flask scikit-learn pandas"
   ]
  },
  {
   "cell_type": "code",
   "execution_count": 12,
   "id": "308bdf4a",
   "metadata": {},
   "outputs": [
    {
     "name": "stdout",
     "output_type": "stream",
     "text": [
      " * Serving Flask app '__main__'\n",
      " * Debug mode: on\n"
     ]
    },
    {
     "name": "stderr",
     "output_type": "stream",
     "text": [
      "WARNING: This is a development server. Do not use it in a production deployment. Use a production WSGI server instead.\n",
      " * Running on http://127.0.0.1:5000\n",
      "Press CTRL+C to quit\n",
      " * Restarting with watchdog (windowsapi)\n"
     ]
    },
    {
     "ename": "SystemExit",
     "evalue": "1",
     "output_type": "error",
     "traceback": [
      "An exception has occurred, use %tb to see the full traceback.\n",
      "\u001b[1;31mSystemExit\u001b[0m\u001b[1;31m:\u001b[0m 1\n"
     ]
    },
    {
     "name": "stderr",
     "output_type": "stream",
     "text": [
      "C:\\Users\\Pooja Rathore\\New folder\\A\\Lib\\site-packages\\IPython\\core\\interactiveshell.py:3513: UserWarning: To exit: use 'exit', 'quit', or Ctrl-D.\n",
      "  warn(\"To exit: use 'exit', 'quit', or Ctrl-D.\", stacklevel=1)\n"
     ]
    }
   ],
   "source": [
    "from flask import Flask, render_template, request\n",
    "import pandas as pd\n",
    "from sklearn.feature_extraction.text import TfidfVectorizer\n",
    "from sklearn.metrics.pairwise import cosine_similarity\n",
    "\n",
    "app = Flask(__name__)\n",
    "\n",
    "# Sample content (e.g., movie titles and descriptions)\n",
    "movies = pd.DataFrame({\n",
    "    'title': ['Movie A', 'Movie B', 'Movie C'],\n",
    "    'description': ['Action movie with thrills', 'Romantic movie with drama', 'Sci-fi adventure with robots']\n",
    "})\n",
    "\n",
    "# Vectorization of movie descriptions\n",
    "tfidf = TfidfVectorizer(stop_words='english')\n",
    "tfidf_matrix = tfidf.fit_transform(movies['description'])\n",
    "cosine_sim = cosine_similarity(tfidf_matrix, tfidf_matrix)\n",
    "\n",
    "def get_recommendations(title):\n",
    "    idx = movies.index[movies['title'] == title].tolist()[0]\n",
    "    sim_scores = list(enumerate(cosine_sim[idx]))\n",
    "    sim_scores = sorted(sim_scores, key=lambda x: x[1], reverse=True)\n",
    "    sim_scores = sim_scores[1:4]  # Get top 3 similar movies\n",
    "    movie_indices = [i[0] for i in sim_scores]\n",
    "    return movies['title'].iloc[movie_indices]\n",
    "\n",
    "@app.route('/', methods=['GET', 'POST'])\n",
    "def recommend():\n",
    "    if request.method == 'POST':\n",
    "        title = request.form['movie_title']\n",
    "        recommendations = get_recommendations(title)\n",
    "        return render_template('index.html', recommendations=recommendations)\n",
    "    return render_template('index.html')\n",
    "\n",
    "if __name__ == '__main__':\n",
    "    app.run(debug=True)\n"
   ]
  },
  {
   "cell_type": "code",
   "execution_count": null,
   "id": "87d53ec9",
   "metadata": {},
   "outputs": [],
   "source": []
  }
 ],
 "metadata": {
  "kernelspec": {
   "display_name": "Python 3 (ipykernel)",
   "language": "python",
   "name": "python3"
  },
  "language_info": {
   "codemirror_mode": {
    "name": "ipython",
    "version": 3
   },
   "file_extension": ".py",
   "mimetype": "text/x-python",
   "name": "python",
   "nbconvert_exporter": "python",
   "pygments_lexer": "ipython3",
   "version": "3.11.4"
  }
 },
 "nbformat": 4,
 "nbformat_minor": 5
}
