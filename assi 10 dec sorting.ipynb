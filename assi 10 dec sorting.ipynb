{
 "cells": [
  {
   "cell_type": "code",
   "execution_count": 3,
   "id": "d225dd2a",
   "metadata": {},
   "outputs": [],
   "source": [
    "## Missing The element in array wright the algorithm\n",
    "def missingno(arr,n):\n",
    "    expected_sum=n*(n+1)//2\n",
    "    summ=sum(arr)\n",
    "    return expected_sum-summ"
   ]
  },
  {
   "cell_type": "code",
   "execution_count": 4,
   "id": "21877682",
   "metadata": {},
   "outputs": [
    {
     "name": "stdout",
     "output_type": "stream",
     "text": [
      "4\n"
     ]
    }
   ],
   "source": [
    "arr=[1,2,3,5,6,7]\n",
    "n=7\n",
    "print(missingno(arr,n))"
   ]
  },
  {
   "cell_type": "code",
   "execution_count": 28,
   "id": "84836eb8",
   "metadata": {},
   "outputs": [],
   "source": [
    "## given an array of n no,s  give an algorithem which gives the ele appearing maximum no. of times\n",
    "## assignment 1\n",
    "arr=[1,2,3,4,4,5,6]\n",
    "def maxcount_ele(arr):\n",
    "    max_count=0\n",
    "    count=1\n",
    "    res=arr[0]\n",
    "    for i in range(0,len(arr)-1):\n",
    "        if arr[i]==arr[i+1]:\n",
    "            count=count+1\n",
    "        \n",
    "        else:\n",
    "            count=1\n",
    "        if count > max_count:\n",
    "            max_count=count\n",
    "            res=arr[i]\n",
    "    return res \n",
    "    "
   ]
  },
  {
   "cell_type": "code",
   "execution_count": 29,
   "id": "b78c27e6",
   "metadata": {},
   "outputs": [
    {
     "name": "stdout",
     "output_type": "stream",
     "text": [
      "4\n"
     ]
    }
   ],
   "source": [
    "print(maxcount_ele(arr))\n"
   ]
  },
  {
   "cell_type": "code",
   "execution_count": 9,
   "id": "4b6679cd",
   "metadata": {},
   "outputs": [
    {
     "name": "stdout",
     "output_type": "stream",
     "text": [
      "2\n"
     ]
    }
   ],
   "source": [
    "arr = [2,4,5,6,6,7]\n",
    "\n",
    "def maxcount(arr):\n",
    "    max_count = 1\n",
    "    count = 1\n",
    "\n",
    "    for i in range(0, len(arr) - 1):\n",
    "        if arr[i] == arr[i + 1]:\n",
    "            count = count + 1\n",
    "        else:\n",
    "            count = 1\n",
    "        \n",
    "        if count > max_count:\n",
    "            max_count = count\n",
    "    \n",
    "    return max_count\n",
    "\n",
    "print(maxcount(arr))"
   ]
  },
  {
   "cell_type": "code",
   "execution_count": 10,
   "id": "9a1ad3d4",
   "metadata": {},
   "outputs": [
    {
     "name": "stdout",
     "output_type": "stream",
     "text": [
      "2\n"
     ]
    }
   ],
   "source": [
    "## find maximum count with ......firstly sort the array then apply the logic in case array is not sorted\n",
    "arr=[3,2,4,5,4,6]\n",
    "arr.sort()\n",
    "\n",
    "def maxcount(arr):\n",
    "    max_count = 1\n",
    "    count = 1\n",
    "\n",
    "    for i in range(0, len(arr) - 1):\n",
    "        if arr[i] == arr[i + 1]:\n",
    "            count = count + 1\n",
    "        else:\n",
    "            count = 1\n",
    "        \n",
    "        if count > max_count:\n",
    "            max_count = count\n",
    "    \n",
    "    return max_count\n",
    "    return arr[i]\n",
    "print(maxcount(arr))\n"
   ]
  },
  {
   "cell_type": "code",
   "execution_count": 28,
   "id": "58d07501",
   "metadata": {},
   "outputs": [],
   "source": [
    "   ## Assisment 2\n",
    "## We are given a list of N - 1 integer and these increases are in the range of 1 to N there are no\n",
    "## duplicate in the list one of the integer is missing in the list given an algorithm to find that elements\n",
    "\n",
    "arr=[1,2,4,5,6,7,8]\n",
    "n=len(arr)\n",
    "def missingno(arr,n):\n",
    "    expected_sum=n*(n+1)//2\n",
    "    summ=sum(arr)\n",
    "    return expected_sum-summ\n",
    "    "
   ]
  },
  {
   "cell_type": "code",
   "execution_count": 11,
   "id": "81c57580",
   "metadata": {},
   "outputs": [],
   "source": [
    "\n",
    "## assignment 2\n",
    "\n",
    "def missingno(arr,n):\n",
    "    if (arr[0]!=1):\n",
    "        return 1\n",
    "    if(arr[n-1]!=(n+1)):\n",
    "        return size+1\n",
    "    \n",
    "    left=0\n",
    "    right=n-1\n",
    "    mid=0\n",
    "    while right>left+1 :\n",
    "        mid =(left+right)//2\n",
    "        if(arr[left]-left)!=(arr[mid]-mid):\n",
    "            right=mid\n",
    "        elif (arr[right]-right)!=(arr[mid]-mid):\n",
    "             left=mid\n",
    "    return arr[left]+1  \n",
    "        \n",
    "arr=[1,2,3,5,6]           "
   ]
  },
  {
   "cell_type": "code",
   "execution_count": 12,
   "id": "0458e6c5",
   "metadata": {},
   "outputs": [
    {
     "name": "stdout",
     "output_type": "stream",
     "text": [
      "4\n"
     ]
    }
   ],
   "source": [
    "print(missingno(arr,5))"
   ]
  },
  {
   "cell_type": "code",
   "execution_count": 13,
   "id": "9b71c3b2",
   "metadata": {},
   "outputs": [],
   "source": []
  },
  {
   "cell_type": "code",
   "execution_count": 36,
   "id": "9834b99e",
   "metadata": {},
   "outputs": [],
   "source": [
    "\n",
    "       # Assisment 3\n",
    "\n",
    "## Given a narrative in positive numbers all numbers occur even number of times except at \n",
    "## one which occur odd number of times find date number in 0(n) time and 0(1) space \n",
    "\n",
    " \n",
    "\n",
    "arr=[1,2,2,1,4,3,5,4,5]\n",
    "def oddnotimes(arr,n):\n",
    "    bubblesortoptimized(arr)\n",
    "    size=len(arr)\n",
    "    left=0\n",
    "    right=size-1\n",
    "    mid=left+right//2\n",
    "    while(left<right):\n",
    "        if(arr[mid]==arr[mid-1] or arr[mid]==arr[mid-1]):\n",
    "            left=mid\n",
    "        else:\n",
    "            return arr[mid]\n",
    "        \n",
    "        \n",
    "    \n",
    "    "
   ]
  },
  {
   "cell_type": "code",
   "execution_count": 37,
   "id": "7dedd5ca",
   "metadata": {},
   "outputs": [
    {
     "data": {
      "text/plain": [
       "3"
      ]
     },
     "execution_count": 37,
     "metadata": {},
     "output_type": "execute_result"
    }
   ],
   "source": [
    "oddnotimes(arr,9)"
   ]
  },
  {
   "cell_type": "code",
   "execution_count": 60,
   "id": "cfd7c240",
   "metadata": {},
   "outputs": [
    {
     "name": "stdout",
     "output_type": "stream",
     "text": [
      "[-8, 1, 4, 6, 10, 45]\n"
     ]
    }
   ],
   "source": [
    "arr=[1, 4, 45, 6, 10, -8]\n",
    "def bubblesortoptimized(arr):\n",
    "    for i in range(len(arr)-1,0,-1):\n",
    "        issorted=True\n",
    "        for j in range(i):\n",
    "            if(arr[j]>arr[j+1]):\n",
    "                arr[j],arr[j+1]=arr[j+1],arr[j]\n",
    "                issorted=False\n",
    "        if issorted :\n",
    "            break\n",
    "                    \n",
    "bubblesortoptimized(arr)   \n",
    "print(arr)\n",
    "\n"
   ]
  },
  {
   "cell_type": "code",
   "execution_count": 101,
   "id": "da86032b",
   "metadata": {},
   "outputs": [],
   "source": [
    "     ## Assisment 4\n",
    "\n",
    "\n",
    "## Given an array of an element fine two element in the such that there sum is equal to given element K\n",
    "\n",
    "arr=[1,2,3,4,5,6,7]\n",
    "def twosum(arr,n,sum):\n",
    "   \n",
    "    bubblesortoptimized(arr)\n",
    "    size=len(arr)   \n",
    "    left=0\n",
    "    right=size-1   \n",
    "    \n",
    "    while left<right:\n",
    "          if(arr[left]+arr[right]== sum):\n",
    "            return arr[left],arr[right]\n",
    "          elif (arr[left]+arr[right] < sum):\n",
    "                left=left+1\n",
    "          else:\n",
    "                righ=right-1\n",
    "    return False"
   ]
  },
  {
   "cell_type": "code",
   "execution_count": 46,
   "id": "7cad558d",
   "metadata": {},
   "outputs": [
    {
     "data": {
      "text/plain": [
       "(6, 7)"
      ]
     },
     "execution_count": 46,
     "metadata": {},
     "output_type": "execute_result"
    }
   ],
   "source": [
    "twosum(arr,7,13)"
   ]
  },
  {
   "cell_type": "code",
   "execution_count": 7,
   "id": "3450b2e9",
   "metadata": {},
   "outputs": [],
   "source": [
    "# Assignment 5\n",
    "\n",
    "##given an array of both poistive and nagative no ,find two no such that their sum is closest to 0\n",
    "arr=[1,60,-10,70,-80,85]\n",
    "\n",
    "def closesttozero(arr):\n",
    "    arr.sort()\n",
    "    pair=(arr[0],arr[1])\n",
    "    min_abs_sum=abs(arr[0]+arr[1])\n",
    "    \n",
    "    for i in range(0,len(arr)-1):\n",
    "        curr_sum=arr[i]+arr[i+1]\n",
    "        curr_abs_sum=abs(curr_sum)\n",
    "        \n",
    "        \n",
    "        if curr_abs_sum<min_abs_sum:\n",
    "            pair=arr[i],arr[i+1]\n",
    "    \n",
    "            min_abs_sum=curr_abs_sum\n",
    "            \n",
    "    return pair\n",
    "            \n",
    "        \n",
    "    "
   ]
  },
  {
   "cell_type": "code",
   "execution_count": 8,
   "id": "ab819ed2",
   "metadata": {},
   "outputs": [
    {
     "data": {
      "text/plain": [
       "(-10, 1)"
      ]
     },
     "execution_count": 8,
     "metadata": {},
     "output_type": "execute_result"
    }
   ],
   "source": [
    "closesttozero(arr)"
   ]
  },
  {
   "cell_type": "code",
   "execution_count": 61,
   "id": "45494aba",
   "metadata": {},
   "outputs": [],
   "source": [
    "     ## Assignment  6\n",
    "    \n",
    "## given an array of n element find three element such that their sum is equal to the given no.\n",
    "\n",
    "arr=[1,2,3,5,6,4,7]\n",
    "def threesum(arr,n,sum):\n",
    "   \n",
    "    bubblesortoptimized(arr)\n",
    "    size=len(arr)   \n",
    "    left=0\n",
    "    right=size-1   \n",
    "    mid=left+right//2\n",
    "    while left<right:\n",
    "           if(arr[left]+arr[mid]+arr[right])==sum:\n",
    "            return arr[left],arr[mid],arr[right]\n",
    "           elif (arr[left]+arr[mid]+arr[right])<sum:\n",
    "                mid=mid+1\n",
    "            \n",
    "           else:\n",
    "              right=right-1\n",
    "           "
   ]
  },
  {
   "cell_type": "code",
   "execution_count": 62,
   "id": "d7de1f47",
   "metadata": {},
   "outputs": [
    {
     "data": {
      "text/plain": [
       "(1, 5, 7)"
      ]
     },
     "execution_count": 62,
     "metadata": {},
     "output_type": "execute_result"
    }
   ],
   "source": [
    "threesum(arr,7,13)"
   ]
  },
  {
   "cell_type": "code",
   "execution_count": 57,
   "id": "b34d0959",
   "metadata": {},
   "outputs": [],
   "source": [
    "## Assignment 7\n",
    "## given an array of n element ,find three elemrnt i,j,k in the array such that  i*i+j*j=k*k\n",
    "\n",
    "\n",
    "def thyorum(arr,n):\n",
    "    n= len(arr)\n",
    "    for k in range(n-1,1,-1):\n",
    "        i=0\n",
    "        j=k-1\n",
    "        while(i<j):\n",
    "            if (arr[i]*arr[i]+arr[j]*arr[j])==arr[k]*arr[k]:\n",
    "                return (arr[i],arr[j],arr[k])\n",
    "            elif arr[i]*arr[i]+arr[j]*arr[j]<arr[k]*arr[k]:\n",
    "                i=i+1\n",
    "            else:\n",
    "                j=j-1\n",
    "    \n",
    "    return None\n",
    "\n",
    "arr=[2,3,4,5,6,7]"
   ]
  },
  {
   "cell_type": "code",
   "execution_count": 63,
   "id": "21421247",
   "metadata": {},
   "outputs": [
    {
     "data": {
      "text/plain": [
       "(3, 4, 5)"
      ]
     },
     "execution_count": 63,
     "metadata": {},
     "output_type": "execute_result"
    }
   ],
   "source": [
    "thyorum(arr,6)"
   ]
  },
  {
   "cell_type": "code",
   "execution_count": 62,
   "id": "a9f8f43e",
   "metadata": {},
   "outputs": [
    {
     "ename": "SyntaxError",
     "evalue": "'return' outside function (2042347163.py, line 22)",
     "output_type": "error",
     "traceback": [
      "\u001b[1;36m  Cell \u001b[1;32mIn[62], line 22\u001b[1;36m\u001b[0m\n\u001b[1;33m    return majority_ele\u001b[0m\n\u001b[1;37m    ^\u001b[0m\n\u001b[1;31mSyntaxError\u001b[0m\u001b[1;31m:\u001b[0m 'return' outside function\n"
     ]
    }
   ],
   "source": [
    "    ## assisment 8\n",
    "\n",
    "\n",
    "\n",
    "## an element is a majority if it apprears more than n/2 times, given an algorithem take an array of n ele \n",
    "##as arguments and identify a majority if it is exist\n",
    "def findmajority(arr,n):\n",
    "        n=len(arr)\n",
    "    max_count=0\n",
    "    majority_ele=0\n",
    "    \n",
    "    for i in range(0,n-1):\n",
    "        count=0\n",
    "        for j in range(i+1,n):\n",
    "            if arr[i]==arr[j]:\n",
    "                count=count+1\n",
    "                majority_ele=arr[i]\n",
    "            if count>max_count:\n",
    "                max_count=count\n",
    "                    \n",
    "                if  max_count>n//2:\n",
    "                    return majority_ele\n",
    "    else:\n",
    "        return (\"no majority\")"
   ]
  },
  {
   "cell_type": "code",
   "execution_count": 49,
   "id": "68312ba1",
   "metadata": {},
   "outputs": [
    {
     "ename": "NameError",
     "evalue": "name 'findmajority' is not defined",
     "output_type": "error",
     "traceback": [
      "\u001b[1;31m---------------------------------------------------------------------------\u001b[0m",
      "\u001b[1;31mNameError\u001b[0m                                 Traceback (most recent call last)",
      "Cell \u001b[1;32mIn[49], line 2\u001b[0m\n\u001b[0;32m      1\u001b[0m arr\u001b[38;5;241m=\u001b[39m[\u001b[38;5;241m1\u001b[39m,\u001b[38;5;241m2\u001b[39m,\u001b[38;5;241m3\u001b[39m,\u001b[38;5;241m2\u001b[39m,\u001b[38;5;241m3\u001b[39m,\u001b[38;5;241m4\u001b[39m,\u001b[38;5;241m2\u001b[39m,\u001b[38;5;241m2\u001b[39m,\u001b[38;5;241m2\u001b[39m,\u001b[38;5;241m2\u001b[39m]\n\u001b[1;32m----> 2\u001b[0m findmajority(arr,\u001b[38;5;241m10\u001b[39m)\n",
      "\u001b[1;31mNameError\u001b[0m: name 'findmajority' is not defined"
     ]
    }
   ],
   "source": [
    "arr=[1,2,3,2,3,4,2,2,2,2]\n",
    "findmajority(arr,10)"
   ]
  },
  {
   "cell_type": "code",
   "execution_count": 15,
   "id": "1a8c73ad",
   "metadata": {},
   "outputs": [
    {
     "ename": "IndentationError",
     "evalue": "unindent does not match any outer indentation level (<tokenize>, line 12)",
     "output_type": "error",
     "traceback": [
      "\u001b[1;36m  File \u001b[1;32m<tokenize>:12\u001b[1;36m\u001b[0m\n\u001b[1;33m    for j in range(0,n):\u001b[0m\n\u001b[1;37m    ^\u001b[0m\n\u001b[1;31mIndentationError\u001b[0m\u001b[1;31m:\u001b[0m unindent does not match any outer indentation level\n"
     ]
    }
   ],
   "source": [
    "      ## Assignment 9\n",
    "\n",
    "\n",
    "##Given n*n matrix and in each row all ones are followed by zeros find the row with the maximum number of 0,s\n",
    "## Given n*n  matrix and in each row all 1's followed by 0's find the row with the maximum number of 0's\n",
    "def maximum0(arr):\n",
    "    n=len(arr)\n",
    "    max_count=0\n",
    "    count=0\n",
    "    max_count_row=0\n",
    "    for i in range(0,n):\n",
    "        for j in range(0,n):\n",
    "            if arr[i][j]==0:\n",
    "                count=count+1\n",
    "    if count>max_count:\n",
    "                max_count_row=i\n",
    "                max_count=count\n",
    "        i=i+1\n",
    "    print(\"rowno =\", max_count_row)\n",
    "    print(\"total0's =\",max_count)\n",
    "                \n",
    "                    \n",
    "                \n",
    "            \n",
    "arr=[[1,0,0],[1,1,0],[0,0,0]]"
   ]
  },
  {
   "cell_type": "code",
   "execution_count": 92,
   "id": "22a90abf",
   "metadata": {},
   "outputs": [
    {
     "data": {
      "text/plain": [
       "[0, 0, 0, 0, 0, 1, 1, 1, 1, 1, 2, 2]"
      ]
     },
     "execution_count": 92,
     "metadata": {},
     "output_type": "execute_result"
    }
   ],
   "source": [
    "\n",
    "     #3 assisment 10\n",
    "\n",
    "\n",
    "## sort an array of 0's,1's,2's given array[] consisting 0,s ,1's, 2's  given an algoritham for sorting .\n",
    "##the alogo should  put all 0's first then 1's then 2's\n",
    "def sort(arr,left,right):\n",
    "    left=0\n",
    "    right=len(arr)-1\n",
    "    mid=0\n",
    "    while (mid<=right):\n",
    "           if arr[mid]==0 :\n",
    "                arr[left],arr[mid]=arr[mid],arr[left]\n",
    "                mid=mid+1\n",
    "                left=left+1\n",
    "           elif arr[mid]==1:\n",
    "                mid=mid+1\n",
    "           else:\n",
    "                arr[mid],arr[right]=arr[right],arr[mid]\n",
    "                right=right-1\n",
    "            \n",
    "    return arr   \n",
    "            \n",
    "            \n",
    "arr=[0,1,1,0,1,2,1,2,0,0,0,1]\n",
    "sort(arr,0,11)"
   ]
  },
  {
   "cell_type": "code",
   "execution_count": 6,
   "id": "f1db0f90",
   "metadata": {},
   "outputs": [],
   "source": []
  },
  {
   "cell_type": "code",
   "execution_count": 2,
   "id": "86cba0e5",
   "metadata": {},
   "outputs": [
    {
     "name": "stdout",
     "output_type": "stream",
     "text": [
      "rowno = 0\n",
      "total0's = 2\n",
      "rowno = 1\n",
      "total0's = 3\n",
      "rowno = 2\n",
      "total0's = 6\n"
     ]
    }
   ],
   "source": [
    "maximum0(arr)"
   ]
  },
  {
   "cell_type": "code",
   "execution_count": null,
   "id": "cbac6c6c",
   "metadata": {},
   "outputs": [],
   "source": []
  }
 ],
 "metadata": {
  "kernelspec": {
   "display_name": "Python 3 (ipykernel)",
   "language": "python",
   "name": "python3"
  },
  "language_info": {
   "codemirror_mode": {
    "name": "ipython",
    "version": 3
   },
   "file_extension": ".py",
   "mimetype": "text/x-python",
   "name": "python",
   "nbconvert_exporter": "python",
   "pygments_lexer": "ipython3",
   "version": "3.11.4"
  }
 },
 "nbformat": 4,
 "nbformat_minor": 5
}
