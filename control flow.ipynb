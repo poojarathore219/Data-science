{
 "cells": [
  {
   "cell_type": "code",
   "execution_count": 44,
   "id": "be1ed6bd-d100-485c-9d91-0702e3c7ac87",
   "metadata": {},
   "outputs": [
    {
     "name": "stdin",
     "output_type": "stream",
     "text": [
      "enter the age 6\n"
     ]
    },
    {
     "name": "stdout",
     "output_type": "stream",
     "text": [
      "this person is not eligible for vote\n"
     ]
    }
   ],
   "source": [
    "age=int(input(\"enter the age\"))\n",
    "if age<18:\n",
    "       print(\"this person is not eligible for vote\")\n",
    "else:\n",
    "     print(\"this person is  eligible for vote\")"
   ]
  },
  {
   "cell_type": "code",
   "execution_count": 2,
   "id": "e622ab58-d40b-481b-9323-004fd6c7b1bd",
   "metadata": {},
   "outputs": [
    {
     "name": "stdout",
     "output_type": "stream",
     "text": [
      "99\n"
     ]
    }
   ],
   "source": [
    "l=[45,25,44,99]\n",
    "for i in l:\n",
    "    max_no=l[0]\n",
    "    if i>max_no:\n",
    "        max_no=i\n",
    "        print(i)\n",
    "    "
   ]
  },
  {
   "cell_type": "code",
   "execution_count": 1,
   "id": "9823e28e-4c38-430e-a498-b93525e9ed73",
   "metadata": {},
   "outputs": [
    {
     "name": "stdin",
     "output_type": "stream",
     "text": [
      "Enter Year:  2023\n"
     ]
    },
    {
     "name": "stdout",
     "output_type": "stream",
     "text": [
      "2023 is not a Leap Year\n"
     ]
    }
   ],
   "source": [
    "year = int(input(\"Enter Year: \"))\n",
    "\n",
    "# Leap Year Check\n",
    "if year % 4 == 0 and year % 100 != 0:\n",
    "    print(year, \"is a Leap Year\")\n",
    "elif year % 100 == 0:\n",
    "    print(year, \"is not a Leap Year\")\n",
    "elif year % 400 ==0:\n",
    "    print(year, \"is a Leap Year\")\n",
    "else:\n",
    "    print(year, \"is not a Leap Year\")"
   ]
  },
  {
   "cell_type": "code",
   "execution_count": 51,
   "id": "d9c94ff4-05b5-4d65-8536-92cd5aaa802e",
   "metadata": {},
   "outputs": [
    {
     "name": "stdin",
     "output_type": "stream",
     "text": [
      "enter the charechtor k\n"
     ]
    },
    {
     "name": "stdout",
     "output_type": "stream",
     "text": [
      "k is vowel\n"
     ]
    }
   ],
   "source": [
    "##vowels consonent\n",
    "c = input(\"enter the charechtor\")\n",
    "if c == 'a'or'e'or'i'or'o'or'u':\n",
    "                 print(c, \"is vowel\")\n",
    "else:                                                                  ## problem\n",
    "         print(\"consonent\")\n"
   ]
  },
  {
   "cell_type": "code",
   "execution_count": 32,
   "id": "d0339651-852c-4224-a090-6064c9ab7a25",
   "metadata": {},
   "outputs": [
    {
     "name": "stdin",
     "output_type": "stream",
     "text": [
      "enter the value -9\n"
     ]
    },
    {
     "name": "stdout",
     "output_type": "stream",
     "text": [
      "9\n"
     ]
    }
   ],
   "source": [
    "## absulute value\n",
    "a= int(input(\"enter the value\"))\n",
    "if a<0:\n",
    "    print(-a)\n",
    "else:\n",
    "     print(a)\n",
    "    "
   ]
  },
  {
   "cell_type": "code",
   "execution_count": 30,
   "id": "a7945d63-54ba-46de-8bd5-63393abf6eba",
   "metadata": {},
   "outputs": [],
   "source": [
    "def absulute(a):\n",
    "    if a<0:\n",
    "        return -a\n",
    "    else:\n",
    "        return a "
   ]
  },
  {
   "cell_type": "code",
   "execution_count": 31,
   "id": "614c895c-0c20-4207-b80b-8595e305d7e2",
   "metadata": {},
   "outputs": [
    {
     "data": {
      "text/plain": [
       "9"
      ]
     },
     "execution_count": 31,
     "metadata": {},
     "output_type": "execute_result"
    }
   ],
   "source": [
    "absulute(-9)"
   ]
  },
  {
   "cell_type": "code",
   "execution_count": 36,
   "id": "b2458854-aec8-4f5f-b6aa-9ac1b1f0d8f4",
   "metadata": {},
   "outputs": [],
   "source": [
    "def largestno(a,b,c):\n",
    "    if a>b & a>c:\n",
    "        return a \n",
    "    elif b>a & b>c:\n",
    "        return b\n",
    "    else:\n",
    "        return c\n",
    "            "
   ]
  },
  {
   "cell_type": "code",
   "execution_count": 37,
   "id": "65a9f40d-4563-4151-b3e0-ab3e5a6b64e3",
   "metadata": {},
   "outputs": [
    {
     "data": {
      "text/plain": [
       "8"
      ]
     },
     "execution_count": 37,
     "metadata": {},
     "output_type": "execute_result"
    }
   ],
   "source": [
    "largestno(5,7,8)"
   ]
  },
  {
   "cell_type": "code",
   "execution_count": 58,
   "id": "ee1a3703-5fe2-436e-933e-59e64272bb6c",
   "metadata": {},
   "outputs": [],
   "source": [
    "## palindrom\n",
    "def palin(s):\n",
    "    if s==s[:-1]:\n",
    "        return \"palindrom string\"\n",
    "    else:\n",
    "        return \"not palindrom\""
   ]
  },
  {
   "cell_type": "code",
   "execution_count": 59,
   "id": "ea5680c0-02f6-4562-9ef3-733737863a7b",
   "metadata": {},
   "outputs": [
    {
     "data": {
      "text/plain": [
       "'not palindrom'"
      ]
     },
     "execution_count": 59,
     "metadata": {},
     "output_type": "execute_result"
    }
   ],
   "source": [
    "palin('hguh')"
   ]
  },
  {
   "cell_type": "code",
   "execution_count": 60,
   "id": "4f309b6c-c854-446b-b3e2-8c06616edebf",
   "metadata": {},
   "outputs": [
    {
     "data": {
      "text/plain": [
       "'not palindrom'"
      ]
     },
     "execution_count": 60,
     "metadata": {},
     "output_type": "execute_result"
    }
   ],
   "source": [
    "palin('malayalam')"
   ]
  },
  {
   "cell_type": "code",
   "execution_count": 61,
   "id": "7f73d4a1-da31-4382-a34d-674b35eeeee2",
   "metadata": {},
   "outputs": [
    {
     "data": {
      "text/plain": [
       "'not palindrom'"
      ]
     },
     "execution_count": 61,
     "metadata": {},
     "output_type": "execute_result"
    }
   ],
   "source": [
    "palin('poop')"
   ]
  },
  {
   "cell_type": "code",
   "execution_count": null,
   "id": "51059a24-ec4d-4dc8-a9c7-7431e599f593",
   "metadata": {},
   "outputs": [],
   "source": []
  }
 ],
 "metadata": {
  "kernelspec": {
   "display_name": "Python 3 (ipykernel)",
   "language": "python",
   "name": "python3"
  },
  "language_info": {
   "codemirror_mode": {
    "name": "ipython",
    "version": 3
   },
   "file_extension": ".py",
   "mimetype": "text/x-python",
   "name": "python",
   "nbconvert_exporter": "python",
   "pygments_lexer": "ipython3",
   "version": "3.10.8"
  }
 },
 "nbformat": 4,
 "nbformat_minor": 5
}
