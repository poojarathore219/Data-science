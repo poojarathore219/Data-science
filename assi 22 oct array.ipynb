{
 "cells": [
  {
   "cell_type": "code",
   "execution_count": 1,
   "id": "34594cc1-3f32-48d1-912b-a90ee57b003e",
   "metadata": {},
   "outputs": [],
   "source": [
    "#1. Given an array, check if it contains any duplicates or not.\n",
    "arr = [1, 2, 4, 2, 5, 9]\n",
    "Output = True"
   ]
  },
  {
   "cell_type": "code",
   "execution_count": 27,
   "id": "e38b4949-0a77-40bd-84dd-899e44bc1612",
   "metadata": {},
   "outputs": [
    {
     "name": "stdout",
     "output_type": "stream",
     "text": [
      "[1, 2, 4, 5, 9]\n"
     ]
    }
   ],
   "source": [
    "dup=[]\n",
    "arr = [1, 2, 4, 2, 5, 9]\n",
    "for i in arr:\n",
    "    if i not in dup:\n",
    "        dup.append(i)\n",
    "print(dup)\n",
    "\n",
    "            "
   ]
  },
  {
   "cell_type": "code",
   "execution_count": 39,
   "id": "9c8e8770-a92c-4382-bc92-276f285e1e8f",
   "metadata": {},
   "outputs": [
    {
     "name": "stdout",
     "output_type": "stream",
     "text": [
      "True\n"
     ]
    }
   ],
   "source": [
    "arr1=[]\n",
    "arr = [1, 2, 4, 2, 5, 9]\n",
    "for i in arr:\n",
    "    if i not in arr1:\n",
    "        arr1.append(i)\n",
    "    elif arr==arr1:\n",
    "        \n",
    "         print(False)\n",
    "    else:\n",
    "        print(True)"
   ]
  },
  {
   "cell_type": "code",
   "execution_count": 47,
   "id": "4377951e-e35c-4200-8e06-0df600f02ee8",
   "metadata": {},
   "outputs": [],
   "source": [
    "#2. Given an array and an integer k, rotate the array to the right by k steps.\n",
    "#arr = [1, 2, 3, 4, 5, 6, 7] k = 3\n",
    "#Output = [5, 6, 7, 1, 2, 3, 4]\n",
    "arr= [1, 2, 3, 4, 5, 6, 7]\n",
    "def right_roted(arr,n):\n",
    "    if n==0:\n",
    "        return arr\n",
    "    else:\n",
    "        return right_roted(arr[-1:]+arr[:-1],n-1)\n",
    "\n"
   ]
  },
  {
   "cell_type": "code",
   "execution_count": 48,
   "id": "d178151c-f2e6-4579-83fc-8ae7dc962287",
   "metadata": {},
   "outputs": [
    {
     "data": {
      "text/plain": [
       "[5, 6, 7, 1, 2, 3, 4]"
      ]
     },
     "execution_count": 48,
     "metadata": {},
     "output_type": "execute_result"
    }
   ],
   "source": [
    "right_roted(arr,3)"
   ]
  },
  {
   "cell_type": "code",
   "execution_count": 50,
   "id": "ed4c43bb-56dd-4116-a2dd-172a9deda324",
   "metadata": {},
   "outputs": [
    {
     "data": {
      "text/plain": [
       "[1, 2, 3, 4, 5, 6]"
      ]
     },
     "execution_count": 50,
     "metadata": {},
     "output_type": "execute_result"
    }
   ],
   "source": [
    "arr[:-1]"
   ]
  },
  {
   "cell_type": "code",
   "execution_count": 52,
   "id": "8efae4d8-a295-42fd-b667-9118320fd31d",
   "metadata": {},
   "outputs": [
    {
     "data": {
      "text/plain": [
       "[7]"
      ]
     },
     "execution_count": 52,
     "metadata": {},
     "output_type": "execute_result"
    }
   ],
   "source": [
    "arr[-1:]"
   ]
  },
  {
   "cell_type": "code",
   "execution_count": 55,
   "id": "5b39a3e5-5090-4d4d-9e31-0a77ce391619",
   "metadata": {},
   "outputs": [],
   "source": [
    "#3. Reverse the given array in-place, means without using any extra data structure.\n",
    "#arr = [2, 4, 5, 7, 9, 12]\n",
    "#Output = [12, 9, 7, 5, 4, 2]\n",
    "arr = [2, 4, 5, 7, 9, 12]\n",
    "for\n"
   ]
  },
  {
   "cell_type": "code",
   "execution_count": 79,
   "id": "cb24d363-defa-4ba2-99b5-f01bda2a0f2a",
   "metadata": {},
   "outputs": [
    {
     "data": {
      "text/plain": [
       "[7, 6, 5, 4, 3, 2, 1]"
      ]
     },
     "execution_count": 79,
     "metadata": {},
     "output_type": "execute_result"
    }
   ],
   "source": [
    "arr[::-1]"
   ]
  },
  {
   "cell_type": "code",
   "execution_count": 80,
   "id": "f010440c-5b1e-439a-b96c-5c55cd357994",
   "metadata": {},
   "outputs": [
    {
     "data": {
      "text/plain": [
       "20"
      ]
     },
     "execution_count": 80,
     "metadata": {},
     "output_type": "execute_result"
    }
   ],
   "source": [
    "#4. Given an array of integers, find the maximum element in an array\n",
    "arr = [10, 5, 20, 8, 15]\n",
    "#Output = 20\n",
    "max(arr)"
   ]
  },
  {
   "cell_type": "code",
   "execution_count": 81,
   "id": "ba845367-8223-49d0-ad33-0c56cfac5d4a",
   "metadata": {},
   "outputs": [
    {
     "data": {
      "text/plain": [
       "{1, 2, 3, 4, 5}"
      ]
     },
     "execution_count": 81,
     "metadata": {},
     "output_type": "execute_result"
    }
   ],
   "source": [
    "#sorted array, remove the duplicate element without using any extra data structure.\n",
    "arr = [1, 1, 2, 2, 2, 3, 3, 4, 4, 4, 5, 5]\n",
    "#Output = [1, 2, 3, 4, 5]\n",
    "set(arr)"
   ]
  },
  {
   "cell_type": "code",
   "execution_count": null,
   "id": "1b989be5-307b-4910-bfcc-8c1fc88c633e",
   "metadata": {},
   "outputs": [],
   "source": []
  }
 ],
 "metadata": {
  "kernelspec": {
   "display_name": "Python 3 (ipykernel)",
   "language": "python",
   "name": "python3"
  },
  "language_info": {
   "codemirror_mode": {
    "name": "ipython",
    "version": 3
   },
   "file_extension": ".py",
   "mimetype": "text/x-python",
   "name": "python",
   "nbconvert_exporter": "python",
   "pygments_lexer": "ipython3",
   "version": "3.10.8"
  }
 },
 "nbformat": 4,
 "nbformat_minor": 5
}
