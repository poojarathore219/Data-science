{
 "cells": [
  {
   "cell_type": "code",
   "execution_count": 1,
   "id": "3584156b",
   "metadata": {},
   "outputs": [],
   "source": [
    "import pandas as pd\n",
    "import numpy as np\n",
    "import seaborn as sns\n",
    "import matplotlib.pyplot as plt\n",
    "\n",
    "\n",
    "import warnings\n",
    "warnings.filterwarnings('ignore')"
   ]
  },
  {
   "cell_type": "code",
   "execution_count": 3,
   "id": "96b6b9a2",
   "metadata": {},
   "outputs": [],
   "source": [
    "from sklearn.datasets import make_classification\n",
    "x, y = make_classification(n_samples = 1000, n_features=3, n_redundant=0, n_classes=2, random_state=1)"
   ]
  },
  {
   "cell_type": "code",
   "execution_count": 4,
   "id": "b5c89284",
   "metadata": {},
   "outputs": [
    {
     "data": {
      "text/plain": [
       "array([[ 0.60500791,  0.51340375, -1.55859419],\n",
       "       [ 0.81846819, -1.88473945,  1.49992516],\n",
       "       [ 0.53437474, -0.01420736,  0.2771265 ],\n",
       "       ...,\n",
       "       [ 2.28830983,  3.74857955, -0.5886461 ],\n",
       "       [-0.28103796, -1.84729902,  1.13548397],\n",
       "       [ 0.76642645, -1.29293146,  0.88279907]])"
      ]
     },
     "execution_count": 4,
     "metadata": {},
     "output_type": "execute_result"
    }
   ],
   "source": [
    "x"
   ]
  },
  {
   "cell_type": "code",
   "execution_count": 5,
   "id": "42bb6ebe",
   "metadata": {},
   "outputs": [
    {
     "data": {
      "text/plain": [
       "array([1, 1, 0, 1, 1, 0, 1, 0, 0, 1, 0, 1, 1, 1, 1, 1, 1, 0, 0, 1, 0, 1,\n",
       "       1, 1, 1, 1, 0, 0, 0, 0, 0, 1, 1, 0, 0, 1, 1, 0, 0, 0, 0, 1, 0, 0,\n",
       "       0, 1, 0, 0, 1, 1, 0, 1, 0, 0, 0, 1, 1, 1, 1, 1, 0, 0, 1, 0, 0, 0,\n",
       "       1, 1, 1, 1, 1, 1, 1, 1, 1, 1, 0, 1, 1, 1, 0, 1, 1, 0, 1, 0, 0, 0,\n",
       "       0, 1, 1, 0, 1, 0, 0, 0, 0, 1, 0, 1, 0, 0, 1, 1, 1, 1, 1, 1, 1, 0,\n",
       "       1, 1, 1, 0, 0, 0, 1, 0, 1, 0, 1, 1, 1, 1, 0, 0, 0, 0, 0, 1, 1, 1,\n",
       "       0, 0, 0, 0, 1, 0, 1, 0, 1, 0, 1, 0, 1, 1, 1, 0, 1, 1, 1, 1, 0, 0,\n",
       "       1, 1, 0, 0, 0, 0, 1, 0, 1, 1, 1, 0, 1, 0, 0, 1, 1, 0, 1, 1, 1, 1,\n",
       "       1, 1, 0, 0, 1, 0, 0, 0, 1, 0, 1, 0, 1, 0, 1, 0, 1, 1, 0, 1, 1, 1,\n",
       "       0, 0, 0, 1, 0, 0, 1, 1, 0, 1, 1, 1, 1, 1, 1, 1, 0, 1, 1, 0, 0, 0,\n",
       "       0, 1, 0, 1, 0, 0, 0, 0, 0, 1, 0, 0, 0, 0, 1, 0, 1, 1, 0, 0, 0, 1,\n",
       "       0, 0, 1, 0, 0, 1, 0, 0, 1, 1, 0, 0, 0, 0, 1, 0, 0, 1, 0, 1, 1, 1,\n",
       "       1, 0, 0, 1, 0, 0, 0, 0, 1, 1, 0, 0, 0, 0, 1, 1, 0, 1, 1, 0, 1, 0,\n",
       "       0, 0, 0, 0, 1, 0, 0, 0, 1, 0, 0, 1, 0, 0, 0, 0, 0, 1, 1, 1, 0, 1,\n",
       "       1, 1, 0, 0, 1, 1, 0, 0, 0, 1, 0, 0, 1, 0, 1, 1, 0, 0, 1, 1, 1, 0,\n",
       "       1, 1, 1, 1, 0, 1, 0, 1, 1, 0, 0, 0, 1, 0, 1, 1, 1, 1, 0, 1, 1, 1,\n",
       "       0, 0, 1, 0, 1, 1, 1, 1, 0, 1, 0, 1, 1, 1, 0, 0, 1, 0, 0, 0, 0, 1,\n",
       "       0, 1, 1, 0, 0, 0, 0, 1, 0, 0, 1, 0, 1, 1, 1, 1, 0, 1, 0, 0, 1, 1,\n",
       "       0, 0, 1, 1, 1, 1, 0, 0, 1, 1, 1, 0, 0, 1, 0, 1, 1, 0, 0, 1, 0, 0,\n",
       "       0, 0, 1, 1, 1, 0, 0, 0, 0, 1, 0, 1, 1, 0, 0, 0, 1, 1, 1, 0, 1, 0,\n",
       "       1, 0, 1, 1, 1, 1, 1, 1, 1, 1, 1, 1, 1, 0, 1, 0, 0, 1, 1, 0, 0, 0,\n",
       "       0, 1, 0, 1, 0, 0, 0, 0, 1, 0, 1, 0, 1, 1, 0, 1, 0, 0, 0, 1, 1, 1,\n",
       "       0, 1, 1, 0, 1, 1, 1, 0, 1, 1, 0, 1, 0, 0, 0, 1, 1, 1, 0, 0, 1, 0,\n",
       "       0, 0, 0, 0, 1, 1, 0, 1, 0, 1, 0, 1, 1, 0, 1, 0, 0, 0, 0, 0, 0, 1,\n",
       "       0, 0, 0, 1, 0, 0, 0, 1, 1, 1, 0, 1, 1, 1, 0, 0, 1, 0, 1, 1, 1, 0,\n",
       "       1, 1, 0, 0, 1, 1, 0, 0, 1, 1, 0, 1, 1, 0, 1, 1, 0, 1, 0, 1, 0, 1,\n",
       "       0, 1, 0, 1, 1, 1, 1, 1, 0, 0, 1, 1, 1, 0, 1, 0, 0, 0, 0, 1, 0, 1,\n",
       "       0, 1, 1, 0, 0, 0, 1, 1, 1, 1, 0, 0, 1, 1, 0, 1, 0, 1, 1, 0, 0, 1,\n",
       "       0, 1, 0, 0, 1, 0, 1, 1, 0, 0, 0, 0, 0, 0, 1, 0, 1, 0, 0, 0, 0, 0,\n",
       "       1, 1, 0, 0, 1, 0, 1, 0, 1, 1, 1, 0, 1, 1, 1, 1, 1, 1, 1, 0, 1, 1,\n",
       "       1, 1, 0, 0, 0, 1, 0, 0, 1, 1, 0, 0, 1, 0, 1, 0, 0, 1, 0, 0, 1, 0,\n",
       "       0, 0, 0, 1, 1, 1, 1, 1, 0, 0, 0, 1, 1, 1, 0, 0, 1, 0, 0, 0, 1, 1,\n",
       "       1, 0, 1, 1, 0, 0, 0, 0, 1, 1, 0, 0, 1, 0, 1, 1, 1, 1, 0, 1, 0, 1,\n",
       "       1, 1, 0, 0, 1, 0, 1, 0, 1, 0, 0, 0, 1, 1, 1, 0, 0, 0, 0, 1, 0, 0,\n",
       "       0, 1, 1, 1, 1, 0, 1, 0, 0, 0, 1, 1, 1, 1, 1, 1, 0, 1, 1, 1, 0, 1,\n",
       "       0, 0, 0, 0, 0, 0, 0, 0, 1, 1, 1, 0, 0, 0, 1, 1, 0, 1, 1, 0, 0, 0,\n",
       "       0, 0, 1, 0, 0, 1, 0, 1, 1, 0, 0, 0, 0, 0, 0, 1, 1, 1, 1, 1, 1, 1,\n",
       "       1, 0, 0, 0, 0, 0, 0, 1, 0, 0, 0, 0, 1, 0, 0, 1, 0, 0, 0, 1, 1, 1,\n",
       "       1, 0, 0, 0, 1, 1, 0, 1, 0, 0, 0, 1, 1, 0, 1, 0, 1, 0, 0, 0, 0, 0,\n",
       "       1, 0, 1, 0, 1, 0, 0, 0, 1, 1, 0, 0, 0, 0, 1, 1, 0, 0, 0, 1, 0, 0,\n",
       "       0, 1, 1, 1, 0, 1, 0, 1, 0, 0, 0, 0, 1, 0, 1, 0, 1, 0, 1, 1, 1, 1,\n",
       "       0, 1, 1, 0, 1, 0, 1, 1, 0, 1, 0, 1, 1, 1, 1, 0, 0, 0, 1, 0, 0, 1,\n",
       "       1, 0, 1, 0, 0, 1, 0, 1, 1, 1, 1, 0, 0, 0, 1, 1, 1, 1, 1, 1, 0, 1,\n",
       "       0, 1, 0, 1, 1, 1, 0, 0, 0, 1, 0, 0, 0, 1, 0, 0, 0, 1, 1, 1, 0, 0,\n",
       "       0, 1, 1, 0, 1, 0, 0, 0, 0, 1, 0, 1, 1, 1, 0, 1, 0, 1, 0, 0, 1, 0,\n",
       "       0, 1, 1, 0, 1, 1, 0, 1, 0, 1])"
      ]
     },
     "execution_count": 5,
     "metadata": {},
     "output_type": "execute_result"
    }
   ],
   "source": [
    "y"
   ]
  },
  {
   "cell_type": "code",
   "execution_count": 6,
   "id": "35d4ba29",
   "metadata": {},
   "outputs": [],
   "source": [
    "from sklearn.model_selection import train_test_split\n",
    "x_train, x_test, y_train, y_test = train_test_split(x, y, test_size=0.3, random_state=1)"
   ]
  },
  {
   "cell_type": "code",
   "execution_count": 9,
   "id": "528ad1b4",
   "metadata": {},
   "outputs": [
    {
     "data": {
      "text/plain": [
       "((700, 3), (300, 3))"
      ]
     },
     "execution_count": 9,
     "metadata": {},
     "output_type": "execute_result"
    }
   ],
   "source": [
    "x_train.shape,x_test.shape"
   ]
  },
  {
   "cell_type": "code",
   "execution_count": 11,
   "id": "1f5c16b4",
   "metadata": {},
   "outputs": [],
   "source": [
    "from sklearn.neighbors import KNeighborsClassifier\n",
    "clf=KNeighborsClassifier()"
   ]
  },
  {
   "cell_type": "code",
   "execution_count": 12,
   "id": "c58c8bf4",
   "metadata": {},
   "outputs": [
    {
     "data": {
      "text/html": [
       "<style>#sk-container-id-1 {color: black;}#sk-container-id-1 pre{padding: 0;}#sk-container-id-1 div.sk-toggleable {background-color: white;}#sk-container-id-1 label.sk-toggleable__label {cursor: pointer;display: block;width: 100%;margin-bottom: 0;padding: 0.3em;box-sizing: border-box;text-align: center;}#sk-container-id-1 label.sk-toggleable__label-arrow:before {content: \"▸\";float: left;margin-right: 0.25em;color: #696969;}#sk-container-id-1 label.sk-toggleable__label-arrow:hover:before {color: black;}#sk-container-id-1 div.sk-estimator:hover label.sk-toggleable__label-arrow:before {color: black;}#sk-container-id-1 div.sk-toggleable__content {max-height: 0;max-width: 0;overflow: hidden;text-align: left;background-color: #f0f8ff;}#sk-container-id-1 div.sk-toggleable__content pre {margin: 0.2em;color: black;border-radius: 0.25em;background-color: #f0f8ff;}#sk-container-id-1 input.sk-toggleable__control:checked~div.sk-toggleable__content {max-height: 200px;max-width: 100%;overflow: auto;}#sk-container-id-1 input.sk-toggleable__control:checked~label.sk-toggleable__label-arrow:before {content: \"▾\";}#sk-container-id-1 div.sk-estimator input.sk-toggleable__control:checked~label.sk-toggleable__label {background-color: #d4ebff;}#sk-container-id-1 div.sk-label input.sk-toggleable__control:checked~label.sk-toggleable__label {background-color: #d4ebff;}#sk-container-id-1 input.sk-hidden--visually {border: 0;clip: rect(1px 1px 1px 1px);clip: rect(1px, 1px, 1px, 1px);height: 1px;margin: -1px;overflow: hidden;padding: 0;position: absolute;width: 1px;}#sk-container-id-1 div.sk-estimator {font-family: monospace;background-color: #f0f8ff;border: 1px dotted black;border-radius: 0.25em;box-sizing: border-box;margin-bottom: 0.5em;}#sk-container-id-1 div.sk-estimator:hover {background-color: #d4ebff;}#sk-container-id-1 div.sk-parallel-item::after {content: \"\";width: 100%;border-bottom: 1px solid gray;flex-grow: 1;}#sk-container-id-1 div.sk-label:hover label.sk-toggleable__label {background-color: #d4ebff;}#sk-container-id-1 div.sk-serial::before {content: \"\";position: absolute;border-left: 1px solid gray;box-sizing: border-box;top: 0;bottom: 0;left: 50%;z-index: 0;}#sk-container-id-1 div.sk-serial {display: flex;flex-direction: column;align-items: center;background-color: white;padding-right: 0.2em;padding-left: 0.2em;position: relative;}#sk-container-id-1 div.sk-item {position: relative;z-index: 1;}#sk-container-id-1 div.sk-parallel {display: flex;align-items: stretch;justify-content: center;background-color: white;position: relative;}#sk-container-id-1 div.sk-item::before, #sk-container-id-1 div.sk-parallel-item::before {content: \"\";position: absolute;border-left: 1px solid gray;box-sizing: border-box;top: 0;bottom: 0;left: 50%;z-index: -1;}#sk-container-id-1 div.sk-parallel-item {display: flex;flex-direction: column;z-index: 1;position: relative;background-color: white;}#sk-container-id-1 div.sk-parallel-item:first-child::after {align-self: flex-end;width: 50%;}#sk-container-id-1 div.sk-parallel-item:last-child::after {align-self: flex-start;width: 50%;}#sk-container-id-1 div.sk-parallel-item:only-child::after {width: 0;}#sk-container-id-1 div.sk-dashed-wrapped {border: 1px dashed gray;margin: 0 0.4em 0.5em 0.4em;box-sizing: border-box;padding-bottom: 0.4em;background-color: white;}#sk-container-id-1 div.sk-label label {font-family: monospace;font-weight: bold;display: inline-block;line-height: 1.2em;}#sk-container-id-1 div.sk-label-container {text-align: center;}#sk-container-id-1 div.sk-container {/* jupyter's `normalize.less` sets `[hidden] { display: none; }` but bootstrap.min.css set `[hidden] { display: none !important; }` so we also need the `!important` here to be able to override the default hidden behavior on the sphinx rendered scikit-learn.org. See: https://github.com/scikit-learn/scikit-learn/issues/21755 */display: inline-block !important;position: relative;}#sk-container-id-1 div.sk-text-repr-fallback {display: none;}</style><div id=\"sk-container-id-1\" class=\"sk-top-container\"><div class=\"sk-text-repr-fallback\"><pre>KNeighborsClassifier()</pre><b>In a Jupyter environment, please rerun this cell to show the HTML representation or trust the notebook. <br />On GitHub, the HTML representation is unable to render, please try loading this page with nbviewer.org.</b></div><div class=\"sk-container\" hidden><div class=\"sk-item\"><div class=\"sk-estimator sk-toggleable\"><input class=\"sk-toggleable__control sk-hidden--visually\" id=\"sk-estimator-id-1\" type=\"checkbox\" checked><label for=\"sk-estimator-id-1\" class=\"sk-toggleable__label sk-toggleable__label-arrow\">KNeighborsClassifier</label><div class=\"sk-toggleable__content\"><pre>KNeighborsClassifier()</pre></div></div></div></div></div>"
      ],
      "text/plain": [
       "KNeighborsClassifier()"
      ]
     },
     "execution_count": 12,
     "metadata": {},
     "output_type": "execute_result"
    }
   ],
   "source": [
    "clf"
   ]
  },
  {
   "cell_type": "code",
   "execution_count": 13,
   "id": "b430de51",
   "metadata": {},
   "outputs": [
    {
     "data": {
      "text/html": [
       "<style>#sk-container-id-2 {color: black;}#sk-container-id-2 pre{padding: 0;}#sk-container-id-2 div.sk-toggleable {background-color: white;}#sk-container-id-2 label.sk-toggleable__label {cursor: pointer;display: block;width: 100%;margin-bottom: 0;padding: 0.3em;box-sizing: border-box;text-align: center;}#sk-container-id-2 label.sk-toggleable__label-arrow:before {content: \"▸\";float: left;margin-right: 0.25em;color: #696969;}#sk-container-id-2 label.sk-toggleable__label-arrow:hover:before {color: black;}#sk-container-id-2 div.sk-estimator:hover label.sk-toggleable__label-arrow:before {color: black;}#sk-container-id-2 div.sk-toggleable__content {max-height: 0;max-width: 0;overflow: hidden;text-align: left;background-color: #f0f8ff;}#sk-container-id-2 div.sk-toggleable__content pre {margin: 0.2em;color: black;border-radius: 0.25em;background-color: #f0f8ff;}#sk-container-id-2 input.sk-toggleable__control:checked~div.sk-toggleable__content {max-height: 200px;max-width: 100%;overflow: auto;}#sk-container-id-2 input.sk-toggleable__control:checked~label.sk-toggleable__label-arrow:before {content: \"▾\";}#sk-container-id-2 div.sk-estimator input.sk-toggleable__control:checked~label.sk-toggleable__label {background-color: #d4ebff;}#sk-container-id-2 div.sk-label input.sk-toggleable__control:checked~label.sk-toggleable__label {background-color: #d4ebff;}#sk-container-id-2 input.sk-hidden--visually {border: 0;clip: rect(1px 1px 1px 1px);clip: rect(1px, 1px, 1px, 1px);height: 1px;margin: -1px;overflow: hidden;padding: 0;position: absolute;width: 1px;}#sk-container-id-2 div.sk-estimator {font-family: monospace;background-color: #f0f8ff;border: 1px dotted black;border-radius: 0.25em;box-sizing: border-box;margin-bottom: 0.5em;}#sk-container-id-2 div.sk-estimator:hover {background-color: #d4ebff;}#sk-container-id-2 div.sk-parallel-item::after {content: \"\";width: 100%;border-bottom: 1px solid gray;flex-grow: 1;}#sk-container-id-2 div.sk-label:hover label.sk-toggleable__label {background-color: #d4ebff;}#sk-container-id-2 div.sk-serial::before {content: \"\";position: absolute;border-left: 1px solid gray;box-sizing: border-box;top: 0;bottom: 0;left: 50%;z-index: 0;}#sk-container-id-2 div.sk-serial {display: flex;flex-direction: column;align-items: center;background-color: white;padding-right: 0.2em;padding-left: 0.2em;position: relative;}#sk-container-id-2 div.sk-item {position: relative;z-index: 1;}#sk-container-id-2 div.sk-parallel {display: flex;align-items: stretch;justify-content: center;background-color: white;position: relative;}#sk-container-id-2 div.sk-item::before, #sk-container-id-2 div.sk-parallel-item::before {content: \"\";position: absolute;border-left: 1px solid gray;box-sizing: border-box;top: 0;bottom: 0;left: 50%;z-index: -1;}#sk-container-id-2 div.sk-parallel-item {display: flex;flex-direction: column;z-index: 1;position: relative;background-color: white;}#sk-container-id-2 div.sk-parallel-item:first-child::after {align-self: flex-end;width: 50%;}#sk-container-id-2 div.sk-parallel-item:last-child::after {align-self: flex-start;width: 50%;}#sk-container-id-2 div.sk-parallel-item:only-child::after {width: 0;}#sk-container-id-2 div.sk-dashed-wrapped {border: 1px dashed gray;margin: 0 0.4em 0.5em 0.4em;box-sizing: border-box;padding-bottom: 0.4em;background-color: white;}#sk-container-id-2 div.sk-label label {font-family: monospace;font-weight: bold;display: inline-block;line-height: 1.2em;}#sk-container-id-2 div.sk-label-container {text-align: center;}#sk-container-id-2 div.sk-container {/* jupyter's `normalize.less` sets `[hidden] { display: none; }` but bootstrap.min.css set `[hidden] { display: none !important; }` so we also need the `!important` here to be able to override the default hidden behavior on the sphinx rendered scikit-learn.org. See: https://github.com/scikit-learn/scikit-learn/issues/21755 */display: inline-block !important;position: relative;}#sk-container-id-2 div.sk-text-repr-fallback {display: none;}</style><div id=\"sk-container-id-2\" class=\"sk-top-container\"><div class=\"sk-text-repr-fallback\"><pre>KNeighborsClassifier()</pre><b>In a Jupyter environment, please rerun this cell to show the HTML representation or trust the notebook. <br />On GitHub, the HTML representation is unable to render, please try loading this page with nbviewer.org.</b></div><div class=\"sk-container\" hidden><div class=\"sk-item\"><div class=\"sk-estimator sk-toggleable\"><input class=\"sk-toggleable__control sk-hidden--visually\" id=\"sk-estimator-id-2\" type=\"checkbox\" checked><label for=\"sk-estimator-id-2\" class=\"sk-toggleable__label sk-toggleable__label-arrow\">KNeighborsClassifier</label><div class=\"sk-toggleable__content\"><pre>KNeighborsClassifier()</pre></div></div></div></div></div>"
      ],
      "text/plain": [
       "KNeighborsClassifier()"
      ]
     },
     "execution_count": 13,
     "metadata": {},
     "output_type": "execute_result"
    }
   ],
   "source": [
    "clf.fit(x_train,y_train)"
   ]
  },
  {
   "cell_type": "code",
   "execution_count": 14,
   "id": "50eb370b",
   "metadata": {},
   "outputs": [],
   "source": [
    "y_pred=clf.predict(x_test)"
   ]
  },
  {
   "cell_type": "code",
   "execution_count": 15,
   "id": "67a06db7",
   "metadata": {},
   "outputs": [
    {
     "data": {
      "text/plain": [
       "array([1, 0, 1, 1, 0, 1, 1, 1, 0, 0, 1, 1, 0, 1, 0, 0, 1, 1, 1, 0, 1, 1,\n",
       "       0, 0, 0, 0, 1, 1, 1, 0, 0, 1, 1, 0, 1, 0, 1, 1, 1, 0, 1, 1, 1, 0,\n",
       "       1, 1, 1, 0, 1, 1, 1, 0, 1, 0, 1, 1, 1, 1, 1, 1, 1, 1, 1, 1, 0, 1,\n",
       "       0, 0, 0, 0, 0, 0, 0, 1, 1, 0, 0, 1, 1, 1, 0, 0, 1, 0, 1, 1, 1, 1,\n",
       "       1, 1, 0, 0, 1, 0, 0, 0, 1, 1, 0, 1, 1, 0, 0, 0, 0, 0, 1, 0, 1, 1,\n",
       "       0, 1, 0, 1, 0, 1, 1, 1, 1, 1, 1, 1, 0, 0, 0, 0, 1, 0, 0, 0, 1, 0,\n",
       "       1, 1, 1, 1, 0, 0, 1, 0, 1, 0, 1, 1, 1, 0, 0, 1, 1, 0, 1, 1, 0, 0,\n",
       "       1, 1, 0, 1, 1, 0, 0, 1, 0, 1, 1, 0, 0, 0, 1, 1, 0, 1, 0, 0, 0, 1,\n",
       "       1, 0, 1, 0, 1, 0, 1, 1, 1, 0, 0, 1, 0, 1, 0, 0, 0, 1, 0, 1, 0, 0,\n",
       "       0, 1, 0, 1, 0, 0, 0, 0, 1, 0, 0, 0, 0, 0, 1, 0, 0, 1, 1, 1, 1, 0,\n",
       "       1, 0, 0, 1, 0, 1, 1, 1, 1, 0, 1, 1, 1, 0, 1, 1, 0, 1, 0, 1, 1, 0,\n",
       "       1, 0, 0, 0, 0, 0, 0, 1, 0, 1, 1, 1, 0, 0, 1, 0, 0, 1, 1, 0, 0, 1,\n",
       "       0, 1, 0, 0, 0, 1, 0, 1, 0, 1, 0, 0, 0, 0, 0, 0, 1, 1, 1, 0, 1, 1,\n",
       "       0, 1, 1, 1, 0, 1, 0, 1, 1, 0, 1, 0, 0, 1])"
      ]
     },
     "execution_count": 15,
     "metadata": {},
     "output_type": "execute_result"
    }
   ],
   "source": [
    "y_pred\n"
   ]
  },
  {
   "cell_type": "code",
   "execution_count": 16,
   "id": "d2f9c3c9",
   "metadata": {},
   "outputs": [
    {
     "data": {
      "text/plain": [
       "array([[122,  23],\n",
       "       [ 21, 134]], dtype=int64)"
      ]
     },
     "execution_count": 16,
     "metadata": {},
     "output_type": "execute_result"
    }
   ],
   "source": [
    "from sklearn.metrics import confusion_matrix, accuracy_score, classification_report\n",
    "confusion_matrix(y_test, y_pred)"
   ]
  },
  {
   "cell_type": "code",
   "execution_count": 17,
   "id": "1ce02ca3",
   "metadata": {},
   "outputs": [
    {
     "data": {
      "text/plain": [
       "0.8533333333333334"
      ]
     },
     "execution_count": 17,
     "metadata": {},
     "output_type": "execute_result"
    }
   ],
   "source": [
    "accuracy_score(y_test,y_pred)"
   ]
  },
  {
   "cell_type": "code",
   "execution_count": 18,
   "id": "b852f242",
   "metadata": {},
   "outputs": [
    {
     "data": {
      "text/plain": [
       "'              precision    recall  f1-score   support\\n\\n           0       0.85      0.84      0.85       145\\n           1       0.85      0.86      0.86       155\\n\\n    accuracy                           0.85       300\\n   macro avg       0.85      0.85      0.85       300\\nweighted avg       0.85      0.85      0.85       300\\n'"
      ]
     },
     "execution_count": 18,
     "metadata": {},
     "output_type": "execute_result"
    }
   ],
   "source": [
    "print(classification_report(y_test,y_pred))"
   ]
  },
  {
   "cell_type": "code",
   "execution_count": 20,
   "id": "a0917352",
   "metadata": {},
   "outputs": [],
   "source": [
    "param_grid={\n",
    "    'n_neighbors':[3,5,6,7,10,12,15],\n",
    "    'algorithm':['ball_tree','brute','kd_tree'],\n",
    "    'leaf_size':[20,30,40,50]\n",
    "}"
   ]
  },
  {
   "cell_type": "code",
   "execution_count": 22,
   "id": "7aa5637a",
   "metadata": {},
   "outputs": [],
   "source": [
    "from sklearn.model_selection import GridSearchCV\n",
    "grid=GridSearchCV(estimator=clf,param_grid=param_grid,cv=5,verbose=3)"
   ]
  },
  {
   "cell_type": "code",
   "execution_count": 23,
   "id": "05c2f9d1",
   "metadata": {},
   "outputs": [
    {
     "data": {
      "text/html": [
       "<style>#sk-container-id-3 {color: black;}#sk-container-id-3 pre{padding: 0;}#sk-container-id-3 div.sk-toggleable {background-color: white;}#sk-container-id-3 label.sk-toggleable__label {cursor: pointer;display: block;width: 100%;margin-bottom: 0;padding: 0.3em;box-sizing: border-box;text-align: center;}#sk-container-id-3 label.sk-toggleable__label-arrow:before {content: \"▸\";float: left;margin-right: 0.25em;color: #696969;}#sk-container-id-3 label.sk-toggleable__label-arrow:hover:before {color: black;}#sk-container-id-3 div.sk-estimator:hover label.sk-toggleable__label-arrow:before {color: black;}#sk-container-id-3 div.sk-toggleable__content {max-height: 0;max-width: 0;overflow: hidden;text-align: left;background-color: #f0f8ff;}#sk-container-id-3 div.sk-toggleable__content pre {margin: 0.2em;color: black;border-radius: 0.25em;background-color: #f0f8ff;}#sk-container-id-3 input.sk-toggleable__control:checked~div.sk-toggleable__content {max-height: 200px;max-width: 100%;overflow: auto;}#sk-container-id-3 input.sk-toggleable__control:checked~label.sk-toggleable__label-arrow:before {content: \"▾\";}#sk-container-id-3 div.sk-estimator input.sk-toggleable__control:checked~label.sk-toggleable__label {background-color: #d4ebff;}#sk-container-id-3 div.sk-label input.sk-toggleable__control:checked~label.sk-toggleable__label {background-color: #d4ebff;}#sk-container-id-3 input.sk-hidden--visually {border: 0;clip: rect(1px 1px 1px 1px);clip: rect(1px, 1px, 1px, 1px);height: 1px;margin: -1px;overflow: hidden;padding: 0;position: absolute;width: 1px;}#sk-container-id-3 div.sk-estimator {font-family: monospace;background-color: #f0f8ff;border: 1px dotted black;border-radius: 0.25em;box-sizing: border-box;margin-bottom: 0.5em;}#sk-container-id-3 div.sk-estimator:hover {background-color: #d4ebff;}#sk-container-id-3 div.sk-parallel-item::after {content: \"\";width: 100%;border-bottom: 1px solid gray;flex-grow: 1;}#sk-container-id-3 div.sk-label:hover label.sk-toggleable__label {background-color: #d4ebff;}#sk-container-id-3 div.sk-serial::before {content: \"\";position: absolute;border-left: 1px solid gray;box-sizing: border-box;top: 0;bottom: 0;left: 50%;z-index: 0;}#sk-container-id-3 div.sk-serial {display: flex;flex-direction: column;align-items: center;background-color: white;padding-right: 0.2em;padding-left: 0.2em;position: relative;}#sk-container-id-3 div.sk-item {position: relative;z-index: 1;}#sk-container-id-3 div.sk-parallel {display: flex;align-items: stretch;justify-content: center;background-color: white;position: relative;}#sk-container-id-3 div.sk-item::before, #sk-container-id-3 div.sk-parallel-item::before {content: \"\";position: absolute;border-left: 1px solid gray;box-sizing: border-box;top: 0;bottom: 0;left: 50%;z-index: -1;}#sk-container-id-3 div.sk-parallel-item {display: flex;flex-direction: column;z-index: 1;position: relative;background-color: white;}#sk-container-id-3 div.sk-parallel-item:first-child::after {align-self: flex-end;width: 50%;}#sk-container-id-3 div.sk-parallel-item:last-child::after {align-self: flex-start;width: 50%;}#sk-container-id-3 div.sk-parallel-item:only-child::after {width: 0;}#sk-container-id-3 div.sk-dashed-wrapped {border: 1px dashed gray;margin: 0 0.4em 0.5em 0.4em;box-sizing: border-box;padding-bottom: 0.4em;background-color: white;}#sk-container-id-3 div.sk-label label {font-family: monospace;font-weight: bold;display: inline-block;line-height: 1.2em;}#sk-container-id-3 div.sk-label-container {text-align: center;}#sk-container-id-3 div.sk-container {/* jupyter's `normalize.less` sets `[hidden] { display: none; }` but bootstrap.min.css set `[hidden] { display: none !important; }` so we also need the `!important` here to be able to override the default hidden behavior on the sphinx rendered scikit-learn.org. See: https://github.com/scikit-learn/scikit-learn/issues/21755 */display: inline-block !important;position: relative;}#sk-container-id-3 div.sk-text-repr-fallback {display: none;}</style><div id=\"sk-container-id-3\" class=\"sk-top-container\"><div class=\"sk-text-repr-fallback\"><pre>GridSearchCV(cv=5, estimator=KNeighborsClassifier(),\n",
       "             param_grid={&#x27;algorithm&#x27;: [&#x27;ball_tree&#x27;, &#x27;brute&#x27;, &#x27;kd_tree&#x27;],\n",
       "                         &#x27;leaf_size&#x27;: [20, 30, 40, 50],\n",
       "                         &#x27;n_neighbors&#x27;: [3, 5, 6, 7, 10, 12, 15]},\n",
       "             verbose=3)</pre><b>In a Jupyter environment, please rerun this cell to show the HTML representation or trust the notebook. <br />On GitHub, the HTML representation is unable to render, please try loading this page with nbviewer.org.</b></div><div class=\"sk-container\" hidden><div class=\"sk-item sk-dashed-wrapped\"><div class=\"sk-label-container\"><div class=\"sk-label sk-toggleable\"><input class=\"sk-toggleable__control sk-hidden--visually\" id=\"sk-estimator-id-3\" type=\"checkbox\" ><label for=\"sk-estimator-id-3\" class=\"sk-toggleable__label sk-toggleable__label-arrow\">GridSearchCV</label><div class=\"sk-toggleable__content\"><pre>GridSearchCV(cv=5, estimator=KNeighborsClassifier(),\n",
       "             param_grid={&#x27;algorithm&#x27;: [&#x27;ball_tree&#x27;, &#x27;brute&#x27;, &#x27;kd_tree&#x27;],\n",
       "                         &#x27;leaf_size&#x27;: [20, 30, 40, 50],\n",
       "                         &#x27;n_neighbors&#x27;: [3, 5, 6, 7, 10, 12, 15]},\n",
       "             verbose=3)</pre></div></div></div><div class=\"sk-parallel\"><div class=\"sk-parallel-item\"><div class=\"sk-item\"><div class=\"sk-label-container\"><div class=\"sk-label sk-toggleable\"><input class=\"sk-toggleable__control sk-hidden--visually\" id=\"sk-estimator-id-4\" type=\"checkbox\" ><label for=\"sk-estimator-id-4\" class=\"sk-toggleable__label sk-toggleable__label-arrow\">estimator: KNeighborsClassifier</label><div class=\"sk-toggleable__content\"><pre>KNeighborsClassifier()</pre></div></div></div><div class=\"sk-serial\"><div class=\"sk-item\"><div class=\"sk-estimator sk-toggleable\"><input class=\"sk-toggleable__control sk-hidden--visually\" id=\"sk-estimator-id-5\" type=\"checkbox\" ><label for=\"sk-estimator-id-5\" class=\"sk-toggleable__label sk-toggleable__label-arrow\">KNeighborsClassifier</label><div class=\"sk-toggleable__content\"><pre>KNeighborsClassifier()</pre></div></div></div></div></div></div></div></div></div></div>"
      ],
      "text/plain": [
       "GridSearchCV(cv=5, estimator=KNeighborsClassifier(),\n",
       "             param_grid={'algorithm': ['ball_tree', 'brute', 'kd_tree'],\n",
       "                         'leaf_size': [20, 30, 40, 50],\n",
       "                         'n_neighbors': [3, 5, 6, 7, 10, 12, 15]},\n",
       "             verbose=3)"
      ]
     },
     "execution_count": 23,
     "metadata": {},
     "output_type": "execute_result"
    }
   ],
   "source": [
    "grid"
   ]
  },
  {
   "cell_type": "code",
   "execution_count": 24,
   "id": "b15aff7d",
   "metadata": {},
   "outputs": [
    {
     "name": "stdout",
     "output_type": "stream",
     "text": [
      "Fitting 5 folds for each of 84 candidates, totalling 420 fits\n",
      "[CV 1/5] END algorithm=ball_tree, leaf_size=20, n_neighbors=3;, score=0.871 total time=   0.0s\n",
      "[CV 2/5] END algorithm=ball_tree, leaf_size=20, n_neighbors=3;, score=0.850 total time=   0.0s\n",
      "[CV 3/5] END algorithm=ball_tree, leaf_size=20, n_neighbors=3;, score=0.814 total time=   0.0s\n",
      "[CV 4/5] END algorithm=ball_tree, leaf_size=20, n_neighbors=3;, score=0.814 total time=   0.0s\n",
      "[CV 5/5] END algorithm=ball_tree, leaf_size=20, n_neighbors=3;, score=0.793 total time=   0.0s\n",
      "[CV 1/5] END algorithm=ball_tree, leaf_size=20, n_neighbors=5;, score=0.879 total time=   0.0s\n",
      "[CV 2/5] END algorithm=ball_tree, leaf_size=20, n_neighbors=5;, score=0.843 total time=   0.0s\n",
      "[CV 3/5] END algorithm=ball_tree, leaf_size=20, n_neighbors=5;, score=0.829 total time=   0.0s\n",
      "[CV 4/5] END algorithm=ball_tree, leaf_size=20, n_neighbors=5;, score=0.836 total time=   0.0s\n",
      "[CV 5/5] END algorithm=ball_tree, leaf_size=20, n_neighbors=5;, score=0.829 total time=   0.0s\n",
      "[CV 1/5] END algorithm=ball_tree, leaf_size=20, n_neighbors=6;, score=0.871 total time=   0.0s\n",
      "[CV 2/5] END algorithm=ball_tree, leaf_size=20, n_neighbors=6;, score=0.836 total time=   0.0s\n",
      "[CV 3/5] END algorithm=ball_tree, leaf_size=20, n_neighbors=6;, score=0.807 total time=   0.0s\n",
      "[CV 4/5] END algorithm=ball_tree, leaf_size=20, n_neighbors=6;, score=0.843 total time=   0.0s\n",
      "[CV 5/5] END algorithm=ball_tree, leaf_size=20, n_neighbors=6;, score=0.836 total time=   0.0s\n",
      "[CV 1/5] END algorithm=ball_tree, leaf_size=20, n_neighbors=7;, score=0.879 total time=   0.0s\n",
      "[CV 2/5] END algorithm=ball_tree, leaf_size=20, n_neighbors=7;, score=0.829 total time=   0.0s\n",
      "[CV 3/5] END algorithm=ball_tree, leaf_size=20, n_neighbors=7;, score=0.821 total time=   0.0s\n",
      "[CV 4/5] END algorithm=ball_tree, leaf_size=20, n_neighbors=7;, score=0.829 total time=   0.0s\n",
      "[CV 5/5] END algorithm=ball_tree, leaf_size=20, n_neighbors=7;, score=0.829 total time=   0.0s\n",
      "[CV 1/5] END algorithm=ball_tree, leaf_size=20, n_neighbors=10;, score=0.871 total time=   0.0s\n",
      "[CV 2/5] END algorithm=ball_tree, leaf_size=20, n_neighbors=10;, score=0.843 total time=   0.0s\n",
      "[CV 3/5] END algorithm=ball_tree, leaf_size=20, n_neighbors=10;, score=0.814 total time=   0.0s\n",
      "[CV 4/5] END algorithm=ball_tree, leaf_size=20, n_neighbors=10;, score=0.857 total time=   0.0s\n",
      "[CV 5/5] END algorithm=ball_tree, leaf_size=20, n_neighbors=10;, score=0.836 total time=   0.0s\n",
      "[CV 1/5] END algorithm=ball_tree, leaf_size=20, n_neighbors=12;, score=0.886 total time=   0.0s\n",
      "[CV 2/5] END algorithm=ball_tree, leaf_size=20, n_neighbors=12;, score=0.843 total time=   0.0s\n",
      "[CV 3/5] END algorithm=ball_tree, leaf_size=20, n_neighbors=12;, score=0.821 total time=   0.0s\n",
      "[CV 4/5] END algorithm=ball_tree, leaf_size=20, n_neighbors=12;, score=0.871 total time=   0.0s\n",
      "[CV 5/5] END algorithm=ball_tree, leaf_size=20, n_neighbors=12;, score=0.843 total time=   0.0s\n",
      "[CV 1/5] END algorithm=ball_tree, leaf_size=20, n_neighbors=15;, score=0.893 total time=   0.0s\n",
      "[CV 2/5] END algorithm=ball_tree, leaf_size=20, n_neighbors=15;, score=0.843 total time=   0.0s\n",
      "[CV 3/5] END algorithm=ball_tree, leaf_size=20, n_neighbors=15;, score=0.836 total time=   0.0s\n",
      "[CV 4/5] END algorithm=ball_tree, leaf_size=20, n_neighbors=15;, score=0.850 total time=   0.0s\n",
      "[CV 5/5] END algorithm=ball_tree, leaf_size=20, n_neighbors=15;, score=0.829 total time=   0.0s\n",
      "[CV 1/5] END algorithm=ball_tree, leaf_size=30, n_neighbors=3;, score=0.871 total time=   0.0s\n",
      "[CV 2/5] END algorithm=ball_tree, leaf_size=30, n_neighbors=3;, score=0.850 total time=   0.0s\n",
      "[CV 3/5] END algorithm=ball_tree, leaf_size=30, n_neighbors=3;, score=0.814 total time=   0.0s\n",
      "[CV 4/5] END algorithm=ball_tree, leaf_size=30, n_neighbors=3;, score=0.814 total time=   0.0s\n",
      "[CV 5/5] END algorithm=ball_tree, leaf_size=30, n_neighbors=3;, score=0.793 total time=   0.0s\n",
      "[CV 1/5] END algorithm=ball_tree, leaf_size=30, n_neighbors=5;, score=0.879 total time=   0.0s\n",
      "[CV 2/5] END algorithm=ball_tree, leaf_size=30, n_neighbors=5;, score=0.843 total time=   0.0s\n",
      "[CV 3/5] END algorithm=ball_tree, leaf_size=30, n_neighbors=5;, score=0.829 total time=   0.0s\n",
      "[CV 4/5] END algorithm=ball_tree, leaf_size=30, n_neighbors=5;, score=0.836 total time=   0.0s\n",
      "[CV 5/5] END algorithm=ball_tree, leaf_size=30, n_neighbors=5;, score=0.829 total time=   0.0s\n",
      "[CV 1/5] END algorithm=ball_tree, leaf_size=30, n_neighbors=6;, score=0.871 total time=   0.0s\n",
      "[CV 2/5] END algorithm=ball_tree, leaf_size=30, n_neighbors=6;, score=0.836 total time=   0.0s\n",
      "[CV 3/5] END algorithm=ball_tree, leaf_size=30, n_neighbors=6;, score=0.807 total time=   0.0s\n",
      "[CV 4/5] END algorithm=ball_tree, leaf_size=30, n_neighbors=6;, score=0.843 total time=   0.0s\n",
      "[CV 5/5] END algorithm=ball_tree, leaf_size=30, n_neighbors=6;, score=0.836 total time=   0.0s\n",
      "[CV 1/5] END algorithm=ball_tree, leaf_size=30, n_neighbors=7;, score=0.879 total time=   0.0s\n",
      "[CV 2/5] END algorithm=ball_tree, leaf_size=30, n_neighbors=7;, score=0.829 total time=   0.0s\n",
      "[CV 3/5] END algorithm=ball_tree, leaf_size=30, n_neighbors=7;, score=0.821 total time=   0.0s\n",
      "[CV 4/5] END algorithm=ball_tree, leaf_size=30, n_neighbors=7;, score=0.829 total time=   0.0s\n",
      "[CV 5/5] END algorithm=ball_tree, leaf_size=30, n_neighbors=7;, score=0.829 total time=   0.0s\n",
      "[CV 1/5] END algorithm=ball_tree, leaf_size=30, n_neighbors=10;, score=0.871 total time=   0.0s\n",
      "[CV 2/5] END algorithm=ball_tree, leaf_size=30, n_neighbors=10;, score=0.843 total time=   0.0s\n",
      "[CV 3/5] END algorithm=ball_tree, leaf_size=30, n_neighbors=10;, score=0.814 total time=   0.0s\n",
      "[CV 4/5] END algorithm=ball_tree, leaf_size=30, n_neighbors=10;, score=0.857 total time=   0.0s\n",
      "[CV 5/5] END algorithm=ball_tree, leaf_size=30, n_neighbors=10;, score=0.836 total time=   0.0s\n",
      "[CV 1/5] END algorithm=ball_tree, leaf_size=30, n_neighbors=12;, score=0.886 total time=   0.0s\n",
      "[CV 2/5] END algorithm=ball_tree, leaf_size=30, n_neighbors=12;, score=0.843 total time=   0.0s\n",
      "[CV 3/5] END algorithm=ball_tree, leaf_size=30, n_neighbors=12;, score=0.821 total time=   0.0s\n",
      "[CV 4/5] END algorithm=ball_tree, leaf_size=30, n_neighbors=12;, score=0.871 total time=   0.0s\n",
      "[CV 5/5] END algorithm=ball_tree, leaf_size=30, n_neighbors=12;, score=0.843 total time=   0.0s\n",
      "[CV 1/5] END algorithm=ball_tree, leaf_size=30, n_neighbors=15;, score=0.893 total time=   0.0s\n",
      "[CV 2/5] END algorithm=ball_tree, leaf_size=30, n_neighbors=15;, score=0.843 total time=   0.0s\n",
      "[CV 3/5] END algorithm=ball_tree, leaf_size=30, n_neighbors=15;, score=0.836 total time=   0.0s\n",
      "[CV 4/5] END algorithm=ball_tree, leaf_size=30, n_neighbors=15;, score=0.850 total time=   0.0s\n",
      "[CV 5/5] END algorithm=ball_tree, leaf_size=30, n_neighbors=15;, score=0.829 total time=   0.0s\n",
      "[CV 1/5] END algorithm=ball_tree, leaf_size=40, n_neighbors=3;, score=0.871 total time=   0.0s\n",
      "[CV 2/5] END algorithm=ball_tree, leaf_size=40, n_neighbors=3;, score=0.850 total time=   0.0s\n",
      "[CV 3/5] END algorithm=ball_tree, leaf_size=40, n_neighbors=3;, score=0.814 total time=   0.0s\n",
      "[CV 4/5] END algorithm=ball_tree, leaf_size=40, n_neighbors=3;, score=0.814 total time=   0.0s\n",
      "[CV 5/5] END algorithm=ball_tree, leaf_size=40, n_neighbors=3;, score=0.793 total time=   0.0s\n",
      "[CV 1/5] END algorithm=ball_tree, leaf_size=40, n_neighbors=5;, score=0.879 total time=   0.0s\n",
      "[CV 2/5] END algorithm=ball_tree, leaf_size=40, n_neighbors=5;, score=0.843 total time=   0.0s\n",
      "[CV 3/5] END algorithm=ball_tree, leaf_size=40, n_neighbors=5;, score=0.829 total time=   0.0s\n",
      "[CV 4/5] END algorithm=ball_tree, leaf_size=40, n_neighbors=5;, score=0.836 total time=   0.0s\n",
      "[CV 5/5] END algorithm=ball_tree, leaf_size=40, n_neighbors=5;, score=0.829 total time=   0.0s\n",
      "[CV 1/5] END algorithm=ball_tree, leaf_size=40, n_neighbors=6;, score=0.871 total time=   0.0s\n",
      "[CV 2/5] END algorithm=ball_tree, leaf_size=40, n_neighbors=6;, score=0.836 total time=   0.0s\n",
      "[CV 3/5] END algorithm=ball_tree, leaf_size=40, n_neighbors=6;, score=0.807 total time=   0.0s\n",
      "[CV 4/5] END algorithm=ball_tree, leaf_size=40, n_neighbors=6;, score=0.843 total time=   0.0s\n",
      "[CV 5/5] END algorithm=ball_tree, leaf_size=40, n_neighbors=6;, score=0.836 total time=   0.0s\n",
      "[CV 1/5] END algorithm=ball_tree, leaf_size=40, n_neighbors=7;, score=0.879 total time=   0.0s\n",
      "[CV 2/5] END algorithm=ball_tree, leaf_size=40, n_neighbors=7;, score=0.829 total time=   0.0s\n",
      "[CV 3/5] END algorithm=ball_tree, leaf_size=40, n_neighbors=7;, score=0.821 total time=   0.0s\n",
      "[CV 4/5] END algorithm=ball_tree, leaf_size=40, n_neighbors=7;, score=0.829 total time=   0.0s\n",
      "[CV 5/5] END algorithm=ball_tree, leaf_size=40, n_neighbors=7;, score=0.829 total time=   0.0s\n",
      "[CV 1/5] END algorithm=ball_tree, leaf_size=40, n_neighbors=10;, score=0.871 total time=   0.0s\n",
      "[CV 2/5] END algorithm=ball_tree, leaf_size=40, n_neighbors=10;, score=0.843 total time=   0.0s\n",
      "[CV 3/5] END algorithm=ball_tree, leaf_size=40, n_neighbors=10;, score=0.814 total time=   0.0s\n",
      "[CV 4/5] END algorithm=ball_tree, leaf_size=40, n_neighbors=10;, score=0.857 total time=   0.0s\n",
      "[CV 5/5] END algorithm=ball_tree, leaf_size=40, n_neighbors=10;, score=0.836 total time=   0.0s\n",
      "[CV 1/5] END algorithm=ball_tree, leaf_size=40, n_neighbors=12;, score=0.886 total time=   0.0s\n",
      "[CV 2/5] END algorithm=ball_tree, leaf_size=40, n_neighbors=12;, score=0.843 total time=   0.0s\n",
      "[CV 3/5] END algorithm=ball_tree, leaf_size=40, n_neighbors=12;, score=0.821 total time=   0.0s\n",
      "[CV 4/5] END algorithm=ball_tree, leaf_size=40, n_neighbors=12;, score=0.871 total time=   0.0s\n",
      "[CV 5/5] END algorithm=ball_tree, leaf_size=40, n_neighbors=12;, score=0.843 total time=   0.0s\n",
      "[CV 1/5] END algorithm=ball_tree, leaf_size=40, n_neighbors=15;, score=0.893 total time=   0.0s\n",
      "[CV 2/5] END algorithm=ball_tree, leaf_size=40, n_neighbors=15;, score=0.843 total time=   0.0s\n",
      "[CV 3/5] END algorithm=ball_tree, leaf_size=40, n_neighbors=15;, score=0.836 total time=   0.0s\n",
      "[CV 4/5] END algorithm=ball_tree, leaf_size=40, n_neighbors=15;, score=0.850 total time=   0.0s\n",
      "[CV 5/5] END algorithm=ball_tree, leaf_size=40, n_neighbors=15;, score=0.829 total time=   0.0s\n",
      "[CV 1/5] END algorithm=ball_tree, leaf_size=50, n_neighbors=3;, score=0.871 total time=   0.0s\n",
      "[CV 2/5] END algorithm=ball_tree, leaf_size=50, n_neighbors=3;, score=0.850 total time=   0.0s\n",
      "[CV 3/5] END algorithm=ball_tree, leaf_size=50, n_neighbors=3;, score=0.814 total time=   0.0s\n",
      "[CV 4/5] END algorithm=ball_tree, leaf_size=50, n_neighbors=3;, score=0.814 total time=   0.0s\n",
      "[CV 5/5] END algorithm=ball_tree, leaf_size=50, n_neighbors=3;, score=0.793 total time=   0.0s\n",
      "[CV 1/5] END algorithm=ball_tree, leaf_size=50, n_neighbors=5;, score=0.879 total time=   0.0s\n",
      "[CV 2/5] END algorithm=ball_tree, leaf_size=50, n_neighbors=5;, score=0.843 total time=   0.0s\n",
      "[CV 3/5] END algorithm=ball_tree, leaf_size=50, n_neighbors=5;, score=0.829 total time=   0.0s\n",
      "[CV 4/5] END algorithm=ball_tree, leaf_size=50, n_neighbors=5;, score=0.836 total time=   0.0s\n",
      "[CV 5/5] END algorithm=ball_tree, leaf_size=50, n_neighbors=5;, score=0.829 total time=   0.0s\n",
      "[CV 1/5] END algorithm=ball_tree, leaf_size=50, n_neighbors=6;, score=0.871 total time=   0.0s\n",
      "[CV 2/5] END algorithm=ball_tree, leaf_size=50, n_neighbors=6;, score=0.836 total time=   0.0s\n",
      "[CV 3/5] END algorithm=ball_tree, leaf_size=50, n_neighbors=6;, score=0.807 total time=   0.0s\n",
      "[CV 4/5] END algorithm=ball_tree, leaf_size=50, n_neighbors=6;, score=0.843 total time=   0.0s\n",
      "[CV 5/5] END algorithm=ball_tree, leaf_size=50, n_neighbors=6;, score=0.836 total time=   0.0s\n",
      "[CV 1/5] END algorithm=ball_tree, leaf_size=50, n_neighbors=7;, score=0.879 total time=   0.0s\n",
      "[CV 2/5] END algorithm=ball_tree, leaf_size=50, n_neighbors=7;, score=0.829 total time=   0.0s\n",
      "[CV 3/5] END algorithm=ball_tree, leaf_size=50, n_neighbors=7;, score=0.821 total time=   0.0s\n",
      "[CV 4/5] END algorithm=ball_tree, leaf_size=50, n_neighbors=7;, score=0.829 total time=   0.0s\n",
      "[CV 5/5] END algorithm=ball_tree, leaf_size=50, n_neighbors=7;, score=0.829 total time=   0.0s\n",
      "[CV 1/5] END algorithm=ball_tree, leaf_size=50, n_neighbors=10;, score=0.871 total time=   0.0s\n",
      "[CV 2/5] END algorithm=ball_tree, leaf_size=50, n_neighbors=10;, score=0.843 total time=   0.0s\n",
      "[CV 3/5] END algorithm=ball_tree, leaf_size=50, n_neighbors=10;, score=0.814 total time=   0.0s\n",
      "[CV 4/5] END algorithm=ball_tree, leaf_size=50, n_neighbors=10;, score=0.857 total time=   0.0s\n",
      "[CV 5/5] END algorithm=ball_tree, leaf_size=50, n_neighbors=10;, score=0.836 total time=   0.0s\n",
      "[CV 1/5] END algorithm=ball_tree, leaf_size=50, n_neighbors=12;, score=0.886 total time=   0.0s\n",
      "[CV 2/5] END algorithm=ball_tree, leaf_size=50, n_neighbors=12;, score=0.843 total time=   0.0s\n",
      "[CV 3/5] END algorithm=ball_tree, leaf_size=50, n_neighbors=12;, score=0.821 total time=   0.0s\n",
      "[CV 4/5] END algorithm=ball_tree, leaf_size=50, n_neighbors=12;, score=0.871 total time=   0.0s\n",
      "[CV 5/5] END algorithm=ball_tree, leaf_size=50, n_neighbors=12;, score=0.843 total time=   0.0s\n",
      "[CV 1/5] END algorithm=ball_tree, leaf_size=50, n_neighbors=15;, score=0.893 total time=   0.0s\n",
      "[CV 2/5] END algorithm=ball_tree, leaf_size=50, n_neighbors=15;, score=0.843 total time=   0.0s\n",
      "[CV 3/5] END algorithm=ball_tree, leaf_size=50, n_neighbors=15;, score=0.836 total time=   0.0s\n",
      "[CV 4/5] END algorithm=ball_tree, leaf_size=50, n_neighbors=15;, score=0.850 total time=   0.0s\n",
      "[CV 5/5] END algorithm=ball_tree, leaf_size=50, n_neighbors=15;, score=0.829 total time=   0.0s\n",
      "[CV 1/5] END algorithm=brute, leaf_size=20, n_neighbors=3;, score=0.871 total time=   0.4s\n",
      "[CV 2/5] END algorithm=brute, leaf_size=20, n_neighbors=3;, score=0.850 total time=   0.0s\n",
      "[CV 3/5] END algorithm=brute, leaf_size=20, n_neighbors=3;, score=0.814 total time=   0.0s\n",
      "[CV 4/5] END algorithm=brute, leaf_size=20, n_neighbors=3;, score=0.814 total time=   0.0s\n",
      "[CV 5/5] END algorithm=brute, leaf_size=20, n_neighbors=3;, score=0.793 total time=   0.0s\n",
      "[CV 1/5] END algorithm=brute, leaf_size=20, n_neighbors=5;, score=0.879 total time=   0.0s\n",
      "[CV 2/5] END algorithm=brute, leaf_size=20, n_neighbors=5;, score=0.843 total time=   0.0s\n",
      "[CV 3/5] END algorithm=brute, leaf_size=20, n_neighbors=5;, score=0.829 total time=   0.0s\n",
      "[CV 4/5] END algorithm=brute, leaf_size=20, n_neighbors=5;, score=0.836 total time=   0.0s\n",
      "[CV 5/5] END algorithm=brute, leaf_size=20, n_neighbors=5;, score=0.829 total time=   0.0s\n",
      "[CV 1/5] END algorithm=brute, leaf_size=20, n_neighbors=6;, score=0.871 total time=   0.0s\n",
      "[CV 2/5] END algorithm=brute, leaf_size=20, n_neighbors=6;, score=0.836 total time=   0.0s\n",
      "[CV 3/5] END algorithm=brute, leaf_size=20, n_neighbors=6;, score=0.807 total time=   0.0s\n",
      "[CV 4/5] END algorithm=brute, leaf_size=20, n_neighbors=6;, score=0.843 total time=   0.0s\n",
      "[CV 5/5] END algorithm=brute, leaf_size=20, n_neighbors=6;, score=0.836 total time=   0.0s\n",
      "[CV 1/5] END algorithm=brute, leaf_size=20, n_neighbors=7;, score=0.879 total time=   0.0s\n",
      "[CV 2/5] END algorithm=brute, leaf_size=20, n_neighbors=7;, score=0.829 total time=   0.0s\n",
      "[CV 3/5] END algorithm=brute, leaf_size=20, n_neighbors=7;, score=0.821 total time=   0.0s\n",
      "[CV 4/5] END algorithm=brute, leaf_size=20, n_neighbors=7;, score=0.829 total time=   0.0s\n",
      "[CV 5/5] END algorithm=brute, leaf_size=20, n_neighbors=7;, score=0.829 total time=   0.0s\n",
      "[CV 1/5] END algorithm=brute, leaf_size=20, n_neighbors=10;, score=0.871 total time=   0.0s\n",
      "[CV 2/5] END algorithm=brute, leaf_size=20, n_neighbors=10;, score=0.843 total time=   0.0s\n",
      "[CV 3/5] END algorithm=brute, leaf_size=20, n_neighbors=10;, score=0.814 total time=   0.0s\n",
      "[CV 4/5] END algorithm=brute, leaf_size=20, n_neighbors=10;, score=0.857 total time=   0.0s\n",
      "[CV 5/5] END algorithm=brute, leaf_size=20, n_neighbors=10;, score=0.836 total time=   0.0s\n",
      "[CV 1/5] END algorithm=brute, leaf_size=20, n_neighbors=12;, score=0.886 total time=   0.0s\n",
      "[CV 2/5] END algorithm=brute, leaf_size=20, n_neighbors=12;, score=0.843 total time=   0.0s\n",
      "[CV 3/5] END algorithm=brute, leaf_size=20, n_neighbors=12;, score=0.821 total time=   0.0s\n",
      "[CV 4/5] END algorithm=brute, leaf_size=20, n_neighbors=12;, score=0.871 total time=   0.0s\n",
      "[CV 5/5] END algorithm=brute, leaf_size=20, n_neighbors=12;, score=0.843 total time=   0.0s\n",
      "[CV 1/5] END algorithm=brute, leaf_size=20, n_neighbors=15;, score=0.893 total time=   0.0s\n",
      "[CV 2/5] END algorithm=brute, leaf_size=20, n_neighbors=15;, score=0.843 total time=   0.0s\n",
      "[CV 3/5] END algorithm=brute, leaf_size=20, n_neighbors=15;, score=0.836 total time=   0.0s\n",
      "[CV 4/5] END algorithm=brute, leaf_size=20, n_neighbors=15;, score=0.850 total time=   0.0s\n",
      "[CV 5/5] END algorithm=brute, leaf_size=20, n_neighbors=15;, score=0.829 total time=   0.0s\n",
      "[CV 1/5] END algorithm=brute, leaf_size=30, n_neighbors=3;, score=0.871 total time=   0.0s\n",
      "[CV 2/5] END algorithm=brute, leaf_size=30, n_neighbors=3;, score=0.850 total time=   0.0s\n",
      "[CV 3/5] END algorithm=brute, leaf_size=30, n_neighbors=3;, score=0.814 total time=   0.0s\n",
      "[CV 4/5] END algorithm=brute, leaf_size=30, n_neighbors=3;, score=0.814 total time=   0.0s\n",
      "[CV 5/5] END algorithm=brute, leaf_size=30, n_neighbors=3;, score=0.793 total time=   0.0s\n",
      "[CV 1/5] END algorithm=brute, leaf_size=30, n_neighbors=5;, score=0.879 total time=   0.0s\n",
      "[CV 2/5] END algorithm=brute, leaf_size=30, n_neighbors=5;, score=0.843 total time=   0.0s\n",
      "[CV 3/5] END algorithm=brute, leaf_size=30, n_neighbors=5;, score=0.829 total time=   0.0s\n",
      "[CV 4/5] END algorithm=brute, leaf_size=30, n_neighbors=5;, score=0.836 total time=   0.0s\n",
      "[CV 5/5] END algorithm=brute, leaf_size=30, n_neighbors=5;, score=0.829 total time=   0.0s\n",
      "[CV 1/5] END algorithm=brute, leaf_size=30, n_neighbors=6;, score=0.871 total time=   0.0s\n",
      "[CV 2/5] END algorithm=brute, leaf_size=30, n_neighbors=6;, score=0.836 total time=   0.0s\n",
      "[CV 3/5] END algorithm=brute, leaf_size=30, n_neighbors=6;, score=0.807 total time=   0.0s\n",
      "[CV 4/5] END algorithm=brute, leaf_size=30, n_neighbors=6;, score=0.843 total time=   0.0s\n",
      "[CV 5/5] END algorithm=brute, leaf_size=30, n_neighbors=6;, score=0.836 total time=   0.0s\n",
      "[CV 1/5] END algorithm=brute, leaf_size=30, n_neighbors=7;, score=0.879 total time=   0.0s\n",
      "[CV 2/5] END algorithm=brute, leaf_size=30, n_neighbors=7;, score=0.829 total time=   0.0s\n",
      "[CV 3/5] END algorithm=brute, leaf_size=30, n_neighbors=7;, score=0.821 total time=   0.0s\n",
      "[CV 4/5] END algorithm=brute, leaf_size=30, n_neighbors=7;, score=0.829 total time=   0.0s\n",
      "[CV 5/5] END algorithm=brute, leaf_size=30, n_neighbors=7;, score=0.829 total time=   0.0s\n",
      "[CV 1/5] END algorithm=brute, leaf_size=30, n_neighbors=10;, score=0.871 total time=   0.0s\n",
      "[CV 2/5] END algorithm=brute, leaf_size=30, n_neighbors=10;, score=0.843 total time=   0.0s\n",
      "[CV 3/5] END algorithm=brute, leaf_size=30, n_neighbors=10;, score=0.814 total time=   0.0s\n",
      "[CV 4/5] END algorithm=brute, leaf_size=30, n_neighbors=10;, score=0.857 total time=   0.0s\n",
      "[CV 5/5] END algorithm=brute, leaf_size=30, n_neighbors=10;, score=0.836 total time=   0.0s\n",
      "[CV 1/5] END algorithm=brute, leaf_size=30, n_neighbors=12;, score=0.886 total time=   0.0s\n",
      "[CV 2/5] END algorithm=brute, leaf_size=30, n_neighbors=12;, score=0.843 total time=   0.0s\n",
      "[CV 3/5] END algorithm=brute, leaf_size=30, n_neighbors=12;, score=0.821 total time=   0.0s\n",
      "[CV 4/5] END algorithm=brute, leaf_size=30, n_neighbors=12;, score=0.871 total time=   0.0s\n",
      "[CV 5/5] END algorithm=brute, leaf_size=30, n_neighbors=12;, score=0.843 total time=   0.0s\n",
      "[CV 1/5] END algorithm=brute, leaf_size=30, n_neighbors=15;, score=0.893 total time=   0.0s\n",
      "[CV 2/5] END algorithm=brute, leaf_size=30, n_neighbors=15;, score=0.843 total time=   0.0s\n",
      "[CV 3/5] END algorithm=brute, leaf_size=30, n_neighbors=15;, score=0.836 total time=   0.0s\n",
      "[CV 4/5] END algorithm=brute, leaf_size=30, n_neighbors=15;, score=0.850 total time=   0.0s\n",
      "[CV 5/5] END algorithm=brute, leaf_size=30, n_neighbors=15;, score=0.829 total time=   0.0s\n",
      "[CV 1/5] END algorithm=brute, leaf_size=40, n_neighbors=3;, score=0.871 total time=   0.0s\n",
      "[CV 2/5] END algorithm=brute, leaf_size=40, n_neighbors=3;, score=0.850 total time=   0.0s\n",
      "[CV 3/5] END algorithm=brute, leaf_size=40, n_neighbors=3;, score=0.814 total time=   0.0s\n",
      "[CV 4/5] END algorithm=brute, leaf_size=40, n_neighbors=3;, score=0.814 total time=   0.0s\n",
      "[CV 5/5] END algorithm=brute, leaf_size=40, n_neighbors=3;, score=0.793 total time=   0.0s\n",
      "[CV 1/5] END algorithm=brute, leaf_size=40, n_neighbors=5;, score=0.879 total time=   0.0s\n",
      "[CV 2/5] END algorithm=brute, leaf_size=40, n_neighbors=5;, score=0.843 total time=   0.0s\n",
      "[CV 3/5] END algorithm=brute, leaf_size=40, n_neighbors=5;, score=0.829 total time=   0.0s\n",
      "[CV 4/5] END algorithm=brute, leaf_size=40, n_neighbors=5;, score=0.836 total time=   0.0s\n",
      "[CV 5/5] END algorithm=brute, leaf_size=40, n_neighbors=5;, score=0.829 total time=   0.0s\n",
      "[CV 1/5] END algorithm=brute, leaf_size=40, n_neighbors=6;, score=0.871 total time=   0.0s\n",
      "[CV 2/5] END algorithm=brute, leaf_size=40, n_neighbors=6;, score=0.836 total time=   0.0s\n",
      "[CV 3/5] END algorithm=brute, leaf_size=40, n_neighbors=6;, score=0.807 total time=   0.0s\n",
      "[CV 4/5] END algorithm=brute, leaf_size=40, n_neighbors=6;, score=0.843 total time=   0.0s\n",
      "[CV 5/5] END algorithm=brute, leaf_size=40, n_neighbors=6;, score=0.836 total time=   0.0s\n",
      "[CV 1/5] END algorithm=brute, leaf_size=40, n_neighbors=7;, score=0.879 total time=   0.0s\n",
      "[CV 2/5] END algorithm=brute, leaf_size=40, n_neighbors=7;, score=0.829 total time=   0.0s\n",
      "[CV 3/5] END algorithm=brute, leaf_size=40, n_neighbors=7;, score=0.821 total time=   0.0s\n",
      "[CV 4/5] END algorithm=brute, leaf_size=40, n_neighbors=7;, score=0.829 total time=   0.0s\n",
      "[CV 5/5] END algorithm=brute, leaf_size=40, n_neighbors=7;, score=0.829 total time=   0.0s\n",
      "[CV 1/5] END algorithm=brute, leaf_size=40, n_neighbors=10;, score=0.871 total time=   0.0s\n",
      "[CV 2/5] END algorithm=brute, leaf_size=40, n_neighbors=10;, score=0.843 total time=   0.0s\n",
      "[CV 3/5] END algorithm=brute, leaf_size=40, n_neighbors=10;, score=0.814 total time=   0.0s\n",
      "[CV 4/5] END algorithm=brute, leaf_size=40, n_neighbors=10;, score=0.857 total time=   0.0s\n",
      "[CV 5/5] END algorithm=brute, leaf_size=40, n_neighbors=10;, score=0.836 total time=   0.0s\n",
      "[CV 1/5] END algorithm=brute, leaf_size=40, n_neighbors=12;, score=0.886 total time=   0.0s\n",
      "[CV 2/5] END algorithm=brute, leaf_size=40, n_neighbors=12;, score=0.843 total time=   0.0s\n",
      "[CV 3/5] END algorithm=brute, leaf_size=40, n_neighbors=12;, score=0.821 total time=   0.0s\n",
      "[CV 4/5] END algorithm=brute, leaf_size=40, n_neighbors=12;, score=0.871 total time=   0.0s\n",
      "[CV 5/5] END algorithm=brute, leaf_size=40, n_neighbors=12;, score=0.843 total time=   0.0s\n",
      "[CV 1/5] END algorithm=brute, leaf_size=40, n_neighbors=15;, score=0.893 total time=   0.0s\n",
      "[CV 2/5] END algorithm=brute, leaf_size=40, n_neighbors=15;, score=0.843 total time=   0.0s\n",
      "[CV 3/5] END algorithm=brute, leaf_size=40, n_neighbors=15;, score=0.836 total time=   0.0s\n",
      "[CV 4/5] END algorithm=brute, leaf_size=40, n_neighbors=15;, score=0.850 total time=   0.0s\n",
      "[CV 5/5] END algorithm=brute, leaf_size=40, n_neighbors=15;, score=0.829 total time=   0.0s\n",
      "[CV 1/5] END algorithm=brute, leaf_size=50, n_neighbors=3;, score=0.871 total time=   0.0s\n",
      "[CV 2/5] END algorithm=brute, leaf_size=50, n_neighbors=3;, score=0.850 total time=   0.0s\n",
      "[CV 3/5] END algorithm=brute, leaf_size=50, n_neighbors=3;, score=0.814 total time=   0.0s\n",
      "[CV 4/5] END algorithm=brute, leaf_size=50, n_neighbors=3;, score=0.814 total time=   0.0s\n",
      "[CV 5/5] END algorithm=brute, leaf_size=50, n_neighbors=3;, score=0.793 total time=   0.0s\n",
      "[CV 1/5] END algorithm=brute, leaf_size=50, n_neighbors=5;, score=0.879 total time=   0.0s\n",
      "[CV 2/5] END algorithm=brute, leaf_size=50, n_neighbors=5;, score=0.843 total time=   0.0s\n",
      "[CV 3/5] END algorithm=brute, leaf_size=50, n_neighbors=5;, score=0.829 total time=   0.0s\n",
      "[CV 4/5] END algorithm=brute, leaf_size=50, n_neighbors=5;, score=0.836 total time=   0.0s\n",
      "[CV 5/5] END algorithm=brute, leaf_size=50, n_neighbors=5;, score=0.829 total time=   0.0s\n",
      "[CV 1/5] END algorithm=brute, leaf_size=50, n_neighbors=6;, score=0.871 total time=   0.0s\n",
      "[CV 2/5] END algorithm=brute, leaf_size=50, n_neighbors=6;, score=0.836 total time=   0.0s\n",
      "[CV 3/5] END algorithm=brute, leaf_size=50, n_neighbors=6;, score=0.807 total time=   0.0s\n",
      "[CV 4/5] END algorithm=brute, leaf_size=50, n_neighbors=6;, score=0.843 total time=   0.0s\n",
      "[CV 5/5] END algorithm=brute, leaf_size=50, n_neighbors=6;, score=0.836 total time=   0.0s\n",
      "[CV 1/5] END algorithm=brute, leaf_size=50, n_neighbors=7;, score=0.879 total time=   0.0s\n",
      "[CV 2/5] END algorithm=brute, leaf_size=50, n_neighbors=7;, score=0.829 total time=   0.0s\n",
      "[CV 3/5] END algorithm=brute, leaf_size=50, n_neighbors=7;, score=0.821 total time=   0.0s\n",
      "[CV 4/5] END algorithm=brute, leaf_size=50, n_neighbors=7;, score=0.829 total time=   0.0s\n",
      "[CV 5/5] END algorithm=brute, leaf_size=50, n_neighbors=7;, score=0.829 total time=   0.0s\n",
      "[CV 1/5] END algorithm=brute, leaf_size=50, n_neighbors=10;, score=0.871 total time=   0.0s\n",
      "[CV 2/5] END algorithm=brute, leaf_size=50, n_neighbors=10;, score=0.843 total time=   0.0s\n",
      "[CV 3/5] END algorithm=brute, leaf_size=50, n_neighbors=10;, score=0.814 total time=   0.0s\n",
      "[CV 4/5] END algorithm=brute, leaf_size=50, n_neighbors=10;, score=0.857 total time=   0.1s\n",
      "[CV 5/5] END algorithm=brute, leaf_size=50, n_neighbors=10;, score=0.836 total time=   0.0s\n",
      "[CV 1/5] END algorithm=brute, leaf_size=50, n_neighbors=12;, score=0.886 total time=   0.0s\n",
      "[CV 2/5] END algorithm=brute, leaf_size=50, n_neighbors=12;, score=0.843 total time=   0.0s\n",
      "[CV 3/5] END algorithm=brute, leaf_size=50, n_neighbors=12;, score=0.821 total time=   0.0s\n",
      "[CV 4/5] END algorithm=brute, leaf_size=50, n_neighbors=12;, score=0.871 total time=   0.0s\n",
      "[CV 5/5] END algorithm=brute, leaf_size=50, n_neighbors=12;, score=0.843 total time=   0.0s\n",
      "[CV 1/5] END algorithm=brute, leaf_size=50, n_neighbors=15;, score=0.893 total time=   0.0s\n",
      "[CV 2/5] END algorithm=brute, leaf_size=50, n_neighbors=15;, score=0.843 total time=   0.0s\n",
      "[CV 3/5] END algorithm=brute, leaf_size=50, n_neighbors=15;, score=0.836 total time=   0.1s\n",
      "[CV 4/5] END algorithm=brute, leaf_size=50, n_neighbors=15;, score=0.850 total time=   0.0s\n",
      "[CV 5/5] END algorithm=brute, leaf_size=50, n_neighbors=15;, score=0.829 total time=   0.0s\n",
      "[CV 1/5] END algorithm=kd_tree, leaf_size=20, n_neighbors=3;, score=0.871 total time=   0.0s\n",
      "[CV 2/5] END algorithm=kd_tree, leaf_size=20, n_neighbors=3;, score=0.850 total time=   0.0s\n",
      "[CV 3/5] END algorithm=kd_tree, leaf_size=20, n_neighbors=3;, score=0.814 total time=   0.0s\n",
      "[CV 4/5] END algorithm=kd_tree, leaf_size=20, n_neighbors=3;, score=0.814 total time=   0.0s\n",
      "[CV 5/5] END algorithm=kd_tree, leaf_size=20, n_neighbors=3;, score=0.793 total time=   0.0s\n",
      "[CV 1/5] END algorithm=kd_tree, leaf_size=20, n_neighbors=5;, score=0.879 total time=   0.0s\n",
      "[CV 2/5] END algorithm=kd_tree, leaf_size=20, n_neighbors=5;, score=0.843 total time=   0.0s\n",
      "[CV 3/5] END algorithm=kd_tree, leaf_size=20, n_neighbors=5;, score=0.829 total time=   0.0s\n",
      "[CV 4/5] END algorithm=kd_tree, leaf_size=20, n_neighbors=5;, score=0.836 total time=   0.0s\n",
      "[CV 5/5] END algorithm=kd_tree, leaf_size=20, n_neighbors=5;, score=0.829 total time=   0.0s\n",
      "[CV 1/5] END algorithm=kd_tree, leaf_size=20, n_neighbors=6;, score=0.871 total time=   0.0s\n",
      "[CV 2/5] END algorithm=kd_tree, leaf_size=20, n_neighbors=6;, score=0.836 total time=   0.0s\n",
      "[CV 3/5] END algorithm=kd_tree, leaf_size=20, n_neighbors=6;, score=0.807 total time=   0.0s\n",
      "[CV 4/5] END algorithm=kd_tree, leaf_size=20, n_neighbors=6;, score=0.843 total time=   0.0s\n",
      "[CV 5/5] END algorithm=kd_tree, leaf_size=20, n_neighbors=6;, score=0.836 total time=   0.0s\n",
      "[CV 1/5] END algorithm=kd_tree, leaf_size=20, n_neighbors=7;, score=0.879 total time=   0.0s\n",
      "[CV 2/5] END algorithm=kd_tree, leaf_size=20, n_neighbors=7;, score=0.829 total time=   0.0s\n",
      "[CV 3/5] END algorithm=kd_tree, leaf_size=20, n_neighbors=7;, score=0.821 total time=   0.0s\n",
      "[CV 4/5] END algorithm=kd_tree, leaf_size=20, n_neighbors=7;, score=0.829 total time=   0.0s\n",
      "[CV 5/5] END algorithm=kd_tree, leaf_size=20, n_neighbors=7;, score=0.829 total time=   0.0s\n",
      "[CV 1/5] END algorithm=kd_tree, leaf_size=20, n_neighbors=10;, score=0.871 total time=   0.0s\n",
      "[CV 2/5] END algorithm=kd_tree, leaf_size=20, n_neighbors=10;, score=0.843 total time=   0.0s\n",
      "[CV 3/5] END algorithm=kd_tree, leaf_size=20, n_neighbors=10;, score=0.814 total time=   0.0s\n",
      "[CV 4/5] END algorithm=kd_tree, leaf_size=20, n_neighbors=10;, score=0.857 total time=   0.0s\n",
      "[CV 5/5] END algorithm=kd_tree, leaf_size=20, n_neighbors=10;, score=0.836 total time=   0.0s\n",
      "[CV 1/5] END algorithm=kd_tree, leaf_size=20, n_neighbors=12;, score=0.886 total time=   0.0s\n",
      "[CV 2/5] END algorithm=kd_tree, leaf_size=20, n_neighbors=12;, score=0.843 total time=   0.0s\n",
      "[CV 3/5] END algorithm=kd_tree, leaf_size=20, n_neighbors=12;, score=0.821 total time=   0.0s\n",
      "[CV 4/5] END algorithm=kd_tree, leaf_size=20, n_neighbors=12;, score=0.871 total time=   0.0s\n",
      "[CV 5/5] END algorithm=kd_tree, leaf_size=20, n_neighbors=12;, score=0.843 total time=   0.0s\n",
      "[CV 1/5] END algorithm=kd_tree, leaf_size=20, n_neighbors=15;, score=0.893 total time=   0.0s\n",
      "[CV 2/5] END algorithm=kd_tree, leaf_size=20, n_neighbors=15;, score=0.843 total time=   0.0s\n",
      "[CV 3/5] END algorithm=kd_tree, leaf_size=20, n_neighbors=15;, score=0.836 total time=   0.0s\n",
      "[CV 4/5] END algorithm=kd_tree, leaf_size=20, n_neighbors=15;, score=0.850 total time=   0.0s\n",
      "[CV 5/5] END algorithm=kd_tree, leaf_size=20, n_neighbors=15;, score=0.829 total time=   0.0s\n",
      "[CV 1/5] END algorithm=kd_tree, leaf_size=30, n_neighbors=3;, score=0.871 total time=   0.0s\n",
      "[CV 2/5] END algorithm=kd_tree, leaf_size=30, n_neighbors=3;, score=0.850 total time=   0.0s\n",
      "[CV 3/5] END algorithm=kd_tree, leaf_size=30, n_neighbors=3;, score=0.814 total time=   0.0s\n",
      "[CV 4/5] END algorithm=kd_tree, leaf_size=30, n_neighbors=3;, score=0.814 total time=   0.0s\n",
      "[CV 5/5] END algorithm=kd_tree, leaf_size=30, n_neighbors=3;, score=0.793 total time=   0.0s\n",
      "[CV 1/5] END algorithm=kd_tree, leaf_size=30, n_neighbors=5;, score=0.879 total time=   0.0s\n",
      "[CV 2/5] END algorithm=kd_tree, leaf_size=30, n_neighbors=5;, score=0.843 total time=   0.0s\n",
      "[CV 3/5] END algorithm=kd_tree, leaf_size=30, n_neighbors=5;, score=0.829 total time=   0.0s\n",
      "[CV 4/5] END algorithm=kd_tree, leaf_size=30, n_neighbors=5;, score=0.836 total time=   0.0s\n",
      "[CV 5/5] END algorithm=kd_tree, leaf_size=30, n_neighbors=5;, score=0.829 total time=   0.0s\n",
      "[CV 1/5] END algorithm=kd_tree, leaf_size=30, n_neighbors=6;, score=0.871 total time=   0.0s\n",
      "[CV 2/5] END algorithm=kd_tree, leaf_size=30, n_neighbors=6;, score=0.836 total time=   0.0s\n",
      "[CV 3/5] END algorithm=kd_tree, leaf_size=30, n_neighbors=6;, score=0.807 total time=   0.0s\n",
      "[CV 4/5] END algorithm=kd_tree, leaf_size=30, n_neighbors=6;, score=0.843 total time=   0.0s\n",
      "[CV 5/5] END algorithm=kd_tree, leaf_size=30, n_neighbors=6;, score=0.836 total time=   0.0s\n",
      "[CV 1/5] END algorithm=kd_tree, leaf_size=30, n_neighbors=7;, score=0.879 total time=   0.0s\n",
      "[CV 2/5] END algorithm=kd_tree, leaf_size=30, n_neighbors=7;, score=0.829 total time=   0.0s\n",
      "[CV 3/5] END algorithm=kd_tree, leaf_size=30, n_neighbors=7;, score=0.821 total time=   0.0s\n",
      "[CV 4/5] END algorithm=kd_tree, leaf_size=30, n_neighbors=7;, score=0.829 total time=   0.0s\n",
      "[CV 5/5] END algorithm=kd_tree, leaf_size=30, n_neighbors=7;, score=0.829 total time=   0.0s\n",
      "[CV 1/5] END algorithm=kd_tree, leaf_size=30, n_neighbors=10;, score=0.871 total time=   0.0s\n",
      "[CV 2/5] END algorithm=kd_tree, leaf_size=30, n_neighbors=10;, score=0.843 total time=   0.0s\n",
      "[CV 3/5] END algorithm=kd_tree, leaf_size=30, n_neighbors=10;, score=0.814 total time=   0.0s\n",
      "[CV 4/5] END algorithm=kd_tree, leaf_size=30, n_neighbors=10;, score=0.857 total time=   0.0s\n",
      "[CV 5/5] END algorithm=kd_tree, leaf_size=30, n_neighbors=10;, score=0.836 total time=   0.0s\n",
      "[CV 1/5] END algorithm=kd_tree, leaf_size=30, n_neighbors=12;, score=0.886 total time=   0.0s\n",
      "[CV 2/5] END algorithm=kd_tree, leaf_size=30, n_neighbors=12;, score=0.843 total time=   0.0s\n",
      "[CV 3/5] END algorithm=kd_tree, leaf_size=30, n_neighbors=12;, score=0.821 total time=   0.0s\n",
      "[CV 4/5] END algorithm=kd_tree, leaf_size=30, n_neighbors=12;, score=0.871 total time=   0.0s\n",
      "[CV 5/5] END algorithm=kd_tree, leaf_size=30, n_neighbors=12;, score=0.843 total time=   0.0s\n",
      "[CV 1/5] END algorithm=kd_tree, leaf_size=30, n_neighbors=15;, score=0.893 total time=   0.0s\n",
      "[CV 2/5] END algorithm=kd_tree, leaf_size=30, n_neighbors=15;, score=0.843 total time=   0.0s\n",
      "[CV 3/5] END algorithm=kd_tree, leaf_size=30, n_neighbors=15;, score=0.836 total time=   0.0s\n",
      "[CV 4/5] END algorithm=kd_tree, leaf_size=30, n_neighbors=15;, score=0.850 total time=   0.0s\n",
      "[CV 5/5] END algorithm=kd_tree, leaf_size=30, n_neighbors=15;, score=0.829 total time=   0.0s\n",
      "[CV 1/5] END algorithm=kd_tree, leaf_size=40, n_neighbors=3;, score=0.871 total time=   0.0s\n",
      "[CV 2/5] END algorithm=kd_tree, leaf_size=40, n_neighbors=3;, score=0.850 total time=   0.0s\n",
      "[CV 3/5] END algorithm=kd_tree, leaf_size=40, n_neighbors=3;, score=0.814 total time=   0.0s\n",
      "[CV 4/5] END algorithm=kd_tree, leaf_size=40, n_neighbors=3;, score=0.814 total time=   0.0s\n",
      "[CV 5/5] END algorithm=kd_tree, leaf_size=40, n_neighbors=3;, score=0.793 total time=   0.0s\n",
      "[CV 1/5] END algorithm=kd_tree, leaf_size=40, n_neighbors=5;, score=0.879 total time=   0.0s\n",
      "[CV 2/5] END algorithm=kd_tree, leaf_size=40, n_neighbors=5;, score=0.843 total time=   0.0s\n",
      "[CV 3/5] END algorithm=kd_tree, leaf_size=40, n_neighbors=5;, score=0.829 total time=   0.0s\n",
      "[CV 4/5] END algorithm=kd_tree, leaf_size=40, n_neighbors=5;, score=0.836 total time=   0.0s\n",
      "[CV 5/5] END algorithm=kd_tree, leaf_size=40, n_neighbors=5;, score=0.829 total time=   0.0s\n",
      "[CV 1/5] END algorithm=kd_tree, leaf_size=40, n_neighbors=6;, score=0.871 total time=   0.0s\n",
      "[CV 2/5] END algorithm=kd_tree, leaf_size=40, n_neighbors=6;, score=0.836 total time=   0.0s\n",
      "[CV 3/5] END algorithm=kd_tree, leaf_size=40, n_neighbors=6;, score=0.807 total time=   0.0s\n",
      "[CV 4/5] END algorithm=kd_tree, leaf_size=40, n_neighbors=6;, score=0.843 total time=   0.0s\n",
      "[CV 5/5] END algorithm=kd_tree, leaf_size=40, n_neighbors=6;, score=0.836 total time=   0.0s\n",
      "[CV 1/5] END algorithm=kd_tree, leaf_size=40, n_neighbors=7;, score=0.879 total time=   0.0s\n",
      "[CV 2/5] END algorithm=kd_tree, leaf_size=40, n_neighbors=7;, score=0.829 total time=   0.0s\n",
      "[CV 3/5] END algorithm=kd_tree, leaf_size=40, n_neighbors=7;, score=0.821 total time=   0.0s\n",
      "[CV 4/5] END algorithm=kd_tree, leaf_size=40, n_neighbors=7;, score=0.829 total time=   0.0s\n",
      "[CV 5/5] END algorithm=kd_tree, leaf_size=40, n_neighbors=7;, score=0.829 total time=   0.0s\n",
      "[CV 1/5] END algorithm=kd_tree, leaf_size=40, n_neighbors=10;, score=0.871 total time=   0.0s\n",
      "[CV 2/5] END algorithm=kd_tree, leaf_size=40, n_neighbors=10;, score=0.843 total time=   0.0s\n",
      "[CV 3/5] END algorithm=kd_tree, leaf_size=40, n_neighbors=10;, score=0.814 total time=   0.0s\n",
      "[CV 4/5] END algorithm=kd_tree, leaf_size=40, n_neighbors=10;, score=0.857 total time=   0.0s\n",
      "[CV 5/5] END algorithm=kd_tree, leaf_size=40, n_neighbors=10;, score=0.836 total time=   0.0s\n",
      "[CV 1/5] END algorithm=kd_tree, leaf_size=40, n_neighbors=12;, score=0.886 total time=   0.0s\n",
      "[CV 2/5] END algorithm=kd_tree, leaf_size=40, n_neighbors=12;, score=0.843 total time=   0.0s\n",
      "[CV 3/5] END algorithm=kd_tree, leaf_size=40, n_neighbors=12;, score=0.821 total time=   0.0s\n",
      "[CV 4/5] END algorithm=kd_tree, leaf_size=40, n_neighbors=12;, score=0.871 total time=   0.0s\n",
      "[CV 5/5] END algorithm=kd_tree, leaf_size=40, n_neighbors=12;, score=0.843 total time=   0.0s\n",
      "[CV 1/5] END algorithm=kd_tree, leaf_size=40, n_neighbors=15;, score=0.893 total time=   0.0s\n",
      "[CV 2/5] END algorithm=kd_tree, leaf_size=40, n_neighbors=15;, score=0.843 total time=   0.0s\n",
      "[CV 3/5] END algorithm=kd_tree, leaf_size=40, n_neighbors=15;, score=0.836 total time=   0.0s\n",
      "[CV 4/5] END algorithm=kd_tree, leaf_size=40, n_neighbors=15;, score=0.850 total time=   0.0s\n",
      "[CV 5/5] END algorithm=kd_tree, leaf_size=40, n_neighbors=15;, score=0.829 total time=   0.0s\n",
      "[CV 1/5] END algorithm=kd_tree, leaf_size=50, n_neighbors=3;, score=0.871 total time=   0.0s\n",
      "[CV 2/5] END algorithm=kd_tree, leaf_size=50, n_neighbors=3;, score=0.850 total time=   0.0s\n",
      "[CV 3/5] END algorithm=kd_tree, leaf_size=50, n_neighbors=3;, score=0.814 total time=   0.0s\n",
      "[CV 4/5] END algorithm=kd_tree, leaf_size=50, n_neighbors=3;, score=0.814 total time=   0.0s\n",
      "[CV 5/5] END algorithm=kd_tree, leaf_size=50, n_neighbors=3;, score=0.793 total time=   0.0s\n",
      "[CV 1/5] END algorithm=kd_tree, leaf_size=50, n_neighbors=5;, score=0.879 total time=   0.0s\n",
      "[CV 2/5] END algorithm=kd_tree, leaf_size=50, n_neighbors=5;, score=0.843 total time=   0.0s\n",
      "[CV 3/5] END algorithm=kd_tree, leaf_size=50, n_neighbors=5;, score=0.829 total time=   0.0s\n",
      "[CV 4/5] END algorithm=kd_tree, leaf_size=50, n_neighbors=5;, score=0.836 total time=   0.0s\n",
      "[CV 5/5] END algorithm=kd_tree, leaf_size=50, n_neighbors=5;, score=0.829 total time=   0.0s\n",
      "[CV 1/5] END algorithm=kd_tree, leaf_size=50, n_neighbors=6;, score=0.871 total time=   0.0s\n",
      "[CV 2/5] END algorithm=kd_tree, leaf_size=50, n_neighbors=6;, score=0.836 total time=   0.0s\n",
      "[CV 3/5] END algorithm=kd_tree, leaf_size=50, n_neighbors=6;, score=0.807 total time=   0.0s\n",
      "[CV 4/5] END algorithm=kd_tree, leaf_size=50, n_neighbors=6;, score=0.843 total time=   0.0s\n",
      "[CV 5/5] END algorithm=kd_tree, leaf_size=50, n_neighbors=6;, score=0.836 total time=   0.0s\n",
      "[CV 1/5] END algorithm=kd_tree, leaf_size=50, n_neighbors=7;, score=0.879 total time=   0.0s\n",
      "[CV 2/5] END algorithm=kd_tree, leaf_size=50, n_neighbors=7;, score=0.829 total time=   0.0s\n",
      "[CV 3/5] END algorithm=kd_tree, leaf_size=50, n_neighbors=7;, score=0.821 total time=   0.0s\n",
      "[CV 4/5] END algorithm=kd_tree, leaf_size=50, n_neighbors=7;, score=0.829 total time=   0.0s\n",
      "[CV 5/5] END algorithm=kd_tree, leaf_size=50, n_neighbors=7;, score=0.829 total time=   0.0s\n",
      "[CV 1/5] END algorithm=kd_tree, leaf_size=50, n_neighbors=10;, score=0.871 total time=   0.0s\n",
      "[CV 2/5] END algorithm=kd_tree, leaf_size=50, n_neighbors=10;, score=0.843 total time=   0.0s\n",
      "[CV 3/5] END algorithm=kd_tree, leaf_size=50, n_neighbors=10;, score=0.814 total time=   0.0s\n",
      "[CV 4/5] END algorithm=kd_tree, leaf_size=50, n_neighbors=10;, score=0.857 total time=   0.0s\n",
      "[CV 5/5] END algorithm=kd_tree, leaf_size=50, n_neighbors=10;, score=0.836 total time=   0.0s\n",
      "[CV 1/5] END algorithm=kd_tree, leaf_size=50, n_neighbors=12;, score=0.886 total time=   0.0s\n",
      "[CV 2/5] END algorithm=kd_tree, leaf_size=50, n_neighbors=12;, score=0.843 total time=   0.0s\n",
      "[CV 3/5] END algorithm=kd_tree, leaf_size=50, n_neighbors=12;, score=0.821 total time=   0.0s\n",
      "[CV 4/5] END algorithm=kd_tree, leaf_size=50, n_neighbors=12;, score=0.871 total time=   0.0s\n",
      "[CV 5/5] END algorithm=kd_tree, leaf_size=50, n_neighbors=12;, score=0.843 total time=   0.0s\n",
      "[CV 1/5] END algorithm=kd_tree, leaf_size=50, n_neighbors=15;, score=0.893 total time=   0.0s\n",
      "[CV 2/5] END algorithm=kd_tree, leaf_size=50, n_neighbors=15;, score=0.843 total time=   0.0s\n",
      "[CV 3/5] END algorithm=kd_tree, leaf_size=50, n_neighbors=15;, score=0.836 total time=   0.0s\n",
      "[CV 4/5] END algorithm=kd_tree, leaf_size=50, n_neighbors=15;, score=0.850 total time=   0.0s\n",
      "[CV 5/5] END algorithm=kd_tree, leaf_size=50, n_neighbors=15;, score=0.829 total time=   0.0s\n"
     ]
    },
    {
     "data": {
      "text/html": [
       "<style>#sk-container-id-4 {color: black;}#sk-container-id-4 pre{padding: 0;}#sk-container-id-4 div.sk-toggleable {background-color: white;}#sk-container-id-4 label.sk-toggleable__label {cursor: pointer;display: block;width: 100%;margin-bottom: 0;padding: 0.3em;box-sizing: border-box;text-align: center;}#sk-container-id-4 label.sk-toggleable__label-arrow:before {content: \"▸\";float: left;margin-right: 0.25em;color: #696969;}#sk-container-id-4 label.sk-toggleable__label-arrow:hover:before {color: black;}#sk-container-id-4 div.sk-estimator:hover label.sk-toggleable__label-arrow:before {color: black;}#sk-container-id-4 div.sk-toggleable__content {max-height: 0;max-width: 0;overflow: hidden;text-align: left;background-color: #f0f8ff;}#sk-container-id-4 div.sk-toggleable__content pre {margin: 0.2em;color: black;border-radius: 0.25em;background-color: #f0f8ff;}#sk-container-id-4 input.sk-toggleable__control:checked~div.sk-toggleable__content {max-height: 200px;max-width: 100%;overflow: auto;}#sk-container-id-4 input.sk-toggleable__control:checked~label.sk-toggleable__label-arrow:before {content: \"▾\";}#sk-container-id-4 div.sk-estimator input.sk-toggleable__control:checked~label.sk-toggleable__label {background-color: #d4ebff;}#sk-container-id-4 div.sk-label input.sk-toggleable__control:checked~label.sk-toggleable__label {background-color: #d4ebff;}#sk-container-id-4 input.sk-hidden--visually {border: 0;clip: rect(1px 1px 1px 1px);clip: rect(1px, 1px, 1px, 1px);height: 1px;margin: -1px;overflow: hidden;padding: 0;position: absolute;width: 1px;}#sk-container-id-4 div.sk-estimator {font-family: monospace;background-color: #f0f8ff;border: 1px dotted black;border-radius: 0.25em;box-sizing: border-box;margin-bottom: 0.5em;}#sk-container-id-4 div.sk-estimator:hover {background-color: #d4ebff;}#sk-container-id-4 div.sk-parallel-item::after {content: \"\";width: 100%;border-bottom: 1px solid gray;flex-grow: 1;}#sk-container-id-4 div.sk-label:hover label.sk-toggleable__label {background-color: #d4ebff;}#sk-container-id-4 div.sk-serial::before {content: \"\";position: absolute;border-left: 1px solid gray;box-sizing: border-box;top: 0;bottom: 0;left: 50%;z-index: 0;}#sk-container-id-4 div.sk-serial {display: flex;flex-direction: column;align-items: center;background-color: white;padding-right: 0.2em;padding-left: 0.2em;position: relative;}#sk-container-id-4 div.sk-item {position: relative;z-index: 1;}#sk-container-id-4 div.sk-parallel {display: flex;align-items: stretch;justify-content: center;background-color: white;position: relative;}#sk-container-id-4 div.sk-item::before, #sk-container-id-4 div.sk-parallel-item::before {content: \"\";position: absolute;border-left: 1px solid gray;box-sizing: border-box;top: 0;bottom: 0;left: 50%;z-index: -1;}#sk-container-id-4 div.sk-parallel-item {display: flex;flex-direction: column;z-index: 1;position: relative;background-color: white;}#sk-container-id-4 div.sk-parallel-item:first-child::after {align-self: flex-end;width: 50%;}#sk-container-id-4 div.sk-parallel-item:last-child::after {align-self: flex-start;width: 50%;}#sk-container-id-4 div.sk-parallel-item:only-child::after {width: 0;}#sk-container-id-4 div.sk-dashed-wrapped {border: 1px dashed gray;margin: 0 0.4em 0.5em 0.4em;box-sizing: border-box;padding-bottom: 0.4em;background-color: white;}#sk-container-id-4 div.sk-label label {font-family: monospace;font-weight: bold;display: inline-block;line-height: 1.2em;}#sk-container-id-4 div.sk-label-container {text-align: center;}#sk-container-id-4 div.sk-container {/* jupyter's `normalize.less` sets `[hidden] { display: none; }` but bootstrap.min.css set `[hidden] { display: none !important; }` so we also need the `!important` here to be able to override the default hidden behavior on the sphinx rendered scikit-learn.org. See: https://github.com/scikit-learn/scikit-learn/issues/21755 */display: inline-block !important;position: relative;}#sk-container-id-4 div.sk-text-repr-fallback {display: none;}</style><div id=\"sk-container-id-4\" class=\"sk-top-container\"><div class=\"sk-text-repr-fallback\"><pre>GridSearchCV(cv=5, estimator=KNeighborsClassifier(),\n",
       "             param_grid={&#x27;algorithm&#x27;: [&#x27;ball_tree&#x27;, &#x27;brute&#x27;, &#x27;kd_tree&#x27;],\n",
       "                         &#x27;leaf_size&#x27;: [20, 30, 40, 50],\n",
       "                         &#x27;n_neighbors&#x27;: [3, 5, 6, 7, 10, 12, 15]},\n",
       "             verbose=3)</pre><b>In a Jupyter environment, please rerun this cell to show the HTML representation or trust the notebook. <br />On GitHub, the HTML representation is unable to render, please try loading this page with nbviewer.org.</b></div><div class=\"sk-container\" hidden><div class=\"sk-item sk-dashed-wrapped\"><div class=\"sk-label-container\"><div class=\"sk-label sk-toggleable\"><input class=\"sk-toggleable__control sk-hidden--visually\" id=\"sk-estimator-id-6\" type=\"checkbox\" ><label for=\"sk-estimator-id-6\" class=\"sk-toggleable__label sk-toggleable__label-arrow\">GridSearchCV</label><div class=\"sk-toggleable__content\"><pre>GridSearchCV(cv=5, estimator=KNeighborsClassifier(),\n",
       "             param_grid={&#x27;algorithm&#x27;: [&#x27;ball_tree&#x27;, &#x27;brute&#x27;, &#x27;kd_tree&#x27;],\n",
       "                         &#x27;leaf_size&#x27;: [20, 30, 40, 50],\n",
       "                         &#x27;n_neighbors&#x27;: [3, 5, 6, 7, 10, 12, 15]},\n",
       "             verbose=3)</pre></div></div></div><div class=\"sk-parallel\"><div class=\"sk-parallel-item\"><div class=\"sk-item\"><div class=\"sk-label-container\"><div class=\"sk-label sk-toggleable\"><input class=\"sk-toggleable__control sk-hidden--visually\" id=\"sk-estimator-id-7\" type=\"checkbox\" ><label for=\"sk-estimator-id-7\" class=\"sk-toggleable__label sk-toggleable__label-arrow\">estimator: KNeighborsClassifier</label><div class=\"sk-toggleable__content\"><pre>KNeighborsClassifier()</pre></div></div></div><div class=\"sk-serial\"><div class=\"sk-item\"><div class=\"sk-estimator sk-toggleable\"><input class=\"sk-toggleable__control sk-hidden--visually\" id=\"sk-estimator-id-8\" type=\"checkbox\" ><label for=\"sk-estimator-id-8\" class=\"sk-toggleable__label sk-toggleable__label-arrow\">KNeighborsClassifier</label><div class=\"sk-toggleable__content\"><pre>KNeighborsClassifier()</pre></div></div></div></div></div></div></div></div></div></div>"
      ],
      "text/plain": [
       "GridSearchCV(cv=5, estimator=KNeighborsClassifier(),\n",
       "             param_grid={'algorithm': ['ball_tree', 'brute', 'kd_tree'],\n",
       "                         'leaf_size': [20, 30, 40, 50],\n",
       "                         'n_neighbors': [3, 5, 6, 7, 10, 12, 15]},\n",
       "             verbose=3)"
      ]
     },
     "execution_count": 24,
     "metadata": {},
     "output_type": "execute_result"
    }
   ],
   "source": [
    "grid.fit(x_train,y_train)"
   ]
  },
  {
   "cell_type": "code",
   "execution_count": 25,
   "id": "9bf20d58",
   "metadata": {},
   "outputs": [
    {
     "data": {
      "text/plain": [
       "0.8528571428571429"
      ]
     },
     "execution_count": 25,
     "metadata": {},
     "output_type": "execute_result"
    }
   ],
   "source": [
    "grid.best_score_"
   ]
  },
  {
   "cell_type": "code",
   "execution_count": 26,
   "id": "718c6a3d",
   "metadata": {},
   "outputs": [
    {
     "data": {
      "text/plain": [
       "{'algorithm': 'ball_tree', 'leaf_size': 20, 'n_neighbors': 12}"
      ]
     },
     "execution_count": 26,
     "metadata": {},
     "output_type": "execute_result"
    }
   ],
   "source": [
    "grid.best_params_"
   ]
  },
  {
   "cell_type": "code",
   "execution_count": 27,
   "id": "d1964380",
   "metadata": {},
   "outputs": [],
   "source": [
    "best_model=grid.best_estimator_"
   ]
  },
  {
   "cell_type": "code",
   "execution_count": 28,
   "id": "5552d123",
   "metadata": {},
   "outputs": [
    {
     "data": {
      "text/html": [
       "<style>#sk-container-id-5 {color: black;}#sk-container-id-5 pre{padding: 0;}#sk-container-id-5 div.sk-toggleable {background-color: white;}#sk-container-id-5 label.sk-toggleable__label {cursor: pointer;display: block;width: 100%;margin-bottom: 0;padding: 0.3em;box-sizing: border-box;text-align: center;}#sk-container-id-5 label.sk-toggleable__label-arrow:before {content: \"▸\";float: left;margin-right: 0.25em;color: #696969;}#sk-container-id-5 label.sk-toggleable__label-arrow:hover:before {color: black;}#sk-container-id-5 div.sk-estimator:hover label.sk-toggleable__label-arrow:before {color: black;}#sk-container-id-5 div.sk-toggleable__content {max-height: 0;max-width: 0;overflow: hidden;text-align: left;background-color: #f0f8ff;}#sk-container-id-5 div.sk-toggleable__content pre {margin: 0.2em;color: black;border-radius: 0.25em;background-color: #f0f8ff;}#sk-container-id-5 input.sk-toggleable__control:checked~div.sk-toggleable__content {max-height: 200px;max-width: 100%;overflow: auto;}#sk-container-id-5 input.sk-toggleable__control:checked~label.sk-toggleable__label-arrow:before {content: \"▾\";}#sk-container-id-5 div.sk-estimator input.sk-toggleable__control:checked~label.sk-toggleable__label {background-color: #d4ebff;}#sk-container-id-5 div.sk-label input.sk-toggleable__control:checked~label.sk-toggleable__label {background-color: #d4ebff;}#sk-container-id-5 input.sk-hidden--visually {border: 0;clip: rect(1px 1px 1px 1px);clip: rect(1px, 1px, 1px, 1px);height: 1px;margin: -1px;overflow: hidden;padding: 0;position: absolute;width: 1px;}#sk-container-id-5 div.sk-estimator {font-family: monospace;background-color: #f0f8ff;border: 1px dotted black;border-radius: 0.25em;box-sizing: border-box;margin-bottom: 0.5em;}#sk-container-id-5 div.sk-estimator:hover {background-color: #d4ebff;}#sk-container-id-5 div.sk-parallel-item::after {content: \"\";width: 100%;border-bottom: 1px solid gray;flex-grow: 1;}#sk-container-id-5 div.sk-label:hover label.sk-toggleable__label {background-color: #d4ebff;}#sk-container-id-5 div.sk-serial::before {content: \"\";position: absolute;border-left: 1px solid gray;box-sizing: border-box;top: 0;bottom: 0;left: 50%;z-index: 0;}#sk-container-id-5 div.sk-serial {display: flex;flex-direction: column;align-items: center;background-color: white;padding-right: 0.2em;padding-left: 0.2em;position: relative;}#sk-container-id-5 div.sk-item {position: relative;z-index: 1;}#sk-container-id-5 div.sk-parallel {display: flex;align-items: stretch;justify-content: center;background-color: white;position: relative;}#sk-container-id-5 div.sk-item::before, #sk-container-id-5 div.sk-parallel-item::before {content: \"\";position: absolute;border-left: 1px solid gray;box-sizing: border-box;top: 0;bottom: 0;left: 50%;z-index: -1;}#sk-container-id-5 div.sk-parallel-item {display: flex;flex-direction: column;z-index: 1;position: relative;background-color: white;}#sk-container-id-5 div.sk-parallel-item:first-child::after {align-self: flex-end;width: 50%;}#sk-container-id-5 div.sk-parallel-item:last-child::after {align-self: flex-start;width: 50%;}#sk-container-id-5 div.sk-parallel-item:only-child::after {width: 0;}#sk-container-id-5 div.sk-dashed-wrapped {border: 1px dashed gray;margin: 0 0.4em 0.5em 0.4em;box-sizing: border-box;padding-bottom: 0.4em;background-color: white;}#sk-container-id-5 div.sk-label label {font-family: monospace;font-weight: bold;display: inline-block;line-height: 1.2em;}#sk-container-id-5 div.sk-label-container {text-align: center;}#sk-container-id-5 div.sk-container {/* jupyter's `normalize.less` sets `[hidden] { display: none; }` but bootstrap.min.css set `[hidden] { display: none !important; }` so we also need the `!important` here to be able to override the default hidden behavior on the sphinx rendered scikit-learn.org. See: https://github.com/scikit-learn/scikit-learn/issues/21755 */display: inline-block !important;position: relative;}#sk-container-id-5 div.sk-text-repr-fallback {display: none;}</style><div id=\"sk-container-id-5\" class=\"sk-top-container\"><div class=\"sk-text-repr-fallback\"><pre>KNeighborsClassifier(algorithm=&#x27;ball_tree&#x27;, leaf_size=20, n_neighbors=12)</pre><b>In a Jupyter environment, please rerun this cell to show the HTML representation or trust the notebook. <br />On GitHub, the HTML representation is unable to render, please try loading this page with nbviewer.org.</b></div><div class=\"sk-container\" hidden><div class=\"sk-item\"><div class=\"sk-estimator sk-toggleable\"><input class=\"sk-toggleable__control sk-hidden--visually\" id=\"sk-estimator-id-9\" type=\"checkbox\" checked><label for=\"sk-estimator-id-9\" class=\"sk-toggleable__label sk-toggleable__label-arrow\">KNeighborsClassifier</label><div class=\"sk-toggleable__content\"><pre>KNeighborsClassifier(algorithm=&#x27;ball_tree&#x27;, leaf_size=20, n_neighbors=12)</pre></div></div></div></div></div>"
      ],
      "text/plain": [
       "KNeighborsClassifier(algorithm='ball_tree', leaf_size=20, n_neighbors=12)"
      ]
     },
     "execution_count": 28,
     "metadata": {},
     "output_type": "execute_result"
    }
   ],
   "source": [
    "best_model"
   ]
  },
  {
   "cell_type": "code",
   "execution_count": 29,
   "id": "dfbcac7f",
   "metadata": {},
   "outputs": [],
   "source": [
    "y_pred=best_model.predict(x_test)"
   ]
  },
  {
   "cell_type": "code",
   "execution_count": 30,
   "id": "c48ab200",
   "metadata": {},
   "outputs": [
    {
     "data": {
      "text/plain": [
       "array([0, 0, 1, 1, 0, 1, 1, 1, 0, 1, 1, 1, 0, 1, 0, 0, 1, 1, 1, 0, 1, 1,\n",
       "       0, 0, 0, 0, 1, 1, 0, 0, 0, 1, 1, 0, 1, 0, 1, 1, 1, 0, 1, 1, 1, 0,\n",
       "       1, 1, 1, 0, 0, 1, 1, 0, 1, 0, 1, 1, 1, 1, 1, 1, 0, 1, 1, 1, 1, 1,\n",
       "       0, 1, 0, 0, 0, 0, 0, 1, 1, 0, 0, 1, 1, 1, 0, 0, 1, 0, 1, 1, 1, 1,\n",
       "       1, 1, 1, 0, 1, 0, 0, 0, 1, 1, 0, 1, 1, 0, 0, 0, 0, 0, 1, 0, 1, 1,\n",
       "       0, 1, 0, 1, 0, 1, 0, 1, 1, 1, 1, 1, 0, 0, 0, 0, 1, 0, 0, 0, 1, 0,\n",
       "       1, 1, 1, 1, 0, 0, 1, 0, 1, 0, 1, 1, 1, 0, 0, 1, 1, 0, 1, 1, 0, 0,\n",
       "       1, 1, 0, 1, 1, 0, 0, 1, 0, 1, 1, 0, 0, 0, 1, 1, 0, 1, 0, 0, 0, 1,\n",
       "       1, 0, 1, 0, 1, 0, 1, 1, 1, 0, 0, 1, 0, 1, 0, 0, 0, 1, 0, 1, 0, 0,\n",
       "       0, 1, 0, 1, 0, 0, 0, 0, 1, 0, 0, 0, 0, 0, 1, 0, 0, 1, 1, 1, 1, 0,\n",
       "       1, 0, 0, 1, 0, 1, 1, 1, 1, 0, 1, 1, 1, 0, 1, 1, 0, 1, 0, 1, 0, 0,\n",
       "       1, 0, 0, 0, 0, 0, 0, 1, 0, 1, 1, 1, 0, 0, 1, 0, 0, 1, 1, 0, 0, 1,\n",
       "       0, 1, 1, 0, 0, 1, 0, 1, 0, 1, 0, 0, 0, 0, 0, 0, 1, 1, 1, 0, 0, 1,\n",
       "       0, 1, 1, 1, 1, 0, 0, 1, 0, 0, 1, 0, 0, 1])"
      ]
     },
     "execution_count": 30,
     "metadata": {},
     "output_type": "execute_result"
    }
   ],
   "source": [
    "y_pred"
   ]
  },
  {
   "cell_type": "code",
   "execution_count": 31,
   "id": "aea35a59",
   "metadata": {},
   "outputs": [
    {
     "data": {
      "text/plain": [
       "0.87"
      ]
     },
     "execution_count": 31,
     "metadata": {},
     "output_type": "execute_result"
    }
   ],
   "source": [
    "accuracy_score(y_test, y_pred)"
   ]
  },
  {
   "cell_type": "code",
   "execution_count": 33,
   "id": "c4e22cff",
   "metadata": {
    "scrolled": false
   },
   "outputs": [
    {
     "data": {
      "text/plain": [
       "[[1, 2, nan], [3, 4, 3], [nan, 6, 5], [8, 8, 7]]"
      ]
     },
     "execution_count": 33,
     "metadata": {},
     "output_type": "execute_result"
    }
   ],
   "source": [
    "# knn missing value treatment\n",
    "from sklearn.impute import KNNImputer\n",
    "\n",
    "X = [[1, 2, np.nan], [3, 4, 3], [np.nan, 6, 5], [8, 8, 7]]\n",
    "X"
   ]
  },
  {
   "cell_type": "code",
   "execution_count": 34,
   "id": "6a98dbdc",
   "metadata": {},
   "outputs": [
    {
     "data": {
      "text/plain": [
       "array([[1. , 2. , 4. ],\n",
       "       [3. , 4. , 3. ],\n",
       "       [5.5, 6. , 5. ],\n",
       "       [8. , 8. , 7. ]])"
      ]
     },
     "execution_count": 34,
     "metadata": {},
     "output_type": "execute_result"
    }
   ],
   "source": [
    "imputer= KNNImputer(n_neighbors=2)\n",
    "imputer.fit_transform(X)"
   ]
  },
  {
   "cell_type": "code",
   "execution_count": null,
   "id": "35d058f1",
   "metadata": {},
   "outputs": [],
   "source": []
  }
 ],
 "metadata": {
  "kernelspec": {
   "display_name": "Python 3 (ipykernel)",
   "language": "python",
   "name": "python3"
  },
  "language_info": {
   "codemirror_mode": {
    "name": "ipython",
    "version": 3
   },
   "file_extension": ".py",
   "mimetype": "text/x-python",
   "name": "python",
   "nbconvert_exporter": "python",
   "pygments_lexer": "ipython3",
   "version": "3.11.4"
  }
 },
 "nbformat": 4,
 "nbformat_minor": 5
}
