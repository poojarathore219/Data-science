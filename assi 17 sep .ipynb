{
 "cells": [
  {
   "cell_type": "markdown",
   "id": "2891c51d-98c6-422d-81fe-d281711fa396",
   "metadata": {},
   "source": [
    "## map()"
   ]
  },
  {
   "cell_type": "code",
   "execution_count": 2,
   "id": "e209332b-1a02-4f24-8050-ecbc7a2a2ef4",
   "metadata": {},
   "outputs": [
    {
     "data": {
      "text/plain": [
       "(list, tuple)"
      ]
     },
     "execution_count": 2,
     "metadata": {},
     "output_type": "execute_result"
    }
   ],
   "source": [
    "##purpose of map()-to map each element with particular condition  it work as a itrator to return a result after appling a fun to every item of  an itrable\n",
    "(list,tuple)"
   ]
  },
  {
   "cell_type": "code",
   "execution_count": 3,
   "id": "2893f811-26f9-4672-a6d2-1c0995a105cf",
   "metadata": {},
   "outputs": [],
   "source": [
    "## how it can be used to apply to apply a function to each ele"
   ]
  },
  {
   "cell_type": "code",
   "execution_count": 4,
   "id": "c41c6679-f620-4608-8429-9ea5377a9694",
   "metadata": {},
   "outputs": [],
   "source": [
    "l=[1,2,3,4]\n",
    "def test1(l):\n",
    "    return l+2"
   ]
  },
  {
   "cell_type": "code",
   "execution_count": 5,
   "id": "a1b4cdc8-04c0-4bb3-b830-5beee72ff94b",
   "metadata": {},
   "outputs": [
    {
     "data": {
      "text/plain": [
       "[3, 4, 5, 6]"
      ]
     },
     "execution_count": 5,
     "metadata": {},
     "output_type": "execute_result"
    }
   ],
   "source": [
    "list(map(test1,l))"
   ]
  },
  {
   "cell_type": "code",
   "execution_count": 6,
   "id": "a2de4933-4dc7-408f-9a23-2d22f76ba2df",
   "metadata": {},
   "outputs": [
    {
     "data": {
      "text/plain": [
       "[1, 4, 9, 16]"
      ]
     },
     "execution_count": 6,
     "metadata": {},
     "output_type": "execute_result"
    }
   ],
   "source": [
    "## use map() to square of each element\n",
    "l=[1,2,3,4]\n",
    "list(map(lambda a: a*a,l))"
   ]
  },
  {
   "cell_type": "code",
   "execution_count": 7,
   "id": "93b105d5-7759-444a-81ba-570b49e87905",
   "metadata": {},
   "outputs": [],
   "source": [
    "## how does map() differ from list compre\n",
    "## Ans-l List comprehension written a list but the may function return an object of iterable list configuration execution is faster than that of map function when the formula's expression is used and complex mef function is faster than list comprehension when the formula is already defined as a function earlier"
   ]
  },
  {
   "cell_type": "code",
   "execution_count": 9,
   "id": "10e3cbe2-8746-47d1-9607-5bd7113298ed",
   "metadata": {},
   "outputs": [
    {
     "data": {
      "text/plain": [
       "['MON', 'TUE', 'WED']"
      ]
     },
     "execution_count": 9,
     "metadata": {},
     "output_type": "execute_result"
    }
   ],
   "source": [
    "## using map() covert a list of name tp uppercase\n",
    "l=['mon','tue','wed']\n",
    "list(map(lambda a : a.upper(),l))"
   ]
  },
  {
   "cell_type": "code",
   "execution_count": 10,
   "id": "36494ae0-f063-4c3d-b8f4-8b429d7af8e2",
   "metadata": {},
   "outputs": [
    {
     "data": {
      "text/plain": [
       "[3, 3, 3]"
      ]
     },
     "execution_count": 10,
     "metadata": {},
     "output_type": "execute_result"
    }
   ],
   "source": [
    "## 5. use ,map() to calculate the length of each word\n",
    "l=['mon','tue','wed']\n",
    "list(map(lambda a: len(a),l))"
   ]
  },
  {
   "cell_type": "code",
   "execution_count": 11,
   "id": "c1d91287-0bbd-4ef5-8819-22f69e877820",
   "metadata": {},
   "outputs": [
    {
     "data": {
      "text/plain": [
       "[2, 4, 6]"
      ]
     },
     "execution_count": 11,
     "metadata": {},
     "output_type": "execute_result"
    }
   ],
   "source": [
    "## 6.use map() to apply custom funtion to element of multiple list\n",
    "l=[1,2,3]\n",
    "def mul(a):\n",
    "    return a*2\n",
    "list(map(mul,l))\n",
    "\n",
    "\n"
   ]
  },
  {
   "cell_type": "code",
   "execution_count": 13,
   "id": "0e2c47b0-80f8-4c99-8a08-3915ecb49e31",
   "metadata": {},
   "outputs": [
    {
     "data": {
      "text/plain": [
       "[79.16, 127.03999999999999, 111.56]"
      ]
     },
     "execution_count": 13,
     "metadata": {},
     "output_type": "execute_result"
    }
   ],
   "source": [
    "## 7. use map() to convert a list od element from celsius to fahrenheit\n",
    "celsius=[26.2,52.8,44.2]\n",
    "list(map(lambda a: 9/5*a+32,celsius))"
   ]
  },
  {
   "cell_type": "code",
   "execution_count": 15,
   "id": "3eb61bef-1ed2-4a17-bef1-3908c44411f1",
   "metadata": {},
   "outputs": [
    {
     "data": {
      "text/plain": [
       "[2, 5, 7]"
      ]
     },
     "execution_count": 15,
     "metadata": {},
     "output_type": "execute_result"
    }
   ],
   "source": [
    "## 8. use map() round each element of floting point number to the nearest integer\n",
    "l=[2.4,5.2,6.6]\n",
    "list(map(lambda a:round(a),l))"
   ]
  },
  {
   "cell_type": "markdown",
   "id": "7e99ad45-58e6-42fc-8b28-f506c9e7ae90",
   "metadata": {},
   "source": [
    "## Use reduce()"
   ]
  },
  {
   "cell_type": "code",
   "execution_count": 16,
   "id": "3e87b279-a426-41b4-bea8-a7edd4aba263",
   "metadata": {},
   "outputs": [],
   "source": [
    "##1. the reduce () return asingle value. reduce() is useful when you need to apply a fun to an itrable and reduce it to a single result\n",
    "## for using reduce() we need to import- from functoolimport reduce"
   ]
  },
  {
   "cell_type": "code",
   "execution_count": 2,
   "id": "73e896b6-aafa-46f2-a1b2-933722c647a3",
   "metadata": {},
   "outputs": [
    {
     "data": {
      "text/plain": [
       "720"
      ]
     },
     "execution_count": 2,
     "metadata": {},
     "output_type": "execute_result"
    }
   ],
   "source": [
    "## ex.\n",
    "l=[1,2,3,4,5,6]\n",
    "from functools import reduce\n",
    "reduce(lambda a,b:a*b,l )"
   ]
  },
  {
   "cell_type": "code",
   "execution_count": 3,
   "id": "6609963d-ea8d-4892-b55d-c240e4078ff1",
   "metadata": {},
   "outputs": [
    {
     "data": {
      "text/plain": [
       "6"
      ]
     },
     "execution_count": 3,
     "metadata": {},
     "output_type": "execute_result"
    }
   ],
   "source": [
    "## to find  maximum ele in a list of no.\n",
    "l=[1,2,3,4,5,6]\n",
    "from functools import reduce\n",
    "reduce(max,l)"
   ]
  },
  {
   "cell_type": "code",
   "execution_count": 4,
   "id": "2433d4ca-1c22-458c-acdd-7c8c19d49883",
   "metadata": {},
   "outputs": [
    {
     "data": {
      "text/plain": [
       "'pooja is my name'"
      ]
     },
     "execution_count": 4,
     "metadata": {},
     "output_type": "execute_result"
    }
   ],
   "source": [
    "## to concatenate a list of string ina single string\n",
    "l=['pooja','is','my','name']\n",
    "from functools import reduce\n",
    "reduce(lambda a,b: a+' '+b,l)"
   ]
  },
  {
   "cell_type": "code",
   "execution_count": 19,
   "id": "4b210d33-3795-43cf-85d8-634eaa55d733",
   "metadata": {},
   "outputs": [
    {
     "data": {
      "text/plain": [
       "120"
      ]
     },
     "execution_count": 19,
     "metadata": {},
     "output_type": "execute_result"
    }
   ],
   "source": [
    "## to calculate the factorial of a no using reduce()\n",
    "from functools import reduce\n",
    "n=5\n",
    "reduce(lambda a,b:a*b,range(1,n+1))"
   ]
  },
  {
   "cell_type": "code",
   "execution_count": 25,
   "id": "77e2f68e-2db9-4d94-8050-65230c1c166d",
   "metadata": {},
   "outputs": [],
   "source": [
    "## to find GCD\n",
    "def gcd(a,b):\n",
    "    if a==0:\n",
    "        return b\n",
    "    elif b==0:\n",
    "        return a                          problam\n",
    "    else:\n",
    "        return(a,b%a)\n",
    "from functools import reduce\n",
    "z=reduce(lambda a,b:gcd(a,b),l)"
   ]
  },
  {
   "cell_type": "code",
   "execution_count": 27,
   "id": "fc5c1afd-de7b-446d-9cb6-29619937404a",
   "metadata": {},
   "outputs": [
    {
     "name": "stdout",
     "output_type": "stream",
     "text": [
      "(100, 50)\n"
     ]
    }
   ],
   "source": [
    "print(z)"
   ]
  },
  {
   "cell_type": "code",
   "execution_count": 30,
   "id": "2e38e8bb-756e-4858-839c-87fe32f21e33",
   "metadata": {},
   "outputs": [
    {
     "name": "stdout",
     "output_type": "stream",
     "text": [
      "(100, 50)\n"
     ]
    }
   ],
   "source": [
    "print(z)"
   ]
  },
  {
   "cell_type": "code",
   "execution_count": 32,
   "id": "b867087f-8825-4ed5-abec-2300803261b9",
   "metadata": {},
   "outputs": [
    {
     "data": {
      "text/plain": [
       "10"
      ]
     },
     "execution_count": 32,
     "metadata": {},
     "output_type": "execute_result"
    }
   ],
   "source": [
    "## to find sum \n",
    "l=[1,2,3,4]\n",
    "from functools import reduce\n",
    "reduce(lambda a, b: a+b,l)"
   ]
  },
  {
   "cell_type": "code",
   "execution_count": 36,
   "id": "bb91a3aa-5a46-4dee-893b-c377847319af",
   "metadata": {},
   "outputs": [],
   "source": [
    "l=[1,2,3,4]\n",
    "def sum_num(a,b):\n",
    "    return a+b\n",
    "from functools import reduce\n",
    "y=reduce(sum_num,l)"
   ]
  },
  {
   "cell_type": "code",
   "execution_count": 37,
   "id": "bff14b52-985a-4b55-8b38-952de8481134",
   "metadata": {},
   "outputs": [
    {
     "data": {
      "text/plain": [
       "10"
      ]
     },
     "execution_count": 37,
     "metadata": {},
     "output_type": "execute_result"
    }
   ],
   "source": [
    "y"
   ]
  },
  {
   "cell_type": "markdown",
   "id": "f9cbf9cd-1f13-411a-8910-99143fec8fcc",
   "metadata": {},
   "source": [
    "## use filter()"
   ]
  },
  {
   "cell_type": "code",
   "execution_count": 41,
   "id": "609aeb17-1d95-4dff-aa42-4b108f1643fd",
   "metadata": {},
   "outputs": [],
   "source": [
    "## purpose of filter ()- The filter function is built in function that allow you to process an iterable and extract those items that satisfy a given condition"
   ]
  },
  {
   "cell_type": "code",
   "execution_count": 4,
   "id": "1e0a3d98-a671-41bf-aafe-8e2253d646e6",
   "metadata": {},
   "outputs": [
    {
     "data": {
      "text/plain": [
       "[2, 4, 6, 8]"
      ]
     },
     "execution_count": 4,
     "metadata": {},
     "output_type": "execute_result"
    }
   ],
   "source": [
    "## Write a program  using the filter function to select even number form a list\n",
    "l=[1,2,3,4,5,6,7,8]\n",
    "list(filter(lambda a: a%2==0,l))"
   ]
  },
  {
   "cell_type": "code",
   "execution_count": 17,
   "id": "a21b94d4-44d5-42e9-9cce-b2848babc7df",
   "metadata": {},
   "outputs": [
    {
     "data": {
      "text/plain": [
       "['pooja', 'priya']"
      ]
     },
     "execution_count": 17,
     "metadata": {},
     "output_type": "execute_result"
    }
   ],
   "source": [
    "## use filter() to select names that start with specific letter from  a list\n",
    "l=['pooja','priya','ram','gaurav']\n",
    "list(filter(lambda a: a.startswith('p'),l))"
   ]
  },
  {
   "cell_type": "code",
   "execution_count": 38,
   "id": "17402299-bcc5-498d-b45f-399ae2afa914",
   "metadata": {},
   "outputs": [
    {
     "data": {
      "text/plain": [
       "[1, 3, 5, 7]"
      ]
     },
     "execution_count": 38,
     "metadata": {},
     "output_type": "execute_result"
    }
   ],
   "source": [
    "### use filtr() to select prime no\n",
    "l=[1,2,3,4,5,6,7,8]\n",
    "def prime(a):\n",
    "    return a%2!=0\n",
    "list(filter(prime,l))"
   ]
  },
  {
   "cell_type": "code",
   "execution_count": 77,
   "id": "fdc23f04-7817-4ef6-bc66-0d42ff429f14",
   "metadata": {},
   "outputs": [
    {
     "data": {
      "text/plain": [
       "[2, 3, 4]"
      ]
     },
     "execution_count": 77,
     "metadata": {},
     "output_type": "execute_result"
    }
   ],
   "source": [
    "## using filter() removing nan value\n",
    "l=[None,2,3,4,None]\n",
    "\n",
    "list(filter(lambda a: a is not None ,l))"
   ]
  },
  {
   "cell_type": "code",
   "execution_count": 79,
   "id": "3835cbd5-314c-4373-92f0-0abee188a5bd",
   "metadata": {},
   "outputs": [
    {
     "data": {
      "text/plain": [
       "['pooja', 'priya', 'gaurav']"
      ]
     },
     "execution_count": 79,
     "metadata": {},
     "output_type": "execute_result"
    }
   ],
   "source": [
    "## use filter() select words longer than length of list\n",
    "l=['pooja','priya','ram','gaurav']\n",
    "list(filter(lambda a: len(a)>len(l),l))"
   ]
  },
  {
   "cell_type": "code",
   "execution_count": 81,
   "id": "193093aa-6ac4-41f4-9e48-7d5107c507c2",
   "metadata": {},
   "outputs": [
    {
     "data": {
      "text/plain": [
       "['pooja', 'priya', 'gaurav', 'jiyo']"
      ]
     },
     "execution_count": 81,
     "metadata": {},
     "output_type": "execute_result"
    }
   ],
   "source": [
    "## To select elements then specify threshold from list of values using filter function\n",
    "l=['pooja','priya','ram','gaurav','jiyo']\n",
    "thres=3\n",
    "list(filter(lambda a: len(a)>thres,l))"
   ]
  },
  {
   "cell_type": "markdown",
   "id": "e5da4e94-d832-4b08-948f-daef0cd720e7",
   "metadata": {},
   "source": [
    "## use recursiv call"
   ]
  },
  {
   "cell_type": "code",
   "execution_count": 83,
   "id": "98ad2325-6fae-460a-b671-e85e8c4fb1c0",
   "metadata": {},
   "outputs": [],
   "source": [
    "## explain the concept of recursion in python how does it different from iteration\n",
    "## ans-- Pain of function call itself again and again within its code That means repeatedly executing the instruction present inside a code\n",
    "##When a loop repeatedly executes the set of instructions like Ford Loop and by loop it's called iteration\n"
   ]
  },
  {
   "cell_type": "code",
   "execution_count": 84,
   "id": "3ceccca9-891a-40bc-98b3-f552c5626b07",
   "metadata": {},
   "outputs": [],
   "source": [
    "## using recursion function right program to calculate the factorial of a number\n",
    "def fact(n):\n",
    "    if n<=1:\n",
    "        return 1\n",
    "    else:\n",
    "        return n* fact(n-1)"
   ]
  },
  {
   "cell_type": "code",
   "execution_count": 85,
   "id": "721f9323-4d21-4951-a9eb-1c62621e8837",
   "metadata": {},
   "outputs": [
    {
     "data": {
      "text/plain": [
       "24"
      ]
     },
     "execution_count": 85,
     "metadata": {},
     "output_type": "execute_result"
    }
   ],
   "source": [
    "fact(4)"
   ]
  },
  {
   "cell_type": "code",
   "execution_count": 91,
   "id": "fb94c7b3-35c1-4054-ab37-1c2e565f8c98",
   "metadata": {},
   "outputs": [],
   "source": [
    "## using recursion call creator python program to find the nth fibonacci number\n",
    "def fib(n):\n",
    "    if n<=1:\n",
    "        return n\n",
    "    else:\n",
    "        return fib(n-2)+fib(n-1)"
   ]
  },
  {
   "cell_type": "code",
   "execution_count": 92,
   "id": "3f7ea452-84eb-494e-a5c8-c6ea0070236a",
   "metadata": {},
   "outputs": [
    {
     "data": {
      "text/plain": [
       "3"
      ]
     },
     "execution_count": 92,
     "metadata": {},
     "output_type": "execute_result"
    }
   ],
   "source": [
    "fib(4)"
   ]
  },
  {
   "cell_type": "code",
   "execution_count": 122,
   "id": "c171559a-6c25-4d85-81b5-a5c1895b5fad",
   "metadata": {},
   "outputs": [],
   "source": [
    "## using recursion function to calculate the sum of all element in a list\n",
    "l=[1,2,3,4]\n",
    "def sum_list(l):\n",
    "        if len(l)==1:\n",
    "            return l[0]\n",
    "        else:\n",
    "            return l[0]+sum_list(l[1:])"
   ]
  },
  {
   "cell_type": "code",
   "execution_count": 123,
   "id": "83ea110c-dbcd-4b6f-a9c3-1327f97ad97c",
   "metadata": {},
   "outputs": [
    {
     "data": {
      "text/plain": [
       "10"
      ]
     },
     "execution_count": 123,
     "metadata": {},
     "output_type": "execute_result"
    }
   ],
   "source": [
    "sum_list(l)"
   ]
  },
  {
   "cell_type": "code",
   "execution_count": 124,
   "id": "0804ee19-f70a-4025-a655-f7684940a128",
   "metadata": {},
   "outputs": [],
   "source": [
    "## How can you prevent a recursion function from running indefinitely causing a stake overflow error\n",
    "### ans---1) Implement the best condition that's b....n function will not call itself again\n",
    "## 2) you can try using an iterative  approach to solve the problem"
   ]
  },
  {
   "cell_type": "code",
   "execution_count": 140,
   "id": "0b3ca450-f324-4863-9a6f-295d68c51201",
   "metadata": {},
   "outputs": [],
   "source": [
    "## Two rivers are history using recursive call\n",
    "s=\"pwskills\"\n",
    "def rev_str(s):\n",
    "    if s==\"\":\n",
    "        return ''\n",
    "    else:\n",
    "        return rev_str(s[1:])+s[0]"
   ]
  },
  {
   "cell_type": "code",
   "execution_count": 141,
   "id": "ccceaaa3-3de8-4ca2-8c31-73e275a417c5",
   "metadata": {},
   "outputs": [
    {
     "data": {
      "text/plain": [
       "'sllikswp'"
      ]
     },
     "execution_count": 141,
     "metadata": {},
     "output_type": "execute_result"
    }
   ],
   "source": [
    "rev_str(s)"
   ]
  },
  {
   "cell_type": "code",
   "execution_count": 15,
   "id": "f92ac763-b068-46fc-bacc-70b65b2aea8c",
   "metadata": {},
   "outputs": [],
   "source": [
    "## how to calculate the power of number using recursive call\n",
    "def power(x,n):\n",
    "    if n<1:\n",
    "        return 1\n",
    "    else:\n",
    "        return x * power(x,n-1)"
   ]
  },
  {
   "cell_type": "code",
   "execution_count": 16,
   "id": "97bd40b4-178b-4f00-a1a0-d68b6b19da10",
   "metadata": {},
   "outputs": [
    {
     "data": {
      "text/plain": [
       "16"
      ]
     },
     "execution_count": 16,
     "metadata": {},
     "output_type": "execute_result"
    }
   ],
   "source": [
    "power(2,4)"
   ]
  },
  {
   "cell_type": "code",
   "execution_count": null,
   "id": "7529bb04-4024-4c6a-976a-6c5b30adb148",
   "metadata": {},
   "outputs": [],
   "source": [
    "## to check if a string is a palindrome"
   ]
  },
  {
   "cell_type": "code",
   "execution_count": 6,
   "id": "c11fd1b9-39ce-4bc4-a223-5ca87ff977aa",
   "metadata": {},
   "outputs": [],
   "source": [
    "def palin(s):\n",
    "    if len(s)<1:\n",
    "        return  True\n",
    "    elif s[0]==s[-1]:\n",
    "        return palin(s[1:-1])\n",
    "    else:\n",
    "        return False\n",
    "    "
   ]
  },
  {
   "cell_type": "code",
   "execution_count": 8,
   "id": "35325e79-089b-4659-bfc2-7a7d4783c45d",
   "metadata": {},
   "outputs": [
    {
     "data": {
      "text/plain": [
       "False"
      ]
     },
     "execution_count": 8,
     "metadata": {},
     "output_type": "execute_result"
    }
   ],
   "source": [
    "palin('pwskills')"
   ]
  },
  {
   "cell_type": "code",
   "execution_count": 9,
   "id": "0d4be69d-bb02-4aef-8d10-dceda30d02dc",
   "metadata": {},
   "outputs": [
    {
     "data": {
      "text/plain": [
       "True"
      ]
     },
     "execution_count": 9,
     "metadata": {},
     "output_type": "execute_result"
    }
   ],
   "source": [
    "palin(\"rar\")"
   ]
  },
  {
   "cell_type": "code",
   "execution_count": 50,
   "id": "f8421d10-678c-4f9e-8d68-281951c4dcf0",
   "metadata": {},
   "outputs": [],
   "source": [
    "## to genrate all possible combination of a list of element\n",
    "def all_comb(l):\n",
    "    if len(l)==1:\n",
    "        return l[0]\n",
    "    else:\n",
    "        l2=[[]]\n",
    "        for i in l:\n",
    "            for c in l2:\n",
    "                    l2=l2+[c+[i]]\n",
    "    return l2\n",
    "        \n",
    "        \n",
    "    \n",
    "    "
   ]
  },
  {
   "cell_type": "code",
   "execution_count": 53,
   "id": "259b6dc4-cd92-48b3-8a43-89567124ffaa",
   "metadata": {},
   "outputs": [
    {
     "name": "stdout",
     "output_type": "stream",
     "text": [
      "[[1, 2, 3], [1, 3, 2], [2, 1, 3], [2, 3, 1], [3, 1, 2], [3, 2, 1]]\n"
     ]
    }
   ],
   "source": [
    "def all_comb(lst):\n",
    "    # Step 1: Define a recursive function named all_comb that takes a list lst as input.\n",
    "    \n",
    "    if len(lst) == 1:\n",
    "        # Step 2: Check if the length of the input list lst is 1 (base case).\n",
    "        \n",
    "        return [lst]\n",
    "        # Step 3: If lst contains only one element, return a list containing lst as the only combination.\n",
    "        \n",
    "    else:\n",
    "        # Step 4: If the length of lst is greater than 1 (recursive case), proceed to generate combinations.\n",
    "        \n",
    "        combinations = []  # Initialize an empty list to store combinations.\n",
    "        \n",
    "        for i in lst:\n",
    "            # Step 5: Iterate through each element i in the input list lst.\n",
    "            \n",
    "            remaining_elements = [x for x in lst if x != i]\n",
    "            # Step 6: Create a new list remaining_elements that contains all elements from lst except i.\n",
    "            \n",
    "            for c in all_comb(remaining_elements):\n",
    "                # Step 7: Recursively call the all_comb function on remaining_elements to generate combinations.\n",
    "                \n",
    "                combinations.append([i] + c)\n",
    "                # Step 8: For each combination c generated in the recursive call, \n",
    "                # append i to the beginning of c to form a new combination, \n",
    "                # and add this new combination to the combinations list.\n",
    "                \n",
    "        return combinations\n",
    "        # Step 9: Return the combinations list, which contains all possible combinations of elements from the input list.\n",
    "\n",
    "# Example usage:\n",
    "my_list = [1, 2, 3]\n",
    "combinations = all_comb(my_list)\n",
    "print(combinations)\n",
    "# Step 10: Example usage of the all_comb function to generate combinations for the list [1, 2, 3]."
   ]
  },
  {
   "cell_type": "code",
   "execution_count": 51,
   "id": "36613c94-ddd0-410d-8f07-2a4a9ebf7bed",
   "metadata": {},
   "outputs": [
    {
     "data": {
      "text/plain": [
       "[[], [1], [2], [1, 2], [3], [1, 3], [2, 3], [1, 2, 3]]"
      ]
     },
     "execution_count": 51,
     "metadata": {},
     "output_type": "execute_result"
    }
   ],
   "source": [
    "all_comb([1,2,3])"
   ]
  },
  {
   "cell_type": "code",
   "execution_count": 42,
   "id": "09e1c1a5-2072-444a-ba51-15f2de27cfef",
   "metadata": {},
   "outputs": [
    {
     "data": {
      "text/plain": [
       "False"
      ]
     },
     "execution_count": 42,
     "metadata": {},
     "output_type": "execute_result"
    }
   ],
   "source": [
    "all_comb([1,2,3])"
   ]
  },
  {
   "cell_type": "code",
   "execution_count": 32,
   "id": "6cb2426d-754b-43ea-b096-9b38204e6413",
   "metadata": {},
   "outputs": [
    {
     "data": {
      "text/plain": [
       "[1, 2, 3]"
      ]
     },
     "execution_count": 32,
     "metadata": {},
     "output_type": "execute_result"
    }
   ],
   "source": [
    "l=[1,2,3,4]\n",
    "l[:-1]"
   ]
  },
  {
   "cell_type": "markdown",
   "id": "b9c884e2-1bb7-4345-8283-5090eec708bf",
   "metadata": {},
   "source": [
    "## basics of function"
   ]
  },
  {
   "cell_type": "code",
   "execution_count": 54,
   "id": "527b891e-35e9-4d87-8184-3d578f21977c",
   "metadata": {},
   "outputs": [],
   "source": [
    "## What is the function in python and what is the used it\n",
    "## Function is a piece of code returned to carry out a specific task it is also a set of instruction that you want to use repeatedly\n",
    "## use--- Function data equation are applied to find the exact value of the output waze on the input"
   ]
  },
  {
   "cell_type": "code",
   "execution_count": 55,
   "id": "332bf6ae-6f09-4f4b-98ef-8f094c462e3a",
   "metadata": {},
   "outputs": [],
   "source": [
    "## How do you define a function in python example\n",
    "def fun_name():\n",
    "    ## call to fun \n",
    "    fun_name()\n",
    "    ## example \n",
    "    def add_no():\n",
    "        return a+b"
   ]
  },
  {
   "cell_type": "code",
   "execution_count": 56,
   "id": "6f741c07-c3bc-4421-a2cc-574568006d86",
   "metadata": {},
   "outputs": [],
   "source": [
    "## Explain difference between function definition and function call\n",
    "## ANS- function is a block of code or line of code which is written to implement a logic and return the result it may or may not accept the parameters function call is that line of code where we call the function by passing the parameter if required"
   ]
  },
  {
   "cell_type": "code",
   "execution_count": 57,
   "id": "21a1dd59-d7bb-4b43-803b-6508b8c295f7",
   "metadata": {},
   "outputs": [],
   "source": [
    "## define a function to calculate the sum of a numbers and then call the functions\n",
    "def add_no(a,b):\n",
    "    return a+b"
   ]
  },
  {
   "cell_type": "code",
   "execution_count": 58,
   "id": "7d59efd1-5d17-44de-9421-1c2a2e7cd497",
   "metadata": {},
   "outputs": [
    {
     "data": {
      "text/plain": [
       "6"
      ]
     },
     "execution_count": 58,
     "metadata": {},
     "output_type": "execute_result"
    }
   ],
   "source": [
    "add_no(2,4)"
   ]
  },
  {
   "cell_type": "code",
   "execution_count": 59,
   "id": "26aae5c5-9105-4fc1-a6b6-c4f73ddead73",
   "metadata": {},
   "outputs": [],
   "source": [
    "## what is function signature and what information does it typically include\n",
    "## ANS- the function signature consists of the function prototype it specifies the general information about a function like the name, scope ,parameter"
   ]
  },
  {
   "cell_type": "code",
   "execution_count": 60,
   "id": "53778390-1caa-4b3e-bed7-32344c471bee",
   "metadata": {},
   "outputs": [],
   "source": [
    "## Create python function dead tech two arguments in return their product\n",
    "def mul(a,b):\n",
    "    return a*b"
   ]
  },
  {
   "cell_type": "code",
   "execution_count": 61,
   "id": "8d78554a-fea1-4039-be9a-d3315ab5c85f",
   "metadata": {},
   "outputs": [
    {
     "data": {
      "text/plain": [
       "20"
      ]
     },
     "execution_count": 61,
     "metadata": {},
     "output_type": "execute_result"
    }
   ],
   "source": [
    "mul(4,5)"
   ]
  },
  {
   "cell_type": "markdown",
   "id": "30450472-6690-4026-a3de-bafea00ae8c1",
   "metadata": {},
   "source": [
    "## function parameters and arguments"
   ]
  },
  {
   "cell_type": "code",
   "execution_count": 62,
   "id": "61de7a41-5c75-41f6-a1cb-e1a91b00e3f3",
   "metadata": {},
   "outputs": [],
   "source": [
    "##1) Formal parameters and actual parameters-\n",
    "## ANS- The parameters used in the function call are called actual parameters whereas the parameters used in the header of the function definition are called formal parameters"
   ]
  },
  {
   "cell_type": "code",
   "execution_count": 67,
   "id": "3793b8fb-2273-4758-99b2-1af3c16a76f5",
   "metadata": {},
   "outputs": [],
   "source": [
    "## Define a positional argument and default argument in function\n",
    "## Positional argument---\n",
    "def add(a,b):\n",
    "    return a+b"
   ]
  },
  {
   "cell_type": "code",
   "execution_count": 76,
   "id": "bc8a9390-fd5d-41bb-af24-50f21dc1d803",
   "metadata": {},
   "outputs": [
    {
     "data": {
      "text/plain": [
       "1023"
      ]
     },
     "execution_count": 76,
     "metadata": {},
     "output_type": "execute_result"
    }
   ],
   "source": [
    "add(345,678)"
   ]
  },
  {
   "cell_type": "code",
   "execution_count": 69,
   "id": "761167f1-46dd-486f-8050-130ce32ed181",
   "metadata": {},
   "outputs": [],
   "source": [
    "## default argument\n",
    "def add(a=2,b=3):\n",
    "    return a+b"
   ]
  },
  {
   "cell_type": "code",
   "execution_count": 70,
   "id": "c8189958-69f7-4dae-aa9b-1ecd2ce2a778",
   "metadata": {},
   "outputs": [
    {
     "data": {
      "text/plain": [
       "5"
      ]
     },
     "execution_count": 70,
     "metadata": {},
     "output_type": "execute_result"
    }
   ],
   "source": [
    "add()"
   ]
  },
  {
   "cell_type": "code",
   "execution_count": 74,
   "id": "8c355d28-c57c-4285-94eb-6b2f58148266",
   "metadata": {},
   "outputs": [],
   "source": [
    "## how do you use keyboard argument in python function call example\n",
    "def info(first_name,last_name):\n",
    "    print(first_name)\n",
    "    print(last_name)"
   ]
  },
  {
   "cell_type": "code",
   "execution_count": 75,
   "id": "fce733cc-eb0a-4097-be7a-b6c9f25a294d",
   "metadata": {},
   "outputs": [
    {
     "name": "stdout",
     "output_type": "stream",
     "text": [
      "pooja\n",
      "rathore\n"
     ]
    }
   ],
   "source": [
    "info(first_name='pooja',last_name='rathore')"
   ]
  },
  {
   "cell_type": "code",
   "execution_count": 80,
   "id": "020295f3-f568-4622-992f-e83d83b639cc",
   "metadata": {},
   "outputs": [],
   "source": [
    "## create a python function that accepts a variable number of arguments and calculate their sum\n",
    "def sum_no(*a):\n",
    "    for i in a:\n",
    "        return sum(a)\n"
   ]
  },
  {
   "cell_type": "code",
   "execution_count": 81,
   "id": "569541d3-ff6c-4280-88d2-1cd9b28312fc",
   "metadata": {},
   "outputs": [
    {
     "data": {
      "text/plain": [
       "15"
      ]
     },
     "execution_count": 81,
     "metadata": {},
     "output_type": "execute_result"
    }
   ],
   "source": [
    "sum_no(1,2,3,4,5)"
   ]
  },
  {
   "cell_type": "code",
   "execution_count": 82,
   "id": "8cccaa9f-7b33-4270-955a-be6767d59910",
   "metadata": {},
   "outputs": [],
   "source": [
    "## purpose of *arg and **kwarge syntax \n",
    "## * arge--- for take no of inputs we use * arg\n",
    "## ** kwarge ---for take on of inputes in key,values pair .we will use ** kwarge\n"
   ]
  },
  {
   "cell_type": "code",
   "execution_count": 31,
   "id": "5e262c46-4aa9-4130-8e92-f1430c515cb3",
   "metadata": {},
   "outputs": [],
   "source": [
    " \n",
    "def intro(** data):\n",
    "    for key,value in data.items():\n",
    "            print(key,value)\n",
    "           "
   ]
  },
  {
   "cell_type": "markdown",
   "id": "61bb88a8-cd1b-42af-bb24-37ed6442064e",
   "metadata": {},
   "source": [
    "## Return values and Scopes\n"
   ]
  },
  {
   "cell_type": "code",
   "execution_count": 35,
   "id": "0af0f8ba-21db-4e7c-bf1e-a3309c9f80f0",
   "metadata": {},
   "outputs": [],
   "source": [
    "## Describe the role of return statement and example\n",
    "## The return statement is used to end the execution of the function call and return the result"
   ]
  },
  {
   "cell_type": "code",
   "execution_count": 36,
   "id": "d1d4d294-3b52-4b02-ac34-9c5f5ebe82ad",
   "metadata": {},
   "outputs": [],
   "source": [
    "## Concept of local variable and global variable\n",
    "## local variable-- we cant access it outside the function\n",
    "def add():\n",
    "    x=20\n",
    "    y=30\n",
    "    print(x+y)"
   ]
  },
  {
   "cell_type": "code",
   "execution_count": 37,
   "id": "5425e078-365f-4876-8373-9fa78656059a",
   "metadata": {},
   "outputs": [
    {
     "name": "stdout",
     "output_type": "stream",
     "text": [
      "50\n"
     ]
    }
   ],
   "source": [
    "add()"
   ]
  },
  {
   "cell_type": "code",
   "execution_count": 38,
   "id": "7b7108c9-ce11-43c2-b0a4-86c372da9c6c",
   "metadata": {},
   "outputs": [],
   "source": [
    "## globle variable-- If any variables created outside the function and used anywhere in program it is called global variable\n",
    "x=20\n",
    "def add():\n",
    "    y=50\n",
    "    print(x)\n",
    "    print(y)"
   ]
  },
  {
   "cell_type": "code",
   "execution_count": 39,
   "id": "6b4081f3-7ed5-4f57-99aa-f01a2f598f5d",
   "metadata": {},
   "outputs": [
    {
     "name": "stdout",
     "output_type": "stream",
     "text": [
      "20\n",
      "50\n"
     ]
    }
   ],
   "source": [
    "add()"
   ]
  },
  {
   "cell_type": "code",
   "execution_count": 42,
   "id": "3c63e9bc-6d0c-4fda-8d3b-ac74fb438b9e",
   "metadata": {},
   "outputs": [],
   "source": [
    "## Program that calculates the factorial of a number and return it\n",
    "def fact(n):\n",
    "    if n<=1:\n",
    "        return 1\n",
    "    else:\n",
    "        return  n*fact(n-1)"
   ]
  },
  {
   "cell_type": "code",
   "execution_count": 43,
   "id": "6624a182-0299-44c3-b2c3-d9a1d159174b",
   "metadata": {},
   "outputs": [
    {
     "data": {
      "text/plain": [
       "24"
      ]
     },
     "execution_count": 43,
     "metadata": {},
     "output_type": "execute_result"
    }
   ],
   "source": [
    "fact(4)"
   ]
  },
  {
   "cell_type": "code",
   "execution_count": 45,
   "id": "3727f3a4-9d21-41e2-b5f9-c9b416ca88d0",
   "metadata": {},
   "outputs": [],
   "source": [
    "## how can you access variable defined outside a function from within the function\n",
    "x=20\n",
    "def add():\n",
    "    y=50\n",
    "    print(x)\n",
    "    print(y)"
   ]
  },
  {
   "cell_type": "code",
   "execution_count": null,
   "id": "dcb4f77b-5c84-4ffc-ad9a-b1c0feac4503",
   "metadata": {},
   "outputs": [],
   "source": [
    "add()"
   ]
  },
  {
   "cell_type": "code",
   "execution_count": null,
   "id": "df2155e8-b326-4b5f-b05b-78f8c0c3432b",
   "metadata": {},
   "outputs": [],
   "source": []
  }
 ],
 "metadata": {
  "kernelspec": {
   "display_name": "Python 3 (ipykernel)",
   "language": "python",
   "name": "python3"
  },
  "language_info": {
   "codemirror_mode": {
    "name": "ipython",
    "version": 3
   },
   "file_extension": ".py",
   "mimetype": "text/x-python",
   "name": "python",
   "nbconvert_exporter": "python",
   "pygments_lexer": "ipython3",
   "version": "3.10.8"
  }
 },
 "nbformat": 4,
 "nbformat_minor": 5
}
