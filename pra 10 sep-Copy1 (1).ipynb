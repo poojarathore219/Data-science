{
 "cells": [
  {
   "cell_type": "markdown",
   "id": "10aadb3b",
   "metadata": {},
   "source": [
    "17.Accept a string as input. Your task is to determine if the input string is a valid password or not. For a \n",
    "string to be a valid password, it must satisfy all the conditions given below:\n",
    "(1) It should have at least 8 and at most 32 characters\n",
    "(2) It should start with an uppercase or lowercase letter\n",
    "(3) It should not have any of these characters: / \\ = ' \"\n",
    "(4) It should not have spaces\n",
    "It could have any character that is not mentioned in the list of characters to be avoided (points 3 and \n",
    "4). Output True if the string forms a valid password and False otherwise"
   ]
  },
  {
   "cell_type": "code",
   "execution_count": 2,
   "id": "d951d41b",
   "metadata": {},
   "outputs": [],
   "source": [
    "def validpassword(pwd:str):\n",
    "    if 8<=len(pwd)<=32 and pwd[0].isalpha and all(i not in pwd for i in [\" \",\"'\",\"/\",\"=\",'\"',\"\\\\\"]):\n",
    "        return True\n",
    "    else:\n",
    "        return False\n",
    "\n"
   ]
  },
  {
   "cell_type": "code",
   "execution_count": 4,
   "id": "01478455",
   "metadata": {},
   "outputs": [
    {
     "data": {
      "text/plain": [
       "True"
      ]
     },
     "execution_count": 4,
     "metadata": {},
     "output_type": "execute_result"
    }
   ],
   "source": [
    "validpassword(\"pdnmvjljdfj\")"
   ]
  },
  {
   "cell_type": "code",
   "execution_count": 5,
   "id": "46ab33c1",
   "metadata": {},
   "outputs": [],
   "source": [
    "##  local variable\n",
    "def greet():\n",
    "    message=\"Hello\"\n",
    "    print(\"local\",message)"
   ]
  },
  {
   "cell_type": "code",
   "execution_count": 6,
   "id": "42dab587",
   "metadata": {},
   "outputs": [
    {
     "name": "stdout",
     "output_type": "stream",
     "text": [
      "local Hello\n"
     ]
    }
   ],
   "source": [
    "greet()"
   ]
  },
  {
   "cell_type": "code",
   "execution_count": 9,
   "id": "c64d71a9",
   "metadata": {},
   "outputs": [
    {
     "ename": "NameError",
     "evalue": "name 'message' is not defined",
     "output_type": "error",
     "traceback": [
      "\u001b[1;31m---------------------------------------------------------------------------\u001b[0m",
      "\u001b[1;31mNameError\u001b[0m                                 Traceback (most recent call last)",
      "Cell \u001b[1;32mIn[9], line 5\u001b[0m\n\u001b[0;32m      2\u001b[0m     message\u001b[38;5;241m=\u001b[39m\u001b[38;5;124m\"\u001b[39m\u001b[38;5;124mHello\u001b[39m\u001b[38;5;124m\"\u001b[39m\n\u001b[0;32m      3\u001b[0m     \u001b[38;5;28mprint\u001b[39m(\u001b[38;5;124m\"\u001b[39m\u001b[38;5;124mlocal\u001b[39m\u001b[38;5;124m\"\u001b[39m,message)\n\u001b[1;32m----> 5\u001b[0m \u001b[38;5;28mprint\u001b[39m(message)\n",
      "\u001b[1;31mNameError\u001b[0m: name 'message' is not defined"
     ]
    }
   ],
   "source": [
    "def greet():\n",
    "    message=\"Hello\"\n",
    "    print(\"local\",message)\n",
    "    \n",
    "print(message)"
   ]
  },
  {
   "cell_type": "code",
   "execution_count": 10,
   "id": "ff77fc6d",
   "metadata": {},
   "outputs": [
    {
     "name": "stdout",
     "output_type": "stream",
     "text": [
      "local Hello\n"
     ]
    }
   ],
   "source": [
    "greet()"
   ]
  },
  {
   "cell_type": "code",
   "execution_count": 13,
   "id": "0bb1b73f",
   "metadata": {},
   "outputs": [
    {
     "ename": "NameError",
     "evalue": "name 'x' is not defined",
     "output_type": "error",
     "traceback": [
      "\u001b[1;31m---------------------------------------------------------------------------\u001b[0m",
      "\u001b[1;31mNameError\u001b[0m                                 Traceback (most recent call last)",
      "Cell \u001b[1;32mIn[13], line 5\u001b[0m\n\u001b[0;32m      3\u001b[0m     y\u001b[38;5;241m=\u001b[39m\u001b[38;5;241m20\u001b[39m\n\u001b[0;32m      4\u001b[0m     \u001b[38;5;28mprint\u001b[39m(x\u001b[38;5;241m+\u001b[39my)\n\u001b[1;32m----> 5\u001b[0m \u001b[38;5;28mprint\u001b[39m(x)\n\u001b[0;32m      6\u001b[0m \u001b[38;5;28mprint\u001b[39m(y)\n",
      "\u001b[1;31mNameError\u001b[0m: name 'x' is not defined"
     ]
    }
   ],
   "source": [
    "def add():\n",
    "    x=10\n",
    "    y=20\n",
    "    print(x+y)\n",
    "print(x)## because x,y is local\n",
    "print(y)"
   ]
  },
  {
   "cell_type": "code",
   "execution_count": 14,
   "id": "c00af5ab",
   "metadata": {},
   "outputs": [
    {
     "name": "stdout",
     "output_type": "stream",
     "text": [
      "30\n"
     ]
    }
   ],
   "source": [
    "add()"
   ]
  },
  {
   "cell_type": "code",
   "execution_count": 30,
   "id": "b8aed28a",
   "metadata": {},
   "outputs": [
    {
     "name": "stdout",
     "output_type": "stream",
     "text": [
      "python isfantastic\n",
      "good\n"
     ]
    }
   ],
   "source": [
    "x=\"good\"\n",
    "## global variable\n",
    "\n",
    "def myfun():\n",
    "    x=\"fantastic\"\n",
    "    ## local scop\n",
    "    print(\"python is\"+x)\n",
    "    \n",
    "    \n",
    "\n",
    "myfun()\n",
    "print(x)\n",
    "    "
   ]
  },
  {
   "cell_type": "code",
   "execution_count": 35,
   "id": "68d9b85e",
   "metadata": {},
   "outputs": [],
   "source": [
    "x=20\n",
    "def add():\n",
    "    y=30\n",
    "    print(\"local variable y=\",y)\n",
    "    print(\"globle variable x=\",x)\n",
    "    z=x+y\n",
    "    print(z)\n",
    "    "
   ]
  },
  {
   "cell_type": "code",
   "execution_count": 36,
   "id": "b8e95c64",
   "metadata": {},
   "outputs": [
    {
     "name": "stdout",
     "output_type": "stream",
     "text": [
      "local variable y= 30\n",
      "globle variable x= 20\n",
      "50\n"
     ]
    }
   ],
   "source": [
    "add()"
   ]
  },
  {
   "cell_type": "markdown",
   "id": "08fba8a1",
   "metadata": {},
   "source": [
    "## python function aeguments\n"
   ]
  },
  {
   "cell_type": "markdown",
   "id": "158fe35b",
   "metadata": {},
   "source": [
    "## 1.positional Argument"
   ]
  },
  {
   "cell_type": "code",
   "execution_count": 37,
   "id": "4b0a4c67",
   "metadata": {},
   "outputs": [],
   "source": [
    "def add(a,b):\n",
    "    sum=a+b\n",
    "    print(\"sum\",sum)\n"
   ]
  },
  {
   "cell_type": "code",
   "execution_count": 38,
   "id": "8969f514",
   "metadata": {},
   "outputs": [
    {
     "name": "stdout",
     "output_type": "stream",
     "text": [
      "sum 7\n"
     ]
    }
   ],
   "source": [
    "add(2,5)"
   ]
  },
  {
   "cell_type": "code",
   "execution_count": 39,
   "id": "b608249c",
   "metadata": {},
   "outputs": [],
   "source": [
    "def emp_name(name):\n",
    "    print(\"my name is\",name)"
   ]
  },
  {
   "cell_type": "code",
   "execution_count": 40,
   "id": "d1423f6d",
   "metadata": {},
   "outputs": [
    {
     "name": "stdout",
     "output_type": "stream",
     "text": [
      "my name is pooja\n"
     ]
    }
   ],
   "source": [
    "emp_name('pooja')"
   ]
  },
  {
   "cell_type": "markdown",
   "id": "e4ed134d",
   "metadata": {},
   "source": [
    "## 2.default Argument"
   ]
  },
  {
   "cell_type": "code",
   "execution_count": 41,
   "id": "97125c3c",
   "metadata": {},
   "outputs": [],
   "source": [
    "def add(a=4,b=5):\n",
    "    sum=a+b\n",
    "    print(\"sum\",sum)"
   ]
  },
  {
   "cell_type": "code",
   "execution_count": 42,
   "id": "b0a4848b",
   "metadata": {},
   "outputs": [
    {
     "name": "stdout",
     "output_type": "stream",
     "text": [
      "sum 9\n"
     ]
    }
   ],
   "source": [
    "add()"
   ]
  },
  {
   "cell_type": "code",
   "execution_count": 43,
   "id": "cb6b01c2",
   "metadata": {},
   "outputs": [
    {
     "name": "stdout",
     "output_type": "stream",
     "text": [
      "sum 14\n"
     ]
    }
   ],
   "source": [
    "add(5,9)"
   ]
  },
  {
   "cell_type": "markdown",
   "id": "e4278906",
   "metadata": {},
   "source": [
    "## Keyword Argument"
   ]
  },
  {
   "cell_type": "code",
   "execution_count": 44,
   "id": "2b2d8ceb",
   "metadata": {},
   "outputs": [],
   "source": [
    "def info(first_name,last_name):\n",
    "    print(\"first name\",first_name)\n",
    "    print(\"last name\",last_name)"
   ]
  },
  {
   "cell_type": "code",
   "execution_count": 47,
   "id": "6f61cbe3",
   "metadata": {},
   "outputs": [
    {
     "name": "stdout",
     "output_type": "stream",
     "text": [
      "first name pw\n",
      "last name skills\n"
     ]
    }
   ],
   "source": [
    "info(first_name=\"pw\",last_name=\"skills\")"
   ]
  },
  {
   "cell_type": "code",
   "execution_count": 51,
   "id": "e28505a5",
   "metadata": {},
   "outputs": [],
   "source": [
    "def add_numbers(a,b):\n",
    "    sum = a+b\n",
    "    print(\"sum\",sum)"
   ]
  },
  {
   "cell_type": "code",
   "execution_count": 52,
   "id": "1721f440",
   "metadata": {},
   "outputs": [
    {
     "name": "stdout",
     "output_type": "stream",
     "text": [
      "sum 19\n"
     ]
    }
   ],
   "source": [
    "add(a=10,b=9)"
   ]
  },
  {
   "cell_type": "code",
   "execution_count": 56,
   "id": "dd8e7dba",
   "metadata": {},
   "outputs": [],
   "source": [
    "def add_no(a,b,c,d):\n",
    "    sum= a+b+c+d\n",
    "    print(\"sum\",sum)"
   ]
  },
  {
   "cell_type": "code",
   "execution_count": 57,
   "id": "d45d3e75",
   "metadata": {},
   "outputs": [
    {
     "name": "stdout",
     "output_type": "stream",
     "text": [
      "sum 10\n"
     ]
    }
   ],
   "source": [
    "add_no(1,2,3,4)"
   ]
  },
  {
   "cell_type": "markdown",
   "id": "3f35b668",
   "metadata": {},
   "source": [
    "##  *args and **kargs"
   ]
  },
  {
   "cell_type": "code",
   "execution_count": 79,
   "id": "b9e0008b",
   "metadata": {},
   "outputs": [],
   "source": [
    "def findsum(*number):\n",
    "    result=0 \n",
    "    for i in number:\n",
    "        result=result+i\n",
    "    print(\"sum\",result)"
   ]
  },
  {
   "cell_type": "code",
   "execution_count": 80,
   "id": "59411f9e",
   "metadata": {},
   "outputs": [
    {
     "name": "stdout",
     "output_type": "stream",
     "text": [
      "sum 0\n"
     ]
    }
   ],
   "source": [
    "findsum()"
   ]
  },
  {
   "cell_type": "code",
   "execution_count": 81,
   "id": "0e08ba8b",
   "metadata": {},
   "outputs": [
    {
     "name": "stdout",
     "output_type": "stream",
     "text": [
      "sum 6\n"
     ]
    }
   ],
   "source": [
    "findsum(1,2,3)"
   ]
  },
  {
   "cell_type": "code",
   "execution_count": 82,
   "id": "7078c31f",
   "metadata": {},
   "outputs": [
    {
     "name": "stdout",
     "output_type": "stream",
     "text": [
      "sum 24\n"
     ]
    }
   ],
   "source": [
    "findsum(2,3,4,7,8)"
   ]
  },
  {
   "cell_type": "code",
   "execution_count": 83,
   "id": "c5d286f0",
   "metadata": {},
   "outputs": [],
   "source": [
    "def simple(*x):\n",
    "    print(x)"
   ]
  },
  {
   "cell_type": "code",
   "execution_count": 84,
   "id": "df3025e8",
   "metadata": {},
   "outputs": [
    {
     "name": "stdout",
     "output_type": "stream",
     "text": [
      "()\n"
     ]
    }
   ],
   "source": [
    "simple()"
   ]
  },
  {
   "cell_type": "code",
   "execution_count": 85,
   "id": "145a0473",
   "metadata": {},
   "outputs": [
    {
     "name": "stdout",
     "output_type": "stream",
     "text": [
      "(1, 2, 3, 4, 5, 6)\n"
     ]
    }
   ],
   "source": [
    "simple(1,2,3,4,5,6,)"
   ]
  },
  {
   "cell_type": "code",
   "execution_count": 99,
   "id": "583db3e0",
   "metadata": {},
   "outputs": [],
   "source": [
    "def intro(**x):\n",
    "    print(\"data type of arguments\",type(x))\n",
    "    for key ,value in x.items():\n",
    "        print(key,value)"
   ]
  },
  {
   "cell_type": "code",
   "execution_count": 107,
   "id": "37b82250",
   "metadata": {},
   "outputs": [
    {
     "name": "stdout",
     "output_type": "stream",
     "text": [
      "data type of arguments <class 'dict'>\n",
      "first_name pooja\n",
      "last_name rathore\n",
      "age 30\n",
      "id 771\n"
     ]
    }
   ],
   "source": [
    "intro(first_name='pooja',last_name=\"rathore\",age=30,id=771)"
   ]
  },
  {
   "cell_type": "code",
   "execution_count": 101,
   "id": "dc5f83c7",
   "metadata": {},
   "outputs": [],
   "source": [
    "x={'a':1,'b':2}"
   ]
  },
  {
   "cell_type": "code",
   "execution_count": 102,
   "id": "ab956168",
   "metadata": {},
   "outputs": [
    {
     "data": {
      "text/plain": [
       "{'a': 1, 'b': 2}"
      ]
     },
     "execution_count": 102,
     "metadata": {},
     "output_type": "execute_result"
    }
   ],
   "source": [
    "x"
   ]
  },
  {
   "cell_type": "code",
   "execution_count": 103,
   "id": "783abeaa",
   "metadata": {},
   "outputs": [
    {
     "data": {
      "text/plain": [
       "dict"
      ]
     },
     "execution_count": 103,
     "metadata": {},
     "output_type": "execute_result"
    }
   ],
   "source": [
    "type(x)"
   ]
  },
  {
   "cell_type": "code",
   "execution_count": 104,
   "id": "a1161c08",
   "metadata": {},
   "outputs": [
    {
     "data": {
      "text/plain": [
       "dict_items([('a', 1), ('b', 2)])"
      ]
     },
     "execution_count": 104,
     "metadata": {},
     "output_type": "execute_result"
    }
   ],
   "source": [
    "x.items()"
   ]
  },
  {
   "cell_type": "code",
   "execution_count": 106,
   "id": "f4e46ac5",
   "metadata": {},
   "outputs": [
    {
     "name": "stdout",
     "output_type": "stream",
     "text": [
      "a 1\n",
      "b 2\n"
     ]
    }
   ],
   "source": [
    "for keys ,value in x.items():\n",
    "    print(keys,value)"
   ]
  },
  {
   "cell_type": "code",
   "execution_count": 108,
   "id": "3429d8cc",
   "metadata": {},
   "outputs": [],
   "source": [
    "def simple(**x):\n",
    "    print(x)"
   ]
  },
  {
   "cell_type": "code",
   "execution_count": 109,
   "id": "7b76493a",
   "metadata": {},
   "outputs": [
    {
     "name": "stdout",
     "output_type": "stream",
     "text": [
      "{'name': 'pooja', 'age': 30}\n"
     ]
    }
   ],
   "source": [
    "simple(name='pooja',age=30,)"
   ]
  },
  {
   "cell_type": "code",
   "execution_count": 110,
   "id": "cfd01123",
   "metadata": {},
   "outputs": [],
   "source": [
    "def shownumber(*args):\n",
    "    print(args)"
   ]
  },
  {
   "cell_type": "code",
   "execution_count": 111,
   "id": "c8464a1b",
   "metadata": {},
   "outputs": [
    {
     "name": "stdout",
     "output_type": "stream",
     "text": [
      "(1, 3)\n"
     ]
    }
   ],
   "source": [
    "shownumber(1,3)"
   ]
  },
  {
   "cell_type": "code",
   "execution_count": 114,
   "id": "eccb61b7",
   "metadata": {},
   "outputs": [],
   "source": [
    "def showkeyvale(**kwargs):\n",
    "    print(kwargs)"
   ]
  },
  {
   "cell_type": "code",
   "execution_count": 115,
   "id": "7b73fba3",
   "metadata": {},
   "outputs": [
    {
     "name": "stdout",
     "output_type": "stream",
     "text": [
      "{'x': 1, 'y': 2}\n"
     ]
    }
   ],
   "source": [
    "showkeyvale(x=1,y=2)"
   ]
  },
  {
   "cell_type": "code",
   "execution_count": 116,
   "id": "c8a30639",
   "metadata": {},
   "outputs": [
    {
     "name": "stdout",
     "output_type": "stream",
     "text": [
      "{'x': 1, 'y': 2, 'w': 0, 'r': 5}\n"
     ]
    }
   ],
   "source": [
    "showkeyvale(x=1,y=2,w=0,r=5)"
   ]
  },
  {
   "cell_type": "markdown",
   "id": "ec1a6ff5",
   "metadata": {},
   "source": [
    "## Lambda function"
   ]
  },
  {
   "cell_type": "code",
   "execution_count": 117,
   "id": "3bf54631",
   "metadata": {},
   "outputs": [],
   "source": [
    "x=lambda:print(\"pw skills\")"
   ]
  },
  {
   "cell_type": "code",
   "execution_count": 118,
   "id": "19e95ad7",
   "metadata": {},
   "outputs": [
    {
     "name": "stdout",
     "output_type": "stream",
     "text": [
      "pw skills\n"
     ]
    }
   ],
   "source": [
    "x()"
   ]
  },
  {
   "cell_type": "code",
   "execution_count": 119,
   "id": "e7efa54f",
   "metadata": {},
   "outputs": [],
   "source": [
    "addnum=lambda a,b:a*b"
   ]
  },
  {
   "cell_type": "code",
   "execution_count": 121,
   "id": "66edb0f0",
   "metadata": {},
   "outputs": [
    {
     "data": {
      "text/plain": [
       "25"
      ]
     },
     "execution_count": 121,
     "metadata": {},
     "output_type": "execute_result"
    }
   ],
   "source": [
    "addnum(5,5)"
   ]
  },
  {
   "cell_type": "code",
   "execution_count": 122,
   "id": "a5a3d931",
   "metadata": {},
   "outputs": [],
   "source": [
    "multi=lambda a,b:a*b"
   ]
  },
  {
   "cell_type": "code",
   "execution_count": 123,
   "id": "0a780ceb",
   "metadata": {},
   "outputs": [
    {
     "data": {
      "text/plain": [
       "4"
      ]
     },
     "execution_count": 123,
     "metadata": {},
     "output_type": "execute_result"
    }
   ],
   "source": [
    "multi(2,2)"
   ]
  },
  {
   "cell_type": "code",
   "execution_count": 126,
   "id": "05036c6c",
   "metadata": {},
   "outputs": [
    {
     "name": "stdout",
     "output_type": "stream",
     "text": [
      "enter first number5\n",
      "enter second number2\n",
      "(25, 4)\n"
     ]
    }
   ],
   "source": [
    "a= int(input(\"enter first number\"))\n",
    "b= int(input(\"enter second number\"))\n",
    "sqr=lambda a,b:(a**2,b**2)\n",
    "print(sqr(a,b))"
   ]
  },
  {
   "cell_type": "code",
   "execution_count": 7,
   "id": "caabdaf5",
   "metadata": {},
   "outputs": [],
   "source": [
    "def evenodd(n):\n",
    "    if n%2==0:\n",
    "        print(\"number is even\")\n",
    "    else:\n",
    "        print(\"number is odd\")\n",
    "    "
   ]
  },
  {
   "cell_type": "code",
   "execution_count": 9,
   "id": "f6e1a768",
   "metadata": {},
   "outputs": [
    {
     "name": "stdout",
     "output_type": "stream",
     "text": [
      "number is odd\n"
     ]
    }
   ],
   "source": [
    "evenodd(25)"
   ]
  },
  {
   "cell_type": "code",
   "execution_count": 11,
   "id": "977151d3",
   "metadata": {},
   "outputs": [],
   "source": [
    "x=lambda n:\"number is even\" if n%2==0 else\"number is odd\""
   ]
  },
  {
   "cell_type": "code",
   "execution_count": 13,
   "id": "260d4258",
   "metadata": {},
   "outputs": [
    {
     "data": {
      "text/plain": [
       "'number is even'"
      ]
     },
     "execution_count": 13,
     "metadata": {},
     "output_type": "execute_result"
    }
   ],
   "source": [
    "x(524)"
   ]
  },
  {
   "cell_type": "markdown",
   "id": "0f4bc265",
   "metadata": {},
   "source": [
    "# write a lambda function that accespts 2 arguments and return the greater amongst them"
   ]
  },
  {
   "cell_type": "code",
   "execution_count": 17,
   "id": "7665005e",
   "metadata": {},
   "outputs": [],
   "source": [
    "greater_number=lambda a,b: a if a>b else b"
   ]
  },
  {
   "cell_type": "code",
   "execution_count": 18,
   "id": "f80f8d44",
   "metadata": {},
   "outputs": [
    {
     "data": {
      "text/plain": [
       "52"
      ]
     },
     "execution_count": 18,
     "metadata": {},
     "output_type": "execute_result"
    }
   ],
   "source": [
    "greater_number(45,52)"
   ]
  },
  {
   "cell_type": "code",
   "execution_count": 22,
   "id": "4cca145a",
   "metadata": {},
   "outputs": [],
   "source": [
    "# lambda fucntion to fing sum of numbers"
   ]
  },
  {
   "cell_type": "code",
   "execution_count": 23,
   "id": "156b0f83",
   "metadata": {},
   "outputs": [],
   "source": [
    "sum_of=lambda a,b,c:(a+b+c)"
   ]
  },
  {
   "cell_type": "code",
   "execution_count": 24,
   "id": "6bd2812d",
   "metadata": {},
   "outputs": [
    {
     "data": {
      "text/plain": [
       "6"
      ]
     },
     "execution_count": 24,
     "metadata": {},
     "output_type": "execute_result"
    }
   ],
   "source": [
    "sum_of(1,3,2)"
   ]
  },
  {
   "cell_type": "code",
   "execution_count": 34,
   "id": "8fa505df",
   "metadata": {},
   "outputs": [],
   "source": [
    "product=[{'name':'product1','price':50},\n",
    "         {'name':'product2','price':40},\n",
    "         {'name':'product3','price':30},\n",
    "         {'name':'product4','price':80}]\n",
    "#sorted()\n",
    "sorted_products=sorted(product,key=lambda x:x['price'],reverse=True)"
   ]
  },
  {
   "cell_type": "code",
   "execution_count": 35,
   "id": "79e08580",
   "metadata": {},
   "outputs": [
    {
     "name": "stdout",
     "output_type": "stream",
     "text": [
      "{'name': 'product4', 'price': 80}\n",
      "{'name': 'product1', 'price': 50}\n",
      "{'name': 'product2', 'price': 40}\n",
      "{'name': 'product3', 'price': 30}\n"
     ]
    }
   ],
   "source": [
    "for i in sorted_products:\n",
    "    print(i)"
   ]
  },
  {
   "cell_type": "code",
   "execution_count": 37,
   "id": "f7298f16",
   "metadata": {},
   "outputs": [
    {
     "data": {
      "text/plain": [
       "[{'name': 'product4', 'price': 80},\n",
       " {'name': 'product1', 'price': 50},\n",
       " {'name': 'product2', 'price': 40},\n",
       " {'name': 'product3', 'price': 30}]"
      ]
     },
     "execution_count": 37,
     "metadata": {},
     "output_type": "execute_result"
    }
   ],
   "source": [
    " sorted_products"
   ]
  },
  {
   "cell_type": "code",
   "execution_count": 38,
   "id": "92b6a222",
   "metadata": {},
   "outputs": [],
   "source": [
    "# wite a lambda expression that accepts a charater as argument and retun true if it is a volwel other flase\n",
    "# a e i o u\n",
    "# imran \n",
    "# i a"
   ]
  },
  {
   "cell_type": "code",
   "execution_count": 1,
   "id": "3c639c68",
   "metadata": {},
   "outputs": [
    {
     "name": "stdout",
     "output_type": "stream",
     "text": [
      "enter the string:pooja\n"
     ]
    }
   ],
   "source": [
    "vowels=['a','e','i','o','u','A','E','I','O','U']\n",
    "x=input(\"enter the string:\")\n",
    "\n",
    "\n",
    "vowels_list=[x[i] for i in range(len(x)) if x[i] in vowels]"
   ]
  },
  {
   "cell_type": "code",
   "execution_count": 2,
   "id": "eed6b547",
   "metadata": {},
   "outputs": [],
   "source": [
    "x=-10"
   ]
  },
  {
   "cell_type": "code",
   "execution_count": 3,
   "id": "7e5c586d",
   "metadata": {},
   "outputs": [
    {
     "data": {
      "text/plain": [
       "10"
      ]
     },
     "execution_count": 3,
     "metadata": {},
     "output_type": "execute_result"
    }
   ],
   "source": [
    "abs(x)"
   ]
  },
  {
   "cell_type": "code",
   "execution_count": 4,
   "id": "47e3dcd1",
   "metadata": {},
   "outputs": [],
   "source": [
    "l=[1,2,3,4]"
   ]
  },
  {
   "cell_type": "code",
   "execution_count": 5,
   "id": "ff06bb6c",
   "metadata": {},
   "outputs": [
    {
     "data": {
      "text/plain": [
       "4"
      ]
     },
     "execution_count": 5,
     "metadata": {},
     "output_type": "execute_result"
    }
   ],
   "source": [
    "max(l)"
   ]
  },
  {
   "cell_type": "code",
   "execution_count": 7,
   "id": "80a67217",
   "metadata": {},
   "outputs": [],
   "source": [
    "y=str(x)"
   ]
  },
  {
   "cell_type": "code",
   "execution_count": 8,
   "id": "fee2e191",
   "metadata": {},
   "outputs": [
    {
     "data": {
      "text/plain": [
       "int"
      ]
     },
     "execution_count": 8,
     "metadata": {},
     "output_type": "execute_result"
    }
   ],
   "source": [
    "type(x)"
   ]
  },
  {
   "cell_type": "code",
   "execution_count": 10,
   "id": "43e0ea42",
   "metadata": {},
   "outputs": [],
   "source": [
    "lan=['python','java','.net','php']"
   ]
  },
  {
   "cell_type": "code",
   "execution_count": 11,
   "id": "2ed637e1",
   "metadata": {},
   "outputs": [],
   "source": [
    "enumerate_prime=enumerate(lan)"
   ]
  },
  {
   "cell_type": "code",
   "execution_count": 13,
   "id": "75b3ede6",
   "metadata": {},
   "outputs": [
    {
     "data": {
      "text/plain": [
       "[(0, 'python'), (1, 'java'), (2, '.net'), (3, 'php')]"
      ]
     },
     "execution_count": 13,
     "metadata": {},
     "output_type": "execute_result"
    }
   ],
   "source": [
    "list(enumerate_prime)"
   ]
  },
  {
   "cell_type": "markdown",
   "id": "2e3e4186",
   "metadata": {},
   "source": [
    "### list  comprehnsion"
   ]
  },
  {
   "cell_type": "code",
   "execution_count": 15,
   "id": "c6e836f6",
   "metadata": {},
   "outputs": [],
   "source": [
    "list=[1,2,3,4,5,6,78,9,10]"
   ]
  },
  {
   "cell_type": "code",
   "execution_count": 16,
   "id": "65dfb31e",
   "metadata": {},
   "outputs": [],
   "source": [
    "a=[x for x in list]"
   ]
  },
  {
   "cell_type": "code",
   "execution_count": 17,
   "id": "b0a69f7b",
   "metadata": {},
   "outputs": [
    {
     "data": {
      "text/plain": [
       "[1, 2, 3, 4, 5, 6, 78, 9, 10]"
      ]
     },
     "execution_count": 17,
     "metadata": {},
     "output_type": "execute_result"
    }
   ],
   "source": [
    "a"
   ]
  },
  {
   "cell_type": "code",
   "execution_count": 18,
   "id": "c6eb8bfa",
   "metadata": {},
   "outputs": [],
   "source": [
    "list=[1,2,3,4,5,6,7,8,9,10]"
   ]
  },
  {
   "cell_type": "code",
   "execution_count": 21,
   "id": "76429111",
   "metadata": {},
   "outputs": [],
   "source": [
    "a=[x*2 for x in list]"
   ]
  },
  {
   "cell_type": "code",
   "execution_count": 22,
   "id": "e2f02eef",
   "metadata": {},
   "outputs": [
    {
     "data": {
      "text/plain": [
       "[2, 4, 6, 8, 10, 12, 14, 16, 18, 20]"
      ]
     },
     "execution_count": 22,
     "metadata": {},
     "output_type": "execute_result"
    }
   ],
   "source": [
    "a"
   ]
  },
  {
   "cell_type": "code",
   "execution_count": 23,
   "id": "5640f37d",
   "metadata": {},
   "outputs": [],
   "source": [
    "list=[1,2,3,4,5,6,7,8,9,10]"
   ]
  },
  {
   "cell_type": "code",
   "execution_count": 24,
   "id": "a7d5fec0",
   "metadata": {},
   "outputs": [],
   "source": [
    "c=[x for x in list if x>5]"
   ]
  },
  {
   "cell_type": "code",
   "execution_count": 25,
   "id": "07f3764d",
   "metadata": {},
   "outputs": [
    {
     "data": {
      "text/plain": [
       "[6, 7, 8, 9, 10]"
      ]
     },
     "execution_count": 25,
     "metadata": {},
     "output_type": "execute_result"
    }
   ],
   "source": [
    "c"
   ]
  },
  {
   "cell_type": "code",
   "execution_count": 26,
   "id": "32e94a0a",
   "metadata": {},
   "outputs": [],
   "source": [
    "a=[]\n",
    "for x in list:\n",
    "    if x>5:\n",
    "        a.append(x)\n",
    "    "
   ]
  },
  {
   "cell_type": "code",
   "execution_count": 27,
   "id": "8c4a0022",
   "metadata": {},
   "outputs": [
    {
     "data": {
      "text/plain": [
       "[6, 7, 8, 9, 10]"
      ]
     },
     "execution_count": 27,
     "metadata": {},
     "output_type": "execute_result"
    }
   ],
   "source": [
    "a"
   ]
  },
  {
   "cell_type": "code",
   "execution_count": 28,
   "id": "3a91a575",
   "metadata": {},
   "outputs": [],
   "source": [
    "list=[1,2,3,4,5,6,7,8,9,10]"
   ]
  },
  {
   "cell_type": "code",
   "execution_count": 29,
   "id": "62f39532",
   "metadata": {},
   "outputs": [],
   "source": [
    "list=[1,2,3,4,5,6,7,8,9,10]\n",
    "c=[i for i in list if i%2!=0]"
   ]
  },
  {
   "cell_type": "code",
   "execution_count": 30,
   "id": "1d4bee2c",
   "metadata": {},
   "outputs": [
    {
     "data": {
      "text/plain": [
       "[1, 3, 5, 7, 9]"
      ]
     },
     "execution_count": 30,
     "metadata": {},
     "output_type": "execute_result"
    }
   ],
   "source": [
    "c"
   ]
  },
  {
   "cell_type": "code",
   "execution_count": 32,
   "id": "04fa29dd",
   "metadata": {},
   "outputs": [
    {
     "data": {
      "text/plain": [
       "[2, 4, 6, 8, 10]"
      ]
     },
     "execution_count": 32,
     "metadata": {},
     "output_type": "execute_result"
    }
   ],
   "source": [
    "list=[1,2,3,4,5,6,7,8,9,10]\n",
    "c=[i for i in list if i%2==0]\n",
    "c"
   ]
  },
  {
   "cell_type": "code",
   "execution_count": 33,
   "id": "784063e2",
   "metadata": {},
   "outputs": [],
   "source": [
    "list=[1,2,3,4,5,6,7,8,9,10]\n",
    "c=[x for x in list if x>5 if x%2==0]"
   ]
  },
  {
   "cell_type": "code",
   "execution_count": 34,
   "id": "0b8bbd26",
   "metadata": {},
   "outputs": [
    {
     "data": {
      "text/plain": [
       "[6, 8, 10]"
      ]
     },
     "execution_count": 34,
     "metadata": {},
     "output_type": "execute_result"
    }
   ],
   "source": [
    "c"
   ]
  },
  {
   "cell_type": "code",
   "execution_count": 35,
   "id": "37071b15",
   "metadata": {},
   "outputs": [],
   "source": [
    "list=[1,2,3,4,5,6,7,8,9,10]\n",
    "e=[x if x>4 else 'lessthan 4' for x in list]"
   ]
  },
  {
   "cell_type": "code",
   "execution_count": 36,
   "id": "f9e470f2",
   "metadata": {},
   "outputs": [
    {
     "data": {
      "text/plain": [
       "['lessthan 4', 'lessthan 4', 'lessthan 4', 'lessthan 4', 5, 6, 7, 8, 9, 10]"
      ]
     },
     "execution_count": 36,
     "metadata": {},
     "output_type": "execute_result"
    }
   ],
   "source": [
    "e"
   ]
  },
  {
   "cell_type": "code",
   "execution_count": 38,
   "id": "8f8a43af",
   "metadata": {},
   "outputs": [],
   "source": [
    "lst=[1,2,3,4,5,6,7,8,9,10]\n",
    "f=['two' if x%2==0 else 'three' if x%3==0 else 'not a & b' for x in lst]"
   ]
  },
  {
   "cell_type": "code",
   "execution_count": 39,
   "id": "7840205c",
   "metadata": {},
   "outputs": [
    {
     "data": {
      "text/plain": [
       "['not a & b',\n",
       " 'two',\n",
       " 'three',\n",
       " 'two',\n",
       " 'not a & b',\n",
       " 'two',\n",
       " 'not a & b',\n",
       " 'two',\n",
       " 'three',\n",
       " 'two']"
      ]
     },
     "execution_count": 39,
     "metadata": {},
     "output_type": "execute_result"
    }
   ],
   "source": [
    "f"
   ]
  },
  {
   "cell_type": "code",
   "execution_count": 40,
   "id": "ee2adfab",
   "metadata": {},
   "outputs": [],
   "source": [
    "list=[91,12,63,5]\n",
    "f="
   ]
  },
  {
   "cell_type": "code",
   "execution_count": 41,
   "id": "9df4ce1e",
   "metadata": {},
   "outputs": [],
   "source": [
    "a=[]\n",
    "\n",
    "for x in lst:\n",
    "    if x%2==0:\n",
    "        a.append('two')\n",
    "    elif x%3==0:\n",
    "        a.append('three')\n",
    "    else:\n",
    "        a.append(\"not 2 & 3\")"
   ]
  },
  {
   "cell_type": "code",
   "execution_count": 42,
   "id": "920d4bf4",
   "metadata": {},
   "outputs": [
    {
     "data": {
      "text/plain": [
       "['not 2 & 3',\n",
       " 'two',\n",
       " 'three',\n",
       " 'two',\n",
       " 'not 2 & 3',\n",
       " 'two',\n",
       " 'not 2 & 3',\n",
       " 'two',\n",
       " 'three',\n",
       " 'two']"
      ]
     },
     "execution_count": 42,
     "metadata": {},
     "output_type": "execute_result"
    }
   ],
   "source": [
    "a"
   ]
  },
  {
   "cell_type": "code",
   "execution_count": null,
   "id": "c5d5aa35",
   "metadata": {},
   "outputs": [],
   "source": []
  }
 ],
 "metadata": {
  "kernelspec": {
   "display_name": "Python 3 (ipykernel)",
   "language": "python",
   "name": "python3"
  },
  "language_info": {
   "codemirror_mode": {
    "name": "ipython",
    "version": 3
   },
   "file_extension": ".py",
   "mimetype": "text/x-python",
   "name": "python",
   "nbconvert_exporter": "python",
   "pygments_lexer": "ipython3",
   "version": "3.11.3"
  }
 },
 "nbformat": 4,
 "nbformat_minor": 5
}
