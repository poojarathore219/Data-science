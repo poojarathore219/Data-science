{
 "cells": [
  {
   "cell_type": "code",
   "execution_count": 1,
   "id": "998ee240",
   "metadata": {},
   "outputs": [],
   "source": [
    "from sklearn.datasets import make_classification\n",
    "from sklearn.model_selection import train_test_split\n",
    "from sklearn.ensemble import GradientBoostingClassifier\n",
    "from sklearn.metrics import accuracy_score, classification_report, confusion_matrix, r2_score"
   ]
  },
  {
   "cell_type": "code",
   "execution_count": 2,
   "id": "865b22bf",
   "metadata": {},
   "outputs": [],
   "source": [
    "import warnings\n",
    "warnings.filterwarnings('ignore')"
   ]
  },
  {
   "cell_type": "code",
   "execution_count": 3,
   "id": "7842a951",
   "metadata": {},
   "outputs": [],
   "source": [
    "x,y=make_classification(n_samples=1000,n_features=20,n_classes=2,random_state=1)"
   ]
  },
  {
   "cell_type": "code",
   "execution_count": 4,
   "id": "7cfa00fa",
   "metadata": {},
   "outputs": [],
   "source": [
    "x_train, x_test, y_train, y_test = train_test_split(x, y, test_size = 0.33, random_state=1)"
   ]
  },
  {
   "cell_type": "code",
   "execution_count": 5,
   "id": "55dc57bb",
   "metadata": {},
   "outputs": [],
   "source": [
    "classifier=GradientBoostingClassifier()"
   ]
  },
  {
   "cell_type": "code",
   "execution_count": 6,
   "id": "884a23aa",
   "metadata": {},
   "outputs": [
    {
     "data": {
      "text/html": [
       "<style>#sk-container-id-1 {color: black;}#sk-container-id-1 pre{padding: 0;}#sk-container-id-1 div.sk-toggleable {background-color: white;}#sk-container-id-1 label.sk-toggleable__label {cursor: pointer;display: block;width: 100%;margin-bottom: 0;padding: 0.3em;box-sizing: border-box;text-align: center;}#sk-container-id-1 label.sk-toggleable__label-arrow:before {content: \"▸\";float: left;margin-right: 0.25em;color: #696969;}#sk-container-id-1 label.sk-toggleable__label-arrow:hover:before {color: black;}#sk-container-id-1 div.sk-estimator:hover label.sk-toggleable__label-arrow:before {color: black;}#sk-container-id-1 div.sk-toggleable__content {max-height: 0;max-width: 0;overflow: hidden;text-align: left;background-color: #f0f8ff;}#sk-container-id-1 div.sk-toggleable__content pre {margin: 0.2em;color: black;border-radius: 0.25em;background-color: #f0f8ff;}#sk-container-id-1 input.sk-toggleable__control:checked~div.sk-toggleable__content {max-height: 200px;max-width: 100%;overflow: auto;}#sk-container-id-1 input.sk-toggleable__control:checked~label.sk-toggleable__label-arrow:before {content: \"▾\";}#sk-container-id-1 div.sk-estimator input.sk-toggleable__control:checked~label.sk-toggleable__label {background-color: #d4ebff;}#sk-container-id-1 div.sk-label input.sk-toggleable__control:checked~label.sk-toggleable__label {background-color: #d4ebff;}#sk-container-id-1 input.sk-hidden--visually {border: 0;clip: rect(1px 1px 1px 1px);clip: rect(1px, 1px, 1px, 1px);height: 1px;margin: -1px;overflow: hidden;padding: 0;position: absolute;width: 1px;}#sk-container-id-1 div.sk-estimator {font-family: monospace;background-color: #f0f8ff;border: 1px dotted black;border-radius: 0.25em;box-sizing: border-box;margin-bottom: 0.5em;}#sk-container-id-1 div.sk-estimator:hover {background-color: #d4ebff;}#sk-container-id-1 div.sk-parallel-item::after {content: \"\";width: 100%;border-bottom: 1px solid gray;flex-grow: 1;}#sk-container-id-1 div.sk-label:hover label.sk-toggleable__label {background-color: #d4ebff;}#sk-container-id-1 div.sk-serial::before {content: \"\";position: absolute;border-left: 1px solid gray;box-sizing: border-box;top: 0;bottom: 0;left: 50%;z-index: 0;}#sk-container-id-1 div.sk-serial {display: flex;flex-direction: column;align-items: center;background-color: white;padding-right: 0.2em;padding-left: 0.2em;position: relative;}#sk-container-id-1 div.sk-item {position: relative;z-index: 1;}#sk-container-id-1 div.sk-parallel {display: flex;align-items: stretch;justify-content: center;background-color: white;position: relative;}#sk-container-id-1 div.sk-item::before, #sk-container-id-1 div.sk-parallel-item::before {content: \"\";position: absolute;border-left: 1px solid gray;box-sizing: border-box;top: 0;bottom: 0;left: 50%;z-index: -1;}#sk-container-id-1 div.sk-parallel-item {display: flex;flex-direction: column;z-index: 1;position: relative;background-color: white;}#sk-container-id-1 div.sk-parallel-item:first-child::after {align-self: flex-end;width: 50%;}#sk-container-id-1 div.sk-parallel-item:last-child::after {align-self: flex-start;width: 50%;}#sk-container-id-1 div.sk-parallel-item:only-child::after {width: 0;}#sk-container-id-1 div.sk-dashed-wrapped {border: 1px dashed gray;margin: 0 0.4em 0.5em 0.4em;box-sizing: border-box;padding-bottom: 0.4em;background-color: white;}#sk-container-id-1 div.sk-label label {font-family: monospace;font-weight: bold;display: inline-block;line-height: 1.2em;}#sk-container-id-1 div.sk-label-container {text-align: center;}#sk-container-id-1 div.sk-container {/* jupyter's `normalize.less` sets `[hidden] { display: none; }` but bootstrap.min.css set `[hidden] { display: none !important; }` so we also need the `!important` here to be able to override the default hidden behavior on the sphinx rendered scikit-learn.org. See: https://github.com/scikit-learn/scikit-learn/issues/21755 */display: inline-block !important;position: relative;}#sk-container-id-1 div.sk-text-repr-fallback {display: none;}</style><div id=\"sk-container-id-1\" class=\"sk-top-container\"><div class=\"sk-text-repr-fallback\"><pre>GradientBoostingClassifier()</pre><b>In a Jupyter environment, please rerun this cell to show the HTML representation or trust the notebook. <br />On GitHub, the HTML representation is unable to render, please try loading this page with nbviewer.org.</b></div><div class=\"sk-container\" hidden><div class=\"sk-item\"><div class=\"sk-estimator sk-toggleable\"><input class=\"sk-toggleable__control sk-hidden--visually\" id=\"sk-estimator-id-1\" type=\"checkbox\" checked><label for=\"sk-estimator-id-1\" class=\"sk-toggleable__label sk-toggleable__label-arrow\">GradientBoostingClassifier</label><div class=\"sk-toggleable__content\"><pre>GradientBoostingClassifier()</pre></div></div></div></div></div>"
      ],
      "text/plain": [
       "GradientBoostingClassifier()"
      ]
     },
     "execution_count": 6,
     "metadata": {},
     "output_type": "execute_result"
    }
   ],
   "source": [
    "classifier.fit(x_train,y_train)"
   ]
  },
  {
   "cell_type": "code",
   "execution_count": 7,
   "id": "35d430ba",
   "metadata": {},
   "outputs": [],
   "source": [
    "y_pred=classifier.predict(x_test)"
   ]
  },
  {
   "cell_type": "code",
   "execution_count": 8,
   "id": "0eb9c339",
   "metadata": {},
   "outputs": [
    {
     "data": {
      "text/plain": [
       "0.8515151515151516"
      ]
     },
     "execution_count": 8,
     "metadata": {},
     "output_type": "execute_result"
    }
   ],
   "source": [
    "accuracy_score(y_test,y_pred)"
   ]
  },
  {
   "cell_type": "code",
   "execution_count": 9,
   "id": "a562ce69",
   "metadata": {},
   "outputs": [
    {
     "data": {
      "text/plain": [
       "'              precision    recall  f1-score   support\\n\\n           0       0.83      0.85      0.84       154\\n           1       0.87      0.85      0.86       176\\n\\n    accuracy                           0.85       330\\n   macro avg       0.85      0.85      0.85       330\\nweighted avg       0.85      0.85      0.85       330\\n'"
      ]
     },
     "execution_count": 9,
     "metadata": {},
     "output_type": "execute_result"
    }
   ],
   "source": [
    "classification_report(y_test,y_pred)"
   ]
  },
  {
   "cell_type": "code",
   "execution_count": 10,
   "id": "91ab6d1f",
   "metadata": {},
   "outputs": [
    {
     "data": {
      "text/plain": [
       "array([[131,  23],\n",
       "       [ 26, 150]], dtype=int64)"
      ]
     },
     "execution_count": 10,
     "metadata": {},
     "output_type": "execute_result"
    }
   ],
   "source": [
    "confusion_matrix(y_test,y_pred)"
   ]
  },
  {
   "cell_type": "code",
   "execution_count": 11,
   "id": "70e996e3",
   "metadata": {},
   "outputs": [],
   "source": [
    "from sklearn.model_selection import GridSearchCV\n",
    "param_grid = {\"n_estimators\": [50, 100, 200],\n",
    "             \"learning_rate\": [0.001, 0.1, 1, 1.5, 2, 2.5],\n",
    "             \"ccp_alpha\": [1, 2]}"
   ]
  },
  {
   "cell_type": "code",
   "execution_count": 12,
   "id": "19f726d8",
   "metadata": {},
   "outputs": [],
   "source": [
    "gdc=GradientBoostingClassifier()"
   ]
  },
  {
   "cell_type": "code",
   "execution_count": 13,
   "id": "475cd053",
   "metadata": {},
   "outputs": [],
   "source": [
    "clf= GridSearchCV(estimator=gdc, param_grid=param_grid, cv = 5, verbose = 3)"
   ]
  },
  {
   "cell_type": "code",
   "execution_count": 14,
   "id": "b52c4daa",
   "metadata": {},
   "outputs": [
    {
     "data": {
      "text/html": [
       "<style>#sk-container-id-2 {color: black;}#sk-container-id-2 pre{padding: 0;}#sk-container-id-2 div.sk-toggleable {background-color: white;}#sk-container-id-2 label.sk-toggleable__label {cursor: pointer;display: block;width: 100%;margin-bottom: 0;padding: 0.3em;box-sizing: border-box;text-align: center;}#sk-container-id-2 label.sk-toggleable__label-arrow:before {content: \"▸\";float: left;margin-right: 0.25em;color: #696969;}#sk-container-id-2 label.sk-toggleable__label-arrow:hover:before {color: black;}#sk-container-id-2 div.sk-estimator:hover label.sk-toggleable__label-arrow:before {color: black;}#sk-container-id-2 div.sk-toggleable__content {max-height: 0;max-width: 0;overflow: hidden;text-align: left;background-color: #f0f8ff;}#sk-container-id-2 div.sk-toggleable__content pre {margin: 0.2em;color: black;border-radius: 0.25em;background-color: #f0f8ff;}#sk-container-id-2 input.sk-toggleable__control:checked~div.sk-toggleable__content {max-height: 200px;max-width: 100%;overflow: auto;}#sk-container-id-2 input.sk-toggleable__control:checked~label.sk-toggleable__label-arrow:before {content: \"▾\";}#sk-container-id-2 div.sk-estimator input.sk-toggleable__control:checked~label.sk-toggleable__label {background-color: #d4ebff;}#sk-container-id-2 div.sk-label input.sk-toggleable__control:checked~label.sk-toggleable__label {background-color: #d4ebff;}#sk-container-id-2 input.sk-hidden--visually {border: 0;clip: rect(1px 1px 1px 1px);clip: rect(1px, 1px, 1px, 1px);height: 1px;margin: -1px;overflow: hidden;padding: 0;position: absolute;width: 1px;}#sk-container-id-2 div.sk-estimator {font-family: monospace;background-color: #f0f8ff;border: 1px dotted black;border-radius: 0.25em;box-sizing: border-box;margin-bottom: 0.5em;}#sk-container-id-2 div.sk-estimator:hover {background-color: #d4ebff;}#sk-container-id-2 div.sk-parallel-item::after {content: \"\";width: 100%;border-bottom: 1px solid gray;flex-grow: 1;}#sk-container-id-2 div.sk-label:hover label.sk-toggleable__label {background-color: #d4ebff;}#sk-container-id-2 div.sk-serial::before {content: \"\";position: absolute;border-left: 1px solid gray;box-sizing: border-box;top: 0;bottom: 0;left: 50%;z-index: 0;}#sk-container-id-2 div.sk-serial {display: flex;flex-direction: column;align-items: center;background-color: white;padding-right: 0.2em;padding-left: 0.2em;position: relative;}#sk-container-id-2 div.sk-item {position: relative;z-index: 1;}#sk-container-id-2 div.sk-parallel {display: flex;align-items: stretch;justify-content: center;background-color: white;position: relative;}#sk-container-id-2 div.sk-item::before, #sk-container-id-2 div.sk-parallel-item::before {content: \"\";position: absolute;border-left: 1px solid gray;box-sizing: border-box;top: 0;bottom: 0;left: 50%;z-index: -1;}#sk-container-id-2 div.sk-parallel-item {display: flex;flex-direction: column;z-index: 1;position: relative;background-color: white;}#sk-container-id-2 div.sk-parallel-item:first-child::after {align-self: flex-end;width: 50%;}#sk-container-id-2 div.sk-parallel-item:last-child::after {align-self: flex-start;width: 50%;}#sk-container-id-2 div.sk-parallel-item:only-child::after {width: 0;}#sk-container-id-2 div.sk-dashed-wrapped {border: 1px dashed gray;margin: 0 0.4em 0.5em 0.4em;box-sizing: border-box;padding-bottom: 0.4em;background-color: white;}#sk-container-id-2 div.sk-label label {font-family: monospace;font-weight: bold;display: inline-block;line-height: 1.2em;}#sk-container-id-2 div.sk-label-container {text-align: center;}#sk-container-id-2 div.sk-container {/* jupyter's `normalize.less` sets `[hidden] { display: none; }` but bootstrap.min.css set `[hidden] { display: none !important; }` so we also need the `!important` here to be able to override the default hidden behavior on the sphinx rendered scikit-learn.org. See: https://github.com/scikit-learn/scikit-learn/issues/21755 */display: inline-block !important;position: relative;}#sk-container-id-2 div.sk-text-repr-fallback {display: none;}</style><div id=\"sk-container-id-2\" class=\"sk-top-container\"><div class=\"sk-text-repr-fallback\"><pre>GridSearchCV(cv=5, estimator=GradientBoostingClassifier(),\n",
       "             param_grid={&#x27;ccp_alpha&#x27;: [1, 2],\n",
       "                         &#x27;learning_rate&#x27;: [0.001, 0.1, 1, 1.5, 2, 2.5],\n",
       "                         &#x27;n_estimators&#x27;: [50, 100, 200]},\n",
       "             verbose=3)</pre><b>In a Jupyter environment, please rerun this cell to show the HTML representation or trust the notebook. <br />On GitHub, the HTML representation is unable to render, please try loading this page with nbviewer.org.</b></div><div class=\"sk-container\" hidden><div class=\"sk-item sk-dashed-wrapped\"><div class=\"sk-label-container\"><div class=\"sk-label sk-toggleable\"><input class=\"sk-toggleable__control sk-hidden--visually\" id=\"sk-estimator-id-2\" type=\"checkbox\" ><label for=\"sk-estimator-id-2\" class=\"sk-toggleable__label sk-toggleable__label-arrow\">GridSearchCV</label><div class=\"sk-toggleable__content\"><pre>GridSearchCV(cv=5, estimator=GradientBoostingClassifier(),\n",
       "             param_grid={&#x27;ccp_alpha&#x27;: [1, 2],\n",
       "                         &#x27;learning_rate&#x27;: [0.001, 0.1, 1, 1.5, 2, 2.5],\n",
       "                         &#x27;n_estimators&#x27;: [50, 100, 200]},\n",
       "             verbose=3)</pre></div></div></div><div class=\"sk-parallel\"><div class=\"sk-parallel-item\"><div class=\"sk-item\"><div class=\"sk-label-container\"><div class=\"sk-label sk-toggleable\"><input class=\"sk-toggleable__control sk-hidden--visually\" id=\"sk-estimator-id-3\" type=\"checkbox\" ><label for=\"sk-estimator-id-3\" class=\"sk-toggleable__label sk-toggleable__label-arrow\">estimator: GradientBoostingClassifier</label><div class=\"sk-toggleable__content\"><pre>GradientBoostingClassifier()</pre></div></div></div><div class=\"sk-serial\"><div class=\"sk-item\"><div class=\"sk-estimator sk-toggleable\"><input class=\"sk-toggleable__control sk-hidden--visually\" id=\"sk-estimator-id-4\" type=\"checkbox\" ><label for=\"sk-estimator-id-4\" class=\"sk-toggleable__label sk-toggleable__label-arrow\">GradientBoostingClassifier</label><div class=\"sk-toggleable__content\"><pre>GradientBoostingClassifier()</pre></div></div></div></div></div></div></div></div></div></div>"
      ],
      "text/plain": [
       "GridSearchCV(cv=5, estimator=GradientBoostingClassifier(),\n",
       "             param_grid={'ccp_alpha': [1, 2],\n",
       "                         'learning_rate': [0.001, 0.1, 1, 1.5, 2, 2.5],\n",
       "                         'n_estimators': [50, 100, 200]},\n",
       "             verbose=3)"
      ]
     },
     "execution_count": 14,
     "metadata": {},
     "output_type": "execute_result"
    }
   ],
   "source": [
    "clf"
   ]
  },
  {
   "cell_type": "code",
   "execution_count": 15,
   "id": "bb82930d",
   "metadata": {},
   "outputs": [
    {
     "name": "stdout",
     "output_type": "stream",
     "text": [
      "Fitting 5 folds for each of 36 candidates, totalling 180 fits\n",
      "[CV 1/5] END ccp_alpha=1, learning_rate=0.001, n_estimators=50;, score=0.515 total time=   0.3s\n",
      "[CV 2/5] END ccp_alpha=1, learning_rate=0.001, n_estimators=50;, score=0.515 total time=   0.3s\n",
      "[CV 3/5] END ccp_alpha=1, learning_rate=0.001, n_estimators=50;, score=0.515 total time=   0.3s\n",
      "[CV 4/5] END ccp_alpha=1, learning_rate=0.001, n_estimators=50;, score=0.522 total time=   0.3s\n",
      "[CV 5/5] END ccp_alpha=1, learning_rate=0.001, n_estimators=50;, score=0.522 total time=   0.3s\n",
      "[CV 1/5] END ccp_alpha=1, learning_rate=0.001, n_estimators=100;, score=0.515 total time=   0.7s\n",
      "[CV 2/5] END ccp_alpha=1, learning_rate=0.001, n_estimators=100;, score=0.515 total time=   0.7s\n",
      "[CV 3/5] END ccp_alpha=1, learning_rate=0.001, n_estimators=100;, score=0.515 total time=   0.7s\n",
      "[CV 4/5] END ccp_alpha=1, learning_rate=0.001, n_estimators=100;, score=0.522 total time=   1.3s\n",
      "[CV 5/5] END ccp_alpha=1, learning_rate=0.001, n_estimators=100;, score=0.522 total time=   1.4s\n",
      "[CV 1/5] END ccp_alpha=1, learning_rate=0.001, n_estimators=200;, score=0.515 total time=   2.7s\n",
      "[CV 2/5] END ccp_alpha=1, learning_rate=0.001, n_estimators=200;, score=0.515 total time=   3.1s\n",
      "[CV 3/5] END ccp_alpha=1, learning_rate=0.001, n_estimators=200;, score=0.515 total time=   3.1s\n",
      "[CV 4/5] END ccp_alpha=1, learning_rate=0.001, n_estimators=200;, score=0.522 total time=   2.9s\n",
      "[CV 5/5] END ccp_alpha=1, learning_rate=0.001, n_estimators=200;, score=0.522 total time=   2.8s\n",
      "[CV 1/5] END ccp_alpha=1, learning_rate=0.1, n_estimators=50;, score=0.515 total time=   0.6s\n",
      "[CV 2/5] END ccp_alpha=1, learning_rate=0.1, n_estimators=50;, score=0.515 total time=   0.6s\n",
      "[CV 3/5] END ccp_alpha=1, learning_rate=0.1, n_estimators=50;, score=0.515 total time=   0.6s\n",
      "[CV 4/5] END ccp_alpha=1, learning_rate=0.1, n_estimators=50;, score=0.522 total time=   0.7s\n",
      "[CV 5/5] END ccp_alpha=1, learning_rate=0.1, n_estimators=50;, score=0.522 total time=   0.7s\n",
      "[CV 1/5] END ccp_alpha=1, learning_rate=0.1, n_estimators=100;, score=0.515 total time=   1.4s\n",
      "[CV 2/5] END ccp_alpha=1, learning_rate=0.1, n_estimators=100;, score=0.515 total time=   1.5s\n",
      "[CV 3/5] END ccp_alpha=1, learning_rate=0.1, n_estimators=100;, score=0.515 total time=   1.5s\n",
      "[CV 4/5] END ccp_alpha=1, learning_rate=0.1, n_estimators=100;, score=0.522 total time=   1.4s\n",
      "[CV 5/5] END ccp_alpha=1, learning_rate=0.1, n_estimators=100;, score=0.522 total time=   1.4s\n",
      "[CV 1/5] END ccp_alpha=1, learning_rate=0.1, n_estimators=200;, score=0.515 total time=   2.9s\n",
      "[CV 2/5] END ccp_alpha=1, learning_rate=0.1, n_estimators=200;, score=0.515 total time=   2.9s\n",
      "[CV 3/5] END ccp_alpha=1, learning_rate=0.1, n_estimators=200;, score=0.515 total time=   2.9s\n",
      "[CV 4/5] END ccp_alpha=1, learning_rate=0.1, n_estimators=200;, score=0.522 total time=   3.1s\n",
      "[CV 5/5] END ccp_alpha=1, learning_rate=0.1, n_estimators=200;, score=0.522 total time=   3.0s\n",
      "[CV 1/5] END ccp_alpha=1, learning_rate=1, n_estimators=50;, score=0.515 total time=   0.7s\n",
      "[CV 2/5] END ccp_alpha=1, learning_rate=1, n_estimators=50;, score=0.515 total time=   0.7s\n",
      "[CV 3/5] END ccp_alpha=1, learning_rate=1, n_estimators=50;, score=0.515 total time=   0.7s\n",
      "[CV 4/5] END ccp_alpha=1, learning_rate=1, n_estimators=50;, score=0.522 total time=   0.7s\n",
      "[CV 5/5] END ccp_alpha=1, learning_rate=1, n_estimators=50;, score=0.522 total time=   0.7s\n",
      "[CV 1/5] END ccp_alpha=1, learning_rate=1, n_estimators=100;, score=0.515 total time=   1.4s\n",
      "[CV 2/5] END ccp_alpha=1, learning_rate=1, n_estimators=100;, score=0.515 total time=   1.5s\n",
      "[CV 3/5] END ccp_alpha=1, learning_rate=1, n_estimators=100;, score=0.515 total time=   1.4s\n",
      "[CV 4/5] END ccp_alpha=1, learning_rate=1, n_estimators=100;, score=0.522 total time=   1.4s\n",
      "[CV 5/5] END ccp_alpha=1, learning_rate=1, n_estimators=100;, score=0.522 total time=   1.5s\n",
      "[CV 1/5] END ccp_alpha=1, learning_rate=1, n_estimators=200;, score=0.515 total time=   3.1s\n",
      "[CV 2/5] END ccp_alpha=1, learning_rate=1, n_estimators=200;, score=0.515 total time=   2.9s\n",
      "[CV 3/5] END ccp_alpha=1, learning_rate=1, n_estimators=200;, score=0.515 total time=   3.0s\n",
      "[CV 4/5] END ccp_alpha=1, learning_rate=1, n_estimators=200;, score=0.522 total time=   3.0s\n",
      "[CV 5/5] END ccp_alpha=1, learning_rate=1, n_estimators=200;, score=0.522 total time=   2.9s\n",
      "[CV 1/5] END ccp_alpha=1, learning_rate=1.5, n_estimators=50;, score=0.515 total time=   0.7s\n",
      "[CV 2/5] END ccp_alpha=1, learning_rate=1.5, n_estimators=50;, score=0.515 total time=   0.7s\n",
      "[CV 3/5] END ccp_alpha=1, learning_rate=1.5, n_estimators=50;, score=0.515 total time=   0.7s\n",
      "[CV 4/5] END ccp_alpha=1, learning_rate=1.5, n_estimators=50;, score=0.522 total time=   0.7s\n",
      "[CV 5/5] END ccp_alpha=1, learning_rate=1.5, n_estimators=50;, score=0.522 total time=   0.7s\n",
      "[CV 1/5] END ccp_alpha=1, learning_rate=1.5, n_estimators=100;, score=0.515 total time=   1.3s\n",
      "[CV 2/5] END ccp_alpha=1, learning_rate=1.5, n_estimators=100;, score=0.515 total time=   1.4s\n",
      "[CV 3/5] END ccp_alpha=1, learning_rate=1.5, n_estimators=100;, score=0.515 total time=   1.4s\n",
      "[CV 4/5] END ccp_alpha=1, learning_rate=1.5, n_estimators=100;, score=0.522 total time=   1.4s\n",
      "[CV 5/5] END ccp_alpha=1, learning_rate=1.5, n_estimators=100;, score=0.522 total time=   1.4s\n",
      "[CV 1/5] END ccp_alpha=1, learning_rate=1.5, n_estimators=200;, score=0.515 total time=   2.9s\n",
      "[CV 2/5] END ccp_alpha=1, learning_rate=1.5, n_estimators=200;, score=0.515 total time=   3.1s\n",
      "[CV 3/5] END ccp_alpha=1, learning_rate=1.5, n_estimators=200;, score=0.515 total time=   3.0s\n",
      "[CV 4/5] END ccp_alpha=1, learning_rate=1.5, n_estimators=200;, score=0.522 total time=   2.9s\n",
      "[CV 5/5] END ccp_alpha=1, learning_rate=1.5, n_estimators=200;, score=0.522 total time=   2.9s\n",
      "[CV 1/5] END ccp_alpha=1, learning_rate=2, n_estimators=50;, score=0.515 total time=   0.6s\n",
      "[CV 2/5] END ccp_alpha=1, learning_rate=2, n_estimators=50;, score=0.515 total time=   0.7s\n",
      "[CV 3/5] END ccp_alpha=1, learning_rate=2, n_estimators=50;, score=0.515 total time=   0.7s\n",
      "[CV 4/5] END ccp_alpha=1, learning_rate=2, n_estimators=50;, score=0.522 total time=   0.7s\n",
      "[CV 5/5] END ccp_alpha=1, learning_rate=2, n_estimators=50;, score=0.522 total time=   0.6s\n",
      "[CV 1/5] END ccp_alpha=1, learning_rate=2, n_estimators=100;, score=0.515 total time=   1.4s\n",
      "[CV 2/5] END ccp_alpha=1, learning_rate=2, n_estimators=100;, score=0.515 total time=   1.5s\n",
      "[CV 3/5] END ccp_alpha=1, learning_rate=2, n_estimators=100;, score=0.515 total time=   1.5s\n",
      "[CV 4/5] END ccp_alpha=1, learning_rate=2, n_estimators=100;, score=0.522 total time=   1.4s\n",
      "[CV 5/5] END ccp_alpha=1, learning_rate=2, n_estimators=100;, score=0.522 total time=   1.4s\n",
      "[CV 1/5] END ccp_alpha=1, learning_rate=2, n_estimators=200;, score=0.515 total time=   2.9s\n",
      "[CV 2/5] END ccp_alpha=1, learning_rate=2, n_estimators=200;, score=0.515 total time=   2.8s\n",
      "[CV 3/5] END ccp_alpha=1, learning_rate=2, n_estimators=200;, score=0.515 total time=   2.9s\n",
      "[CV 4/5] END ccp_alpha=1, learning_rate=2, n_estimators=200;, score=0.522 total time=   3.3s\n",
      "[CV 5/5] END ccp_alpha=1, learning_rate=2, n_estimators=200;, score=0.522 total time=   2.9s\n",
      "[CV 1/5] END ccp_alpha=1, learning_rate=2.5, n_estimators=50;, score=0.515 total time=   0.6s\n",
      "[CV 2/5] END ccp_alpha=1, learning_rate=2.5, n_estimators=50;, score=0.515 total time=   0.6s\n",
      "[CV 3/5] END ccp_alpha=1, learning_rate=2.5, n_estimators=50;, score=0.515 total time=   0.7s\n",
      "[CV 4/5] END ccp_alpha=1, learning_rate=2.5, n_estimators=50;, score=0.522 total time=   0.7s\n",
      "[CV 5/5] END ccp_alpha=1, learning_rate=2.5, n_estimators=50;, score=0.522 total time=   0.7s\n",
      "[CV 1/5] END ccp_alpha=1, learning_rate=2.5, n_estimators=100;, score=0.485 total time=   1.4s\n",
      "[CV 2/5] END ccp_alpha=1, learning_rate=2.5, n_estimators=100;, score=0.485 total time=   1.4s\n",
      "[CV 3/5] END ccp_alpha=1, learning_rate=2.5, n_estimators=100;, score=0.485 total time=   1.4s\n",
      "[CV 4/5] END ccp_alpha=1, learning_rate=2.5, n_estimators=100;, score=0.478 total time=   1.4s\n",
      "[CV 5/5] END ccp_alpha=1, learning_rate=2.5, n_estimators=100;, score=0.478 total time=   1.5s\n",
      "[CV 1/5] END ccp_alpha=1, learning_rate=2.5, n_estimators=200;, score=0.485 total time=   3.0s\n",
      "[CV 2/5] END ccp_alpha=1, learning_rate=2.5, n_estimators=200;, score=0.485 total time=   2.9s\n"
     ]
    },
    {
     "name": "stdout",
     "output_type": "stream",
     "text": [
      "[CV 3/5] END ccp_alpha=1, learning_rate=2.5, n_estimators=200;, score=0.485 total time=   2.9s\n",
      "[CV 4/5] END ccp_alpha=1, learning_rate=2.5, n_estimators=200;, score=0.478 total time=   3.0s\n",
      "[CV 5/5] END ccp_alpha=1, learning_rate=2.5, n_estimators=200;, score=0.478 total time=   3.1s\n",
      "[CV 1/5] END ccp_alpha=2, learning_rate=0.001, n_estimators=50;, score=0.515 total time=   0.7s\n",
      "[CV 2/5] END ccp_alpha=2, learning_rate=0.001, n_estimators=50;, score=0.515 total time=   0.7s\n",
      "[CV 3/5] END ccp_alpha=2, learning_rate=0.001, n_estimators=50;, score=0.515 total time=   0.7s\n",
      "[CV 4/5] END ccp_alpha=2, learning_rate=0.001, n_estimators=50;, score=0.522 total time=   0.7s\n",
      "[CV 5/5] END ccp_alpha=2, learning_rate=0.001, n_estimators=50;, score=0.522 total time=   0.6s\n",
      "[CV 1/5] END ccp_alpha=2, learning_rate=0.001, n_estimators=100;, score=0.515 total time=   1.4s\n",
      "[CV 2/5] END ccp_alpha=2, learning_rate=0.001, n_estimators=100;, score=0.515 total time=   1.4s\n",
      "[CV 3/5] END ccp_alpha=2, learning_rate=0.001, n_estimators=100;, score=0.515 total time=   1.4s\n",
      "[CV 4/5] END ccp_alpha=2, learning_rate=0.001, n_estimators=100;, score=0.522 total time=   1.4s\n",
      "[CV 5/5] END ccp_alpha=2, learning_rate=0.001, n_estimators=100;, score=0.522 total time=   1.4s\n",
      "[CV 1/5] END ccp_alpha=2, learning_rate=0.001, n_estimators=200;, score=0.515 total time=   2.9s\n",
      "[CV 2/5] END ccp_alpha=2, learning_rate=0.001, n_estimators=200;, score=0.515 total time=   3.1s\n",
      "[CV 3/5] END ccp_alpha=2, learning_rate=0.001, n_estimators=200;, score=0.515 total time=   2.9s\n",
      "[CV 4/5] END ccp_alpha=2, learning_rate=0.001, n_estimators=200;, score=0.522 total time=   3.0s\n",
      "[CV 5/5] END ccp_alpha=2, learning_rate=0.001, n_estimators=200;, score=0.522 total time=   2.9s\n",
      "[CV 1/5] END ccp_alpha=2, learning_rate=0.1, n_estimators=50;, score=0.515 total time=   0.7s\n",
      "[CV 2/5] END ccp_alpha=2, learning_rate=0.1, n_estimators=50;, score=0.515 total time=   0.7s\n",
      "[CV 3/5] END ccp_alpha=2, learning_rate=0.1, n_estimators=50;, score=0.515 total time=   0.7s\n",
      "[CV 4/5] END ccp_alpha=2, learning_rate=0.1, n_estimators=50;, score=0.522 total time=   0.6s\n",
      "[CV 5/5] END ccp_alpha=2, learning_rate=0.1, n_estimators=50;, score=0.522 total time=   0.6s\n",
      "[CV 1/5] END ccp_alpha=2, learning_rate=0.1, n_estimators=100;, score=0.515 total time=   1.5s\n",
      "[CV 2/5] END ccp_alpha=2, learning_rate=0.1, n_estimators=100;, score=0.515 total time=   1.6s\n",
      "[CV 3/5] END ccp_alpha=2, learning_rate=0.1, n_estimators=100;, score=0.515 total time=   1.4s\n",
      "[CV 4/5] END ccp_alpha=2, learning_rate=0.1, n_estimators=100;, score=0.522 total time=   1.4s\n",
      "[CV 5/5] END ccp_alpha=2, learning_rate=0.1, n_estimators=100;, score=0.522 total time=   1.4s\n",
      "[CV 1/5] END ccp_alpha=2, learning_rate=0.1, n_estimators=200;, score=0.515 total time=   3.1s\n",
      "[CV 2/5] END ccp_alpha=2, learning_rate=0.1, n_estimators=200;, score=0.515 total time=   3.0s\n",
      "[CV 3/5] END ccp_alpha=2, learning_rate=0.1, n_estimators=200;, score=0.515 total time=   3.1s\n",
      "[CV 4/5] END ccp_alpha=2, learning_rate=0.1, n_estimators=200;, score=0.522 total time=   3.2s\n",
      "[CV 5/5] END ccp_alpha=2, learning_rate=0.1, n_estimators=200;, score=0.522 total time=   3.1s\n",
      "[CV 1/5] END ccp_alpha=2, learning_rate=1, n_estimators=50;, score=0.515 total time=   0.7s\n",
      "[CV 2/5] END ccp_alpha=2, learning_rate=1, n_estimators=50;, score=0.515 total time=   0.7s\n",
      "[CV 3/5] END ccp_alpha=2, learning_rate=1, n_estimators=50;, score=0.515 total time=   0.7s\n",
      "[CV 4/5] END ccp_alpha=2, learning_rate=1, n_estimators=50;, score=0.522 total time=   0.7s\n",
      "[CV 5/5] END ccp_alpha=2, learning_rate=1, n_estimators=50;, score=0.522 total time=   0.7s\n",
      "[CV 1/5] END ccp_alpha=2, learning_rate=1, n_estimators=100;, score=0.515 total time=   1.5s\n",
      "[CV 2/5] END ccp_alpha=2, learning_rate=1, n_estimators=100;, score=0.515 total time=   1.5s\n",
      "[CV 3/5] END ccp_alpha=2, learning_rate=1, n_estimators=100;, score=0.515 total time=   1.6s\n",
      "[CV 4/5] END ccp_alpha=2, learning_rate=1, n_estimators=100;, score=0.522 total time=   1.6s\n",
      "[CV 5/5] END ccp_alpha=2, learning_rate=1, n_estimators=100;, score=0.522 total time=   1.5s\n",
      "[CV 1/5] END ccp_alpha=2, learning_rate=1, n_estimators=200;, score=0.515 total time=   3.0s\n",
      "[CV 2/5] END ccp_alpha=2, learning_rate=1, n_estimators=200;, score=0.515 total time=   3.0s\n",
      "[CV 3/5] END ccp_alpha=2, learning_rate=1, n_estimators=200;, score=0.515 total time=   3.0s\n",
      "[CV 4/5] END ccp_alpha=2, learning_rate=1, n_estimators=200;, score=0.522 total time=   3.0s\n",
      "[CV 5/5] END ccp_alpha=2, learning_rate=1, n_estimators=200;, score=0.522 total time=   3.3s\n",
      "[CV 1/5] END ccp_alpha=2, learning_rate=1.5, n_estimators=50;, score=0.515 total time=   0.6s\n",
      "[CV 2/5] END ccp_alpha=2, learning_rate=1.5, n_estimators=50;, score=0.515 total time=   0.6s\n",
      "[CV 3/5] END ccp_alpha=2, learning_rate=1.5, n_estimators=50;, score=0.515 total time=   0.7s\n",
      "[CV 4/5] END ccp_alpha=2, learning_rate=1.5, n_estimators=50;, score=0.522 total time=   0.7s\n",
      "[CV 5/5] END ccp_alpha=2, learning_rate=1.5, n_estimators=50;, score=0.522 total time=   0.7s\n",
      "[CV 1/5] END ccp_alpha=2, learning_rate=1.5, n_estimators=100;, score=0.515 total time=   1.5s\n",
      "[CV 2/5] END ccp_alpha=2, learning_rate=1.5, n_estimators=100;, score=0.515 total time=   1.5s\n",
      "[CV 3/5] END ccp_alpha=2, learning_rate=1.5, n_estimators=100;, score=0.515 total time=   1.4s\n",
      "[CV 4/5] END ccp_alpha=2, learning_rate=1.5, n_estimators=100;, score=0.522 total time=   1.6s\n",
      "[CV 5/5] END ccp_alpha=2, learning_rate=1.5, n_estimators=100;, score=0.522 total time=   1.5s\n",
      "[CV 1/5] END ccp_alpha=2, learning_rate=1.5, n_estimators=200;, score=0.515 total time=   3.2s\n",
      "[CV 2/5] END ccp_alpha=2, learning_rate=1.5, n_estimators=200;, score=0.515 total time=   3.0s\n",
      "[CV 3/5] END ccp_alpha=2, learning_rate=1.5, n_estimators=200;, score=0.515 total time=   2.8s\n",
      "[CV 4/5] END ccp_alpha=2, learning_rate=1.5, n_estimators=200;, score=0.522 total time=   2.9s\n",
      "[CV 5/5] END ccp_alpha=2, learning_rate=1.5, n_estimators=200;, score=0.522 total time=   2.9s\n",
      "[CV 1/5] END ccp_alpha=2, learning_rate=2, n_estimators=50;, score=0.515 total time=   0.7s\n",
      "[CV 2/5] END ccp_alpha=2, learning_rate=2, n_estimators=50;, score=0.515 total time=   0.7s\n",
      "[CV 3/5] END ccp_alpha=2, learning_rate=2, n_estimators=50;, score=0.515 total time=   0.7s\n",
      "[CV 4/5] END ccp_alpha=2, learning_rate=2, n_estimators=50;, score=0.522 total time=   0.8s\n",
      "[CV 5/5] END ccp_alpha=2, learning_rate=2, n_estimators=50;, score=0.522 total time=   0.7s\n",
      "[CV 1/5] END ccp_alpha=2, learning_rate=2, n_estimators=100;, score=0.515 total time=   1.4s\n",
      "[CV 2/5] END ccp_alpha=2, learning_rate=2, n_estimators=100;, score=0.515 total time=   1.4s\n",
      "[CV 3/5] END ccp_alpha=2, learning_rate=2, n_estimators=100;, score=0.515 total time=   1.5s\n",
      "[CV 4/5] END ccp_alpha=2, learning_rate=2, n_estimators=100;, score=0.522 total time=   1.5s\n",
      "[CV 5/5] END ccp_alpha=2, learning_rate=2, n_estimators=100;, score=0.522 total time=   1.5s\n",
      "[CV 1/5] END ccp_alpha=2, learning_rate=2, n_estimators=200;, score=0.515 total time=   3.0s\n",
      "[CV 2/5] END ccp_alpha=2, learning_rate=2, n_estimators=200;, score=0.515 total time=   2.9s\n",
      "[CV 3/5] END ccp_alpha=2, learning_rate=2, n_estimators=200;, score=0.515 total time=   3.2s\n",
      "[CV 4/5] END ccp_alpha=2, learning_rate=2, n_estimators=200;, score=0.522 total time=   2.9s\n",
      "[CV 5/5] END ccp_alpha=2, learning_rate=2, n_estimators=200;, score=0.522 total time=   2.9s\n",
      "[CV 1/5] END ccp_alpha=2, learning_rate=2.5, n_estimators=50;, score=0.515 total time=   0.7s\n",
      "[CV 2/5] END ccp_alpha=2, learning_rate=2.5, n_estimators=50;, score=0.515 total time=   0.6s\n",
      "[CV 3/5] END ccp_alpha=2, learning_rate=2.5, n_estimators=50;, score=0.515 total time=   0.6s\n",
      "[CV 4/5] END ccp_alpha=2, learning_rate=2.5, n_estimators=50;, score=0.522 total time=   0.6s\n",
      "[CV 5/5] END ccp_alpha=2, learning_rate=2.5, n_estimators=50;, score=0.522 total time=   0.8s\n",
      "[CV 1/5] END ccp_alpha=2, learning_rate=2.5, n_estimators=100;, score=0.485 total time=   1.5s\n",
      "[CV 2/5] END ccp_alpha=2, learning_rate=2.5, n_estimators=100;, score=0.485 total time=   1.6s\n",
      "[CV 3/5] END ccp_alpha=2, learning_rate=2.5, n_estimators=100;, score=0.485 total time=   1.7s\n",
      "[CV 4/5] END ccp_alpha=2, learning_rate=2.5, n_estimators=100;, score=0.478 total time=   1.4s\n"
     ]
    },
    {
     "name": "stdout",
     "output_type": "stream",
     "text": [
      "[CV 5/5] END ccp_alpha=2, learning_rate=2.5, n_estimators=100;, score=0.478 total time=   1.4s\n",
      "[CV 1/5] END ccp_alpha=2, learning_rate=2.5, n_estimators=200;, score=0.485 total time=   2.9s\n",
      "[CV 2/5] END ccp_alpha=2, learning_rate=2.5, n_estimators=200;, score=0.485 total time=   2.8s\n",
      "[CV 3/5] END ccp_alpha=2, learning_rate=2.5, n_estimators=200;, score=0.485 total time=   2.9s\n",
      "[CV 4/5] END ccp_alpha=2, learning_rate=2.5, n_estimators=200;, score=0.478 total time=   2.9s\n",
      "[CV 5/5] END ccp_alpha=2, learning_rate=2.5, n_estimators=200;, score=0.478 total time=   3.0s\n"
     ]
    },
    {
     "data": {
      "text/html": [
       "<style>#sk-container-id-3 {color: black;}#sk-container-id-3 pre{padding: 0;}#sk-container-id-3 div.sk-toggleable {background-color: white;}#sk-container-id-3 label.sk-toggleable__label {cursor: pointer;display: block;width: 100%;margin-bottom: 0;padding: 0.3em;box-sizing: border-box;text-align: center;}#sk-container-id-3 label.sk-toggleable__label-arrow:before {content: \"▸\";float: left;margin-right: 0.25em;color: #696969;}#sk-container-id-3 label.sk-toggleable__label-arrow:hover:before {color: black;}#sk-container-id-3 div.sk-estimator:hover label.sk-toggleable__label-arrow:before {color: black;}#sk-container-id-3 div.sk-toggleable__content {max-height: 0;max-width: 0;overflow: hidden;text-align: left;background-color: #f0f8ff;}#sk-container-id-3 div.sk-toggleable__content pre {margin: 0.2em;color: black;border-radius: 0.25em;background-color: #f0f8ff;}#sk-container-id-3 input.sk-toggleable__control:checked~div.sk-toggleable__content {max-height: 200px;max-width: 100%;overflow: auto;}#sk-container-id-3 input.sk-toggleable__control:checked~label.sk-toggleable__label-arrow:before {content: \"▾\";}#sk-container-id-3 div.sk-estimator input.sk-toggleable__control:checked~label.sk-toggleable__label {background-color: #d4ebff;}#sk-container-id-3 div.sk-label input.sk-toggleable__control:checked~label.sk-toggleable__label {background-color: #d4ebff;}#sk-container-id-3 input.sk-hidden--visually {border: 0;clip: rect(1px 1px 1px 1px);clip: rect(1px, 1px, 1px, 1px);height: 1px;margin: -1px;overflow: hidden;padding: 0;position: absolute;width: 1px;}#sk-container-id-3 div.sk-estimator {font-family: monospace;background-color: #f0f8ff;border: 1px dotted black;border-radius: 0.25em;box-sizing: border-box;margin-bottom: 0.5em;}#sk-container-id-3 div.sk-estimator:hover {background-color: #d4ebff;}#sk-container-id-3 div.sk-parallel-item::after {content: \"\";width: 100%;border-bottom: 1px solid gray;flex-grow: 1;}#sk-container-id-3 div.sk-label:hover label.sk-toggleable__label {background-color: #d4ebff;}#sk-container-id-3 div.sk-serial::before {content: \"\";position: absolute;border-left: 1px solid gray;box-sizing: border-box;top: 0;bottom: 0;left: 50%;z-index: 0;}#sk-container-id-3 div.sk-serial {display: flex;flex-direction: column;align-items: center;background-color: white;padding-right: 0.2em;padding-left: 0.2em;position: relative;}#sk-container-id-3 div.sk-item {position: relative;z-index: 1;}#sk-container-id-3 div.sk-parallel {display: flex;align-items: stretch;justify-content: center;background-color: white;position: relative;}#sk-container-id-3 div.sk-item::before, #sk-container-id-3 div.sk-parallel-item::before {content: \"\";position: absolute;border-left: 1px solid gray;box-sizing: border-box;top: 0;bottom: 0;left: 50%;z-index: -1;}#sk-container-id-3 div.sk-parallel-item {display: flex;flex-direction: column;z-index: 1;position: relative;background-color: white;}#sk-container-id-3 div.sk-parallel-item:first-child::after {align-self: flex-end;width: 50%;}#sk-container-id-3 div.sk-parallel-item:last-child::after {align-self: flex-start;width: 50%;}#sk-container-id-3 div.sk-parallel-item:only-child::after {width: 0;}#sk-container-id-3 div.sk-dashed-wrapped {border: 1px dashed gray;margin: 0 0.4em 0.5em 0.4em;box-sizing: border-box;padding-bottom: 0.4em;background-color: white;}#sk-container-id-3 div.sk-label label {font-family: monospace;font-weight: bold;display: inline-block;line-height: 1.2em;}#sk-container-id-3 div.sk-label-container {text-align: center;}#sk-container-id-3 div.sk-container {/* jupyter's `normalize.less` sets `[hidden] { display: none; }` but bootstrap.min.css set `[hidden] { display: none !important; }` so we also need the `!important` here to be able to override the default hidden behavior on the sphinx rendered scikit-learn.org. See: https://github.com/scikit-learn/scikit-learn/issues/21755 */display: inline-block !important;position: relative;}#sk-container-id-3 div.sk-text-repr-fallback {display: none;}</style><div id=\"sk-container-id-3\" class=\"sk-top-container\"><div class=\"sk-text-repr-fallback\"><pre>GridSearchCV(cv=5, estimator=GradientBoostingClassifier(),\n",
       "             param_grid={&#x27;ccp_alpha&#x27;: [1, 2],\n",
       "                         &#x27;learning_rate&#x27;: [0.001, 0.1, 1, 1.5, 2, 2.5],\n",
       "                         &#x27;n_estimators&#x27;: [50, 100, 200]},\n",
       "             verbose=3)</pre><b>In a Jupyter environment, please rerun this cell to show the HTML representation or trust the notebook. <br />On GitHub, the HTML representation is unable to render, please try loading this page with nbviewer.org.</b></div><div class=\"sk-container\" hidden><div class=\"sk-item sk-dashed-wrapped\"><div class=\"sk-label-container\"><div class=\"sk-label sk-toggleable\"><input class=\"sk-toggleable__control sk-hidden--visually\" id=\"sk-estimator-id-5\" type=\"checkbox\" ><label for=\"sk-estimator-id-5\" class=\"sk-toggleable__label sk-toggleable__label-arrow\">GridSearchCV</label><div class=\"sk-toggleable__content\"><pre>GridSearchCV(cv=5, estimator=GradientBoostingClassifier(),\n",
       "             param_grid={&#x27;ccp_alpha&#x27;: [1, 2],\n",
       "                         &#x27;learning_rate&#x27;: [0.001, 0.1, 1, 1.5, 2, 2.5],\n",
       "                         &#x27;n_estimators&#x27;: [50, 100, 200]},\n",
       "             verbose=3)</pre></div></div></div><div class=\"sk-parallel\"><div class=\"sk-parallel-item\"><div class=\"sk-item\"><div class=\"sk-label-container\"><div class=\"sk-label sk-toggleable\"><input class=\"sk-toggleable__control sk-hidden--visually\" id=\"sk-estimator-id-6\" type=\"checkbox\" ><label for=\"sk-estimator-id-6\" class=\"sk-toggleable__label sk-toggleable__label-arrow\">estimator: GradientBoostingClassifier</label><div class=\"sk-toggleable__content\"><pre>GradientBoostingClassifier()</pre></div></div></div><div class=\"sk-serial\"><div class=\"sk-item\"><div class=\"sk-estimator sk-toggleable\"><input class=\"sk-toggleable__control sk-hidden--visually\" id=\"sk-estimator-id-7\" type=\"checkbox\" ><label for=\"sk-estimator-id-7\" class=\"sk-toggleable__label sk-toggleable__label-arrow\">GradientBoostingClassifier</label><div class=\"sk-toggleable__content\"><pre>GradientBoostingClassifier()</pre></div></div></div></div></div></div></div></div></div></div>"
      ],
      "text/plain": [
       "GridSearchCV(cv=5, estimator=GradientBoostingClassifier(),\n",
       "             param_grid={'ccp_alpha': [1, 2],\n",
       "                         'learning_rate': [0.001, 0.1, 1, 1.5, 2, 2.5],\n",
       "                         'n_estimators': [50, 100, 200]},\n",
       "             verbose=3)"
      ]
     },
     "execution_count": 15,
     "metadata": {},
     "output_type": "execute_result"
    }
   ],
   "source": [
    "clf.fit(x_train,y_train)"
   ]
  },
  {
   "cell_type": "code",
   "execution_count": 20,
   "id": "9e5dce06",
   "metadata": {},
   "outputs": [
    {
     "data": {
      "text/plain": [
       "{'ccp_alpha': 1, 'learning_rate': 0.001, 'n_estimators': 50}"
      ]
     },
     "execution_count": 20,
     "metadata": {},
     "output_type": "execute_result"
    }
   ],
   "source": [
    "clf.best_params_"
   ]
  },
  {
   "cell_type": "code",
   "execution_count": 17,
   "id": "e1a36fea",
   "metadata": {},
   "outputs": [
    {
     "data": {
      "text/plain": [
       "0.5179104477611941"
      ]
     },
     "execution_count": 17,
     "metadata": {},
     "output_type": "execute_result"
    }
   ],
   "source": [
    "clf.best_score_"
   ]
  },
  {
   "cell_type": "code",
   "execution_count": 18,
   "id": "21543e4b",
   "metadata": {},
   "outputs": [],
   "source": [
    "best_model=clf.best_estimator_"
   ]
  },
  {
   "cell_type": "code",
   "execution_count": 19,
   "id": "fd31bf22",
   "metadata": {},
   "outputs": [],
   "source": [
    "y_pred=best_model.predict(x_test)"
   ]
  },
  {
   "cell_type": "code",
   "execution_count": 22,
   "id": "4a52bf84",
   "metadata": {},
   "outputs": [
    {
     "data": {
      "text/plain": [
       "0.4666666666666667"
      ]
     },
     "execution_count": 22,
     "metadata": {},
     "output_type": "execute_result"
    }
   ],
   "source": [
    "accuracy_score(y_test,y_pred)"
   ]
  },
  {
   "cell_type": "markdown",
   "id": "759486a0",
   "metadata": {},
   "source": [
    "## Gradient Boosting regressor"
   ]
  },
  {
   "cell_type": "code",
   "execution_count": 24,
   "id": "256a7b63",
   "metadata": {},
   "outputs": [],
   "source": [
    "from sklearn.datasets import make_regression\n",
    "from sklearn.model_selection import train_test_split\n",
    "from sklearn.ensemble import GradientBoostingRegressor\n",
    "\n"
   ]
  },
  {
   "cell_type": "code",
   "execution_count": 25,
   "id": "3b3a6d6c",
   "metadata": {},
   "outputs": [],
   "source": [
    "x, y = make_regression(n_samples=1000, n_features=2, noise = 10, random_state=1)\n",
    "x_train, x_test, y_train, y_test = train_test_split(x, y, test_size = 0.33, random_state=1)"
   ]
  },
  {
   "cell_type": "code",
   "execution_count": 26,
   "id": "53b6b691",
   "metadata": {},
   "outputs": [],
   "source": [
    "reg=GradientBoostingRegressor()\n",
    "\n"
   ]
  },
  {
   "cell_type": "code",
   "execution_count": 27,
   "id": "e5fa2793",
   "metadata": {},
   "outputs": [
    {
     "data": {
      "text/html": [
       "<style>#sk-container-id-4 {color: black;}#sk-container-id-4 pre{padding: 0;}#sk-container-id-4 div.sk-toggleable {background-color: white;}#sk-container-id-4 label.sk-toggleable__label {cursor: pointer;display: block;width: 100%;margin-bottom: 0;padding: 0.3em;box-sizing: border-box;text-align: center;}#sk-container-id-4 label.sk-toggleable__label-arrow:before {content: \"▸\";float: left;margin-right: 0.25em;color: #696969;}#sk-container-id-4 label.sk-toggleable__label-arrow:hover:before {color: black;}#sk-container-id-4 div.sk-estimator:hover label.sk-toggleable__label-arrow:before {color: black;}#sk-container-id-4 div.sk-toggleable__content {max-height: 0;max-width: 0;overflow: hidden;text-align: left;background-color: #f0f8ff;}#sk-container-id-4 div.sk-toggleable__content pre {margin: 0.2em;color: black;border-radius: 0.25em;background-color: #f0f8ff;}#sk-container-id-4 input.sk-toggleable__control:checked~div.sk-toggleable__content {max-height: 200px;max-width: 100%;overflow: auto;}#sk-container-id-4 input.sk-toggleable__control:checked~label.sk-toggleable__label-arrow:before {content: \"▾\";}#sk-container-id-4 div.sk-estimator input.sk-toggleable__control:checked~label.sk-toggleable__label {background-color: #d4ebff;}#sk-container-id-4 div.sk-label input.sk-toggleable__control:checked~label.sk-toggleable__label {background-color: #d4ebff;}#sk-container-id-4 input.sk-hidden--visually {border: 0;clip: rect(1px 1px 1px 1px);clip: rect(1px, 1px, 1px, 1px);height: 1px;margin: -1px;overflow: hidden;padding: 0;position: absolute;width: 1px;}#sk-container-id-4 div.sk-estimator {font-family: monospace;background-color: #f0f8ff;border: 1px dotted black;border-radius: 0.25em;box-sizing: border-box;margin-bottom: 0.5em;}#sk-container-id-4 div.sk-estimator:hover {background-color: #d4ebff;}#sk-container-id-4 div.sk-parallel-item::after {content: \"\";width: 100%;border-bottom: 1px solid gray;flex-grow: 1;}#sk-container-id-4 div.sk-label:hover label.sk-toggleable__label {background-color: #d4ebff;}#sk-container-id-4 div.sk-serial::before {content: \"\";position: absolute;border-left: 1px solid gray;box-sizing: border-box;top: 0;bottom: 0;left: 50%;z-index: 0;}#sk-container-id-4 div.sk-serial {display: flex;flex-direction: column;align-items: center;background-color: white;padding-right: 0.2em;padding-left: 0.2em;position: relative;}#sk-container-id-4 div.sk-item {position: relative;z-index: 1;}#sk-container-id-4 div.sk-parallel {display: flex;align-items: stretch;justify-content: center;background-color: white;position: relative;}#sk-container-id-4 div.sk-item::before, #sk-container-id-4 div.sk-parallel-item::before {content: \"\";position: absolute;border-left: 1px solid gray;box-sizing: border-box;top: 0;bottom: 0;left: 50%;z-index: -1;}#sk-container-id-4 div.sk-parallel-item {display: flex;flex-direction: column;z-index: 1;position: relative;background-color: white;}#sk-container-id-4 div.sk-parallel-item:first-child::after {align-self: flex-end;width: 50%;}#sk-container-id-4 div.sk-parallel-item:last-child::after {align-self: flex-start;width: 50%;}#sk-container-id-4 div.sk-parallel-item:only-child::after {width: 0;}#sk-container-id-4 div.sk-dashed-wrapped {border: 1px dashed gray;margin: 0 0.4em 0.5em 0.4em;box-sizing: border-box;padding-bottom: 0.4em;background-color: white;}#sk-container-id-4 div.sk-label label {font-family: monospace;font-weight: bold;display: inline-block;line-height: 1.2em;}#sk-container-id-4 div.sk-label-container {text-align: center;}#sk-container-id-4 div.sk-container {/* jupyter's `normalize.less` sets `[hidden] { display: none; }` but bootstrap.min.css set `[hidden] { display: none !important; }` so we also need the `!important` here to be able to override the default hidden behavior on the sphinx rendered scikit-learn.org. See: https://github.com/scikit-learn/scikit-learn/issues/21755 */display: inline-block !important;position: relative;}#sk-container-id-4 div.sk-text-repr-fallback {display: none;}</style><div id=\"sk-container-id-4\" class=\"sk-top-container\"><div class=\"sk-text-repr-fallback\"><pre>GradientBoostingRegressor()</pre><b>In a Jupyter environment, please rerun this cell to show the HTML representation or trust the notebook. <br />On GitHub, the HTML representation is unable to render, please try loading this page with nbviewer.org.</b></div><div class=\"sk-container\" hidden><div class=\"sk-item\"><div class=\"sk-estimator sk-toggleable\"><input class=\"sk-toggleable__control sk-hidden--visually\" id=\"sk-estimator-id-8\" type=\"checkbox\" checked><label for=\"sk-estimator-id-8\" class=\"sk-toggleable__label sk-toggleable__label-arrow\">GradientBoostingRegressor</label><div class=\"sk-toggleable__content\"><pre>GradientBoostingRegressor()</pre></div></div></div></div></div>"
      ],
      "text/plain": [
       "GradientBoostingRegressor()"
      ]
     },
     "execution_count": 27,
     "metadata": {},
     "output_type": "execute_result"
    }
   ],
   "source": [
    "reg"
   ]
  },
  {
   "cell_type": "code",
   "execution_count": 28,
   "id": "48c304b7",
   "metadata": {},
   "outputs": [
    {
     "data": {
      "text/html": [
       "<style>#sk-container-id-5 {color: black;}#sk-container-id-5 pre{padding: 0;}#sk-container-id-5 div.sk-toggleable {background-color: white;}#sk-container-id-5 label.sk-toggleable__label {cursor: pointer;display: block;width: 100%;margin-bottom: 0;padding: 0.3em;box-sizing: border-box;text-align: center;}#sk-container-id-5 label.sk-toggleable__label-arrow:before {content: \"▸\";float: left;margin-right: 0.25em;color: #696969;}#sk-container-id-5 label.sk-toggleable__label-arrow:hover:before {color: black;}#sk-container-id-5 div.sk-estimator:hover label.sk-toggleable__label-arrow:before {color: black;}#sk-container-id-5 div.sk-toggleable__content {max-height: 0;max-width: 0;overflow: hidden;text-align: left;background-color: #f0f8ff;}#sk-container-id-5 div.sk-toggleable__content pre {margin: 0.2em;color: black;border-radius: 0.25em;background-color: #f0f8ff;}#sk-container-id-5 input.sk-toggleable__control:checked~div.sk-toggleable__content {max-height: 200px;max-width: 100%;overflow: auto;}#sk-container-id-5 input.sk-toggleable__control:checked~label.sk-toggleable__label-arrow:before {content: \"▾\";}#sk-container-id-5 div.sk-estimator input.sk-toggleable__control:checked~label.sk-toggleable__label {background-color: #d4ebff;}#sk-container-id-5 div.sk-label input.sk-toggleable__control:checked~label.sk-toggleable__label {background-color: #d4ebff;}#sk-container-id-5 input.sk-hidden--visually {border: 0;clip: rect(1px 1px 1px 1px);clip: rect(1px, 1px, 1px, 1px);height: 1px;margin: -1px;overflow: hidden;padding: 0;position: absolute;width: 1px;}#sk-container-id-5 div.sk-estimator {font-family: monospace;background-color: #f0f8ff;border: 1px dotted black;border-radius: 0.25em;box-sizing: border-box;margin-bottom: 0.5em;}#sk-container-id-5 div.sk-estimator:hover {background-color: #d4ebff;}#sk-container-id-5 div.sk-parallel-item::after {content: \"\";width: 100%;border-bottom: 1px solid gray;flex-grow: 1;}#sk-container-id-5 div.sk-label:hover label.sk-toggleable__label {background-color: #d4ebff;}#sk-container-id-5 div.sk-serial::before {content: \"\";position: absolute;border-left: 1px solid gray;box-sizing: border-box;top: 0;bottom: 0;left: 50%;z-index: 0;}#sk-container-id-5 div.sk-serial {display: flex;flex-direction: column;align-items: center;background-color: white;padding-right: 0.2em;padding-left: 0.2em;position: relative;}#sk-container-id-5 div.sk-item {position: relative;z-index: 1;}#sk-container-id-5 div.sk-parallel {display: flex;align-items: stretch;justify-content: center;background-color: white;position: relative;}#sk-container-id-5 div.sk-item::before, #sk-container-id-5 div.sk-parallel-item::before {content: \"\";position: absolute;border-left: 1px solid gray;box-sizing: border-box;top: 0;bottom: 0;left: 50%;z-index: -1;}#sk-container-id-5 div.sk-parallel-item {display: flex;flex-direction: column;z-index: 1;position: relative;background-color: white;}#sk-container-id-5 div.sk-parallel-item:first-child::after {align-self: flex-end;width: 50%;}#sk-container-id-5 div.sk-parallel-item:last-child::after {align-self: flex-start;width: 50%;}#sk-container-id-5 div.sk-parallel-item:only-child::after {width: 0;}#sk-container-id-5 div.sk-dashed-wrapped {border: 1px dashed gray;margin: 0 0.4em 0.5em 0.4em;box-sizing: border-box;padding-bottom: 0.4em;background-color: white;}#sk-container-id-5 div.sk-label label {font-family: monospace;font-weight: bold;display: inline-block;line-height: 1.2em;}#sk-container-id-5 div.sk-label-container {text-align: center;}#sk-container-id-5 div.sk-container {/* jupyter's `normalize.less` sets `[hidden] { display: none; }` but bootstrap.min.css set `[hidden] { display: none !important; }` so we also need the `!important` here to be able to override the default hidden behavior on the sphinx rendered scikit-learn.org. See: https://github.com/scikit-learn/scikit-learn/issues/21755 */display: inline-block !important;position: relative;}#sk-container-id-5 div.sk-text-repr-fallback {display: none;}</style><div id=\"sk-container-id-5\" class=\"sk-top-container\"><div class=\"sk-text-repr-fallback\"><pre>GradientBoostingRegressor()</pre><b>In a Jupyter environment, please rerun this cell to show the HTML representation or trust the notebook. <br />On GitHub, the HTML representation is unable to render, please try loading this page with nbviewer.org.</b></div><div class=\"sk-container\" hidden><div class=\"sk-item\"><div class=\"sk-estimator sk-toggleable\"><input class=\"sk-toggleable__control sk-hidden--visually\" id=\"sk-estimator-id-9\" type=\"checkbox\" checked><label for=\"sk-estimator-id-9\" class=\"sk-toggleable__label sk-toggleable__label-arrow\">GradientBoostingRegressor</label><div class=\"sk-toggleable__content\"><pre>GradientBoostingRegressor()</pre></div></div></div></div></div>"
      ],
      "text/plain": [
       "GradientBoostingRegressor()"
      ]
     },
     "execution_count": 28,
     "metadata": {},
     "output_type": "execute_result"
    }
   ],
   "source": [
    "reg.fit(x_train,y_train)"
   ]
  },
  {
   "cell_type": "code",
   "execution_count": 29,
   "id": "6ec648c3",
   "metadata": {},
   "outputs": [],
   "source": [
    "y_pred=reg.predict(x_test)"
   ]
  },
  {
   "cell_type": "code",
   "execution_count": 30,
   "id": "0d1faf10",
   "metadata": {},
   "outputs": [
    {
     "data": {
      "text/plain": [
       "0.9824489281939883"
      ]
     },
     "execution_count": 30,
     "metadata": {},
     "output_type": "execute_result"
    }
   ],
   "source": [
    "r2_score(y_test,y_pred)"
   ]
  },
  {
   "cell_type": "code",
   "execution_count": 31,
   "id": "a777f392",
   "metadata": {},
   "outputs": [
    {
     "data": {
      "text/html": [
       "<style>#sk-container-id-6 {color: black;}#sk-container-id-6 pre{padding: 0;}#sk-container-id-6 div.sk-toggleable {background-color: white;}#sk-container-id-6 label.sk-toggleable__label {cursor: pointer;display: block;width: 100%;margin-bottom: 0;padding: 0.3em;box-sizing: border-box;text-align: center;}#sk-container-id-6 label.sk-toggleable__label-arrow:before {content: \"▸\";float: left;margin-right: 0.25em;color: #696969;}#sk-container-id-6 label.sk-toggleable__label-arrow:hover:before {color: black;}#sk-container-id-6 div.sk-estimator:hover label.sk-toggleable__label-arrow:before {color: black;}#sk-container-id-6 div.sk-toggleable__content {max-height: 0;max-width: 0;overflow: hidden;text-align: left;background-color: #f0f8ff;}#sk-container-id-6 div.sk-toggleable__content pre {margin: 0.2em;color: black;border-radius: 0.25em;background-color: #f0f8ff;}#sk-container-id-6 input.sk-toggleable__control:checked~div.sk-toggleable__content {max-height: 200px;max-width: 100%;overflow: auto;}#sk-container-id-6 input.sk-toggleable__control:checked~label.sk-toggleable__label-arrow:before {content: \"▾\";}#sk-container-id-6 div.sk-estimator input.sk-toggleable__control:checked~label.sk-toggleable__label {background-color: #d4ebff;}#sk-container-id-6 div.sk-label input.sk-toggleable__control:checked~label.sk-toggleable__label {background-color: #d4ebff;}#sk-container-id-6 input.sk-hidden--visually {border: 0;clip: rect(1px 1px 1px 1px);clip: rect(1px, 1px, 1px, 1px);height: 1px;margin: -1px;overflow: hidden;padding: 0;position: absolute;width: 1px;}#sk-container-id-6 div.sk-estimator {font-family: monospace;background-color: #f0f8ff;border: 1px dotted black;border-radius: 0.25em;box-sizing: border-box;margin-bottom: 0.5em;}#sk-container-id-6 div.sk-estimator:hover {background-color: #d4ebff;}#sk-container-id-6 div.sk-parallel-item::after {content: \"\";width: 100%;border-bottom: 1px solid gray;flex-grow: 1;}#sk-container-id-6 div.sk-label:hover label.sk-toggleable__label {background-color: #d4ebff;}#sk-container-id-6 div.sk-serial::before {content: \"\";position: absolute;border-left: 1px solid gray;box-sizing: border-box;top: 0;bottom: 0;left: 50%;z-index: 0;}#sk-container-id-6 div.sk-serial {display: flex;flex-direction: column;align-items: center;background-color: white;padding-right: 0.2em;padding-left: 0.2em;position: relative;}#sk-container-id-6 div.sk-item {position: relative;z-index: 1;}#sk-container-id-6 div.sk-parallel {display: flex;align-items: stretch;justify-content: center;background-color: white;position: relative;}#sk-container-id-6 div.sk-item::before, #sk-container-id-6 div.sk-parallel-item::before {content: \"\";position: absolute;border-left: 1px solid gray;box-sizing: border-box;top: 0;bottom: 0;left: 50%;z-index: -1;}#sk-container-id-6 div.sk-parallel-item {display: flex;flex-direction: column;z-index: 1;position: relative;background-color: white;}#sk-container-id-6 div.sk-parallel-item:first-child::after {align-self: flex-end;width: 50%;}#sk-container-id-6 div.sk-parallel-item:last-child::after {align-self: flex-start;width: 50%;}#sk-container-id-6 div.sk-parallel-item:only-child::after {width: 0;}#sk-container-id-6 div.sk-dashed-wrapped {border: 1px dashed gray;margin: 0 0.4em 0.5em 0.4em;box-sizing: border-box;padding-bottom: 0.4em;background-color: white;}#sk-container-id-6 div.sk-label label {font-family: monospace;font-weight: bold;display: inline-block;line-height: 1.2em;}#sk-container-id-6 div.sk-label-container {text-align: center;}#sk-container-id-6 div.sk-container {/* jupyter's `normalize.less` sets `[hidden] { display: none; }` but bootstrap.min.css set `[hidden] { display: none !important; }` so we also need the `!important` here to be able to override the default hidden behavior on the sphinx rendered scikit-learn.org. See: https://github.com/scikit-learn/scikit-learn/issues/21755 */display: inline-block !important;position: relative;}#sk-container-id-6 div.sk-text-repr-fallback {display: none;}</style><div id=\"sk-container-id-6\" class=\"sk-top-container\"><div class=\"sk-text-repr-fallback\"><pre>GridSearchCV(cv=5, estimator=GradientBoostingRegressor(),\n",
       "             param_grid={&#x27;learning_rate&#x27;: [0.001, 0.1, 1, 1.5, 2, 2.5],\n",
       "                         &#x27;n_estimators&#x27;: [50, 100, 200]},\n",
       "             verbose=3)</pre><b>In a Jupyter environment, please rerun this cell to show the HTML representation or trust the notebook. <br />On GitHub, the HTML representation is unable to render, please try loading this page with nbviewer.org.</b></div><div class=\"sk-container\" hidden><div class=\"sk-item sk-dashed-wrapped\"><div class=\"sk-label-container\"><div class=\"sk-label sk-toggleable\"><input class=\"sk-toggleable__control sk-hidden--visually\" id=\"sk-estimator-id-10\" type=\"checkbox\" ><label for=\"sk-estimator-id-10\" class=\"sk-toggleable__label sk-toggleable__label-arrow\">GridSearchCV</label><div class=\"sk-toggleable__content\"><pre>GridSearchCV(cv=5, estimator=GradientBoostingRegressor(),\n",
       "             param_grid={&#x27;learning_rate&#x27;: [0.001, 0.1, 1, 1.5, 2, 2.5],\n",
       "                         &#x27;n_estimators&#x27;: [50, 100, 200]},\n",
       "             verbose=3)</pre></div></div></div><div class=\"sk-parallel\"><div class=\"sk-parallel-item\"><div class=\"sk-item\"><div class=\"sk-label-container\"><div class=\"sk-label sk-toggleable\"><input class=\"sk-toggleable__control sk-hidden--visually\" id=\"sk-estimator-id-11\" type=\"checkbox\" ><label for=\"sk-estimator-id-11\" class=\"sk-toggleable__label sk-toggleable__label-arrow\">estimator: GradientBoostingRegressor</label><div class=\"sk-toggleable__content\"><pre>GradientBoostingRegressor()</pre></div></div></div><div class=\"sk-serial\"><div class=\"sk-item\"><div class=\"sk-estimator sk-toggleable\"><input class=\"sk-toggleable__control sk-hidden--visually\" id=\"sk-estimator-id-12\" type=\"checkbox\" ><label for=\"sk-estimator-id-12\" class=\"sk-toggleable__label sk-toggleable__label-arrow\">GradientBoostingRegressor</label><div class=\"sk-toggleable__content\"><pre>GradientBoostingRegressor()</pre></div></div></div></div></div></div></div></div></div></div>"
      ],
      "text/plain": [
       "GridSearchCV(cv=5, estimator=GradientBoostingRegressor(),\n",
       "             param_grid={'learning_rate': [0.001, 0.1, 1, 1.5, 2, 2.5],\n",
       "                         'n_estimators': [50, 100, 200]},\n",
       "             verbose=3)"
      ]
     },
     "execution_count": 31,
     "metadata": {},
     "output_type": "execute_result"
    }
   ],
   "source": [
    "from sklearn.model_selection import GridSearchCV\n",
    "param_grid = {\"n_estimators\": [50, 100, 200],\n",
    "             \"learning_rate\": [0.001, 0.1, 1, 1.5, 2, 2.5],}\n",
    "\n",
    "adr =  GradientBoostingRegressor()\n",
    "\n",
    "reg = GridSearchCV(estimator=adr, param_grid=param_grid, cv = 5, verbose = 3)\n",
    "reg"
   ]
  },
  {
   "cell_type": "code",
   "execution_count": 32,
   "id": "453b09d9",
   "metadata": {},
   "outputs": [
    {
     "name": "stdout",
     "output_type": "stream",
     "text": [
      "Fitting 5 folds for each of 18 candidates, totalling 90 fits\n",
      "[CV 1/5] END learning_rate=0.001, n_estimators=50;, score=0.058 total time=   0.0s\n",
      "[CV 2/5] END learning_rate=0.001, n_estimators=50;, score=0.054 total time=   0.0s\n",
      "[CV 3/5] END learning_rate=0.001, n_estimators=50;, score=0.093 total time=   0.0s\n",
      "[CV 4/5] END learning_rate=0.001, n_estimators=50;, score=0.088 total time=   0.0s\n",
      "[CV 5/5] END learning_rate=0.001, n_estimators=50;, score=0.085 total time=   0.0s\n",
      "[CV 1/5] END learning_rate=0.001, n_estimators=100;, score=0.139 total time=   0.1s\n",
      "[CV 2/5] END learning_rate=0.001, n_estimators=100;, score=0.135 total time=   0.1s\n",
      "[CV 3/5] END learning_rate=0.001, n_estimators=100;, score=0.176 total time=   0.1s\n",
      "[CV 4/5] END learning_rate=0.001, n_estimators=100;, score=0.170 total time=   0.1s\n",
      "[CV 5/5] END learning_rate=0.001, n_estimators=100;, score=0.166 total time=   0.1s\n",
      "[CV 1/5] END learning_rate=0.001, n_estimators=200;, score=0.278 total time=   0.3s\n",
      "[CV 2/5] END learning_rate=0.001, n_estimators=200;, score=0.277 total time=   0.3s\n",
      "[CV 3/5] END learning_rate=0.001, n_estimators=200;, score=0.317 total time=   0.3s\n",
      "[CV 4/5] END learning_rate=0.001, n_estimators=200;, score=0.309 total time=   0.4s\n",
      "[CV 5/5] END learning_rate=0.001, n_estimators=200;, score=0.307 total time=   0.3s\n",
      "[CV 1/5] END learning_rate=0.1, n_estimators=50;, score=0.984 total time=   0.0s\n",
      "[CV 2/5] END learning_rate=0.1, n_estimators=50;, score=0.978 total time=   0.0s\n",
      "[CV 3/5] END learning_rate=0.1, n_estimators=50;, score=0.986 total time=   0.0s\n",
      "[CV 4/5] END learning_rate=0.1, n_estimators=50;, score=0.984 total time=   0.0s\n",
      "[CV 5/5] END learning_rate=0.1, n_estimators=50;, score=0.982 total time=   0.0s\n",
      "[CV 1/5] END learning_rate=0.1, n_estimators=100;, score=0.985 total time=   0.1s\n",
      "[CV 2/5] END learning_rate=0.1, n_estimators=100;, score=0.979 total time=   0.1s\n",
      "[CV 3/5] END learning_rate=0.1, n_estimators=100;, score=0.986 total time=   0.1s\n",
      "[CV 4/5] END learning_rate=0.1, n_estimators=100;, score=0.984 total time=   0.1s\n",
      "[CV 5/5] END learning_rate=0.1, n_estimators=100;, score=0.984 total time=   0.1s\n",
      "[CV 1/5] END learning_rate=0.1, n_estimators=200;, score=0.984 total time=   0.3s\n",
      "[CV 2/5] END learning_rate=0.1, n_estimators=200;, score=0.979 total time=   0.3s\n",
      "[CV 3/5] END learning_rate=0.1, n_estimators=200;, score=0.986 total time=   0.3s\n",
      "[CV 4/5] END learning_rate=0.1, n_estimators=200;, score=0.982 total time=   0.3s\n",
      "[CV 5/5] END learning_rate=0.1, n_estimators=200;, score=0.984 total time=   0.3s\n",
      "[CV 1/5] END ..learning_rate=1, n_estimators=50;, score=0.973 total time=   0.0s\n",
      "[CV 2/5] END ..learning_rate=1, n_estimators=50;, score=0.974 total time=   0.0s\n",
      "[CV 3/5] END ..learning_rate=1, n_estimators=50;, score=0.972 total time=   0.0s\n",
      "[CV 4/5] END ..learning_rate=1, n_estimators=50;, score=0.968 total time=   0.0s\n",
      "[CV 5/5] END ..learning_rate=1, n_estimators=50;, score=0.974 total time=   0.0s\n",
      "[CV 1/5] END .learning_rate=1, n_estimators=100;, score=0.974 total time=   0.1s\n",
      "[CV 2/5] END .learning_rate=1, n_estimators=100;, score=0.974 total time=   0.1s\n",
      "[CV 3/5] END .learning_rate=1, n_estimators=100;, score=0.973 total time=   0.1s\n",
      "[CV 4/5] END .learning_rate=1, n_estimators=100;, score=0.966 total time=   0.1s\n",
      "[CV 5/5] END .learning_rate=1, n_estimators=100;, score=0.973 total time=   0.1s\n",
      "[CV 1/5] END .learning_rate=1, n_estimators=200;, score=0.975 total time=   0.4s\n",
      "[CV 2/5] END .learning_rate=1, n_estimators=200;, score=0.973 total time=   0.4s\n",
      "[CV 3/5] END .learning_rate=1, n_estimators=200;, score=0.972 total time=   0.3s\n",
      "[CV 4/5] END .learning_rate=1, n_estimators=200;, score=0.966 total time=   0.3s\n",
      "[CV 5/5] END .learning_rate=1, n_estimators=200;, score=0.972 total time=   0.3s\n",
      "[CV 1/5] END learning_rate=1.5, n_estimators=50;, score=0.953 total time=   0.0s\n",
      "[CV 2/5] END learning_rate=1.5, n_estimators=50;, score=0.941 total time=   0.0s\n",
      "[CV 3/5] END learning_rate=1.5, n_estimators=50;, score=0.960 total time=   0.0s\n",
      "[CV 4/5] END learning_rate=1.5, n_estimators=50;, score=0.955 total time=   0.0s\n",
      "[CV 5/5] END learning_rate=1.5, n_estimators=50;, score=0.951 total time=   0.0s\n",
      "[CV 1/5] END learning_rate=1.5, n_estimators=100;, score=0.944 total time=   0.1s\n",
      "[CV 2/5] END learning_rate=1.5, n_estimators=100;, score=0.938 total time=   0.1s\n",
      "[CV 3/5] END learning_rate=1.5, n_estimators=100;, score=0.952 total time=   0.1s\n",
      "[CV 4/5] END learning_rate=1.5, n_estimators=100;, score=0.949 total time=   0.1s\n",
      "[CV 5/5] END learning_rate=1.5, n_estimators=100;, score=0.947 total time=   0.1s\n",
      "[CV 1/5] END learning_rate=1.5, n_estimators=200;, score=0.942 total time=   0.4s\n",
      "[CV 2/5] END learning_rate=1.5, n_estimators=200;, score=0.937 total time=   0.3s\n",
      "[CV 3/5] END learning_rate=1.5, n_estimators=200;, score=0.952 total time=   0.3s\n",
      "[CV 4/5] END learning_rate=1.5, n_estimators=200;, score=0.948 total time=   0.4s\n",
      "[CV 5/5] END learning_rate=1.5, n_estimators=200;, score=0.947 total time=   0.3s\n",
      "[CV 1/5] END .learning_rate=2, n_estimators=50;, score=-0.027 total time=   0.0s\n",
      "[CV 2/5] END .learning_rate=2, n_estimators=50;, score=-0.036 total time=   0.0s\n",
      "[CV 3/5] END ..learning_rate=2, n_estimators=50;, score=0.001 total time=   0.0s\n",
      "[CV 4/5] END ..learning_rate=2, n_estimators=50;, score=0.007 total time=   0.0s\n",
      "[CV 5/5] END .learning_rate=2, n_estimators=50;, score=-0.000 total time=   0.0s\n",
      "[CV 1/5] END learning_rate=2, n_estimators=100;, score=-0.027 total time=   0.1s\n",
      "[CV 2/5] END learning_rate=2, n_estimators=100;, score=-0.036 total time=   0.1s\n",
      "[CV 3/5] END .learning_rate=2, n_estimators=100;, score=0.001 total time=   0.1s\n",
      "[CV 4/5] END .learning_rate=2, n_estimators=100;, score=0.007 total time=   0.1s\n",
      "[CV 5/5] END learning_rate=2, n_estimators=100;, score=-0.000 total time=   0.1s\n",
      "[CV 1/5] END learning_rate=2, n_estimators=200;, score=-0.027 total time=   0.3s\n",
      "[CV 2/5] END learning_rate=2, n_estimators=200;, score=-0.036 total time=   0.3s\n",
      "[CV 3/5] END .learning_rate=2, n_estimators=200;, score=0.001 total time=   0.3s\n",
      "[CV 4/5] END .learning_rate=2, n_estimators=200;, score=0.007 total time=   0.3s\n",
      "[CV 5/5] END learning_rate=2, n_estimators=200;, score=-0.000 total time=   0.3s\n",
      "[CV 1/5] END learning_rate=2.5, n_estimators=50;, score=-364903960723194816.000 total time=   0.0s\n",
      "[CV 2/5] END learning_rate=2.5, n_estimators=50;, score=-379120536746206144.000 total time=   0.0s\n",
      "[CV 3/5] END learning_rate=2.5, n_estimators=50;, score=-411847014153722048.000 total time=   0.0s\n",
      "[CV 4/5] END learning_rate=2.5, n_estimators=50;, score=-397006825561690688.000 total time=   0.0s\n",
      "[CV 5/5] END learning_rate=2.5, n_estimators=50;, score=-382846189893358144.000 total time=   0.0s\n",
      "[CV 1/5] END learning_rate=2.5, n_estimators=100;, score=-148355783941674347693213660796157952.000 total time=   0.1s\n",
      "[CV 2/5] END learning_rate=2.5, n_estimators=100;, score=-154135691840108431523065602968125440.000 total time=   0.1s\n",
      "[CV 3/5] END learning_rate=2.5, n_estimators=100;, score=-167441007059150928022775644916023296.000 total time=   0.1s\n",
      "[CV 4/5] END learning_rate=2.5, n_estimators=100;, score=-161407562502943162082584370931040256.000 total time=   0.1s\n",
      "[CV 5/5] END learning_rate=2.5, n_estimators=100;, score=-155650397782912172326262725364678656.000 total time=   0.1s\n",
      "[CV 1/5] END learning_rate=2.5, n_estimators=200;, score=-24522022915778136467765167644587425068948176653220814062566086780387328.000 total time=   0.3s\n",
      "[CV 2/5] END learning_rate=2.5, n_estimators=200;, score=-25477395400562788147957543872734462616240384025966511557050670191214592.000 total time=   0.3s\n",
      "[CV 3/5] END learning_rate=2.5, n_estimators=200;, score=-27676657445050503683073277202326022723378451314774245596506554439303168.000 total time=   0.3s\n",
      "[CV 4/5] END learning_rate=2.5, n_estimators=200;, score=-26679377381290117711747527466112693346582827683267887748427705135136768.000 total time=   0.3s\n",
      "[CV 5/5] END learning_rate=2.5, n_estimators=200;, score=-25727764161748024755743016109121594329751004174547305060446785943633920.000 total time=   0.3s\n"
     ]
    },
    {
     "data": {
      "text/html": [
       "<style>#sk-container-id-7 {color: black;}#sk-container-id-7 pre{padding: 0;}#sk-container-id-7 div.sk-toggleable {background-color: white;}#sk-container-id-7 label.sk-toggleable__label {cursor: pointer;display: block;width: 100%;margin-bottom: 0;padding: 0.3em;box-sizing: border-box;text-align: center;}#sk-container-id-7 label.sk-toggleable__label-arrow:before {content: \"▸\";float: left;margin-right: 0.25em;color: #696969;}#sk-container-id-7 label.sk-toggleable__label-arrow:hover:before {color: black;}#sk-container-id-7 div.sk-estimator:hover label.sk-toggleable__label-arrow:before {color: black;}#sk-container-id-7 div.sk-toggleable__content {max-height: 0;max-width: 0;overflow: hidden;text-align: left;background-color: #f0f8ff;}#sk-container-id-7 div.sk-toggleable__content pre {margin: 0.2em;color: black;border-radius: 0.25em;background-color: #f0f8ff;}#sk-container-id-7 input.sk-toggleable__control:checked~div.sk-toggleable__content {max-height: 200px;max-width: 100%;overflow: auto;}#sk-container-id-7 input.sk-toggleable__control:checked~label.sk-toggleable__label-arrow:before {content: \"▾\";}#sk-container-id-7 div.sk-estimator input.sk-toggleable__control:checked~label.sk-toggleable__label {background-color: #d4ebff;}#sk-container-id-7 div.sk-label input.sk-toggleable__control:checked~label.sk-toggleable__label {background-color: #d4ebff;}#sk-container-id-7 input.sk-hidden--visually {border: 0;clip: rect(1px 1px 1px 1px);clip: rect(1px, 1px, 1px, 1px);height: 1px;margin: -1px;overflow: hidden;padding: 0;position: absolute;width: 1px;}#sk-container-id-7 div.sk-estimator {font-family: monospace;background-color: #f0f8ff;border: 1px dotted black;border-radius: 0.25em;box-sizing: border-box;margin-bottom: 0.5em;}#sk-container-id-7 div.sk-estimator:hover {background-color: #d4ebff;}#sk-container-id-7 div.sk-parallel-item::after {content: \"\";width: 100%;border-bottom: 1px solid gray;flex-grow: 1;}#sk-container-id-7 div.sk-label:hover label.sk-toggleable__label {background-color: #d4ebff;}#sk-container-id-7 div.sk-serial::before {content: \"\";position: absolute;border-left: 1px solid gray;box-sizing: border-box;top: 0;bottom: 0;left: 50%;z-index: 0;}#sk-container-id-7 div.sk-serial {display: flex;flex-direction: column;align-items: center;background-color: white;padding-right: 0.2em;padding-left: 0.2em;position: relative;}#sk-container-id-7 div.sk-item {position: relative;z-index: 1;}#sk-container-id-7 div.sk-parallel {display: flex;align-items: stretch;justify-content: center;background-color: white;position: relative;}#sk-container-id-7 div.sk-item::before, #sk-container-id-7 div.sk-parallel-item::before {content: \"\";position: absolute;border-left: 1px solid gray;box-sizing: border-box;top: 0;bottom: 0;left: 50%;z-index: -1;}#sk-container-id-7 div.sk-parallel-item {display: flex;flex-direction: column;z-index: 1;position: relative;background-color: white;}#sk-container-id-7 div.sk-parallel-item:first-child::after {align-self: flex-end;width: 50%;}#sk-container-id-7 div.sk-parallel-item:last-child::after {align-self: flex-start;width: 50%;}#sk-container-id-7 div.sk-parallel-item:only-child::after {width: 0;}#sk-container-id-7 div.sk-dashed-wrapped {border: 1px dashed gray;margin: 0 0.4em 0.5em 0.4em;box-sizing: border-box;padding-bottom: 0.4em;background-color: white;}#sk-container-id-7 div.sk-label label {font-family: monospace;font-weight: bold;display: inline-block;line-height: 1.2em;}#sk-container-id-7 div.sk-label-container {text-align: center;}#sk-container-id-7 div.sk-container {/* jupyter's `normalize.less` sets `[hidden] { display: none; }` but bootstrap.min.css set `[hidden] { display: none !important; }` so we also need the `!important` here to be able to override the default hidden behavior on the sphinx rendered scikit-learn.org. See: https://github.com/scikit-learn/scikit-learn/issues/21755 */display: inline-block !important;position: relative;}#sk-container-id-7 div.sk-text-repr-fallback {display: none;}</style><div id=\"sk-container-id-7\" class=\"sk-top-container\"><div class=\"sk-text-repr-fallback\"><pre>GridSearchCV(cv=5, estimator=GradientBoostingRegressor(),\n",
       "             param_grid={&#x27;learning_rate&#x27;: [0.001, 0.1, 1, 1.5, 2, 2.5],\n",
       "                         &#x27;n_estimators&#x27;: [50, 100, 200]},\n",
       "             verbose=3)</pre><b>In a Jupyter environment, please rerun this cell to show the HTML representation or trust the notebook. <br />On GitHub, the HTML representation is unable to render, please try loading this page with nbviewer.org.</b></div><div class=\"sk-container\" hidden><div class=\"sk-item sk-dashed-wrapped\"><div class=\"sk-label-container\"><div class=\"sk-label sk-toggleable\"><input class=\"sk-toggleable__control sk-hidden--visually\" id=\"sk-estimator-id-13\" type=\"checkbox\" ><label for=\"sk-estimator-id-13\" class=\"sk-toggleable__label sk-toggleable__label-arrow\">GridSearchCV</label><div class=\"sk-toggleable__content\"><pre>GridSearchCV(cv=5, estimator=GradientBoostingRegressor(),\n",
       "             param_grid={&#x27;learning_rate&#x27;: [0.001, 0.1, 1, 1.5, 2, 2.5],\n",
       "                         &#x27;n_estimators&#x27;: [50, 100, 200]},\n",
       "             verbose=3)</pre></div></div></div><div class=\"sk-parallel\"><div class=\"sk-parallel-item\"><div class=\"sk-item\"><div class=\"sk-label-container\"><div class=\"sk-label sk-toggleable\"><input class=\"sk-toggleable__control sk-hidden--visually\" id=\"sk-estimator-id-14\" type=\"checkbox\" ><label for=\"sk-estimator-id-14\" class=\"sk-toggleable__label sk-toggleable__label-arrow\">estimator: GradientBoostingRegressor</label><div class=\"sk-toggleable__content\"><pre>GradientBoostingRegressor()</pre></div></div></div><div class=\"sk-serial\"><div class=\"sk-item\"><div class=\"sk-estimator sk-toggleable\"><input class=\"sk-toggleable__control sk-hidden--visually\" id=\"sk-estimator-id-15\" type=\"checkbox\" ><label for=\"sk-estimator-id-15\" class=\"sk-toggleable__label sk-toggleable__label-arrow\">GradientBoostingRegressor</label><div class=\"sk-toggleable__content\"><pre>GradientBoostingRegressor()</pre></div></div></div></div></div></div></div></div></div></div>"
      ],
      "text/plain": [
       "GridSearchCV(cv=5, estimator=GradientBoostingRegressor(),\n",
       "             param_grid={'learning_rate': [0.001, 0.1, 1, 1.5, 2, 2.5],\n",
       "                         'n_estimators': [50, 100, 200]},\n",
       "             verbose=3)"
      ]
     },
     "execution_count": 32,
     "metadata": {},
     "output_type": "execute_result"
    }
   ],
   "source": [
    "reg.fit(x_train,y_train)"
   ]
  },
  {
   "cell_type": "code",
   "execution_count": 34,
   "id": "d72500d0",
   "metadata": {},
   "outputs": [
    {
     "data": {
      "text/plain": [
       "0.9835342408265589"
      ]
     },
     "execution_count": 34,
     "metadata": {},
     "output_type": "execute_result"
    }
   ],
   "source": [
    "reg.best_score_"
   ]
  },
  {
   "cell_type": "code",
   "execution_count": 35,
   "id": "c9618b25",
   "metadata": {},
   "outputs": [
    {
     "data": {
      "text/plain": [
       "{'learning_rate': 0.1, 'n_estimators': 100}"
      ]
     },
     "execution_count": 35,
     "metadata": {},
     "output_type": "execute_result"
    }
   ],
   "source": [
    "reg.best_params_"
   ]
  },
  {
   "cell_type": "code",
   "execution_count": 37,
   "id": "5f4629ae",
   "metadata": {},
   "outputs": [],
   "source": [
    "best_model=reg.best_estimator_"
   ]
  },
  {
   "cell_type": "code",
   "execution_count": 38,
   "id": "5c6621d6",
   "metadata": {},
   "outputs": [],
   "source": [
    "y_pred=best_model.predict(x_test)"
   ]
  },
  {
   "cell_type": "code",
   "execution_count": 39,
   "id": "82ad91fc",
   "metadata": {},
   "outputs": [
    {
     "data": {
      "text/plain": [
       "0.9822636538798879"
      ]
     },
     "execution_count": 39,
     "metadata": {},
     "output_type": "execute_result"
    }
   ],
   "source": [
    "r2_score(y_test,y_pred)"
   ]
  },
  {
   "cell_type": "code",
   "execution_count": null,
   "id": "291070cd",
   "metadata": {},
   "outputs": [],
   "source": []
  }
 ],
 "metadata": {
  "kernelspec": {
   "display_name": "Python 3 (ipykernel)",
   "language": "python",
   "name": "python3"
  },
  "language_info": {
   "codemirror_mode": {
    "name": "ipython",
    "version": 3
   },
   "file_extension": ".py",
   "mimetype": "text/x-python",
   "name": "python",
   "nbconvert_exporter": "python",
   "pygments_lexer": "ipython3",
   "version": "3.11.4"
  }
 },
 "nbformat": 4,
 "nbformat_minor": 5
}
