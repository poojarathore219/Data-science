{
 "cells": [
  {
   "cell_type": "code",
   "execution_count": 1,
   "id": "80536ed8-5af7-4d45-8240-bf7d430d1a5b",
   "metadata": {},
   "outputs": [],
   "source": [
    "str=\"pwskill\"\n"
   ]
  },
  {
   "cell_type": "raw",
   "id": "b5e82b08-2fa8-4c48-bca7-2edb93511ee5",
   "metadata": {},
   "source": [
    "str"
   ]
  },
  {
   "cell_type": "code",
   "execution_count": 2,
   "id": "c5fa2075-b366-4b9f-aace-5ce761e99752",
   "metadata": {},
   "outputs": [
    {
     "data": {
      "text/plain": [
       "'pwskill'"
      ]
     },
     "execution_count": 2,
     "metadata": {},
     "output_type": "execute_result"
    }
   ],
   "source": [
    "str"
   ]
  },
  {
   "cell_type": "code",
   "execution_count": 3,
   "id": "d168bc5d-1a46-465e-a953-4cb74f9f02d3",
   "metadata": {},
   "outputs": [
    {
     "data": {
      "text/plain": [
       "'llikswp'"
      ]
     },
     "execution_count": 3,
     "metadata": {},
     "output_type": "execute_result"
    }
   ],
   "source": [
    "str[::-1]"
   ]
  },
  {
   "cell_type": "code",
   "execution_count": 4,
   "id": "782af155-ff3f-4ed5-93cc-6d7e42d61849",
   "metadata": {},
   "outputs": [
    {
     "name": "stdout",
     "output_type": "stream",
     "text": [
      "string is not palindrome\n"
     ]
    }
   ],
   "source": [
    "if(str==str[::-1]):\n",
    "    print(\"string is palindrome\")\n",
    "else:\n",
    "    print(\"string is not palindrome\")\n",
    "    \n"
   ]
  },
  {
   "cell_type": "code",
   "execution_count": 5,
   "id": "b76aff2a-88c7-4d7a-97d5-93780c67830d",
   "metadata": {},
   "outputs": [
    {
     "data": {
      "text/plain": [
       "'pwskill'"
      ]
     },
     "execution_count": 5,
     "metadata": {},
     "output_type": "execute_result"
    }
   ],
   "source": [
    "str"
   ]
  },
  {
   "cell_type": "code",
   "execution_count": 6,
   "id": "020be3ff-372a-4138-b837-9cd23495910e",
   "metadata": {},
   "outputs": [
    {
     "data": {
      "text/plain": [
       "'PWSKILL'"
      ]
     },
     "execution_count": 6,
     "metadata": {},
     "output_type": "execute_result"
    }
   ],
   "source": [
    "str.upper()"
   ]
  },
  {
   "cell_type": "code",
   "execution_count": 7,
   "id": "98297b52-3c7b-46b0-a6a2-e1cb29f9382f",
   "metadata": {},
   "outputs": [
    {
     "data": {
      "text/plain": [
       "'pwskill'"
      ]
     },
     "execution_count": 7,
     "metadata": {},
     "output_type": "execute_result"
    }
   ],
   "source": [
    "str.lower()"
   ]
  },
  {
   "cell_type": "code",
   "execution_count": 8,
   "id": "4772c16b-8f32-468e-a6f5-faeb9cd12b1d",
   "metadata": {},
   "outputs": [
    {
     "name": "stdin",
     "output_type": "stream",
     "text": [
      "ENTR YOUR STRING: pooja\n"
     ]
    },
    {
     "name": "stdout",
     "output_type": "stream",
     "text": [
      "number of vowels:\n",
      "3\n"
     ]
    }
   ],
   "source": [
    "x=input(\"ENTR YOUR STRING:\")\n",
    "vowels=0\n",
    "for i in x:\n",
    "     if(i=='a'or i=='e'or i=='i'or i=='o'or i=='u' or i=='A' or i=='E' or i=='I'or i=='O'or i=='U'):\n",
    "            vowels=vowels+1\n",
    "print(\"number of vowels:\")\n",
    "print(vowels)\n",
    "        \n",
    "\n",
    "        "
   ]
  },
  {
   "cell_type": "code",
   "execution_count": 9,
   "id": "b6ec5762-abd6-4aaf-a6ba-204100b69e10",
   "metadata": {},
   "outputs": [
    {
     "data": {
      "text/plain": [
       "'poojarathore'"
      ]
     },
     "execution_count": 9,
     "metadata": {},
     "output_type": "execute_result"
    }
   ],
   "source": [
    "s= \"    pooja    rathore  \"## removing white space from string\n",
    "s.replace(\"  \",\"\")\n"
   ]
  },
  {
   "cell_type": "code",
   "execution_count": 10,
   "id": "10b8fe26-23ac-447b-87c5-d0eb339ae948",
   "metadata": {},
   "outputs": [
    {
     "name": "stdin",
     "output_type": "stream",
     "text": [
      "enter the string: pooja\n"
     ]
    },
    {
     "name": "stdout",
     "output_type": "stream",
     "text": [
      "1\n",
      "2\n",
      "3\n",
      "4\n",
      "5\n"
     ]
    }
   ],
   "source": [
    "## without len() find length of string\n",
    "x=input('enter the string:')\n",
    "count=0\n",
    "for i in x:\n",
    "    if count!=\" \":\n",
    "       count=count+1\n",
    "    print(count)"
   ]
  },
  {
   "cell_type": "code",
   "execution_count": null,
   "id": "365d6dcc-4097-4cbd-9e45-e9da50b82d91",
   "metadata": {},
   "outputs": [],
   "source": []
  },
  {
   "cell_type": "code",
   "execution_count": 11,
   "id": "1299efde-9218-4baf-aed2-7571f0079db4",
   "metadata": {},
   "outputs": [
    {
     "name": "stdin",
     "output_type": "stream",
     "text": [
      "my class is data science masters: masters\n"
     ]
    },
    {
     "name": "stdout",
     "output_type": "stream",
     "text": [
      "masters is not in x\n",
      "masters is not in x\n",
      "masters is not in x\n",
      "masters is not in x\n",
      "masters is not in x\n",
      "masters is not in x\n",
      "masters is not in x\n"
     ]
    }
   ],
   "source": [
    "## check string contains specific word\n",
    "x=input(\"my class is data science masters:\")\n",
    "for i in x:\n",
    "        masters=0\n",
    "        if i==masters:\n",
    "            print('masters in x')\n",
    "        else:\n",
    "            print('masters is not in x')"
   ]
  },
  {
   "cell_type": "code",
   "execution_count": 12,
   "id": "aa383457-7f95-4f43-b61f-c5c2a6cf8fb8",
   "metadata": {},
   "outputs": [
    {
     "data": {
      "text/plain": [
       "'pw skills data science class'"
      ]
     },
     "execution_count": 12,
     "metadata": {},
     "output_type": "execute_result"
    }
   ],
   "source": [
    "x= \"pw skills data masters class\"\n",
    "x.replace('masters', 'science')\n",
    "                           "
   ]
  },
  {
   "cell_type": "code",
   "execution_count": 13,
   "id": "0d956238-448d-453d-9d17-4bfdb947c68a",
   "metadata": {},
   "outputs": [
    {
     "data": {
      "text/plain": [
       "6"
      ]
     },
     "execution_count": 13,
     "metadata": {},
     "output_type": "execute_result"
    }
   ],
   "source": [
    "x= \"pw skills data masters class\" ## count occurence of a word in string\n",
    "x.count('s')"
   ]
  },
  {
   "cell_type": "code",
   "execution_count": 14,
   "id": "4b9ba18e-5f55-4787-a922-58efb902698b",
   "metadata": {},
   "outputs": [
    {
     "data": {
      "text/plain": [
       "11"
      ]
     },
     "execution_count": 14,
     "metadata": {},
     "output_type": "execute_result"
    }
   ],
   "source": [
    "## find first occurence of a word in a string\n",
    "x= \"pw skills data masters class\"\n",
    "x.find('a')"
   ]
  },
  {
   "cell_type": "code",
   "execution_count": 15,
   "id": "71105f3c-b28b-48c4-b5f2-d4d786cfbfd5",
   "metadata": {},
   "outputs": [
    {
     "data": {
      "text/plain": [
       "27"
      ]
     },
     "execution_count": 15,
     "metadata": {},
     "output_type": "execute_result"
    }
   ],
   "source": [
    "## find last occurence of word in string\n",
    "x= \"pw skills data masters class\"\n",
    "x.rfind('s')\n",
    "    "
   ]
  },
  {
   "cell_type": "code",
   "execution_count": 16,
   "id": "e6d26185-e7e6-46c2-9247-92ea7f57d757",
   "metadata": {},
   "outputs": [
    {
     "data": {
      "text/plain": [
       "['pw', 'skills', 'data', 'masters', 'class']"
      ]
     },
     "execution_count": 16,
     "metadata": {},
     "output_type": "execute_result"
    }
   ],
   "source": [
    "x= \"pw skills data masters class\" ## split string\n",
    "x.split()"
   ]
  },
  {
   "cell_type": "code",
   "execution_count": 17,
   "id": "dcf68c05-d8a5-4322-9af0-ab7916d216d5",
   "metadata": {},
   "outputs": [
    {
     "data": {
      "text/plain": [
       "'pwskillsdatamasters'"
      ]
     },
     "execution_count": 17,
     "metadata": {},
     "output_type": "execute_result"
    }
   ],
   "source": [
    "x= ['pw' ,'skills', 'data' ,'masters' ]## join a list of word in to a string   \n",
    "s=\"\"\n",
    "s.join(x)\n",
    "\n",
    "\n",
    "\n"
   ]
  },
  {
   "cell_type": "code",
   "execution_count": 18,
   "id": "30599a42-9ca3-435f-ad5d-15ce5b5a7fc0",
   "metadata": {},
   "outputs": [
    {
     "data": {
      "text/plain": [
       "'pw_skills_data masters_p rath ore'"
      ]
     },
     "execution_count": 18,
     "metadata": {},
     "output_type": "execute_result"
    }
   ],
   "source": [
    "x= ['pw_skills', 'data masters', 'p rath ore' ]## join a list of word in to a string   \n",
    "s='_'\n",
    "\n",
    "s.join(x)\n",
    "\n",
    "\n"
   ]
  },
  {
   "cell_type": "code",
   "execution_count": 19,
   "id": "d4c7a853-1a7d-45f7-ae79-2af34e81f4f1",
   "metadata": {},
   "outputs": [
    {
     "data": {
      "text/plain": [
       "'Goog Morning'"
      ]
     },
     "execution_count": 19,
     "metadata": {},
     "output_type": "execute_result"
    }
   ],
   "source": [
    "x=\"goog morning\"##conver in title case\n",
    "x.title()\n",
    "\n",
    "\n"
   ]
  },
  {
   "cell_type": "code",
   "execution_count": 20,
   "id": "8c7eff74-d48c-4170-9e81-2c236f6dc195",
   "metadata": {},
   "outputs": [
    {
     "name": "stdout",
     "output_type": "stream",
     "text": [
      "A\n",
      "B\n"
     ]
    }
   ],
   "source": [
    "x = 15\n",
    "\n",
    "if x > 10:\n",
    "\n",
    "   print(\"A\")\n",
    "\n",
    "if x < 20:\n",
    "\n",
    "   print(\"B\")\n",
    "\n",
    "else:\n",
    "\n",
    "   print(\"C\")"
   ]
  },
  {
   "cell_type": "code",
   "execution_count": 21,
   "id": "9d9cec54-0661-4238-b77b-baf074ff7396",
   "metadata": {},
   "outputs": [
    {
     "name": "stdout",
     "output_type": "stream",
     "text": [
      "B\n"
     ]
    }
   ],
   "source": [
    "x = 10\n",
    "\n",
    "if x < 5:\n",
    "\n",
    "   print(\"A\")\n",
    "\n",
    "if x > 5:\n",
    "\n",
    "   print(\"B\")\n",
    "\n",
    "else:\n",
    "\n",
    "   print(\"C\")"
   ]
  },
  {
   "cell_type": "code",
   "execution_count": 22,
   "id": "ebc03c6d-1562-453e-853e-8f10ac48311e",
   "metadata": {},
   "outputs": [
    {
     "name": "stdout",
     "output_type": "stream",
     "text": [
      "B\n",
      "C\n"
     ]
    }
   ],
   "source": [
    "x = 5\n",
    "\n",
    "if x > 10:\n",
    "\n",
    "   print(\"A\")\n",
    "\n",
    "else:\n",
    "\n",
    "   print(\"B\")\n",
    "\n",
    "if x > 3:\n",
    "\n",
    "   print(\"C\")\n",
    "\n",
    "else:\n",
    "\n",
    "   print(\"D\")"
   ]
  },
  {
   "cell_type": "code",
   "execution_count": 23,
   "id": "df14fc68-9509-42a4-a563-b586890a5b76",
   "metadata": {},
   "outputs": [
    {
     "name": "stdout",
     "output_type": "stream",
     "text": [
      "B\n"
     ]
    }
   ],
   "source": [
    "x = 3\n",
    "\n",
    "if x > 5:\n",
    "\n",
    "   print(\"A\")\n",
    "\n",
    "else:\n",
    "\n",
    "    if x > 2:\n",
    "\n",
    "       print(\"B\")\n",
    "\n",
    "    else:\n",
    "\n",
    "       print(\"C\")"
   ]
  },
  {
   "cell_type": "code",
   "execution_count": 24,
   "id": "f72a11f7-935d-40f4-ba5e-d6c67dffc755",
   "metadata": {},
   "outputs": [
    {
     "name": "stdout",
     "output_type": "stream",
     "text": [
      "A\n",
      "B\n"
     ]
    }
   ],
   "source": [
    "x = 10\n",
    "\n",
    "if x > 5:\n",
    "\n",
    "   print(\"A\")\n",
    "\n",
    "if x > 7:\n",
    "\n",
    "   print(\"B\")"
   ]
  },
  {
   "cell_type": "code",
   "execution_count": 25,
   "id": "f1eb21e7-5933-42f5-b1ad-c2d06d752012",
   "metadata": {},
   "outputs": [
    {
     "name": "stdout",
     "output_type": "stream",
     "text": [
      "B\n"
     ]
    }
   ],
   "source": [
    "x = 8\n",
    "\n",
    "if x > 10:\n",
    "\n",
    "   print(\"A\")\n",
    "\n",
    "else:\n",
    "\n",
    "    if x > 7:\n",
    "\n",
    "       print(\"B\")\n",
    "\n",
    "    else:\n",
    "\n",
    "       print(\"C\")"
   ]
  },
  {
   "cell_type": "code",
   "execution_count": 26,
   "id": "620cda37-4ebd-42ca-a201-ccc2f94b6a05",
   "metadata": {},
   "outputs": [
    {
     "name": "stdout",
     "output_type": "stream",
     "text": [
      "B\n"
     ]
    }
   ],
   "source": [
    "x = 1\n",
    "\n",
    "if x > 1:\n",
    "\n",
    "   print(\"A\")\n",
    "\n",
    "if x > 0:\n",
    "\n",
    "   print(\"B\")"
   ]
  },
  {
   "cell_type": "code",
   "execution_count": 27,
   "id": "faae7f0c-eb46-4188-a1e7-839b0473dd04",
   "metadata": {},
   "outputs": [
    {
     "name": "stdout",
     "output_type": "stream",
     "text": [
      "B\n"
     ]
    }
   ],
   "source": [
    "x = 5\n",
    "\n",
    "if x > 10:\n",
    "\n",
    "   print(\"A\")\n",
    "\n",
    "elif x > 3:\n",
    "\n",
    "   print(\"B\")\n",
    "\n",
    "elif x == 5:\n",
    "\n",
    "   print(\"C\")\n",
    "\n",
    "else:\n",
    "\n",
    "   print(\"D\")"
   ]
  },
  {
   "cell_type": "code",
   "execution_count": 28,
   "id": "d6983db6-7d0f-48fd-ae2f-13bebf97d141",
   "metadata": {},
   "outputs": [
    {
     "data": {
      "text/plain": [
       "[1, 2, 3, 4, 5, 6, 7, 8, 9, 10]"
      ]
     },
     "execution_count": 28,
     "metadata": {},
     "output_type": "execute_result"
    }
   ],
   "source": [
    "## create list with int 1 tp 10\n",
    "list(range(1,11))"
   ]
  },
  {
   "cell_type": "code",
   "execution_count": 29,
   "id": "934bb2d0-c962-4144-8c22-97d1f35d6a04",
   "metadata": {},
   "outputs": [
    {
     "name": "stdout",
     "output_type": "stream",
     "text": [
      "5\n",
      "length of list\n"
     ]
    }
   ],
   "source": [
    "## find length without len()\n",
    "l=[1,2,3,4,5]\n",
    "count=0\n",
    "for i in l:\n",
    "    count=count+1\n",
    "    \n",
    "print(count)\n",
    "print('length of list')\n",
    "   \n",
    "            \n",
    "       \n",
    "      \n"
   ]
  },
  {
   "cell_type": "code",
   "execution_count": 30,
   "id": "7c88ed93-f993-4f99-9815-b7d955dc2c52",
   "metadata": {},
   "outputs": [],
   "source": [
    "## append element to end of list\n",
    "l1=[1,2,3,4,5]\n",
    "l1.append('6')"
   ]
  },
  {
   "cell_type": "code",
   "execution_count": 31,
   "id": "a59bd477-4792-4963-845c-c6d299be7786",
   "metadata": {},
   "outputs": [
    {
     "data": {
      "text/plain": [
       "[1, 2, 3, 4, 5, '6']"
      ]
     },
     "execution_count": 31,
     "metadata": {},
     "output_type": "execute_result"
    }
   ],
   "source": [
    "l1"
   ]
  },
  {
   "cell_type": "code",
   "execution_count": 32,
   "id": "fbbf72e2-0481-4b11-8cd8-67efc58f4b58",
   "metadata": {},
   "outputs": [],
   "source": [
    "## insert element to end of list\n",
    "l1=[1,2,3,4,5]\n",
    "l1.insert(5,'pooja')"
   ]
  },
  {
   "cell_type": "code",
   "execution_count": 33,
   "id": "31abc78e-1153-44d0-8184-f3c578ca1c02",
   "metadata": {},
   "outputs": [
    {
     "data": {
      "text/plain": [
       "[1, 2, 3, 4, 5, 'pooja']"
      ]
     },
     "execution_count": 33,
     "metadata": {},
     "output_type": "execute_result"
    }
   ],
   "source": [
    "l1"
   ]
  },
  {
   "cell_type": "code",
   "execution_count": 34,
   "id": "c2710366-3a83-44e9-8c03-faaede0210a7",
   "metadata": {},
   "outputs": [],
   "source": [
    "##remove ele by its value\n",
    "l1=[1,2,3,4,5,'my']\n",
    "l1.remove('my')\n"
   ]
  },
  {
   "cell_type": "code",
   "execution_count": 35,
   "id": "812355a7-86bc-45e4-825a-6dacd9e6fc70",
   "metadata": {},
   "outputs": [
    {
     "data": {
      "text/plain": [
       "[1, 2, 3, 4, 5]"
      ]
     },
     "execution_count": 35,
     "metadata": {},
     "output_type": "execute_result"
    }
   ],
   "source": [
    "l1"
   ]
  },
  {
   "cell_type": "code",
   "execution_count": 36,
   "id": "830bed7e-409a-4f82-b42c-8ec98fbe2288",
   "metadata": {},
   "outputs": [
    {
     "data": {
      "text/plain": [
       "'my'"
      ]
     },
     "execution_count": 36,
     "metadata": {},
     "output_type": "execute_result"
    }
   ],
   "source": [
    "\n",
    "l1=[1,2,3,4,5,'my']\n",
    "l1[5]"
   ]
  },
  {
   "cell_type": "code",
   "execution_count": 43,
   "id": "8085bcc3-0e62-4f22-bad4-70eeacba910e",
   "metadata": {},
   "outputs": [
    {
     "data": {
      "text/plain": [
       "'7'"
      ]
     },
     "execution_count": 43,
     "metadata": {},
     "output_type": "execute_result"
    }
   ],
   "source": [
    "l1"
   ]
  },
  {
   "cell_type": "code",
   "execution_count": 42,
   "id": "0d0204bc-3aab-4a76-a1db-dfe1ab725b22",
   "metadata": {},
   "outputs": [
    {
     "name": "stdin",
     "output_type": "stream",
     "text": [
      "[1, 2, 3, 4, 5] 7\n"
     ]
    },
    {
     "name": "stdout",
     "output_type": "stream",
     "text": [
      "its not exist in list\n"
     ]
    }
   ],
   "source": [
    "##check if an element exist in list\n",
    "l1=input([1,2,3,4,5])\n",
    "for i in l1:\n",
    "    if i==5:\n",
    "        print('it is exist in list')\n",
    "    else:\n",
    "            print('its not exist in list')\n",
    "   "
   ]
  },
  {
   "cell_type": "code",
   "execution_count": 46,
   "id": "cd5e9870-78c7-4b3c-82f7-f17d772556d1",
   "metadata": {},
   "outputs": [
    {
     "data": {
      "text/plain": [
       "4"
      ]
     },
     "execution_count": 46,
     "metadata": {},
     "output_type": "execute_result"
    }
   ],
   "source": [
    "## find index of first occurence of element in list\n",
    "l1=[1,2,3,4,5,5,6,2,3]\n",
    "l1.index(5)"
   ]
  },
  {
   "cell_type": "code",
   "execution_count": 48,
   "id": "cf1c2b95-060a-450f-9220-9c50c3d1f65c",
   "metadata": {},
   "outputs": [
    {
     "data": {
      "text/plain": [
       "2"
      ]
     },
     "execution_count": 48,
     "metadata": {},
     "output_type": "execute_result"
    }
   ],
   "source": [
    "#count the element of list\n",
    "l1=[1,2,3,4,5,5,6,2,3]\n",
    "l1.count(5)"
   ]
  },
  {
   "cell_type": "code",
   "execution_count": 49,
   "id": "3ef19eaa-56fe-40f6-8d90-97d7c45f0d52",
   "metadata": {},
   "outputs": [
    {
     "data": {
      "text/plain": [
       "[3, 2, 6, 5, 5, 4, 3, 2, 1]"
      ]
     },
     "execution_count": 49,
     "metadata": {},
     "output_type": "execute_result"
    }
   ],
   "source": [
    "##revers the order of element\n",
    "l1=[1,2,3,4,5,5,6,2,3]\n",
    "l1[::-1]"
   ]
  },
  {
   "cell_type": "code",
   "execution_count": 50,
   "id": "297951f1-806b-4119-975b-bf3603c25323",
   "metadata": {},
   "outputs": [],
   "source": [
    "##sort in ascending order\n",
    "l1=[1,2,3,4,5,5,6,2,3]\n",
    "l1.sort()"
   ]
  },
  {
   "cell_type": "code",
   "execution_count": 51,
   "id": "51699ad2-4055-42ea-aad4-5483094786f0",
   "metadata": {},
   "outputs": [
    {
     "data": {
      "text/plain": [
       "[1, 2, 2, 3, 3, 4, 5, 5, 6]"
      ]
     },
     "execution_count": 51,
     "metadata": {},
     "output_type": "execute_result"
    }
   ],
   "source": [
    "l1"
   ]
  },
  {
   "cell_type": "code",
   "execution_count": 52,
   "id": "63ba4435-41ac-417a-a031-be151f3c5355",
   "metadata": {},
   "outputs": [],
   "source": [
    "## sort in deascending\n",
    "l1=[1,2,3,4,5,5,6,2,3]\n",
    "l1.sort(reverse= True)"
   ]
  },
  {
   "cell_type": "code",
   "execution_count": 53,
   "id": "a2ebffb3-9598-4dd6-8565-5b248f2693ec",
   "metadata": {},
   "outputs": [
    {
     "data": {
      "text/plain": [
       "[6, 5, 5, 4, 3, 3, 2, 2, 1]"
      ]
     },
     "execution_count": 53,
     "metadata": {},
     "output_type": "execute_result"
    }
   ],
   "source": [
    "l1"
   ]
  },
  {
   "cell_type": "code",
   "execution_count": 59,
   "id": "7a1e1324-76d7-4351-93e1-031132c6f0fc",
   "metadata": {},
   "outputs": [
    {
     "name": "stdout",
     "output_type": "stream",
     "text": [
      "even no is: 2\n",
      "even no is: 4\n",
      "even no is: 6\n",
      "even no is: 2\n"
     ]
    }
   ],
   "source": [
    "## find  even no in list\n",
    "l1=[1,2,3,4,5,5,6,2,3]\n",
    "for i in l1:\n",
    "    if i%2==0:\n",
    "        print(\"even no is:\",i)\n",
    "   "
   ]
  },
  {
   "cell_type": "code",
   "execution_count": 65,
   "id": "a701dca6-8b50-47eb-baff-7153213ace9c",
   "metadata": {},
   "outputs": [
    {
     "name": "stdout",
     "output_type": "stream",
     "text": [
      "2\n",
      "4\n",
      "6\n",
      "8\n",
      "10\n",
      "12\n",
      "14\n",
      "16\n",
      "18\n"
     ]
    }
   ],
   "source": [
    "## create list of evevn no frm 1 to 20\n",
    "l=[]\n",
    "for i in range(1,20):\n",
    "    if i%2==0:\n",
    "        l.append(i)\n",
    "        print(i)\n"
   ]
  },
  {
   "cell_type": "code",
   "execution_count": 66,
   "id": "46a51183-e731-4415-8b65-116e28d941ba",
   "metadata": {},
   "outputs": [
    {
     "name": "stdout",
     "output_type": "stream",
     "text": [
      "1\n",
      "3\n",
      "5\n",
      "7\n",
      "9\n",
      "11\n",
      "13\n",
      "15\n",
      "17\n",
      "19\n"
     ]
    }
   ],
   "source": [
    "## create list of odd no frm 1 to 20\n",
    "l=[]\n",
    "for i in range(1,20):\n",
    "    if i%2!=0:\n",
    "        l.append(i)\n",
    "        print(i)"
   ]
  },
  {
   "cell_type": "code",
   "execution_count": 68,
   "id": "2a30bb3c-ced2-4a39-9e6e-f0f1f491c455",
   "metadata": {},
   "outputs": [],
   "source": [
    "## find sum of all ele in list\n",
    "## create list od odd nofrm 1 to 20\n",
    "l1=[1,2,3,4,5,6,7,8,9]\n",
    "sum=sum(l1)\n"
   ]
  },
  {
   "cell_type": "code",
   "execution_count": 69,
   "id": "860d2667-32bb-4d72-b6f3-cd798671d583",
   "metadata": {},
   "outputs": [
    {
     "data": {
      "text/plain": [
       "45"
      ]
     },
     "execution_count": 69,
     "metadata": {},
     "output_type": "execute_result"
    }
   ],
   "source": [
    "sum"
   ]
  },
  {
   "cell_type": "code",
   "execution_count": 70,
   "id": "b93e69c3-d0f7-43fc-b94b-94bc6c324025",
   "metadata": {},
   "outputs": [],
   "source": [
    "##find maximum value in list\n",
    "l1=[5,12,45,47,96,56,45,78,]\n",
    "max=max(l1)"
   ]
  },
  {
   "cell_type": "code",
   "execution_count": 71,
   "id": "0f982731-b96d-4408-b956-676eeec8e5af",
   "metadata": {},
   "outputs": [
    {
     "data": {
      "text/plain": [
       "96"
      ]
     },
     "execution_count": 71,
     "metadata": {},
     "output_type": "execute_result"
    }
   ],
   "source": [
    "max"
   ]
  },
  {
   "cell_type": "code",
   "execution_count": 72,
   "id": "33acd44b-2b4d-4d86-be2d-12ee70886bbb",
   "metadata": {},
   "outputs": [],
   "source": [
    "## find min value\n",
    "l1=[5,12,45,47,96,56,45,78,]\n",
    "min=min(l1)"
   ]
  },
  {
   "cell_type": "code",
   "execution_count": 73,
   "id": "948ab2fa-cef3-43f2-87cc-a9b279b5aec9",
   "metadata": {},
   "outputs": [
    {
     "data": {
      "text/plain": [
       "5"
      ]
     },
     "execution_count": 73,
     "metadata": {},
     "output_type": "execute_result"
    }
   ],
   "source": [
    "min"
   ]
  },
  {
   "cell_type": "code",
   "execution_count": 79,
   "id": "51901ce8-034f-4017-9886-73eca76e32dc",
   "metadata": {},
   "outputs": [
    {
     "name": "stdout",
     "output_type": "stream",
     "text": [
      "1\n",
      "4\n",
      "9\n",
      "16\n",
      "25\n",
      "36\n",
      "49\n",
      "64\n",
      "81\n",
      "100\n"
     ]
    }
   ],
   "source": [
    "## create list squares of no frm 1 to 10\n",
    "l=[]\n",
    "for i in range(1,11):\n",
    "    i=i*i\n",
    "    l.append(i)\n",
    "    print(i)\n"
   ]
  },
  {
   "cell_type": "code",
   "execution_count": 98,
   "id": "2d634615-f0f3-4764-8cbe-2f57caa823fe",
   "metadata": {},
   "outputs": [
    {
     "name": "stdout",
     "output_type": "stream",
     "text": [
      "[6, 25, 17, 15, 1, 4, 3, 11, 24, 2]\n"
     ]
    }
   ],
   "source": [
    "## create list of random no.\n",
    "import random\n",
    "r=random.sample(range(1,30),10)\n",
    "print(r)"
   ]
  },
  {
   "cell_type": "code",
   "execution_count": 112,
   "id": "91148079-b171-4e24-aae3-0e2dbcc13257",
   "metadata": {},
   "outputs": [],
   "source": [
    "## remove duplicate values from list\n",
    "l1=[5,12,45,4,4,47,96,96,56,45,78,]\n",
    "l=list(set(l1))\n"
   ]
  },
  {
   "cell_type": "code",
   "execution_count": 105,
   "id": "c0a3a57b-d422-4a9a-8dbe-0711bfae85ac",
   "metadata": {},
   "outputs": [
    {
     "data": {
      "text/plain": [
       "[96, 4, 5, 12, 45, 78, 47, 56]"
      ]
     },
     "execution_count": 105,
     "metadata": {},
     "output_type": "execute_result"
    }
   ],
   "source": [
    "l"
   ]
  },
  {
   "cell_type": "code",
   "execution_count": 113,
   "id": "3fafe2bd-a467-4a4e-82fb-5c310613966a",
   "metadata": {},
   "outputs": [],
   "source": [
    "##find the common  element between two list\n",
    "l=[]\n",
    "l1=[1,2,4,3,5,6]\n",
    "l2=[2,7,8,3,5,9]\n",
    "for l2 in l1:\n",
    "    if l2==l1:\n",
    "        l.append(l2)\n",
    "        print(l)\n",
    "        "
   ]
  },
  {
   "cell_type": "code",
   "execution_count": 115,
   "id": "fe725acb-f7b0-4d5c-b7c1-b6e1d0bfe79b",
   "metadata": {},
   "outputs": [
    {
     "data": {
      "text/plain": [
       "[2, 3, 5]"
      ]
     },
     "execution_count": 115,
     "metadata": {},
     "output_type": "execute_result"
    }
   ],
   "source": [
    "##find the common  element between two list\n",
    "l1=[1,2,4,3,5,6]\n",
    "l2=[2,7,8,3,5,9]\n",
    "list(set(l1).intersection(l2)) ## using intersection method"
   ]
  },
  {
   "cell_type": "code",
   "execution_count": 124,
   "id": "e6a39df9-c7ed-4a68-b7b6-7fbd83783570",
   "metadata": {},
   "outputs": [],
   "source": [
    "## merge two list\n",
    "l1=[1,2,4,3,5,6]\n",
    "l2=[2,7,8,3,5,9]\n",
    "l3=l1+l2 ## using +operator"
   ]
  },
  {
   "cell_type": "code",
   "execution_count": 125,
   "id": "22686ce5-ebea-436e-a7f4-dfc99f77bb67",
   "metadata": {},
   "outputs": [
    {
     "data": {
      "text/plain": [
       "[1, 2, 4, 3, 5, 6, 2, 7, 8, 3, 5, 9]"
      ]
     },
     "execution_count": 125,
     "metadata": {},
     "output_type": "execute_result"
    }
   ],
   "source": [
    "l3"
   ]
  },
  {
   "cell_type": "code",
   "execution_count": 126,
   "id": "33033fe4-812f-46cf-999c-916d9b2d37ef",
   "metadata": {},
   "outputs": [],
   "source": [
    "## merge two list\n",
    "l1=[1,2,4,3,5,6]\n",
    "l2=[2,7,8,3,5,9]\n",
    "l1.extend(l2) ## using extend ()"
   ]
  },
  {
   "cell_type": "code",
   "execution_count": 127,
   "id": "dbc4dec6-7cd3-48a9-8ffb-862c9bbae7f0",
   "metadata": {},
   "outputs": [
    {
     "data": {
      "text/plain": [
       "[1, 2, 4, 3, 5, 6, 2, 7, 8, 3, 5, 9]"
      ]
     },
     "execution_count": 127,
     "metadata": {},
     "output_type": "execute_result"
    }
   ],
   "source": [
    "l1"
   ]
  },
  {
   "cell_type": "code",
   "execution_count": 129,
   "id": "8f74e453-7f71-4936-bd02-2f7cf4e0fd6b",
   "metadata": {},
   "outputs": [
    {
     "name": "stdout",
     "output_type": "stream",
     "text": [
      "2\n",
      "4\n",
      "6\n",
      "8\n",
      "10\n"
     ]
    }
   ],
   "source": [
    "##multiply all ele by 2\n",
    "l1=[1,2,3,4,5]\n",
    "for i in l1:\n",
    "    x=i*2\n",
    "    print(x)"
   ]
  },
  {
   "cell_type": "code",
   "execution_count": 130,
   "id": "b4dd9d3e-d8f7-4bf6-bdd6-f4be25a23a21",
   "metadata": {},
   "outputs": [
    {
     "name": "stdout",
     "output_type": "stream",
     "text": [
      "2\n",
      "4\n",
      "6\n"
     ]
    }
   ],
   "source": [
    "##filter out all even no from a list\n",
    "## merge two list\n",
    "l1=[1,2,4,3,5,6]\n",
    "for i in l1:\n",
    "    if i%2==0:\n",
    "        print(i)"
   ]
  },
  {
   "cell_type": "code",
   "execution_count": 137,
   "id": "ad70d868-fe1f-42d3-bdc9-aea6342d952f",
   "metadata": {},
   "outputs": [
    {
     "name": "stdout",
     "output_type": "stream",
     "text": [
      "[1, 2, 3, 4, 5]\n"
     ]
    }
   ],
   "source": [
    "## convert a list of string to a list of integers\n",
    "l=['1','2','3','4','5']\n",
    "l1=map(int,l)\n",
    "print(list(l1))"
   ]
  },
  {
   "cell_type": "code",
   "execution_count": 141,
   "id": "e1791203-c1c4-45ba-82e9-23e9d8a7272d",
   "metadata": {},
   "outputs": [
    {
     "name": "stdout",
     "output_type": "stream",
     "text": [
      "<map object at 0x7f80e4467610>\n"
     ]
    }
   ],
   "source": [
    "## convert a list of integer to a list of string\n",
    "l=[1,2,3,4,5,6]\n",
    "l1=map(str,l)\n",
    "print(l1)"
   ]
  },
  {
   "cell_type": "code",
   "execution_count": 149,
   "id": "3abaf078-1bd4-4f70-8e9c-dc9c01bef3b1",
   "metadata": {},
   "outputs": [
    {
     "name": "stdout",
     "output_type": "stream",
     "text": [
      "[1, 2, 3, 4, 5, 6]\n"
     ]
    }
   ],
   "source": [
    "## flatten a nested list\n",
    "l1=[[1],[2,3],[4,5,6]]\n",
    "l = []\n",
    "for i in l1:\n",
    "    for j in i:\n",
    "        l.append(j)\n",
    "        \n",
    "print(l)\n",
    "        "
   ]
  },
  {
   "cell_type": "code",
   "execution_count": 17,
   "id": "ab870b07-2b55-493c-a8ce-231f957e7ca7",
   "metadata": {},
   "outputs": [
    {
     "name": "stdout",
     "output_type": "stream",
     "text": [
      "[0, 1, 1, 2, 3, 5, 8, 13, 21, 34, 55]\n"
     ]
    }
   ],
   "source": [
    "## create a list of fibonacci no\n",
    "l=[0,1]\n",
    "for i in range(2,11):\n",
    "    next_no=l[i-1]+l[i-2]\n",
    "    l.append(next_no)\n",
    "print(l)\n",
    "\n"
   ]
  },
  {
   "cell_type": "code",
   "execution_count": 163,
   "id": "8f695ff7-b65c-4575-b864-943b08582d2a",
   "metadata": {},
   "outputs": [
    {
     "name": "stdout",
     "output_type": "stream",
     "text": [
      "no sorted\n"
     ]
    }
   ],
   "source": [
    "##check if list is sorted\n",
    "l1=[2,3,1,4,7,6,8]\n",
    "l2=l1[:]\n",
    "l2.sort()\n",
    "if l2==l1:\n",
    "    print(\"yes sorted\")\n",
    "else:\n",
    "        print(\"no sorted\")\n"
   ]
  },
  {
   "cell_type": "code",
   "execution_count": 167,
   "id": "3dffd64e-9b36-4249-953f-3fde068b233c",
   "metadata": {},
   "outputs": [
    {
     "data": {
      "text/plain": [
       "[1, 2]"
      ]
     },
     "execution_count": 167,
     "metadata": {},
     "output_type": "execute_result"
    }
   ],
   "source": [
    "l1=[1,2,3,4,5,6]\n",
    "l1[:-4]"
   ]
  },
  {
   "cell_type": "code",
   "execution_count": 169,
   "id": "630adc8c-e650-4638-8401-005e5fb75772",
   "metadata": {},
   "outputs": [
    {
     "name": "stdout",
     "output_type": "stream",
     "text": [
      "[5, 6, 1, 2, 3, 4]\n"
     ]
    }
   ],
   "source": [
    "## rotate list frm left side by position 2\n",
    "l1=[1,2,3,4,5,6]\n",
    "if 2<len(l1):\n",
    "     l1=(l1[-2:]+l1[:-2])\n",
    "print(l1)\n",
    "\n"
   ]
  },
  {
   "cell_type": "code",
   "execution_count": 173,
   "id": "21f89d93-4c7c-41d3-9b4a-be2a9c84686a",
   "metadata": {},
   "outputs": [
    {
     "name": "stdout",
     "output_type": "stream",
     "text": [
      "[3, 4, 5, 6, 1, 2]\n"
     ]
    }
   ],
   "source": [
    "## rotate list frm right side by position 2\n",
    "l1=[1,2,3,4,5,6]\n",
    "if 2<len(l1):\n",
    "     l1=(l1[-4:]+l1[:-4])\n",
    "print(l1)\n"
   ]
  },
  {
   "cell_type": "code",
   "execution_count": 23,
   "id": "9314667f-abca-49ba-9646-34b8724cfa86",
   "metadata": {},
   "outputs": [
    {
     "name": "stdout",
     "output_type": "stream",
     "text": [
      "2,3,5,7,11,13,17,19,23,29,31,37,41,43,47,"
     ]
    }
   ],
   "source": [
    "## create a list of prime no up to 50\n",
    "for i in range(2,51):\n",
    "    for j in range(2,51):\n",
    "         if i%j==0:\n",
    "            break\n",
    "    if i==j:\n",
    "                print(i,end=\",\")\n",
    "    "
   ]
  },
  {
   "cell_type": "code",
   "execution_count": 31,
   "id": "d2994e2e-3075-47bc-ae05-a5964639c5ae",
   "metadata": {},
   "outputs": [
    {
     "name": "stdout",
     "output_type": "stream",
     "text": [
      "[1, 2, 3]\n",
      "[4, 5, 6]\n",
      "[7, 8]\n"
     ]
    }
   ],
   "source": [
    "## split a list into chunks of size 'n'\n",
    "l=[1,2,3,4,5,6,7,8]\n",
    "for i in range(0,len(l),3):\n",
    "    print(l[i:i+3])\n",
    "\n"
   ]
  },
  {
   "cell_type": "code",
   "execution_count": 32,
   "id": "de3c6c62-3f03-4e97-9dd3-f6002a1756e0",
   "metadata": {},
   "outputs": [
    {
     "name": "stdout",
     "output_type": "stream",
     "text": [
      "second lagest no is: 58\n"
     ]
    }
   ],
   "source": [
    "## find the second largest no in list\n",
    "l1=[1,2,3,45,4,5,6,58,7,8,86]\n",
    "l2=list(set(l1))\n",
    "l2.sort()\n",
    "print(\"second lagest no is:\",l2[-2])\n",
    "\n"
   ]
  },
  {
   "cell_type": "code",
   "execution_count": 33,
   "id": "5dfe58d6-4272-4726-9fbd-79c420bd469a",
   "metadata": {},
   "outputs": [
    {
     "name": "stdout",
     "output_type": "stream",
     "text": [
      "1,4,9,16,25,36,49,"
     ]
    }
   ],
   "source": [
    "## replace every ele in square\n",
    "l1=[1,2,3,4,5,6,7]\n",
    "for i in l1:\n",
    "    x=i*i\n",
    "    print(x,end=\",\")\n"
   ]
  },
  {
   "cell_type": "code",
   "execution_count": 37,
   "id": "90c014a5-ba3e-4f5a-a836-0a2b0703c27a",
   "metadata": {},
   "outputs": [],
   "source": [
    "## convert a list to dict where list ele is keye and their indices become value\n",
    "l=[1,2,3,4,5,6,7,8]\n",
    "l[1]=j"
   ]
  },
  {
   "cell_type": "code",
   "execution_count": 38,
   "id": "ef43ac9e-2f15-4ed8-840c-5dd92677507b",
   "metadata": {},
   "outputs": [
    {
     "data": {
      "text/plain": [
       "2"
      ]
     },
     "execution_count": 38,
     "metadata": {},
     "output_type": "execute_result"
    }
   ],
   "source": [
    "j"
   ]
  },
  {
   "cell_type": "code",
   "execution_count": 48,
   "id": "cb409d44-bf9c-438b-b500-9923fc32f2b4",
   "metadata": {},
   "outputs": [
    {
     "name": "stdout",
     "output_type": "stream",
     "text": [
      "[3, 8, 4, 6, 5, 2, 7, 1]\n"
     ]
    }
   ],
   "source": [
    "import random\n",
    "l1=[1,2,3,4,5,6,7,8]\n",
    "random.shuffle(l1)\n",
    "print(l1)"
   ]
  },
  {
   "cell_type": "code",
   "execution_count": 75,
   "id": "517ea377-a97e-4dc7-acb7-c5700b4fdff0",
   "metadata": {},
   "outputs": [
    {
     "name": "stdin",
     "output_type": "stream",
     "text": [
      "enter a no: 5\n"
     ]
    },
    {
     "name": "stdout",
     "output_type": "stream",
     "text": [
      "factorial of  5  is 120\n"
     ]
    }
   ],
   "source": [
    "## find the  factorial\n",
    "x=int(input(\"enter a no:\"))\n",
    "fact=1\n",
    "if x<0:\n",
    "    print(\"no factorial od negative no\")\n",
    "elif  x==0:\n",
    "        print(\"fact of 0 is 1\")\n",
    "else:\n",
    "        for i in range(1,x+1):\n",
    "             fact=fact*i\n",
    "        print(\"factorial of \",x,\" is\",fact)\n",
    "        "
   ]
  },
  {
   "cell_type": "code",
   "execution_count": 7,
   "id": "bebdf4ed-c02d-4c04-aa48-8d3df0deb392",
   "metadata": {},
   "outputs": [
    {
     "name": "stdout",
     "output_type": "stream",
     "text": [
      "2\n",
      "6\n"
     ]
    }
   ],
   "source": [
    "## check if two list have at least one comman element\n",
    "l1=[2,3,4,6,8,9]\n",
    "l2=[1,2,6,10,12]\n",
    "for i in l1:\n",
    "    for j in l2:\n",
    "        if i==j:\n",
    "            print(i)"
   ]
  },
  {
   "cell_type": "code",
   "execution_count": 30,
   "id": "ec8819e5-e17f-492a-9aa6-0e5d106d0660",
   "metadata": {},
   "outputs": [],
   "source": [
    "## remove all ele\n",
    "l1=[2,3,4,6,8,9]\n",
    "l1.clear()"
   ]
  },
  {
   "cell_type": "code",
   "execution_count": 9,
   "id": "ea339954-52c1-4145-bb20-f56e61473868",
   "metadata": {},
   "outputs": [
    {
     "data": {
      "text/plain": [
       "[]"
      ]
     },
     "execution_count": 9,
     "metadata": {},
     "output_type": "execute_result"
    }
   ],
   "source": [
    "l1"
   ]
  },
  {
   "cell_type": "code",
   "execution_count": 16,
   "id": "288a8d32-9ea3-48c7-afe8-fa6b9d8488b9",
   "metadata": {},
   "outputs": [
    {
     "name": "stdout",
     "output_type": "stream",
     "text": [
      "[2, 3, 0, 6, 8, 0, 9, 0]\n"
     ]
    }
   ],
   "source": [
    "## replace all negative no with 0\n",
    "l1=[2,3,-4,6,8,-1,9,-7]\n",
    "l2=[]\n",
    "for i in l1:\n",
    "    if i<0:\n",
    "         l2.append(0)\n",
    "    else:\n",
    "        l2.append(i)\n",
    "\n",
    "print(l2)\n",
    "    "
   ]
  },
  {
   "cell_type": "code",
   "execution_count": 2,
   "id": "e8706458-1920-4da1-8ea4-6a056c7d5f1b",
   "metadata": {},
   "outputs": [
    {
     "data": {
      "text/plain": [
       "['my', 'name', 'is', 'pooja']"
      ]
     },
     "execution_count": 2,
     "metadata": {},
     "output_type": "execute_result"
    }
   ],
   "source": [
    "##convert  string in a list of word\n",
    "s=\"my name is pooja\"\n",
    "s.split()"
   ]
  },
  {
   "cell_type": "code",
   "execution_count": 6,
   "id": "8b03a602-f90c-4d39-8bde-c30e12618684",
   "metadata": {},
   "outputs": [
    {
     "data": {
      "text/plain": [
       "'my name is pooja'"
      ]
     },
     "execution_count": 6,
     "metadata": {},
     "output_type": "execute_result"
    }
   ],
   "source": [
    "## convert word of list in a string\n",
    "l1=['my','name','is','pooja']\n",
    "' '.join(l1)"
   ]
  },
  {
   "cell_type": "code",
   "execution_count": 18,
   "id": "75402c7a-29a3-4e74-b632-aa083f758971",
   "metadata": {},
   "outputs": [
    {
     "name": "stdout",
     "output_type": "stream",
     "text": [
      "[0, 1, 4, 9, 16]\n"
     ]
    }
   ],
   "source": [
    "##  create a list of first n power of2\n",
    "n=5\n",
    "l=[]\n",
    "for i in range(0,n):\n",
    "    x=i**2\n",
    "    l.append(x)\n",
    "print(l)"
   ]
  },
  {
   "cell_type": "code",
   "execution_count": 20,
   "id": "174660d3-bd7a-4213-bd88-fd071285725f",
   "metadata": {},
   "outputs": [
    {
     "name": "stdout",
     "output_type": "stream",
     "text": [
      "longest string is: rathore\n"
     ]
    }
   ],
   "source": [
    "##find longest string in a list of string\n",
    "l=['my','name','is','pooja','rathore']\n",
    "mx=max(l,key=len)\n",
    "print(\"longest string is:\", mx)\n"
   ]
  },
  {
   "cell_type": "code",
   "execution_count": 21,
   "id": "82190c74-4f09-41f1-84e4-4402e8ef7428",
   "metadata": {},
   "outputs": [
    {
     "name": "stdout",
     "output_type": "stream",
     "text": [
      "longest string is: my\n"
     ]
    }
   ],
   "source": [
    "##find shorted string in a list of string\n",
    "l=['my','name','is','pooja','rathore']\n",
    "mn=min(l,key=len)\n",
    "print(\"longest string is:\", mn)\n"
   ]
  },
  {
   "cell_type": "code",
   "execution_count": 38,
   "id": "cf9b3d97-b731-4c1f-9787-9f326db5918b",
   "metadata": {},
   "outputs": [
    {
     "name": "stdout",
     "output_type": "stream",
     "text": [
      "10 10 10 10 "
     ]
    }
   ],
   "source": [
    "## create list of triangular no.\n",
    "for i in range(1,n+1):\n",
    "    print(n*(n+1)//2,end=\" \")\n",
    "\n",
    "\n",
    "\n",
    "\n"
   ]
  },
  {
   "cell_type": "code",
   "execution_count": 32,
   "id": "bf21d26b-efb0-4537-ba11-49ae9e5b9bef",
   "metadata": {},
   "outputs": [
    {
     "data": {
      "text/plain": [
       "15"
      ]
     },
     "execution_count": 32,
     "metadata": {},
     "output_type": "execute_result"
    }
   ],
   "source": [
    "30//2"
   ]
  },
  {
   "cell_type": "code",
   "execution_count": null,
   "id": "411d7935-5bbb-40e7-9abb-f10333de714b",
   "metadata": {},
   "outputs": [],
   "source": [
    "l1=[2,3,4,5,6,7]\n",
    "l2=[2,3,4]\n",
    "for i in l1:\n",
    "    for j in l2:\n",
    "        if i==j"
   ]
  },
  {
   "cell_type": "markdown",
   "id": "89b7d615-0dd9-4c2a-af77-df5ba8e4a2da",
   "metadata": {},
   "source": [
    "## Tuple problems"
   ]
  },
  {
   "cell_type": "code",
   "execution_count": 6,
   "id": "aa243cd1-274e-4b54-ba56-3d7c476be02c",
   "metadata": {},
   "outputs": [
    {
     "data": {
      "text/plain": [
       "(1, 2, 3, 4, 5)"
      ]
     },
     "execution_count": 6,
     "metadata": {},
     "output_type": "execute_result"
    }
   ],
   "source": [
    "tuple(range(1,6))"
   ]
  },
  {
   "cell_type": "code",
   "execution_count": 8,
   "id": "2be32c52-0e05-48b4-9540-2f51537ce58d",
   "metadata": {},
   "outputs": [
    {
     "data": {
      "text/plain": [
       "3"
      ]
     },
     "execution_count": 8,
     "metadata": {},
     "output_type": "execute_result"
    }
   ],
   "source": [
    "## access third ele\n",
    "t=(1,2,3,4,5)\n",
    "t[2]"
   ]
  },
  {
   "cell_type": "code",
   "execution_count": 13,
   "id": "d0ca7ccf-6a99-4335-be3c-1a0c31ae794b",
   "metadata": {},
   "outputs": [
    {
     "name": "stdout",
     "output_type": "stream",
     "text": [
      "total count: 5\n"
     ]
    }
   ],
   "source": [
    "## find length of  tuple\n",
    "t=(1,2,3,4,5)\n",
    "count=0\n",
    "for i in t:\n",
    "    count=count+1\n",
    "print('total count:',count)"
   ]
  },
  {
   "cell_type": "code",
   "execution_count": 15,
   "id": "ac4bad3a-71f4-40b8-b334-0fab4a6da1c1",
   "metadata": {},
   "outputs": [
    {
     "name": "stdout",
     "output_type": "stream",
     "text": [
      "3\n"
     ]
    }
   ],
   "source": [
    "## count occurrences of ele\n",
    "t=(1,2,3,4,2,5,2)\n",
    "a=2\n",
    "count=0\n",
    "for i in t:\n",
    "    if i==a:\n",
    "        count = count+1\n",
    "print(count)\n"
   ]
  },
  {
   "cell_type": "code",
   "execution_count": 17,
   "id": "22d6086f-03c6-44e4-9565-7f8493ab1730",
   "metadata": {},
   "outputs": [
    {
     "data": {
      "text/plain": [
       "1"
      ]
     },
     "execution_count": 17,
     "metadata": {},
     "output_type": "execute_result"
    }
   ],
   "source": [
    "## find the index of first occurrence\n",
    "t=(1,2,3,2,4,5)\n",
    "t.index(2)\n"
   ]
  },
  {
   "cell_type": "code",
   "execution_count": 22,
   "id": "86fe8374-26dc-4ebe-a317-33b72a305a03",
   "metadata": {},
   "outputs": [
    {
     "ename": "IndentationError",
     "evalue": "expected an indented block after 'else' statement on line 7 (1946335312.py, line 8)",
     "output_type": "error",
     "traceback": [
      "\u001b[0;36m  Cell \u001b[0;32mIn[22], line 8\u001b[0;36m\u001b[0m\n\u001b[0;31m    print(\"ele not exist\")\u001b[0m\n\u001b[0m    ^\u001b[0m\n\u001b[0;31mIndentationError\u001b[0m\u001b[0;31m:\u001b[0m expected an indented block after 'else' statement on line 7\n"
     ]
    }
   ],
   "source": [
    "##check if ele is exist\n",
    "t=(1,2,3,4,5)\n",
    "n=2\n",
    "for i in t:\n",
    "    if n==i:\n",
    "        print(\"element exist\")\n",
    "    else:\n",
    "    print(\"ele not exist\")"
   ]
  },
  {
   "cell_type": "code",
   "execution_count": null,
   "id": "69c16708-d8de-49b4-a365-81eed647e3cf",
   "metadata": {},
   "outputs": [],
   "source": [
    "## "
   ]
  }
 ],
 "metadata": {
  "kernelspec": {
   "display_name": "Python 3 (ipykernel)",
   "language": "python",
   "name": "python3"
  },
  "language_info": {
   "codemirror_mode": {
    "name": "ipython",
    "version": 3
   },
   "file_extension": ".py",
   "mimetype": "text/x-python",
   "name": "python",
   "nbconvert_exporter": "python",
   "pygments_lexer": "ipython3",
   "version": "3.10.8"
  }
 },
 "nbformat": 4,
 "nbformat_minor": 5
}
