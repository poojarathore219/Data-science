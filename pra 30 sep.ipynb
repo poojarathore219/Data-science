{
 "cells": [
  {
   "cell_type": "code",
   "execution_count": 1,
   "id": "e0fd05bc",
   "metadata": {},
   "outputs": [],
   "source": [
    "a=10\n",
    "b=0\n"
   ]
  },
  {
   "cell_type": "markdown",
   "id": "f8e0bec1",
   "metadata": {},
   "source": [
    "## exception handling"
   ]
  },
  {
   "cell_type": "code",
   "execution_count": null,
   "id": "3cafe375",
   "metadata": {},
   "outputs": [],
   "source": []
  },
  {
   "cell_type": "code",
   "execution_count": 2,
   "id": "9d98c7d5",
   "metadata": {},
   "outputs": [
    {
     "ename": "ZeroDivisionError",
     "evalue": "division by zero",
     "output_type": "error",
     "traceback": [
      "\u001b[1;31m---------------------------------------------------------------------------\u001b[0m",
      "\u001b[1;31mZeroDivisionError\u001b[0m                         Traceback (most recent call last)",
      "Cell \u001b[1;32mIn[2], line 1\u001b[0m\n\u001b[1;32m----> 1\u001b[0m a\u001b[38;5;241m/\u001b[39mb\n",
      "\u001b[1;31mZeroDivisionError\u001b[0m: division by zero"
     ]
    }
   ],
   "source": [
    "a/b"
   ]
  },
  {
   "cell_type": "code",
   "execution_count": 3,
   "id": "6d328b2a",
   "metadata": {},
   "outputs": [
    {
     "ename": "ZeroDivisionError",
     "evalue": "division by zero",
     "output_type": "error",
     "traceback": [
      "\u001b[1;31m---------------------------------------------------------------------------\u001b[0m",
      "\u001b[1;31mZeroDivisionError\u001b[0m                         Traceback (most recent call last)",
      "Cell \u001b[1;32mIn[3], line 1\u001b[0m\n\u001b[1;32m----> 1\u001b[0m a\u001b[38;5;241m/\u001b[39mb\n\u001b[0;32m      2\u001b[0m \u001b[38;5;28mprint\u001b[39m(\u001b[38;5;124m\"\u001b[39m\u001b[38;5;124mprint something\u001b[39m\u001b[38;5;124m\"\u001b[39m)\n",
      "\u001b[1;31mZeroDivisionError\u001b[0m: division by zero"
     ]
    }
   ],
   "source": [
    "a/b\n",
    "print(\"print something\")"
   ]
  },
  {
   "cell_type": "code",
   "execution_count": 9,
   "id": "a130e166",
   "metadata": {},
   "outputs": [],
   "source": [
    "l=[1,2,3,4,5,6,7,8]\n",
    "l1=[]\n",
    "def even_parser(l):\n",
    "    for i in l:\n",
    "        if i%2==0:\n",
    "            l1.append(i)\n",
    "    return l1"
   ]
  },
  {
   "cell_type": "code",
   "execution_count": 10,
   "id": "ce51e176",
   "metadata": {},
   "outputs": [
    {
     "data": {
      "text/plain": [
       "[2, 4, 6, 8]"
      ]
     },
     "execution_count": 10,
     "metadata": {},
     "output_type": "execute_result"
    }
   ],
   "source": [
    "even_parser(l)"
   ]
  },
  {
   "cell_type": "code",
   "execution_count": 1,
   "id": "81f41f71",
   "metadata": {},
   "outputs": [
    {
     "ename": "NameError",
     "evalue": "name 'even_parser' is not defined",
     "output_type": "error",
     "traceback": [
      "\u001b[1;31m---------------------------------------------------------------------------\u001b[0m",
      "\u001b[1;31mNameError\u001b[0m                                 Traceback (most recent call last)",
      "Cell \u001b[1;32mIn[1], line 1\u001b[0m\n\u001b[1;32m----> 1\u001b[0m even_parser(l)\n\u001b[0;32m      2\u001b[0m \u001b[38;5;28mprint\u001b[39m(\u001b[38;5;124m\"\u001b[39m\u001b[38;5;124mthis is\u001b[39m\u001b[38;5;124m\"\u001b[39m)\n",
      "\u001b[1;31mNameError\u001b[0m: name 'even_parser' is not defined"
     ]
    }
   ],
   "source": [
    "even_parser(l)\n",
    "print(\"this is\")"
   ]
  },
  {
   "cell_type": "code",
   "execution_count": 18,
   "id": "14d40f44",
   "metadata": {},
   "outputs": [
    {
     "name": "stdout",
     "output_type": "stream",
     "text": [
      "enter a value for a4\n",
      "enter a value for b0\n",
      "i handaled error\n"
     ]
    }
   ],
   "source": [
    "try:\n",
    "    a=int(input(\"enter a value for a\"))\n",
    "    b=int(input(\"enter a value for b\"))\n",
    "    c=a/b\n",
    "    print(c)\n",
    "except:\n",
    "      pass\n",
    "print(\"i handaled error\")"
   ]
  },
  {
   "cell_type": "code",
   "execution_count": 1,
   "id": "a0ea7566",
   "metadata": {},
   "outputs": [
    {
     "name": "stdout",
     "output_type": "stream",
     "text": [
      "enter a value for a4\n",
      "enter a value for b0\n",
      "i handaled error\n"
     ]
    }
   ],
   "source": [
    "try:\n",
    "    a=int(input(\"enter a value for a\"))\n",
    "    b=int(input(\"enter a value for b\"))\n",
    "    c=a/b\n",
    "    print(c)\n",
    "except:\n",
    "      pass\n",
    "print(\"i handaled error\")"
   ]
  },
  {
   "cell_type": "markdown",
   "id": "3e9b4639",
   "metadata": {},
   "source": [
    "l=[1,2,3,4,5,6,7,8]\n",
    "l1=[]\n",
    "def even_parser(l):\n",
    "    for i in l:\n",
    "        if i%2==0:\n",
    "            l1.append(i)\n",
    "    return l1"
   ]
  },
  {
   "cell_type": "code",
   "execution_count": 15,
   "id": "e7ed1ade",
   "metadata": {},
   "outputs": [],
   "source": [
    "l=[1,2,3,4,5,6,7,8]\n",
    "l1=[]\n",
    "def even_parser(l):\n",
    "    try:\n",
    "        for i in l:\n",
    "            if i%2==0:\n",
    "                l1.append(i)\n",
    "        return l1\n",
    "    except:\n",
    "        pass"
   ]
  },
  {
   "cell_type": "code",
   "execution_count": 19,
   "id": "6903b943",
   "metadata": {},
   "outputs": [
    {
     "name": "stdout",
     "output_type": "stream",
     "text": [
      "fjhgjhk\n"
     ]
    }
   ],
   "source": [
    "even_parser(5)\n",
    "print(\"fjhgjhk\")"
   ]
  },
  {
   "cell_type": "code",
   "execution_count": 22,
   "id": "dca8d3cb",
   "metadata": {},
   "outputs": [
    {
     "name": "stdout",
     "output_type": "stream",
     "text": [
      "3\n",
      "0\n",
      "division by zero\n"
     ]
    }
   ],
   "source": [
    "try:\n",
    "    a=int(input())\n",
    "    b=int(input())\n",
    "    c=a/b\n",
    "except Exception as e:\n",
    "    print(e)"
   ]
  },
  {
   "cell_type": "code",
   "execution_count": 34,
   "id": "196f0c09",
   "metadata": {},
   "outputs": [
    {
     "name": "stdout",
     "output_type": "stream",
     "text": [
      "pooja\n",
      "invalid literal for int() with base 10: 'pooja'\n"
     ]
    }
   ],
   "source": [
    "try:\n",
    "    a=int(input())\n",
    "    b=int(input())\n",
    "    c=a/b\n",
    "except TypeError as t:\n",
    "    print(t)\n",
    "except ZeroDivisionError as z:\n",
    "    print(z)\n",
    "except ValueError as v:\n",
    "    print(v)"
   ]
  },
  {
   "cell_type": "code",
   "execution_count": 33,
   "id": "ec4e3d6c",
   "metadata": {},
   "outputs": [
    {
     "name": "stdout",
     "output_type": "stream",
     "text": [
      "division by zero\n",
      "invalid literal for int() with base 10: 'pooja'\n"
     ]
    }
   ],
   "source": [
    "try:\n",
    "    x=5/0\n",
    "except ZeroDivisionError as z:\n",
    "    print(z)\n",
    "    try:\n",
    "        y=int(\"pooja\")\n",
    "    except ValueError as v:\n",
    "        print(v)"
   ]
  },
  {
   "cell_type": "code",
   "execution_count": 35,
   "id": "e8de91e7",
   "metadata": {},
   "outputs": [
    {
     "name": "stdout",
     "output_type": "stream",
     "text": [
      "division by zero\n"
     ]
    }
   ],
   "source": [
    "try:\n",
    "    x=5/0\n",
    "except ZeroDivisionError as z:\n",
    "    print(z)\n",
    "else:\n",
    "    print(\"this will execute itself once trt will execute\")"
   ]
  },
  {
   "cell_type": "code",
   "execution_count": 36,
   "id": "455a1da9",
   "metadata": {},
   "outputs": [
    {
     "name": "stdout",
     "output_type": "stream",
     "text": [
      "this will execute itself once trt will execute\n"
     ]
    }
   ],
   "source": [
    "try:\n",
    "    x=5/1\n",
    "except ZeroDivisionError as z:\n",
    "    print(z)\n",
    "else:\n",
    "    print(\"this will execute itself once trt will execute\")"
   ]
  },
  {
   "cell_type": "code",
   "execution_count": 37,
   "id": "9e97a7cc",
   "metadata": {},
   "outputs": [
    {
     "name": "stdout",
     "output_type": "stream",
     "text": [
      "division by zero\n",
      "this will be excuted always\n"
     ]
    }
   ],
   "source": [
    "try:\n",
    "    x=5/0\n",
    "except ZeroDivisionError as z:\n",
    "    print(z)\n",
    "else:\n",
    "    print(\"this will execute itself once trt will execute\")\n",
    "finally:\n",
    "    print(\"this will be excuted always\")"
   ]
  },
  {
   "cell_type": "code",
   "execution_count": 41,
   "id": "65409285",
   "metadata": {},
   "outputs": [
    {
     "name": "stdout",
     "output_type": "stream",
     "text": [
      "this is a keyerror\n"
     ]
    }
   ],
   "source": [
    "try:\n",
    "    d={\"name\":\"pooja\",\"mobile_no\":345467,\"email_id\":\"pooja@gmail.com\"}\n",
    "    d[\"course\"]\n",
    "except Exception :\n",
    "    print(\"this is a keyerror\")"
   ]
  },
  {
   "cell_type": "code",
   "execution_count": 42,
   "id": "74129a4e",
   "metadata": {},
   "outputs": [
    {
     "data": {
      "text/plain": [
       "{'name': 'pooja', 'mobile_no': 345467, 'email_id': 'pooja@gmail.com'}"
      ]
     },
     "execution_count": 42,
     "metadata": {},
     "output_type": "execute_result"
    }
   ],
   "source": [
    "d"
   ]
  },
  {
   "cell_type": "code",
   "execution_count": 43,
   "id": "499931cf",
   "metadata": {},
   "outputs": [
    {
     "name": "stdout",
     "output_type": "stream",
     "text": [
      "list index out of range\n"
     ]
    }
   ],
   "source": [
    "try:\n",
    "    l=[2,3,4,5,6]\n",
    "    l[10]\n",
    "except Exception as e:\n",
    "    print(e)"
   ]
  },
  {
   "cell_type": "code",
   "execution_count": 44,
   "id": "72e2b005",
   "metadata": {},
   "outputs": [
    {
     "ename": "ValueError",
     "evalue": "invalid literal for int() with base 10: 'pooja'",
     "output_type": "error",
     "traceback": [
      "\u001b[1;31m---------------------------------------------------------------------------\u001b[0m",
      "\u001b[1;31mValueError\u001b[0m                                Traceback (most recent call last)",
      "Cell \u001b[1;32mIn[44], line 2\u001b[0m\n\u001b[0;32m      1\u001b[0m a \u001b[38;5;241m=\u001b[39m\u001b[38;5;124m\"\u001b[39m\u001b[38;5;124mpooja\u001b[39m\u001b[38;5;124m\"\u001b[39m\n\u001b[1;32m----> 2\u001b[0m \u001b[38;5;28mint\u001b[39m(a)\n",
      "\u001b[1;31mValueError\u001b[0m: invalid literal for int() with base 10: 'pooja'"
     ]
    }
   ],
   "source": [
    "a =\"pooja\"\n",
    "int(a)"
   ]
  },
  {
   "cell_type": "code",
   "execution_count": 45,
   "id": "f1550c61",
   "metadata": {},
   "outputs": [
    {
     "name": "stdout",
     "output_type": "stream",
     "text": [
      "invalid literal for int() with base 10: 'pooja'\n"
     ]
    }
   ],
   "source": [
    "try:     \n",
    "    a =\"pooja\"\n",
    "    int(a)\n",
    "except Exception as e:\n",
    "    print(e)"
   ]
  },
  {
   "cell_type": "code",
   "execution_count": 46,
   "id": "e1d1cbdc",
   "metadata": {},
   "outputs": [
    {
     "data": {
      "text/plain": [
       "'{\\n \"cells\": [\\n  {\\n   \"cell_type\": \"code\",\\n   \"execution_count\": null,\\n   \"id\": \"d1b69fc4\",\\n   \"metadata\": {},\\n   \"outputs\": [],\\n   \"source\": [\\n    \"##In the general sense, a text file refers to any file that has only text and is void of images and other non-text characters. These sometimes use the TXT file extension but don\\'t necessarily need to. For example, a Word document that is an essay containing just text can be in the DOCX file format but still be called a text file.\\\\n\",\\n    \"Reference: www.lifewire.com/txt-text-file-4150707\\\\n\",\\n    \"Was this helpful?\\\\n\",\\n    \"People also ask\\\\n\",\\n    \"\\\\n\",\\n    \"What is a txt file?\\\\n\",\\n    \".txt file is open with any type of text editor and there are many text editor available in every operating system for open and edit text files.This file format is a basic file format that is commonly used in every place and it is easy to download and edit from any operating system. How to create sample text files?\\\\n\",\\n    \"Large Sample text file for Download - Learning Container\\\\n\",\\n    \"\\\\n\",\\n    \"www.learningcontainer.com/sample-text-file/\\\\n\",\\n    \"\\\\n\",\\n    \"How do I open a text file?\\\\n\",\\n    \"A text file contains just text (versus other content like images). Open one with any text editor, such as Notepad or TextEdit. Convert to other text-based formats with Notepad++ and similar tools. This article describes what a text file is and how to open one or convert one to a different format. What Is a Text File?\\\\n\",\\n    \"What Is a Text File? - Lifewire\\\\n\",\\n    \"\\\\n\",\\n    \"www.lifewire.com/txt-text-file-4150707\\\\n\",\\n    \"\\\\n\",\\n    \"What is a name text file?\\\\n\",\\n    \"On most operating systems, the name text file refers to a file format that allows only plain text content with very little formatting (e.g., no bold or italic types). Such files can be viewed and edited on text terminals or in simple text editors.\\\\n\",\\n    \"Text file - Wikipedia\\\\n\",\\n    \"\\\\n\",\\n    \"en.wikipedia.org/wiki/Text_file\\\\n\",\\n    \"\\\\n\",\\n    \"Can a text editor open a txt file?\\\\n\",\\n    \"All text editors should be able to open any text file, especially if there isn\\'t special formatting being used. For example, TXT files can be opened with the built-in Notepad program in Windows by right-clicking the file and choosing Edit. Similar for TextEdit on a Mac. Another free program that can open any text file is Notepad++.\\\\n\",\\n    \"What Is a Text File? - Lifewire\\\\n\",\\n    \"\\\\n\",\\n    \"www.lifewire.com/txt-text-file-4150707\\\\n\",\\n    \"Feedback\\\\n\",\\n    \"Global web icon\\\\n\",\\n    \"getsamplefiles.com\\\\n\",\\n    \"https://getsamplefiles.com/sample-document-files/txt\\\\n\",\\n    \"Sample txt document File Download\\\\n\",\\n    \"WebDownload. TXT document files are plain text files that contain only unformatted text. They do not contain any formatting or layout information, and are often used for storing simple text documents or data sets. They can be opened and edited with any text editor, such as â€¦\\\\n\",\\n    \"\\\\n\",\\n    \"Archive Files\\\\n\",\\n    \"Download Sample archive Files . Here, you can find a collection of sample archive â€¦\\\\n\",\\n    \"\\\\n\",\\n    \"Audio Files\\\\n\",\\n    \"These audio file formats range from Mp3, M4a, AAC, WAW, and many more. â€¦\\\\n\",\\n    \"\\\\n\",\\n    \"Images\\\\n\",\\n    \"Each sample image file is available in multiple resolutions. SAMPLE FILES. â€¦\\\\n\",\\n    \"\\\\n\",\\n    \"Video Files\\\\n\",\\n    \"Download Sample video Files . Here, you will find a variety of sample video files â€¦\\\\n\",\\n    \"\\\\n\",\\n    \"See results only from getsamplefiles.com\\\\n\",\\n    \"Global web icon\\\\n\",\\n    \"learningcontainer.com\\\\n\",\\n    \"https://www.learningcontainer.com/sample-text\\\\n\",\\n    \"Large Sample text file for Download - Learning Container\\\\n\",\\n    \"Web.txt file is open with any type of text editor and there are many text editor available in every operating system for open and edit text files.This file format is a basic file format that is â€¦\\\\n\",\\n    \"\\\\n\",\\n    \"EXPLORE FURTHER\\\\n\",\\n    \"Global web icon\\\\n\",\\n    \"5 to 10 GB of text files to download? - Stack Overflow\\\\n\",\\n    \"stackoverflow.com\\\\n\",\\n    \"Global web icon\\\\n\",\\n    \"2mb text file - Learning Container\\\\n\",\\n    \"learningcontainer.com\\\\n\",\\n    \"Recommended to you based on what\\'s popular â€¢ Feedback\\\\n\",\\n    \"Global web icon\\\\n\",\\n    \"anytxt.net\\\\n\",\\n    \"https://anytxt.net/download\\\\n\",\\n    \"Download Best Free Desktop Full-Text Search Tool | Anytxt\\\\n\",\\n    \"WebAdded the feature of editing multiple file typesâ€™ inclusion and exclusion rules for indexing; Fixed the issue that Anytxt full index search may crash on some Windows 11; Added the â€¦\\\\n\",\\n    \"\\\\n\",\\n    \"EXPLORE FURTHER\\\\n\",\\n    \"Global web icon\\\\n\",\\n    \"AnyTXT Searcher - Free download and software reviews - â€¦\\\\n\",\\n    \"download.cnet.com\\\\n\",\\n    \"Global web icon\\\\n\",\\n    \"AnyDesk (free) download Windows version\\\\n\",\\n    \"en.freedownloadmanageâ€¦\\\\n\",\\n    \"Recommended to you based on what\\'s popular â€¢ Feedback\\\\n\",\\n    \"Global web icon\\\\n\",\\n    \"Lifewire\\\\n\",\\n    \"https://www.lifewire.com/txt-text-file-4150707\\\\n\",\\n    \"What Is a Text File? - Lifewire\\\\n\",\\n    \"WebWhat to Know A text file contains just text (versus other content like images). Open one with any text editor, such as Notepad or TextEdit. Convert to other text-based formats with â€¦\\\\n\",\\n    \"\\\\n\",\\n    \"Global web icon\\\\n\",\\n    \"SourceForge\\\\n\",\\n    \"https://sourceforge.net/projects/anytextfile\\\\n\",\\n    \"Any Text File download | SourceForge.net\\\\n\",\\n    \"WebAny Text File Text file reader/writer in chapter/block format. Brought to you by: josifoski Add a Review Downloads: 1 This Week Last Update: 2015-12-29 Download Summary Files â€¦\\\\n\",\\n    \"\\\\n\",\\n    \"Global web icon\\\\n\",\\n    \"Computer Hope\\\\n\",\\n    \"https://www.computerhope.com/issues/ch001359.htm\\\\n\",\\n    \"How to Create a Text File - Computer Hope\\\\n\",\\n    \"WebClick Start. Open All Programs, Accessories, then click the Notepad shortcut. Save the file as a text file You can also create a text file using any other word processing program, like â€¦\\\\n\",\\n    \"\\\\n\",\\n    \"Global web icon\\\\n\",\\n    \"FileInfo.com\\\\n\",\\n    \"https://fileinfo.com/extension/txt\\\\n\",\\n    \"TXT File - What is a .txt file and how do I open it? - FileInfo.com\\\\n\",\\n    \"WebMore Information TXT file open in Microsoft Notepad TXT files are simple text documents that contain little to no formatting. They are used to store notes, step-by-step instructions, â€¦\\\\n\",\\n    \"\\\\n\",\\n    \"Global web icon\\\\n\",\\n    \"Microsoft Support\\\\n\",\\n    \"https://support.microsoft.com/en-us/office/import-or-export-text-txt...\\\\n\",\\n    \"Import or export text (.txt or .csv) files - Microsoft Support\\\\n\",\\n    \"WebGo to File > Open and browse to the location that contains the text file. Select Text Files in the file type dropdown list in the Open dialog box. Locate and double-click the text file â€¦\\\\n\",\\n    \"\\\\n\",\\n    \"Global web icon\\\\n\",\\n    \"Wikipedia\\\\n\",\\n    \"https://en.wikipedia.org/wiki/Text_file\\\\n\",\\n    \"Text file - Wikipedia\\\\n\",\\n    \"WebA text file (sometimes spelled textfile; an old alternative name is flatfile) is a kind of computer file that is structured as a sequence of lines of electronic text. A text file exists â€¦\\\\n\",\\n    \"\\\\n\",\\n    \"Global web icon\\\\n\",\\n    \"Computer Hope\\\\n\",\\n    \"https://www.computerhope.com/jargon/t/textfile.htm\\\\n\",\\n    \"What is a Text File? - Computer Hope\\\\n\",\\n    \"WebText file. Updated: 03/06/2020 by Computer Hope. A text file is a computer file that only contains text and has no special formatting such as bold text, italic text, images, etc. With â€¦\\\\n\",\\n    \"\\\\n\",\\n    \"Hello, this is Bing! Iâ€™m the new AI-powered chat mode of Microsoft Bing that can help you quickly get summarized answers and creative inspiration ðŸ™Œ.\\\\n\",\\n    \"\\\\n\",\\n    \"\\\\n\",\\n    \"How can I improve my sleep quality?\\\\n\",\\n    \"Write a cute story about a puppy and a kitten\\\\n\",\\n    \"Create a 4-day detailed itinerary for visiting Paris organized as a table\\\\n\",\\n    \"Ask me anything...\\\\n\",\\n    \"\\\\n\",\\n    \"Related searches for any text file\\\\n\",\\n    \"any text download\\\\n\",\\n    \"download any text file\\\\n\",\\n    \"text and text document\\\\n\",\\n    \"what are text documents\\\\n\",\\n    \"what is a txt file\\\\n\",\\n    \"what does text files mean\\\\n\",\\n    \"text file contains\\\\n\",\\n    \"what is text file format\\\\n\",\\n    \"Some results have been removed\\\\n\",\\n    \"1\\\\n\",\\n    \"2\\\\n\",\\n    \"3\\\\n\",\\n    \"4\\\\n\",\\n    \"5\\\\n\",\\n    \"\\\\n\",\\n    \"Chat\\\\n\"\\n   ]\\n  }\\n ],\\n \"metadata\": {\\n  \"kernelspec\": {\\n   \"display_name\": \"Python 3 (ipykernel)\",\\n   \"language\": \"python\",\\n   \"name\": \"python3\"\\n  },\\n  \"language_info\": {\\n   \"codemirror_mode\": {\\n    \"name\": \"ipython\",\\n    \"version\": 3\\n   },\\n   \"file_extension\": \".py\",\\n   \"mimetype\": \"text/x-python\",\\n   \"name\": \"python\",\\n   \"nbconvert_exporter\": \"python\",\\n   \"pygments_lexer\": \"ipython3\",\\n   \"version\": \"3.11.3\"\\n  }\\n },\\n \"nbformat\": 4,\\n \"nbformat_minor\": 5\\n}\\n'"
      ]
     },
     "execution_count": 46,
     "metadata": {},
     "output_type": "execute_result"
    }
   ],
   "source": [
    "file_name=\"text.txt\"\n",
    "f =open(file_name)\n",
    "f.read()"
   ]
  },
  {
   "cell_type": "code",
   "execution_count": 50,
   "id": "9381aaf9",
   "metadata": {},
   "outputs": [
    {
     "name": "stdout",
     "output_type": "stream",
     "text": [
      " Volume in drive C is Acer\n",
      " Volume Serial Number is 98CE-8F52\n",
      "\n",
      " Directory of C:\\Users\\Pooja Rathore\n",
      "\n"
     ]
    },
    {
     "name": "stderr",
     "output_type": "stream",
     "text": [
      "File Not Found\n"
     ]
    }
   ],
   "source": [
    "ls -1\n"
   ]
  },
  {
   "cell_type": "code",
   "execution_count": 51,
   "id": "fb5f8c7b",
   "metadata": {},
   "outputs": [
    {
     "data": {
      "text/plain": [
       "'C:\\\\Users\\\\Pooja Rathore'"
      ]
     },
     "execution_count": 51,
     "metadata": {},
     "output_type": "execute_result"
    }
   ],
   "source": [
    "pwd"
   ]
  },
  {
   "cell_type": "code",
   "execution_count": 57,
   "id": "a1b8f0d7",
   "metadata": {},
   "outputs": [
    {
     "ename": "OSError",
     "evalue": "[Errno 22] Invalid argument: \"'C:\\\\Users\\\\http://localhost:8890/edit/text.txt\"",
     "output_type": "error",
     "traceback": [
      "\u001b[1;31m---------------------------------------------------------------------------\u001b[0m",
      "\u001b[1;31mOSError\u001b[0m                                   Traceback (most recent call last)",
      "Cell \u001b[1;32mIn[57], line 2\u001b[0m\n\u001b[0;32m      1\u001b[0m file_name\u001b[38;5;241m=\u001b[39m\u001b[38;5;124m\"\u001b[39m\u001b[38;5;124m'\u001b[39m\u001b[38;5;124mC:\u001b[39m\u001b[38;5;130;01m\\\\\u001b[39;00m\u001b[38;5;124mUsers\u001b[39m\u001b[38;5;130;01m\\\\\u001b[39;00m\u001b[38;5;124mhttp://localhost:8890/edit/text.txt\u001b[39m\u001b[38;5;124m\"\u001b[39m\n\u001b[1;32m----> 2\u001b[0m f \u001b[38;5;241m=\u001b[39m\u001b[38;5;28mopen\u001b[39m(file_name)\n\u001b[0;32m      3\u001b[0m f\u001b[38;5;241m.\u001b[39mread()\n",
      "File \u001b[1;32m~\\anaconda3\\Lib\\site-packages\\IPython\\core\\interactiveshell.py:284\u001b[0m, in \u001b[0;36m_modified_open\u001b[1;34m(file, *args, **kwargs)\u001b[0m\n\u001b[0;32m    277\u001b[0m \u001b[38;5;28;01mif\u001b[39;00m file \u001b[38;5;129;01min\u001b[39;00m {\u001b[38;5;241m0\u001b[39m, \u001b[38;5;241m1\u001b[39m, \u001b[38;5;241m2\u001b[39m}:\n\u001b[0;32m    278\u001b[0m     \u001b[38;5;28;01mraise\u001b[39;00m \u001b[38;5;167;01mValueError\u001b[39;00m(\n\u001b[0;32m    279\u001b[0m         \u001b[38;5;124mf\u001b[39m\u001b[38;5;124m\"\u001b[39m\u001b[38;5;124mIPython won\u001b[39m\u001b[38;5;124m'\u001b[39m\u001b[38;5;124mt let you open fd=\u001b[39m\u001b[38;5;132;01m{\u001b[39;00mfile\u001b[38;5;132;01m}\u001b[39;00m\u001b[38;5;124m by default \u001b[39m\u001b[38;5;124m\"\u001b[39m\n\u001b[0;32m    280\u001b[0m         \u001b[38;5;124m\"\u001b[39m\u001b[38;5;124mas it is likely to crash IPython. If you know what you are doing, \u001b[39m\u001b[38;5;124m\"\u001b[39m\n\u001b[0;32m    281\u001b[0m         \u001b[38;5;124m\"\u001b[39m\u001b[38;5;124myou can use builtins\u001b[39m\u001b[38;5;124m'\u001b[39m\u001b[38;5;124m open.\u001b[39m\u001b[38;5;124m\"\u001b[39m\n\u001b[0;32m    282\u001b[0m     )\n\u001b[1;32m--> 284\u001b[0m \u001b[38;5;28;01mreturn\u001b[39;00m io_open(file, \u001b[38;5;241m*\u001b[39margs, \u001b[38;5;241m*\u001b[39m\u001b[38;5;241m*\u001b[39mkwargs)\n",
      "\u001b[1;31mOSError\u001b[0m: [Errno 22] Invalid argument: \"'C:\\\\Users\\\\http://localhost:8890/edit/text.txt\""
     ]
    }
   ],
   "source": [
    "file_name=\"'C:\\\\Users\\\\http://localhost:8890/edit/text.txt\"\n",
    "f =open(file_name)\n",
    "f.read()"
   ]
  },
  {
   "cell_type": "code",
   "execution_count": 58,
   "id": "cc67e5c5",
   "metadata": {},
   "outputs": [
    {
     "ename": "OSError",
     "evalue": "[Errno 22] Invalid argument: 'http://localhost:8890/edit/text.txt'",
     "output_type": "error",
     "traceback": [
      "\u001b[1;31m---------------------------------------------------------------------------\u001b[0m",
      "\u001b[1;31mOSError\u001b[0m                                   Traceback (most recent call last)",
      "Cell \u001b[1;32mIn[58], line 1\u001b[0m\n\u001b[1;32m----> 1\u001b[0m \u001b[38;5;28mopen\u001b[39m(\u001b[38;5;124m'\u001b[39m\u001b[38;5;124mhttp://localhost:8890/edit/text.txt\u001b[39m\u001b[38;5;124m'\u001b[39m)\n",
      "File \u001b[1;32m~\\anaconda3\\Lib\\site-packages\\IPython\\core\\interactiveshell.py:284\u001b[0m, in \u001b[0;36m_modified_open\u001b[1;34m(file, *args, **kwargs)\u001b[0m\n\u001b[0;32m    277\u001b[0m \u001b[38;5;28;01mif\u001b[39;00m file \u001b[38;5;129;01min\u001b[39;00m {\u001b[38;5;241m0\u001b[39m, \u001b[38;5;241m1\u001b[39m, \u001b[38;5;241m2\u001b[39m}:\n\u001b[0;32m    278\u001b[0m     \u001b[38;5;28;01mraise\u001b[39;00m \u001b[38;5;167;01mValueError\u001b[39;00m(\n\u001b[0;32m    279\u001b[0m         \u001b[38;5;124mf\u001b[39m\u001b[38;5;124m\"\u001b[39m\u001b[38;5;124mIPython won\u001b[39m\u001b[38;5;124m'\u001b[39m\u001b[38;5;124mt let you open fd=\u001b[39m\u001b[38;5;132;01m{\u001b[39;00mfile\u001b[38;5;132;01m}\u001b[39;00m\u001b[38;5;124m by default \u001b[39m\u001b[38;5;124m\"\u001b[39m\n\u001b[0;32m    280\u001b[0m         \u001b[38;5;124m\"\u001b[39m\u001b[38;5;124mas it is likely to crash IPython. If you know what you are doing, \u001b[39m\u001b[38;5;124m\"\u001b[39m\n\u001b[0;32m    281\u001b[0m         \u001b[38;5;124m\"\u001b[39m\u001b[38;5;124myou can use builtins\u001b[39m\u001b[38;5;124m'\u001b[39m\u001b[38;5;124m open.\u001b[39m\u001b[38;5;124m\"\u001b[39m\n\u001b[0;32m    282\u001b[0m     )\n\u001b[1;32m--> 284\u001b[0m \u001b[38;5;28;01mreturn\u001b[39;00m io_open(file, \u001b[38;5;241m*\u001b[39margs, \u001b[38;5;241m*\u001b[39m\u001b[38;5;241m*\u001b[39mkwargs)\n",
      "\u001b[1;31mOSError\u001b[0m: [Errno 22] Invalid argument: 'http://localhost:8890/edit/text.txt'"
     ]
    }
   ],
   "source": [
    "open('http://localhost:8890/edit/text.txt')"
   ]
  },
  {
   "cell_type": "code",
   "execution_count": 63,
   "id": "199d61d7",
   "metadata": {},
   "outputs": [
    {
     "name": "stdout",
     "output_type": "stream",
     "text": [
      "enter a number0\n",
      "user has entered zero\n"
     ]
    }
   ],
   "source": [
    "try:\n",
    "    n=int(input(\"enter a number\"))\n",
    "    div=342/n\n",
    "    print(div)\n",
    "except ValueError :\n",
    "    print(\"user has entered invalid input\")\n",
    "except ZeroDivisionError :\n",
    "    print(\"user has entered zero\")"
   ]
  },
  {
   "cell_type": "code",
   "execution_count": 64,
   "id": "78f8861b",
   "metadata": {},
   "outputs": [
    {
     "name": "stdout",
     "output_type": "stream",
     "text": [
      "enter a number0\n"
     ]
    },
    {
     "ename": "ZeroDivisionError",
     "evalue": "division by zero",
     "output_type": "error",
     "traceback": [
      "\u001b[1;31m---------------------------------------------------------------------------\u001b[0m",
      "\u001b[1;31mZeroDivisionError\u001b[0m                         Traceback (most recent call last)",
      "Cell \u001b[1;32mIn[64], line 3\u001b[0m\n\u001b[0;32m      1\u001b[0m \u001b[38;5;28;01mtry\u001b[39;00m:\n\u001b[0;32m      2\u001b[0m     n\u001b[38;5;241m=\u001b[39m\u001b[38;5;28mint\u001b[39m(\u001b[38;5;28minput\u001b[39m(\u001b[38;5;124m\"\u001b[39m\u001b[38;5;124menter a number\u001b[39m\u001b[38;5;124m\"\u001b[39m))\n\u001b[1;32m----> 3\u001b[0m     div\u001b[38;5;241m=\u001b[39m\u001b[38;5;241m342\u001b[39m\u001b[38;5;241m/\u001b[39mn\n\u001b[0;32m      4\u001b[0m     \u001b[38;5;28mprint\u001b[39m(div)\n\u001b[0;32m      5\u001b[0m \u001b[38;5;28;01mexcept\u001b[39;00m \u001b[38;5;167;01mValueError\u001b[39;00m :\n",
      "\u001b[1;31mZeroDivisionError\u001b[0m: division by zero"
     ]
    }
   ],
   "source": [
    "try:\n",
    "    n=int(input(\"enter a number\"))\n",
    "    div=342/n\n",
    "    print(div)\n",
    "except ValueError :\n",
    "    print(\"user has entered invalid input\")\n"
   ]
  },
  {
   "cell_type": "code",
   "execution_count": 66,
   "id": "359e09f8",
   "metadata": {},
   "outputs": [
    {
     "name": "stdout",
     "output_type": "stream",
     "text": [
      "enter a numberfhgjh\n",
      "user has entered invalid input\n"
     ]
    }
   ],
   "source": [
    "try:\n",
    "    n=int(input(\"enter a number\"))\n",
    "    div=342/n\n",
    "    print(div)\n",
    "    \n",
    "except ValueError :\n",
    "    print(\"user has entered invalid input\")\n",
    "except ZeroDivisionError :\n",
    "    print(\"user has entered zero\")"
   ]
  },
  {
   "cell_type": "code",
   "execution_count": 67,
   "id": "49b3f5e9",
   "metadata": {},
   "outputs": [
    {
     "name": "stdout",
     "output_type": "stream",
     "text": [
      "enter a number0\n",
      "user has entered invalied input or may be zero \n"
     ]
    }
   ],
   "source": [
    "try:\n",
    "    n=int(input(\"enter a number\"))\n",
    "    div=342/n\n",
    "    print(div)\n",
    "except(ValueError,ZeroDivisionError):\n",
    "    print(\"user has entered invalied input or may be zero \")"
   ]
  },
  {
   "cell_type": "code",
   "execution_count": 75,
   "id": "26331092",
   "metadata": {},
   "outputs": [
    {
     "name": "stdout",
     "output_type": "stream",
     "text": [
      "enter a numbercjgjhg\n",
      "user has intered invalid input\n"
     ]
    }
   ],
   "source": [
    "try:\n",
    "    try:\n",
    "        n=int(input(\"enter a number\"))\n",
    "        div=342/n\n",
    "        print(div)\n",
    "    except ZeroDivisionError:\n",
    "        print(\"user has entered zero\")\n",
    "except ValueError:\n",
    "    print(\"user has intered invalid input\")"
   ]
  },
  {
   "cell_type": "code",
   "execution_count": 79,
   "id": "0797794e",
   "metadata": {},
   "outputs": [
    {
     "name": "stdout",
     "output_type": "stream",
     "text": [
      "enter a numbergjhgj\n",
      "user has entered zero\n"
     ]
    }
   ],
   "source": [
    "try:\n",
    "        n=int(input(\"enter a number\"))\n",
    "        div=342/n\n",
    "        print(div)\n",
    "except Exception:\n",
    "        print(\"user has entered zero\")\n",
    "else:\n",
    "            print(div)"
   ]
  },
  {
   "cell_type": "code",
   "execution_count": 83,
   "id": "8d482c4e",
   "metadata": {},
   "outputs": [],
   "source": [
    "f=open(\"text.txt\")"
   ]
  },
  {
   "cell_type": "code",
   "execution_count": 84,
   "id": "d17b4e28",
   "metadata": {},
   "outputs": [
    {
     "data": {
      "text/plain": [
       "'{\\n \"cells\": [\\n  {\\n   \"cell_type\": \"code\",\\n   \"execution_count\": null,\\n   \"id\": \"d1b69fc4\",\\n   \"metadata\": {},\\n   \"outputs\": [],\\n   \"source\": [\\n    \"##In the general sense, a text file refers to any file that has only text and is void of images and other non-text characters. These sometimes use the TXT file extension but don\\'t necessarily need to. For example, a Word document that is an essay containing just text can be in the DOCX file format but still be called a text file.\\\\n\",\\n    \"Reference: www.lifewire.com/txt-text-file-4150707\\\\n\",\\n    \"Was this helpful?\\\\n\",\\n    \"People also ask\\\\n\",\\n    \"\\\\n\",\\n    \"What is a txt file?\\\\n\",\\n    \".txt file is open with any type of text editor and there are many text editor available in every operating system for open and edit text files.This file format is a basic file format that is commonly used in every place and it is easy to download and edit from any operating system. How to create sample text files?\\\\n\",\\n    \"Large Sample text file for Download - Learning Container\\\\n\",\\n    \"\\\\n\",\\n    \"www.learningcontainer.com/sample-text-file/\\\\n\",\\n    \"\\\\n\",\\n    \"How do I open a text file?\\\\n\",\\n    \"A text file contains just text (versus other content like images). Open one with any text editor, such as Notepad or TextEdit. Convert to other text-based formats with Notepad++ and similar tools. This article describes what a text file is and how to open one or convert one to a different format. What Is a Text File?\\\\n\",\\n    \"What Is a Text File? - Lifewire\\\\n\",\\n    \"\\\\n\",\\n    \"www.lifewire.com/txt-text-file-4150707\\\\n\",\\n    \"\\\\n\",\\n    \"What is a name text file?\\\\n\",\\n    \"On most operating systems, the name text file refers to a file format that allows only plain text content with very little formatting (e.g., no bold or italic types). Such files can be viewed and edited on text terminals or in simple text editors.\\\\n\",\\n    \"Text file - Wikipedia\\\\n\",\\n    \"\\\\n\",\\n    \"en.wikipedia.org/wiki/Text_file\\\\n\",\\n    \"\\\\n\",\\n    \"Can a text editor open a txt file?\\\\n\",\\n    \"All text editors should be able to open any text file, especially if there isn\\'t special formatting being used. For example, TXT files can be opened with the built-in Notepad program in Windows by right-clicking the file and choosing Edit. Similar for TextEdit on a Mac. Another free program that can open any text file is Notepad++.\\\\n\",\\n    \"What Is a Text File? - Lifewire\\\\n\",\\n    \"\\\\n\",\\n    \"www.lifewire.com/txt-text-file-4150707\\\\n\",\\n    \"Feedback\\\\n\",\\n    \"Global web icon\\\\n\",\\n    \"getsamplefiles.com\\\\n\",\\n    \"https://getsamplefiles.com/sample-document-files/txt\\\\n\",\\n    \"Sample txt document File Download\\\\n\",\\n    \"WebDownload. TXT document files are plain text files that contain only unformatted text. They do not contain any formatting or layout information, and are often used for storing simple text documents or data sets. They can be opened and edited with any text editor, such as â€¦\\\\n\",\\n    \"\\\\n\",\\n    \"Archive Files\\\\n\",\\n    \"Download Sample archive Files . Here, you can find a collection of sample archive â€¦\\\\n\",\\n    \"\\\\n\",\\n    \"Audio Files\\\\n\",\\n    \"These audio file formats range from Mp3, M4a, AAC, WAW, and many more. â€¦\\\\n\",\\n    \"\\\\n\",\\n    \"Images\\\\n\",\\n    \"Each sample image file is available in multiple resolutions. SAMPLE FILES. â€¦\\\\n\",\\n    \"\\\\n\",\\n    \"Video Files\\\\n\",\\n    \"Download Sample video Files . Here, you will find a variety of sample video files â€¦\\\\n\",\\n    \"\\\\n\",\\n    \"See results only from getsamplefiles.com\\\\n\",\\n    \"Global web icon\\\\n\",\\n    \"learningcontainer.com\\\\n\",\\n    \"https://www.learningcontainer.com/sample-text\\\\n\",\\n    \"Large Sample text file for Download - Learning Container\\\\n\",\\n    \"Web.txt file is open with any type of text editor and there are many text editor available in every operating system for open and edit text files.This file format is a basic file format that is â€¦\\\\n\",\\n    \"\\\\n\",\\n    \"EXPLORE FURTHER\\\\n\",\\n    \"Global web icon\\\\n\",\\n    \"5 to 10 GB of text files to download? - Stack Overflow\\\\n\",\\n    \"stackoverflow.com\\\\n\",\\n    \"Global web icon\\\\n\",\\n    \"2mb text file - Learning Container\\\\n\",\\n    \"learningcontainer.com\\\\n\",\\n    \"Recommended to you based on what\\'s popular â€¢ Feedback\\\\n\",\\n    \"Global web icon\\\\n\",\\n    \"anytxt.net\\\\n\",\\n    \"https://anytxt.net/download\\\\n\",\\n    \"Download Best Free Desktop Full-Text Search Tool | Anytxt\\\\n\",\\n    \"WebAdded the feature of editing multiple file typesâ€™ inclusion and exclusion rules for indexing; Fixed the issue that Anytxt full index search may crash on some Windows 11; Added the â€¦\\\\n\",\\n    \"\\\\n\",\\n    \"EXPLORE FURTHER\\\\n\",\\n    \"Global web icon\\\\n\",\\n    \"AnyTXT Searcher - Free download and software reviews - â€¦\\\\n\",\\n    \"download.cnet.com\\\\n\",\\n    \"Global web icon\\\\n\",\\n    \"AnyDesk (free) download Windows version\\\\n\",\\n    \"en.freedownloadmanageâ€¦\\\\n\",\\n    \"Recommended to you based on what\\'s popular â€¢ Feedback\\\\n\",\\n    \"Global web icon\\\\n\",\\n    \"Lifewire\\\\n\",\\n    \"https://www.lifewire.com/txt-text-file-4150707\\\\n\",\\n    \"What Is a Text File? - Lifewire\\\\n\",\\n    \"WebWhat to Know A text file contains just text (versus other content like images). Open one with any text editor, such as Notepad or TextEdit. Convert to other text-based formats with â€¦\\\\n\",\\n    \"\\\\n\",\\n    \"Global web icon\\\\n\",\\n    \"SourceForge\\\\n\",\\n    \"https://sourceforge.net/projects/anytextfile\\\\n\",\\n    \"Any Text File download | SourceForge.net\\\\n\",\\n    \"WebAny Text File Text file reader/writer in chapter/block format. Brought to you by: josifoski Add a Review Downloads: 1 This Week Last Update: 2015-12-29 Download Summary Files â€¦\\\\n\",\\n    \"\\\\n\",\\n    \"Global web icon\\\\n\",\\n    \"Computer Hope\\\\n\",\\n    \"https://www.computerhope.com/issues/ch001359.htm\\\\n\",\\n    \"How to Create a Text File - Computer Hope\\\\n\",\\n    \"WebClick Start. Open All Programs, Accessories, then click the Notepad shortcut. Save the file as a text file You can also create a text file using any other word processing program, like â€¦\\\\n\",\\n    \"\\\\n\",\\n    \"Global web icon\\\\n\",\\n    \"FileInfo.com\\\\n\",\\n    \"https://fileinfo.com/extension/txt\\\\n\",\\n    \"TXT File - What is a .txt file and how do I open it? - FileInfo.com\\\\n\",\\n    \"WebMore Information TXT file open in Microsoft Notepad TXT files are simple text documents that contain little to no formatting. They are used to store notes, step-by-step instructions, â€¦\\\\n\",\\n    \"\\\\n\",\\n    \"Global web icon\\\\n\",\\n    \"Microsoft Support\\\\n\",\\n    \"https://support.microsoft.com/en-us/office/import-or-export-text-txt...\\\\n\",\\n    \"Import or export text (.txt or .csv) files - Microsoft Support\\\\n\",\\n    \"WebGo to File > Open and browse to the location that contains the text file. Select Text Files in the file type dropdown list in the Open dialog box. Locate and double-click the text file â€¦\\\\n\",\\n    \"\\\\n\",\\n    \"Global web icon\\\\n\",\\n    \"Wikipedia\\\\n\",\\n    \"https://en.wikipedia.org/wiki/Text_file\\\\n\",\\n    \"Text file - Wikipedia\\\\n\",\\n    \"WebA text file (sometimes spelled textfile; an old alternative name is flatfile) is a kind of computer file that is structured as a sequence of lines of electronic text. A text file exists â€¦\\\\n\",\\n    \"\\\\n\",\\n    \"Global web icon\\\\n\",\\n    \"Computer Hope\\\\n\",\\n    \"https://www.computerhope.com/jargon/t/textfile.htm\\\\n\",\\n    \"What is a Text File? - Computer Hope\\\\n\",\\n    \"WebText file. Updated: 03/06/2020 by Computer Hope. A text file is a computer file that only contains text and has no special formatting such as bold text, italic text, images, etc. With â€¦\\\\n\",\\n    \"\\\\n\",\\n    \"Hello, this is Bing! Iâ€™m the new AI-powered chat mode of Microsoft Bing that can help you quickly get summarized answers and creative inspiration ðŸ™Œ.\\\\n\",\\n    \"\\\\n\",\\n    \"\\\\n\",\\n    \"How can I improve my sleep quality?\\\\n\",\\n    \"Write a cute story about a puppy and a kitten\\\\n\",\\n    \"Create a 4-day detailed itinerary for visiting Paris organized as a table\\\\n\",\\n    \"Ask me anything...\\\\n\",\\n    \"\\\\n\",\\n    \"Related searches for any text file\\\\n\",\\n    \"any text download\\\\n\",\\n    \"download any text file\\\\n\",\\n    \"text and text document\\\\n\",\\n    \"what are text documents\\\\n\",\\n    \"what is a txt file\\\\n\",\\n    \"what does text files mean\\\\n\",\\n    \"text file contains\\\\n\",\\n    \"what is text file format\\\\n\",\\n    \"Some results have been removed\\\\n\",\\n    \"1\\\\n\",\\n    \"2\\\\n\",\\n    \"3\\\\n\",\\n    \"4\\\\n\",\\n    \"5\\\\n\",\\n    \"\\\\n\",\\n    \"Chat\\\\n\"\\n   ]\\n  }\\n ],\\n \"metadata\": {\\n  \"kernelspec\": {\\n   \"display_name\": \"Python 3 (ipykernel)\",\\n   \"language\": \"python\",\\n   \"name\": \"python3\"\\n  },\\n  \"language_info\": {\\n   \"codemirror_mode\": {\\n    \"name\": \"ipython\",\\n    \"version\": 3\\n   },\\n   \"file_extension\": \".py\",\\n   \"mimetype\": \"text/x-python\",\\n   \"name\": \"python\",\\n   \"nbconvert_exporter\": \"python\",\\n   \"pygments_lexer\": \"ipython3\",\\n   \"version\": \"3.11.3\"\\n  }\\n },\\n \"nbformat\": 4,\\n \"nbformat_minor\": 5\\n}\\n'"
      ]
     },
     "execution_count": 84,
     "metadata": {},
     "output_type": "execute_result"
    }
   ],
   "source": [
    "f.read()"
   ]
  },
  {
   "cell_type": "code",
   "execution_count": 85,
   "id": "cca50e3d",
   "metadata": {},
   "outputs": [
    {
     "data": {
      "text/plain": [
       "<_io.TextIOWrapper name='text.txt' mode='r' encoding='cp1252'>"
      ]
     },
     "execution_count": 85,
     "metadata": {},
     "output_type": "execute_result"
    }
   ],
   "source": [
    "f"
   ]
  },
  {
   "cell_type": "code",
   "execution_count": 86,
   "id": "3256acc9",
   "metadata": {},
   "outputs": [],
   "source": [
    "f.close()"
   ]
  },
  {
   "cell_type": "code",
   "execution_count": 87,
   "id": "90a9bb8c",
   "metadata": {},
   "outputs": [
    {
     "data": {
      "text/plain": [
       "<_io.TextIOWrapper name='text.txt' mode='r' encoding='cp1252'>"
      ]
     },
     "execution_count": 87,
     "metadata": {},
     "output_type": "execute_result"
    }
   ],
   "source": [
    "f"
   ]
  },
  {
   "cell_type": "code",
   "execution_count": 89,
   "id": "e8c47b95",
   "metadata": {},
   "outputs": [],
   "source": [
    "f=open(\"text.txt\")\n",
    "f.read()\n",
    "f.close()"
   ]
  },
  {
   "cell_type": "code",
   "execution_count": 91,
   "id": "2f0067d4",
   "metadata": {},
   "outputs": [
    {
     "name": "stdout",
     "output_type": "stream",
     "text": [
      "there is some issue\n"
     ]
    }
   ],
   "source": [
    "try:\n",
    "    f=open(\"text.txt\")\n",
    "    f.write(\"hkhkuhku\")\n",
    "except Exception :\n",
    "    print(\"there is some issue\")\n",
    "    f.close()"
   ]
  },
  {
   "cell_type": "code",
   "execution_count": 101,
   "id": "db295ec5",
   "metadata": {},
   "outputs": [
    {
     "ename": "IndentationError",
     "evalue": "unindent does not match any outer indentation level (<tokenize>, line 12)",
     "output_type": "error",
     "traceback": [
      "\u001b[1;36m  File \u001b[1;32m<tokenize>:12\u001b[1;36m\u001b[0m\n\u001b[1;33m    f.close()\u001b[0m\n\u001b[1;37m    ^\u001b[0m\n\u001b[1;31mIndentationError\u001b[0m\u001b[1;31m:\u001b[0m unindent does not match any outer indentation level\n"
     ]
    }
   ],
   "source": [
    "try:\n",
    "    f=open(\"text.txt\")\n",
    "    data=f.write(\"hkhkuhku\")\n",
    "except Exception :\n",
    "    print(\"there is some issue\")\n",
    "else:\n",
    "        print(data)\n",
    "finally: \n",
    "    print(data)\n",
    "    except:\n",
    "        pass\n",
    "     f.close()\n",
    "        print(\"file close\")"
   ]
  },
  {
   "cell_type": "code",
   "execution_count": 102,
   "id": "558649a3",
   "metadata": {},
   "outputs": [
    {
     "name": "stdout",
     "output_type": "stream",
     "text": [
      "enter hight of the wall45\n"
     ]
    }
   ],
   "source": [
    "a=int(input(\"enter hight of the wall\"))"
   ]
  },
  {
   "cell_type": "code",
   "execution_count": 103,
   "id": "6276782a",
   "metadata": {},
   "outputs": [
    {
     "name": "stdout",
     "output_type": "stream",
     "text": [
      "enter hight of the wall-34\n"
     ]
    }
   ],
   "source": [
    "a=int(input(\"enter hight of the wall\"))"
   ]
  },
  {
   "cell_type": "code",
   "execution_count": 2,
   "id": "556244c1",
   "metadata": {},
   "outputs": [
    {
     "name": "stdout",
     "output_type": "stream",
     "text": [
      "enter hight of the wall-34\n",
      "entered hight is negative\n"
     ]
    }
   ],
   "source": [
    "try:\n",
    "    a=int(input(\"enter hight of the wall\"))\n",
    "    if a <0:\n",
    "        raise ValueError(\"entered hight is negative\")\n",
    "except ValueError as v:\n",
    "    print(v)"
   ]
  },
  {
   "cell_type": "code",
   "execution_count": 7,
   "id": "a578b021",
   "metadata": {},
   "outputs": [
    {
     "name": "stdout",
     "output_type": "stream",
     "text": [
      "enter your age-654\n",
      "user has entered anegative age while is not valid\n"
     ]
    }
   ],
   "source": [
    "try:\n",
    "    age =int(input(\"enter your age\"))\n",
    "    if age<0:\n",
    "          raise ValueError(\"user has entered anegative age while is not valid\")\n",
    "    elif age<18:\n",
    "            raise Exception(\"user is underage\")\n",
    "    else:\n",
    "        print(\"valid user\")\n",
    "except Exception as e:\n",
    "                    print(e)"
   ]
  },
  {
   "cell_type": "markdown",
   "id": "7a5ba5d4",
   "metadata": {},
   "source": [
    "## login"
   ]
  },
  {
   "cell_type": "code",
   "execution_count": 8,
   "id": "ba4a84b8",
   "metadata": {},
   "outputs": [],
   "source": [
    "import logging as log"
   ]
  },
  {
   "cell_type": "code",
   "execution_count": 11,
   "id": "79ffc456",
   "metadata": {},
   "outputs": [],
   "source": [
    "log.basicConfig(filename ='text.log')"
   ]
  },
  {
   "cell_type": "code",
   "execution_count": 10,
   "id": "78720a46",
   "metadata": {},
   "outputs": [
    {
     "data": {
      "text/plain": [
       "'C:\\\\Users\\\\Pooja Rathore'"
      ]
     },
     "execution_count": 10,
     "metadata": {},
     "output_type": "execute_result"
    }
   ],
   "source": [
    "pwd"
   ]
  },
  {
   "cell_type": "code",
   "execution_count": 12,
   "id": "3f0416db",
   "metadata": {},
   "outputs": [],
   "source": [
    "log.info(\"store a msg\")"
   ]
  },
  {
   "cell_type": "code",
   "execution_count": 13,
   "id": "3c1bb44b",
   "metadata": {},
   "outputs": [],
   "source": [
    "log.debug(\"this is a debug msg\")"
   ]
  },
  {
   "cell_type": "code",
   "execution_count": 14,
   "id": "ef25bc4f",
   "metadata": {},
   "outputs": [],
   "source": [
    "log.warning(\"this is a warning msg\")"
   ]
  },
  {
   "cell_type": "code",
   "execution_count": 15,
   "id": "f35c39ce",
   "metadata": {},
   "outputs": [],
   "source": [
    "log.error(\"this is a error msg\")"
   ]
  },
  {
   "cell_type": "code",
   "execution_count": 16,
   "id": "aa3966d6",
   "metadata": {},
   "outputs": [],
   "source": [
    "log.critical(\"this is a critical msg\")"
   ]
  },
  {
   "cell_type": "code",
   "execution_count": null,
   "id": "ac027a5b",
   "metadata": {},
   "outputs": [],
   "source": [
    "import logging \n",
    "logging.casicConfig(filename='trytest.log',level =)\n",
    "try:\n",
    "    age =int(input(\"enter your age\"))\n",
    "    if age<0:\n",
    "          raise ValueError(\"user has entered anegative age while is not valid\")\n",
    "    elif age<18:\n",
    "            raise Exception(\"user is underage\")\n",
    "    else:\n",
    "        print(\"valid user\")\n",
    "except Exception as e:\n",
    "                    print(e)"
   ]
  }
 ],
 "metadata": {
  "kernelspec": {
   "display_name": "Python 3 (ipykernel)",
   "language": "python",
   "name": "python3"
  },
  "language_info": {
   "codemirror_mode": {
    "name": "ipython",
    "version": 3
   },
   "file_extension": ".py",
   "mimetype": "text/x-python",
   "name": "python",
   "nbconvert_exporter": "python",
   "pygments_lexer": "ipython3",
   "version": "3.11.3"
  }
 },
 "nbformat": 4,
 "nbformat_minor": 5
}
