{
 "cells": [
  {
   "cell_type": "markdown",
   "id": "cc07b24f",
   "metadata": {},
   "source": [
    "## 1 0ct 2023"
   ]
  },
  {
   "cell_type": "markdown",
   "id": "05537ab3",
   "metadata": {},
   "source": [
    "## Class ....."
   ]
  },
  {
   "cell_type": "code",
   "execution_count": 1,
   "id": "a1b5aabf",
   "metadata": {},
   "outputs": [],
   "source": [
    "a= 10\n",
    "b= 20\n",
    "c= 50"
   ]
  },
  {
   "cell_type": "code",
   "execution_count": 2,
   "id": "fd6685c2",
   "metadata": {},
   "outputs": [],
   "source": [
    "s = 'pooja'"
   ]
  },
  {
   "cell_type": "code",
   "execution_count": 11,
   "id": "2fa1173c",
   "metadata": {},
   "outputs": [],
   "source": [
    "class bankaccount :\n",
    "    \n",
    "    def openaccount(self,name,email_id):\n",
    "        print(\"open an account by taking name and mail id\")\n",
    "        return name+' '+email_id\n",
    "    \n",
    "    def deposite(self,amount):\n",
    "        print(\"i am trying to deposite an amount in my account\")\n",
    "        \n",
    "    def withdraw(self,amt_with):\n",
    "        print(\"withdraw\")\n",
    "    \n",
    "    def update_details(self,name_update,email_update):\n",
    "        print(\"this fun will update my name and mail if for account\")\n",
    "        "
   ]
  },
  {
   "cell_type": "code",
   "execution_count": 12,
   "id": "82b59d13",
   "metadata": {},
   "outputs": [],
   "source": [
    "obj = bankaccount()\n",
    "    "
   ]
  },
  {
   "cell_type": "code",
   "execution_count": 13,
   "id": "ed730728",
   "metadata": {},
   "outputs": [
    {
     "name": "stdout",
     "output_type": "stream",
     "text": [
      "open an account by taking name and mail id\n"
     ]
    },
    {
     "data": {
      "text/plain": [
       "'pooja poojarahore@gmail.com'"
      ]
     },
     "execution_count": 13,
     "metadata": {},
     "output_type": "execute_result"
    }
   ],
   "source": [
    "obj.openaccount(\"pooja\",\"poojarahore@gmail.com\")"
   ]
  },
  {
   "cell_type": "code",
   "execution_count": 14,
   "id": "3a621cfa",
   "metadata": {},
   "outputs": [],
   "source": [
    "class list_ops(): \n",
    "    \n",
    "    def extractfromindex(self,l,index):\n",
    "        return l[index]\n",
    "    \n",
    "    def extractrangedata(self,l,start,end):\n",
    "        return l[start:end]\n",
    "    \n",
    "    def extracteven(self,l):\n",
    "        l1=[]\n",
    "        for i in l:\n",
    "            if i%2==o:\n",
    "                l1.append(i)\n",
    "        return l1      "
   ]
  },
  {
   "cell_type": "code",
   "execution_count": 16,
   "id": "423e0066",
   "metadata": {},
   "outputs": [],
   "source": [
    "first_obj =list_ops()\n"
   ]
  },
  {
   "cell_type": "code",
   "execution_count": 17,
   "id": "f8e157f9",
   "metadata": {},
   "outputs": [
    {
     "data": {
      "text/plain": [
       "6"
      ]
     },
     "execution_count": 17,
     "metadata": {},
     "output_type": "execute_result"
    }
   ],
   "source": [
    "first_obj.extractfromindex([2,3,4,5,6],4)"
   ]
  },
  {
   "cell_type": "code",
   "execution_count": 18,
   "id": "ee47ea8a",
   "metadata": {},
   "outputs": [
    {
     "data": {
      "text/plain": [
       "[2, 3, 4, 5]"
      ]
     },
     "execution_count": 18,
     "metadata": {},
     "output_type": "execute_result"
    }
   ],
   "source": [
    "first_obj.extractrangedata([2,3,4,5,6],0,4)"
   ]
  },
  {
   "cell_type": "code",
   "execution_count": 54,
   "id": "d333c50b",
   "metadata": {},
   "outputs": [],
   "source": [
    "class list_ops: \n",
    "    a=10\n",
    "    #l=[1,2,3]\n",
    "    \n",
    "    def __init__(self,l):\n",
    "        self.l1 =l\n",
    "        self.l2=40\n",
    "        self.l3=\"advik\"\n",
    "        self.l4=(4,5,6,7)\n",
    "    \n",
    "    def extractfromindex(pooja,l,index):\n",
    "        return l[index]\n",
    "    \n",
    "    def extractrangedata(pooja,l,start,end):\n",
    "        return l[start:end]\n",
    "    \n",
    "    def extracteven(pooja,l):\n",
    "        l1=[]\n",
    "        for i in l:\n",
    "            if i%2==0:\n",
    "                l1.append(i)\n",
    "        return l1      "
   ]
  },
  {
   "cell_type": "code",
   "execution_count": 55,
   "id": "91bd9442",
   "metadata": {},
   "outputs": [
    {
     "data": {
      "text/plain": [
       "(4, 5, 6, 7)"
      ]
     },
     "execution_count": 55,
     "metadata": {},
     "output_type": "execute_result"
    }
   ],
   "source": [
    "second_obj = list_ops([1,2,3,4])\n",
    "second_obj.l4"
   ]
  },
  {
   "cell_type": "code",
   "execution_count": 56,
   "id": "be40b7e9",
   "metadata": {},
   "outputs": [],
   "source": [
    "first_obj =list_ops([1,2,3])"
   ]
  },
  {
   "cell_type": "code",
   "execution_count": 57,
   "id": "d4b106b5",
   "metadata": {},
   "outputs": [
    {
     "data": {
      "text/plain": [
       "'advik'"
      ]
     },
     "execution_count": 57,
     "metadata": {},
     "output_type": "execute_result"
    }
   ],
   "source": [
    "first_obj.l3"
   ]
  },
  {
   "cell_type": "code",
   "execution_count": 58,
   "id": "0cc69344",
   "metadata": {},
   "outputs": [
    {
     "data": {
      "text/plain": [
       "10"
      ]
     },
     "execution_count": 58,
     "metadata": {},
     "output_type": "execute_result"
    }
   ],
   "source": [
    "first_obj.a"
   ]
  },
  {
   "cell_type": "code",
   "execution_count": null,
   "id": "fd47513d",
   "metadata": {},
   "outputs": [],
   "source": []
  },
  {
   "cell_type": "code",
   "execution_count": 55,
   "id": "04c69dbc",
   "metadata": {},
   "outputs": [],
   "source": [
    "second_obj=list_ops()"
   ]
  },
  {
   "cell_type": "code",
   "execution_count": 59,
   "id": "81448381",
   "metadata": {},
   "outputs": [
    {
     "data": {
      "text/plain": [
       "(4, 5, 6, 7)"
      ]
     },
     "execution_count": 59,
     "metadata": {},
     "output_type": "execute_result"
    }
   ],
   "source": [
    "second_obj.l4"
   ]
  },
  {
   "cell_type": "code",
   "execution_count": 65,
   "id": "749e6fb6",
   "metadata": {
    "scrolled": true
   },
   "outputs": [],
   "source": [
    "third_obj=list_ops([1,2,3])\n"
   ]
  },
  {
   "cell_type": "code",
   "execution_count": 66,
   "id": "1ab9b9f5",
   "metadata": {},
   "outputs": [
    {
     "data": {
      "text/plain": [
       "40"
      ]
     },
     "execution_count": 66,
     "metadata": {},
     "output_type": "execute_result"
    }
   ],
   "source": [
    "third_obj.l2"
   ]
  },
  {
   "cell_type": "code",
   "execution_count": 63,
   "id": "3e94b940",
   "metadata": {},
   "outputs": [],
   "source": [
    "class book:\n",
    "    \n",
    "    def __init__(self,name,title,pageno):\n",
    "        self.name_of_book =name\n",
    "        self.title_of_book =title\n",
    "        self.page_no =pageno\n",
    "        \n",
    "    def extract_details(self):\n",
    "        print(self.name_of_book,self.title_of_book)\n",
    "            \n",
    "    def print_page_no(self):\n",
    "        print(self.page_no)"
   ]
  },
  {
   "cell_type": "code",
   "execution_count": null,
   "id": "9255a4e8",
   "metadata": {},
   "outputs": [],
   "source": []
  },
  {
   "cell_type": "code",
   "execution_count": 19,
   "id": "e52f8063",
   "metadata": {},
   "outputs": [],
   "source": [
    "pooja = book('dsa','practical dsa',456)\n",
    "ronik = book('data science','empli of data sci',457)\n",
    "wasim= book('big data','inven of big data',326)"
   ]
  },
  {
   "cell_type": "code",
   "execution_count": 20,
   "id": "7870f445",
   "metadata": {},
   "outputs": [
    {
     "name": "stdout",
     "output_type": "stream",
     "text": [
      "dsa practical dsa\n"
     ]
    }
   ],
   "source": [
    "pooja.extract_details()"
   ]
  },
  {
   "cell_type": "code",
   "execution_count": 15,
   "id": "a459f6d3",
   "metadata": {},
   "outputs": [],
   "source": [
    "class book:\n",
    "    \n",
    "    def __init__(self):\n",
    "        self.name_of_book =\"dsa\"\n",
    "        self.title_of_book =\"dsa advance\"\n",
    "        self.page_no =456\n",
    "        \n",
    "    def extract_details(self):\n",
    "        print(self.name_of_book,self.title_of_book)\n",
    "            \n",
    "    def print_page_no(self):\n",
    "        print(self.page_no)"
   ]
  },
  {
   "cell_type": "code",
   "execution_count": 16,
   "id": "da21b79c",
   "metadata": {},
   "outputs": [],
   "source": [
    "stu1 =book()"
   ]
  },
  {
   "cell_type": "code",
   "execution_count": 17,
   "id": "674e86d3",
   "metadata": {},
   "outputs": [
    {
     "data": {
      "text/plain": [
       "'dsa'"
      ]
     },
     "execution_count": 17,
     "metadata": {},
     "output_type": "execute_result"
    }
   ],
   "source": [
    "stu1.name_of_book"
   ]
  },
  {
   "cell_type": "code",
   "execution_count": 35,
   "id": "47a1b3b7",
   "metadata": {},
   "outputs": [],
   "source": [
    "class gmail_ops:\n",
    "    def __init__(self,userid,password):\n",
    "        self.userid =userid\n",
    "        self.password =password\n",
    "        self.url = \"http://localhost:8888/notebooks/pra%201%20\"\n",
    "        \n",
    "    def login(self):\n",
    "        print(\"take userid\" +self.userid +\"take password\" +self.password +\"hit url\" +self.url)\n",
    "        print(\"login\")\n",
    "        \n",
    "    def read_mail(self):\n",
    "        print(\"read mail for\" + self.userid + self.password +\"hit url\" + self.url)\n",
    "        \n",
    "    def reply_mail(self):\n",
    "        print(\"reply mail for\" + self.userid +\" \" +self.password)"
   ]
  },
  {
   "cell_type": "code",
   "execution_count": 36,
   "id": "c9f8dfe2",
   "metadata": {},
   "outputs": [
    {
     "name": "stdout",
     "output_type": "stream",
     "text": [
      "take useriduser1take passworduser1passhit urlhttp://localhost:8888/notebooks/pra%201%20\n",
      "login\n"
     ]
    }
   ],
   "source": [
    "user1 = gmail_ops(\"user1\",\"user1pass\")\n",
    "user1.login()"
   ]
  },
  {
   "cell_type": "code",
   "execution_count": 37,
   "id": "4bb58671",
   "metadata": {},
   "outputs": [
    {
     "name": "stdout",
     "output_type": "stream",
     "text": [
      "reply mail foruser1 user1pass\n"
     ]
    }
   ],
   "source": [
    "user1.reply_mail()"
   ]
  },
  {
   "cell_type": "code",
   "execution_count": null,
   "id": "d2083641",
   "metadata": {},
   "outputs": [],
   "source": []
  },
  {
   "cell_type": "code",
   "execution_count": 76,
   "id": "777201e7",
   "metadata": {},
   "outputs": [],
   "source": [
    "from functools import reduce\n",
    "class calculator:\n",
    "    \n",
    "    def __init__(self,username):\n",
    "        self.username = username\n",
    "        \n",
    "        \n",
    "    def add(self,*args):\n",
    "        return sum(args)\n",
    "    \n",
    "    def sub(self,*args):\n",
    "        return reduce(lambda a,b:a-b,args)\n",
    "    \n",
    "    def mul(self,*args):\n",
    "        return reduce(lambda a,b:a*b,args)\n",
    "    \n",
    "    def div(self,*args):\n",
    "        return reduce(lambda a,b:a/b,args)"
   ]
  },
  {
   "cell_type": "code",
   "execution_count": 82,
   "id": "311ef25f",
   "metadata": {},
   "outputs": [],
   "source": [
    "aru =calculator(\"chul bul\")"
   ]
  },
  {
   "cell_type": "code",
   "execution_count": 83,
   "id": "87bb7878",
   "metadata": {},
   "outputs": [
    {
     "data": {
      "text/plain": [
       "6"
      ]
     },
     "execution_count": 83,
     "metadata": {},
     "output_type": "execute_result"
    }
   ],
   "source": [
    "aru.add(1,2,3)"
   ]
  },
  {
   "cell_type": "code",
   "execution_count": 84,
   "id": "2363ec04",
   "metadata": {},
   "outputs": [
    {
     "data": {
      "text/plain": [
       "96"
      ]
     },
     "execution_count": 84,
     "metadata": {},
     "output_type": "execute_result"
    }
   ],
   "source": [
    "aru.add(3,4,5,6,78)"
   ]
  },
  {
   "cell_type": "code",
   "execution_count": 86,
   "id": "b9e133ee",
   "metadata": {},
   "outputs": [],
   "source": [
    "aru =calculator(\"chulbul panday\")"
   ]
  },
  {
   "cell_type": "code",
   "execution_count": 87,
   "id": "c37529ad",
   "metadata": {},
   "outputs": [
    {
     "data": {
      "text/plain": [
       "672"
      ]
     },
     "execution_count": 87,
     "metadata": {},
     "output_type": "execute_result"
    }
   ],
   "source": [
    "aru.mul(3,4,56)"
   ]
  },
  {
   "cell_type": "markdown",
   "id": "f919d5aa",
   "metadata": {},
   "source": [
    "## assisment of 7 oct"
   ]
  },
  {
   "cell_type": "code",
   "execution_count": 22,
   "id": "524d1043",
   "metadata": {},
   "outputs": [],
   "source": [
    "class bankaccount:\n",
    "        def __init__(self,acc_no,name,balance):\n",
    "            self.accno = acc_no\n",
    "            self.name = name\n",
    "            self.balance = balance\n",
    "        \n",
    "        def deposit(self):\n",
    "            print(self.balance )\n",
    "         \n",
    "        def withdraw(self):\n",
    "            \n",
    "            print(self.balance)\n",
    "        \n",
    "    "
   ]
  },
  {
   "cell_type": "code",
   "execution_count": 23,
   "id": "09d6dfbb",
   "metadata": {},
   "outputs": [],
   "source": [
    "obj = bankaccount(46467,'pooja',2000)"
   ]
  },
  {
   "cell_type": "code",
   "execution_count": 24,
   "id": "7e3e298d",
   "metadata": {},
   "outputs": [
    {
     "name": "stdout",
     "output_type": "stream",
     "text": [
      "2000\n"
     ]
    }
   ],
   "source": [
    "obj.deposit()"
   ]
  },
  {
   "cell_type": "code",
   "execution_count": 25,
   "id": "dcbfd110",
   "metadata": {},
   "outputs": [
    {
     "name": "stdout",
     "output_type": "stream",
     "text": [
      "2000\n"
     ]
    }
   ],
   "source": [
    "obj.withdraw()"
   ]
  },
  {
   "cell_type": "code",
   "execution_count": null,
   "id": "7121bb1c",
   "metadata": {},
   "outputs": [],
   "source": [
    "##  class empmanagment"
   ]
  },
  {
   "cell_type": "code",
   "execution_count": 86,
   "id": "c1104a9e",
   "metadata": {},
   "outputs": [],
   "source": [
    "class emp_managment:\n",
    "    def __init__(self,empid,name,salary,bonus):\n",
    "               self.emp_id=empid\n",
    "               self.name = name\n",
    "               self.salary =salary\n",
    "               self.bonus= bonus\n",
    "            \n",
    "    def yearly_bonus(self):\n",
    "        print(self.bonus)\n",
    "    def emp_details(self):\n",
    "                print(self.empid,self.name,self.salary)"
   ]
  },
  {
   "cell_type": "code",
   "execution_count": 87,
   "id": "b537a7fa",
   "metadata": {},
   "outputs": [],
   "source": [
    "obj1 = emp_managment(345,'rahul',25000,1000)"
   ]
  },
  {
   "cell_type": "code",
   "execution_count": 88,
   "id": "bd256feb",
   "metadata": {},
   "outputs": [
    {
     "name": "stdout",
     "output_type": "stream",
     "text": [
      "1000\n"
     ]
    }
   ],
   "source": [
    "obj1.yearly_bonus()"
   ]
  },
  {
   "cell_type": "code",
   "execution_count": 1,
   "id": "e00459a9",
   "metadata": {},
   "outputs": [],
   "source": [
    "## library\n",
    "class  library_catlog:\n",
    "    def __init__(self,add_books,borrow_books,avai_books):\n",
    "        self.add=add_books\n",
    "        self.borrow =borrow_books\n",
    "        self.avai =avai_books\n",
    "        \n",
    "    def addbooks(self):\n",
    "        return self.add\n",
    "    \n",
    "    def borrowbooks(self):\n",
    "        return self.borrow\n",
    "    \n",
    "    def avaibooks(self):\n",
    "        return self.avai\n",
    "    "
   ]
  },
  {
   "cell_type": "code",
   "execution_count": 11,
   "id": "3c5a5641",
   "metadata": {},
   "outputs": [],
   "source": [
    "obj1 = library_catlog('java','php','python')"
   ]
  },
  {
   "cell_type": "code",
   "execution_count": 12,
   "id": "9ad07627",
   "metadata": {},
   "outputs": [
    {
     "data": {
      "text/plain": [
       "'java'"
      ]
     },
     "execution_count": 12,
     "metadata": {},
     "output_type": "execute_result"
    }
   ],
   "source": [
    "obj1.addbooks()"
   ]
  },
  {
   "cell_type": "code",
   "execution_count": 14,
   "id": "38673e83",
   "metadata": {},
   "outputs": [
    {
     "data": {
      "text/plain": [
       "'python'"
      ]
     },
     "execution_count": 14,
     "metadata": {},
     "output_type": "execute_result"
    }
   ],
   "source": [
    "obj1.avaibooks()"
   ]
  },
  {
   "cell_type": "code",
   "execution_count": 32,
   "id": "f106bd23",
   "metadata": {},
   "outputs": [],
   "source": [
    "## vehicle\n",
    "class vehicle_rental:\n",
    "    def __init__(self,rentvehi,retunvehi,available):\n",
    "        self.rent_vehi = rentvehi\n",
    "        self.retun_vehi = retunvehi\n",
    "        self.avai_vehi = available\n",
    "    \n",
    "    def rent_vehicle(self):\n",
    "        print(int(self.rent_vehi) ,\"this is a rent vehi\")\n",
    "        \n",
    "        \n",
    "    def return_vehi(self):\n",
    "        print(int(self.retun_vehi))\n",
    "        \n",
    "        \n",
    "    def avai_vehi(self):\n",
    "        print(int(self.avai_vehi))\n",
    "        \n",
    "        \n",
    "\n",
    "        \n",
    "        \n",
    "        \n",
    "        \n",
    "        \n",
    "        "
   ]
  },
  {
   "cell_type": "code",
   "execution_count": 33,
   "id": "d4f1e8e9",
   "metadata": {},
   "outputs": [],
   "source": [
    "obj3 = vehicle_rental(20,12,8)"
   ]
  },
  {
   "cell_type": "code",
   "execution_count": 34,
   "id": "12fae9ae",
   "metadata": {},
   "outputs": [
    {
     "ename": "TypeError",
     "evalue": "'int' object is not callable",
     "output_type": "error",
     "traceback": [
      "\u001b[1;31m---------------------------------------------------------------------------\u001b[0m",
      "\u001b[1;31mTypeError\u001b[0m                                 Traceback (most recent call last)",
      "Cell \u001b[1;32mIn[34], line 1\u001b[0m\n\u001b[1;32m----> 1\u001b[0m obj3\u001b[38;5;241m.\u001b[39mavai_vehi()\n",
      "\u001b[1;31mTypeError\u001b[0m: 'int' object is not callable"
     ]
    }
   ],
   "source": [
    "obj3.avai_vehi()"
   ]
  },
  {
   "cell_type": "code",
   "execution_count": 42,
   "id": "100009d2",
   "metadata": {},
   "outputs": [],
   "source": [
    "## product inventory\n",
    "class product_inventory:\n",
    "    \n",
    "    def __init__(self,product,quantity,new_pro):\n",
    "        self.product = product\n",
    "        self.quan =quantity\n",
    "        self.new_pro =new_pro\n",
    "        \n",
    "    def add_product (self):\n",
    "        print(self.new_pro)\n",
    "        \n",
    "\n",
    "    def update_product(self):\n",
    "        print(self.product,self.quan,self.new_pro)\n"
   ]
  },
  {
   "cell_type": "code",
   "execution_count": 43,
   "id": "548d5f3c",
   "metadata": {},
   "outputs": [],
   "source": [
    "pro =product_inventory('pan',100,52)"
   ]
  },
  {
   "cell_type": "code",
   "execution_count": 44,
   "id": "56582699",
   "metadata": {},
   "outputs": [
    {
     "name": "stdout",
     "output_type": "stream",
     "text": [
      "pan 100 52\n"
     ]
    }
   ],
   "source": [
    "pro.update_product()"
   ]
  },
  {
   "cell_type": "code",
   "execution_count": 45,
   "id": "c9d5de79",
   "metadata": {},
   "outputs": [
    {
     "name": "stdout",
     "output_type": "stream",
     "text": [
      "52\n"
     ]
    }
   ],
   "source": [
    "pro.add_product()"
   ]
  },
  {
   "cell_type": "code",
   "execution_count": 48,
   "id": "d2cb9152",
   "metadata": {},
   "outputs": [],
   "source": [
    "## shap calculation\n",
    "class shap_calculation:\n",
    "    def __init__(self,length,width,height):\n",
    "        self.length = length\n",
    "        self.width = width\n",
    "        self.height = height\n",
    "    \n",
    "    def cal_area(self):\n",
    "        return self.length*self.width\n",
    "    \n",
    "    def cal_perimeter(self):\n",
    "        return 2*(self.length+self.width)\n",
    "    \n",
    "    \n",
    " "
   ]
  },
  {
   "cell_type": "code",
   "execution_count": 49,
   "id": "c6e70df1",
   "metadata": {},
   "outputs": [],
   "source": [
    "shap = shap_calculation(4,5,7)"
   ]
  },
  {
   "cell_type": "code",
   "execution_count": 50,
   "id": "349452c8",
   "metadata": {},
   "outputs": [
    {
     "data": {
      "text/plain": [
       "18"
      ]
     },
     "execution_count": 50,
     "metadata": {},
     "output_type": "execute_result"
    }
   ],
   "source": [
    "shap. cal_perimeter()"
   ]
  },
  {
   "cell_type": "code",
   "execution_count": 51,
   "id": "f738b355",
   "metadata": {},
   "outputs": [
    {
     "data": {
      "text/plain": [
       "20"
      ]
     },
     "execution_count": 51,
     "metadata": {},
     "output_type": "execute_result"
    }
   ],
   "source": [
    "    \n",
    "shap.cal_area()"
   ]
  },
  {
   "cell_type": "code",
   "execution_count": 52,
   "id": "61ed268e",
   "metadata": {},
   "outputs": [],
   "source": [
    "## student managment\n",
    "class stu_managment:\n",
    "    def __init__(self,stu_id,name,grades):\n",
    "        self.stu_id =stu_id\n",
    "        self.name= name\n",
    "        self.grades= grades\n",
    "        \n",
    "        \n",
    "    def stu_details(self):\n",
    "        print(self.stu_id,self.name,self.grades)\n",
    "        \n",
    "        \n",
    "    def stu_grades(self):\n",
    "        print(self.grades)\n",
    "        "
   ]
  },
  {
   "cell_type": "code",
   "execution_count": 54,
   "id": "01a65333",
   "metadata": {},
   "outputs": [],
   "source": [
    "stu = stu_managment(234,'advik','1st')"
   ]
  },
  {
   "cell_type": "code",
   "execution_count": 55,
   "id": "d7727c6f",
   "metadata": {},
   "outputs": [
    {
     "name": "stdout",
     "output_type": "stream",
     "text": [
      "1st\n"
     ]
    }
   ],
   "source": [
    "stu.stu_grades()"
   ]
  },
  {
   "cell_type": "code",
   "execution_count": 56,
   "id": "b2589542",
   "metadata": {},
   "outputs": [
    {
     "name": "stdout",
     "output_type": "stream",
     "text": [
      "234 advik 1st\n"
     ]
    }
   ],
   "source": [
    "stu.stu_details()"
   ]
  },
  {
   "cell_type": "code",
   "execution_count": 18,
   "id": "a1e0d97c",
   "metadata": {},
   "outputs": [],
   "source": [
    "## email managment\n",
    "class Email_managemant:\n",
    "    def __init__(self,sender,recipient,subject):\n",
    "        self.sender = sender\n",
    "        self.recipient = recipient\n",
    "        self.subject = subject\n",
    "        \n",
    "        \n",
    "    def send_email(self):\n",
    "        print(\"the sender is:\",self.sender)\n",
    "        \n",
    "        \n",
    "    def display_email(self):\n",
    "        print(\"The sender is:\",self.sender,\"The recever is:\",self.recipient,\"subject is:\",self.subject)"
   ]
  },
  {
   "cell_type": "code",
   "execution_count": 19,
   "id": "23e480c6",
   "metadata": {},
   "outputs": [],
   "source": [
    "email = Email_managemant('sbi.com','pooja','software job')"
   ]
  },
  {
   "cell_type": "code",
   "execution_count": 20,
   "id": "1320730f",
   "metadata": {},
   "outputs": [
    {
     "name": "stdout",
     "output_type": "stream",
     "text": [
      "the sender is: sbi.com\n"
     ]
    }
   ],
   "source": [
    "email.send_email()"
   ]
  },
  {
   "cell_type": "code",
   "execution_count": 21,
   "id": "b0d30123",
   "metadata": {},
   "outputs": [
    {
     "name": "stdout",
     "output_type": "stream",
     "text": [
      "The sender is: sbi.com The recever is: pooja subject is: software job\n"
     ]
    }
   ],
   "source": [
    "email.display_email()"
   ]
  },
  {
   "cell_type": "code",
   "execution_count": 28,
   "id": "6a27f145",
   "metadata": {},
   "outputs": [],
   "source": [
    "## social media\n",
    "class social_media:\n",
    "    \n",
    "    def __init__(self,username,posts,display):\n",
    "        self.username =username\n",
    "        self.post = posts\n",
    "        self.display =display\n",
    "        \n",
    "        \n",
    "    def add_posts(self):\n",
    "        return self.posts\n",
    "    \n",
    "    \n",
    "    def display_post(self):\n",
    "        return self.display\n",
    "        \n",
    "        "
   ]
  },
  {
   "cell_type": "code",
   "execution_count": 30,
   "id": "92e519ae",
   "metadata": {},
   "outputs": [],
   "source": [
    "media = social_media('pooja','emage','display post')"
   ]
  },
  {
   "cell_type": "markdown",
   "id": "187f5e09",
   "metadata": {},
   "source": []
  },
  {
   "cell_type": "code",
   "execution_count": 31,
   "id": "eb8407ac",
   "metadata": {},
   "outputs": [
    {
     "data": {
      "text/plain": [
       "'display post'"
      ]
     },
     "execution_count": 31,
     "metadata": {},
     "output_type": "execute_result"
    }
   ],
   "source": [
    "media.display_post()"
   ]
  },
  {
   "cell_type": "code",
   "execution_count": null,
   "id": "22c41d39",
   "metadata": {},
   "outputs": [],
   "source": []
  }
 ],
 "metadata": {
  "kernelspec": {
   "display_name": "Python 3 (ipykernel)",
   "language": "python",
   "name": "python3"
  },
  "language_info": {
   "codemirror_mode": {
    "name": "ipython",
    "version": 3
   },
   "file_extension": ".py",
   "mimetype": "text/x-python",
   "name": "python",
   "nbconvert_exporter": "python",
   "pygments_lexer": "ipython3",
   "version": "3.11.3"
  }
 },
 "nbformat": 4,
 "nbformat_minor": 5
}
