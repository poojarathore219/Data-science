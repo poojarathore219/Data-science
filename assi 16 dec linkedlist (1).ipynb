{
 "cells": [
  {
   "cell_type": "code",
   "execution_count": 1,
   "id": "5544151f",
   "metadata": {},
   "outputs": [],
   "source": []
  },
  {
   "cell_type": "code",
   "execution_count": 4,
   "id": "6d4b98ac",
   "metadata": {},
   "outputs": [],
   "source": [
    "class Node:\n",
    "    def __init__(self,data=None,next=None):\n",
    "        self.data=data\n",
    "        self.next=next\n",
    "    \n",
    "    \n",
    "    # method to set the datavalue\n",
    "    def setData(self ,data):\n",
    "        self.data=data\n",
    "        \n",
    "        \n",
    "     ## method to get the data value\n",
    "    def getData(self):\n",
    "        return self.data\n",
    "    \n",
    "    \n",
    "    \n",
    "    ##method of set the next\n",
    "    def setNext(self,next):\n",
    "        self.next=next\n",
    "        \n",
    "        \n",
    "        \n",
    "     ## method to get the next   \n",
    "    \n",
    "    def getNext(self):\n",
    "        return self.next\n",
    "    \n",
    "    \n",
    "    \n",
    "    "
   ]
  },
  {
   "cell_type": "code",
   "execution_count": 5,
   "id": "44d6d4aa",
   "metadata": {},
   "outputs": [
    {
     "name": "stdout",
     "output_type": "stream",
     "text": [
      "1->2->3->4->5->"
     ]
    }
   ],
   "source": [
    " ## create a linked list\n",
    "head =Node(1)\n",
    "node2 = Node(2)\n",
    "node3= Node(3)\n",
    "node4=Node(4)\n",
    "node5=Node(5)\n",
    "    \n",
    "    \n",
    "    # creating the linkage\n",
    "head.setNext(node2)\n",
    "node2.setNext(node3)\n",
    "node3.setNext(node4)\n",
    "node4.setNext(node5)\n",
    "    \n",
    "    \n",
    "def traverse(head):\n",
    "    temp=head\n",
    "    while(temp):\n",
    "        print(temp.getData(),end=\"->\")\n",
    "        temp =temp.getNext()\n",
    "            \n",
    "traverse(head)   \n",
    "\n",
    "\n",
    "\n",
    "\n",
    "    "
   ]
  },
  {
   "cell_type": "code",
   "execution_count": 18,
   "id": "cf2cc6e0",
   "metadata": {},
   "outputs": [
    {
     "ename": "NameError",
     "evalue": "name 'mergelist' is not defined",
     "output_type": "error",
     "traceback": [
      "\u001b[1;31m---------------------------------------------------------------------------\u001b[0m",
      "\u001b[1;31mNameError\u001b[0m                                 Traceback (most recent call last)",
      "Cell \u001b[1;32mIn[18], line 47\u001b[0m\n\u001b[0;32m     44\u001b[0m list2\u001b[38;5;241m.\u001b[39mhead\u001b[38;5;241m.\u001b[39mnext\u001b[38;5;241m.\u001b[39mnext \u001b[38;5;241m=\u001b[39m Node(\u001b[38;5;241m6\u001b[39m)\n\u001b[0;32m     46\u001b[0m list3\u001b[38;5;241m=\u001b[39mLL()\n\u001b[1;32m---> 47\u001b[0m list3\u001b[38;5;241m.\u001b[39mhead\u001b[38;5;241m=\u001b[39mmergelist(list1\u001b[38;5;241m.\u001b[39mhead,list2\u001b[38;5;241m.\u001b[39mhead)\n\u001b[0;32m     48\u001b[0m list3\u001b[38;5;241m.\u001b[39mprintlist()\n",
      "\u001b[1;31mNameError\u001b[0m: name 'mergelist' is not defined"
     ]
    }
   ],
   "source": [
    "## mearge two sorted  linked list \n",
    "class Node:\n",
    "    def __init__(self,data):\n",
    "        self.data=data\n",
    "        self.next=None\n",
    "        \n",
    "class LL:\n",
    "        def __init__(self):\n",
    "            self.head=None\n",
    "            \n",
    "        def mergelist(self,head1,head2):\n",
    "            if head1 is None:\n",
    "                return head2\n",
    "            \n",
    "            if head2 is None:\n",
    "                return head1\n",
    "            if head1.data<=head2.data:\n",
    "                temp=head1\n",
    "                temp.next=self.mergelist(head1.next,head2)\n",
    "            else:\n",
    "                temp=head2\n",
    "                temp.next=self.mergelist(head1,head2.next)\n",
    "            return temp  \n",
    "        \n",
    "        \n",
    "        def printlist(self):\n",
    "            temp = self.head\n",
    "            while temp:\n",
    "                print(temp.data, end=\" \")\n",
    "                temp = temp.next\n",
    "            print()\n",
    "        \n",
    "        \n",
    "list1 = LL()\n",
    "list1.head = Node(1)\n",
    "list1.head.next = Node(2)\n",
    "list1.head.next.next = Node(3)  \n",
    "\n",
    "\n",
    "\n",
    "list2 = LL()\n",
    "list2.head = Node(4)\n",
    "list2.head.next = Node(8)\n",
    "list2.head.next.next = Node(6)\n",
    "            \n",
    "list3=LL()\n",
    "list3.head=mergelist(list1.head,list2.head)\n",
    "list3.printlist()\n",
    "    "
   ]
  },
  {
   "cell_type": "code",
   "execution_count": 11,
   "id": "0b67bb77",
   "metadata": {},
   "outputs": [
    {
     "data": {
      "text/plain": [
       "<__main__.Node at 0x1290d8fa7d0>"
      ]
     },
     "execution_count": 11,
     "metadata": {},
     "output_type": "execute_result"
    }
   ],
   "source": [
    "llist=LL()\n",
    "llist.mergelist(head1,head2)\n"
   ]
  },
  {
   "cell_type": "code",
   "execution_count": 8,
   "id": "ad0f5d15",
   "metadata": {},
   "outputs": [
    {
     "name": "stdout",
     "output_type": "stream",
     "text": [
      "5->10->15->"
     ]
    }
   ],
   "source": [
    "head1 =Node(5)\n",
    "node2 = Node(10)\n",
    "node3= Node(15)\n",
    "\n",
    "    # creating the linkage\n",
    "head1.setNext(node2)\n",
    "node2.setNext(node3)\n",
    "\n",
    "\n",
    "\n",
    "def traverse(head1):\n",
    "    temp=head1\n",
    "    while(temp):\n",
    "        print(temp.getData(),end=\"->\")\n",
    "        temp =temp.getNext()\n",
    "            \n",
    "traverse(head1)       "
   ]
  },
  {
   "cell_type": "code",
   "execution_count": 9,
   "id": "8c7737fa",
   "metadata": {
    "scrolled": true
   },
   "outputs": [
    {
     "name": "stdout",
     "output_type": "stream",
     "text": [
      "2->3->20->"
     ]
    }
   ],
   "source": [
    "head2 =Node(2)\n",
    "node2 =Node(3)\n",
    "node3=Node(20)\n",
    "\n",
    "    # creating the linkage\n",
    "head2.setNext(node2)\n",
    "node2.setNext(node3)\n",
    "\n",
    "\n",
    "\n",
    "def traverse(head2):\n",
    "    temp=head2\n",
    "    while(temp):\n",
    "        print(temp.getData(),end=\"->\")\n",
    "        temp =temp.getNext()\n",
    "            \n",
    "traverse(head2)       "
   ]
  },
  {
   "cell_type": "code",
   "execution_count": 1,
   "id": "dc69cf65",
   "metadata": {},
   "outputs": [
    {
     "name": "stdout",
     "output_type": "stream",
     "text": [
      "1->2->3->4->5->\n",
      "2->1->4->3->5->\n"
     ]
    }
   ],
   "source": [
    "## swap a node of a linked list\n",
    "class Node:\n",
    "    def __init__(self,data):\n",
    "        self.data=data\n",
    "        self.next=None\n",
    "        \n",
    "        \n",
    "class LL:\n",
    "    def __init__(self):\n",
    "        self.head=None\n",
    "        \n",
    "        \n",
    "    def swappair(self):\n",
    "        temp=self.head\n",
    "        while temp and temp.next:\n",
    "            temp.data,temp.next.data=temp.next.data,temp.data\n",
    "            temp=temp.next.next\n",
    "            \n",
    "            \n",
    "            \n",
    "    def  printlist(self):\n",
    "        temp=self.head\n",
    "        while(temp):\n",
    "            print(temp.data,end=\"->\")\n",
    "            temp=temp.next\n",
    "        print()\n",
    "        \n",
    "        \n",
    "linked_list = LL()\n",
    "linked_list.head = Node(1)\n",
    "linked_list.head.next = Node(2)\n",
    "linked_list.head.next.next = Node(3)\n",
    "linked_list.head.next.next.next = Node(4)\n",
    "linked_list.head.next.next.next.next = Node(5)\n",
    "\n",
    "\n",
    "linked_list.printlist()\n",
    "linked_list.swappair()\n",
    "linked_list.printlist()"
   ]
  },
  {
   "cell_type": "code",
   "execution_count": null,
   "id": "7cdca520",
   "metadata": {},
   "outputs": [],
   "source": []
  },
  {
   "cell_type": "code",
   "execution_count": 17,
   "id": "345e7179",
   "metadata": {},
   "outputs": [
    {
     "name": "stdout",
     "output_type": "stream",
     "text": [
      "1->"
     ]
    },
    {
     "ename": "TypeError",
     "evalue": "'Node' object is not callable",
     "output_type": "error",
     "traceback": [
      "\u001b[1;31m---------------------------------------------------------------------------\u001b[0m",
      "\u001b[1;31mTypeError\u001b[0m                                 Traceback (most recent call last)",
      "Cell \u001b[1;32mIn[17], line 46\u001b[0m\n\u001b[0;32m     43\u001b[0m linked_list\u001b[38;5;241m.\u001b[39mhead\u001b[38;5;241m.\u001b[39mnext\u001b[38;5;241m.\u001b[39mnext\u001b[38;5;241m.\u001b[39mnext \u001b[38;5;241m=\u001b[39m Node(\u001b[38;5;241m4\u001b[39m)\n\u001b[0;32m     44\u001b[0m linked_list\u001b[38;5;241m.\u001b[39mhead\u001b[38;5;241m.\u001b[39mnext\u001b[38;5;241m.\u001b[39mnext\u001b[38;5;241m.\u001b[39mnext\u001b[38;5;241m.\u001b[39mnext \u001b[38;5;241m=\u001b[39m Node(\u001b[38;5;241m5\u001b[39m)\n\u001b[1;32m---> 46\u001b[0m linked_list\u001b[38;5;241m.\u001b[39mprintlist()\n\u001b[0;32m     47\u001b[0m linked_list\u001b[38;5;241m.\u001b[39mreverse()\n\u001b[0;32m     48\u001b[0m linked_list\u001b[38;5;241m.\u001b[39mprintlist()\n",
      "Cell \u001b[1;32mIn[17], line 36\u001b[0m, in \u001b[0;36mLL.printlist\u001b[1;34m(self)\u001b[0m\n\u001b[0;32m     34\u001b[0m \u001b[38;5;28;01mwhile\u001b[39;00m(temp):\n\u001b[0;32m     35\u001b[0m     \u001b[38;5;28mprint\u001b[39m(temp\u001b[38;5;241m.\u001b[39mdata,end\u001b[38;5;241m=\u001b[39m\u001b[38;5;124m\"\u001b[39m\u001b[38;5;124m->\u001b[39m\u001b[38;5;124m\"\u001b[39m)\n\u001b[1;32m---> 36\u001b[0m     temp \u001b[38;5;241m=\u001b[39mtemp\u001b[38;5;241m.\u001b[39mnext()\n\u001b[0;32m     37\u001b[0m \u001b[38;5;28mprint\u001b[39m()\n",
      "\u001b[1;31mTypeError\u001b[0m: 'Node' object is not callable"
     ]
    }
   ],
   "source": [
    "##reverse a linked list\n",
    "class Node:\n",
    "    def __init__(self, data):\n",
    "        self.data = data\n",
    "        self.next = None  # Initialize next to None\n",
    "\n",
    "\n",
    "        \n",
    "class LL: \n",
    "     def __init__(self): \n",
    "        self.head = None\n",
    "    \n",
    "    \n",
    "    \n",
    "     def reverse(head):\n",
    "        if self.head is None :\n",
    "            return\n",
    "        \n",
    "        curr=self.head\n",
    "        prev=None\n",
    "        \n",
    "        while(curr):\n",
    "            next=curr.next\n",
    "            curr.next=prev\n",
    "            prev=curr\n",
    "            curr=next\n",
    "            \n",
    "            \n",
    "        self.head=prev\n",
    "        return prev\n",
    "    \n",
    "     def printlist(self):\n",
    "        temp=self.head\n",
    "        while(temp):\n",
    "            print(temp.data,end=\"->\")\n",
    "            temp =temp.next()\n",
    "        print()\n",
    "\n",
    "linked_list = LL()\n",
    "linked_list.head = Node(1)\n",
    "linked_list.head.next = Node(2)\n",
    "linked_list.head.next.next = Node(3)\n",
    "linked_list.head.next.next.next = Node(4)\n",
    "linked_list.head.next.next.next.next = Node(5)\n",
    "\n",
    "linked_list.printlist()\n",
    "linked_list.reverse()\n",
    "linked_list.printlist()"
   ]
  },
  {
   "cell_type": "code",
   "execution_count": null,
   "id": "5fe98b4e",
   "metadata": {},
   "outputs": [],
   "source": []
  },
  {
   "cell_type": "code",
   "execution_count": 3,
   "id": "38b661e9",
   "metadata": {},
   "outputs": [
    {
     "name": "stdout",
     "output_type": "stream",
     "text": [
      "Original Linked List:\n",
      "1 -> 2 -> 3 -> 4 -> 5 -> \n",
      "Reversed Linked List:\n",
      "5 -> 4 -> 3 -> 2 -> 1 -> "
     ]
    }
   ],
   "source": [
    "class Node:\n",
    "    def __init__(self, data):\n",
    "        self.data = data\n",
    "        self.next = None\n",
    "\n",
    "class LinkedList:\n",
    "    def __init__(self):\n",
    "        self.head = None\n",
    "\n",
    "    def reverse(self):\n",
    "        if self.head is None:\n",
    "            return\n",
    "\n",
    "        curr = self.head\n",
    "        prev = None\n",
    "\n",
    "        while curr:\n",
    "            next_node = curr.next\n",
    "            curr.next = prev\n",
    "            prev = curr\n",
    "            curr = next_node\n",
    "\n",
    "        self.head = prev\n",
    "\n",
    "    def print_list(self):\n",
    "        temp = self.head\n",
    "        while temp:\n",
    "            print(temp.data, end=\" -> \")\n",
    "            temp = temp.next\n",
    "\n",
    "# Creating a linked list\n",
    "linked_list = LinkedList()\n",
    "linked_list.head = Node(1)\n",
    "linked_list.head.next = Node(2)\n",
    "linked_list.head.next.next = Node(3)\n",
    "linked_list.head.next.next.next = Node(4)\n",
    "linked_list.head.next.next.next.next = Node(5)\n",
    "\n",
    "# Printing the original linked list\n",
    "print(\"Original Linked List:\")\n",
    "linked_list.print_list()\n",
    "print()\n",
    "\n",
    "# Reversing the linked list\n",
    "linked_list.reverse()\n",
    "\n",
    "# Printing the reversed linked list\n",
    "print(\"Reversed Linked List:\")\n",
    "linked_list.print_list()\n"
   ]
  },
  {
   "cell_type": "code",
   "execution_count": 76,
   "id": "6fc33828",
   "metadata": {},
   "outputs": [
    {
     "name": "stdout",
     "output_type": "stream",
     "text": [
      "1->2->4->5-><__main__.Node object at 0x00000191BA3077D0>\n"
     ]
    }
   ],
   "source": [
    "## Assis 3\n",
    "## remove nth node from a linked list\n",
    "def delete(head,k):\n",
    "    if(k<0 or k>length(head) or not head):\n",
    "        return head\n",
    "    if k==0:\n",
    "        head =head.getNext()\n",
    "    else:\n",
    "        i=0\n",
    "        prev=head\n",
    "        while(i<k-1):\n",
    "             prev=prev.getNext()\n",
    "             i=i+1\n",
    "                \n",
    "          \n",
    "        prev.setNext(prev.getNext().getNext())\n",
    "        return head\n",
    "        \n",
    "def length(head):\n",
    "    temp=head\n",
    "    len=0\n",
    "    while(temp):\n",
    "        len=len+1\n",
    "        temp=temp.getNext()\n",
    "    return len\n",
    "    print(length(head))\n",
    "        \n",
    "traverse(head)       \n",
    "delete(head,2)\n",
    "print(head)"
   ]
  },
  {
   "cell_type": "code",
   "execution_count": 62,
   "id": "fca2488e",
   "metadata": {},
   "outputs": [
    {
     "name": "stdout",
     "output_type": "stream",
     "text": [
      "5\n"
     ]
    }
   ],
   "source": [
    "def length(head):\n",
    "    temp=head\n",
    "    len=0\n",
    "    while(temp):\n",
    "        len=len+1\n",
    "        temp=temp.getNext()\n",
    "    return len\n",
    "print(length(head))"
   ]
  },
  {
   "cell_type": "code",
   "execution_count": null,
   "id": "25fae753",
   "metadata": {},
   "outputs": [],
   "source": [
    "## Assis 4\n",
    "## find intersection point of two ll"
   ]
  },
  {
   "cell_type": "code",
   "execution_count": 23,
   "id": "9b270377",
   "metadata": {},
   "outputs": [
    {
     "name": "stdout",
     "output_type": "stream",
     "text": [
      "<__main__.Node object at 0x0000022092D27A10>\n"
     ]
    }
   ],
   "source": [
    "## Assis 5\n",
    "##remove duplicate from a sorted ll\n",
    "\n",
    "        \n",
    "\n",
    "def duplicates(head):\n",
    "    temp=head\n",
    "    if temp is None:\n",
    "        return\n",
    "    while(temp.next is not None):\n",
    "        if temp.data==temp.next.data:\n",
    "            new=temp.next.next\n",
    "            temp.next=new\n",
    "        else:\n",
    "            temp=temp.next\n",
    "        return head\n",
    "\n",
    "\n",
    "duplicates(head)\n",
    "print(head)\n"
   ]
  },
  {
   "cell_type": "code",
   "execution_count": null,
   "id": "d668742c",
   "metadata": {},
   "outputs": [],
   "source": [
    "## Assisment 6\n",
    "## add two no represented by ll\n",
    "l1=2->4->3    l2= 5->6->4   (342+465), output-  7->0->8"
   ]
  },
  {
   "cell_type": "code",
   "execution_count": null,
   "id": "574bd606",
   "metadata": {},
   "outputs": [],
   "source": []
  }
 ],
 "metadata": {
  "kernelspec": {
   "display_name": "Python 3 (ipykernel)",
   "language": "python",
   "name": "python3"
  },
  "language_info": {
   "codemirror_mode": {
    "name": "ipython",
    "version": 3
   },
   "file_extension": ".py",
   "mimetype": "text/x-python",
   "name": "python",
   "nbconvert_exporter": "python",
   "pygments_lexer": "ipython3",
   "version": "3.11.4"
  }
 },
 "nbformat": 4,
 "nbformat_minor": 5
}
