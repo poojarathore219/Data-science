{
 "cells": [
  {
   "cell_type": "code",
   "execution_count": null,
   "id": "38f0e2ff",
   "metadata": {},
   "outputs": [],
   "source": [
    "Q1.....\n",
    "ans.the worst-case time complexity of this version of QuickSort is O(n^2) (when the pivot choice is bad). However, on average, QuickSort performs well and has a time complexity of O(n log n)."
   ]
  },
  {
   "cell_type": "code",
   "execution_count": null,
   "id": "294274e2",
   "metadata": {},
   "outputs": [],
   "source": [
    "Q.2.......\n",
    "here are two nested loops. The outer loop runs rows times, and the inner loop runs cols times.\n",
    "Therefore, the time complexity of this function is O(rows * cols), or in terms of the size of the matrix, it is O(m * n), where m is the number of rows and n is the number of columns."
   ]
  },
  {
   "cell_type": "code",
   "execution_count": null,
   "id": "e899a9f1",
   "metadata": {},
   "outputs": [],
   "source": [
    "Q.3...........\n",
    "The function iterates through every element in the array arr exactly once.\n",
    "The time complexity of this function is O(n), where n is the number of elements in the array arr."
   ]
  },
  {
   "cell_type": "code",
   "execution_count": null,
   "id": "9f906a34",
   "metadata": {},
   "outputs": [],
   "source": [
    "Q.4.........\n",
    "This algorithm uses two nested loops: the outer loop runs n times, and the inner loop runs up to i times.\n",
    "As a result, the time complexity of this algorithm is O(n^2), where n is the length of the input list nums."
   ]
  },
  {
   "cell_type": "code",
   "execution_count": null,
   "id": "64a288f7",
   "metadata": {},
   "outputs": [],
   "source": [
    "Q.5............\n",
    "The outer loop runs n times, and the inner loop runs from i to n. This means the number of iterations of the inner loop is decreasing as i increases.\n",
    "The total number of iterations is roughly O(n^2) because for each i, the inner loop runs n - i times, resulting in a summation that behaves like O(n^2).\n",
    "Thus, the time complexity of this function is O(n^2)."
   ]
  },
  {
   "cell_type": "code",
   "execution_count": null,
   "id": "494e953b",
   "metadata": {},
   "outputs": [],
   "source": [
    "Q.6.............\n",
    "The function works by reducing the number n by dividing it by 10 at each recursive call (essentially removing one digit each time).\n",
    "Therefore, the recursion depth is proportional to the number of digits in n, which is O(log n).\n",
    "Thus, the time complexity of this recursive function is O(log n), where n is the given integer."
   ]
  },
  {
   "cell_type": "code",
   "execution_count": null,
   "id": "24bdc09d",
   "metadata": {},
   "outputs": [],
   "source": [
    "Q.7..........\n",
    "Time Complexity:\n",
    "\n",
    "The recursive Fibonacci function makes two calls for each n until the base case is reached. This results in exponential growth of recursive calls.\n",
    "The time complexity of this recursive Fibonacci function is O(2^n), because each recursive call leads to two more calls."
   ]
  },
  {
   "cell_type": "code",
   "execution_count": null,
   "id": "97fc00ef",
   "metadata": {},
   "outputs": [],
   "source": [
    "Q.8.......\n",
    "Time Complexity:\n",
    "\n",
    "This recursive function explores both including and excluding each element in the array to check if the sum can be achieved.\n",
    "The time complexity is O(2^n), where n is the number of elements in the input list nums, as it explores all possible subsets."
   ]
  },
  {
   "cell_type": "code",
   "execution_count": null,
   "id": "eeaf5aee",
   "metadata": {},
   "outputs": [],
   "source": [
    "Q.9.........\n",
    "Time Complexity:\n",
    "\n",
    "The function explores all possible ways of breaking the string s into dictionary words.\n",
    "The time complexity is O(2^n) in the worst case, where n is the length of the string s, since every substring is recursively checked."
   ]
  },
  {
   "cell_type": "code",
   "execution_count": null,
   "id": "cba6ece4",
   "metadata": {},
   "outputs": [],
   "source": [
    "Q.10...........\n",
    "Time Complexity:\n",
    "\n",
    "The N-Queens problem is a backtracking problem where we try placing queens one by one in each row, and for each row, we attempt to place a queen in all columns.\n",
    "In the worst case, for each row, we make n recursive calls, and this leads to a time complexity of O(n!), as the number of possible placements of n queens on an n x n board is factorial in nature.\n"
   ]
  }
 ],
 "metadata": {
  "kernelspec": {
   "display_name": "Python 3 (ipykernel)",
   "language": "python",
   "name": "python3"
  },
  "language_info": {
   "codemirror_mode": {
    "name": "ipython",
    "version": 3
   },
   "file_extension": ".py",
   "mimetype": "text/x-python",
   "name": "python",
   "nbconvert_exporter": "python",
   "pygments_lexer": "ipython3",
   "version": "3.11.4"
  }
 },
 "nbformat": 4,
 "nbformat_minor": 5
}
