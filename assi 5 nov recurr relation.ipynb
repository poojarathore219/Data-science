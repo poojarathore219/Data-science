{
 "cells": [
  {
   "cell_type": "code",
   "execution_count": null,
   "id": "f00a81bf-abc5-47e4-93bc-b100bf02eec8",
   "metadata": {},
   "outputs": [],
   "source": [
    "## Find the request relation by the substitute method\n",
    "T(n)=T(n-1)+c-----------1\n",
    "T(n-1)=T(n-1-1)+c+c\n",
    "T(n-1)=T(n-2)+2c---------------2\n",
    "T(n-2)=T(n-3)+3c------------3\n",
    "  k times\n",
    "    T(n)= T(n-k)+kc\n",
    "    n-k=1\n",
    "    k=n-1\n",
    "    put the value\n",
    "    =T(n-n-)\n"
   ]
  }
 ],
 "metadata": {
  "kernelspec": {
   "display_name": "Python 3 (ipykernel)",
   "language": "python",
   "name": "python3"
  },
  "language_info": {
   "codemirror_mode": {
    "name": "ipython",
    "version": 3
   },
   "file_extension": ".py",
   "mimetype": "text/x-python",
   "name": "python",
   "nbconvert_exporter": "python",
   "pygments_lexer": "ipython3",
   "version": "3.10.8"
  }
 },
 "nbformat": 4,
 "nbformat_minor": 5
}
