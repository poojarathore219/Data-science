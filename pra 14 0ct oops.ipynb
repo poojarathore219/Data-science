{
 "cells": [
  {
   "cell_type": "code",
   "execution_count": 9,
   "id": "f20da815",
   "metadata": {},
   "outputs": [],
   "source": [
    "class pwskills:\n",
    "    \n",
    "    def __init__(self,mentor):\n",
    "        self.mentor = mentor\n",
    "        \n",
    "        \n",
    "    def mentor_name(self):\n",
    "        print(self.mentor)\n",
    "        \n",
    "        \n",
    "        \n",
    "class datascience(pwskills):\n",
    "    def __init__(self,mentor, mentor_mail_id):\n",
    "            self.mentor =mentor\n",
    "            self.mentor_mail_id =mentor_mail_id\n",
    "            \n",
    "            \n",
    "    def show_info(self):\n",
    "        print(self.mentor ,self.mentor_mail_id)\n",
    "            \n",
    "        "
   ]
  },
  {
   "cell_type": "code",
   "execution_count": 10,
   "id": "b270bd79",
   "metadata": {},
   "outputs": [],
   "source": [
    "python_basic = datascience(\"sudh\" , \"fasv@gmail.com\")"
   ]
  },
  {
   "cell_type": "code",
   "execution_count": 11,
   "id": "0fdcc994",
   "metadata": {},
   "outputs": [
    {
     "name": "stdout",
     "output_type": "stream",
     "text": [
      "sudh fasv@gmail.com\n"
     ]
    }
   ],
   "source": [
    "python_basic.show_info()"
   ]
  },
  {
   "cell_type": "code",
   "execution_count": 12,
   "id": "813afa23",
   "metadata": {},
   "outputs": [
    {
     "name": "stdout",
     "output_type": "stream",
     "text": [
      "sudh\n"
     ]
    }
   ],
   "source": [
    "python_basic.mentor_name()"
   ]
  },
  {
   "cell_type": "code",
   "execution_count": 20,
   "id": "f1516287",
   "metadata": {},
   "outputs": [],
   "source": [
    "class pwskills:\n",
    "    \n",
    "    def __init__(self,mentor):\n",
    "        self.mentor = mentor\n",
    "        \n",
    "        \n",
    "    def mentor_name(self):\n",
    "        print(self.mentor)\n",
    "        \n",
    "        \n",
    "        \n",
    "class datascience(pwskills):\n",
    "    def __init__(self,mentor, mentor_mail_id):\n",
    "            #self.mentor =mentor\n",
    "            super().__init__(mentor)\n",
    "            self.mentor_mail_id =mentor_mail_id\n",
    "            \n",
    "            \n",
    "    def show_info(self):\n",
    "        super().mentor_name()\n",
    "        print(self.mentor ,self.mentor_mail_id)\n",
    "            \n",
    "        "
   ]
  },
  {
   "cell_type": "code",
   "execution_count": 21,
   "id": "c11d992d",
   "metadata": {},
   "outputs": [],
   "source": [
    "python_basic =datascience(\"sudh\",\"hbddj@gmail.com\")"
   ]
  },
  {
   "cell_type": "code",
   "execution_count": 22,
   "id": "9a903890",
   "metadata": {},
   "outputs": [
    {
     "name": "stdout",
     "output_type": "stream",
     "text": [
      "sudh\n",
      "sudh hbddj@gmail.com\n"
     ]
    }
   ],
   "source": [
    "python_basic.show_info()"
   ]
  },
  {
   "cell_type": "code",
   "execution_count": 23,
   "id": "52e518c5",
   "metadata": {},
   "outputs": [
    {
     "name": "stdout",
     "output_type": "stream",
     "text": [
      "sudh\n"
     ]
    }
   ],
   "source": [
    "python_basic.mentor_name()"
   ]
  },
  {
   "cell_type": "code",
   "execution_count": 24,
   "id": "ee8c39ab",
   "metadata": {},
   "outputs": [],
   "source": [
    "class human:\n",
    "    def __init__(self):\n",
    "        pass\n",
    "    \n",
    "    def eat(self):\n",
    "        print(\"print the eat method from human\")\n",
    "        "
   ]
  },
  {
   "cell_type": "code",
   "execution_count": 28,
   "id": "3c146f64",
   "metadata": {},
   "outputs": [],
   "source": [
    "class male(human):\n",
    "    def __init__(self,name):\n",
    "        self.name =name\n",
    "        \n",
    "        \n",
    "    def eat(self):\n",
    "        super().eat()\n",
    "        print(self.name)"
   ]
  },
  {
   "cell_type": "code",
   "execution_count": 29,
   "id": "be7bfa71",
   "metadata": {},
   "outputs": [],
   "source": [
    "aru =male(\"advik\")"
   ]
  },
  {
   "cell_type": "code",
   "execution_count": 30,
   "id": "76169654",
   "metadata": {},
   "outputs": [
    {
     "name": "stdout",
     "output_type": "stream",
     "text": [
      "print the eat method from human\n",
      "advik\n"
     ]
    }
   ],
   "source": [
    "aru.eat()"
   ]
  },
  {
   "cell_type": "code",
   "execution_count": 31,
   "id": "b007b630",
   "metadata": {},
   "outputs": [],
   "source": [
    "class fileopener:\n",
    "    \n",
    "    def __init__(self,filename):\n",
    "        self.filename =filename\n",
    "    \n",
    "    \n",
    "    def open_file(self):\n",
    "        print(\"this will open the file\",self.filename)\n",
    "        \n",
    "        \n",
    "    def __del__(self):\n",
    "        self.filename\n",
    "        "
   ]
  },
  {
   "cell_type": "code",
   "execution_count": 33,
   "id": "fc1c1862",
   "metadata": {},
   "outputs": [],
   "source": [
    "f1 =fileopener(\"f1.txt\")"
   ]
  },
  {
   "cell_type": "code",
   "execution_count": 34,
   "id": "3088a88d",
   "metadata": {},
   "outputs": [
    {
     "name": "stdout",
     "output_type": "stream",
     "text": [
      "this will open the file f1.txt\n"
     ]
    }
   ],
   "source": [
    "f1.open_file()"
   ]
  },
  {
   "cell_type": "code",
   "execution_count": 1,
   "id": "9d2c35a7",
   "metadata": {},
   "outputs": [],
   "source": [
    "import time\n",
    "class timer:\n",
    "    def __init__(self):\n",
    "        self.start_time =time.time()\n",
    "     \n",
    "    \n",
    "    def task(self):\n",
    "        time_spent = time.time()-self.start_time\n",
    "        print(time_spent)\n",
    "        \n",
    "    def __del__(self):\n",
    "        print(\"\")\n",
    "      \n",
    "    \n",
    "    \n",
    "    def __str__(self):\n",
    "        return \"this is mt class timer\"\n",
    "        \n",
    "        "
   ]
  },
  {
   "cell_type": "code",
   "execution_count": 2,
   "id": "75440001",
   "metadata": {},
   "outputs": [
    {
     "name": "stdout",
     "output_type": "stream",
     "text": [
      "0.0\n"
     ]
    }
   ],
   "source": [
    "t1 = timer()\n",
    "t1.task()"
   ]
  },
  {
   "cell_type": "code",
   "execution_count": 3,
   "id": "3de97478",
   "metadata": {},
   "outputs": [
    {
     "name": "stdout",
     "output_type": "stream",
     "text": [
      "this is mt class timer\n"
     ]
    }
   ],
   "source": [
    "print(t1)"
   ]
  },
  {
   "cell_type": "code",
   "execution_count": 16,
   "id": "bf66a1ba",
   "metadata": {},
   "outputs": [],
   "source": [
    "def test(func):\n",
    "    def inner_test():\n",
    "        print(\"this is the start of my inner test\")\n",
    "        func()\n",
    "        print(\"this is the end of my inner test\")\n",
    "        \n",
    "        \n",
    "    return inner_test\n",
    "    \n",
    "    \n",
    "    \n",
    "@test\n",
    "def test1():\n",
    "    print(\"this is my test1\")"
   ]
  },
  {
   "cell_type": "code",
   "execution_count": 17,
   "id": "88457864",
   "metadata": {},
   "outputs": [
    {
     "name": "stdout",
     "output_type": "stream",
     "text": [
      "this is the start of my inner test\n",
      "this is my test1\n",
      "this is the end of my inner test\n"
     ]
    }
   ],
   "source": [
    "test1()\n"
   ]
  },
  {
   "cell_type": "code",
   "execution_count": 18,
   "id": "c31624fa",
   "metadata": {},
   "outputs": [
    {
     "data": {
      "text/plain": [
       "<function __main__.test.<locals>.inner_test()>"
      ]
     },
     "execution_count": 18,
     "metadata": {},
     "output_type": "execute_result"
    }
   ],
   "source": [
    "test(test1)"
   ]
  },
  {
   "cell_type": "code",
   "execution_count": 19,
   "id": "0f1e4f71",
   "metadata": {},
   "outputs": [],
   "source": [
    "import time\n",
    "def print_list(l):\n",
    "    start_time = time.time()\n",
    "    for i in l:\n",
    "        print(i)\n",
    "    end_time = time.time()\n",
    "    total_time = end_time -start_time\n",
    "    print(total_time)"
   ]
  },
  {
   "cell_type": "code",
   "execution_count": 80,
   "id": "0d98c140",
   "metadata": {},
   "outputs": [],
   "source": [
    "def print_key(d):\n",
    "    \n",
    "    print(d.keys())"
   ]
  },
  {
   "cell_type": "code",
   "execution_count": 88,
   "id": "28c0b251",
   "metadata": {},
   "outputs": [],
   "source": [
    "def find_time(func):\n",
    "    def cal_time(*args):\n",
    "        start_time = time.time()\n",
    "        func(*args)\n",
    "        end_time = time.time()\n",
    "        total_time = end_time - start_time\n",
    "        print(total_time)\n",
    "     \n",
    "    return cal_time\n",
    "        "
   ]
  },
  {
   "cell_type": "code",
   "execution_count": 89,
   "id": "6fe0c052",
   "metadata": {},
   "outputs": [],
   "source": [
    "@find_time\n",
    "def print_key(d):\n",
    "        \n",
    "    print(d.keys())"
   ]
  },
  {
   "cell_type": "code",
   "execution_count": 90,
   "id": "bdcf0ea0",
   "metadata": {},
   "outputs": [
    {
     "name": "stdout",
     "output_type": "stream",
     "text": [
      "dict_keys(['name', 'age'])\n",
      "0.0\n"
     ]
    }
   ],
   "source": [
    "print_key({\"name\":\"aru\",\"age\":\"7 year\"})"
   ]
  },
  {
   "cell_type": "code",
   "execution_count": 91,
   "id": "0de346bf",
   "metadata": {},
   "outputs": [],
   "source": [
    "@find_time\n",
    "def print_list(l):\n",
    "    for i in l:\n",
    "           print(i)"
   ]
  },
  {
   "cell_type": "code",
   "execution_count": 93,
   "id": "f5ee96a7",
   "metadata": {},
   "outputs": [
    {
     "name": "stdout",
     "output_type": "stream",
     "text": [
      "34\n",
      "34\n",
      "4\n",
      "5\n",
      "6\n",
      "7\n",
      "0.0\n"
     ]
    }
   ],
   "source": [
    "print_list([34,34,4,5,6,7])"
   ]
  },
  {
   "cell_type": "code",
   "execution_count": 95,
   "id": "1210ae3c",
   "metadata": {},
   "outputs": [],
   "source": [
    "import logging\n",
    "def log_fun(func):\n",
    "    def log_inner(*args):\n",
    "        logging.basicConfig(filename = \"test.log\" , level =logging.INFO)\n",
    "        logging.info(\"this is the a start of my func\")\n",
    "        func(*args)\n",
    "        logging.info(\"this is the aend of my func\")\n",
    "    return log_inner    "
   ]
  },
  {
   "cell_type": "code",
   "execution_count": 96,
   "id": "0d876cbf",
   "metadata": {},
   "outputs": [],
   "source": [
    "@find_time\n",
    "@log_fun\n",
    "def print_list(l):\n",
    "    for i in l:\n",
    "        print(i)"
   ]
  },
  {
   "cell_type": "code",
   "execution_count": 97,
   "id": "2a126162",
   "metadata": {
    "scrolled": true
   },
   "outputs": [
    {
     "name": "stdout",
     "output_type": "stream",
     "text": [
      "23\n",
      "4\n",
      "5\n",
      "6\n",
      "78\n",
      "89\n",
      "0.0\n"
     ]
    }
   ],
   "source": [
    "print_list([23,4,5,6,78,89])"
   ]
  },
  {
   "cell_type": "code",
   "execution_count": 98,
   "id": "d9d705cd",
   "metadata": {},
   "outputs": [],
   "source": [
    "class pooja:\n",
    "    def __init__(self , subject):\n",
    "        self.subject = subject"
   ]
  },
  {
   "cell_type": "code",
   "execution_count": 99,
   "id": "eb936e51",
   "metadata": {},
   "outputs": [],
   "source": [
    "s1= pooja(\"data science\")"
   ]
  },
  {
   "cell_type": "code",
   "execution_count": 101,
   "id": "4a089a85",
   "metadata": {},
   "outputs": [],
   "source": [
    "s1._pooja_subject=\"big data\""
   ]
  },
  {
   "cell_type": "code",
   "execution_count": 102,
   "id": "0d2d35b5",
   "metadata": {},
   "outputs": [
    {
     "data": {
      "text/plain": [
       "'big data'"
      ]
     },
     "execution_count": 102,
     "metadata": {},
     "output_type": "execute_result"
    }
   ],
   "source": [
    "s1._pooja_subject"
   ]
  },
  {
   "cell_type": "code",
   "execution_count": 103,
   "id": "d44cf0a7",
   "metadata": {},
   "outputs": [],
   "source": [
    "class pooja:\n",
    "    def __init__(self , subject):\n",
    "        self.subject = subject\n",
    "        \n",
    "        \n",
    "        @property\n",
    "        def subject1(self):\n",
    "            return self.__subject\n",
    "        \n",
    "        @subject.setter\n",
    "        def subject1(self ,subject):\n",
    "            self.__subject = subject\n",
    "            \n",
    "        @subject.getter\n",
    "        def subject1(self):\n",
    "            return self.__subject\n",
    "        "
   ]
  },
  {
   "cell_type": "code",
   "execution_count": 106,
   "id": "90c931b4",
   "metadata": {},
   "outputs": [
    {
     "ename": "AttributeError",
     "evalue": "'str' object has no attribute 'setter'",
     "output_type": "error",
     "traceback": [
      "\u001b[1;31m---------------------------------------------------------------------------\u001b[0m",
      "\u001b[1;31mAttributeError\u001b[0m                            Traceback (most recent call last)",
      "Cell \u001b[1;32mIn[106], line 1\u001b[0m\n\u001b[1;32m----> 1\u001b[0m s2 \u001b[38;5;241m=\u001b[39m pooja(\u001b[38;5;124m\"\u001b[39m\u001b[38;5;124mdata analytics\u001b[39m\u001b[38;5;124m\"\u001b[39m)\n",
      "Cell \u001b[1;32mIn[103], line 10\u001b[0m, in \u001b[0;36mpooja.__init__\u001b[1;34m(self, subject)\u001b[0m\n\u001b[0;32m      6\u001b[0m \u001b[38;5;129m@property\u001b[39m\n\u001b[0;32m      7\u001b[0m \u001b[38;5;28;01mdef\u001b[39;00m \u001b[38;5;21msubject1\u001b[39m(\u001b[38;5;28mself\u001b[39m):\n\u001b[0;32m      8\u001b[0m     \u001b[38;5;28;01mreturn\u001b[39;00m \u001b[38;5;28mself\u001b[39m\u001b[38;5;241m.\u001b[39m__subject\n\u001b[1;32m---> 10\u001b[0m \u001b[38;5;129m@subject\u001b[39m\u001b[38;5;241m.\u001b[39msetter\n\u001b[0;32m     11\u001b[0m \u001b[38;5;28;01mdef\u001b[39;00m \u001b[38;5;21msubject1\u001b[39m(\u001b[38;5;28mself\u001b[39m ,subject):\n\u001b[0;32m     12\u001b[0m     \u001b[38;5;28mself\u001b[39m\u001b[38;5;241m.\u001b[39m__subject \u001b[38;5;241m=\u001b[39m subject\n\u001b[0;32m     14\u001b[0m \u001b[38;5;129m@subject\u001b[39m\u001b[38;5;241m.\u001b[39mgetter\n\u001b[0;32m     15\u001b[0m \u001b[38;5;28;01mdef\u001b[39;00m \u001b[38;5;21msubject1\u001b[39m(\u001b[38;5;28mself\u001b[39m):\n",
      "\u001b[1;31mAttributeError\u001b[0m: 'str' object has no attribute 'setter'"
     ]
    }
   ],
   "source": [
    "s2 = pooja(\"data analytics\")"
   ]
  },
  {
   "cell_type": "code",
   "execution_count": null,
   "id": "2b296c55",
   "metadata": {},
   "outputs": [],
   "source": []
  }
 ],
 "metadata": {
  "kernelspec": {
   "display_name": "Python 3 (ipykernel)",
   "language": "python",
   "name": "python3"
  },
  "language_info": {
   "codemirror_mode": {
    "name": "ipython",
    "version": 3
   },
   "file_extension": ".py",
   "mimetype": "text/x-python",
   "name": "python",
   "nbconvert_exporter": "python",
   "pygments_lexer": "ipython3",
   "version": "3.11.3"
  }
 },
 "nbformat": 4,
 "nbformat_minor": 5
}
