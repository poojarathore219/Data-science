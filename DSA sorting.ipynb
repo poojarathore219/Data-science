{
 "cells": [
  {
   "cell_type": "code",
   "execution_count": 1,
   "id": "ce657bac-9529-4457-9ff4-05b3d5e47a38",
   "metadata": {},
   "outputs": [],
   "source": [
    "## sort an array of 0's,1's,2's given array[] consisting 0,s ,1's, 2's  given an algoritham for sorting .\n",
    "##the alogo should  put all 0's first then 1's then 2's\n",
    "def sort(arr,left,right):\n",
    "    left=0\n",
    "    right=len(arr)-1\n",
    "    mid=0\n",
    "    while (mid<right):\n",
    "        if arr[mid]==0 :\n",
    "            arr[left],arr[mid]=arr[mid],arr[left]\n",
    "            mid=mid+1\n",
    "        elif arr[mid]==1:\n",
    "            mid=mid+1\n",
    "        else:\n",
    "            arr[mid],arr[right]=arr[right],arr[mid]\n",
    "            \n",
    "            \n",
    "            \n",
    "            \n",
    "arr=[0,1,1,0,1,2,1,2,0,0,0,1]                "
   ]
  },
  {
   "cell_type": "code",
   "execution_count": null,
   "id": "300dfdb7-6833-498c-8d73-62b51aeb131f",
   "metadata": {},
   "outputs": [],
   "source": [
    "sort(arr,0,12)\n",
    "print(arr)"
   ]
  },
  {
   "cell_type": "code",
   "execution_count": 2,
   "id": "47e9b5d0-ccaa-4f61-9537-74bcc4626166",
   "metadata": {},
   "outputs": [],
   "source": [
    "## Given n*n  matrix and in each row all 1's followed by 0's find the row with the maximum number of 0's\n",
    "def maximum0(arr):\n",
    "    n=len(arr)\n",
    "    max_count=0\n",
    "    count=0\n",
    "    max_count_row=0\n",
    "    for i in range(0,n):\n",
    "        for j in range(0,n):\n",
    "            if arr[i][j]==0:\n",
    "                count=count+1\n",
    "            if count>max_count:\n",
    "                max_count_row=i\n",
    "                max_count=count\n",
    "        i=i+1\n",
    "        print(\"rowno =\", max_count_row)\n",
    "        print(\"total0's =\",max_count)\n",
    "                \n",
    "                    \n",
    "                \n",
    "            \n",
    "arr=[[1,0,0],[1,1,0],[0,0,0]]"
   ]
  },
  {
   "cell_type": "code",
   "execution_count": 44,
   "id": "79081f83-abab-403e-8779-0ea82dbfa827",
   "metadata": {},
   "outputs": [
    {
     "name": "stdout",
     "output_type": "stream",
     "text": [
      "rowno = 0\n",
      "total0's = 2\n",
      "rowno = 1\n",
      "total0's = 3\n",
      "rowno = 2\n",
      "total0's = 6\n"
     ]
    }
   ],
   "source": [
    "maximum0(arr)"
   ]
  },
  {
   "cell_type": "code",
   "execution_count": 47,
   "id": "e7d13092-913d-4568-98f7-b7fd2b3952b9",
   "metadata": {},
   "outputs": [],
   "source": [
    "##\n",
    "def find3Numbers(A, arr_size, sum):\n",
    " \n",
    "    # Fix the first element as A[i]\n",
    "    for i in range( 0, arr_size-2):\n",
    " \n",
    "        # Fix the second element as A[j]\n",
    "        for j in range(i + 1, arr_size-1): \n",
    "             \n",
    "            # Now look for the third number\n",
    "            for k in range(j + 1, arr_size):\n",
    "                if A[i] + A[j] + A[k] == sum:\n",
    "                    print(\"Triplet is\", A[i],\n",
    "                          \", \", A[j], \", \", A[k])\n",
    "                    return True\n",
    "A=[2,3,4,9,7]    "
   ]
  },
  {
   "cell_type": "code",
   "execution_count": 49,
   "id": "48321d7f-da75-44ff-873f-b9b3805d1430",
   "metadata": {},
   "outputs": [
    {
     "name": "stdout",
     "output_type": "stream",
     "text": [
      "Triplet is 2 ,  3 ,  4\n"
     ]
    },
    {
     "data": {
      "text/plain": [
       "True"
      ]
     },
     "execution_count": 49,
     "metadata": {},
     "output_type": "execute_result"
    }
   ],
   "source": [
    "find3Numbers(A,5,9)"
   ]
  },
  {
   "cell_type": "code",
   "execution_count": 57,
   "id": "25417ae9-c85c-4357-a921-4a99aa8d8f25",
   "metadata": {},
   "outputs": [],
   "source": [
    "def find3number(arr,n,sum):\n",
    "    n=arr(len)\n",
    "    for i in range(0,arr(len)-2):\n",
    "        for j in range(i+1,arr(len)-1):\n",
    "            for k in range(j+1,n):\n",
    "                if arr[i]+arr[j]+arr[k]==sum:\n",
    "                    print(\"sum=\",arr[i],arr[j],arr[k])\n",
    "                    return True\n",
    "arr=[2,3,4,5,8]"
   ]
  },
  {
   "cell_type": "code",
   "execution_count": 58,
   "id": "244b8772-0e9a-4a75-bc9f-108b9fbf17eb",
   "metadata": {},
   "outputs": [
    {
     "ename": "TypeError",
     "evalue": "'list' object is not callable",
     "output_type": "error",
     "traceback": [
      "\u001b[0;31m---------------------------------------------------------------------------\u001b[0m",
      "\u001b[0;31mTypeError\u001b[0m                                 Traceback (most recent call last)",
      "Cell \u001b[0;32mIn[58], line 1\u001b[0m\n\u001b[0;32m----> 1\u001b[0m \u001b[43mfind3number\u001b[49m\u001b[43m(\u001b[49m\u001b[43marr\u001b[49m\u001b[43m,\u001b[49m\u001b[38;5;241;43m5\u001b[39;49m\u001b[43m,\u001b[49m\u001b[38;5;241;43m9\u001b[39;49m\u001b[43m)\u001b[49m\n",
      "Cell \u001b[0;32mIn[57], line 2\u001b[0m, in \u001b[0;36mfind3number\u001b[0;34m(arr, n, sum)\u001b[0m\n\u001b[1;32m      1\u001b[0m \u001b[38;5;28;01mdef\u001b[39;00m \u001b[38;5;21mfind3number\u001b[39m(arr,n,\u001b[38;5;28msum\u001b[39m):\n\u001b[0;32m----> 2\u001b[0m     n\u001b[38;5;241m=\u001b[39m\u001b[43marr\u001b[49m\u001b[43m(\u001b[49m\u001b[38;5;28;43mlen\u001b[39;49m\u001b[43m)\u001b[49m\n\u001b[1;32m      3\u001b[0m     \u001b[38;5;28;01mfor\u001b[39;00m i \u001b[38;5;129;01min\u001b[39;00m \u001b[38;5;28mrange\u001b[39m(\u001b[38;5;241m0\u001b[39m,arr(\u001b[38;5;28mlen\u001b[39m)\u001b[38;5;241m-\u001b[39m\u001b[38;5;241m2\u001b[39m):\n\u001b[1;32m      4\u001b[0m         \u001b[38;5;28;01mfor\u001b[39;00m j \u001b[38;5;129;01min\u001b[39;00m \u001b[38;5;28mrange\u001b[39m(i\u001b[38;5;241m+\u001b[39m\u001b[38;5;241m1\u001b[39m,arr(\u001b[38;5;28mlen\u001b[39m)\u001b[38;5;241m-\u001b[39m\u001b[38;5;241m1\u001b[39m):\n",
      "\u001b[0;31mTypeError\u001b[0m: 'list' object is not callable"
     ]
    }
   ],
   "source": [
    "find3number(arr,5,9)"
   ]
  },
  {
   "cell_type": "code",
   "execution_count": 64,
   "id": "83f823e8-75de-4416-8eb8-282ebb91c51b",
   "metadata": {},
   "outputs": [],
   "source": [
    "## Given an array of an element find three elements as....e's some is equal to the given number\n",
    "arr=[1,2,3,4,5,6,7]\n",
    "def find3no(arr,size,sum):\n",
    "    arr.sort()\n",
    "    for i in range(0,size-2):\n",
    "        n=size-1\n",
    "        z=i+1\n",
    "        while(z<n):\n",
    "            if arr[i]+arr[i+1]+arr[n]==sum:\n",
    "                print(\"sum ele is =\",arr[i],arr[z],arr[n])\n",
    "                return True\n",
    "            elif (arr[i]+arr[i+1]+arr[n])<sum:\n",
    "                z=z+1\n",
    "            else:\n",
    "                 n=n-1"
   ]
  },
  {
   "cell_type": "code",
   "execution_count": 65,
   "id": "55fa9116-2220-4e8b-a625-cd5d61747e80",
   "metadata": {},
   "outputs": [
    {
     "name": "stdout",
     "output_type": "stream",
     "text": [
      "sum ele is = 1 2 3\n"
     ]
    },
    {
     "data": {
      "text/plain": [
       "True"
      ]
     },
     "execution_count": 65,
     "metadata": {},
     "output_type": "execute_result"
    }
   ],
   "source": [
    "find3no(arr,7,6)"
   ]
  },
  {
   "cell_type": "code",
   "execution_count": null,
   "id": "07412d78-bfe2-484f-901d-650d1a2583ae",
   "metadata": {},
   "outputs": [],
   "source": []
  }
 ],
 "metadata": {
  "kernelspec": {
   "display_name": "Python 3 (ipykernel)",
   "language": "python",
   "name": "python3"
  },
  "language_info": {
   "codemirror_mode": {
    "name": "ipython",
    "version": 3
   },
   "file_extension": ".py",
   "mimetype": "text/x-python",
   "name": "python",
   "nbconvert_exporter": "python",
   "pygments_lexer": "ipython3",
   "version": "3.10.8"
  }
 },
 "nbformat": 4,
 "nbformat_minor": 5
}
