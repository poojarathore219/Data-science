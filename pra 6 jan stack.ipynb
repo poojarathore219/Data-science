{
 "cells": [
  {
   "cell_type": "code",
   "execution_count": 11,
   "id": "c01058e9",
   "metadata": {},
   "outputs": [],
   "source": [
    "class stack:\n",
    "    def __init__(self,capacity):\n",
    "        self.top = -1\n",
    "        self.arr =[None]*capacity\n",
    "        self.capacity=capacity\n",
    "        \n",
    "    def isEmpty(self):\n",
    "        return self.top==-1\n",
    "    \n",
    "    \n",
    "    def isfull(self):\n",
    "        return self.top==self.capacity-1\n",
    "    \n",
    "    \n",
    "    def puch(self,data):\n",
    "        # check if its full\n",
    "        if self.isfull():\n",
    "            print(\"stack overflow\")\n",
    "            return\n",
    "        self.top=self.top+1\n",
    "        self.arr[self.top]=data\n",
    "        \n",
    "    def pop(self):\n",
    "        #check if it empty\n",
    "        if self.isEmpty():\n",
    "            print(\"stack underflow\")\n",
    "            return\n",
    "        data=self.arr[self.top]\n",
    "        self.arr[self.top]=None\n",
    "        self.top=self.top-1\n",
    "        return data\n",
    "    \n",
    "    def traverse(self):\n",
    "        for i in range(self.top+1):\n",
    "            print(self.arr[i],end=\",\")\n",
    "           \n",
    "        \n",
    "        \n",
    "    def peek(self):\n",
    "        #check if it empty\n",
    "        if self.isEmpty():\n",
    "            print(\"stack underflow\")\n",
    "            return\n",
    "        data=self.arr[self.top]\n",
    "        return data # not decrementing the top value\n",
    "    \n",
    "    "
   ]
  },
  {
   "cell_type": "code",
   "execution_count": 12,
   "id": "1e0fd1df",
   "metadata": {},
   "outputs": [],
   "source": [
    "stack=stack(5)"
   ]
  },
  {
   "cell_type": "code",
   "execution_count": 13,
   "id": "8bb1d5d5",
   "metadata": {},
   "outputs": [
    {
     "name": "stdout",
     "output_type": "stream",
     "text": [
      "True\n"
     ]
    }
   ],
   "source": [
    "print(stack.isEmpty())"
   ]
  },
  {
   "cell_type": "code",
   "execution_count": 14,
   "id": "6fa70c34",
   "metadata": {},
   "outputs": [],
   "source": [
    "stack.puch(3)"
   ]
  },
  {
   "cell_type": "code",
   "execution_count": 15,
   "id": "90989684",
   "metadata": {},
   "outputs": [],
   "source": [
    "stack.puch(5)\n",
    "stack.puch(8)\n",
    "stack.puch(9)"
   ]
  },
  {
   "cell_type": "code",
   "execution_count": 16,
   "id": "25cb4eeb",
   "metadata": {},
   "outputs": [
    {
     "name": "stdout",
     "output_type": "stream",
     "text": [
      "3,5,8,9,"
     ]
    }
   ],
   "source": [
    "stack.traverse()"
   ]
  },
  {
   "cell_type": "code",
   "execution_count": 17,
   "id": "9bea4a98",
   "metadata": {},
   "outputs": [
    {
     "name": "stdout",
     "output_type": "stream",
     "text": [
      "False\n"
     ]
    }
   ],
   "source": [
    "print(stack.isEmpty())"
   ]
  },
  {
   "cell_type": "code",
   "execution_count": 18,
   "id": "f9fb9866",
   "metadata": {},
   "outputs": [
    {
     "name": "stdout",
     "output_type": "stream",
     "text": [
      "9\n"
     ]
    }
   ],
   "source": [
    "print(stack.pop())"
   ]
  },
  {
   "cell_type": "code",
   "execution_count": 20,
   "id": "ad416f56",
   "metadata": {},
   "outputs": [
    {
     "name": "stdout",
     "output_type": "stream",
     "text": [
      "3,5,8,"
     ]
    }
   ],
   "source": [
    "stack.traverse()"
   ]
  },
  {
   "cell_type": "code",
   "execution_count": 37,
   "id": "d6189b1a",
   "metadata": {},
   "outputs": [],
   "source": [
    "##stack with linked list\n",
    "\n",
    "\n",
    "class Node:\n",
    "    \n",
    "    def __init__(self,data,next=None):\n",
    "        self.data=data \n",
    "        self.next=next\n",
    "        \n",
    "    def setData(self,data):\n",
    "        self.data=data\n",
    "        \n",
    "    def getData(self):\n",
    "        return self.data\n",
    "    \n",
    "    \n",
    "    def setNext(self):\n",
    "        self.next=next\n",
    "        \n",
    "        \n",
    "    def getNext(self):\n",
    "        return self.next\n",
    "    \n",
    "    "
   ]
  },
  {
   "cell_type": "code",
   "execution_count": 47,
   "id": "cd5664d9",
   "metadata": {},
   "outputs": [],
   "source": [
    "class stackll:\n",
    "    def __init(self):\n",
    "        self.head =None\n",
    "        \n",
    "        \n",
    "    def isEmpty(self):\n",
    "        return self.head==None\n",
    "    \n",
    "    \n",
    "    \n",
    "    def push(self,data):\n",
    "        node=Node(data)\n",
    "        node.setNext(self.head)   \n",
    "        self.head=node\n",
    "        \n",
    "        \n",
    "    def pop(self):\n",
    "        if(self.isEmpty()):\n",
    "            print(\"stack overflow\")\n",
    "            return\n",
    "        data = self.head.getData()\n",
    "        self.head=self.head.getNext()\n",
    "        return data\n",
    "    \n",
    "    \n",
    "    \n",
    "    def peek(self):\n",
    "        if(self.isEmpty()):\n",
    "            print(\"stack underflow\")\n",
    "            return\n",
    "        \n",
    "        data=self.head.getData()\n",
    "        self.head =self.head.getNext()\n",
    "        return data\n",
    "    \n",
    "    \n",
    "    def size(self):\n",
    "        size=0\n",
    "        temp=head\n",
    "        while(temp):\n",
    "            size=size+1\n",
    "            temp=temp.getNext()\n",
    "            return size\n",
    "        \n",
    "        \n",
    "    def traverse(self):\n",
    "        temp=self.head\n",
    "        while(temp):\n",
    "            print(temp.getData(),end=\" ,\")\n",
    "            temp=temp.getNext()\n",
    "        "
   ]
  },
  {
   "cell_type": "code",
   "execution_count": 48,
   "id": "8e97f470",
   "metadata": {},
   "outputs": [
    {
     "ename": "AttributeError",
     "evalue": "'stackll' object has no attribute 'head'",
     "output_type": "error",
     "traceback": [
      "\u001b[1;31m---------------------------------------------------------------------------\u001b[0m",
      "\u001b[1;31mAttributeError\u001b[0m                            Traceback (most recent call last)",
      "Cell \u001b[1;32mIn[48], line 4\u001b[0m\n\u001b[0;32m      1\u001b[0m stack\u001b[38;5;241m=\u001b[39mstackll()\n\u001b[1;32m----> 4\u001b[0m stack\u001b[38;5;241m.\u001b[39mpush(\u001b[38;5;241m7\u001b[39m)\n\u001b[0;32m      5\u001b[0m stack\u001b[38;5;241m.\u001b[39mpush(\u001b[38;5;241m9\u001b[39m)\n\u001b[0;32m      6\u001b[0m stack\u001b[38;5;241m.\u001b[39mpush(\u001b[38;5;241m6\u001b[39m)\n",
      "Cell \u001b[1;32mIn[47], line 13\u001b[0m, in \u001b[0;36mstackll.push\u001b[1;34m(self, data)\u001b[0m\n\u001b[0;32m     11\u001b[0m \u001b[38;5;28;01mdef\u001b[39;00m \u001b[38;5;21mpush\u001b[39m(\u001b[38;5;28mself\u001b[39m,data):\n\u001b[0;32m     12\u001b[0m     node\u001b[38;5;241m=\u001b[39mNode(data)\n\u001b[1;32m---> 13\u001b[0m     node\u001b[38;5;241m.\u001b[39msetNext(\u001b[38;5;28mself\u001b[39m\u001b[38;5;241m.\u001b[39mhead)   \n\u001b[0;32m     14\u001b[0m     \u001b[38;5;28mself\u001b[39m\u001b[38;5;241m.\u001b[39mhead\u001b[38;5;241m=\u001b[39mnode\n",
      "\u001b[1;31mAttributeError\u001b[0m: 'stackll' object has no attribute 'head'"
     ]
    }
   ],
   "source": [
    "stack=stackll()\n",
    "\n",
    "\n",
    "stack.push(7)\n",
    "stack.push(9)\n",
    "stack.push(6)\n",
    "stack.push(3)"
   ]
  },
  {
   "cell_type": "code",
   "execution_count": null,
   "id": "b2731050",
   "metadata": {},
   "outputs": [],
   "source": []
  },
  {
   "cell_type": "code",
   "execution_count": null,
   "id": "118314e9",
   "metadata": {},
   "outputs": [],
   "source": []
  }
 ],
 "metadata": {
  "kernelspec": {
   "display_name": "Python 3 (ipykernel)",
   "language": "python",
   "name": "python3"
  },
  "language_info": {
   "codemirror_mode": {
    "name": "ipython",
    "version": 3
   },
   "file_extension": ".py",
   "mimetype": "text/x-python",
   "name": "python",
   "nbconvert_exporter": "python",
   "pygments_lexer": "ipython3",
   "version": "3.11.4"
  }
 },
 "nbformat": 4,
 "nbformat_minor": 5
}
