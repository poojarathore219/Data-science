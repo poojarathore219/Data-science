{
 "cells": [
  {
   "cell_type": "code",
   "execution_count": null,
   "id": "f0fc13d3",
   "metadata": {},
   "outputs": [],
   "source": [
    "## Queue implimentation with linked list\n",
    "\n",
    "class Queue:\n",
    "    def __init__(self):\n",
    "        self.head = None\n",
    "        self.tail =None\n",
    "        self.size =0\n",
    "        \n",
    "        \n",
    "    def  isEmpty(self):\n",
    "        return self.head ==None\n",
    "    \n",
    "    \n",
    "    def enQueue(self,data):\n",
    "        node= Node(data)\n",
    "        \n",
    "        \n",
    "        if self.isEmpty():\n",
    "            self.head = node\n",
    "            self.tail = node\n",
    "        else:\n",
    "            self.tail.setNext(node)\n",
    "            self.tail=self.tailgetNext()\n",
    "            self.size +=1\n",
    "            \n",
    "    def  deQueue(self):\n",
    "        if isEmpty():\n",
    "            print(\"Queue underflow\")\n",
    "            return\n",
    "        data = self.head.getData()\n",
    "\n",
    "        \n",
    "        \n",
    "        # chech if its a only element\n",
    "        \n",
    "        if(self.head == self.tail):\n",
    "            self.head =  None\n",
    "            self.tail =None\n",
    "            \n",
    "        else:\n",
    "            self.head =self.head.getNext()\n",
    "            self.size-=1\n",
    "            return data\n",
    "        \n",
    "        def travers(self):\n",
    "            temp =self.head\n",
    "            while(temp):\n",
    "                print(temp.getData(),end=\" ->\")\n",
    "                temp =temp.getNext()\n",
    "                print()\n",
    "            "
   ]
  }
 ],
 "metadata": {
  "kernelspec": {
   "display_name": "Python 3 (ipykernel)",
   "language": "python",
   "name": "python3"
  },
  "language_info": {
   "codemirror_mode": {
    "name": "ipython",
    "version": 3
   },
   "file_extension": ".py",
   "mimetype": "text/x-python",
   "name": "python",
   "nbconvert_exporter": "python",
   "pygments_lexer": "ipython3",
   "version": "3.11.4"
  }
 },
 "nbformat": 4,
 "nbformat_minor": 5
}
