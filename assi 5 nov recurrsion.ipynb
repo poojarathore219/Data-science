{
 "cells": [
  {
   "cell_type": "code",
   "execution_count": 3,
   "id": "520adfbb-49a3-4fdc-bb3d-52c43987cb6d",
   "metadata": {},
   "outputs": [],
   "source": [
    "## Print the maximum volume of the array\n",
    "arr=[13,1,-3,22,15]\n",
    "n=6\n",
    "def largest(arr,n):\n",
    "    max=arr[0]\n",
    "    for i in range(1,n):\n",
    "        if arr[i]>max:\n",
    "            max=arr[i]\n",
    "            return max"
   ]
  },
  {
   "cell_type": "code",
   "execution_count": 4,
   "id": "6329dbf8-7d1a-474d-a0a2-349a4af014fa",
   "metadata": {},
   "outputs": [
    {
     "data": {
      "text/plain": [
       "22"
      ]
     },
     "execution_count": 4,
     "metadata": {},
     "output_type": "execute_result"
    }
   ],
   "source": [
    "largest(arr,n)"
   ]
  },
  {
   "cell_type": "code",
   "execution_count": 5,
   "id": "2f461158-2b6c-4bca-9fcc-aee6955d0ef0",
   "metadata": {},
   "outputs": [],
   "source": [
    "arr=[13,1,-3,22,15]\n",
    "def largest(arr):\n",
    "    max=arr[0]\n",
    "    for i in range(1,n):\n",
    "        if arr[i]>max:\n",
    "            max=arr[i]\n",
    "            return max"
   ]
  },
  {
   "cell_type": "code",
   "execution_count": 6,
   "id": "c5b452a4-9e56-4eb0-ba15-d40562b6f7fc",
   "metadata": {},
   "outputs": [
    {
     "data": {
      "text/plain": [
       "22"
      ]
     },
     "execution_count": 6,
     "metadata": {},
     "output_type": "execute_result"
    }
   ],
   "source": [
    "largest(arr)"
   ]
  },
  {
   "cell_type": "code",
   "execution_count": 22,
   "id": "eea29c31-2350-4b88-b2f4-61beb392c790",
   "metadata": {},
   "outputs": [],
   "source": [
    "## Find the sum of the values of the array\n",
    "arr=[92,23,15,10]\n",
    "def sum(arr):\n",
    "    if len(arr)==1:\n",
    "        \n",
    "        return arr[0]\n",
    "    else:\n",
    "        return arr[0]+sum(arr[1:])\n",
    "    \n",
    "n=len(arr)"
   ]
  },
  {
   "cell_type": "code",
   "execution_count": 23,
   "id": "a109f8da-c6fe-4da6-a931-bcc142c9840a",
   "metadata": {},
   "outputs": [
    {
     "data": {
      "text/plain": [
       "140"
      ]
     },
     "execution_count": 23,
     "metadata": {},
     "output_type": "execute_result"
    }
   ],
   "source": [
    "sum(arr)"
   ]
  },
  {
   "cell_type": "code",
   "execution_count": 24,
   "id": "8b800452-0ccc-4baf-a6df-48b9f5886fc9",
   "metadata": {},
   "outputs": [],
   "source": [
    "##check no is armstrong or not\n",
    "def count_digit(n):\n",
    "    if n==0:\n",
    "        return 0\n",
    "    else:\n",
    "        return 1+count_digit(n//10)"
   ]
  },
  {
   "cell_type": "code",
   "execution_count": 25,
   "id": "35916b20-40c9-4c49-a741-9c67b5a979ef",
   "metadata": {},
   "outputs": [
    {
     "data": {
      "text/plain": [
       "4"
      ]
     },
     "execution_count": 25,
     "metadata": {},
     "output_type": "execute_result"
    }
   ],
   "source": [
    "count_digit(1234)"
   ]
  },
  {
   "cell_type": "code",
   "execution_count": 42,
   "id": "e77ad5b4-cd3c-4aad-a59b-ceac769a3c1e",
   "metadata": {},
   "outputs": [],
   "source": [
    "def count_digit(n):\n",
    "    if n==0:\n",
    "        return 0\n",
    "    else:\n",
    "        return 1+count_digit(n//10)\n",
    "\n",
    "\n",
    "def armstrong(n count_dogit):\n",
    "    if n==0:\n",
    "        return n\n",
    "    else:\n",
    "        return pow((n%10),count_digit)+armstrong(n//10)\n",
    "    \n",
    "    "
   ]
  },
  {
   "cell_type": "code",
   "execution_count": 43,
   "id": "c97124fd-521f-4b1c-ace2-ba0b9ad7246b",
   "metadata": {},
   "outputs": [
    {
     "ename": "TypeError",
     "evalue": "'int' object is not callable",
     "output_type": "error",
     "traceback": [
      "\u001b[0;31m---------------------------------------------------------------------------\u001b[0m",
      "\u001b[0;31mTypeError\u001b[0m                                 Traceback (most recent call last)",
      "Cell \u001b[0;32mIn[43], line 1\u001b[0m\n\u001b[0;32m----> 1\u001b[0m count_digit\u001b[38;5;241m=\u001b[39m\u001b[43mcount_digit\u001b[49m\u001b[43m(\u001b[49m\u001b[43mn\u001b[49m\u001b[43m)\u001b[49m\n",
      "\u001b[0;31mTypeError\u001b[0m: 'int' object is not callable"
     ]
    }
   ],
   "source": [
    "count_digit=count_digit(n)"
   ]
  },
  {
   "cell_type": "code",
   "execution_count": 44,
   "id": "b4547b0b-9926-48cf-ac94-b3a10a711500",
   "metadata": {},
   "outputs": [
    {
     "ename": "TypeError",
     "evalue": "object of type 'int' has no len()",
     "output_type": "error",
     "traceback": [
      "\u001b[0;31m---------------------------------------------------------------------------\u001b[0m",
      "\u001b[0;31mTypeError\u001b[0m                                 Traceback (most recent call last)",
      "Cell \u001b[0;32mIn[44], line 1\u001b[0m\n\u001b[0;32m----> 1\u001b[0m \u001b[43marmstrong\u001b[49m\u001b[43m(\u001b[49m\u001b[38;5;241;43m1234\u001b[39;49m\u001b[43m)\u001b[49m\n",
      "Cell \u001b[0;32mIn[42], line 5\u001b[0m, in \u001b[0;36marmstrong\u001b[0;34m(n)\u001b[0m\n\u001b[1;32m      3\u001b[0m     \u001b[38;5;28;01mreturn\u001b[39;00m n\n\u001b[1;32m      4\u001b[0m \u001b[38;5;28;01melse\u001b[39;00m:\n\u001b[0;32m----> 5\u001b[0m     \u001b[38;5;28;01mreturn\u001b[39;00m \u001b[38;5;28mpow\u001b[39m((n\u001b[38;5;241m%\u001b[39m\u001b[38;5;241m10\u001b[39m),\u001b[38;5;28;43mlen\u001b[39;49m\u001b[43m(\u001b[49m\u001b[43mn\u001b[49m\u001b[43m)\u001b[49m)\u001b[38;5;241m+\u001b[39marmstrong(n\u001b[38;5;241m/\u001b[39m\u001b[38;5;241m/\u001b[39m\u001b[38;5;241m10\u001b[39m)\n",
      "\u001b[0;31mTypeError\u001b[0m: object of type 'int' has no len()"
     ]
    }
   ],
   "source": [
    "armstrong(1234)"
   ]
  },
  {
   "cell_type": "code",
   "execution_count": null,
   "id": "9d2eacac-e16d-4955-a712-9f5661b94382",
   "metadata": {},
   "outputs": [],
   "source": []
  }
 ],
 "metadata": {
  "kernelspec": {
   "display_name": "Python 3 (ipykernel)",
   "language": "python",
   "name": "python3"
  },
  "language_info": {
   "codemirror_mode": {
    "name": "ipython",
    "version": 3
   },
   "file_extension": ".py",
   "mimetype": "text/x-python",
   "name": "python",
   "nbconvert_exporter": "python",
   "pygments_lexer": "ipython3",
   "version": "3.10.8"
  }
 },
 "nbformat": 4,
 "nbformat_minor": 5
}
