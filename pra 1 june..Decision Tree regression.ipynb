{
 "cells": [
  {
   "cell_type": "code",
   "execution_count": 1,
   "id": "5646833d",
   "metadata": {},
   "outputs": [],
   "source": [
    "import pandas as pd\n",
    "import numpy as np\n",
    "import seaborn as sns\n",
    "import matplotlib.pyplot as plt\n",
    "\n",
    "\n",
    "import warnings\n",
    "warnings.filterwarnings('ignore')"
   ]
  },
  {
   "cell_type": "code",
   "execution_count": 2,
   "id": "001dabfe",
   "metadata": {},
   "outputs": [],
   "source": [
    "from sklearn.datasets import fetch_california_housing"
   ]
  },
  {
   "cell_type": "code",
   "execution_count": 3,
   "id": "8c3493ac",
   "metadata": {},
   "outputs": [],
   "source": [
    "data=fetch_california_housing()"
   ]
  },
  {
   "cell_type": "code",
   "execution_count": 4,
   "id": "ac0d55a3",
   "metadata": {},
   "outputs": [],
   "source": [
    "df=pd.DataFrame(data.data,columns=data.feature_names)"
   ]
  },
  {
   "cell_type": "code",
   "execution_count": 5,
   "id": "f1edbd74",
   "metadata": {},
   "outputs": [],
   "source": [
    "df['price']=data.target"
   ]
  },
  {
   "cell_type": "code",
   "execution_count": 6,
   "id": "496eff44",
   "metadata": {},
   "outputs": [
    {
     "data": {
      "text/html": [
       "<div>\n",
       "<style scoped>\n",
       "    .dataframe tbody tr th:only-of-type {\n",
       "        vertical-align: middle;\n",
       "    }\n",
       "\n",
       "    .dataframe tbody tr th {\n",
       "        vertical-align: top;\n",
       "    }\n",
       "\n",
       "    .dataframe thead th {\n",
       "        text-align: right;\n",
       "    }\n",
       "</style>\n",
       "<table border=\"1\" class=\"dataframe\">\n",
       "  <thead>\n",
       "    <tr style=\"text-align: right;\">\n",
       "      <th></th>\n",
       "      <th>MedInc</th>\n",
       "      <th>HouseAge</th>\n",
       "      <th>AveRooms</th>\n",
       "      <th>AveBedrms</th>\n",
       "      <th>Population</th>\n",
       "      <th>AveOccup</th>\n",
       "      <th>Latitude</th>\n",
       "      <th>Longitude</th>\n",
       "      <th>price</th>\n",
       "    </tr>\n",
       "  </thead>\n",
       "  <tbody>\n",
       "    <tr>\n",
       "      <th>0</th>\n",
       "      <td>8.3252</td>\n",
       "      <td>41.0</td>\n",
       "      <td>6.984127</td>\n",
       "      <td>1.023810</td>\n",
       "      <td>322.0</td>\n",
       "      <td>2.555556</td>\n",
       "      <td>37.88</td>\n",
       "      <td>-122.23</td>\n",
       "      <td>4.526</td>\n",
       "    </tr>\n",
       "    <tr>\n",
       "      <th>1</th>\n",
       "      <td>8.3014</td>\n",
       "      <td>21.0</td>\n",
       "      <td>6.238137</td>\n",
       "      <td>0.971880</td>\n",
       "      <td>2401.0</td>\n",
       "      <td>2.109842</td>\n",
       "      <td>37.86</td>\n",
       "      <td>-122.22</td>\n",
       "      <td>3.585</td>\n",
       "    </tr>\n",
       "    <tr>\n",
       "      <th>2</th>\n",
       "      <td>7.2574</td>\n",
       "      <td>52.0</td>\n",
       "      <td>8.288136</td>\n",
       "      <td>1.073446</td>\n",
       "      <td>496.0</td>\n",
       "      <td>2.802260</td>\n",
       "      <td>37.85</td>\n",
       "      <td>-122.24</td>\n",
       "      <td>3.521</td>\n",
       "    </tr>\n",
       "    <tr>\n",
       "      <th>3</th>\n",
       "      <td>5.6431</td>\n",
       "      <td>52.0</td>\n",
       "      <td>5.817352</td>\n",
       "      <td>1.073059</td>\n",
       "      <td>558.0</td>\n",
       "      <td>2.547945</td>\n",
       "      <td>37.85</td>\n",
       "      <td>-122.25</td>\n",
       "      <td>3.413</td>\n",
       "    </tr>\n",
       "    <tr>\n",
       "      <th>4</th>\n",
       "      <td>3.8462</td>\n",
       "      <td>52.0</td>\n",
       "      <td>6.281853</td>\n",
       "      <td>1.081081</td>\n",
       "      <td>565.0</td>\n",
       "      <td>2.181467</td>\n",
       "      <td>37.85</td>\n",
       "      <td>-122.25</td>\n",
       "      <td>3.422</td>\n",
       "    </tr>\n",
       "    <tr>\n",
       "      <th>...</th>\n",
       "      <td>...</td>\n",
       "      <td>...</td>\n",
       "      <td>...</td>\n",
       "      <td>...</td>\n",
       "      <td>...</td>\n",
       "      <td>...</td>\n",
       "      <td>...</td>\n",
       "      <td>...</td>\n",
       "      <td>...</td>\n",
       "    </tr>\n",
       "    <tr>\n",
       "      <th>20635</th>\n",
       "      <td>1.5603</td>\n",
       "      <td>25.0</td>\n",
       "      <td>5.045455</td>\n",
       "      <td>1.133333</td>\n",
       "      <td>845.0</td>\n",
       "      <td>2.560606</td>\n",
       "      <td>39.48</td>\n",
       "      <td>-121.09</td>\n",
       "      <td>0.781</td>\n",
       "    </tr>\n",
       "    <tr>\n",
       "      <th>20636</th>\n",
       "      <td>2.5568</td>\n",
       "      <td>18.0</td>\n",
       "      <td>6.114035</td>\n",
       "      <td>1.315789</td>\n",
       "      <td>356.0</td>\n",
       "      <td>3.122807</td>\n",
       "      <td>39.49</td>\n",
       "      <td>-121.21</td>\n",
       "      <td>0.771</td>\n",
       "    </tr>\n",
       "    <tr>\n",
       "      <th>20637</th>\n",
       "      <td>1.7000</td>\n",
       "      <td>17.0</td>\n",
       "      <td>5.205543</td>\n",
       "      <td>1.120092</td>\n",
       "      <td>1007.0</td>\n",
       "      <td>2.325635</td>\n",
       "      <td>39.43</td>\n",
       "      <td>-121.22</td>\n",
       "      <td>0.923</td>\n",
       "    </tr>\n",
       "    <tr>\n",
       "      <th>20638</th>\n",
       "      <td>1.8672</td>\n",
       "      <td>18.0</td>\n",
       "      <td>5.329513</td>\n",
       "      <td>1.171920</td>\n",
       "      <td>741.0</td>\n",
       "      <td>2.123209</td>\n",
       "      <td>39.43</td>\n",
       "      <td>-121.32</td>\n",
       "      <td>0.847</td>\n",
       "    </tr>\n",
       "    <tr>\n",
       "      <th>20639</th>\n",
       "      <td>2.3886</td>\n",
       "      <td>16.0</td>\n",
       "      <td>5.254717</td>\n",
       "      <td>1.162264</td>\n",
       "      <td>1387.0</td>\n",
       "      <td>2.616981</td>\n",
       "      <td>39.37</td>\n",
       "      <td>-121.24</td>\n",
       "      <td>0.894</td>\n",
       "    </tr>\n",
       "  </tbody>\n",
       "</table>\n",
       "<p>20640 rows × 9 columns</p>\n",
       "</div>"
      ],
      "text/plain": [
       "       MedInc  HouseAge  AveRooms  AveBedrms  Population  AveOccup  Latitude  \\\n",
       "0      8.3252      41.0  6.984127   1.023810       322.0  2.555556     37.88   \n",
       "1      8.3014      21.0  6.238137   0.971880      2401.0  2.109842     37.86   \n",
       "2      7.2574      52.0  8.288136   1.073446       496.0  2.802260     37.85   \n",
       "3      5.6431      52.0  5.817352   1.073059       558.0  2.547945     37.85   \n",
       "4      3.8462      52.0  6.281853   1.081081       565.0  2.181467     37.85   \n",
       "...       ...       ...       ...        ...         ...       ...       ...   \n",
       "20635  1.5603      25.0  5.045455   1.133333       845.0  2.560606     39.48   \n",
       "20636  2.5568      18.0  6.114035   1.315789       356.0  3.122807     39.49   \n",
       "20637  1.7000      17.0  5.205543   1.120092      1007.0  2.325635     39.43   \n",
       "20638  1.8672      18.0  5.329513   1.171920       741.0  2.123209     39.43   \n",
       "20639  2.3886      16.0  5.254717   1.162264      1387.0  2.616981     39.37   \n",
       "\n",
       "       Longitude  price  \n",
       "0        -122.23  4.526  \n",
       "1        -122.22  3.585  \n",
       "2        -122.24  3.521  \n",
       "3        -122.25  3.413  \n",
       "4        -122.25  3.422  \n",
       "...          ...    ...  \n",
       "20635    -121.09  0.781  \n",
       "20636    -121.21  0.771  \n",
       "20637    -121.22  0.923  \n",
       "20638    -121.32  0.847  \n",
       "20639    -121.24  0.894  \n",
       "\n",
       "[20640 rows x 9 columns]"
      ]
     },
     "execution_count": 6,
     "metadata": {},
     "output_type": "execute_result"
    }
   ],
   "source": [
    "df"
   ]
  },
  {
   "cell_type": "code",
   "execution_count": 7,
   "id": "4c4a2acb",
   "metadata": {},
   "outputs": [],
   "source": [
    "df=df.sample(frac=0.20)"
   ]
  },
  {
   "cell_type": "code",
   "execution_count": 8,
   "id": "28abfa9b",
   "metadata": {},
   "outputs": [],
   "source": [
    "x=df.iloc[:,:-1]\n",
    "y=df.iloc[:,-1]"
   ]
  },
  {
   "cell_type": "code",
   "execution_count": 9,
   "id": "6ad62ba0",
   "metadata": {},
   "outputs": [
    {
     "data": {
      "text/html": [
       "<div>\n",
       "<style scoped>\n",
       "    .dataframe tbody tr th:only-of-type {\n",
       "        vertical-align: middle;\n",
       "    }\n",
       "\n",
       "    .dataframe tbody tr th {\n",
       "        vertical-align: top;\n",
       "    }\n",
       "\n",
       "    .dataframe thead th {\n",
       "        text-align: right;\n",
       "    }\n",
       "</style>\n",
       "<table border=\"1\" class=\"dataframe\">\n",
       "  <thead>\n",
       "    <tr style=\"text-align: right;\">\n",
       "      <th></th>\n",
       "      <th>MedInc</th>\n",
       "      <th>HouseAge</th>\n",
       "      <th>AveRooms</th>\n",
       "      <th>AveBedrms</th>\n",
       "      <th>Population</th>\n",
       "      <th>AveOccup</th>\n",
       "      <th>Latitude</th>\n",
       "      <th>Longitude</th>\n",
       "    </tr>\n",
       "  </thead>\n",
       "  <tbody>\n",
       "    <tr>\n",
       "      <th>9131</th>\n",
       "      <td>5.0830</td>\n",
       "      <td>4.0</td>\n",
       "      <td>6.968607</td>\n",
       "      <td>1.115762</td>\n",
       "      <td>5391.0</td>\n",
       "      <td>3.525834</td>\n",
       "      <td>34.57</td>\n",
       "      <td>-118.02</td>\n",
       "    </tr>\n",
       "    <tr>\n",
       "      <th>11423</th>\n",
       "      <td>5.3737</td>\n",
       "      <td>26.0</td>\n",
       "      <td>6.211679</td>\n",
       "      <td>0.985401</td>\n",
       "      <td>1337.0</td>\n",
       "      <td>3.253041</td>\n",
       "      <td>33.71</td>\n",
       "      <td>-117.97</td>\n",
       "    </tr>\n",
       "    <tr>\n",
       "      <th>9336</th>\n",
       "      <td>5.0766</td>\n",
       "      <td>40.0</td>\n",
       "      <td>5.600000</td>\n",
       "      <td>1.098039</td>\n",
       "      <td>708.0</td>\n",
       "      <td>2.776471</td>\n",
       "      <td>38.01</td>\n",
       "      <td>-122.65</td>\n",
       "    </tr>\n",
       "    <tr>\n",
       "      <th>7377</th>\n",
       "      <td>2.1429</td>\n",
       "      <td>38.0</td>\n",
       "      <td>3.740406</td>\n",
       "      <td>1.054176</td>\n",
       "      <td>2033.0</td>\n",
       "      <td>4.589165</td>\n",
       "      <td>33.97</td>\n",
       "      <td>-118.24</td>\n",
       "    </tr>\n",
       "    <tr>\n",
       "      <th>2771</th>\n",
       "      <td>1.7857</td>\n",
       "      <td>19.0</td>\n",
       "      <td>7.806452</td>\n",
       "      <td>1.600000</td>\n",
       "      <td>329.0</td>\n",
       "      <td>2.122581</td>\n",
       "      <td>33.34</td>\n",
       "      <td>-115.90</td>\n",
       "    </tr>\n",
       "    <tr>\n",
       "      <th>...</th>\n",
       "      <td>...</td>\n",
       "      <td>...</td>\n",
       "      <td>...</td>\n",
       "      <td>...</td>\n",
       "      <td>...</td>\n",
       "      <td>...</td>\n",
       "      <td>...</td>\n",
       "      <td>...</td>\n",
       "    </tr>\n",
       "    <tr>\n",
       "      <th>9164</th>\n",
       "      <td>5.2887</td>\n",
       "      <td>25.0</td>\n",
       "      <td>6.344488</td>\n",
       "      <td>1.031496</td>\n",
       "      <td>1763.0</td>\n",
       "      <td>3.470472</td>\n",
       "      <td>34.42</td>\n",
       "      <td>-118.47</td>\n",
       "    </tr>\n",
       "    <tr>\n",
       "      <th>1322</th>\n",
       "      <td>2.7083</td>\n",
       "      <td>52.0</td>\n",
       "      <td>4.756303</td>\n",
       "      <td>0.922269</td>\n",
       "      <td>1403.0</td>\n",
       "      <td>2.947479</td>\n",
       "      <td>38.02</td>\n",
       "      <td>-121.87</td>\n",
       "    </tr>\n",
       "    <tr>\n",
       "      <th>13841</th>\n",
       "      <td>2.6125</td>\n",
       "      <td>26.0</td>\n",
       "      <td>5.213152</td>\n",
       "      <td>1.124717</td>\n",
       "      <td>1259.0</td>\n",
       "      <td>2.854875</td>\n",
       "      <td>34.53</td>\n",
       "      <td>-117.31</td>\n",
       "    </tr>\n",
       "    <tr>\n",
       "      <th>1108</th>\n",
       "      <td>2.3507</td>\n",
       "      <td>12.0</td>\n",
       "      <td>5.531073</td>\n",
       "      <td>1.042373</td>\n",
       "      <td>875.0</td>\n",
       "      <td>2.471751</td>\n",
       "      <td>39.82</td>\n",
       "      <td>-121.59</td>\n",
       "    </tr>\n",
       "    <tr>\n",
       "      <th>18294</th>\n",
       "      <td>7.6229</td>\n",
       "      <td>35.0</td>\n",
       "      <td>7.225146</td>\n",
       "      <td>1.020468</td>\n",
       "      <td>881.0</td>\n",
       "      <td>2.576023</td>\n",
       "      <td>37.39</td>\n",
       "      <td>-122.10</td>\n",
       "    </tr>\n",
       "  </tbody>\n",
       "</table>\n",
       "<p>4128 rows × 8 columns</p>\n",
       "</div>"
      ],
      "text/plain": [
       "       MedInc  HouseAge  AveRooms  AveBedrms  Population  AveOccup  Latitude  \\\n",
       "9131   5.0830       4.0  6.968607   1.115762      5391.0  3.525834     34.57   \n",
       "11423  5.3737      26.0  6.211679   0.985401      1337.0  3.253041     33.71   \n",
       "9336   5.0766      40.0  5.600000   1.098039       708.0  2.776471     38.01   \n",
       "7377   2.1429      38.0  3.740406   1.054176      2033.0  4.589165     33.97   \n",
       "2771   1.7857      19.0  7.806452   1.600000       329.0  2.122581     33.34   \n",
       "...       ...       ...       ...        ...         ...       ...       ...   \n",
       "9164   5.2887      25.0  6.344488   1.031496      1763.0  3.470472     34.42   \n",
       "1322   2.7083      52.0  4.756303   0.922269      1403.0  2.947479     38.02   \n",
       "13841  2.6125      26.0  5.213152   1.124717      1259.0  2.854875     34.53   \n",
       "1108   2.3507      12.0  5.531073   1.042373       875.0  2.471751     39.82   \n",
       "18294  7.6229      35.0  7.225146   1.020468       881.0  2.576023     37.39   \n",
       "\n",
       "       Longitude  \n",
       "9131     -118.02  \n",
       "11423    -117.97  \n",
       "9336     -122.65  \n",
       "7377     -118.24  \n",
       "2771     -115.90  \n",
       "...          ...  \n",
       "9164     -118.47  \n",
       "1322     -121.87  \n",
       "13841    -117.31  \n",
       "1108     -121.59  \n",
       "18294    -122.10  \n",
       "\n",
       "[4128 rows x 8 columns]"
      ]
     },
     "execution_count": 9,
     "metadata": {},
     "output_type": "execute_result"
    }
   ],
   "source": [
    "x"
   ]
  },
  {
   "cell_type": "code",
   "execution_count": 10,
   "id": "79806003",
   "metadata": {},
   "outputs": [
    {
     "data": {
      "text/plain": [
       "9131     1.51300\n",
       "11423    2.52900\n",
       "9336     3.05400\n",
       "7377     1.18500\n",
       "2771     0.62800\n",
       "          ...   \n",
       "9164     1.83000\n",
       "1322     0.99400\n",
       "13841    0.79900\n",
       "1108     0.97600\n",
       "18294    5.00001\n",
       "Name: price, Length: 4128, dtype: float64"
      ]
     },
     "execution_count": 10,
     "metadata": {},
     "output_type": "execute_result"
    }
   ],
   "source": [
    "y"
   ]
  },
  {
   "cell_type": "code",
   "execution_count": 12,
   "id": "147f5585",
   "metadata": {},
   "outputs": [],
   "source": [
    "from sklearn.model_selection import train_test_split\n",
    "x_train,x_test, y_train, y_test = train_test_split(x, y, test_size = 0.3, random_state=1)"
   ]
  },
  {
   "cell_type": "code",
   "execution_count": 15,
   "id": "821ca7ff",
   "metadata": {},
   "outputs": [
    {
     "data": {
      "text/html": [
       "<style>#sk-container-id-1 {color: black;}#sk-container-id-1 pre{padding: 0;}#sk-container-id-1 div.sk-toggleable {background-color: white;}#sk-container-id-1 label.sk-toggleable__label {cursor: pointer;display: block;width: 100%;margin-bottom: 0;padding: 0.3em;box-sizing: border-box;text-align: center;}#sk-container-id-1 label.sk-toggleable__label-arrow:before {content: \"▸\";float: left;margin-right: 0.25em;color: #696969;}#sk-container-id-1 label.sk-toggleable__label-arrow:hover:before {color: black;}#sk-container-id-1 div.sk-estimator:hover label.sk-toggleable__label-arrow:before {color: black;}#sk-container-id-1 div.sk-toggleable__content {max-height: 0;max-width: 0;overflow: hidden;text-align: left;background-color: #f0f8ff;}#sk-container-id-1 div.sk-toggleable__content pre {margin: 0.2em;color: black;border-radius: 0.25em;background-color: #f0f8ff;}#sk-container-id-1 input.sk-toggleable__control:checked~div.sk-toggleable__content {max-height: 200px;max-width: 100%;overflow: auto;}#sk-container-id-1 input.sk-toggleable__control:checked~label.sk-toggleable__label-arrow:before {content: \"▾\";}#sk-container-id-1 div.sk-estimator input.sk-toggleable__control:checked~label.sk-toggleable__label {background-color: #d4ebff;}#sk-container-id-1 div.sk-label input.sk-toggleable__control:checked~label.sk-toggleable__label {background-color: #d4ebff;}#sk-container-id-1 input.sk-hidden--visually {border: 0;clip: rect(1px 1px 1px 1px);clip: rect(1px, 1px, 1px, 1px);height: 1px;margin: -1px;overflow: hidden;padding: 0;position: absolute;width: 1px;}#sk-container-id-1 div.sk-estimator {font-family: monospace;background-color: #f0f8ff;border: 1px dotted black;border-radius: 0.25em;box-sizing: border-box;margin-bottom: 0.5em;}#sk-container-id-1 div.sk-estimator:hover {background-color: #d4ebff;}#sk-container-id-1 div.sk-parallel-item::after {content: \"\";width: 100%;border-bottom: 1px solid gray;flex-grow: 1;}#sk-container-id-1 div.sk-label:hover label.sk-toggleable__label {background-color: #d4ebff;}#sk-container-id-1 div.sk-serial::before {content: \"\";position: absolute;border-left: 1px solid gray;box-sizing: border-box;top: 0;bottom: 0;left: 50%;z-index: 0;}#sk-container-id-1 div.sk-serial {display: flex;flex-direction: column;align-items: center;background-color: white;padding-right: 0.2em;padding-left: 0.2em;position: relative;}#sk-container-id-1 div.sk-item {position: relative;z-index: 1;}#sk-container-id-1 div.sk-parallel {display: flex;align-items: stretch;justify-content: center;background-color: white;position: relative;}#sk-container-id-1 div.sk-item::before, #sk-container-id-1 div.sk-parallel-item::before {content: \"\";position: absolute;border-left: 1px solid gray;box-sizing: border-box;top: 0;bottom: 0;left: 50%;z-index: -1;}#sk-container-id-1 div.sk-parallel-item {display: flex;flex-direction: column;z-index: 1;position: relative;background-color: white;}#sk-container-id-1 div.sk-parallel-item:first-child::after {align-self: flex-end;width: 50%;}#sk-container-id-1 div.sk-parallel-item:last-child::after {align-self: flex-start;width: 50%;}#sk-container-id-1 div.sk-parallel-item:only-child::after {width: 0;}#sk-container-id-1 div.sk-dashed-wrapped {border: 1px dashed gray;margin: 0 0.4em 0.5em 0.4em;box-sizing: border-box;padding-bottom: 0.4em;background-color: white;}#sk-container-id-1 div.sk-label label {font-family: monospace;font-weight: bold;display: inline-block;line-height: 1.2em;}#sk-container-id-1 div.sk-label-container {text-align: center;}#sk-container-id-1 div.sk-container {/* jupyter's `normalize.less` sets `[hidden] { display: none; }` but bootstrap.min.css set `[hidden] { display: none !important; }` so we also need the `!important` here to be able to override the default hidden behavior on the sphinx rendered scikit-learn.org. See: https://github.com/scikit-learn/scikit-learn/issues/21755 */display: inline-block !important;position: relative;}#sk-container-id-1 div.sk-text-repr-fallback {display: none;}</style><div id=\"sk-container-id-1\" class=\"sk-top-container\"><div class=\"sk-text-repr-fallback\"><pre>DecisionTreeRegressor()</pre><b>In a Jupyter environment, please rerun this cell to show the HTML representation or trust the notebook. <br />On GitHub, the HTML representation is unable to render, please try loading this page with nbviewer.org.</b></div><div class=\"sk-container\" hidden><div class=\"sk-item\"><div class=\"sk-estimator sk-toggleable\"><input class=\"sk-toggleable__control sk-hidden--visually\" id=\"sk-estimator-id-1\" type=\"checkbox\" checked><label for=\"sk-estimator-id-1\" class=\"sk-toggleable__label sk-toggleable__label-arrow\">DecisionTreeRegressor</label><div class=\"sk-toggleable__content\"><pre>DecisionTreeRegressor()</pre></div></div></div></div></div>"
      ],
      "text/plain": [
       "DecisionTreeRegressor()"
      ]
     },
     "execution_count": 15,
     "metadata": {},
     "output_type": "execute_result"
    }
   ],
   "source": [
    "from sklearn.tree import DecisionTreeRegressor\n",
    "model=DecisionTreeRegressor()\n",
    "model.fit(x_train,y_train)"
   ]
  },
  {
   "cell_type": "code",
   "execution_count": 16,
   "id": "37d36f0e",
   "metadata": {},
   "outputs": [],
   "source": [
    "y_pred=model.predict(x_test)"
   ]
  },
  {
   "cell_type": "code",
   "execution_count": 17,
   "id": "5703bedf",
   "metadata": {},
   "outputs": [
    {
     "data": {
      "text/plain": [
       "array([2.125  , 1.625  , 1.834  , ..., 0.5    , 3.011  , 5.00001])"
      ]
     },
     "execution_count": 17,
     "metadata": {},
     "output_type": "execute_result"
    }
   ],
   "source": [
    "y_pred"
   ]
  },
  {
   "cell_type": "code",
   "execution_count": 19,
   "id": "6e9c3918",
   "metadata": {},
   "outputs": [],
   "source": [
    "from sklearn.metrics import r2_score"
   ]
  },
  {
   "cell_type": "code",
   "execution_count": 20,
   "id": "a48d232c",
   "metadata": {},
   "outputs": [
    {
     "data": {
      "text/plain": [
       "0.45060725333510665"
      ]
     },
     "execution_count": 20,
     "metadata": {},
     "output_type": "execute_result"
    }
   ],
   "source": [
    "r2_score(y_test,y_pred)"
   ]
  },
  {
   "cell_type": "code",
   "execution_count": 21,
   "id": "04fde078",
   "metadata": {},
   "outputs": [],
   "source": [
    "parameter = {\n",
    "    'criterion': ['squared_error', 'poissor'],\n",
    "    'max_depth':[1, 2, 3, 4, 6, 8],\n",
    "    'splitter':['best', 'random'],\n",
    "    'max_features': ['sqrt', 'log2']\n",
    "}"
   ]
  },
  {
   "cell_type": "code",
   "execution_count": 22,
   "id": "ee31e7a5",
   "metadata": {},
   "outputs": [],
   "source": [
    "reg=DecisionTreeRegressor()"
   ]
  },
  {
   "cell_type": "code",
   "execution_count": 23,
   "id": "b6baf687",
   "metadata": {},
   "outputs": [],
   "source": [
    "from sklearn.model_selection import GridSearchCV\n",
    "model =GridSearchCV(reg,param_grid=parameter,cv=5,scoring=\"neg_mean_squared_error\")"
   ]
  },
  {
   "cell_type": "code",
   "execution_count": 24,
   "id": "35a8d423",
   "metadata": {},
   "outputs": [
    {
     "data": {
      "text/html": [
       "<style>#sk-container-id-2 {color: black;}#sk-container-id-2 pre{padding: 0;}#sk-container-id-2 div.sk-toggleable {background-color: white;}#sk-container-id-2 label.sk-toggleable__label {cursor: pointer;display: block;width: 100%;margin-bottom: 0;padding: 0.3em;box-sizing: border-box;text-align: center;}#sk-container-id-2 label.sk-toggleable__label-arrow:before {content: \"▸\";float: left;margin-right: 0.25em;color: #696969;}#sk-container-id-2 label.sk-toggleable__label-arrow:hover:before {color: black;}#sk-container-id-2 div.sk-estimator:hover label.sk-toggleable__label-arrow:before {color: black;}#sk-container-id-2 div.sk-toggleable__content {max-height: 0;max-width: 0;overflow: hidden;text-align: left;background-color: #f0f8ff;}#sk-container-id-2 div.sk-toggleable__content pre {margin: 0.2em;color: black;border-radius: 0.25em;background-color: #f0f8ff;}#sk-container-id-2 input.sk-toggleable__control:checked~div.sk-toggleable__content {max-height: 200px;max-width: 100%;overflow: auto;}#sk-container-id-2 input.sk-toggleable__control:checked~label.sk-toggleable__label-arrow:before {content: \"▾\";}#sk-container-id-2 div.sk-estimator input.sk-toggleable__control:checked~label.sk-toggleable__label {background-color: #d4ebff;}#sk-container-id-2 div.sk-label input.sk-toggleable__control:checked~label.sk-toggleable__label {background-color: #d4ebff;}#sk-container-id-2 input.sk-hidden--visually {border: 0;clip: rect(1px 1px 1px 1px);clip: rect(1px, 1px, 1px, 1px);height: 1px;margin: -1px;overflow: hidden;padding: 0;position: absolute;width: 1px;}#sk-container-id-2 div.sk-estimator {font-family: monospace;background-color: #f0f8ff;border: 1px dotted black;border-radius: 0.25em;box-sizing: border-box;margin-bottom: 0.5em;}#sk-container-id-2 div.sk-estimator:hover {background-color: #d4ebff;}#sk-container-id-2 div.sk-parallel-item::after {content: \"\";width: 100%;border-bottom: 1px solid gray;flex-grow: 1;}#sk-container-id-2 div.sk-label:hover label.sk-toggleable__label {background-color: #d4ebff;}#sk-container-id-2 div.sk-serial::before {content: \"\";position: absolute;border-left: 1px solid gray;box-sizing: border-box;top: 0;bottom: 0;left: 50%;z-index: 0;}#sk-container-id-2 div.sk-serial {display: flex;flex-direction: column;align-items: center;background-color: white;padding-right: 0.2em;padding-left: 0.2em;position: relative;}#sk-container-id-2 div.sk-item {position: relative;z-index: 1;}#sk-container-id-2 div.sk-parallel {display: flex;align-items: stretch;justify-content: center;background-color: white;position: relative;}#sk-container-id-2 div.sk-item::before, #sk-container-id-2 div.sk-parallel-item::before {content: \"\";position: absolute;border-left: 1px solid gray;box-sizing: border-box;top: 0;bottom: 0;left: 50%;z-index: -1;}#sk-container-id-2 div.sk-parallel-item {display: flex;flex-direction: column;z-index: 1;position: relative;background-color: white;}#sk-container-id-2 div.sk-parallel-item:first-child::after {align-self: flex-end;width: 50%;}#sk-container-id-2 div.sk-parallel-item:last-child::after {align-self: flex-start;width: 50%;}#sk-container-id-2 div.sk-parallel-item:only-child::after {width: 0;}#sk-container-id-2 div.sk-dashed-wrapped {border: 1px dashed gray;margin: 0 0.4em 0.5em 0.4em;box-sizing: border-box;padding-bottom: 0.4em;background-color: white;}#sk-container-id-2 div.sk-label label {font-family: monospace;font-weight: bold;display: inline-block;line-height: 1.2em;}#sk-container-id-2 div.sk-label-container {text-align: center;}#sk-container-id-2 div.sk-container {/* jupyter's `normalize.less` sets `[hidden] { display: none; }` but bootstrap.min.css set `[hidden] { display: none !important; }` so we also need the `!important` here to be able to override the default hidden behavior on the sphinx rendered scikit-learn.org. See: https://github.com/scikit-learn/scikit-learn/issues/21755 */display: inline-block !important;position: relative;}#sk-container-id-2 div.sk-text-repr-fallback {display: none;}</style><div id=\"sk-container-id-2\" class=\"sk-top-container\"><div class=\"sk-text-repr-fallback\"><pre>GridSearchCV(cv=5, estimator=DecisionTreeRegressor(),\n",
       "             param_grid={&#x27;criterion&#x27;: [&#x27;squared_error&#x27;, &#x27;poissor&#x27;],\n",
       "                         &#x27;max_depth&#x27;: [1, 2, 3, 4, 6, 8],\n",
       "                         &#x27;max_features&#x27;: [&#x27;sqrt&#x27;, &#x27;log2&#x27;],\n",
       "                         &#x27;splitter&#x27;: [&#x27;best&#x27;, &#x27;random&#x27;]},\n",
       "             scoring=&#x27;neg_mean_squared_error&#x27;)</pre><b>In a Jupyter environment, please rerun this cell to show the HTML representation or trust the notebook. <br />On GitHub, the HTML representation is unable to render, please try loading this page with nbviewer.org.</b></div><div class=\"sk-container\" hidden><div class=\"sk-item sk-dashed-wrapped\"><div class=\"sk-label-container\"><div class=\"sk-label sk-toggleable\"><input class=\"sk-toggleable__control sk-hidden--visually\" id=\"sk-estimator-id-2\" type=\"checkbox\" ><label for=\"sk-estimator-id-2\" class=\"sk-toggleable__label sk-toggleable__label-arrow\">GridSearchCV</label><div class=\"sk-toggleable__content\"><pre>GridSearchCV(cv=5, estimator=DecisionTreeRegressor(),\n",
       "             param_grid={&#x27;criterion&#x27;: [&#x27;squared_error&#x27;, &#x27;poissor&#x27;],\n",
       "                         &#x27;max_depth&#x27;: [1, 2, 3, 4, 6, 8],\n",
       "                         &#x27;max_features&#x27;: [&#x27;sqrt&#x27;, &#x27;log2&#x27;],\n",
       "                         &#x27;splitter&#x27;: [&#x27;best&#x27;, &#x27;random&#x27;]},\n",
       "             scoring=&#x27;neg_mean_squared_error&#x27;)</pre></div></div></div><div class=\"sk-parallel\"><div class=\"sk-parallel-item\"><div class=\"sk-item\"><div class=\"sk-label-container\"><div class=\"sk-label sk-toggleable\"><input class=\"sk-toggleable__control sk-hidden--visually\" id=\"sk-estimator-id-3\" type=\"checkbox\" ><label for=\"sk-estimator-id-3\" class=\"sk-toggleable__label sk-toggleable__label-arrow\">estimator: DecisionTreeRegressor</label><div class=\"sk-toggleable__content\"><pre>DecisionTreeRegressor()</pre></div></div></div><div class=\"sk-serial\"><div class=\"sk-item\"><div class=\"sk-estimator sk-toggleable\"><input class=\"sk-toggleable__control sk-hidden--visually\" id=\"sk-estimator-id-4\" type=\"checkbox\" ><label for=\"sk-estimator-id-4\" class=\"sk-toggleable__label sk-toggleable__label-arrow\">DecisionTreeRegressor</label><div class=\"sk-toggleable__content\"><pre>DecisionTreeRegressor()</pre></div></div></div></div></div></div></div></div></div></div>"
      ],
      "text/plain": [
       "GridSearchCV(cv=5, estimator=DecisionTreeRegressor(),\n",
       "             param_grid={'criterion': ['squared_error', 'poissor'],\n",
       "                         'max_depth': [1, 2, 3, 4, 6, 8],\n",
       "                         'max_features': ['sqrt', 'log2'],\n",
       "                         'splitter': ['best', 'random']},\n",
       "             scoring='neg_mean_squared_error')"
      ]
     },
     "execution_count": 24,
     "metadata": {},
     "output_type": "execute_result"
    }
   ],
   "source": [
    "model"
   ]
  },
  {
   "cell_type": "code",
   "execution_count": 25,
   "id": "3d8646fb",
   "metadata": {},
   "outputs": [
    {
     "data": {
      "text/html": [
       "<style>#sk-container-id-3 {color: black;}#sk-container-id-3 pre{padding: 0;}#sk-container-id-3 div.sk-toggleable {background-color: white;}#sk-container-id-3 label.sk-toggleable__label {cursor: pointer;display: block;width: 100%;margin-bottom: 0;padding: 0.3em;box-sizing: border-box;text-align: center;}#sk-container-id-3 label.sk-toggleable__label-arrow:before {content: \"▸\";float: left;margin-right: 0.25em;color: #696969;}#sk-container-id-3 label.sk-toggleable__label-arrow:hover:before {color: black;}#sk-container-id-3 div.sk-estimator:hover label.sk-toggleable__label-arrow:before {color: black;}#sk-container-id-3 div.sk-toggleable__content {max-height: 0;max-width: 0;overflow: hidden;text-align: left;background-color: #f0f8ff;}#sk-container-id-3 div.sk-toggleable__content pre {margin: 0.2em;color: black;border-radius: 0.25em;background-color: #f0f8ff;}#sk-container-id-3 input.sk-toggleable__control:checked~div.sk-toggleable__content {max-height: 200px;max-width: 100%;overflow: auto;}#sk-container-id-3 input.sk-toggleable__control:checked~label.sk-toggleable__label-arrow:before {content: \"▾\";}#sk-container-id-3 div.sk-estimator input.sk-toggleable__control:checked~label.sk-toggleable__label {background-color: #d4ebff;}#sk-container-id-3 div.sk-label input.sk-toggleable__control:checked~label.sk-toggleable__label {background-color: #d4ebff;}#sk-container-id-3 input.sk-hidden--visually {border: 0;clip: rect(1px 1px 1px 1px);clip: rect(1px, 1px, 1px, 1px);height: 1px;margin: -1px;overflow: hidden;padding: 0;position: absolute;width: 1px;}#sk-container-id-3 div.sk-estimator {font-family: monospace;background-color: #f0f8ff;border: 1px dotted black;border-radius: 0.25em;box-sizing: border-box;margin-bottom: 0.5em;}#sk-container-id-3 div.sk-estimator:hover {background-color: #d4ebff;}#sk-container-id-3 div.sk-parallel-item::after {content: \"\";width: 100%;border-bottom: 1px solid gray;flex-grow: 1;}#sk-container-id-3 div.sk-label:hover label.sk-toggleable__label {background-color: #d4ebff;}#sk-container-id-3 div.sk-serial::before {content: \"\";position: absolute;border-left: 1px solid gray;box-sizing: border-box;top: 0;bottom: 0;left: 50%;z-index: 0;}#sk-container-id-3 div.sk-serial {display: flex;flex-direction: column;align-items: center;background-color: white;padding-right: 0.2em;padding-left: 0.2em;position: relative;}#sk-container-id-3 div.sk-item {position: relative;z-index: 1;}#sk-container-id-3 div.sk-parallel {display: flex;align-items: stretch;justify-content: center;background-color: white;position: relative;}#sk-container-id-3 div.sk-item::before, #sk-container-id-3 div.sk-parallel-item::before {content: \"\";position: absolute;border-left: 1px solid gray;box-sizing: border-box;top: 0;bottom: 0;left: 50%;z-index: -1;}#sk-container-id-3 div.sk-parallel-item {display: flex;flex-direction: column;z-index: 1;position: relative;background-color: white;}#sk-container-id-3 div.sk-parallel-item:first-child::after {align-self: flex-end;width: 50%;}#sk-container-id-3 div.sk-parallel-item:last-child::after {align-self: flex-start;width: 50%;}#sk-container-id-3 div.sk-parallel-item:only-child::after {width: 0;}#sk-container-id-3 div.sk-dashed-wrapped {border: 1px dashed gray;margin: 0 0.4em 0.5em 0.4em;box-sizing: border-box;padding-bottom: 0.4em;background-color: white;}#sk-container-id-3 div.sk-label label {font-family: monospace;font-weight: bold;display: inline-block;line-height: 1.2em;}#sk-container-id-3 div.sk-label-container {text-align: center;}#sk-container-id-3 div.sk-container {/* jupyter's `normalize.less` sets `[hidden] { display: none; }` but bootstrap.min.css set `[hidden] { display: none !important; }` so we also need the `!important` here to be able to override the default hidden behavior on the sphinx rendered scikit-learn.org. See: https://github.com/scikit-learn/scikit-learn/issues/21755 */display: inline-block !important;position: relative;}#sk-container-id-3 div.sk-text-repr-fallback {display: none;}</style><div id=\"sk-container-id-3\" class=\"sk-top-container\"><div class=\"sk-text-repr-fallback\"><pre>GridSearchCV(cv=5, estimator=DecisionTreeRegressor(),\n",
       "             param_grid={&#x27;criterion&#x27;: [&#x27;squared_error&#x27;, &#x27;poissor&#x27;],\n",
       "                         &#x27;max_depth&#x27;: [1, 2, 3, 4, 6, 8],\n",
       "                         &#x27;max_features&#x27;: [&#x27;sqrt&#x27;, &#x27;log2&#x27;],\n",
       "                         &#x27;splitter&#x27;: [&#x27;best&#x27;, &#x27;random&#x27;]},\n",
       "             scoring=&#x27;neg_mean_squared_error&#x27;)</pre><b>In a Jupyter environment, please rerun this cell to show the HTML representation or trust the notebook. <br />On GitHub, the HTML representation is unable to render, please try loading this page with nbviewer.org.</b></div><div class=\"sk-container\" hidden><div class=\"sk-item sk-dashed-wrapped\"><div class=\"sk-label-container\"><div class=\"sk-label sk-toggleable\"><input class=\"sk-toggleable__control sk-hidden--visually\" id=\"sk-estimator-id-5\" type=\"checkbox\" ><label for=\"sk-estimator-id-5\" class=\"sk-toggleable__label sk-toggleable__label-arrow\">GridSearchCV</label><div class=\"sk-toggleable__content\"><pre>GridSearchCV(cv=5, estimator=DecisionTreeRegressor(),\n",
       "             param_grid={&#x27;criterion&#x27;: [&#x27;squared_error&#x27;, &#x27;poissor&#x27;],\n",
       "                         &#x27;max_depth&#x27;: [1, 2, 3, 4, 6, 8],\n",
       "                         &#x27;max_features&#x27;: [&#x27;sqrt&#x27;, &#x27;log2&#x27;],\n",
       "                         &#x27;splitter&#x27;: [&#x27;best&#x27;, &#x27;random&#x27;]},\n",
       "             scoring=&#x27;neg_mean_squared_error&#x27;)</pre></div></div></div><div class=\"sk-parallel\"><div class=\"sk-parallel-item\"><div class=\"sk-item\"><div class=\"sk-label-container\"><div class=\"sk-label sk-toggleable\"><input class=\"sk-toggleable__control sk-hidden--visually\" id=\"sk-estimator-id-6\" type=\"checkbox\" ><label for=\"sk-estimator-id-6\" class=\"sk-toggleable__label sk-toggleable__label-arrow\">estimator: DecisionTreeRegressor</label><div class=\"sk-toggleable__content\"><pre>DecisionTreeRegressor()</pre></div></div></div><div class=\"sk-serial\"><div class=\"sk-item\"><div class=\"sk-estimator sk-toggleable\"><input class=\"sk-toggleable__control sk-hidden--visually\" id=\"sk-estimator-id-7\" type=\"checkbox\" ><label for=\"sk-estimator-id-7\" class=\"sk-toggleable__label sk-toggleable__label-arrow\">DecisionTreeRegressor</label><div class=\"sk-toggleable__content\"><pre>DecisionTreeRegressor()</pre></div></div></div></div></div></div></div></div></div></div>"
      ],
      "text/plain": [
       "GridSearchCV(cv=5, estimator=DecisionTreeRegressor(),\n",
       "             param_grid={'criterion': ['squared_error', 'poissor'],\n",
       "                         'max_depth': [1, 2, 3, 4, 6, 8],\n",
       "                         'max_features': ['sqrt', 'log2'],\n",
       "                         'splitter': ['best', 'random']},\n",
       "             scoring='neg_mean_squared_error')"
      ]
     },
     "execution_count": 25,
     "metadata": {},
     "output_type": "execute_result"
    }
   ],
   "source": [
    "model.fit(x_train,y_train)"
   ]
  },
  {
   "cell_type": "code",
   "execution_count": 26,
   "id": "036f52b7",
   "metadata": {},
   "outputs": [
    {
     "data": {
      "text/plain": [
       "{'criterion': 'squared_error',\n",
       " 'max_depth': 6,\n",
       " 'max_features': 'log2',\n",
       " 'splitter': 'best'}"
      ]
     },
     "execution_count": 26,
     "metadata": {},
     "output_type": "execute_result"
    }
   ],
   "source": [
    "model.best_params_"
   ]
  },
  {
   "cell_type": "code",
   "execution_count": 29,
   "id": "fd4bbc74",
   "metadata": {},
   "outputs": [],
   "source": [
    "final_model= DecisionTreeRegressor(criterion=\"squared_error\",max_depth=6)"
   ]
  },
  {
   "cell_type": "code",
   "execution_count": 30,
   "id": "1950ecd2",
   "metadata": {},
   "outputs": [
    {
     "data": {
      "text/html": [
       "<style>#sk-container-id-5 {color: black;}#sk-container-id-5 pre{padding: 0;}#sk-container-id-5 div.sk-toggleable {background-color: white;}#sk-container-id-5 label.sk-toggleable__label {cursor: pointer;display: block;width: 100%;margin-bottom: 0;padding: 0.3em;box-sizing: border-box;text-align: center;}#sk-container-id-5 label.sk-toggleable__label-arrow:before {content: \"▸\";float: left;margin-right: 0.25em;color: #696969;}#sk-container-id-5 label.sk-toggleable__label-arrow:hover:before {color: black;}#sk-container-id-5 div.sk-estimator:hover label.sk-toggleable__label-arrow:before {color: black;}#sk-container-id-5 div.sk-toggleable__content {max-height: 0;max-width: 0;overflow: hidden;text-align: left;background-color: #f0f8ff;}#sk-container-id-5 div.sk-toggleable__content pre {margin: 0.2em;color: black;border-radius: 0.25em;background-color: #f0f8ff;}#sk-container-id-5 input.sk-toggleable__control:checked~div.sk-toggleable__content {max-height: 200px;max-width: 100%;overflow: auto;}#sk-container-id-5 input.sk-toggleable__control:checked~label.sk-toggleable__label-arrow:before {content: \"▾\";}#sk-container-id-5 div.sk-estimator input.sk-toggleable__control:checked~label.sk-toggleable__label {background-color: #d4ebff;}#sk-container-id-5 div.sk-label input.sk-toggleable__control:checked~label.sk-toggleable__label {background-color: #d4ebff;}#sk-container-id-5 input.sk-hidden--visually {border: 0;clip: rect(1px 1px 1px 1px);clip: rect(1px, 1px, 1px, 1px);height: 1px;margin: -1px;overflow: hidden;padding: 0;position: absolute;width: 1px;}#sk-container-id-5 div.sk-estimator {font-family: monospace;background-color: #f0f8ff;border: 1px dotted black;border-radius: 0.25em;box-sizing: border-box;margin-bottom: 0.5em;}#sk-container-id-5 div.sk-estimator:hover {background-color: #d4ebff;}#sk-container-id-5 div.sk-parallel-item::after {content: \"\";width: 100%;border-bottom: 1px solid gray;flex-grow: 1;}#sk-container-id-5 div.sk-label:hover label.sk-toggleable__label {background-color: #d4ebff;}#sk-container-id-5 div.sk-serial::before {content: \"\";position: absolute;border-left: 1px solid gray;box-sizing: border-box;top: 0;bottom: 0;left: 50%;z-index: 0;}#sk-container-id-5 div.sk-serial {display: flex;flex-direction: column;align-items: center;background-color: white;padding-right: 0.2em;padding-left: 0.2em;position: relative;}#sk-container-id-5 div.sk-item {position: relative;z-index: 1;}#sk-container-id-5 div.sk-parallel {display: flex;align-items: stretch;justify-content: center;background-color: white;position: relative;}#sk-container-id-5 div.sk-item::before, #sk-container-id-5 div.sk-parallel-item::before {content: \"\";position: absolute;border-left: 1px solid gray;box-sizing: border-box;top: 0;bottom: 0;left: 50%;z-index: -1;}#sk-container-id-5 div.sk-parallel-item {display: flex;flex-direction: column;z-index: 1;position: relative;background-color: white;}#sk-container-id-5 div.sk-parallel-item:first-child::after {align-self: flex-end;width: 50%;}#sk-container-id-5 div.sk-parallel-item:last-child::after {align-self: flex-start;width: 50%;}#sk-container-id-5 div.sk-parallel-item:only-child::after {width: 0;}#sk-container-id-5 div.sk-dashed-wrapped {border: 1px dashed gray;margin: 0 0.4em 0.5em 0.4em;box-sizing: border-box;padding-bottom: 0.4em;background-color: white;}#sk-container-id-5 div.sk-label label {font-family: monospace;font-weight: bold;display: inline-block;line-height: 1.2em;}#sk-container-id-5 div.sk-label-container {text-align: center;}#sk-container-id-5 div.sk-container {/* jupyter's `normalize.less` sets `[hidden] { display: none; }` but bootstrap.min.css set `[hidden] { display: none !important; }` so we also need the `!important` here to be able to override the default hidden behavior on the sphinx rendered scikit-learn.org. See: https://github.com/scikit-learn/scikit-learn/issues/21755 */display: inline-block !important;position: relative;}#sk-container-id-5 div.sk-text-repr-fallback {display: none;}</style><div id=\"sk-container-id-5\" class=\"sk-top-container\"><div class=\"sk-text-repr-fallback\"><pre>DecisionTreeRegressor(max_depth=6)</pre><b>In a Jupyter environment, please rerun this cell to show the HTML representation or trust the notebook. <br />On GitHub, the HTML representation is unable to render, please try loading this page with nbviewer.org.</b></div><div class=\"sk-container\" hidden><div class=\"sk-item\"><div class=\"sk-estimator sk-toggleable\"><input class=\"sk-toggleable__control sk-hidden--visually\" id=\"sk-estimator-id-9\" type=\"checkbox\" checked><label for=\"sk-estimator-id-9\" class=\"sk-toggleable__label sk-toggleable__label-arrow\">DecisionTreeRegressor</label><div class=\"sk-toggleable__content\"><pre>DecisionTreeRegressor(max_depth=6)</pre></div></div></div></div></div>"
      ],
      "text/plain": [
       "DecisionTreeRegressor(max_depth=6)"
      ]
     },
     "execution_count": 30,
     "metadata": {},
     "output_type": "execute_result"
    }
   ],
   "source": [
    "final_model.fit(x_train,y_train)"
   ]
  },
  {
   "cell_type": "code",
   "execution_count": 31,
   "id": "94b3f319",
   "metadata": {},
   "outputs": [
    {
     "data": {
      "text/plain": [
       "[Text(0.49198717948717946, 0.9285714285714286, 'x[0] <= 5.05\\nsquared_error = 1.322\\nsamples = 2889\\nvalue = 2.049'),\n",
       " Text(0.2329059829059829, 0.7857142857142857, 'x[0] <= 2.851\\nsquared_error = 0.858\\nsamples = 2306\\nvalue = 1.735'),\n",
       " Text(0.12393162393162394, 0.6428571428571429, 'x[2] <= 4.335\\nsquared_error = 0.503\\nsamples = 926\\nvalue = 1.27'),\n",
       " Text(0.06837606837606838, 0.5, 'x[0] <= 2.317\\nsquared_error = 0.628\\nsamples = 408\\nvalue = 1.551'),\n",
       " Text(0.03418803418803419, 0.35714285714285715, 'x[2] <= 3.297\\nsquared_error = 0.507\\nsamples = 259\\nvalue = 1.343'),\n",
       " Text(0.017094017094017096, 0.21428571428571427, 'x[5] <= 5.324\\nsquared_error = 0.92\\nsamples = 71\\nvalue = 1.796'),\n",
       " Text(0.008547008547008548, 0.07142857142857142, 'squared_error = 0.784\\nsamples = 68\\nvalue = 1.734'),\n",
       " Text(0.02564102564102564, 0.07142857142857142, 'squared_error = 1.92\\nsamples = 3\\nvalue = 3.208'),\n",
       " Text(0.05128205128205128, 0.21428571428571427, 'x[0] <= 1.681\\nsquared_error = 0.245\\nsamples = 188\\nvalue = 1.171'),\n",
       " Text(0.042735042735042736, 0.07142857142857142, 'squared_error = 0.094\\nsamples = 64\\nvalue = 0.896'),\n",
       " Text(0.05982905982905983, 0.07142857142857142, 'squared_error = 0.263\\nsamples = 124\\nvalue = 1.314'),\n",
       " Text(0.10256410256410256, 0.35714285714285715, 'x[5] <= 2.537\\nsquared_error = 0.63\\nsamples = 149\\nvalue = 1.914'),\n",
       " Text(0.08547008547008547, 0.21428571428571427, 'x[2] <= 2.922\\nsquared_error = 0.681\\nsamples = 57\\nvalue = 2.335'),\n",
       " Text(0.07692307692307693, 0.07142857142857142, 'squared_error = 0.0\\nsamples = 1\\nvalue = 5.0'),\n",
       " Text(0.09401709401709402, 0.07142857142857142, 'squared_error = 0.564\\nsamples = 56\\nvalue = 2.287'),\n",
       " Text(0.11965811965811966, 0.21428571428571427, 'x[4] <= 215.5\\nsquared_error = 0.42\\nsamples = 92\\nvalue = 1.653'),\n",
       " Text(0.1111111111111111, 0.07142857142857142, 'squared_error = 0.0\\nsamples = 1\\nvalue = 5.0'),\n",
       " Text(0.1282051282051282, 0.07142857142857142, 'squared_error = 0.301\\nsamples = 91\\nvalue = 1.616'),\n",
       " Text(0.1794871794871795, 0.5, 'x[2] <= 86.843\\nsquared_error = 0.293\\nsamples = 518\\nvalue = 1.048'),\n",
       " Text(0.17094017094017094, 0.35714285714285715, 'x[6] <= 35.29\\nsquared_error = 0.264\\nsamples = 517\\nvalue = 1.041'),\n",
       " Text(0.15384615384615385, 0.21428571428571427, 'x[7] <= -118.325\\nsquared_error = 0.325\\nsamples = 176\\nvalue = 1.256'),\n",
       " Text(0.1452991452991453, 0.07142857142857142, 'squared_error = 0.348\\nsamples = 19\\nvalue = 1.829'),\n",
       " Text(0.1623931623931624, 0.07142857142857142, 'squared_error = 0.278\\nsamples = 157\\nvalue = 1.187'),\n",
       " Text(0.18803418803418803, 0.21428571428571427, 'x[7] <= -120.275\\nsquared_error = 0.196\\nsamples = 341\\nvalue = 0.93'),\n",
       " Text(0.1794871794871795, 0.07142857142857142, 'squared_error = 0.221\\nsamples = 246\\nvalue = 1.025'),\n",
       " Text(0.19658119658119658, 0.07142857142857142, 'squared_error = 0.046\\nsamples = 95\\nvalue = 0.683'),\n",
       " Text(0.18803418803418803, 0.35714285714285715, 'squared_error = 0.0\\nsamples = 1\\nvalue = 5.0'),\n",
       " Text(0.3418803418803419, 0.6428571428571429, 'x[5] <= 2.329\\nsquared_error = 0.854\\nsamples = 1380\\nvalue = 2.047'),\n",
       " Text(0.27350427350427353, 0.5, 'x[6] <= 37.99\\nsquared_error = 1.443\\nsamples = 313\\nvalue = 2.787'),\n",
       " Text(0.23931623931623933, 0.35714285714285715, 'x[1] <= 21.5\\nsquared_error = 1.403\\nsamples = 281\\nvalue = 2.92'),\n",
       " Text(0.2222222222222222, 0.21428571428571427, 'x[7] <= -117.99\\nsquared_error = 0.882\\nsamples = 81\\nvalue = 2.29'),\n",
       " Text(0.21367521367521367, 0.07142857142857142, 'squared_error = 0.845\\nsamples = 48\\nvalue = 2.625'),\n",
       " Text(0.23076923076923078, 0.07142857142857142, 'squared_error = 0.534\\nsamples = 33\\nvalue = 1.802'),\n",
       " Text(0.2564102564102564, 0.21428571428571427, 'x[0] <= 3.954\\nsquared_error = 1.388\\nsamples = 200\\nvalue = 3.176'),\n",
       " Text(0.24786324786324787, 0.07142857142857142, 'squared_error = 1.344\\nsamples = 148\\nvalue = 2.931'),\n",
       " Text(0.26495726495726496, 0.07142857142857142, 'squared_error = 0.859\\nsamples = 52\\nvalue = 3.872'),\n",
       " Text(0.3076923076923077, 0.35714285714285715, 'x[7] <= -121.43\\nsquared_error = 0.26\\nsamples = 32\\nvalue = 1.614'),\n",
       " Text(0.2905982905982906, 0.21428571428571427, 'x[2] <= 4.372\\nsquared_error = 0.25\\nsamples = 22\\nvalue = 1.806'),\n",
       " Text(0.28205128205128205, 0.07142857142857142, 'squared_error = 0.0\\nsamples = 1\\nvalue = 3.011'),\n",
       " Text(0.29914529914529914, 0.07142857142857142, 'squared_error = 0.19\\nsamples = 21\\nvalue = 1.749'),\n",
       " Text(0.3247863247863248, 0.21428571428571427, 'x[0] <= 3.511\\nsquared_error = 0.02\\nsamples = 10\\nvalue = 1.19'),\n",
       " Text(0.3162393162393162, 0.07142857142857142, 'squared_error = 0.009\\nsamples = 7\\nvalue = 1.118'),\n",
       " Text(0.3333333333333333, 0.07142857142857142, 'squared_error = 0.003\\nsamples = 3\\nvalue = 1.359'),\n",
       " Text(0.41025641025641024, 0.5, 'x[0] <= 3.609\\nsquared_error = 0.474\\nsamples = 1067\\nvalue = 1.83'),\n",
       " Text(0.37606837606837606, 0.35714285714285715, 'x[2] <= 4.96\\nsquared_error = 0.369\\nsamples = 454\\nvalue = 1.56'),\n",
       " Text(0.358974358974359, 0.21428571428571427, 'x[5] <= 2.892\\nsquared_error = 0.38\\nsamples = 212\\nvalue = 1.775'),\n",
       " Text(0.3504273504273504, 0.07142857142857142, 'squared_error = 0.537\\nsamples = 86\\nvalue = 1.964'),\n",
       " Text(0.36752136752136755, 0.07142857142857142, 'squared_error = 0.233\\nsamples = 126\\nvalue = 1.646'),\n",
       " Text(0.39316239316239315, 0.21428571428571427, 'x[7] <= -121.69\\nsquared_error = 0.283\\nsamples = 242\\nvalue = 1.372'),\n",
       " Text(0.38461538461538464, 0.07142857142857142, 'squared_error = 0.403\\nsamples = 53\\nvalue = 1.665'),\n",
       " Text(0.4017094017094017, 0.07142857142857142, 'squared_error = 0.219\\nsamples = 189\\nvalue = 1.289'),\n",
       " Text(0.4444444444444444, 0.35714285714285715, 'x[1] <= 43.5\\nsquared_error = 0.458\\nsamples = 613\\nvalue = 2.03'),\n",
       " Text(0.42735042735042733, 0.21428571428571427, 'x[5] <= 3.052\\nsquared_error = 0.389\\nsamples = 546\\nvalue = 1.953'),\n",
       " Text(0.4188034188034188, 0.07142857142857142, 'squared_error = 0.404\\nsamples = 333\\nvalue = 2.094'),\n",
       " Text(0.4358974358974359, 0.07142857142857142, 'squared_error = 0.286\\nsamples = 213\\nvalue = 1.732'),\n",
       " Text(0.46153846153846156, 0.21428571428571427, 'x[5] <= 2.419\\nsquared_error = 0.576\\nsamples = 67\\nvalue = 2.659'),\n",
       " Text(0.452991452991453, 0.07142857142857142, 'squared_error = 0.791\\nsamples = 7\\nvalue = 3.534'),\n",
       " Text(0.4700854700854701, 0.07142857142857142, 'squared_error = 0.451\\nsamples = 60\\nvalue = 2.557'),\n",
       " Text(0.7510683760683761, 0.7857142857142857, 'x[0] <= 7.106\\nsquared_error = 1.218\\nsamples = 583\\nvalue = 3.293'),\n",
       " Text(0.6153846153846154, 0.6428571428571429, 'x[5] <= 2.575\\nsquared_error = 0.895\\nsamples = 429\\nvalue = 2.915'),\n",
       " Text(0.5470085470085471, 0.5, 'x[1] <= 21.0\\nsquared_error = 1.083\\nsamples = 103\\nvalue = 3.635'),\n",
       " Text(0.5128205128205128, 0.35714285714285715, 'x[4] <= 1553.5\\nsquared_error = 1.127\\nsamples = 33\\nvalue = 3.105'),\n",
       " Text(0.49572649572649574, 0.21428571428571427, 'x[5] <= 2.437\\nsquared_error = 0.553\\nsamples = 23\\nvalue = 2.642'),\n",
       " Text(0.48717948717948717, 0.07142857142857142, 'squared_error = 0.489\\nsamples = 21\\nvalue = 2.741'),\n",
       " Text(0.5042735042735043, 0.07142857142857142, 'squared_error = 0.024\\nsamples = 2\\nvalue = 1.596'),\n",
       " Text(0.5299145299145299, 0.21428571428571427, 'x[3] <= 1.139\\nsquared_error = 0.818\\nsamples = 10\\nvalue = 4.171'),\n",
       " Text(0.5213675213675214, 0.07142857142857142, 'squared_error = 0.6\\nsamples = 6\\nvalue = 3.619'),\n",
       " Text(0.5384615384615384, 0.07142857142857142, 'squared_error = -0.0\\nsamples = 4\\nvalue = 5.0'),\n",
       " Text(0.5811965811965812, 0.35714285714285715, 'x[5] <= 2.143\\nsquared_error = 0.868\\nsamples = 70\\nvalue = 3.885'),\n",
       " Text(0.5641025641025641, 0.21428571428571427, 'x[3] <= 0.939\\nsquared_error = 0.409\\nsamples = 14\\nvalue = 4.648'),\n",
       " Text(0.5555555555555556, 0.07142857142857142, 'squared_error = 0.0\\nsamples = 1\\nvalue = 2.654'),\n",
       " Text(0.5726495726495726, 0.07142857142857142, 'squared_error = 0.111\\nsamples = 13\\nvalue = 4.801'),\n",
       " Text(0.5982905982905983, 0.21428571428571427, 'x[3] <= 1.083\\nsquared_error = 0.801\\nsamples = 56\\nvalue = 3.695'),\n",
       " Text(0.5897435897435898, 0.07142857142857142, 'squared_error = 0.73\\nsamples = 48\\nvalue = 3.554'),\n",
       " Text(0.6068376068376068, 0.07142857142857142, 'squared_error = 0.398\\nsamples = 8\\nvalue = 4.537'),\n",
       " Text(0.6837606837606838, 0.5, 'x[0] <= 6.127\\nsquared_error = 0.62\\nsamples = 326\\nvalue = 2.687'),\n",
       " Text(0.6495726495726496, 0.35714285714285715, 'x[5] <= 3.149\\nsquared_error = 0.523\\nsamples = 222\\nvalue = 2.475'),\n",
       " Text(0.6324786324786325, 0.21428571428571427, 'x[1] <= 36.5\\nsquared_error = 0.589\\nsamples = 137\\nvalue = 2.702'),\n",
       " Text(0.6239316239316239, 0.07142857142857142, 'squared_error = 0.421\\nsamples = 117\\nvalue = 2.581'),\n",
       " Text(0.6410256410256411, 0.07142857142857142, 'squared_error = 0.98\\nsamples = 20\\nvalue = 3.413'),\n",
       " Text(0.6666666666666666, 0.21428571428571427, 'x[1] <= 14.0\\nsquared_error = 0.198\\nsamples = 85\\nvalue = 2.11'),\n",
       " Text(0.6581196581196581, 0.07142857142857142, 'squared_error = 0.133\\nsamples = 26\\nvalue = 1.893'),\n",
       " Text(0.6752136752136753, 0.07142857142857142, 'squared_error = 0.198\\nsamples = 59\\nvalue = 2.205'),\n",
       " Text(0.717948717948718, 0.35714285714285715, 'x[5] <= 2.711\\nsquared_error = 0.527\\nsamples = 104\\nvalue = 3.139'),\n",
       " Text(0.7008547008547008, 0.21428571428571427, 'x[5] <= 2.579\\nsquared_error = 0.574\\nsamples = 10\\nvalue = 4.059'),\n",
       " Text(0.6923076923076923, 0.07142857142857142, 'squared_error = 0.0\\nsamples = 1\\nvalue = 2.732'),\n",
       " Text(0.7094017094017094, 0.07142857142857142, 'squared_error = 0.421\\nsamples = 9\\nvalue = 4.207'),\n",
       " Text(0.7350427350427351, 0.21428571428571427, 'x[1] <= 35.5\\nsquared_error = 0.422\\nsamples = 94\\nvalue = 3.041'),\n",
       " Text(0.7264957264957265, 0.07142857142857142, 'squared_error = 0.344\\nsamples = 91\\nvalue = 2.987'),\n",
       " Text(0.7435897435897436, 0.07142857142857142, 'squared_error = 0.057\\nsamples = 3\\nvalue = 4.671'),\n",
       " Text(0.8867521367521367, 0.6428571428571429, 'x[0] <= 8.297\\nsquared_error = 0.607\\nsamples = 154\\nvalue = 4.348'),\n",
       " Text(0.8205128205128205, 0.5, 'x[1] <= 23.5\\nsquared_error = 0.658\\nsamples = 75\\nvalue = 3.911'),\n",
       " Text(0.7863247863247863, 0.35714285714285715, 'x[7] <= -122.11\\nsquared_error = 0.435\\nsamples = 36\\nvalue = 3.524'),\n",
       " Text(0.7692307692307693, 0.21428571428571427, 'x[3] <= 1.076\\nsquared_error = 0.217\\nsamples = 4\\nvalue = 4.409'),\n",
       " Text(0.7606837606837606, 0.07142857142857142, 'squared_error = 0.067\\nsamples = 3\\nvalue = 4.644'),\n",
       " Text(0.7777777777777778, 0.07142857142857142, 'squared_error = -0.0\\nsamples = 1\\nvalue = 3.702'),\n",
       " Text(0.8034188034188035, 0.21428571428571427, 'x[4] <= 976.0\\nsquared_error = 0.352\\nsamples = 32\\nvalue = 3.413'),\n",
       " Text(0.7948717948717948, 0.07142857142857142, 'squared_error = 0.103\\nsamples = 8\\nvalue = 2.926'),\n",
       " Text(0.811965811965812, 0.07142857142857142, 'squared_error = 0.33\\nsamples = 24\\nvalue = 3.575'),\n",
       " Text(0.8547008547008547, 0.35714285714285715, 'x[0] <= 7.721\\nsquared_error = 0.598\\nsamples = 39\\nvalue = 4.269'),\n",
       " Text(0.8376068376068376, 0.21428571428571427, 'x[5] <= 2.921\\nsquared_error = 0.588\\nsamples = 26\\nvalue = 3.964'),\n",
       " Text(0.8290598290598291, 0.07142857142857142, 'squared_error = 0.517\\nsamples = 19\\nvalue = 4.202'),\n",
       " Text(0.8461538461538461, 0.07142857142857142, 'squared_error = 0.209\\nsamples = 7\\nvalue = 3.317'),\n",
       " Text(0.8717948717948718, 0.21428571428571427, 'x[3] <= 0.962\\nsquared_error = 0.059\\nsamples = 13\\nvalue = 4.879'),\n",
       " Text(0.8632478632478633, 0.07142857142857142, 'squared_error = 0.001\\nsamples = 2\\nvalue = 4.33'),\n",
       " Text(0.8803418803418803, 0.07142857142857142, 'squared_error = 0.004\\nsamples = 11\\nvalue = 4.979'),\n",
       " Text(0.9529914529914529, 0.5, 'x[6] <= 38.25\\nsquared_error = 0.206\\nsamples = 79\\nvalue = 4.763'),\n",
       " Text(0.9230769230769231, 0.35714285714285715, 'x[0] <= 9.043\\nsquared_error = 0.149\\nsamples = 76\\nvalue = 4.81'),\n",
       " Text(0.905982905982906, 0.21428571428571427, 'x[7] <= -117.925\\nsquared_error = 0.257\\nsamples = 26\\nvalue = 4.58'),\n",
       " Text(0.8974358974358975, 0.07142857142857142, 'squared_error = 0.205\\nsamples = 22\\nvalue = 4.695'),\n",
       " Text(0.9145299145299145, 0.07142857142857142, 'squared_error = 0.069\\nsamples = 4\\nvalue = 3.948'),\n",
       " Text(0.9401709401709402, 0.21428571428571427, 'x[7] <= -117.845\\nsquared_error = 0.052\\nsamples = 50\\nvalue = 4.93'),\n",
       " Text(0.9316239316239316, 0.07142857142857142, 'squared_error = 0.027\\nsamples = 45\\nvalue = 4.965'),\n",
       " Text(0.9487179487179487, 0.07142857142857142, 'squared_error = 0.164\\nsamples = 5\\nvalue = 4.616'),\n",
       " Text(0.9829059829059829, 0.35714285714285715, 'x[4] <= 213.5\\nsquared_error = 0.147\\nsamples = 3\\nvalue = 3.561'),\n",
       " Text(0.9743589743589743, 0.21428571428571427, 'x[2] <= 7.434\\nsquared_error = 0.035\\nsamples = 2\\nvalue = 3.312'),\n",
       " Text(0.9658119658119658, 0.07142857142857142, 'squared_error = 0.0\\nsamples = 1\\nvalue = 3.125'),\n",
       " Text(0.9829059829059829, 0.07142857142857142, 'squared_error = 0.0\\nsamples = 1\\nvalue = 3.5'),\n",
       " Text(0.9914529914529915, 0.21428571428571427, 'squared_error = 0.0\\nsamples = 1\\nvalue = 4.058')]"
      ]
     },
     "execution_count": 31,
     "metadata": {},
     "output_type": "execute_result"
    },
    {
     "data": {
      "image/png": "[encoded data removed]",
      "text/plain": [
       "<Figure size 1200x1000 with 1 Axes>"
      ]
     },
     "metadata": {},
     "output_type": "display_data"
    }
   ],
   "source": [
    "from sklearn import tree\n",
    "plt.figure(figsize=(12,10))\n",
    "tree.plot_tree(final_model,filled=True)"
   ]
  },
  {
   "cell_type": "code",
   "execution_count": 32,
   "id": "91b9e4ca",
   "metadata": {},
   "outputs": [],
   "source": [
    "y_pred=model.predict(x_test)"
   ]
  },
  {
   "cell_type": "code",
   "execution_count": 33,
   "id": "df6eb165",
   "metadata": {},
   "outputs": [
    {
     "data": {
      "text/plain": [
       "array([1.69769072, 2.89768233, 2.01431986, ..., 1.22585517, 1.34578191,\n",
       "       2.62943812])"
      ]
     },
     "execution_count": 33,
     "metadata": {},
     "output_type": "execute_result"
    }
   ],
   "source": [
    "y_pred"
   ]
  },
  {
   "cell_type": "code",
   "execution_count": 34,
   "id": "5046b1ad",
   "metadata": {},
   "outputs": [
    {
     "data": {
      "text/plain": [
       "0.5843595221070566"
      ]
     },
     "execution_count": 34,
     "metadata": {},
     "output_type": "execute_result"
    }
   ],
   "source": [
    "r2_score(y_test, y_pred)"
   ]
  },
  {
   "cell_type": "code",
   "execution_count": null,
   "id": "25e883f8",
   "metadata": {},
   "outputs": [],
   "source": []
  }
 ],
 "metadata": {
  "kernelspec": {
   "display_name": "Python 3 (ipykernel)",
   "language": "python",
   "name": "python3"
  },
  "language_info": {
   "codemirror_mode": {
    "name": "ipython",
    "version": 3
   },
   "file_extension": ".py",
   "mimetype": "text/x-python",
   "name": "python",
   "nbconvert_exporter": "python",
   "pygments_lexer": "ipython3",
   "version": "3.11.4"
  }
 },
 "nbformat": 4,
 "nbformat_minor": 5
}
