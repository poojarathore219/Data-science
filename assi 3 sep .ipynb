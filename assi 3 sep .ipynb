{
 "cells": [
  {
   "cell_type": "markdown",
   "id": "e1fde84c-3ac0-4f1a-9b56-2ef7757fd259",
   "metadata": {},
   "source": [
    "##print the no. from 1 to 10 using for loop"
   ]
  },
  {
   "cell_type": "code",
   "execution_count": 3,
   "id": "fa3cf3c1-781b-4576-a15d-77a30e62f619",
   "metadata": {},
   "outputs": [
    {
     "name": "stdout",
     "output_type": "stream",
     "text": [
      "1 2 3 4 5 6 7 8 9 10 "
     ]
    }
   ],
   "source": [
    "for i in range(1,11):\n",
    "    print(i, end=\" \")"
   ]
  },
  {
   "cell_type": "code",
   "execution_count": 4,
   "id": "4c58a2bd-34d6-41b3-970a-333ab2c62d68",
   "metadata": {},
   "outputs": [],
   "source": [
    "##sum of all no. in the list   using for loop"
   ]
  },
  {
   "cell_type": "code",
   "execution_count": 10,
   "id": "866e7939-9207-48b3-9be9-e7ee59ccb42c",
   "metadata": {},
   "outputs": [
    {
     "name": "stdout",
     "output_type": "stream",
     "text": [
      "55\n"
     ]
    }
   ],
   "source": [
    "total=0\n",
    "l=[1,2,3,4,5,6,7,8,9,10]\n",
    "for i  in range(0,len(l)):\n",
    "    total=total+l[i]\n",
    "print(total)\n",
    "    \n",
    "    \n",
    "    "
   ]
  },
  {
   "cell_type": "code",
   "execution_count": 11,
   "id": "6a7960ba-02a0-458b-a6a4-56022aabad37",
   "metadata": {},
   "outputs": [],
   "source": [
    "##print char of string in revers order  using for loop"
   ]
  },
  {
   "cell_type": "code",
   "execution_count": 24,
   "id": "7010e42a-1db7-4111-987e-f952d697c345",
   "metadata": {},
   "outputs": [
    {
     "name": "stdout",
     "output_type": "stream",
     "text": [
      "sllikswp \n"
     ]
    }
   ],
   "source": [
    "s=\"pwskills\"\n",
    "str=\" \"\n",
    "for i in s:\n",
    "    str=i+str\n",
    "print(str)\n",
    "    "
   ]
  },
  {
   "cell_type": "code",
   "execution_count": 25,
   "id": "553d92a2-6b77-4150-8462-6ab28a3d4c4c",
   "metadata": {},
   "outputs": [],
   "source": [
    "## find factorial of given no using for"
   ]
  },
  {
   "cell_type": "code",
   "execution_count": 28,
   "id": "4be06495-fcec-4137-bdca-0593160bf7bf",
   "metadata": {},
   "outputs": [
    {
     "name": "stdin",
     "output_type": "stream",
     "text": [
      "enter the no: 5\n"
     ]
    },
    {
     "name": "stdout",
     "output_type": "stream",
     "text": [
      "120\n"
     ]
    }
   ],
   "source": [
    "a=int(input(\"enter the no:\"))\n",
    "if a>=1:\n",
    "    fact=1\n",
    "    for i in range(1,a+1):\n",
    "        fact=fact*i\n",
    "    print(fact)\n",
    "        "
   ]
  },
  {
   "cell_type": "code",
   "execution_count": 29,
   "id": "a9c8a065-073e-460d-98f7-b4693824625f",
   "metadata": {},
   "outputs": [],
   "source": [
    "## print multiplication table of given no."
   ]
  },
  {
   "cell_type": "code",
   "execution_count": 15,
   "id": "a5981041-3806-4184-9ce9-60519c60d5da",
   "metadata": {},
   "outputs": [
    {
     "name": "stdin",
     "output_type": "stream",
     "text": [
      "enter the no: 6\n"
     ]
    },
    {
     "name": "stdout",
     "output_type": "stream",
     "text": [
      "6*1=6\n",
      "6*2=12\n",
      "6*3=18\n",
      "6*4=24\n",
      "6*5=30\n",
      "6*6=36\n",
      "6*7=42\n",
      "6*8=48\n",
      "6*9=54\n",
      "6*10=60\n"
     ]
    }
   ],
   "source": [
    "a=int(input(\"enter the no:\"))\n",
    "for i in range(1,11):\n",
    "    print(\"{}*{}={}\".format(a,i,(a*i)))"
   ]
  },
  {
   "cell_type": "code",
   "execution_count": 17,
   "id": "e2ae1ff9-997d-4aad-89ce-1362e663cb3f",
   "metadata": {},
   "outputs": [],
   "source": [
    "## count no even or odd using for loop"
   ]
  },
  {
   "cell_type": "code",
   "execution_count": 35,
   "id": "d6108009-fcf9-4033-9ac7-d3d48fcec2af",
   "metadata": {},
   "outputs": [
    {
     "ename": "NameError",
     "evalue": "name 'even_count' is not defined",
     "output_type": "error",
     "traceback": [
      "\u001b[0;31m---------------------------------------------------------------------------\u001b[0m",
      "\u001b[0;31mNameError\u001b[0m                                 Traceback (most recent call last)",
      "Cell \u001b[0;32mIn[35], line 3\u001b[0m\n\u001b[1;32m      1\u001b[0m l\u001b[38;5;241m=\u001b[39m[\u001b[38;5;241m1\u001b[39m,\u001b[38;5;241m2\u001b[39m,\u001b[38;5;241m3\u001b[39m,\u001b[38;5;241m4\u001b[39m,\u001b[38;5;241m5\u001b[39m,\u001b[38;5;241m6\u001b[39m,\u001b[38;5;241m7\u001b[39m,\u001b[38;5;241m8\u001b[39m]\n\u001b[0;32m----> 3\u001b[0m \u001b[43meven_count\u001b[49m\u001b[38;5;241m==\u001b[39m\u001b[38;5;241m0\u001b[39m, odd_count\u001b[38;5;241m==\u001b[39m\u001b[38;5;241m0\u001b[39m\n\u001b[1;32m      4\u001b[0m \u001b[38;5;28;01mfor\u001b[39;00m i \u001b[38;5;129;01min\u001b[39;00m l:\n\u001b[1;32m      5\u001b[0m     \u001b[38;5;28;01mif\u001b[39;00m i\u001b[38;5;241m%\u001b[39m\u001b[38;5;241m2\u001b[39m\u001b[38;5;241m==\u001b[39m\u001b[38;5;241m0\u001b[39m:\n",
      "\u001b[0;31mNameError\u001b[0m: name 'even_count' is not defined"
     ]
    }
   ],
   "source": [
    "l=[1,2,3,4,5,6,7,8]\n",
    "      \n",
    "even_count==0, odd_count==0\n",
    "for i in l:\n",
    "    if i%2==0:\n",
    "        even_count+=1\n",
    "    else:\n",
    "            odd_count+=1\n",
    "    print(\"total even no:\", even_count)\n",
    "    print(\"total odd no:\" ,odd_count)"
   ]
  },
  {
   "cell_type": "code",
   "execution_count": 26,
   "id": "fb084139-acc8-4f6b-968b-322627a6cc70",
   "metadata": {},
   "outputs": [],
   "source": [
    "##print the sqyre of no 1 to 5"
   ]
  },
  {
   "cell_type": "code",
   "execution_count": 27,
   "id": "b9ad6ea3-d854-4330-878c-58992429c08b",
   "metadata": {},
   "outputs": [
    {
     "name": "stdout",
     "output_type": "stream",
     "text": [
      "1\n",
      "4\n",
      "9\n",
      "16\n",
      "25\n"
     ]
    }
   ],
   "source": [
    "for i in range(1,6):\n",
    "    a=i*i\n",
    "    print(a)"
   ]
  },
  {
   "cell_type": "markdown",
   "id": "00745b3c-71fb-4133-beda-fd36d21e5954",
   "metadata": {},
   "source": [
    "## 8).find length of string without using len()\n"
   ]
  },
  {
   "cell_type": "code",
   "execution_count": 47,
   "id": "b4187f2e-ee9b-48e9-8372-4935c99215e8",
   "metadata": {},
   "outputs": [
    {
     "name": "stdin",
     "output_type": "stream",
     "text": [
      "enter the string: pooja\n"
     ]
    },
    {
     "name": "stdout",
     "output_type": "stream",
     "text": [
      "length of string: 5\n"
     ]
    }
   ],
   "source": [
    "a=input(\"enter the string:\")\n",
    "count=0\n",
    "for i in a:\n",
    "    count=count+1\n",
    "    \n",
    "print(\"length of string:\",  count)\n",
    "    "
   ]
  },
  {
   "cell_type": "code",
   "execution_count": 48,
   "id": "78bc8d96-08fa-428d-b6f1-4d1c6abe2e89",
   "metadata": {},
   "outputs": [],
   "source": [
    "## calculate the average of list of no. using for loop"
   ]
  },
  {
   "cell_type": "code",
   "execution_count": 52,
   "id": "53e0c6ec-8b57-4f72-b1e9-2df62bed565f",
   "metadata": {},
   "outputs": [
    {
     "name": "stdout",
     "output_type": "stream",
     "text": [
      "4.0\n"
     ]
    }
   ],
   "source": [
    "l=[1,2,3,4,5,6,7]\n",
    "for i in l:\n",
    "    b=sum(l)/len(l)\n",
    "    \n",
    "print(b)\n",
    "    "
   ]
  },
  {
   "cell_type": "code",
   "execution_count": 2,
   "id": "35b9c9d5-b0bd-45d0-8c4a-a673e421a05a",
   "metadata": {},
   "outputs": [],
   "source": [
    "## 11. check if a given listcontain duplicates"
   ]
  },
  {
   "cell_type": "code",
   "execution_count": 7,
   "id": "434f2a06-5a21-4e56-b4fd-2a3e5012d92b",
   "metadata": {},
   "outputs": [
    {
     "name": "stdout",
     "output_type": "stream",
     "text": [
      "[1, 2, 5]\n"
     ]
    }
   ],
   "source": [
    "l=[1,2,3,1,2,4,5,6,5]\n",
    "list=[]\n",
    "dupli=[]\n",
    "for i in l:\n",
    "    if i not in list:\n",
    "        list.append(i)\n",
    "    else:\n",
    "            dupli.append(i)\n",
    "print(dupli)"
   ]
  },
  {
   "cell_type": "code",
   "execution_count": 8,
   "id": "d85904f9-5df9-4cd8-8ded-37646b6b0d21",
   "metadata": {},
   "outputs": [],
   "source": [
    "## print prim np. to given any range"
   ]
  },
  {
   "cell_type": "code",
   "execution_count": 62,
   "id": "93adeb00-1dcb-45a6-b7e6-de7d278e24e6",
   "metadata": {},
   "outputs": [
    {
     "name": "stdout",
     "output_type": "stream",
     "text": [
      "2\n",
      "3\n",
      "5\n",
      "7\n"
     ]
    }
   ],
   "source": [
    "for i in range(2,10):\n",
    "    for j in range(2,i):\n",
    "        if i%j==0:\n",
    "            break\n",
    "    else:\n",
    "           print(i)\n",
    "                                    \n",
    "               \n"
   ]
  },
  {
   "cell_type": "code",
   "execution_count": 31,
   "id": "4e24ae64-2563-4973-b446-04708b77da4b",
   "metadata": {},
   "outputs": [],
   "source": [
    "## count vowel using for loop\n",
    "## print fabonacci no"
   ]
  },
  {
   "cell_type": "code",
   "execution_count": 62,
   "id": "c6fb160f-6ffb-4fa7-89b1-6fe6034e84bf",
   "metadata": {},
   "outputs": [
    {
     "name": "stdin",
     "output_type": "stream",
     "text": [
      "enter the string: pooja\n"
     ]
    },
    {
     "name": "stdout",
     "output_type": "stream",
     "text": [
      "count: 3\n"
     ]
    }
   ],
   "source": [
    "s=input(\"enter the string:\")\n",
    "count=0\n",
    "\n",
    "for i in s:\n",
    "     if i in \"aAeEiIoOuU\":\n",
    "        count+=1\n",
    "        \n",
    "print(\"count:\",count)\n",
    "        \n",
    "    \n",
    "    \n"
   ]
  },
  {
   "cell_type": "code",
   "execution_count": 50,
   "id": "042b0bb8-b7ef-4895-b156-7da667d06ea7",
   "metadata": {},
   "outputs": [],
   "source": [
    "## find maximum ele  in a given 2D list using nested a for loop"
   ]
  },
  {
   "cell_type": "code",
   "execution_count": 73,
   "id": "23a4d9bf-8831-4445-a991-68a799423e1d",
   "metadata": {},
   "outputs": [
    {
     "name": "stdout",
     "output_type": "stream",
     "text": [
      "9\n"
     ]
    }
   ],
   "source": [
    "matrix=[[1,2,3],[4,5,6],[7,8,9]]\n",
    "max_ele=matrix[0][0]\n",
    "for row in matrix:\n",
    "    for ele in row:\n",
    "        if ele>max_ele:\n",
    "            max_ele=ele\n",
    "            \n",
    "print(max_ele)\n",
    "    "
   ]
  },
  {
   "cell_type": "code",
   "execution_count": 12,
   "id": "8b04dfe2-72f6-4a7e-8bb2-7a00f4ff9688",
   "metadata": {},
   "outputs": [
    {
     "name": "stdout",
     "output_type": "stream",
     "text": [
      "[2, 3]\n"
     ]
    }
   ],
   "source": [
    "## to [rint the comman ele from two list\n",
    "l1=[1,2,3,4]\n",
    "l2=[2,5,6,3]\n",
    "l=[]\n",
    "for i in l1:\n",
    "    for j in l2:\n",
    "        \n",
    "        if i==j:\n",
    "            l.append(i)\n",
    "        \n",
    "print(l)"
   ]
  },
  {
   "cell_type": "code",
   "execution_count": 13,
   "id": "aeed4f4f-79f3-43da-9cb1-c4d76f81904f",
   "metadata": {},
   "outputs": [],
   "source": [
    "## print yhe pattern of right angled triangle using a for loop use(* to draw)"
   ]
  },
  {
   "cell_type": "code",
   "execution_count": 23,
   "id": "bffbd19d-41a2-4d84-9ed5-f06942d980af",
   "metadata": {},
   "outputs": [
    {
     "name": "stdin",
     "output_type": "stream",
     "text": [
      "enter the no. of rows: 5\n"
     ]
    },
    {
     "name": "stdout",
     "output_type": "stream",
     "text": [
      "\n",
      "*\n",
      "**\n",
      "***\n",
      "****\n",
      "*****\n"
     ]
    }
   ],
   "source": [
    "num=int(input(\"enter the no. of rows:\"))\n",
    "for i in range(1,num+1):\n",
    "    for j in range(1,i+1):\n",
    "        print(\"*\",end=\"\")\n",
    "    print()"
   ]
  },
  {
   "cell_type": "code",
   "execution_count": 25,
   "id": "ac551354-9d30-4f2b-98a6-9b45fcef8c63",
   "metadata": {},
   "outputs": [
    {
     "name": "stdin",
     "output_type": "stream",
     "text": [
      "enter the no. of rows: 8\n"
     ]
    },
    {
     "name": "stdout",
     "output_type": "stream",
     "text": [
      "********\n",
      "*******\n",
      "******\n",
      "*****\n",
      "****\n",
      "***\n",
      "**\n",
      "*\n"
     ]
    }
   ],
   "source": [
    "num=int(input(\"enter the no. of rows:\"))\n",
    "for i in range(num,0,-1):\n",
    "    for j in range(0,i):\n",
    "        print(\"*\",end=\"\")\n",
    "    print()"
   ]
  },
  {
   "cell_type": "code",
   "execution_count": 26,
   "id": "f3e7d013-514b-4835-8213-42e4005da5dd",
   "metadata": {},
   "outputs": [],
   "source": [
    "## find greater comman divisor of two no"
   ]
  },
  {
   "cell_type": "code",
   "execution_count": 35,
   "id": "926c7ae5-4904-4adf-ab94-4d35973f0aed",
   "metadata": {},
   "outputs": [
    {
     "name": "stdin",
     "output_type": "stream",
     "text": [
      "enter the first no 2\n",
      "enter the second no 4\n"
     ]
    },
    {
     "name": "stdout",
     "output_type": "stream",
     "text": [
      "1\n",
      "2\n"
     ]
    }
   ],
   "source": [
    "a=int(input(\"enter the first no\"))\n",
    "b=int(input(\"enter the second no\"))\n",
    "n=min(a,b)\n",
    "gcd=0\n",
    "for i in range(1,n+1):\n",
    "    if a%i==0 and b%i==0:\n",
    "        gcd=i\n",
    "        print(i)"
   ]
  },
  {
   "cell_type": "code",
   "execution_count": 36,
   "id": "c3468e39-c7a7-4b13-a94f-b05001a157d3",
   "metadata": {},
   "outputs": [
    {
     "name": "stdin",
     "output_type": "stream",
     "text": [
      "enter the first no 2\n",
      "enter the second no 4\n"
     ]
    },
    {
     "name": "stdout",
     "output_type": "stream",
     "text": [
      "2\n",
      "3\n"
     ]
    }
   ],
   "source": [
    "a=int(input(\"enter the first no\"))\n",
    "b=int(input(\"enter the second no\"))\n",
    "i=1\n",
    "while(i<=a and i<=b):                                ## problem code\n",
    "    if (a%i==0 and b%i==0):\n",
    "        i=i+1\n",
    "        print(i)"
   ]
  },
  {
   "cell_type": "code",
   "execution_count": 2,
   "id": "56019a9e-4b9e-41d2-8364-d4a67d8f1972",
   "metadata": {},
   "outputs": [],
   "source": [
    "##calculate the of the digits of no. in a list using list comprehension"
   ]
  },
  {
   "cell_type": "code",
   "execution_count": 4,
   "id": "f069205f-077d-4186-9f57-0be88b311488",
   "metadata": {},
   "outputs": [],
   "source": [
    "l=[1,2,3,4,5,6] \n",
    "a=[sum(l) for i in l ]"
   ]
  },
  {
   "cell_type": "code",
   "execution_count": 6,
   "id": "0ec410b2-1933-4f11-913a-a2b73f6da173",
   "metadata": {},
   "outputs": [
    {
     "data": {
      "text/plain": [
       "21"
      ]
     },
     "execution_count": 6,
     "metadata": {},
     "output_type": "execute_result"
    }
   ],
   "source": [
    "sum(l)"
   ]
  },
  {
   "cell_type": "code",
   "execution_count": 7,
   "id": "9bf36f48-cea5-4f98-8fab-065f635f8ef2",
   "metadata": {},
   "outputs": [],
   "source": [
    "## find prim factor of given no using for loop & list comprehension"
   ]
  },
  {
   "cell_type": "code",
   "execution_count": 5,
   "id": "3f903b21-ffc4-4f49-a8d0-b94f131e8079",
   "metadata": {},
   "outputs": [
    {
     "name": "stdin",
     "output_type": "stream",
     "text": [
      " 15\n"
     ]
    },
    {
     "data": {
      "text/plain": [
       "[2, 3, 5, 7, 11, 13]"
      ]
     },
     "execution_count": 5,
     "metadata": {},
     "output_type": "execute_result"
    }
   ],
   "source": [
    "[i for i in range(2, int(input())) if all(i % j != 0 for j in range(2, i))]"
   ]
  },
  {
   "cell_type": "code",
   "execution_count": 11,
   "id": "54ae5577-6832-437e-bb40-3855336413f2",
   "metadata": {},
   "outputs": [],
   "source": [
    "## extract unique ele from list using list comprehension "
   ]
  },
  {
   "cell_type": "code",
   "execution_count": 20,
   "id": "b1322fbd-3086-4c36-91f9-de66e145d45a",
   "metadata": {},
   "outputs": [
    {
     "name": "stdout",
     "output_type": "stream",
     "text": [
      "[1, 2, 3, 4, 5]\n"
     ]
    }
   ],
   "source": [
    "l=[1,2,3,2,4,5,5]\n",
    "l1=[]\n",
    "for i in l:\n",
    "    if i not in l1:\n",
    "        l1.append(i)\n",
    "        \n",
    "print(l1)"
   ]
  },
  {
   "cell_type": "code",
   "execution_count": 3,
   "id": "6bbcf39a-e908-48ce-a20b-223c748863ed",
   "metadata": {},
   "outputs": [
    {
     "name": "stdout",
     "output_type": "stream",
     "text": [
      "[1, 2, 3, 4, 5]\n"
     ]
    }
   ],
   "source": [
    "l=[1,2,3,2,4,5,5]\n",
    "l1=[]\n",
    "[l1.append(i) for i in l if i not in l1]\n",
    "print(l1)"
   ]
  },
  {
   "cell_type": "code",
   "execution_count": 22,
   "id": "2fa5739b-8ed5-44e5-93b2-864dbcbf36f3",
   "metadata": {},
   "outputs": [],
   "source": [
    "## genrat all palindromic no using list comprehension"
   ]
  },
  {
   "cell_type": "code",
   "execution_count": 7,
   "id": "aee92d94-fe05-441c-8844-0cf5db9c9959",
   "metadata": {},
   "outputs": [
    {
     "ename": "IndentationError",
     "evalue": "expected an indented block after 'if' statement on line 3 (3347511152.py, line 4)",
     "output_type": "error",
     "traceback": [
      "\u001b[0;36m  Cell \u001b[0;32mIn[7], line 4\u001b[0;36m\u001b[0m\n\u001b[0;31m    print(i)\u001b[0m\n\u001b[0m    ^\u001b[0m\n\u001b[0;31mIndentationError\u001b[0m\u001b[0;31m:\u001b[0m expected an indented block after 'if' statement on line 3\n"
     ]
    }
   ],
   "source": [
    "for i in range(10,50):\n",
    "    count=0\n",
    "if str(i)==str(i)[::-1]:\n",
    "print(i)\n",
    "    count=count+1\n",
    "    \n",
    "print(count)"
   ]
  },
  {
   "cell_type": "markdown",
   "id": "7e306688-0d01-4578-a8e3-b72f5c77c1c4",
   "metadata": {
    "tags": []
   },
   "source": [
    "## problam"
   ]
  },
  {
   "cell_type": "code",
   "execution_count": 32,
   "id": "c543f46e-17c5-4ea8-83f6-fb9c967cbf87",
   "metadata": {},
   "outputs": [],
   "source": [
    "## flatten a list using list comprehension"
   ]
  },
  {
   "cell_type": "code",
   "execution_count": 2,
   "id": "2a73c438-457e-4798-85a7-7447d61e66ef",
   "metadata": {},
   "outputs": [
    {
     "name": "stdout",
     "output_type": "stream",
     "text": [
      "[1, 2, 3, 4, 5, 6]\n"
     ]
    }
   ],
   "source": [
    "l=[[1],[2,3],[4,5,6]]\n",
    "l1=[]\n",
    "for i in l:\n",
    "    for j in i:\n",
    "        l1.append(j)\n",
    "        \n",
    "print(l1)"
   ]
  },
  {
   "cell_type": "code",
   "execution_count": 4,
   "id": "77195c55-c4bd-45cd-be67-0cc17e2fd12e",
   "metadata": {},
   "outputs": [
    {
     "data": {
      "text/plain": [
       "[None, None, None, None, None, None]"
      ]
     },
     "execution_count": 4,
     "metadata": {},
     "output_type": "execute_result"
    }
   ],
   "source": [
    "[(l1).append(j) for i in l for j in i ]"
   ]
  },
  {
   "cell_type": "code",
   "execution_count": 45,
   "id": "bfdac85d-b988-4476-852e-4f4173d3d38f",
   "metadata": {},
   "outputs": [],
   "source": [
    "## sum of even no or odd no in seprate list using list comprehension"
   ]
  },
  {
   "cell_type": "code",
   "execution_count": 59,
   "id": "ee31b074-0479-44bd-a806-488c018833b6",
   "metadata": {},
   "outputs": [
    {
     "name": "stdout",
     "output_type": "stream",
     "text": [
      "20\n",
      "25\n"
     ]
    }
   ],
   "source": [
    " l1=[]\n",
    "l2=[]\n",
    "for i in range(1,10):\n",
    "    if i%2==0:\n",
    "        l1.append(i)\n",
    "    else:\n",
    "        l2.append(i)\n",
    "print(sum(l1))\n",
    "print(sum(l2))\n",
    "        \n",
    "                                             ## how to make it with list comprehesion"
   ]
  },
  {
   "cell_type": "code",
   "execution_count": 63,
   "id": "05afc9e5-d3ea-4c28-8f5a-60b8cb00ec45",
   "metadata": {},
   "outputs": [],
   "source": [
    "## list of squere of odd no between 1 to 10 with list comprehension"
   ]
  },
  {
   "cell_type": "code",
   "execution_count": 64,
   "id": "2f657565-361a-4ff6-a488-82f94ca43055",
   "metadata": {},
   "outputs": [
    {
     "data": {
      "text/plain": [
       "[1, 9, 25, 49, 81]"
      ]
     },
     "execution_count": 64,
     "metadata": {},
     "output_type": "execute_result"
    }
   ],
   "source": [
    "[i*i for i in range(1,10) if i%2!=0 ]"
   ]
  },
  {
   "cell_type": "code",
   "execution_count": 9,
   "id": "57b010b9-10a5-4be4-938a-ac00aa9acce7",
   "metadata": {},
   "outputs": [],
   "source": [
    "## extract the vowels from a string store  in a list using list comprehension"
   ]
  },
  {
   "cell_type": "code",
   "execution_count": 13,
   "id": "3de1f5ae-5b48-4015-9ff7-3e3562f5e667",
   "metadata": {},
   "outputs": [
    {
     "data": {
      "text/plain": [
       "[]"
      ]
     },
     "execution_count": 13,
     "metadata": {},
     "output_type": "execute_result"
    }
   ],
   "source": [
    "s=\"pwskills\"\n",
    "l=[]\n",
    "[l.append(i) for i in s if i=='aAeEiIoOuU']"
   ]
  },
  {
   "cell_type": "code",
   "execution_count": null,
   "id": "4342e51d-2edc-4ab8-956f-f1331bf813ef",
   "metadata": {},
   "outputs": [],
   "source": []
  }
 ],
 "metadata": {
  "kernelspec": {
   "display_name": "Python 3 (ipykernel)",
   "language": "python",
   "name": "python3"
  },
  "language_info": {
   "codemirror_mode": {
    "name": "ipython",
    "version": 3
   },
   "file_extension": ".py",
   "mimetype": "text/x-python",
   "name": "python",
   "nbconvert_exporter": "python",
   "pygments_lexer": "ipython3",
   "version": "3.10.8"
  }
 },
 "nbformat": 4,
 "nbformat_minor": 5
}
