{
 "cells": [
  {
   "cell_type": "code",
   "execution_count": 3,
   "id": "fa21d626",
   "metadata": {},
   "outputs": [],
   "source": [
    "from sklearn.datasets import make_classification\n",
    "from sklearn.model_selection import train_test_split\n",
    "from sklearn.ensemble import AdaBoostClassifier,AdaBoostRegressor\n",
    "from sklearn.metrics import accuracy_score,classification_report,confusion_matrix,r2_score"
   ]
  },
  {
   "cell_type": "code",
   "execution_count": 4,
   "id": "3abebc47",
   "metadata": {},
   "outputs": [],
   "source": [
    "import warnings\n",
    "warnings.filterwarnings('ignore')"
   ]
  },
  {
   "cell_type": "code",
   "execution_count": 6,
   "id": "89241d4c",
   "metadata": {},
   "outputs": [],
   "source": [
    "x, y = make_classification(n_samples=1000, n_features=20, n_classes=2, random_state=1)"
   ]
  },
  {
   "cell_type": "code",
   "execution_count": 9,
   "id": "0903e414",
   "metadata": {},
   "outputs": [],
   "source": [
    "x_train, x_test, y_train, y_test = train_test_split(x, y, test_size = 0.33, random_state=1)"
   ]
  },
  {
   "cell_type": "code",
   "execution_count": 10,
   "id": "95c58f74",
   "metadata": {},
   "outputs": [],
   "source": [
    "classifier=AdaBoostClassifier()"
   ]
  },
  {
   "cell_type": "code",
   "execution_count": 13,
   "id": "c7efc477",
   "metadata": {},
   "outputs": [
    {
     "data": {
      "text/html": [
       "<style>#sk-container-id-1 {color: black;}#sk-container-id-1 pre{padding: 0;}#sk-container-id-1 div.sk-toggleable {background-color: white;}#sk-container-id-1 label.sk-toggleable__label {cursor: pointer;display: block;width: 100%;margin-bottom: 0;padding: 0.3em;box-sizing: border-box;text-align: center;}#sk-container-id-1 label.sk-toggleable__label-arrow:before {content: \"▸\";float: left;margin-right: 0.25em;color: #696969;}#sk-container-id-1 label.sk-toggleable__label-arrow:hover:before {color: black;}#sk-container-id-1 div.sk-estimator:hover label.sk-toggleable__label-arrow:before {color: black;}#sk-container-id-1 div.sk-toggleable__content {max-height: 0;max-width: 0;overflow: hidden;text-align: left;background-color: #f0f8ff;}#sk-container-id-1 div.sk-toggleable__content pre {margin: 0.2em;color: black;border-radius: 0.25em;background-color: #f0f8ff;}#sk-container-id-1 input.sk-toggleable__control:checked~div.sk-toggleable__content {max-height: 200px;max-width: 100%;overflow: auto;}#sk-container-id-1 input.sk-toggleable__control:checked~label.sk-toggleable__label-arrow:before {content: \"▾\";}#sk-container-id-1 div.sk-estimator input.sk-toggleable__control:checked~label.sk-toggleable__label {background-color: #d4ebff;}#sk-container-id-1 div.sk-label input.sk-toggleable__control:checked~label.sk-toggleable__label {background-color: #d4ebff;}#sk-container-id-1 input.sk-hidden--visually {border: 0;clip: rect(1px 1px 1px 1px);clip: rect(1px, 1px, 1px, 1px);height: 1px;margin: -1px;overflow: hidden;padding: 0;position: absolute;width: 1px;}#sk-container-id-1 div.sk-estimator {font-family: monospace;background-color: #f0f8ff;border: 1px dotted black;border-radius: 0.25em;box-sizing: border-box;margin-bottom: 0.5em;}#sk-container-id-1 div.sk-estimator:hover {background-color: #d4ebff;}#sk-container-id-1 div.sk-parallel-item::after {content: \"\";width: 100%;border-bottom: 1px solid gray;flex-grow: 1;}#sk-container-id-1 div.sk-label:hover label.sk-toggleable__label {background-color: #d4ebff;}#sk-container-id-1 div.sk-serial::before {content: \"\";position: absolute;border-left: 1px solid gray;box-sizing: border-box;top: 0;bottom: 0;left: 50%;z-index: 0;}#sk-container-id-1 div.sk-serial {display: flex;flex-direction: column;align-items: center;background-color: white;padding-right: 0.2em;padding-left: 0.2em;position: relative;}#sk-container-id-1 div.sk-item {position: relative;z-index: 1;}#sk-container-id-1 div.sk-parallel {display: flex;align-items: stretch;justify-content: center;background-color: white;position: relative;}#sk-container-id-1 div.sk-item::before, #sk-container-id-1 div.sk-parallel-item::before {content: \"\";position: absolute;border-left: 1px solid gray;box-sizing: border-box;top: 0;bottom: 0;left: 50%;z-index: -1;}#sk-container-id-1 div.sk-parallel-item {display: flex;flex-direction: column;z-index: 1;position: relative;background-color: white;}#sk-container-id-1 div.sk-parallel-item:first-child::after {align-self: flex-end;width: 50%;}#sk-container-id-1 div.sk-parallel-item:last-child::after {align-self: flex-start;width: 50%;}#sk-container-id-1 div.sk-parallel-item:only-child::after {width: 0;}#sk-container-id-1 div.sk-dashed-wrapped {border: 1px dashed gray;margin: 0 0.4em 0.5em 0.4em;box-sizing: border-box;padding-bottom: 0.4em;background-color: white;}#sk-container-id-1 div.sk-label label {font-family: monospace;font-weight: bold;display: inline-block;line-height: 1.2em;}#sk-container-id-1 div.sk-label-container {text-align: center;}#sk-container-id-1 div.sk-container {/* jupyter's `normalize.less` sets `[hidden] { display: none; }` but bootstrap.min.css set `[hidden] { display: none !important; }` so we also need the `!important` here to be able to override the default hidden behavior on the sphinx rendered scikit-learn.org. See: https://github.com/scikit-learn/scikit-learn/issues/21755 */display: inline-block !important;position: relative;}#sk-container-id-1 div.sk-text-repr-fallback {display: none;}</style><div id=\"sk-container-id-1\" class=\"sk-top-container\"><div class=\"sk-text-repr-fallback\"><pre>AdaBoostClassifier()</pre><b>In a Jupyter environment, please rerun this cell to show the HTML representation or trust the notebook. <br />On GitHub, the HTML representation is unable to render, please try loading this page with nbviewer.org.</b></div><div class=\"sk-container\" hidden><div class=\"sk-item\"><div class=\"sk-estimator sk-toggleable\"><input class=\"sk-toggleable__control sk-hidden--visually\" id=\"sk-estimator-id-1\" type=\"checkbox\" checked><label for=\"sk-estimator-id-1\" class=\"sk-toggleable__label sk-toggleable__label-arrow\">AdaBoostClassifier</label><div class=\"sk-toggleable__content\"><pre>AdaBoostClassifier()</pre></div></div></div></div></div>"
      ],
      "text/plain": [
       "AdaBoostClassifier()"
      ]
     },
     "execution_count": 13,
     "metadata": {},
     "output_type": "execute_result"
    }
   ],
   "source": [
    "classifier.fit(x_train,y_train)\n",
    "              "
   ]
  },
  {
   "cell_type": "code",
   "execution_count": 14,
   "id": "612ee646",
   "metadata": {},
   "outputs": [],
   "source": [
    "y_pred=classifier.predict(x_test)"
   ]
  },
  {
   "cell_type": "code",
   "execution_count": 15,
   "id": "d8eae48b",
   "metadata": {},
   "outputs": [
    {
     "data": {
      "text/plain": [
       "array([0, 1, 1, 1, 1, 0, 1, 0, 0, 0, 1, 1, 1, 0, 1, 0, 1, 0, 0, 0, 0, 1,\n",
       "       0, 1, 1, 1, 1, 0, 0, 1, 1, 1, 0, 1, 0, 0, 0, 1, 0, 1, 1, 0, 1, 1,\n",
       "       0, 0, 0, 1, 0, 1, 1, 1, 1, 1, 0, 0, 1, 1, 1, 0, 0, 0, 0, 0, 1, 1,\n",
       "       0, 1, 1, 0, 1, 1, 0, 0, 1, 1, 1, 0, 1, 1, 1, 1, 0, 1, 1, 1, 1, 0,\n",
       "       1, 1, 1, 1, 0, 0, 1, 0, 0, 1, 0, 0, 1, 0, 1, 0, 0, 0, 0, 0, 1, 1,\n",
       "       1, 1, 0, 0, 0, 0, 1, 1, 0, 0, 0, 0, 1, 1, 1, 1, 0, 0, 1, 1, 1, 1,\n",
       "       1, 0, 1, 1, 0, 1, 1, 1, 1, 1, 1, 1, 0, 0, 0, 0, 1, 0, 1, 0, 0, 0,\n",
       "       0, 0, 1, 1, 1, 0, 0, 0, 0, 1, 1, 1, 1, 0, 1, 0, 0, 1, 0, 1, 0, 0,\n",
       "       1, 0, 0, 0, 1, 0, 1, 1, 0, 1, 0, 1, 0, 1, 0, 0, 0, 0, 0, 0, 0, 0,\n",
       "       1, 1, 1, 0, 1, 1, 1, 0, 0, 0, 0, 1, 1, 1, 0, 1, 0, 0, 0, 1, 0, 0,\n",
       "       0, 0, 1, 1, 0, 0, 0, 1, 1, 1, 0, 0, 1, 0, 1, 0, 1, 1, 1, 1, 0, 0,\n",
       "       1, 0, 0, 0, 0, 1, 0, 1, 0, 1, 1, 0, 0, 1, 1, 0, 0, 1, 0, 0, 1, 1,\n",
       "       0, 1, 0, 0, 0, 1, 1, 0, 1, 1, 1, 1, 0, 0, 0, 0, 0, 0, 1, 1, 0, 1,\n",
       "       1, 0, 0, 1, 1, 0, 0, 0, 1, 0, 1, 1, 1, 1, 1, 0, 1, 0, 0, 1, 0, 1,\n",
       "       0, 1, 1, 0, 1, 1, 1, 1, 0, 0, 0, 0, 1, 1, 1, 1, 1, 1, 0, 0, 1, 1])"
      ]
     },
     "execution_count": 15,
     "metadata": {},
     "output_type": "execute_result"
    }
   ],
   "source": [
    "y_pred"
   ]
  },
  {
   "cell_type": "code",
   "execution_count": 16,
   "id": "522bf130",
   "metadata": {},
   "outputs": [
    {
     "data": {
      "text/plain": [
       "0.8090909090909091"
      ]
     },
     "execution_count": 16,
     "metadata": {},
     "output_type": "execute_result"
    }
   ],
   "source": [
    "accuracy_score(y_test,y_pred)"
   ]
  },
  {
   "cell_type": "code",
   "execution_count": 17,
   "id": "9685168f",
   "metadata": {},
   "outputs": [
    {
     "data": {
      "text/plain": [
       "'              precision    recall  f1-score   support\\n\\n           0       0.78      0.82      0.80       154\\n           1       0.83      0.80      0.82       176\\n\\n    accuracy                           0.81       330\\n   macro avg       0.81      0.81      0.81       330\\nweighted avg       0.81      0.81      0.81       330\\n'"
      ]
     },
     "execution_count": 17,
     "metadata": {},
     "output_type": "execute_result"
    }
   ],
   "source": [
    "classification_report(y_test,y_pred)"
   ]
  },
  {
   "cell_type": "code",
   "execution_count": 18,
   "id": "a1f0cd29",
   "metadata": {},
   "outputs": [
    {
     "data": {
      "text/plain": [
       "array([[126,  28],\n",
       "       [ 35, 141]], dtype=int64)"
      ]
     },
     "execution_count": 18,
     "metadata": {},
     "output_type": "execute_result"
    }
   ],
   "source": [
    "confusion_matrix(y_test,y_pred)"
   ]
  },
  {
   "cell_type": "code",
   "execution_count": 32,
   "id": "7ad9be29",
   "metadata": {},
   "outputs": [],
   "source": [
    "from sklearn.model_selection import GridSearchCV\n",
    "params={\"n_estimators\":[50,100,200],\n",
    "         \"learning_rate\":[0.001 ,0.1,1,1.52,2.5],\n",
    "          \"algorithm\":[\"SAMME.R\",\"SAMME\"]}\n",
    "\n"
   ]
  },
  {
   "cell_type": "code",
   "execution_count": 33,
   "id": "c110c793",
   "metadata": {},
   "outputs": [],
   "source": [
    "ada=AdaBoostClassifier()"
   ]
  },
  {
   "cell_type": "code",
   "execution_count": 37,
   "id": "3993d7ae",
   "metadata": {},
   "outputs": [],
   "source": [
    "clf=GridSearchCV(estimator=ada,param_grid=params,cv=5,verbose=3)"
   ]
  },
  {
   "cell_type": "code",
   "execution_count": 38,
   "id": "beae0422",
   "metadata": {},
   "outputs": [
    {
     "data": {
      "text/html": [
       "<style>#sk-container-id-2 {color: black;}#sk-container-id-2 pre{padding: 0;}#sk-container-id-2 div.sk-toggleable {background-color: white;}#sk-container-id-2 label.sk-toggleable__label {cursor: pointer;display: block;width: 100%;margin-bottom: 0;padding: 0.3em;box-sizing: border-box;text-align: center;}#sk-container-id-2 label.sk-toggleable__label-arrow:before {content: \"▸\";float: left;margin-right: 0.25em;color: #696969;}#sk-container-id-2 label.sk-toggleable__label-arrow:hover:before {color: black;}#sk-container-id-2 div.sk-estimator:hover label.sk-toggleable__label-arrow:before {color: black;}#sk-container-id-2 div.sk-toggleable__content {max-height: 0;max-width: 0;overflow: hidden;text-align: left;background-color: #f0f8ff;}#sk-container-id-2 div.sk-toggleable__content pre {margin: 0.2em;color: black;border-radius: 0.25em;background-color: #f0f8ff;}#sk-container-id-2 input.sk-toggleable__control:checked~div.sk-toggleable__content {max-height: 200px;max-width: 100%;overflow: auto;}#sk-container-id-2 input.sk-toggleable__control:checked~label.sk-toggleable__label-arrow:before {content: \"▾\";}#sk-container-id-2 div.sk-estimator input.sk-toggleable__control:checked~label.sk-toggleable__label {background-color: #d4ebff;}#sk-container-id-2 div.sk-label input.sk-toggleable__control:checked~label.sk-toggleable__label {background-color: #d4ebff;}#sk-container-id-2 input.sk-hidden--visually {border: 0;clip: rect(1px 1px 1px 1px);clip: rect(1px, 1px, 1px, 1px);height: 1px;margin: -1px;overflow: hidden;padding: 0;position: absolute;width: 1px;}#sk-container-id-2 div.sk-estimator {font-family: monospace;background-color: #f0f8ff;border: 1px dotted black;border-radius: 0.25em;box-sizing: border-box;margin-bottom: 0.5em;}#sk-container-id-2 div.sk-estimator:hover {background-color: #d4ebff;}#sk-container-id-2 div.sk-parallel-item::after {content: \"\";width: 100%;border-bottom: 1px solid gray;flex-grow: 1;}#sk-container-id-2 div.sk-label:hover label.sk-toggleable__label {background-color: #d4ebff;}#sk-container-id-2 div.sk-serial::before {content: \"\";position: absolute;border-left: 1px solid gray;box-sizing: border-box;top: 0;bottom: 0;left: 50%;z-index: 0;}#sk-container-id-2 div.sk-serial {display: flex;flex-direction: column;align-items: center;background-color: white;padding-right: 0.2em;padding-left: 0.2em;position: relative;}#sk-container-id-2 div.sk-item {position: relative;z-index: 1;}#sk-container-id-2 div.sk-parallel {display: flex;align-items: stretch;justify-content: center;background-color: white;position: relative;}#sk-container-id-2 div.sk-item::before, #sk-container-id-2 div.sk-parallel-item::before {content: \"\";position: absolute;border-left: 1px solid gray;box-sizing: border-box;top: 0;bottom: 0;left: 50%;z-index: -1;}#sk-container-id-2 div.sk-parallel-item {display: flex;flex-direction: column;z-index: 1;position: relative;background-color: white;}#sk-container-id-2 div.sk-parallel-item:first-child::after {align-self: flex-end;width: 50%;}#sk-container-id-2 div.sk-parallel-item:last-child::after {align-self: flex-start;width: 50%;}#sk-container-id-2 div.sk-parallel-item:only-child::after {width: 0;}#sk-container-id-2 div.sk-dashed-wrapped {border: 1px dashed gray;margin: 0 0.4em 0.5em 0.4em;box-sizing: border-box;padding-bottom: 0.4em;background-color: white;}#sk-container-id-2 div.sk-label label {font-family: monospace;font-weight: bold;display: inline-block;line-height: 1.2em;}#sk-container-id-2 div.sk-label-container {text-align: center;}#sk-container-id-2 div.sk-container {/* jupyter's `normalize.less` sets `[hidden] { display: none; }` but bootstrap.min.css set `[hidden] { display: none !important; }` so we also need the `!important` here to be able to override the default hidden behavior on the sphinx rendered scikit-learn.org. See: https://github.com/scikit-learn/scikit-learn/issues/21755 */display: inline-block !important;position: relative;}#sk-container-id-2 div.sk-text-repr-fallback {display: none;}</style><div id=\"sk-container-id-2\" class=\"sk-top-container\"><div class=\"sk-text-repr-fallback\"><pre>GridSearchCV(cv=5, estimator=AdaBoostClassifier(),\n",
       "             param_grid={&#x27;algorithm&#x27;: [&#x27;SAMME.R&#x27;, &#x27;SAMME&#x27;],\n",
       "                         &#x27;learning_rate&#x27;: [0.001, 0.1, 1, 1.52, 2.5],\n",
       "                         &#x27;n_estimators&#x27;: [50, 100, 200]},\n",
       "             verbose=3)</pre><b>In a Jupyter environment, please rerun this cell to show the HTML representation or trust the notebook. <br />On GitHub, the HTML representation is unable to render, please try loading this page with nbviewer.org.</b></div><div class=\"sk-container\" hidden><div class=\"sk-item sk-dashed-wrapped\"><div class=\"sk-label-container\"><div class=\"sk-label sk-toggleable\"><input class=\"sk-toggleable__control sk-hidden--visually\" id=\"sk-estimator-id-2\" type=\"checkbox\" ><label for=\"sk-estimator-id-2\" class=\"sk-toggleable__label sk-toggleable__label-arrow\">GridSearchCV</label><div class=\"sk-toggleable__content\"><pre>GridSearchCV(cv=5, estimator=AdaBoostClassifier(),\n",
       "             param_grid={&#x27;algorithm&#x27;: [&#x27;SAMME.R&#x27;, &#x27;SAMME&#x27;],\n",
       "                         &#x27;learning_rate&#x27;: [0.001, 0.1, 1, 1.52, 2.5],\n",
       "                         &#x27;n_estimators&#x27;: [50, 100, 200]},\n",
       "             verbose=3)</pre></div></div></div><div class=\"sk-parallel\"><div class=\"sk-parallel-item\"><div class=\"sk-item\"><div class=\"sk-label-container\"><div class=\"sk-label sk-toggleable\"><input class=\"sk-toggleable__control sk-hidden--visually\" id=\"sk-estimator-id-3\" type=\"checkbox\" ><label for=\"sk-estimator-id-3\" class=\"sk-toggleable__label sk-toggleable__label-arrow\">estimator: AdaBoostClassifier</label><div class=\"sk-toggleable__content\"><pre>AdaBoostClassifier()</pre></div></div></div><div class=\"sk-serial\"><div class=\"sk-item\"><div class=\"sk-estimator sk-toggleable\"><input class=\"sk-toggleable__control sk-hidden--visually\" id=\"sk-estimator-id-4\" type=\"checkbox\" ><label for=\"sk-estimator-id-4\" class=\"sk-toggleable__label sk-toggleable__label-arrow\">AdaBoostClassifier</label><div class=\"sk-toggleable__content\"><pre>AdaBoostClassifier()</pre></div></div></div></div></div></div></div></div></div></div>"
      ],
      "text/plain": [
       "GridSearchCV(cv=5, estimator=AdaBoostClassifier(),\n",
       "             param_grid={'algorithm': ['SAMME.R', 'SAMME'],\n",
       "                         'learning_rate': [0.001, 0.1, 1, 1.52, 2.5],\n",
       "                         'n_estimators': [50, 100, 200]},\n",
       "             verbose=3)"
      ]
     },
     "execution_count": 38,
     "metadata": {},
     "output_type": "execute_result"
    }
   ],
   "source": [
    "clf"
   ]
  },
  {
   "cell_type": "code",
   "execution_count": 39,
   "id": "c38e6b94",
   "metadata": {},
   "outputs": [
    {
     "name": "stdout",
     "output_type": "stream",
     "text": [
      "Fitting 5 folds for each of 30 candidates, totalling 150 fits\n",
      "[CV 1/5] END algorithm=SAMME.R, learning_rate=0.001, n_estimators=50;, score=0.881 total time=   0.3s\n",
      "[CV 2/5] END algorithm=SAMME.R, learning_rate=0.001, n_estimators=50;, score=0.903 total time=   0.3s\n",
      "[CV 3/5] END algorithm=SAMME.R, learning_rate=0.001, n_estimators=50;, score=0.843 total time=   0.2s\n",
      "[CV 4/5] END algorithm=SAMME.R, learning_rate=0.001, n_estimators=50;, score=0.813 total time=   0.3s\n",
      "[CV 5/5] END algorithm=SAMME.R, learning_rate=0.001, n_estimators=50;, score=0.813 total time=   0.3s\n",
      "[CV 1/5] END algorithm=SAMME.R, learning_rate=0.001, n_estimators=100;, score=0.881 total time=   0.7s\n",
      "[CV 2/5] END algorithm=SAMME.R, learning_rate=0.001, n_estimators=100;, score=0.903 total time=   0.8s\n",
      "[CV 3/5] END algorithm=SAMME.R, learning_rate=0.001, n_estimators=100;, score=0.843 total time=   0.8s\n",
      "[CV 4/5] END algorithm=SAMME.R, learning_rate=0.001, n_estimators=100;, score=0.813 total time=   0.8s\n",
      "[CV 5/5] END algorithm=SAMME.R, learning_rate=0.001, n_estimators=100;, score=0.813 total time=   0.7s\n",
      "[CV 1/5] END algorithm=SAMME.R, learning_rate=0.001, n_estimators=200;, score=0.881 total time=   1.5s\n",
      "[CV 2/5] END algorithm=SAMME.R, learning_rate=0.001, n_estimators=200;, score=0.903 total time=   1.6s\n",
      "[CV 3/5] END algorithm=SAMME.R, learning_rate=0.001, n_estimators=200;, score=0.843 total time=   1.6s\n",
      "[CV 4/5] END algorithm=SAMME.R, learning_rate=0.001, n_estimators=200;, score=0.813 total time=   1.6s\n",
      "[CV 5/5] END algorithm=SAMME.R, learning_rate=0.001, n_estimators=200;, score=0.813 total time=   1.5s\n",
      "[CV 1/5] END algorithm=SAMME.R, learning_rate=0.1, n_estimators=50;, score=0.881 total time=   0.3s\n",
      "[CV 2/5] END algorithm=SAMME.R, learning_rate=0.1, n_estimators=50;, score=0.896 total time=   0.3s\n",
      "[CV 3/5] END algorithm=SAMME.R, learning_rate=0.1, n_estimators=50;, score=0.851 total time=   0.3s\n",
      "[CV 4/5] END algorithm=SAMME.R, learning_rate=0.1, n_estimators=50;, score=0.873 total time=   0.3s\n",
      "[CV 5/5] END algorithm=SAMME.R, learning_rate=0.1, n_estimators=50;, score=0.813 total time=   0.3s\n",
      "[CV 1/5] END algorithm=SAMME.R, learning_rate=0.1, n_estimators=100;, score=0.866 total time=   0.7s\n",
      "[CV 2/5] END algorithm=SAMME.R, learning_rate=0.1, n_estimators=100;, score=0.903 total time=   0.7s\n",
      "[CV 3/5] END algorithm=SAMME.R, learning_rate=0.1, n_estimators=100;, score=0.858 total time=   0.7s\n",
      "[CV 4/5] END algorithm=SAMME.R, learning_rate=0.1, n_estimators=100;, score=0.858 total time=   0.9s\n",
      "[CV 5/5] END algorithm=SAMME.R, learning_rate=0.1, n_estimators=100;, score=0.821 total time=   0.8s\n",
      "[CV 1/5] END algorithm=SAMME.R, learning_rate=0.1, n_estimators=200;, score=0.858 total time=   1.5s\n",
      "[CV 2/5] END algorithm=SAMME.R, learning_rate=0.1, n_estimators=200;, score=0.881 total time=   1.5s\n",
      "[CV 3/5] END algorithm=SAMME.R, learning_rate=0.1, n_estimators=200;, score=0.843 total time=   1.5s\n",
      "[CV 4/5] END algorithm=SAMME.R, learning_rate=0.1, n_estimators=200;, score=0.828 total time=   1.5s\n",
      "[CV 5/5] END algorithm=SAMME.R, learning_rate=0.1, n_estimators=200;, score=0.828 total time=   1.5s\n",
      "[CV 1/5] END algorithm=SAMME.R, learning_rate=1, n_estimators=50;, score=0.866 total time=   0.3s\n",
      "[CV 2/5] END algorithm=SAMME.R, learning_rate=1, n_estimators=50;, score=0.888 total time=   0.3s\n",
      "[CV 3/5] END algorithm=SAMME.R, learning_rate=1, n_estimators=50;, score=0.858 total time=   0.3s\n",
      "[CV 4/5] END algorithm=SAMME.R, learning_rate=1, n_estimators=50;, score=0.799 total time=   0.3s\n",
      "[CV 5/5] END algorithm=SAMME.R, learning_rate=1, n_estimators=50;, score=0.821 total time=   0.3s\n",
      "[CV 1/5] END algorithm=SAMME.R, learning_rate=1, n_estimators=100;, score=0.851 total time=   0.7s\n",
      "[CV 2/5] END algorithm=SAMME.R, learning_rate=1, n_estimators=100;, score=0.828 total time=   0.8s\n",
      "[CV 3/5] END algorithm=SAMME.R, learning_rate=1, n_estimators=100;, score=0.806 total time=   0.6s\n",
      "[CV 4/5] END algorithm=SAMME.R, learning_rate=1, n_estimators=100;, score=0.791 total time=   0.6s\n",
      "[CV 5/5] END algorithm=SAMME.R, learning_rate=1, n_estimators=100;, score=0.813 total time=   0.7s\n",
      "[CV 1/5] END algorithm=SAMME.R, learning_rate=1, n_estimators=200;, score=0.828 total time=   1.8s\n",
      "[CV 2/5] END algorithm=SAMME.R, learning_rate=1, n_estimators=200;, score=0.836 total time=   1.5s\n",
      "[CV 3/5] END algorithm=SAMME.R, learning_rate=1, n_estimators=200;, score=0.791 total time=   1.4s\n",
      "[CV 4/5] END algorithm=SAMME.R, learning_rate=1, n_estimators=200;, score=0.799 total time=   1.4s\n",
      "[CV 5/5] END algorithm=SAMME.R, learning_rate=1, n_estimators=200;, score=0.806 total time=   1.4s\n",
      "[CV 1/5] END algorithm=SAMME.R, learning_rate=1.52, n_estimators=50;, score=0.873 total time=   0.3s\n",
      "[CV 2/5] END algorithm=SAMME.R, learning_rate=1.52, n_estimators=50;, score=0.806 total time=   0.3s\n",
      "[CV 3/5] END algorithm=SAMME.R, learning_rate=1.52, n_estimators=50;, score=0.828 total time=   0.3s\n",
      "[CV 4/5] END algorithm=SAMME.R, learning_rate=1.52, n_estimators=50;, score=0.769 total time=   0.3s\n",
      "[CV 5/5] END algorithm=SAMME.R, learning_rate=1.52, n_estimators=50;, score=0.784 total time=   0.3s\n",
      "[CV 1/5] END algorithm=SAMME.R, learning_rate=1.52, n_estimators=100;, score=0.828 total time=   0.7s\n",
      "[CV 2/5] END algorithm=SAMME.R, learning_rate=1.52, n_estimators=100;, score=0.806 total time=   0.7s\n",
      "[CV 3/5] END algorithm=SAMME.R, learning_rate=1.52, n_estimators=100;, score=0.858 total time=   0.6s\n",
      "[CV 4/5] END algorithm=SAMME.R, learning_rate=1.52, n_estimators=100;, score=0.776 total time=   0.6s\n",
      "[CV 5/5] END algorithm=SAMME.R, learning_rate=1.52, n_estimators=100;, score=0.799 total time=   0.6s\n",
      "[CV 1/5] END algorithm=SAMME.R, learning_rate=1.52, n_estimators=200;, score=0.821 total time=   1.3s\n",
      "[CV 2/5] END algorithm=SAMME.R, learning_rate=1.52, n_estimators=200;, score=0.806 total time=   1.5s\n",
      "[CV 3/5] END algorithm=SAMME.R, learning_rate=1.52, n_estimators=200;, score=0.843 total time=   1.5s\n",
      "[CV 4/5] END algorithm=SAMME.R, learning_rate=1.52, n_estimators=200;, score=0.791 total time=   1.4s\n",
      "[CV 5/5] END algorithm=SAMME.R, learning_rate=1.52, n_estimators=200;, score=0.813 total time=   1.4s\n",
      "[CV 1/5] END algorithm=SAMME.R, learning_rate=2.5, n_estimators=50;, score=0.567 total time=   0.3s\n",
      "[CV 2/5] END algorithm=SAMME.R, learning_rate=2.5, n_estimators=50;, score=0.597 total time=   0.2s\n",
      "[CV 3/5] END algorithm=SAMME.R, learning_rate=2.5, n_estimators=50;, score=0.836 total time=   0.3s\n",
      "[CV 4/5] END algorithm=SAMME.R, learning_rate=2.5, n_estimators=50;, score=0.590 total time=   0.2s\n",
      "[CV 5/5] END algorithm=SAMME.R, learning_rate=2.5, n_estimators=50;, score=0.843 total time=   0.3s\n",
      "[CV 1/5] END algorithm=SAMME.R, learning_rate=2.5, n_estimators=100;, score=0.567 total time=   0.6s\n",
      "[CV 2/5] END algorithm=SAMME.R, learning_rate=2.5, n_estimators=100;, score=0.873 total time=   0.7s\n",
      "[CV 3/5] END algorithm=SAMME.R, learning_rate=2.5, n_estimators=100;, score=0.791 total time=   0.6s\n",
      "[CV 4/5] END algorithm=SAMME.R, learning_rate=2.5, n_estimators=100;, score=0.761 total time=   0.6s\n",
      "[CV 5/5] END algorithm=SAMME.R, learning_rate=2.5, n_estimators=100;, score=0.843 total time=   0.7s\n",
      "[CV 1/5] END algorithm=SAMME.R, learning_rate=2.5, n_estimators=200;, score=0.567 total time=   1.4s\n",
      "[CV 2/5] END algorithm=SAMME.R, learning_rate=2.5, n_estimators=200;, score=0.873 total time=   1.4s\n",
      "[CV 3/5] END algorithm=SAMME.R, learning_rate=2.5, n_estimators=200;, score=0.791 total time=   1.4s\n",
      "[CV 4/5] END algorithm=SAMME.R, learning_rate=2.5, n_estimators=200;, score=0.761 total time=   1.6s\n",
      "[CV 5/5] END algorithm=SAMME.R, learning_rate=2.5, n_estimators=200;, score=0.828 total time=   1.5s\n",
      "[CV 1/5] END algorithm=SAMME, learning_rate=0.001, n_estimators=50;, score=0.881 total time=   0.3s\n",
      "[CV 2/5] END algorithm=SAMME, learning_rate=0.001, n_estimators=50;, score=0.903 total time=   0.3s\n",
      "[CV 3/5] END algorithm=SAMME, learning_rate=0.001, n_estimators=50;, score=0.843 total time=   0.3s\n",
      "[CV 4/5] END algorithm=SAMME, learning_rate=0.001, n_estimators=50;, score=0.813 total time=   0.3s\n",
      "[CV 5/5] END algorithm=SAMME, learning_rate=0.001, n_estimators=50;, score=0.813 total time=   0.3s\n",
      "[CV 1/5] END algorithm=SAMME, learning_rate=0.001, n_estimators=100;, score=0.881 total time=   0.6s\n"
     ]
    },
    {
     "name": "stdout",
     "output_type": "stream",
     "text": [
      "[CV 2/5] END algorithm=SAMME, learning_rate=0.001, n_estimators=100;, score=0.903 total time=   0.6s\n",
      "[CV 3/5] END algorithm=SAMME, learning_rate=0.001, n_estimators=100;, score=0.843 total time=   0.6s\n",
      "[CV 4/5] END algorithm=SAMME, learning_rate=0.001, n_estimators=100;, score=0.813 total time=   0.6s\n",
      "[CV 5/5] END algorithm=SAMME, learning_rate=0.001, n_estimators=100;, score=0.813 total time=   0.6s\n",
      "[CV 1/5] END algorithm=SAMME, learning_rate=0.001, n_estimators=200;, score=0.881 total time=   1.3s\n",
      "[CV 2/5] END algorithm=SAMME, learning_rate=0.001, n_estimators=200;, score=0.903 total time=   1.2s\n",
      "[CV 3/5] END algorithm=SAMME, learning_rate=0.001, n_estimators=200;, score=0.843 total time=   1.3s\n",
      "[CV 4/5] END algorithm=SAMME, learning_rate=0.001, n_estimators=200;, score=0.813 total time=   1.3s\n",
      "[CV 5/5] END algorithm=SAMME, learning_rate=0.001, n_estimators=200;, score=0.813 total time=   1.4s\n",
      "[CV 1/5] END algorithm=SAMME, learning_rate=0.1, n_estimators=50;, score=0.881 total time=   0.3s\n",
      "[CV 2/5] END algorithm=SAMME, learning_rate=0.1, n_estimators=50;, score=0.903 total time=   0.3s\n",
      "[CV 3/5] END algorithm=SAMME, learning_rate=0.1, n_estimators=50;, score=0.843 total time=   0.3s\n",
      "[CV 4/5] END algorithm=SAMME, learning_rate=0.1, n_estimators=50;, score=0.858 total time=   0.3s\n",
      "[CV 5/5] END algorithm=SAMME, learning_rate=0.1, n_estimators=50;, score=0.813 total time=   0.3s\n",
      "[CV 1/5] END algorithm=SAMME, learning_rate=0.1, n_estimators=100;, score=0.881 total time=   0.7s\n",
      "[CV 2/5] END algorithm=SAMME, learning_rate=0.1, n_estimators=100;, score=0.903 total time=   0.6s\n",
      "[CV 3/5] END algorithm=SAMME, learning_rate=0.1, n_estimators=100;, score=0.843 total time=   0.6s\n",
      "[CV 4/5] END algorithm=SAMME, learning_rate=0.1, n_estimators=100;, score=0.858 total time=   0.7s\n",
      "[CV 5/5] END algorithm=SAMME, learning_rate=0.1, n_estimators=100;, score=0.813 total time=   0.6s\n",
      "[CV 1/5] END algorithm=SAMME, learning_rate=0.1, n_estimators=200;, score=0.888 total time=   1.3s\n",
      "[CV 2/5] END algorithm=SAMME, learning_rate=0.1, n_estimators=200;, score=0.903 total time=   1.3s\n",
      "[CV 3/5] END algorithm=SAMME, learning_rate=0.1, n_estimators=200;, score=0.851 total time=   1.4s\n",
      "[CV 4/5] END algorithm=SAMME, learning_rate=0.1, n_estimators=200;, score=0.858 total time=   1.3s\n",
      "[CV 5/5] END algorithm=SAMME, learning_rate=0.1, n_estimators=200;, score=0.821 total time=   1.3s\n",
      "[CV 1/5] END algorithm=SAMME, learning_rate=1, n_estimators=50;, score=0.873 total time=   0.3s\n",
      "[CV 2/5] END algorithm=SAMME, learning_rate=1, n_estimators=50;, score=0.896 total time=   0.3s\n",
      "[CV 3/5] END algorithm=SAMME, learning_rate=1, n_estimators=50;, score=0.851 total time=   0.3s\n",
      "[CV 4/5] END algorithm=SAMME, learning_rate=1, n_estimators=50;, score=0.799 total time=   0.3s\n",
      "[CV 5/5] END algorithm=SAMME, learning_rate=1, n_estimators=50;, score=0.821 total time=   0.3s\n",
      "[CV 1/5] END algorithm=SAMME, learning_rate=1, n_estimators=100;, score=0.873 total time=   0.6s\n",
      "[CV 2/5] END algorithm=SAMME, learning_rate=1, n_estimators=100;, score=0.888 total time=   0.6s\n",
      "[CV 3/5] END algorithm=SAMME, learning_rate=1, n_estimators=100;, score=0.866 total time=   0.7s\n",
      "[CV 4/5] END algorithm=SAMME, learning_rate=1, n_estimators=100;, score=0.806 total time=   0.7s\n",
      "[CV 5/5] END algorithm=SAMME, learning_rate=1, n_estimators=100;, score=0.828 total time=   0.7s\n",
      "[CV 1/5] END algorithm=SAMME, learning_rate=1, n_estimators=200;, score=0.873 total time=   1.4s\n",
      "[CV 2/5] END algorithm=SAMME, learning_rate=1, n_estimators=200;, score=0.843 total time=   1.3s\n",
      "[CV 3/5] END algorithm=SAMME, learning_rate=1, n_estimators=200;, score=0.851 total time=   1.3s\n",
      "[CV 4/5] END algorithm=SAMME, learning_rate=1, n_estimators=200;, score=0.821 total time=   1.3s\n",
      "[CV 5/5] END algorithm=SAMME, learning_rate=1, n_estimators=200;, score=0.821 total time=   1.3s\n",
      "[CV 1/5] END algorithm=SAMME, learning_rate=1.52, n_estimators=50;, score=0.888 total time=   0.3s\n",
      "[CV 2/5] END algorithm=SAMME, learning_rate=1.52, n_estimators=50;, score=0.851 total time=   0.2s\n",
      "[CV 3/5] END algorithm=SAMME, learning_rate=1.52, n_estimators=50;, score=0.858 total time=   0.3s\n",
      "[CV 4/5] END algorithm=SAMME, learning_rate=1.52, n_estimators=50;, score=0.776 total time=   0.3s\n",
      "[CV 5/5] END algorithm=SAMME, learning_rate=1.52, n_estimators=50;, score=0.813 total time=   0.3s\n",
      "[CV 1/5] END algorithm=SAMME, learning_rate=1.52, n_estimators=100;, score=0.888 total time=   0.6s\n",
      "[CV 2/5] END algorithm=SAMME, learning_rate=1.52, n_estimators=100;, score=0.843 total time=   0.6s\n",
      "[CV 3/5] END algorithm=SAMME, learning_rate=1.52, n_estimators=100;, score=0.813 total time=   0.6s\n",
      "[CV 4/5] END algorithm=SAMME, learning_rate=1.52, n_estimators=100;, score=0.784 total time=   0.6s\n",
      "[CV 5/5] END algorithm=SAMME, learning_rate=1.52, n_estimators=100;, score=0.821 total time=   0.6s\n",
      "[CV 1/5] END algorithm=SAMME, learning_rate=1.52, n_estimators=200;, score=0.881 total time=   1.4s\n",
      "[CV 2/5] END algorithm=SAMME, learning_rate=1.52, n_estimators=200;, score=0.799 total time=   1.5s\n",
      "[CV 3/5] END algorithm=SAMME, learning_rate=1.52, n_estimators=200;, score=0.836 total time=   1.4s\n",
      "[CV 4/5] END algorithm=SAMME, learning_rate=1.52, n_estimators=200;, score=0.799 total time=   1.3s\n",
      "[CV 5/5] END algorithm=SAMME, learning_rate=1.52, n_estimators=200;, score=0.799 total time=   1.3s\n",
      "[CV 1/5] END algorithm=SAMME, learning_rate=2.5, n_estimators=50;, score=0.858 total time=   0.3s\n",
      "[CV 2/5] END algorithm=SAMME, learning_rate=2.5, n_estimators=50;, score=0.888 total time=   0.2s\n",
      "[CV 3/5] END algorithm=SAMME, learning_rate=2.5, n_estimators=50;, score=0.843 total time=   0.3s\n",
      "[CV 4/5] END algorithm=SAMME, learning_rate=2.5, n_estimators=50;, score=0.799 total time=   0.3s\n",
      "[CV 5/5] END algorithm=SAMME, learning_rate=2.5, n_estimators=50;, score=0.843 total time=   0.3s\n",
      "[CV 1/5] END algorithm=SAMME, learning_rate=2.5, n_estimators=100;, score=0.858 total time=   0.6s\n",
      "[CV 2/5] END algorithm=SAMME, learning_rate=2.5, n_estimators=100;, score=0.896 total time=   0.6s\n",
      "[CV 3/5] END algorithm=SAMME, learning_rate=2.5, n_estimators=100;, score=0.843 total time=   0.6s\n",
      "[CV 4/5] END algorithm=SAMME, learning_rate=2.5, n_estimators=100;, score=0.799 total time=   0.6s\n",
      "[CV 5/5] END algorithm=SAMME, learning_rate=2.5, n_estimators=100;, score=0.843 total time=   0.6s\n",
      "[CV 1/5] END algorithm=SAMME, learning_rate=2.5, n_estimators=200;, score=0.858 total time=   1.4s\n",
      "[CV 2/5] END algorithm=SAMME, learning_rate=2.5, n_estimators=200;, score=0.896 total time=   1.4s\n",
      "[CV 3/5] END algorithm=SAMME, learning_rate=2.5, n_estimators=200;, score=0.843 total time=   1.3s\n",
      "[CV 4/5] END algorithm=SAMME, learning_rate=2.5, n_estimators=200;, score=0.799 total time=   1.5s\n",
      "[CV 5/5] END algorithm=SAMME, learning_rate=2.5, n_estimators=200;, score=0.843 total time=   1.4s\n"
     ]
    },
    {
     "data": {
      "text/html": [
       "<style>#sk-container-id-3 {color: black;}#sk-container-id-3 pre{padding: 0;}#sk-container-id-3 div.sk-toggleable {background-color: white;}#sk-container-id-3 label.sk-toggleable__label {cursor: pointer;display: block;width: 100%;margin-bottom: 0;padding: 0.3em;box-sizing: border-box;text-align: center;}#sk-container-id-3 label.sk-toggleable__label-arrow:before {content: \"▸\";float: left;margin-right: 0.25em;color: #696969;}#sk-container-id-3 label.sk-toggleable__label-arrow:hover:before {color: black;}#sk-container-id-3 div.sk-estimator:hover label.sk-toggleable__label-arrow:before {color: black;}#sk-container-id-3 div.sk-toggleable__content {max-height: 0;max-width: 0;overflow: hidden;text-align: left;background-color: #f0f8ff;}#sk-container-id-3 div.sk-toggleable__content pre {margin: 0.2em;color: black;border-radius: 0.25em;background-color: #f0f8ff;}#sk-container-id-3 input.sk-toggleable__control:checked~div.sk-toggleable__content {max-height: 200px;max-width: 100%;overflow: auto;}#sk-container-id-3 input.sk-toggleable__control:checked~label.sk-toggleable__label-arrow:before {content: \"▾\";}#sk-container-id-3 div.sk-estimator input.sk-toggleable__control:checked~label.sk-toggleable__label {background-color: #d4ebff;}#sk-container-id-3 div.sk-label input.sk-toggleable__control:checked~label.sk-toggleable__label {background-color: #d4ebff;}#sk-container-id-3 input.sk-hidden--visually {border: 0;clip: rect(1px 1px 1px 1px);clip: rect(1px, 1px, 1px, 1px);height: 1px;margin: -1px;overflow: hidden;padding: 0;position: absolute;width: 1px;}#sk-container-id-3 div.sk-estimator {font-family: monospace;background-color: #f0f8ff;border: 1px dotted black;border-radius: 0.25em;box-sizing: border-box;margin-bottom: 0.5em;}#sk-container-id-3 div.sk-estimator:hover {background-color: #d4ebff;}#sk-container-id-3 div.sk-parallel-item::after {content: \"\";width: 100%;border-bottom: 1px solid gray;flex-grow: 1;}#sk-container-id-3 div.sk-label:hover label.sk-toggleable__label {background-color: #d4ebff;}#sk-container-id-3 div.sk-serial::before {content: \"\";position: absolute;border-left: 1px solid gray;box-sizing: border-box;top: 0;bottom: 0;left: 50%;z-index: 0;}#sk-container-id-3 div.sk-serial {display: flex;flex-direction: column;align-items: center;background-color: white;padding-right: 0.2em;padding-left: 0.2em;position: relative;}#sk-container-id-3 div.sk-item {position: relative;z-index: 1;}#sk-container-id-3 div.sk-parallel {display: flex;align-items: stretch;justify-content: center;background-color: white;position: relative;}#sk-container-id-3 div.sk-item::before, #sk-container-id-3 div.sk-parallel-item::before {content: \"\";position: absolute;border-left: 1px solid gray;box-sizing: border-box;top: 0;bottom: 0;left: 50%;z-index: -1;}#sk-container-id-3 div.sk-parallel-item {display: flex;flex-direction: column;z-index: 1;position: relative;background-color: white;}#sk-container-id-3 div.sk-parallel-item:first-child::after {align-self: flex-end;width: 50%;}#sk-container-id-3 div.sk-parallel-item:last-child::after {align-self: flex-start;width: 50%;}#sk-container-id-3 div.sk-parallel-item:only-child::after {width: 0;}#sk-container-id-3 div.sk-dashed-wrapped {border: 1px dashed gray;margin: 0 0.4em 0.5em 0.4em;box-sizing: border-box;padding-bottom: 0.4em;background-color: white;}#sk-container-id-3 div.sk-label label {font-family: monospace;font-weight: bold;display: inline-block;line-height: 1.2em;}#sk-container-id-3 div.sk-label-container {text-align: center;}#sk-container-id-3 div.sk-container {/* jupyter's `normalize.less` sets `[hidden] { display: none; }` but bootstrap.min.css set `[hidden] { display: none !important; }` so we also need the `!important` here to be able to override the default hidden behavior on the sphinx rendered scikit-learn.org. See: https://github.com/scikit-learn/scikit-learn/issues/21755 */display: inline-block !important;position: relative;}#sk-container-id-3 div.sk-text-repr-fallback {display: none;}</style><div id=\"sk-container-id-3\" class=\"sk-top-container\"><div class=\"sk-text-repr-fallback\"><pre>GridSearchCV(cv=5, estimator=AdaBoostClassifier(),\n",
       "             param_grid={&#x27;algorithm&#x27;: [&#x27;SAMME.R&#x27;, &#x27;SAMME&#x27;],\n",
       "                         &#x27;learning_rate&#x27;: [0.001, 0.1, 1, 1.52, 2.5],\n",
       "                         &#x27;n_estimators&#x27;: [50, 100, 200]},\n",
       "             verbose=3)</pre><b>In a Jupyter environment, please rerun this cell to show the HTML representation or trust the notebook. <br />On GitHub, the HTML representation is unable to render, please try loading this page with nbviewer.org.</b></div><div class=\"sk-container\" hidden><div class=\"sk-item sk-dashed-wrapped\"><div class=\"sk-label-container\"><div class=\"sk-label sk-toggleable\"><input class=\"sk-toggleable__control sk-hidden--visually\" id=\"sk-estimator-id-5\" type=\"checkbox\" ><label for=\"sk-estimator-id-5\" class=\"sk-toggleable__label sk-toggleable__label-arrow\">GridSearchCV</label><div class=\"sk-toggleable__content\"><pre>GridSearchCV(cv=5, estimator=AdaBoostClassifier(),\n",
       "             param_grid={&#x27;algorithm&#x27;: [&#x27;SAMME.R&#x27;, &#x27;SAMME&#x27;],\n",
       "                         &#x27;learning_rate&#x27;: [0.001, 0.1, 1, 1.52, 2.5],\n",
       "                         &#x27;n_estimators&#x27;: [50, 100, 200]},\n",
       "             verbose=3)</pre></div></div></div><div class=\"sk-parallel\"><div class=\"sk-parallel-item\"><div class=\"sk-item\"><div class=\"sk-label-container\"><div class=\"sk-label sk-toggleable\"><input class=\"sk-toggleable__control sk-hidden--visually\" id=\"sk-estimator-id-6\" type=\"checkbox\" ><label for=\"sk-estimator-id-6\" class=\"sk-toggleable__label sk-toggleable__label-arrow\">estimator: AdaBoostClassifier</label><div class=\"sk-toggleable__content\"><pre>AdaBoostClassifier()</pre></div></div></div><div class=\"sk-serial\"><div class=\"sk-item\"><div class=\"sk-estimator sk-toggleable\"><input class=\"sk-toggleable__control sk-hidden--visually\" id=\"sk-estimator-id-7\" type=\"checkbox\" ><label for=\"sk-estimator-id-7\" class=\"sk-toggleable__label sk-toggleable__label-arrow\">AdaBoostClassifier</label><div class=\"sk-toggleable__content\"><pre>AdaBoostClassifier()</pre></div></div></div></div></div></div></div></div></div></div>"
      ],
      "text/plain": [
       "GridSearchCV(cv=5, estimator=AdaBoostClassifier(),\n",
       "             param_grid={'algorithm': ['SAMME.R', 'SAMME'],\n",
       "                         'learning_rate': [0.001, 0.1, 1, 1.52, 2.5],\n",
       "                         'n_estimators': [50, 100, 200]},\n",
       "             verbose=3)"
      ]
     },
     "execution_count": 39,
     "metadata": {},
     "output_type": "execute_result"
    }
   ],
   "source": [
    "clf.fit(x_train,y_train)"
   ]
  },
  {
   "cell_type": "code",
   "execution_count": 40,
   "id": "4a4bc63a",
   "metadata": {},
   "outputs": [
    {
     "data": {
      "text/plain": [
       "0.864179104477612"
      ]
     },
     "execution_count": 40,
     "metadata": {},
     "output_type": "execute_result"
    }
   ],
   "source": [
    "clf.best_score_"
   ]
  },
  {
   "cell_type": "code",
   "execution_count": 41,
   "id": "385315f3",
   "metadata": {},
   "outputs": [
    {
     "data": {
      "text/plain": [
       "{'algorithm': 'SAMME', 'learning_rate': 0.1, 'n_estimators': 200}"
      ]
     },
     "execution_count": 41,
     "metadata": {},
     "output_type": "execute_result"
    }
   ],
   "source": [
    "clf.best_params_"
   ]
  },
  {
   "cell_type": "code",
   "execution_count": 42,
   "id": "65b8b77f",
   "metadata": {},
   "outputs": [],
   "source": [
    "best_model=clf.best_estimator_"
   ]
  },
  {
   "cell_type": "code",
   "execution_count": 43,
   "id": "344ebff5",
   "metadata": {},
   "outputs": [
    {
     "data": {
      "text/html": [
       "<style>#sk-container-id-4 {color: black;}#sk-container-id-4 pre{padding: 0;}#sk-container-id-4 div.sk-toggleable {background-color: white;}#sk-container-id-4 label.sk-toggleable__label {cursor: pointer;display: block;width: 100%;margin-bottom: 0;padding: 0.3em;box-sizing: border-box;text-align: center;}#sk-container-id-4 label.sk-toggleable__label-arrow:before {content: \"▸\";float: left;margin-right: 0.25em;color: #696969;}#sk-container-id-4 label.sk-toggleable__label-arrow:hover:before {color: black;}#sk-container-id-4 div.sk-estimator:hover label.sk-toggleable__label-arrow:before {color: black;}#sk-container-id-4 div.sk-toggleable__content {max-height: 0;max-width: 0;overflow: hidden;text-align: left;background-color: #f0f8ff;}#sk-container-id-4 div.sk-toggleable__content pre {margin: 0.2em;color: black;border-radius: 0.25em;background-color: #f0f8ff;}#sk-container-id-4 input.sk-toggleable__control:checked~div.sk-toggleable__content {max-height: 200px;max-width: 100%;overflow: auto;}#sk-container-id-4 input.sk-toggleable__control:checked~label.sk-toggleable__label-arrow:before {content: \"▾\";}#sk-container-id-4 div.sk-estimator input.sk-toggleable__control:checked~label.sk-toggleable__label {background-color: #d4ebff;}#sk-container-id-4 div.sk-label input.sk-toggleable__control:checked~label.sk-toggleable__label {background-color: #d4ebff;}#sk-container-id-4 input.sk-hidden--visually {border: 0;clip: rect(1px 1px 1px 1px);clip: rect(1px, 1px, 1px, 1px);height: 1px;margin: -1px;overflow: hidden;padding: 0;position: absolute;width: 1px;}#sk-container-id-4 div.sk-estimator {font-family: monospace;background-color: #f0f8ff;border: 1px dotted black;border-radius: 0.25em;box-sizing: border-box;margin-bottom: 0.5em;}#sk-container-id-4 div.sk-estimator:hover {background-color: #d4ebff;}#sk-container-id-4 div.sk-parallel-item::after {content: \"\";width: 100%;border-bottom: 1px solid gray;flex-grow: 1;}#sk-container-id-4 div.sk-label:hover label.sk-toggleable__label {background-color: #d4ebff;}#sk-container-id-4 div.sk-serial::before {content: \"\";position: absolute;border-left: 1px solid gray;box-sizing: border-box;top: 0;bottom: 0;left: 50%;z-index: 0;}#sk-container-id-4 div.sk-serial {display: flex;flex-direction: column;align-items: center;background-color: white;padding-right: 0.2em;padding-left: 0.2em;position: relative;}#sk-container-id-4 div.sk-item {position: relative;z-index: 1;}#sk-container-id-4 div.sk-parallel {display: flex;align-items: stretch;justify-content: center;background-color: white;position: relative;}#sk-container-id-4 div.sk-item::before, #sk-container-id-4 div.sk-parallel-item::before {content: \"\";position: absolute;border-left: 1px solid gray;box-sizing: border-box;top: 0;bottom: 0;left: 50%;z-index: -1;}#sk-container-id-4 div.sk-parallel-item {display: flex;flex-direction: column;z-index: 1;position: relative;background-color: white;}#sk-container-id-4 div.sk-parallel-item:first-child::after {align-self: flex-end;width: 50%;}#sk-container-id-4 div.sk-parallel-item:last-child::after {align-self: flex-start;width: 50%;}#sk-container-id-4 div.sk-parallel-item:only-child::after {width: 0;}#sk-container-id-4 div.sk-dashed-wrapped {border: 1px dashed gray;margin: 0 0.4em 0.5em 0.4em;box-sizing: border-box;padding-bottom: 0.4em;background-color: white;}#sk-container-id-4 div.sk-label label {font-family: monospace;font-weight: bold;display: inline-block;line-height: 1.2em;}#sk-container-id-4 div.sk-label-container {text-align: center;}#sk-container-id-4 div.sk-container {/* jupyter's `normalize.less` sets `[hidden] { display: none; }` but bootstrap.min.css set `[hidden] { display: none !important; }` so we also need the `!important` here to be able to override the default hidden behavior on the sphinx rendered scikit-learn.org. See: https://github.com/scikit-learn/scikit-learn/issues/21755 */display: inline-block !important;position: relative;}#sk-container-id-4 div.sk-text-repr-fallback {display: none;}</style><div id=\"sk-container-id-4\" class=\"sk-top-container\"><div class=\"sk-text-repr-fallback\"><pre>AdaBoostClassifier(algorithm=&#x27;SAMME&#x27;, learning_rate=0.1, n_estimators=200)</pre><b>In a Jupyter environment, please rerun this cell to show the HTML representation or trust the notebook. <br />On GitHub, the HTML representation is unable to render, please try loading this page with nbviewer.org.</b></div><div class=\"sk-container\" hidden><div class=\"sk-item\"><div class=\"sk-estimator sk-toggleable\"><input class=\"sk-toggleable__control sk-hidden--visually\" id=\"sk-estimator-id-8\" type=\"checkbox\" checked><label for=\"sk-estimator-id-8\" class=\"sk-toggleable__label sk-toggleable__label-arrow\">AdaBoostClassifier</label><div class=\"sk-toggleable__content\"><pre>AdaBoostClassifier(algorithm=&#x27;SAMME&#x27;, learning_rate=0.1, n_estimators=200)</pre></div></div></div></div></div>"
      ],
      "text/plain": [
       "AdaBoostClassifier(algorithm='SAMME', learning_rate=0.1, n_estimators=200)"
      ]
     },
     "execution_count": 43,
     "metadata": {},
     "output_type": "execute_result"
    }
   ],
   "source": [
    "best_model"
   ]
  },
  {
   "cell_type": "code",
   "execution_count": 44,
   "id": "4394d67a",
   "metadata": {},
   "outputs": [],
   "source": [
    "y_pred=best_model.predict(x_test)"
   ]
  },
  {
   "cell_type": "code",
   "execution_count": 46,
   "id": "c1473eac",
   "metadata": {},
   "outputs": [
    {
     "data": {
      "text/plain": [
       "0.8424242424242424"
      ]
     },
     "execution_count": 46,
     "metadata": {},
     "output_type": "execute_result"
    }
   ],
   "source": [
    "accuracy_score(y_test,y_pred)"
   ]
  },
  {
   "cell_type": "code",
   "execution_count": 47,
   "id": "25ee5c02",
   "metadata": {},
   "outputs": [],
   "source": [
    "#ada boost regressor\n",
    "from sklearn.datasets import make_regression\n",
    "from sklearn.model_selection import train_test_split\n",
    "from sklearn.ensemble import AdaBoostRegressor\n",
    "from sklearn.metrics import r2_score\n",
    "\n"
   ]
  },
  {
   "cell_type": "code",
   "execution_count": 48,
   "id": "d1e0b00b",
   "metadata": {},
   "outputs": [],
   "source": [
    "x,y=make_regression(n_samples=1000,n_features=2,noise=10,random_state=1)"
   ]
  },
  {
   "cell_type": "code",
   "execution_count": 49,
   "id": "583cdcdd",
   "metadata": {},
   "outputs": [],
   "source": [
    "x_train, x_test, y_train, y_test = train_test_split(x, y, test_size = 0.33, random_state=1)"
   ]
  },
  {
   "cell_type": "code",
   "execution_count": 50,
   "id": "74a31ce7",
   "metadata": {},
   "outputs": [],
   "source": [
    "reg=AdaBoostRegressor()"
   ]
  },
  {
   "cell_type": "code",
   "execution_count": 51,
   "id": "e95f84b7",
   "metadata": {},
   "outputs": [
    {
     "data": {
      "text/html": [
       "<style>#sk-container-id-5 {color: black;}#sk-container-id-5 pre{padding: 0;}#sk-container-id-5 div.sk-toggleable {background-color: white;}#sk-container-id-5 label.sk-toggleable__label {cursor: pointer;display: block;width: 100%;margin-bottom: 0;padding: 0.3em;box-sizing: border-box;text-align: center;}#sk-container-id-5 label.sk-toggleable__label-arrow:before {content: \"▸\";float: left;margin-right: 0.25em;color: #696969;}#sk-container-id-5 label.sk-toggleable__label-arrow:hover:before {color: black;}#sk-container-id-5 div.sk-estimator:hover label.sk-toggleable__label-arrow:before {color: black;}#sk-container-id-5 div.sk-toggleable__content {max-height: 0;max-width: 0;overflow: hidden;text-align: left;background-color: #f0f8ff;}#sk-container-id-5 div.sk-toggleable__content pre {margin: 0.2em;color: black;border-radius: 0.25em;background-color: #f0f8ff;}#sk-container-id-5 input.sk-toggleable__control:checked~div.sk-toggleable__content {max-height: 200px;max-width: 100%;overflow: auto;}#sk-container-id-5 input.sk-toggleable__control:checked~label.sk-toggleable__label-arrow:before {content: \"▾\";}#sk-container-id-5 div.sk-estimator input.sk-toggleable__control:checked~label.sk-toggleable__label {background-color: #d4ebff;}#sk-container-id-5 div.sk-label input.sk-toggleable__control:checked~label.sk-toggleable__label {background-color: #d4ebff;}#sk-container-id-5 input.sk-hidden--visually {border: 0;clip: rect(1px 1px 1px 1px);clip: rect(1px, 1px, 1px, 1px);height: 1px;margin: -1px;overflow: hidden;padding: 0;position: absolute;width: 1px;}#sk-container-id-5 div.sk-estimator {font-family: monospace;background-color: #f0f8ff;border: 1px dotted black;border-radius: 0.25em;box-sizing: border-box;margin-bottom: 0.5em;}#sk-container-id-5 div.sk-estimator:hover {background-color: #d4ebff;}#sk-container-id-5 div.sk-parallel-item::after {content: \"\";width: 100%;border-bottom: 1px solid gray;flex-grow: 1;}#sk-container-id-5 div.sk-label:hover label.sk-toggleable__label {background-color: #d4ebff;}#sk-container-id-5 div.sk-serial::before {content: \"\";position: absolute;border-left: 1px solid gray;box-sizing: border-box;top: 0;bottom: 0;left: 50%;z-index: 0;}#sk-container-id-5 div.sk-serial {display: flex;flex-direction: column;align-items: center;background-color: white;padding-right: 0.2em;padding-left: 0.2em;position: relative;}#sk-container-id-5 div.sk-item {position: relative;z-index: 1;}#sk-container-id-5 div.sk-parallel {display: flex;align-items: stretch;justify-content: center;background-color: white;position: relative;}#sk-container-id-5 div.sk-item::before, #sk-container-id-5 div.sk-parallel-item::before {content: \"\";position: absolute;border-left: 1px solid gray;box-sizing: border-box;top: 0;bottom: 0;left: 50%;z-index: -1;}#sk-container-id-5 div.sk-parallel-item {display: flex;flex-direction: column;z-index: 1;position: relative;background-color: white;}#sk-container-id-5 div.sk-parallel-item:first-child::after {align-self: flex-end;width: 50%;}#sk-container-id-5 div.sk-parallel-item:last-child::after {align-self: flex-start;width: 50%;}#sk-container-id-5 div.sk-parallel-item:only-child::after {width: 0;}#sk-container-id-5 div.sk-dashed-wrapped {border: 1px dashed gray;margin: 0 0.4em 0.5em 0.4em;box-sizing: border-box;padding-bottom: 0.4em;background-color: white;}#sk-container-id-5 div.sk-label label {font-family: monospace;font-weight: bold;display: inline-block;line-height: 1.2em;}#sk-container-id-5 div.sk-label-container {text-align: center;}#sk-container-id-5 div.sk-container {/* jupyter's `normalize.less` sets `[hidden] { display: none; }` but bootstrap.min.css set `[hidden] { display: none !important; }` so we also need the `!important` here to be able to override the default hidden behavior on the sphinx rendered scikit-learn.org. See: https://github.com/scikit-learn/scikit-learn/issues/21755 */display: inline-block !important;position: relative;}#sk-container-id-5 div.sk-text-repr-fallback {display: none;}</style><div id=\"sk-container-id-5\" class=\"sk-top-container\"><div class=\"sk-text-repr-fallback\"><pre>AdaBoostRegressor()</pre><b>In a Jupyter environment, please rerun this cell to show the HTML representation or trust the notebook. <br />On GitHub, the HTML representation is unable to render, please try loading this page with nbviewer.org.</b></div><div class=\"sk-container\" hidden><div class=\"sk-item\"><div class=\"sk-estimator sk-toggleable\"><input class=\"sk-toggleable__control sk-hidden--visually\" id=\"sk-estimator-id-9\" type=\"checkbox\" checked><label for=\"sk-estimator-id-9\" class=\"sk-toggleable__label sk-toggleable__label-arrow\">AdaBoostRegressor</label><div class=\"sk-toggleable__content\"><pre>AdaBoostRegressor()</pre></div></div></div></div></div>"
      ],
      "text/plain": [
       "AdaBoostRegressor()"
      ]
     },
     "execution_count": 51,
     "metadata": {},
     "output_type": "execute_result"
    }
   ],
   "source": [
    "reg"
   ]
  },
  {
   "cell_type": "code",
   "execution_count": 52,
   "id": "c51de72a",
   "metadata": {},
   "outputs": [
    {
     "data": {
      "text/html": [
       "<style>#sk-container-id-6 {color: black;}#sk-container-id-6 pre{padding: 0;}#sk-container-id-6 div.sk-toggleable {background-color: white;}#sk-container-id-6 label.sk-toggleable__label {cursor: pointer;display: block;width: 100%;margin-bottom: 0;padding: 0.3em;box-sizing: border-box;text-align: center;}#sk-container-id-6 label.sk-toggleable__label-arrow:before {content: \"▸\";float: left;margin-right: 0.25em;color: #696969;}#sk-container-id-6 label.sk-toggleable__label-arrow:hover:before {color: black;}#sk-container-id-6 div.sk-estimator:hover label.sk-toggleable__label-arrow:before {color: black;}#sk-container-id-6 div.sk-toggleable__content {max-height: 0;max-width: 0;overflow: hidden;text-align: left;background-color: #f0f8ff;}#sk-container-id-6 div.sk-toggleable__content pre {margin: 0.2em;color: black;border-radius: 0.25em;background-color: #f0f8ff;}#sk-container-id-6 input.sk-toggleable__control:checked~div.sk-toggleable__content {max-height: 200px;max-width: 100%;overflow: auto;}#sk-container-id-6 input.sk-toggleable__control:checked~label.sk-toggleable__label-arrow:before {content: \"▾\";}#sk-container-id-6 div.sk-estimator input.sk-toggleable__control:checked~label.sk-toggleable__label {background-color: #d4ebff;}#sk-container-id-6 div.sk-label input.sk-toggleable__control:checked~label.sk-toggleable__label {background-color: #d4ebff;}#sk-container-id-6 input.sk-hidden--visually {border: 0;clip: rect(1px 1px 1px 1px);clip: rect(1px, 1px, 1px, 1px);height: 1px;margin: -1px;overflow: hidden;padding: 0;position: absolute;width: 1px;}#sk-container-id-6 div.sk-estimator {font-family: monospace;background-color: #f0f8ff;border: 1px dotted black;border-radius: 0.25em;box-sizing: border-box;margin-bottom: 0.5em;}#sk-container-id-6 div.sk-estimator:hover {background-color: #d4ebff;}#sk-container-id-6 div.sk-parallel-item::after {content: \"\";width: 100%;border-bottom: 1px solid gray;flex-grow: 1;}#sk-container-id-6 div.sk-label:hover label.sk-toggleable__label {background-color: #d4ebff;}#sk-container-id-6 div.sk-serial::before {content: \"\";position: absolute;border-left: 1px solid gray;box-sizing: border-box;top: 0;bottom: 0;left: 50%;z-index: 0;}#sk-container-id-6 div.sk-serial {display: flex;flex-direction: column;align-items: center;background-color: white;padding-right: 0.2em;padding-left: 0.2em;position: relative;}#sk-container-id-6 div.sk-item {position: relative;z-index: 1;}#sk-container-id-6 div.sk-parallel {display: flex;align-items: stretch;justify-content: center;background-color: white;position: relative;}#sk-container-id-6 div.sk-item::before, #sk-container-id-6 div.sk-parallel-item::before {content: \"\";position: absolute;border-left: 1px solid gray;box-sizing: border-box;top: 0;bottom: 0;left: 50%;z-index: -1;}#sk-container-id-6 div.sk-parallel-item {display: flex;flex-direction: column;z-index: 1;position: relative;background-color: white;}#sk-container-id-6 div.sk-parallel-item:first-child::after {align-self: flex-end;width: 50%;}#sk-container-id-6 div.sk-parallel-item:last-child::after {align-self: flex-start;width: 50%;}#sk-container-id-6 div.sk-parallel-item:only-child::after {width: 0;}#sk-container-id-6 div.sk-dashed-wrapped {border: 1px dashed gray;margin: 0 0.4em 0.5em 0.4em;box-sizing: border-box;padding-bottom: 0.4em;background-color: white;}#sk-container-id-6 div.sk-label label {font-family: monospace;font-weight: bold;display: inline-block;line-height: 1.2em;}#sk-container-id-6 div.sk-label-container {text-align: center;}#sk-container-id-6 div.sk-container {/* jupyter's `normalize.less` sets `[hidden] { display: none; }` but bootstrap.min.css set `[hidden] { display: none !important; }` so we also need the `!important` here to be able to override the default hidden behavior on the sphinx rendered scikit-learn.org. See: https://github.com/scikit-learn/scikit-learn/issues/21755 */display: inline-block !important;position: relative;}#sk-container-id-6 div.sk-text-repr-fallback {display: none;}</style><div id=\"sk-container-id-6\" class=\"sk-top-container\"><div class=\"sk-text-repr-fallback\"><pre>AdaBoostRegressor()</pre><b>In a Jupyter environment, please rerun this cell to show the HTML representation or trust the notebook. <br />On GitHub, the HTML representation is unable to render, please try loading this page with nbviewer.org.</b></div><div class=\"sk-container\" hidden><div class=\"sk-item\"><div class=\"sk-estimator sk-toggleable\"><input class=\"sk-toggleable__control sk-hidden--visually\" id=\"sk-estimator-id-10\" type=\"checkbox\" checked><label for=\"sk-estimator-id-10\" class=\"sk-toggleable__label sk-toggleable__label-arrow\">AdaBoostRegressor</label><div class=\"sk-toggleable__content\"><pre>AdaBoostRegressor()</pre></div></div></div></div></div>"
      ],
      "text/plain": [
       "AdaBoostRegressor()"
      ]
     },
     "execution_count": 52,
     "metadata": {},
     "output_type": "execute_result"
    }
   ],
   "source": [
    "reg.fit(x_train,y_train)"
   ]
  },
  {
   "cell_type": "code",
   "execution_count": 53,
   "id": "7912868a",
   "metadata": {},
   "outputs": [],
   "source": [
    "y_pred=reg.predict(x_test)"
   ]
  },
  {
   "cell_type": "code",
   "execution_count": 54,
   "id": "d8bcf1be",
   "metadata": {},
   "outputs": [
    {
     "data": {
      "text/plain": [
       "0.95303004064782"
      ]
     },
     "execution_count": 54,
     "metadata": {},
     "output_type": "execute_result"
    }
   ],
   "source": [
    "r2_score(y_test,y_pred)"
   ]
  },
  {
   "cell_type": "code",
   "execution_count": 55,
   "id": "a4ff62cb",
   "metadata": {},
   "outputs": [
    {
     "data": {
      "text/html": [
       "<style>#sk-container-id-7 {color: black;}#sk-container-id-7 pre{padding: 0;}#sk-container-id-7 div.sk-toggleable {background-color: white;}#sk-container-id-7 label.sk-toggleable__label {cursor: pointer;display: block;width: 100%;margin-bottom: 0;padding: 0.3em;box-sizing: border-box;text-align: center;}#sk-container-id-7 label.sk-toggleable__label-arrow:before {content: \"▸\";float: left;margin-right: 0.25em;color: #696969;}#sk-container-id-7 label.sk-toggleable__label-arrow:hover:before {color: black;}#sk-container-id-7 div.sk-estimator:hover label.sk-toggleable__label-arrow:before {color: black;}#sk-container-id-7 div.sk-toggleable__content {max-height: 0;max-width: 0;overflow: hidden;text-align: left;background-color: #f0f8ff;}#sk-container-id-7 div.sk-toggleable__content pre {margin: 0.2em;color: black;border-radius: 0.25em;background-color: #f0f8ff;}#sk-container-id-7 input.sk-toggleable__control:checked~div.sk-toggleable__content {max-height: 200px;max-width: 100%;overflow: auto;}#sk-container-id-7 input.sk-toggleable__control:checked~label.sk-toggleable__label-arrow:before {content: \"▾\";}#sk-container-id-7 div.sk-estimator input.sk-toggleable__control:checked~label.sk-toggleable__label {background-color: #d4ebff;}#sk-container-id-7 div.sk-label input.sk-toggleable__control:checked~label.sk-toggleable__label {background-color: #d4ebff;}#sk-container-id-7 input.sk-hidden--visually {border: 0;clip: rect(1px 1px 1px 1px);clip: rect(1px, 1px, 1px, 1px);height: 1px;margin: -1px;overflow: hidden;padding: 0;position: absolute;width: 1px;}#sk-container-id-7 div.sk-estimator {font-family: monospace;background-color: #f0f8ff;border: 1px dotted black;border-radius: 0.25em;box-sizing: border-box;margin-bottom: 0.5em;}#sk-container-id-7 div.sk-estimator:hover {background-color: #d4ebff;}#sk-container-id-7 div.sk-parallel-item::after {content: \"\";width: 100%;border-bottom: 1px solid gray;flex-grow: 1;}#sk-container-id-7 div.sk-label:hover label.sk-toggleable__label {background-color: #d4ebff;}#sk-container-id-7 div.sk-serial::before {content: \"\";position: absolute;border-left: 1px solid gray;box-sizing: border-box;top: 0;bottom: 0;left: 50%;z-index: 0;}#sk-container-id-7 div.sk-serial {display: flex;flex-direction: column;align-items: center;background-color: white;padding-right: 0.2em;padding-left: 0.2em;position: relative;}#sk-container-id-7 div.sk-item {position: relative;z-index: 1;}#sk-container-id-7 div.sk-parallel {display: flex;align-items: stretch;justify-content: center;background-color: white;position: relative;}#sk-container-id-7 div.sk-item::before, #sk-container-id-7 div.sk-parallel-item::before {content: \"\";position: absolute;border-left: 1px solid gray;box-sizing: border-box;top: 0;bottom: 0;left: 50%;z-index: -1;}#sk-container-id-7 div.sk-parallel-item {display: flex;flex-direction: column;z-index: 1;position: relative;background-color: white;}#sk-container-id-7 div.sk-parallel-item:first-child::after {align-self: flex-end;width: 50%;}#sk-container-id-7 div.sk-parallel-item:last-child::after {align-self: flex-start;width: 50%;}#sk-container-id-7 div.sk-parallel-item:only-child::after {width: 0;}#sk-container-id-7 div.sk-dashed-wrapped {border: 1px dashed gray;margin: 0 0.4em 0.5em 0.4em;box-sizing: border-box;padding-bottom: 0.4em;background-color: white;}#sk-container-id-7 div.sk-label label {font-family: monospace;font-weight: bold;display: inline-block;line-height: 1.2em;}#sk-container-id-7 div.sk-label-container {text-align: center;}#sk-container-id-7 div.sk-container {/* jupyter's `normalize.less` sets `[hidden] { display: none; }` but bootstrap.min.css set `[hidden] { display: none !important; }` so we also need the `!important` here to be able to override the default hidden behavior on the sphinx rendered scikit-learn.org. See: https://github.com/scikit-learn/scikit-learn/issues/21755 */display: inline-block !important;position: relative;}#sk-container-id-7 div.sk-text-repr-fallback {display: none;}</style><div id=\"sk-container-id-7\" class=\"sk-top-container\"><div class=\"sk-text-repr-fallback\"><pre>GridSearchCV(cv=5, estimator=AdaBoostRegressor(),\n",
       "             param_grid={&#x27;learning_rate&#x27;: [0.001, 0.1, 1, 1.5, 2, 2.5],\n",
       "                         &#x27;loss&#x27;: [&#x27;linear&#x27;, &#x27;square&#x27;],\n",
       "                         &#x27;n_estimators&#x27;: [50, 100, 200]},\n",
       "             verbose=3)</pre><b>In a Jupyter environment, please rerun this cell to show the HTML representation or trust the notebook. <br />On GitHub, the HTML representation is unable to render, please try loading this page with nbviewer.org.</b></div><div class=\"sk-container\" hidden><div class=\"sk-item sk-dashed-wrapped\"><div class=\"sk-label-container\"><div class=\"sk-label sk-toggleable\"><input class=\"sk-toggleable__control sk-hidden--visually\" id=\"sk-estimator-id-11\" type=\"checkbox\" ><label for=\"sk-estimator-id-11\" class=\"sk-toggleable__label sk-toggleable__label-arrow\">GridSearchCV</label><div class=\"sk-toggleable__content\"><pre>GridSearchCV(cv=5, estimator=AdaBoostRegressor(),\n",
       "             param_grid={&#x27;learning_rate&#x27;: [0.001, 0.1, 1, 1.5, 2, 2.5],\n",
       "                         &#x27;loss&#x27;: [&#x27;linear&#x27;, &#x27;square&#x27;],\n",
       "                         &#x27;n_estimators&#x27;: [50, 100, 200]},\n",
       "             verbose=3)</pre></div></div></div><div class=\"sk-parallel\"><div class=\"sk-parallel-item\"><div class=\"sk-item\"><div class=\"sk-label-container\"><div class=\"sk-label sk-toggleable\"><input class=\"sk-toggleable__control sk-hidden--visually\" id=\"sk-estimator-id-12\" type=\"checkbox\" ><label for=\"sk-estimator-id-12\" class=\"sk-toggleable__label sk-toggleable__label-arrow\">estimator: AdaBoostRegressor</label><div class=\"sk-toggleable__content\"><pre>AdaBoostRegressor()</pre></div></div></div><div class=\"sk-serial\"><div class=\"sk-item\"><div class=\"sk-estimator sk-toggleable\"><input class=\"sk-toggleable__control sk-hidden--visually\" id=\"sk-estimator-id-13\" type=\"checkbox\" ><label for=\"sk-estimator-id-13\" class=\"sk-toggleable__label sk-toggleable__label-arrow\">AdaBoostRegressor</label><div class=\"sk-toggleable__content\"><pre>AdaBoostRegressor()</pre></div></div></div></div></div></div></div></div></div></div>"
      ],
      "text/plain": [
       "GridSearchCV(cv=5, estimator=AdaBoostRegressor(),\n",
       "             param_grid={'learning_rate': [0.001, 0.1, 1, 1.5, 2, 2.5],\n",
       "                         'loss': ['linear', 'square'],\n",
       "                         'n_estimators': [50, 100, 200]},\n",
       "             verbose=3)"
      ]
     },
     "execution_count": 55,
     "metadata": {},
     "output_type": "execute_result"
    }
   ],
   "source": [
    "from sklearn.model_selection import GridSearchCV\n",
    "param_grid = {\"n_estimators\": [50, 100, 200],\n",
    "             \"learning_rate\": [0.001, 0.1, 1, 1.5, 2, 2.5],\n",
    "             \"loss\": [\"linear\", \"square\"]}\n",
    "\n",
    "adr =  AdaBoostRegressor()\n",
    "\n",
    "reg = GridSearchCV(estimator=adr, param_grid=param_grid, cv = 5, verbose = 3)\n",
    "reg"
   ]
  },
  {
   "cell_type": "code",
   "execution_count": 56,
   "id": "24cd3160",
   "metadata": {},
   "outputs": [
    {
     "name": "stdout",
     "output_type": "stream",
     "text": [
      "Fitting 5 folds for each of 36 candidates, totalling 180 fits\n",
      "[CV 1/5] END learning_rate=0.001, loss=linear, n_estimators=50;, score=0.939 total time=   0.1s\n",
      "[CV 2/5] END learning_rate=0.001, loss=linear, n_estimators=50;, score=0.936 total time=   0.0s\n",
      "[CV 3/5] END learning_rate=0.001, loss=linear, n_estimators=50;, score=0.945 total time=   0.1s\n",
      "[CV 4/5] END learning_rate=0.001, loss=linear, n_estimators=50;, score=0.936 total time=   0.1s\n",
      "[CV 5/5] END learning_rate=0.001, loss=linear, n_estimators=50;, score=0.938 total time=   0.0s\n",
      "[CV 1/5] END learning_rate=0.001, loss=linear, n_estimators=100;, score=0.942 total time=   0.2s\n",
      "[CV 2/5] END learning_rate=0.001, loss=linear, n_estimators=100;, score=0.934 total time=   0.2s\n",
      "[CV 3/5] END learning_rate=0.001, loss=linear, n_estimators=100;, score=0.944 total time=   0.2s\n",
      "[CV 4/5] END learning_rate=0.001, loss=linear, n_estimators=100;, score=0.935 total time=   0.2s\n",
      "[CV 5/5] END learning_rate=0.001, loss=linear, n_estimators=100;, score=0.939 total time=   0.2s\n",
      "[CV 1/5] END learning_rate=0.001, loss=linear, n_estimators=200;, score=0.940 total time=   0.5s\n",
      "[CV 2/5] END learning_rate=0.001, loss=linear, n_estimators=200;, score=0.934 total time=   0.5s\n",
      "[CV 3/5] END learning_rate=0.001, loss=linear, n_estimators=200;, score=0.945 total time=   0.5s\n",
      "[CV 4/5] END learning_rate=0.001, loss=linear, n_estimators=200;, score=0.936 total time=   0.5s\n",
      "[CV 5/5] END learning_rate=0.001, loss=linear, n_estimators=200;, score=0.938 total time=   0.5s\n",
      "[CV 1/5] END learning_rate=0.001, loss=square, n_estimators=50;, score=0.940 total time=   0.1s\n",
      "[CV 2/5] END learning_rate=0.001, loss=square, n_estimators=50;, score=0.936 total time=   0.0s\n",
      "[CV 3/5] END learning_rate=0.001, loss=square, n_estimators=50;, score=0.944 total time=   0.1s\n",
      "[CV 4/5] END learning_rate=0.001, loss=square, n_estimators=50;, score=0.936 total time=   0.1s\n",
      "[CV 5/5] END learning_rate=0.001, loss=square, n_estimators=50;, score=0.937 total time=   0.0s\n",
      "[CV 1/5] END learning_rate=0.001, loss=square, n_estimators=100;, score=0.941 total time=   0.2s\n",
      "[CV 2/5] END learning_rate=0.001, loss=square, n_estimators=100;, score=0.936 total time=   0.2s\n",
      "[CV 3/5] END learning_rate=0.001, loss=square, n_estimators=100;, score=0.943 total time=   0.2s\n",
      "[CV 4/5] END learning_rate=0.001, loss=square, n_estimators=100;, score=0.935 total time=   0.2s\n",
      "[CV 5/5] END learning_rate=0.001, loss=square, n_estimators=100;, score=0.938 total time=   0.2s\n",
      "[CV 1/5] END learning_rate=0.001, loss=square, n_estimators=200;, score=0.942 total time=   0.4s\n",
      "[CV 2/5] END learning_rate=0.001, loss=square, n_estimators=200;, score=0.934 total time=   0.4s\n",
      "[CV 3/5] END learning_rate=0.001, loss=square, n_estimators=200;, score=0.944 total time=   0.5s\n",
      "[CV 4/5] END learning_rate=0.001, loss=square, n_estimators=200;, score=0.935 total time=   0.5s\n",
      "[CV 5/5] END learning_rate=0.001, loss=square, n_estimators=200;, score=0.938 total time=   0.5s\n",
      "[CV 1/5] END learning_rate=0.1, loss=linear, n_estimators=50;, score=0.949 total time=   0.0s\n",
      "[CV 2/5] END learning_rate=0.1, loss=linear, n_estimators=50;, score=0.942 total time=   0.1s\n",
      "[CV 3/5] END learning_rate=0.1, loss=linear, n_estimators=50;, score=0.954 total time=   0.1s\n",
      "[CV 4/5] END learning_rate=0.1, loss=linear, n_estimators=50;, score=0.944 total time=   0.1s\n",
      "[CV 5/5] END learning_rate=0.1, loss=linear, n_estimators=50;, score=0.944 total time=   0.1s\n",
      "[CV 1/5] END learning_rate=0.1, loss=linear, n_estimators=100;, score=0.956 total time=   0.2s\n",
      "[CV 2/5] END learning_rate=0.1, loss=linear, n_estimators=100;, score=0.948 total time=   0.2s\n",
      "[CV 3/5] END learning_rate=0.1, loss=linear, n_estimators=100;, score=0.957 total time=   0.2s\n",
      "[CV 4/5] END learning_rate=0.1, loss=linear, n_estimators=100;, score=0.948 total time=   0.2s\n",
      "[CV 5/5] END learning_rate=0.1, loss=linear, n_estimators=100;, score=0.947 total time=   0.2s\n",
      "[CV 1/5] END learning_rate=0.1, loss=linear, n_estimators=200;, score=0.960 total time=   0.5s\n",
      "[CV 2/5] END learning_rate=0.1, loss=linear, n_estimators=200;, score=0.949 total time=   0.5s\n",
      "[CV 3/5] END learning_rate=0.1, loss=linear, n_estimators=200;, score=0.961 total time=   0.5s\n",
      "[CV 4/5] END learning_rate=0.1, loss=linear, n_estimators=200;, score=0.950 total time=   0.5s\n",
      "[CV 5/5] END learning_rate=0.1, loss=linear, n_estimators=200;, score=0.954 total time=   0.5s\n",
      "[CV 1/5] END learning_rate=0.1, loss=square, n_estimators=50;, score=0.953 total time=   0.0s\n",
      "[CV 2/5] END learning_rate=0.1, loss=square, n_estimators=50;, score=0.945 total time=   0.1s\n",
      "[CV 3/5] END learning_rate=0.1, loss=square, n_estimators=50;, score=0.957 total time=   0.0s\n",
      "[CV 4/5] END learning_rate=0.1, loss=square, n_estimators=50;, score=0.943 total time=   0.0s\n",
      "[CV 5/5] END learning_rate=0.1, loss=square, n_estimators=50;, score=0.945 total time=   0.0s\n",
      "[CV 1/5] END learning_rate=0.1, loss=square, n_estimators=100;, score=0.959 total time=   0.2s\n",
      "[CV 2/5] END learning_rate=0.1, loss=square, n_estimators=100;, score=0.947 total time=   0.2s\n",
      "[CV 3/5] END learning_rate=0.1, loss=square, n_estimators=100;, score=0.960 total time=   0.2s\n",
      "[CV 4/5] END learning_rate=0.1, loss=square, n_estimators=100;, score=0.949 total time=   0.2s\n",
      "[CV 5/5] END learning_rate=0.1, loss=square, n_estimators=100;, score=0.954 total time=   0.2s\n",
      "[CV 1/5] END learning_rate=0.1, loss=square, n_estimators=200;, score=0.961 total time=   0.4s\n",
      "[CV 2/5] END learning_rate=0.1, loss=square, n_estimators=200;, score=0.950 total time=   0.4s\n",
      "[CV 3/5] END learning_rate=0.1, loss=square, n_estimators=200;, score=0.965 total time=   0.4s\n",
      "[CV 4/5] END learning_rate=0.1, loss=square, n_estimators=200;, score=0.954 total time=   0.5s\n",
      "[CV 5/5] END learning_rate=0.1, loss=square, n_estimators=200;, score=0.957 total time=   0.4s\n",
      "[CV 1/5] END learning_rate=1, loss=linear, n_estimators=50;, score=0.962 total time=   0.0s\n",
      "[CV 2/5] END learning_rate=1, loss=linear, n_estimators=50;, score=0.952 total time=   0.0s\n",
      "[CV 3/5] END learning_rate=1, loss=linear, n_estimators=50;, score=0.967 total time=   0.0s\n",
      "[CV 4/5] END learning_rate=1, loss=linear, n_estimators=50;, score=0.960 total time=   0.0s\n",
      "[CV 5/5] END learning_rate=1, loss=linear, n_estimators=50;, score=0.960 total time=   0.0s\n",
      "[CV 1/5] END learning_rate=1, loss=linear, n_estimators=100;, score=0.967 total time=   0.1s\n",
      "[CV 2/5] END learning_rate=1, loss=linear, n_estimators=100;, score=0.956 total time=   0.1s\n",
      "[CV 3/5] END learning_rate=1, loss=linear, n_estimators=100;, score=0.971 total time=   0.1s\n",
      "[CV 4/5] END learning_rate=1, loss=linear, n_estimators=100;, score=0.964 total time=   0.1s\n",
      "[CV 5/5] END learning_rate=1, loss=linear, n_estimators=100;, score=0.964 total time=   0.1s\n",
      "[CV 1/5] END learning_rate=1, loss=linear, n_estimators=200;, score=0.966 total time=   0.4s\n",
      "[CV 2/5] END learning_rate=1, loss=linear, n_estimators=200;, score=0.959 total time=   0.4s\n",
      "[CV 3/5] END learning_rate=1, loss=linear, n_estimators=200;, score=0.971 total time=   0.4s\n",
      "[CV 4/5] END learning_rate=1, loss=linear, n_estimators=200;, score=0.965 total time=   0.2s\n",
      "[CV 5/5] END learning_rate=1, loss=linear, n_estimators=200;, score=0.967 total time=   0.4s\n",
      "[CV 1/5] END learning_rate=1, loss=square, n_estimators=50;, score=0.966 total time=   0.0s\n",
      "[CV 2/5] END learning_rate=1, loss=square, n_estimators=50;, score=0.953 total time=   0.0s\n",
      "[CV 3/5] END learning_rate=1, loss=square, n_estimators=50;, score=0.972 total time=   0.0s\n",
      "[CV 4/5] END learning_rate=1, loss=square, n_estimators=50;, score=0.960 total time=   0.0s\n",
      "[CV 5/5] END learning_rate=1, loss=square, n_estimators=50;, score=0.967 total time=   0.0s\n",
      "[CV 1/5] END learning_rate=1, loss=square, n_estimators=100;, score=0.967 total time=   0.1s\n",
      "[CV 2/5] END learning_rate=1, loss=square, n_estimators=100;, score=0.962 total time=   0.1s\n",
      "[CV 3/5] END learning_rate=1, loss=square, n_estimators=100;, score=0.971 total time=   0.1s\n",
      "[CV 4/5] END learning_rate=1, loss=square, n_estimators=100;, score=0.966 total time=   0.1s\n",
      "[CV 5/5] END learning_rate=1, loss=square, n_estimators=100;, score=0.969 total time=   0.1s\n",
      "[CV 1/5] END learning_rate=1, loss=square, n_estimators=200;, score=0.971 total time=   0.3s\n"
     ]
    },
    {
     "name": "stdout",
     "output_type": "stream",
     "text": [
      "[CV 2/5] END learning_rate=1, loss=square, n_estimators=200;, score=0.959 total time=   0.3s\n",
      "[CV 3/5] END learning_rate=1, loss=square, n_estimators=200;, score=0.973 total time=   0.3s\n",
      "[CV 4/5] END learning_rate=1, loss=square, n_estimators=200;, score=0.965 total time=   0.3s\n",
      "[CV 5/5] END learning_rate=1, loss=square, n_estimators=200;, score=0.968 total time=   0.4s\n",
      "[CV 1/5] END learning_rate=1.5, loss=linear, n_estimators=50;, score=0.970 total time=   0.0s\n",
      "[CV 2/5] END learning_rate=1.5, loss=linear, n_estimators=50;, score=0.961 total time=   0.0s\n",
      "[CV 3/5] END learning_rate=1.5, loss=linear, n_estimators=50;, score=0.969 total time=   0.0s\n",
      "[CV 4/5] END learning_rate=1.5, loss=linear, n_estimators=50;, score=0.959 total time=   0.0s\n",
      "[CV 5/5] END learning_rate=1.5, loss=linear, n_estimators=50;, score=0.962 total time=   0.0s\n",
      "[CV 1/5] END learning_rate=1.5, loss=linear, n_estimators=100;, score=0.968 total time=   0.2s\n",
      "[CV 2/5] END learning_rate=1.5, loss=linear, n_estimators=100;, score=0.961 total time=   0.2s\n",
      "[CV 3/5] END learning_rate=1.5, loss=linear, n_estimators=100;, score=0.971 total time=   0.2s\n",
      "[CV 4/5] END learning_rate=1.5, loss=linear, n_estimators=100;, score=0.965 total time=   0.2s\n",
      "[CV 5/5] END learning_rate=1.5, loss=linear, n_estimators=100;, score=0.970 total time=   0.2s\n",
      "[CV 1/5] END learning_rate=1.5, loss=linear, n_estimators=200;, score=0.969 total time=   0.4s\n",
      "[CV 2/5] END learning_rate=1.5, loss=linear, n_estimators=200;, score=0.961 total time=   0.4s\n",
      "[CV 3/5] END learning_rate=1.5, loss=linear, n_estimators=200;, score=0.971 total time=   0.4s\n",
      "[CV 4/5] END learning_rate=1.5, loss=linear, n_estimators=200;, score=0.966 total time=   0.4s\n",
      "[CV 5/5] END learning_rate=1.5, loss=linear, n_estimators=200;, score=0.967 total time=   0.4s\n",
      "[CV 1/5] END learning_rate=1.5, loss=square, n_estimators=50;, score=0.972 total time=   0.0s\n",
      "[CV 2/5] END learning_rate=1.5, loss=square, n_estimators=50;, score=0.963 total time=   0.0s\n",
      "[CV 3/5] END learning_rate=1.5, loss=square, n_estimators=50;, score=0.972 total time=   0.0s\n",
      "[CV 4/5] END learning_rate=1.5, loss=square, n_estimators=50;, score=0.967 total time=   0.0s\n",
      "[CV 5/5] END learning_rate=1.5, loss=square, n_estimators=50;, score=0.970 total time=   0.0s\n",
      "[CV 1/5] END learning_rate=1.5, loss=square, n_estimators=100;, score=0.976 total time=   0.1s\n",
      "[CV 2/5] END learning_rate=1.5, loss=square, n_estimators=100;, score=0.964 total time=   0.1s\n",
      "[CV 3/5] END learning_rate=1.5, loss=square, n_estimators=100;, score=0.976 total time=   0.1s\n",
      "[CV 4/5] END learning_rate=1.5, loss=square, n_estimators=100;, score=0.967 total time=   0.1s\n",
      "[CV 5/5] END learning_rate=1.5, loss=square, n_estimators=100;, score=0.972 total time=   0.1s\n",
      "[CV 1/5] END learning_rate=1.5, loss=square, n_estimators=200;, score=0.974 total time=   0.4s\n",
      "[CV 2/5] END learning_rate=1.5, loss=square, n_estimators=200;, score=0.964 total time=   0.3s\n",
      "[CV 3/5] END learning_rate=1.5, loss=square, n_estimators=200;, score=0.974 total time=   0.4s\n",
      "[CV 4/5] END learning_rate=1.5, loss=square, n_estimators=200;, score=0.969 total time=   0.3s\n",
      "[CV 5/5] END learning_rate=1.5, loss=square, n_estimators=200;, score=0.971 total time=   0.4s\n",
      "[CV 1/5] END learning_rate=2, loss=linear, n_estimators=50;, score=0.972 total time=   0.0s\n",
      "[CV 2/5] END learning_rate=2, loss=linear, n_estimators=50;, score=0.959 total time=   0.0s\n",
      "[CV 3/5] END learning_rate=2, loss=linear, n_estimators=50;, score=0.972 total time=   0.0s\n",
      "[CV 4/5] END learning_rate=2, loss=linear, n_estimators=50;, score=0.964 total time=   0.0s\n",
      "[CV 5/5] END learning_rate=2, loss=linear, n_estimators=50;, score=0.967 total time=   0.0s\n",
      "[CV 1/5] END learning_rate=2, loss=linear, n_estimators=100;, score=0.971 total time=   0.1s\n",
      "[CV 2/5] END learning_rate=2, loss=linear, n_estimators=100;, score=0.960 total time=   0.0s\n",
      "[CV 3/5] END learning_rate=2, loss=linear, n_estimators=100;, score=0.973 total time=   0.1s\n",
      "[CV 4/5] END learning_rate=2, loss=linear, n_estimators=100;, score=0.966 total time=   0.2s\n",
      "[CV 5/5] END learning_rate=2, loss=linear, n_estimators=100;, score=0.972 total time=   0.1s\n",
      "[CV 1/5] END learning_rate=2, loss=linear, n_estimators=200;, score=0.972 total time=   0.4s\n",
      "[CV 2/5] END learning_rate=2, loss=linear, n_estimators=200;, score=0.962 total time=   0.4s\n",
      "[CV 3/5] END learning_rate=2, loss=linear, n_estimators=200;, score=0.974 total time=   0.4s\n",
      "[CV 4/5] END learning_rate=2, loss=linear, n_estimators=200;, score=0.967 total time=   0.4s\n",
      "[CV 5/5] END learning_rate=2, loss=linear, n_estimators=200;, score=0.970 total time=   0.4s\n",
      "[CV 1/5] END learning_rate=2, loss=square, n_estimators=50;, score=0.959 total time=   0.0s\n",
      "[CV 2/5] END learning_rate=2, loss=square, n_estimators=50;, score=0.893 total time=   0.0s\n",
      "[CV 3/5] END learning_rate=2, loss=square, n_estimators=50;, score=0.971 total time=   0.0s\n",
      "[CV 4/5] END learning_rate=2, loss=square, n_estimators=50;, score=0.961 total time=   0.0s\n",
      "[CV 5/5] END learning_rate=2, loss=square, n_estimators=50;, score=0.968 total time=   0.0s\n",
      "[CV 1/5] END learning_rate=2, loss=square, n_estimators=100;, score=0.975 total time=   0.1s\n",
      "[CV 2/5] END learning_rate=2, loss=square, n_estimators=100;, score=0.959 total time=   0.1s\n",
      "[CV 3/5] END learning_rate=2, loss=square, n_estimators=100;, score=0.968 total time=   0.1s\n",
      "[CV 4/5] END learning_rate=2, loss=square, n_estimators=100;, score=0.954 total time=   0.1s\n",
      "[CV 5/5] END learning_rate=2, loss=square, n_estimators=100;, score=0.966 total time=   0.1s\n",
      "[CV 1/5] END learning_rate=2, loss=square, n_estimators=200;, score=0.930 total time=   0.3s\n",
      "[CV 2/5] END learning_rate=2, loss=square, n_estimators=200;, score=0.966 total time=   0.3s\n",
      "[CV 3/5] END learning_rate=2, loss=square, n_estimators=200;, score=0.960 total time=   0.3s\n",
      "[CV 4/5] END learning_rate=2, loss=square, n_estimators=200;, score=0.958 total time=   0.3s\n",
      "[CV 5/5] END learning_rate=2, loss=square, n_estimators=200;, score=0.960 total time=   0.3s\n",
      "[CV 1/5] END learning_rate=2.5, loss=linear, n_estimators=50;, score=0.971 total time=   0.0s\n",
      "[CV 2/5] END learning_rate=2.5, loss=linear, n_estimators=50;, score=0.962 total time=   0.1s\n",
      "[CV 3/5] END learning_rate=2.5, loss=linear, n_estimators=50;, score=0.974 total time=   0.1s\n",
      "[CV 4/5] END learning_rate=2.5, loss=linear, n_estimators=50;, score=0.966 total time=   0.0s\n",
      "[CV 5/5] END learning_rate=2.5, loss=linear, n_estimators=50;, score=0.968 total time=   0.0s\n",
      "[CV 1/5] END learning_rate=2.5, loss=linear, n_estimators=100;, score=0.971 total time=   0.2s\n",
      "[CV 2/5] END learning_rate=2.5, loss=linear, n_estimators=100;, score=0.961 total time=   0.2s\n",
      "[CV 3/5] END learning_rate=2.5, loss=linear, n_estimators=100;, score=0.974 total time=   0.2s\n",
      "[CV 4/5] END learning_rate=2.5, loss=linear, n_estimators=100;, score=0.971 total time=   0.2s\n",
      "[CV 5/5] END learning_rate=2.5, loss=linear, n_estimators=100;, score=0.970 total time=   0.2s\n",
      "[CV 1/5] END learning_rate=2.5, loss=linear, n_estimators=200;, score=0.972 total time=   0.4s\n",
      "[CV 2/5] END learning_rate=2.5, loss=linear, n_estimators=200;, score=0.964 total time=   0.3s\n",
      "[CV 3/5] END learning_rate=2.5, loss=linear, n_estimators=200;, score=0.975 total time=   0.4s\n",
      "[CV 4/5] END learning_rate=2.5, loss=linear, n_estimators=200;, score=0.969 total time=   0.4s\n",
      "[CV 5/5] END learning_rate=2.5, loss=linear, n_estimators=200;, score=0.971 total time=   0.4s\n",
      "[CV 1/5] END learning_rate=2.5, loss=square, n_estimators=50;, score=0.872 total time=   0.0s\n",
      "[CV 2/5] END learning_rate=2.5, loss=square, n_estimators=50;, score=0.639 total time=   0.0s\n",
      "[CV 3/5] END learning_rate=2.5, loss=square, n_estimators=50;, score=0.935 total time=   0.0s\n",
      "[CV 4/5] END learning_rate=2.5, loss=square, n_estimators=50;, score=0.617 total time=   0.0s\n",
      "[CV 5/5] END learning_rate=2.5, loss=square, n_estimators=50;, score=0.864 total time=   0.0s\n",
      "[CV 1/5] END learning_rate=2.5, loss=square, n_estimators=100;, score=0.867 total time=   0.1s\n",
      "[CV 2/5] END learning_rate=2.5, loss=square, n_estimators=100;, score=0.839 total time=   0.1s\n",
      "[CV 3/5] END learning_rate=2.5, loss=square, n_estimators=100;, score=0.959 total time=   0.1s\n",
      "[CV 4/5] END learning_rate=2.5, loss=square, n_estimators=100;, score=0.853 total time=   0.1s\n"
     ]
    },
    {
     "name": "stdout",
     "output_type": "stream",
     "text": [
      "[CV 5/5] END learning_rate=2.5, loss=square, n_estimators=100;, score=0.888 total time=   0.1s\n",
      "[CV 1/5] END learning_rate=2.5, loss=square, n_estimators=200;, score=0.924 total time=   0.3s\n",
      "[CV 2/5] END learning_rate=2.5, loss=square, n_estimators=200;, score=0.665 total time=   0.3s\n",
      "[CV 3/5] END learning_rate=2.5, loss=square, n_estimators=200;, score=0.951 total time=   0.3s\n",
      "[CV 4/5] END learning_rate=2.5, loss=square, n_estimators=200;, score=0.792 total time=   0.3s\n",
      "[CV 5/5] END learning_rate=2.5, loss=square, n_estimators=200;, score=0.919 total time=   0.3s\n"
     ]
    },
    {
     "data": {
      "text/html": [
       "<style>#sk-container-id-8 {color: black;}#sk-container-id-8 pre{padding: 0;}#sk-container-id-8 div.sk-toggleable {background-color: white;}#sk-container-id-8 label.sk-toggleable__label {cursor: pointer;display: block;width: 100%;margin-bottom: 0;padding: 0.3em;box-sizing: border-box;text-align: center;}#sk-container-id-8 label.sk-toggleable__label-arrow:before {content: \"▸\";float: left;margin-right: 0.25em;color: #696969;}#sk-container-id-8 label.sk-toggleable__label-arrow:hover:before {color: black;}#sk-container-id-8 div.sk-estimator:hover label.sk-toggleable__label-arrow:before {color: black;}#sk-container-id-8 div.sk-toggleable__content {max-height: 0;max-width: 0;overflow: hidden;text-align: left;background-color: #f0f8ff;}#sk-container-id-8 div.sk-toggleable__content pre {margin: 0.2em;color: black;border-radius: 0.25em;background-color: #f0f8ff;}#sk-container-id-8 input.sk-toggleable__control:checked~div.sk-toggleable__content {max-height: 200px;max-width: 100%;overflow: auto;}#sk-container-id-8 input.sk-toggleable__control:checked~label.sk-toggleable__label-arrow:before {content: \"▾\";}#sk-container-id-8 div.sk-estimator input.sk-toggleable__control:checked~label.sk-toggleable__label {background-color: #d4ebff;}#sk-container-id-8 div.sk-label input.sk-toggleable__control:checked~label.sk-toggleable__label {background-color: #d4ebff;}#sk-container-id-8 input.sk-hidden--visually {border: 0;clip: rect(1px 1px 1px 1px);clip: rect(1px, 1px, 1px, 1px);height: 1px;margin: -1px;overflow: hidden;padding: 0;position: absolute;width: 1px;}#sk-container-id-8 div.sk-estimator {font-family: monospace;background-color: #f0f8ff;border: 1px dotted black;border-radius: 0.25em;box-sizing: border-box;margin-bottom: 0.5em;}#sk-container-id-8 div.sk-estimator:hover {background-color: #d4ebff;}#sk-container-id-8 div.sk-parallel-item::after {content: \"\";width: 100%;border-bottom: 1px solid gray;flex-grow: 1;}#sk-container-id-8 div.sk-label:hover label.sk-toggleable__label {background-color: #d4ebff;}#sk-container-id-8 div.sk-serial::before {content: \"\";position: absolute;border-left: 1px solid gray;box-sizing: border-box;top: 0;bottom: 0;left: 50%;z-index: 0;}#sk-container-id-8 div.sk-serial {display: flex;flex-direction: column;align-items: center;background-color: white;padding-right: 0.2em;padding-left: 0.2em;position: relative;}#sk-container-id-8 div.sk-item {position: relative;z-index: 1;}#sk-container-id-8 div.sk-parallel {display: flex;align-items: stretch;justify-content: center;background-color: white;position: relative;}#sk-container-id-8 div.sk-item::before, #sk-container-id-8 div.sk-parallel-item::before {content: \"\";position: absolute;border-left: 1px solid gray;box-sizing: border-box;top: 0;bottom: 0;left: 50%;z-index: -1;}#sk-container-id-8 div.sk-parallel-item {display: flex;flex-direction: column;z-index: 1;position: relative;background-color: white;}#sk-container-id-8 div.sk-parallel-item:first-child::after {align-self: flex-end;width: 50%;}#sk-container-id-8 div.sk-parallel-item:last-child::after {align-self: flex-start;width: 50%;}#sk-container-id-8 div.sk-parallel-item:only-child::after {width: 0;}#sk-container-id-8 div.sk-dashed-wrapped {border: 1px dashed gray;margin: 0 0.4em 0.5em 0.4em;box-sizing: border-box;padding-bottom: 0.4em;background-color: white;}#sk-container-id-8 div.sk-label label {font-family: monospace;font-weight: bold;display: inline-block;line-height: 1.2em;}#sk-container-id-8 div.sk-label-container {text-align: center;}#sk-container-id-8 div.sk-container {/* jupyter's `normalize.less` sets `[hidden] { display: none; }` but bootstrap.min.css set `[hidden] { display: none !important; }` so we also need the `!important` here to be able to override the default hidden behavior on the sphinx rendered scikit-learn.org. See: https://github.com/scikit-learn/scikit-learn/issues/21755 */display: inline-block !important;position: relative;}#sk-container-id-8 div.sk-text-repr-fallback {display: none;}</style><div id=\"sk-container-id-8\" class=\"sk-top-container\"><div class=\"sk-text-repr-fallback\"><pre>GridSearchCV(cv=5, estimator=AdaBoostRegressor(),\n",
       "             param_grid={&#x27;learning_rate&#x27;: [0.001, 0.1, 1, 1.5, 2, 2.5],\n",
       "                         &#x27;loss&#x27;: [&#x27;linear&#x27;, &#x27;square&#x27;],\n",
       "                         &#x27;n_estimators&#x27;: [50, 100, 200]},\n",
       "             verbose=3)</pre><b>In a Jupyter environment, please rerun this cell to show the HTML representation or trust the notebook. <br />On GitHub, the HTML representation is unable to render, please try loading this page with nbviewer.org.</b></div><div class=\"sk-container\" hidden><div class=\"sk-item sk-dashed-wrapped\"><div class=\"sk-label-container\"><div class=\"sk-label sk-toggleable\"><input class=\"sk-toggleable__control sk-hidden--visually\" id=\"sk-estimator-id-14\" type=\"checkbox\" ><label for=\"sk-estimator-id-14\" class=\"sk-toggleable__label sk-toggleable__label-arrow\">GridSearchCV</label><div class=\"sk-toggleable__content\"><pre>GridSearchCV(cv=5, estimator=AdaBoostRegressor(),\n",
       "             param_grid={&#x27;learning_rate&#x27;: [0.001, 0.1, 1, 1.5, 2, 2.5],\n",
       "                         &#x27;loss&#x27;: [&#x27;linear&#x27;, &#x27;square&#x27;],\n",
       "                         &#x27;n_estimators&#x27;: [50, 100, 200]},\n",
       "             verbose=3)</pre></div></div></div><div class=\"sk-parallel\"><div class=\"sk-parallel-item\"><div class=\"sk-item\"><div class=\"sk-label-container\"><div class=\"sk-label sk-toggleable\"><input class=\"sk-toggleable__control sk-hidden--visually\" id=\"sk-estimator-id-15\" type=\"checkbox\" ><label for=\"sk-estimator-id-15\" class=\"sk-toggleable__label sk-toggleable__label-arrow\">estimator: AdaBoostRegressor</label><div class=\"sk-toggleable__content\"><pre>AdaBoostRegressor()</pre></div></div></div><div class=\"sk-serial\"><div class=\"sk-item\"><div class=\"sk-estimator sk-toggleable\"><input class=\"sk-toggleable__control sk-hidden--visually\" id=\"sk-estimator-id-16\" type=\"checkbox\" ><label for=\"sk-estimator-id-16\" class=\"sk-toggleable__label sk-toggleable__label-arrow\">AdaBoostRegressor</label><div class=\"sk-toggleable__content\"><pre>AdaBoostRegressor()</pre></div></div></div></div></div></div></div></div></div></div>"
      ],
      "text/plain": [
       "GridSearchCV(cv=5, estimator=AdaBoostRegressor(),\n",
       "             param_grid={'learning_rate': [0.001, 0.1, 1, 1.5, 2, 2.5],\n",
       "                         'loss': ['linear', 'square'],\n",
       "                         'n_estimators': [50, 100, 200]},\n",
       "             verbose=3)"
      ]
     },
     "execution_count": 56,
     "metadata": {},
     "output_type": "execute_result"
    }
   ],
   "source": [
    "reg.fit(x_train,y_train)"
   ]
  },
  {
   "cell_type": "code",
   "execution_count": 57,
   "id": "70d8b52a",
   "metadata": {},
   "outputs": [
    {
     "data": {
      "text/plain": [
       "{'learning_rate': 1.5, 'loss': 'square', 'n_estimators': 100}"
      ]
     },
     "execution_count": 57,
     "metadata": {},
     "output_type": "execute_result"
    }
   ],
   "source": [
    "reg.best_params_"
   ]
  },
  {
   "cell_type": "code",
   "execution_count": 58,
   "id": "bef57339",
   "metadata": {},
   "outputs": [
    {
     "data": {
      "text/plain": [
       "0.9710970863719208"
      ]
     },
     "execution_count": 58,
     "metadata": {},
     "output_type": "execute_result"
    }
   ],
   "source": [
    "reg.best_score_"
   ]
  },
  {
   "cell_type": "code",
   "execution_count": null,
   "id": "e3f2be3f",
   "metadata": {},
   "outputs": [],
   "source": []
  }
 ],
 "metadata": {
  "kernelspec": {
   "display_name": "Python 3 (ipykernel)",
   "language": "python",
   "name": "python3"
  },
  "language_info": {
   "codemirror_mode": {
    "name": "ipython",
    "version": 3
   },
   "file_extension": ".py",
   "mimetype": "text/x-python",
   "name": "python",
   "nbconvert_exporter": "python",
   "pygments_lexer": "ipython3",
   "version": "3.11.4"
  }
 },
 "nbformat": 4,
 "nbformat_minor": 5
}
