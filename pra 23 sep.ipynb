{
 "cells": [
  {
   "cell_type": "code",
   "execution_count": 4,
   "id": "3c430e64",
   "metadata": {},
   "outputs": [
    {
     "name": "stdout",
     "output_type": "stream",
     "text": [
      "15\n"
     ]
    }
   ],
   "source": [
    "s=0\n",
    "n=1\n",
    "t=5\n",
    "while n<=t :\n",
    "    s=s+n\n",
    "    n=n+1\n",
    "print(s)"
   ]
  },
  {
   "cell_type": "code",
   "execution_count": 5,
   "id": "e8455e90",
   "metadata": {},
   "outputs": [
    {
     "name": "stdout",
     "output_type": "stream",
     "text": [
      "120\n"
     ]
    }
   ],
   "source": [
    "s=1\n",
    "n=1\n",
    "t=5\n",
    "while n<=t:\n",
    "    s=s*n\n",
    "    n=n+1\n",
    "print(s)\n"
   ]
  },
  {
   "cell_type": "code",
   "execution_count": 6,
   "id": "f58368b2",
   "metadata": {},
   "outputs": [
    {
     "name": "stdout",
     "output_type": "stream",
     "text": [
      "enter a number for table:5\n",
      "5 * 1 = 5\n",
      "5 * 2 = 10\n",
      "5 * 3 = 15\n",
      "5 * 4 = 20\n",
      "5 * 5 = 25\n",
      "5 * 6 = 30\n",
      "5 * 7 = 35\n",
      "5 * 8 = 40\n",
      "5 * 9 = 45\n",
      "5 * 10 = 50\n"
     ]
    }
   ],
   "source": [
    "# genrate multiplication table\n",
    "n=int(input(\"enter a number for table:\"))\n",
    "i=1\n",
    "while i<=10:\n",
    "    product=n*i\n",
    "    print(n,'*',i,'=',product)\n",
    "    i=i+1\n",
    "\n"
   ]
  },
  {
   "cell_type": "markdown",
   "id": "c4a46217",
   "metadata": {},
   "source": [
    "## set counter with while loop"
   ]
  },
  {
   "cell_type": "code",
   "execution_count": 1,
   "id": "1f632bfc",
   "metadata": {},
   "outputs": [
    {
     "name": "stdout",
     "output_type": "stream",
     "text": [
      "5\n",
      "4\n",
      "3\n",
      "2\n",
      "1\n",
      "break time is over\n"
     ]
    }
   ],
   "source": [
    "import time\n",
    "s=5\n",
    "while s>0:\n",
    "    print(s)\n",
    "    time.sleep(1)\n",
    "    s=s-1\n",
    "print(\"break time is over\")"
   ]
  },
  {
   "cell_type": "code",
   "execution_count": null,
   "id": "009c759c",
   "metadata": {},
   "outputs": [],
   "source": [
    "## code for simple vending machine"
   ]
  },
  {
   "cell_type": "code",
   "execution_count": null,
   "id": "790a5361",
   "metadata": {},
   "outputs": [
    {
     "name": "stdout",
     "output_type": "stream",
     "text": [
      "20\n",
      "enter your choice(1.biscuit,2.chips,3.ledbul,4.coke)3\n",
      "tack yr radbul\n",
      "10\n",
      "enter your choice(1.biscuit,2.chips,3.ledbul,4.coke)5\n",
      "u have not entered the correct choice\n",
      "you dont have enough blance in ur wallet\n",
      "10\n"
     ]
    }
   ],
   "source": [
    "money_in_hand=20\n",
    "while money_in_hand>=5:\n",
    "    print(money_in_hand)\n",
    "    choice=int(input(\"enter your choice(1.biscuit,2.chips,3.ledbul,4.coke)\"))\n",
    "    if choice==1:\n",
    "        print(\"tack your biscuit\")\n",
    "        money_in_hand=money_in_hand-4\n",
    "    elif choice==2:\n",
    "            print(\"tack ur chips\")\n",
    "            money_in_hand=money_in_hand-5\n",
    "    elif choice==3:\n",
    "                print(\"tack yr radbul\")\n",
    "                money_in_hand=money_in_hand-10\n",
    "    elif choice==4:\n",
    "                print(\"tack yr coke\")\n",
    "                money_in_hand=money_in_hand-8\n",
    "    else:\n",
    "                    print(\"u have not entered the correct choice\")\n",
    "                    print(\"you dont have enough blance in ur wallet\")\n",
    "                "
   ]
  },
  {
   "cell_type": "code",
   "execution_count": null,
   "id": "7ba1ab2f",
   "metadata": {},
   "outputs": [
    {
     "name": "stdout",
     "output_type": "stream",
     "text": [
      "enter s to stop the timer\n",
      "enter s for stop5\n",
      "enter s to stop the timer\n"
     ]
    }
   ],
   "source": [
    "import time\n",
    "s=5\n",
    "stop=False\n",
    "while not stop:\n",
    "    print(\"enter s to stop the timer\")\n",
    "    time.sleep(1)\n",
    "    press_stop=input(\"enter s for stop\")\n",
    "    \n",
    "    if press_stop.lower()==s:\n",
    "        stop=True\n",
    "        print(\"start the class break is over\")\n"
   ]
  },
  {
   "cell_type": "raw",
   "id": "fd1cd341",
   "metadata": {},
   "source": [
    "a=input(\"enter email id:\")\n",
    "b=input(\"enter password:\")\n",
    "if email_id==a:\n",
    "    if password==b:\n",
    "        print(\"its correct \")\n",
    "        elif:\n",
    "            print(\"try one more\")\n",
    "            elif:\n",
    "                print(\"try ones again\")\n",
    "                elif:\n",
    "                    print(\"try ones again\")\n",
    "                    else:\n",
    "                        print(\"locked your account\")\n"
   ]
  },
  {
   "cell_type": "code",
   "execution_count": 1,
   "id": "77cb41fb",
   "metadata": {},
   "outputs": [
    {
     "name": "stdout",
     "output_type": "stream",
     "text": [
      "enter ur id fdwf\n",
      " your id is incorrect\n"
     ]
    }
   ],
   "source": [
    "user_id=\"pooja\"\n",
    "password=\"pooja@219\"\n",
    "counter=3\n",
    "user_id_check=False\n",
    "userid=input(\"enter ur id \")\n",
    "while counter<=3:\n",
    "    if  userid==user_id:\n",
    "         user_id_check==True\n",
    "    else:\n",
    "        print(\" your id is incorrect\")\n",
    "        break\n",
    "    if user_id_check==True :\n",
    "            pswd=input(\"enter paswoed\")\n",
    "            if pswd==password:\n",
    "                print(\"you have logged in successfully\")\n",
    "                break\n",
    "                counter=counter+1\n",
    "if counter>3:\n",
    "        print(\"you have attemped maximum time and ur account is locked\")"
   ]
  },
  {
   "cell_type": "code",
   "execution_count": 1,
   "id": "348a15a4",
   "metadata": {},
   "outputs": [
    {
     "name": "stdout",
     "output_type": "stream",
     "text": [
      "enter to do tasky\n",
      "enter n if u want to add in todo list or enter y if you dont want to addn\n",
      "enter to do taskg\n",
      "enter n if u want to add in todo list or enter y if you dont want to addy\n",
      "my todo list is: ['y', 'g']\n"
     ]
    }
   ],
   "source": [
    "todo_list=[]\n",
    "end_of_todo='n'\n",
    "while end_of_todo!='y':\n",
    "    a=input(\"enter to do task\")\n",
    "    todo_list.append(a)\n",
    "    end_of_todo=input(\"enter n if u want to add in todo list or enter y if you dont want to add\")\n",
    "print(\"my todo list is:\",todo_list)\n"
   ]
  },
  {
   "cell_type": "markdown",
   "id": "b2149c2a",
   "metadata": {},
   "source": [
    "## recursive call"
   ]
  },
  {
   "cell_type": "code",
   "execution_count": 6,
   "id": "27472c7d",
   "metadata": {},
   "outputs": [],
   "source": [
    "def fact(n):\n",
    "    if n==0:\n",
    "        return 1\n",
    "    else:\n",
    "        return n*fact(n-1)"
   ]
  },
  {
   "cell_type": "code",
   "execution_count": 7,
   "id": "c80f54c0",
   "metadata": {},
   "outputs": [
    {
     "data": {
      "text/plain": [
       "120"
      ]
     },
     "execution_count": 7,
     "metadata": {},
     "output_type": "execute_result"
    }
   ],
   "source": [
    "fact(5)"
   ]
  },
  {
   "cell_type": "code",
   "execution_count": 8,
   "id": "7e04996d",
   "metadata": {},
   "outputs": [],
   "source": [
    "## fabonacci no\n",
    "def fib(n):\n",
    "    if n<=1:\n",
    "        return n\n",
    "    else:\n",
    "        return fib(n-2)+fib(n-1)"
   ]
  },
  {
   "cell_type": "code",
   "execution_count": 9,
   "id": "fa168242",
   "metadata": {},
   "outputs": [
    {
     "data": {
      "text/plain": [
       "5"
      ]
     },
     "execution_count": 9,
     "metadata": {},
     "output_type": "execute_result"
    }
   ],
   "source": [
    "fib(5)"
   ]
  },
  {
   "cell_type": "code",
   "execution_count": 10,
   "id": "9f2a140c",
   "metadata": {},
   "outputs": [],
   "source": [
    "## 22 and give summetion of this digits."
   ]
  },
  {
   "cell_type": "code",
   "execution_count": 18,
   "id": "aa0c4130",
   "metadata": {},
   "outputs": [],
   "source": [
    "def sum(n):\n",
    "    if n!=0:\n",
    "        d=n%10\n",
    "        sum=sum+d\n",
    "    return sum   "
   ]
  },
  {
   "cell_type": "code",
   "execution_count": null,
   "id": "5c10703a",
   "metadata": {},
   "outputs": [],
   "source": []
  },
  {
   "cell_type": "code",
   "execution_count": 19,
   "id": "8b143a8d",
   "metadata": {},
   "outputs": [],
   "source": [
    "def sum_digit(n):\n",
    "    if n<=9:\n",
    "        return n\n",
    "    else:\n",
    "        return n%10 +sum_digit(n//10)"
   ]
  },
  {
   "cell_type": "code",
   "execution_count": 20,
   "id": "b4afeb57",
   "metadata": {},
   "outputs": [
    {
     "data": {
      "text/plain": [
       "7"
      ]
     },
     "execution_count": 20,
     "metadata": {},
     "output_type": "execute_result"
    }
   ],
   "source": [
    " sum_digit(322)"
   ]
  },
  {
   "cell_type": "code",
   "execution_count": 23,
   "id": "46034e42",
   "metadata": {},
   "outputs": [],
   "source": [
    "## find maximum no with recursive call\n",
    "l=[3,4,5,6,76]\n",
    "def max_find(l):\n",
    "    if len(l)==1:\n",
    "        return l[0]\n",
    "    else:\n",
    "        return max(l[0],max_find(l[1:]))\n"
   ]
  },
  {
   "cell_type": "code",
   "execution_count": 24,
   "id": "dd35bcba",
   "metadata": {},
   "outputs": [
    {
     "data": {
      "text/plain": [
       "77"
      ]
     },
     "execution_count": 24,
     "metadata": {},
     "output_type": "execute_result"
    }
   ],
   "source": [
    "max_find([2,3,4,55,6,77])"
   ]
  },
  {
   "cell_type": "code",
   "execution_count": 29,
   "id": "f99d2b4a",
   "metadata": {},
   "outputs": [],
   "source": [
    "## power of k find\n",
    "def power_fun(n,k):\n",
    "    if k==0:\n",
    "        return 1\n",
    "    else:\n",
    "        return n*power_fun(n,k-1)"
   ]
  },
  {
   "cell_type": "code",
   "execution_count": 30,
   "id": "1dbede01",
   "metadata": {},
   "outputs": [
    {
     "data": {
      "text/plain": [
       "1024"
      ]
     },
     "execution_count": 30,
     "metadata": {},
     "output_type": "execute_result"
    }
   ],
   "source": [
    "power_fun(4,5)"
   ]
  },
  {
   "cell_type": "code",
   "execution_count": 31,
   "id": "af1ed90e",
   "metadata": {},
   "outputs": [
    {
     "data": {
      "text/plain": [
       "8"
      ]
     },
     "execution_count": 31,
     "metadata": {},
     "output_type": "execute_result"
    }
   ],
   "source": [
    "power_fun(2,3)"
   ]
  },
  {
   "cell_type": "code",
   "execution_count": null,
   "id": "03d4d05e",
   "metadata": {},
   "outputs": [],
   "source": []
  }
 ],
 "metadata": {
  "kernelspec": {
   "display_name": "Python 3 (ipykernel)",
   "language": "python",
   "name": "python3"
  },
  "language_info": {
   "codemirror_mode": {
    "name": "ipython",
    "version": 3
   },
   "file_extension": ".py",
   "mimetype": "text/x-python",
   "name": "python",
   "nbconvert_exporter": "python",
   "pygments_lexer": "ipython3",
   "version": "3.11.3"
  }
 },
 "nbformat": 4,
 "nbformat_minor": 5
}
