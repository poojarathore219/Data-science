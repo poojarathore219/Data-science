{
 "cells": [
  {
   "cell_type": "code",
   "execution_count": 1,
   "id": "34594cc1-3f32-48d1-912b-a90ee57b003e",
   "metadata": {},
   "outputs": [],
   "source": [
    "#1. Given an array, check if it contains any duplicates or not.\n",
    "arr = [1, 2, 4, 2, 5, 9]\n",
    "Output = True"
   ]
  },
  {
   "cell_type": "code",
   "execution_count": 1,
   "id": "e38b4949-0a77-40bd-84dd-899e44bc1612",
   "metadata": {},
   "outputs": [
    {
     "name": "stdout",
     "output_type": "stream",
     "text": [
      "[1, 2, 4, 5, 9]\n"
     ]
    }
   ],
   "source": [
    "dup=[]\n",
    "arr = [1, 2, 4, 2, 5, 9]\n",
    "for i in arr:\n",
    "    if i not in dup:\n",
    "        dup.append(i)\n",
    "print(dup)\n",
    "\n",
    "            "
   ]
  },
  {
   "cell_type": "code",
   "execution_count": 2,
   "id": "a975b601-fe06-45c8-8561-24802e819580",
   "metadata": {},
   "outputs": [],
   "source": [
    "## remove dublicate array with out extra data structure\n",
    "\n",
    "arr = [1, 2, 4, 2, 5, 9]\n",
    "def  dublicate(arr):\n",
    "    for i in range (len(arr)):\n",
    "        for j in range(i+1,len(arr)):\n",
    "            if arr[i]==arr[j]:\n",
    "                return arr.remove(arr[j])\n",
    "            j=j+1\n",
    "        else:\n",
    "            j=j+1\n",
    "        \n",
    "    i=i+1\n",
    "            \n",
    "    \n",
    "        "
   ]
  },
  {
   "cell_type": "code",
   "execution_count": 3,
   "id": "cf48d20a-fb7a-455d-a4a9-b09cdf2b5cf4",
   "metadata": {},
   "outputs": [
    {
     "name": "stdout",
     "output_type": "stream",
     "text": [
      "[1, 4, 2, 5, 9]\n"
     ]
    }
   ],
   "source": [
    "arr = [1, 2, 4, 2, 5, 9]\n",
    "dublicate(arr)\n",
    "print(arr)"
   ]
  },
  {
   "cell_type": "code",
   "execution_count": 11,
   "id": "9c8e8770-a92c-4382-bc92-276f285e1e8f",
   "metadata": {
    "tags": []
   },
   "outputs": [
    {
     "name": "stdout",
     "output_type": "stream",
     "text": [
      "True\n"
     ]
    }
   ],
   "source": [
    "## if arr contain dublicates so return True or False\n",
    "arr1=[]\n",
    "arr = [1, 2, 4, 2, 5, 9]\n",
    "for i in arr:\n",
    "    if i not in arr1:\n",
    "        arr1.append(i)\n",
    "    elif arr==arr1:\n",
    "        \n",
    "         print(False)\n",
    "    else:\n",
    "        print(True)"
   ]
  },
  {
   "cell_type": "code",
   "execution_count": 12,
   "id": "4377951e-e35c-4200-8e06-0df600f02ee8",
   "metadata": {
    "tags": []
   },
   "outputs": [],
   "source": [
    "#2. Given an array and an integer k, rotate the array to the right by k steps.\n",
    "#arr = [1, 2, 3, 4, 5, 6, 7] k = 3\n",
    "#Output = [5, 6, 7, 1, 2, 3, 4]\n",
    "arr= [1, 2, 3, 4, 5, 6, 7]\n",
    "def right_roted(arr,n):\n",
    "    if n==0:\n",
    "        return arr\n",
    "    else:\n",
    "        return right_roted(arr[-1:]+arr[:-1],n-1)\n",
    "\n"
   ]
  },
  {
   "cell_type": "code",
   "execution_count": 48,
   "id": "d178151c-f2e6-4579-83fc-8ae7dc962287",
   "metadata": {
    "tags": []
   },
   "outputs": [
    {
     "data": {
      "text/plain": [
       "[5, 6, 7, 1, 2, 3, 4]"
      ]
     },
     "execution_count": 48,
     "metadata": {},
     "output_type": "execute_result"
    }
   ],
   "source": [
    "right_roted(arr,3)"
   ]
  },
  {
   "cell_type": "code",
   "execution_count": null,
   "id": "ed4c43bb-56dd-4116-a2dd-172a9deda324",
   "metadata": {},
   "outputs": [],
   "source": [
    "## roted arr by right k=3\n",
    "arr=[1,2,3,4,5]\n",
    "def Rotedarr(arr,k):\n",
    "    k = k%len(arr)\n",
    "    for i in range(k):\n",
    "        prev=arr[0]\n",
    "        curr=arr[0]\n",
    "        arr[0]=arr[len(arr)-1]\n",
    "        j=1\n",
    "        while(j<len(arr)):\n",
    "            curr=arr[j]\n",
    "            arr[j]=prev\n",
    "    j=j+1"
   ]
  },
  {
   "cell_type": "code",
   "execution_count": null,
   "id": "8efae4d8-a295-42fd-b667-9118320fd31d",
   "metadata": {
    "tags": []
   },
   "outputs": [],
   "source": [
    "arr=[1,2,3,4,5]\n",
    "Rotedarr(arr,3)\n",
    "print(arr)"
   ]
  },
  {
   "cell_type": "code",
   "execution_count": 24,
   "id": "1c8a684c-fa3a-4c35-811c-189845d63fc9",
   "metadata": {},
   "outputs": [
    {
     "ename": "IndentationError",
     "evalue": "unindent does not match any outer indentation level (<tokenize>, line 17)",
     "output_type": "error",
     "traceback": [
      "\u001b[0;36m  File \u001b[0;32m<tokenize>:17\u001b[0;36m\u001b[0m\n\u001b[0;31m    reversarr(arr,0,k-1)#  revers array k times\u001b[0m\n\u001b[0m    ^\u001b[0m\n\u001b[0;31mIndentationError\u001b[0m\u001b[0;31m:\u001b[0m unindent does not match any outer indentation level\n"
     ]
    }
   ],
   "source": [
    "## roted array by right  where k=3\n",
    "arr = [2, 4, 5, 7, 9, 12]\n",
    "# hear we using 2 pointer approches\n",
    "def reversarr(arr,i,j):\n",
    "    i=0\n",
    "    j=len(arr)-1\n",
    "    while(i<j):\n",
    "        arr[i],arr[j]=arr[j],arr[i]\n",
    "        i=i+1\n",
    "        j=j-1\n",
    "        \n",
    "\n",
    "\n",
    "def roted(arr,k):\n",
    "    k =int( k % len(arr))\n",
    "         reversarr(arr,k,len(arr)-1) # revers  remaining array\n",
    "         reversarr(arr,0,k-1)#  revers array k times\n",
    "         reversarr(arr,0,len(arr)-1) # reverse array\n",
    "\n",
    "\n",
    "\n",
    "\n",
    "\n",
    "    "
   ]
  },
  {
   "cell_type": "code",
   "execution_count": 25,
   "id": "24ca9c06-ee0a-4449-a300-0c19aa7d8db5",
   "metadata": {},
   "outputs": [
    {
     "ename": "TypeError",
     "evalue": "reversarr() takes 1 positional argument but 3 were given",
     "output_type": "error",
     "traceback": [
      "\u001b[0;31m---------------------------------------------------------------------------\u001b[0m",
      "\u001b[0;31mTypeError\u001b[0m                                 Traceback (most recent call last)",
      "Cell \u001b[0;32mIn[25], line 1\u001b[0m\n\u001b[0;32m----> 1\u001b[0m \u001b[43mroted\u001b[49m\u001b[43m(\u001b[49m\u001b[43marr\u001b[49m\u001b[43m,\u001b[49m\u001b[43mk\u001b[49m\u001b[43m)\u001b[49m\n\u001b[1;32m      2\u001b[0m \u001b[38;5;28mprint\u001b[39m(arr)\n",
      "Cell \u001b[0;32mIn[15], line 17\u001b[0m, in \u001b[0;36mroted\u001b[0;34m(arr, k)\u001b[0m\n\u001b[1;32m     14\u001b[0m \u001b[38;5;28;01mdef\u001b[39;00m \u001b[38;5;21mroted\u001b[39m(arr,k):\n\u001b[1;32m     15\u001b[0m     k \u001b[38;5;241m=\u001b[39m\u001b[38;5;28mint\u001b[39m( k \u001b[38;5;241m%\u001b[39m \u001b[38;5;28mlen\u001b[39m(arr))\n\u001b[0;32m---> 17\u001b[0m     \u001b[43mreversarr\u001b[49m\u001b[43m(\u001b[49m\u001b[43marr\u001b[49m\u001b[43m,\u001b[49m\u001b[38;5;241;43m0\u001b[39;49m\u001b[43m,\u001b[49m\u001b[43mk\u001b[49m\u001b[38;5;241;43m-\u001b[39;49m\u001b[38;5;241;43m1\u001b[39;49m\u001b[43m)\u001b[49m\u001b[38;5;66;03m#  revers array k times\u001b[39;00m\n\u001b[1;32m     18\u001b[0m     reversarr(arr,k,\u001b[38;5;28mlen\u001b[39m(arr)\u001b[38;5;241m-\u001b[39m\u001b[38;5;241m1\u001b[39m) \u001b[38;5;66;03m# revers  remaining array\u001b[39;00m\n\u001b[1;32m     19\u001b[0m     reversarr(arr,\u001b[38;5;241m0\u001b[39m,\u001b[38;5;28mlen\u001b[39m(arr)\u001b[38;5;241m-\u001b[39m\u001b[38;5;241m1\u001b[39m)\n",
      "\u001b[0;31mTypeError\u001b[0m: reversarr() takes 1 positional argument but 3 were given"
     ]
    }
   ],
   "source": [
    "roted(arr,k)\n",
    "print(arr)"
   ]
  },
  {
   "cell_type": "code",
   "execution_count": null,
   "id": "b0660bfc-32f9-4ffa-a7f0-5004c241ce8c",
   "metadata": {},
   "outputs": [],
   "source": [
    "\n"
   ]
  },
  {
   "cell_type": "code",
   "execution_count": 17,
   "id": "cb1a063f-2903-4054-b094-7253b10ff67f",
   "metadata": {},
   "outputs": [
    {
     "name": "stdout",
     "output_type": "stream",
     "text": [
      "[9, 12, 2, 4, 5, 7]\n"
     ]
    }
   ],
   "source": [
    "def reverse_arr(arr, start, end):\n",
    "    while start < end:\n",
    "        arr[start], arr[end] = arr[end], arr[start]\n",
    "        start += 1\n",
    "        end -= 1\n",
    "\n",
    "def rotate_right(arr, k):\n",
    "    n = len(arr)\n",
    "    k = k % n\n",
    "\n",
    "    # Reverse the last k elements\n",
    "    reverse_arr(arr, n - k, n - 1)\n",
    "\n",
    "    # Reverse the first (n-k) elements\n",
    "    reverse_arr(arr, 0, n - k - 1)\n",
    "\n",
    "    # Reverse the entire array\n",
    "    reverse_arr(arr, 0, n - 1)\n",
    "\n",
    "# Example usage:\n",
    "arr = [2, 4, 5, 7, 9, 12]\n",
    "rotate_right(arr, 2)\n",
    "print(arr)\n",
    "\n"
   ]
  },
  {
   "cell_type": "code",
   "execution_count": 18,
   "id": "5b39a3e5-5090-4d4d-9e31-0a77ce391619",
   "metadata": {
    "tags": []
   },
   "outputs": [],
   "source": [
    "#3. Reverse the given array in-place, means without using any extra data structure.\n",
    "#arr = [2, 4, 5, 7, 9, 12]\n",
    "#Output = [12, 9, 7, 5, 4, 2]\n",
    "arr = [2, 4, 5, 7, 9, 12]\n",
    "# hear we using 2 pointer approches\n",
    "def reversarr(arr):\n",
    "    i=0\n",
    "    j=len(arr)-1\n",
    "    while(i<j):\n",
    "        arr[i],arr[j]=arr[j],arr[i]\n",
    "        i=i+1\n",
    "        j=j-1\n",
    "        \n",
    "    \n"
   ]
  },
  {
   "cell_type": "code",
   "execution_count": 15,
   "id": "cb24d363-defa-4ba2-99b5-f01bda2a0f2a",
   "metadata": {},
   "outputs": [
    {
     "name": "stdout",
     "output_type": "stream",
     "text": [
      "[12, 9, 7, 5, 4, 2]\n"
     ]
    }
   ],
   "source": [
    "reversarr(arr)\n",
    "print(arr)"
   ]
  },
  {
   "cell_type": "code",
   "execution_count": 80,
   "id": "f010440c-5b1e-439a-b96c-5c55cd357994",
   "metadata": {},
   "outputs": [
    {
     "data": {
      "text/plain": [
       "20"
      ]
     },
     "execution_count": 80,
     "metadata": {},
     "output_type": "execute_result"
    }
   ],
   "source": [
    "#4. Given an array of integers, find the maximum element in an array\n",
    "arr = [10, 5, 20, 8, 15]\n",
    "#Output = 20\n",
    "max(arr)"
   ]
  },
  {
   "cell_type": "code",
   "execution_count": 81,
   "id": "ba845367-8223-49d0-ad33-0c56cfac5d4a",
   "metadata": {},
   "outputs": [
    {
     "data": {
      "text/plain": [
       "{1, 2, 3, 4, 5}"
      ]
     },
     "execution_count": 81,
     "metadata": {},
     "output_type": "execute_result"
    }
   ],
   "source": [
    "#sorted array, remove the duplicate element without using any extra data structure.\n",
    "arr = [1, 1, 2, 2, 2, 3, 3, 4, 4, 4, 5, 5]\n",
    "#Output = [1, 2, 3, 4, 5]\n",
    "set(arr)"
   ]
  },
  {
   "cell_type": "code",
   "execution_count": 43,
   "id": "1b989be5-307b-4910-bfcc-8c1fc88c633e",
   "metadata": {},
   "outputs": [
    {
     "name": "stdout",
     "output_type": "stream",
     "text": [
      "20\n"
     ]
    }
   ],
   "source": [
    "# find maximun element fron an array\n",
    "arr = [10, 5, 20, 8, 15]\n",
    "max=arr[0]\n",
    "for i in range(1,len(arr)):\n",
    "     if arr[i]>max:\n",
    "        max=arr[i]\n",
    "print(max)\n",
    "    "
   ]
  },
  {
   "cell_type": "code",
   "execution_count": 33,
   "id": "a5dc89be-a1b7-4774-914f-6eddb9592a4b",
   "metadata": {},
   "outputs": [],
   "source": []
  },
  {
   "cell_type": "code",
   "execution_count": null,
   "id": "51711141-8c10-4dc3-a6a3-17f9c0f6321a",
   "metadata": {},
   "outputs": [],
   "source": []
  }
 ],
 "metadata": {
  "kernelspec": {
   "display_name": "Python 3 (ipykernel)",
   "language": "python",
   "name": "python3"
  },
  "language_info": {
   "codemirror_mode": {
    "name": "ipython",
    "version": 3
   },
   "file_extension": ".py",
   "mimetype": "text/x-python",
   "name": "python",
   "nbconvert_exporter": "python",
   "pygments_lexer": "ipython3",
   "version": "3.10.8"
  }
 },
 "nbformat": 4,
 "nbformat_minor": 5
}
